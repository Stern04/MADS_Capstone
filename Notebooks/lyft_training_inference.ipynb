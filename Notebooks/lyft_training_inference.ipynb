{
 "cells": [
  {
   "cell_type": "markdown",
   "metadata": {},
   "source": [
    "# In this Notebook, we assume either lyft_preprocessing.ipynb has been run to produced the processed images or you have directly downloaded the processed images. The whole notebook outline is provided below. \n",
    "# The main steps this Notebook walks you through are: \n",
    "* Importing a plug and play Pytorch Resnet50 model for binary Image Classification where the positive category is Pedestrian\n",
    "* Training a model on CPU or GPU if available\n",
    "* Load the various trained models and apply them to a Validation set to experiment with model Inference\n",
    "* Analyze results\n",
    "\n",
    "- Imports and inital data read.\n",
    "- With our Data Processing finished, we now shift to create and train our models.\n",
    "- Define our custom Dataset classes for image classification and object detection.\n",
    "- Read in our data with an instance of our Lyft_image_classification_CustomDataset class.\n",
    "    - Each Dataset instance will instantiated with the model it will be given to in mind. For example, our ResNet model is designed for image classification where the full object is centered in the image.\n",
    "      - Remind ourselves what dataloader actually is. It is a grouping of binary labels indicating target category and the corresponding images as tensors.\n",
    "      - Print out the first 5 batches and observe the amount of positive and negative labels. With 9 categories, it is not surprising that the positive labels are outnumbered. Still, our basic Resnet50 model below does well.\n",
    "- Image Classificaiton\n",
    "  - Import a ResNet50 model and train it on our images with the category object centered.\n",
    "    - First, check if GPU is available and move the model to GPU if it is\n",
    "  - Train\n",
    "  - Train Results\n",
    "    - Load all of the trained models back in and stich their results together into a summary df.\n",
    "      - WARNING: The cell below will overwrite \"all_model_results.csv\" if you have alreayd created it.\n",
    "- Validation/Inference\n",
    "  - Visualize the performance metrics either for training or validation\n",
    "    - F1 Score heatmap\n",
    "    - Visualize the output of the first layer which is a convolution layer with kernel 7x7. This is just to remind us what we are dealing with.\n",
    "    - Validation/Inference Results\n",
    "- Object Detection\n",
    "    - Heatmap. Note: We use both training and validation data to aggregate a heat map. The heat map itelf isn't involved as a parameter in the model. This is simply just using a greater sample size to determine the places within the full sized images that are most and least likely for pedestrians to occur. This way, we can decrease the image space that our model will scan for each image.\n",
    "  - Import FasterRCNN model.\n",
    "  - Create our Dataset and Dataloader objects for object detection\n",
    "  - Train"
   ]
  },
  {
   "cell_type": "markdown",
   "metadata": {},
   "source": [
    "# Imports and inital data read."
   ]
  },
  {
   "cell_type": "code",
   "execution_count": 6,
   "metadata": {},
   "outputs": [],
   "source": [
    "import ast\n",
    "from collections import Counter\n",
    "import json\n",
    "import os\n",
    "from pathlib import Path\n",
    "import pandas as pd\n",
    "from PIL import Image\n",
    "import numpy as np\n",
    "import random\n",
    "import re\n",
    "import time\n",
    "\n",
    "#Data visualization libraries\n",
    "import plotly.express as px\n",
    "import matplotlib.pyplot as plt\n",
    "\n",
    "#Pytorch\n",
    "import torch\n",
    "from torch import nn\n",
    "from torch.optim import Adam\n",
    "from torch.utils.data import DataLoader\n",
    "from torch.utils.data import Dataset\n",
    "from torch.utils.data.dataloader import default_collate\n",
    "from torchvision import models\n",
    "from torchvision.models.resnet import ResNet50_Weights\n",
    "from torchvision.models.detection import fasterrcnn_resnet50_fpn\n",
    "from torchvision.models.detection.faster_rcnn import FastRCNNPredictor, FasterRCNN_ResNet50_FPN_Weights\n",
    "import torchvision.transforms as transforms\n",
    "\n",
    "# Load the SDK\n",
    "from lyft_dataset_sdk.lyftdataset import LyftDataset"
   ]
  },
  {
   "cell_type": "code",
   "execution_count": 7,
   "metadata": {},
   "outputs": [],
   "source": [
    "# Set the option to display all rows\n",
    "pd.set_option('display.max_rows', None)"
   ]
  },
  {
   "cell_type": "markdown",
   "metadata": {},
   "source": [
    "# Set user_path_prefix variable. This variable must be set in order to make all filepaths relative!"
   ]
  },
  {
   "cell_type": "code",
   "execution_count": 8,
   "metadata": {},
   "outputs": [],
   "source": [
    "user_path_prefix = r\"S:\\MADS\\Capstone\""
   ]
  },
  {
   "cell_type": "markdown",
   "metadata": {},
   "source": [
    "# With our Data Processing finished, we now shift to create and train our models."
   ]
  },
  {
   "cell_type": "code",
   "execution_count": 9,
   "metadata": {},
   "outputs": [
    {
     "name": "stdout",
     "output_type": "stream",
     "text": [
      "9 category,\n",
      "18 attribute,\n",
      "4 visibility,\n",
      "18421 instance,\n",
      "10 sensor,\n",
      "148 calibrated_sensor,\n",
      "177789 ego_pose,\n",
      "180 log,\n",
      "180 scene,\n",
      "22680 sample,\n",
      "189504 sample_data,\n",
      "638179 sample_annotation,\n",
      "1 map,\n",
      "Done loading in 8.2 seconds.\n",
      "======\n",
      "Reverse indexing ...\n",
      "Done reverse indexing in 2.6 seconds.\n",
      "======\n"
     ]
    }
   ],
   "source": [
    "data_path = os.path.join(user_path_prefix, r\"3d-object-detection-for-autonomous-vehicles\\Train\")\n",
    "json_path = os.path.join(user_path_prefix, \"3d-object-detection-for-autonomous-vehicles\\Train\\data\")\n",
    "lyftdata = LyftDataset(data_path=data_path, json_path=json_path, verbose=True)"
   ]
  },
  {
   "cell_type": "markdown",
   "metadata": {},
   "source": [
    "# Define our custom Dataset classes for image classification and object detection."
   ]
  },
  {
   "cell_type": "code",
   "execution_count": 10,
   "metadata": {},
   "outputs": [],
   "source": [
    "class Lyft_image_classification_CustomDataset(Dataset):\n",
    "    \"\"\"\n",
    "    A custom dataset class for image classification, specifically designed to handle\n",
    "    Lyft's cropped images for a binary classification task.\n",
    "\n",
    "    This class is a subclass of `torch.utils.data.Dataset` and is meant to be used\n",
    "    with PyTorch's DataLoader to facilitate batch processing and data shuffling.\n",
    "\n",
    "    Parameters:\n",
    "    -----------\n",
    "    cropped_images_dir (str): The directory path where cropped images are stored.\n",
    "    target_category_name (str): The name of the target category for classification.\n",
    "    required_size (int, optional): The size to which images should be sized. Default is 224.\n",
    "\n",
    "    Notes:\n",
    "    ------\n",
    "    The dataset assumes that images are stored in subdirectories within `cropped_images_dir`,\n",
    "    where each subdirectory name begins with the category name of the images it contains.\n",
    "    The class uses this naming convention to assign labels to images.\n",
    "    \"\"\"\n",
    "    \n",
    "    def __init__(self, cropped_images_dir, target_category_name, required_size=224):\n",
    "        self.cropped_images_dir = cropped_images_dir\n",
    "        self.required_size = required_size\n",
    "        self.image_filenames = os.listdir(cropped_images_dir)\n",
    "        self.data = []\n",
    "        for category_folder in os.listdir(cropped_images_dir):\n",
    "            category_dir = os.path.join(cropped_images_dir, category_folder)\n",
    "            if os.path.isdir(category_dir):  # Check if it's a directory\n",
    "                category_name = category_folder.split(\"_\")[0]\n",
    "                is_target_category = category_name == target_category_name\n",
    "                label = 1 if is_target_category else 0\n",
    "\n",
    "                for filename in os.listdir(category_dir):\n",
    "                    file_path = os.path.join(category_dir, filename)\n",
    "                    if os.path.isfile(file_path):  # Check if it's a file\n",
    "                        self.data.append((file_path, label))\n",
    "\n",
    "    def __len__(self):\n",
    "        return len(self.data)\n",
    "\n",
    "    def __getitem__(self, idx):\n",
    "        img_path, label = self.data[idx]\n",
    "        image = Image.open(img_path).convert(\"RGB\")\n",
    "        image_name = re.search(r'([^\\\\]+)(?=\\.\\w+$)', img_path).group(1)\n",
    "\n",
    "        # Convert the image to tensor and normalize\n",
    "        image = transforms.ToTensor()(image)\n",
    "        image = transforms.Normalize(mean=[0.485, 0.456, 0.406], std=[0.229, 0.224, 0.225])(image)\n",
    "\n",
    "        return image, label, image_name"
   ]
  },
  {
   "cell_type": "code",
   "execution_count": 11,
   "metadata": {},
   "outputs": [],
   "source": [
    "# Define a function for default transformations. It is convention to not define transforms within the Dataset class.\n",
    "def default_transform():\n",
    "    return transforms.Compose([\n",
    "        transforms.ToTensor(),\n",
    "        transforms.Normalize(mean=[0.485, 0.456, 0.406], std=[0.229, 0.224, 0.225])\n",
    "    ])\n",
    "\n",
    "class Lyft_binary_object_detection_CustomDataset(Dataset):\n",
    "    \"\"\"\n",
    "    A custom dataset class for binary object detection tasks, specifically designed for Lyft's data structure.\n",
    "\n",
    "    This class works with PyTorch's DataLoader to efficiently handle data during model training. It is tailored for a data format where each image is associated with bounding box coordinates and binary labels, \n",
    "    along with placeholders for predicted data.\n",
    "\n",
    "    Parameters:\n",
    "    -----------\n",
    "    image_box_lookup (dict): A dictionary containing image file paths and corresponding bounding box, label, and placeholder data for predictions. Labels should be binary (1 or 0).\n",
    "    images_base_path (str): Base directory path where image files are stored.\n",
    "    transform (callable, optional): A transform to be applied on each image. If None, default_transform is used.\n",
    "    random_sample (float, optional): A fraction (between 0 and 1) of the dataset to randomly sample. If None, the entire dataset is used.\n",
    "    positive_imgs_only (bool, optional): If True, only includes images with at least one instance of the positive class (label==1).\n",
    "\n",
    "    Notes:\n",
    "    ------\n",
    "    - The transform function is expected to handle the conversion of images to tensors and their normalization.\n",
    "    - 'image_box_lookup' format: Keys are image filenames and values are dictionaries with 'boxes' (list of coordinates), \n",
    "      'labels' (list of int, 0 or 1), and placeholders for 'predicted_boxes' and 'predicted_labels' (initially empty lists).\n",
    "    - If 'positive_imgs_only' is True, the dataset is filtered to include only images with at least one positive instance. This can reduce total training time.\n",
    "    - If 'random_sample' is provided, the dataset is subsampled to the specified fraction. This can reduce total training time, and is good for experimentation.\n",
    "    - This class assumes binary classification within object detection, with labels 0 or 1.\n",
    "\n",
    "    Example of 'image_box_lookup' structure:\n",
    "    {\n",
    "        \"image1.jpg\": {\n",
    "            \"boxes\": [[x1, y1, x2, y2], ...], \n",
    "            \"labels\": [1, 0, ...],\n",
    "            \"predicted_boxes\": [],\n",
    "            \"predicted_labels\": []\n",
    "        },\n",
    "        \"image2.jpg\": {\n",
    "            \"boxes\": [[x1, y1, x2, y2], ...], \n",
    "            \"labels\": [0, 1, ...],\n",
    "            \"predicted_boxes\": [],\n",
    "            \"predicted_labels\": []\n",
    "        },\n",
    "        ...\n",
    "    }\n",
    "    \"\"\"\n",
    "\n",
    "    def __init__(self, image_box_lookup, images_base_path, transform=None, random_sample = None, positive_imgs_only = False):\n",
    "        self.images_base_path = images_base_path\n",
    "        self.transform = transform if transform else default_transform()\n",
    "        self.image_box_lookup = image_box_lookup\n",
    "        if positive_imgs_only:\n",
    "            positive_images = []\n",
    "            for k, v in self.image_box_lookup.items():\n",
    "                labels = v[\"labels\"]\n",
    "                if any(labels):\n",
    "                    positive_images.append(k)\n",
    "            self.image_box_lookup = {k: self.image_box_lookup[k] for k in positive_images}\n",
    "\n",
    "        if random_sample:\n",
    "            # Ensure random_sample is a valid fraction\n",
    "            if not (0 < random_sample <= 1):\n",
    "                raise ValueError(\"random_sample must be a decimal between 0 and 1.\")\n",
    "\n",
    "            # Randomly sample the specified fraction of data\n",
    "            total_items = len(self.image_box_lookup)\n",
    "            sample_size = int(total_items * random_sample)\n",
    "            sampled_items = random.sample(list(self.image_box_lookup.items()), sample_size)\n",
    "            self.image_box_lookup = dict(sampled_items)\n",
    "\n",
    "        self.file_names = self.image_box_lookup.keys()\n",
    "\n",
    "\n",
    "\n",
    "    def __len__(self):\n",
    "        return len(self.image_box_lookup)\n",
    "\n",
    "    def __getitem__(self, idx):\n",
    "        image_name = list(self.image_box_lookup.keys())[idx]\n",
    "        image_path = os.path.join(self.images_base_path, image_name)\n",
    "        image = Image.open(image_path).convert(\"RGB\")  # Convert image to RGB just in case.\n",
    "        # Convert the image to tensor and normalize (if transform is given)\n",
    "        image = self.transform(image)\n",
    "\n",
    "\n",
    "        # Retrieve boxes and labels for the image\n",
    "        boxes = torch.as_tensor(self.image_box_lookup[image_name]['boxes'], dtype=torch.float32)\n",
    "        labels = torch.as_tensor(self.image_box_lookup[image_name]['labels'], dtype=torch.int64)\n",
    "\n",
    "        # Ensure labels tensor is always 1D\n",
    "        if len(labels.shape) == 0:\n",
    "            labels = labels.unsqueeze(0)\n",
    "\n",
    "\n",
    "        # Create a dictionary for the targets\n",
    "        target = {}\n",
    "        target[\"boxes\"] = boxes\n",
    "        target[\"labels\"] = labels\n",
    "\n",
    "        return image, target\n"
   ]
  },
  {
   "cell_type": "markdown",
   "metadata": {},
   "source": [
    "# Read in our data with an instance of our Lyft_image_classification_CustomDataset class."
   ]
  },
  {
   "cell_type": "markdown",
   "metadata": {},
   "source": [
    "### Each Dataset instance will instantiated with the model it will be given to in mind. For example, our ResNet model is designed for image classification where the full object is centered in the image."
   ]
  },
  {
   "cell_type": "code",
   "execution_count": 12,
   "metadata": {},
   "outputs": [
    {
     "name": "stdout",
     "output_type": "stream",
     "text": [
      "total number of batches to anticipate:  756.53125\n"
     ]
    }
   ],
   "source": [
    "cropped_images_dir = os.path.join(user_path_prefix, r\"3d-object-detection-for-autonomous-vehicles\\Train\\images\\Image_Classification\\train_cropped_images\\224\")\n",
    "dataset = Lyft_image_classification_CustomDataset(cropped_images_dir, target_category_name = \"pedestrian\", required_size=224)\n",
    "batch_size = 32\n",
    "dataloader = DataLoader(dataset, batch_size=batch_size, shuffle=True)\n",
    "print(\"total number of batches to anticipate: \", len(dataset)/batch_size)"
   ]
  },
  {
   "cell_type": "markdown",
   "metadata": {},
   "source": [
    "#### Remind ourselves what dataloader actually is. It is a grouping of binary labels indicating target category and the corresponding images as tensors."
   ]
  },
  {
   "cell_type": "code",
   "execution_count": 9,
   "metadata": {},
   "outputs": [],
   "source": [
    "# for data in dataloader:\n",
    "#     data_batch_tensor = data[0]\n",
    "#     data_batch_label = data[1]\n",
    "#     break\n",
    "\n",
    "# print(len(data_batch_tensor), len(data_batch_label))\n",
    "# print(data_batch_label[0])\n",
    "# print(data_batch_tensor[0])"
   ]
  },
  {
   "cell_type": "markdown",
   "metadata": {},
   "source": [
    "#### Print out the first 5 batches and observe the amount of positive and negative labels. With 9 categories, it is not surprising that the positive labels are outnumbered. Still, our basic Resnet50 model below does well."
   ]
  },
  {
   "cell_type": "code",
   "execution_count": 13,
   "metadata": {},
   "outputs": [
    {
     "data": {
      "image/png": "[encoded data removed]",
      "text/plain": [
       "<Figure size 640x480 with 1 Axes>"
      ]
     },
     "metadata": {},
     "output_type": "display_data"
    }
   ],
   "source": [
    "sample_labels = []\n",
    "for i, data in enumerate(dataloader):\n",
    "    # print(f\"Batch {i}: Labels - {data[1]}\")\n",
    "    sample_labels.append(data[1])\n",
    "    if i == 5:  # Check first 5 batches\n",
    "        break\n",
    "\n",
    "positives = [torch.sum(tensor == 1).item() for tensor in sample_labels]\n",
    "negatives = [torch.sum(tensor == 0).item() for tensor in sample_labels]\n",
    "\n",
    "n_tensors = len(sample_labels)\n",
    "index = np.arange(n_tensors)\n",
    "bar_width = 0.35\n",
    "\n",
    "fig, ax = plt.subplots()\n",
    "bar1 = ax.bar(index, negatives, bar_width, label='0 (Negative)')\n",
    "bar2 = ax.bar(index + bar_width, positives, bar_width, label='1 (Positive)')\n",
    "\n",
    "ax.set_xlabel('Tensor Index')\n",
    "ax.set_ylabel('Frequency')\n",
    "ax.set_title('Frequency of Positive and Negative Labels per Tensor')\n",
    "ax.set_xticks(index + bar_width / 2)\n",
    "ax.set_xticklabels([f'Tensor {i+1}' for i in range(n_tensors)])\n",
    "ax.legend()\n",
    "\n",
    "plt.show()"
   ]
  },
  {
   "cell_type": "markdown",
   "metadata": {},
   "source": [
    "# Image Classificaiton "
   ]
  },
  {
   "cell_type": "markdown",
   "metadata": {},
   "source": [
    "## Import a ResNet50 model and train it on our images with the category object centered."
   ]
  },
  {
   "cell_type": "markdown",
   "metadata": {},
   "source": [
    "### First, check if GPU is available and move the model to GPU if it is"
   ]
  },
  {
   "cell_type": "code",
   "execution_count": 14,
   "metadata": {},
   "outputs": [
    {
     "name": "stdout",
     "output_type": "stream",
     "text": [
      "2048\n",
      "cuda:0\n"
     ]
    }
   ],
   "source": [
    "model_res50 = models.resnet50(weights=ResNet50_Weights.IMAGENET1K_V1)\n",
    "num_ftrs = model_res50.fc.in_features\n",
    "print(num_ftrs)\n",
    "model_res50.fc = nn.Linear(num_ftrs, 2) # Modify the last layer for binary classification\n",
    "\n",
    "device = torch.device(\"cuda:0\" if torch.cuda.is_available() else \"cpu\")\n",
    "print(device)\n",
    "model_res50 = model_res50.to(device)"
   ]
  },
  {
   "cell_type": "markdown",
   "metadata": {},
   "source": [
    "## Train"
   ]
  },
  {
   "cell_type": "code",
   "execution_count": 53,
   "metadata": {},
   "outputs": [],
   "source": [
    "def train_resnet50_classification(model_instance, num_epochs, batch_size, input_images_path, out_results_path, required_imgage_size=224, target_category_name=\"pedestrian\",\n",
    "                                  criterion=nn.CrossEntropyLoss(), learning_rate = 0.001, save_per_epoch=False):\n",
    "    \"\"\"\n",
    "    Trains a ResNet50 model for image classification tasks with specified parameters.\n",
    "\n",
    "    This function handles the training process including data loading, batch processing, loss computation, and optimization. It supports saving the model state and key metrics at the end of each epoch or after all epochs.\n",
    "\n",
    "    Parameters:\n",
    "    -----------\n",
    "    model_instance: The ResNet50 model instance to be trained.\n",
    "    num_epochs (int): The number of epochs to train the model.\n",
    "    batch_size (int): The batch size used for training.\n",
    "    input_images_path (str): Path to the directory containing training images.\n",
    "    out_results_path (str): Path where the trained model and metrics will be saved.\n",
    "    required_imgage_size (int, optional): Size that input images are expected to be in. Default is 224.\n",
    "    target_category_name (str, optional): The target category for classification. Default is \"pedestrian\".\n",
    "    criterion: Loss function used for training. Default is `nn.CrossEntropyLoss()`.\n",
    "    learning_rate (float, optional): Learning rate for the optimizer. Default is 0.001.\n",
    "    save_per_epoch (bool, optional): If True, saves the model and metrics after each epoch. Otherwise, saves after all epochs. Default is False.\n",
    "\n",
    "    Notes:\n",
    "    ------\n",
    "    - The optimizer used is Adam, and currently, there is no flexibility for choosing a different optimizer. This may be updated in future releases.\n",
    "    - The function computes and prints loss, accuracy, precision, recall, and F1 score for each epoch if save_per_epoch == True. If it is False, it only computes values for final epoch.\n",
    "    - The model and metrics are saved as a checkpoint in '.pth' format, which uses Python's pickle module for serialization.\n",
    "    - It is assumed that the input images are organized in a way that is compatible with the `Lyft_image_classification_CustomDataset` class.\n",
    "    \"\"\"\n",
    "\n",
    "    optimizer = Adam(model_instance.parameters(), lr=learning_rate)\n",
    "\n",
    "    for epoch in range(num_epochs):\n",
    "        #Set training mode at beginning of each epoch in case we train on validation data within epoch with requires model.eval()\n",
    "        model_instance.train()\n",
    "\n",
    "        #Creat instances of our custom Dataset and subsequent default Dataloader\n",
    "        dataset = Lyft_image_classification_CustomDataset(input_images_path, target_category_name, required_imgage_size)\n",
    "        batch_size = batch_size\n",
    "        dataloader = DataLoader(dataset, batch_size=batch_size, shuffle=True)\n",
    "        print(f\"total number of batches to anticipate for epoch {epoch}: \", len(dataset)/batch_size)\n",
    "\n",
    "        running_loss = 0.0\n",
    "        running_corrects = 0\n",
    "        running_true_positives = 0\n",
    "        running_false_positives = 0\n",
    "        running_false_negatives = 0\n",
    "\n",
    "        # Iterate over data by batch\n",
    "        # We only need inputs and labels for training. The third placeholder is for filepaths to go back and address the images that created incorrect predictions during validation/inference. We dont need it in training.\n",
    "        for inputs, labels, _ in dataloader:\n",
    "            #Make sure input data and labels are on the GPU device.\n",
    "            inputs = inputs.to(device)\n",
    "            labels = labels.to(device)\n",
    "\n",
    "            # Zero the parameter gradients\n",
    "            optimizer.zero_grad()\n",
    "\n",
    "            # Forward pass\n",
    "            outputs = model_res50(inputs)\n",
    "            loss = criterion(outputs, labels)\n",
    "\n",
    "            # Backward pass and optimize\n",
    "            loss.backward()\n",
    "            optimizer.step()\n",
    "\n",
    "            # Statistics\n",
    "            # Assuming that loss.item() is the average loss of the predictions in the batch. Multiply by batch size to get the total loss (mean(loss)*batch_size).\n",
    "            running_loss += loss.item() * inputs.size(0)\n",
    "            _, preds = torch.max(outputs, 1)\n",
    "            running_corrects += torch.sum(preds == labels.data)\n",
    "            # Calculate True Positives, False Positives, False Negatives\n",
    "            for i in range(len(labels)):\n",
    "                if preds[i] == labels[i] == 1:  # True Positive\n",
    "                    running_true_positives += 1\n",
    "                elif preds[i] == 1 and labels[i] == 0:  # False Positive\n",
    "                    running_false_positives += 1\n",
    "                elif preds[i] == 0 and labels[i] == 1:  # False Negative\n",
    "                    running_false_negatives += 1\n",
    "\n",
    "        epoch_loss = running_loss / len(dataset)\n",
    "        epoch_acc = running_corrects.double() / len(dataset)\n",
    "        # Calculate Precision, Recall, and F1 Score after the loop\n",
    "        precision = running_true_positives / (running_true_positives + running_false_positives) if (running_true_positives + running_false_positives) > 0 else 0\n",
    "        recall = running_true_positives / (running_true_positives + running_false_negatives) if (running_true_positives + running_false_negatives) > 0 else 0\n",
    "        f1_score = 2 * (precision * recall) / (precision + recall) if (precision + recall) > 0 else 0\n",
    "\n",
    "        print(f'Epoch {epoch}/{num_epochs - 1} Loss: {epoch_loss:.4f} Precision: {precision:.4f} Recall: {recall:.4f} F1 Score: {f1_score:.4f} Acc: {epoch_acc:.4f}')\n",
    "\n",
    "        if save_per_epoch:\n",
    "            # We save out the model within each epoch. This is to retain completed work if the training loop fails at some point during execution.\n",
    "            # Note: We refer to our metrics as \"final\" in case we don't finish all epochs, but they can be interpreted as \"running\" until the last epoch is complete.\n",
    "            # Save the model state and metrics in a dictionary\n",
    "            checkpoint = {\n",
    "                'model_state_dict': model_instance.state_dict(),\n",
    "                'final_loss': epoch_loss,\n",
    "                'final_accuracy': epoch_acc,\n",
    "                'final_precision': precision,\n",
    "                'final_recall': recall,\n",
    "                'final_F1': f1_score\n",
    "            }\n",
    "\n",
    "            # Save the checkpoint\n",
    "            # It is Pytorch convention to save checkpoints of model states as '.pth' which is short of 'Pytorch'. This uses Python pickle module to serialize the data.\n",
    "            model_checkpoint_name = f'model_res50_epoch_{epoch}_batchsize_{batch_size}_lr_{learning_rate}.pth'\n",
    "            model_outpath = os.path.join(out_results_path, model_checkpoint_name)\n",
    "            torch.save(checkpoint, model_outpath)\n",
    "    \n",
    "    if not save_per_epoch :\n",
    "        # All epochs have been completed. Save the model state and metrics in a dictionary\n",
    "        checkpoint = {\n",
    "            'model_state_dict': model_instance.state_dict(),\n",
    "            'final_loss': epoch_loss,\n",
    "            'final_accuracy': epoch_acc,\n",
    "            'final_precision': precision,\n",
    "            'final_recall': recall,\n",
    "            'final_F1': f1_score\n",
    "        }\n",
    "\n",
    "        # Save the checkpoint\n",
    "        # It is Pytorch convention to save checkpoints of model states as '.pth' which is short of 'Pytorch'. This uses Python pickle module to serialize the data.\n",
    "        model_checkpoint_name = f'model_res50_batchsize_{batch_size}_lr_{learning_rate}.pth'\n",
    "        model_outpath = os.path.join(out_results_path, model_checkpoint_name)\n",
    "        torch.save(checkpoint, model_outpath)\n"
   ]
  },
  {
   "cell_type": "markdown",
   "metadata": {},
   "source": [
    "### Train 9 Resnet50 models each with a different combination of 3 batch sizes and 3 learning rates"
   ]
  },
  {
   "cell_type": "code",
   "execution_count": 15,
   "metadata": {},
   "outputs": [
    {
     "name": "stdout",
     "output_type": "stream",
     "text": [
      "total number of batches to anticipate for epoch 0:  484.18\n",
      "Epoch 0/9 Loss: 0.1270 Precision: 0.8549 Recall: 0.8534 F1 Score: 0.8541 Acc: 0.9508\n",
      "total number of batches to anticipate for epoch 1:  484.18\n",
      "Epoch 1/9 Loss: 0.0930 Precision: 0.8954 Recall: 0.9004 F1 Score: 0.8979 Acc: 0.9654\n",
      "total number of batches to anticipate for epoch 2:  484.18\n",
      "Epoch 2/9 Loss: 0.0743 Precision: 0.9179 Recall: 0.9190 F1 Score: 0.9184 Acc: 0.9724\n",
      "total number of batches to anticipate for epoch 3:  484.18\n",
      "Epoch 3/9 Loss: 0.0609 Precision: 0.9304 Recall: 0.9418 F1 Score: 0.9360 Acc: 0.9783\n",
      "total number of batches to anticipate for epoch 4:  484.18\n",
      "Epoch 4/9 Loss: 0.0545 Precision: 0.9367 Recall: 0.9484 F1 Score: 0.9425 Acc: 0.9805\n",
      "total number of batches to anticipate for epoch 5:  484.18\n",
      "Epoch 5/9 Loss: 0.0488 Precision: 0.9435 Recall: 0.9518 F1 Score: 0.9476 Acc: 0.9822\n",
      "total number of batches to anticipate for epoch 6:  484.18\n",
      "Epoch 6/9 Loss: 0.0427 Precision: 0.9489 Recall: 0.9584 F1 Score: 0.9536 Acc: 0.9843\n",
      "total number of batches to anticipate for epoch 7:  484.18\n",
      "Epoch 7/9 Loss: 0.0420 Precision: 0.9497 Recall: 0.9567 F1 Score: 0.9532 Acc: 0.9841\n",
      "total number of batches to anticipate for epoch 8:  484.18\n",
      "Epoch 8/9 Loss: 0.0321 Precision: 0.9626 Recall: 0.9699 F1 Score: 0.9662 Acc: 0.9886\n",
      "total number of batches to anticipate for epoch 9:  484.18\n",
      "Epoch 9/9 Loss: 0.0293 Precision: 0.9648 Recall: 0.9716 F1 Score: 0.9682 Acc: 0.9892\n",
      "total number of batches to anticipate for epoch 0:  484.18\n",
      "Epoch 0/9 Loss: 0.1873 Precision: 0.7980 Recall: 0.7785 F1 Score: 0.7882 Acc: 0.9294\n",
      "total number of batches to anticipate for epoch 1:  484.18\n",
      "Epoch 1/9 Loss: 0.1335 Precision: 0.8407 Recall: 0.8566 F1 Score: 0.8486 Acc: 0.9484\n",
      "total number of batches to anticipate for epoch 2:  484.18\n",
      "Epoch 2/9 Loss: 0.1159 Precision: 0.8613 Recall: 0.8796 F1 Score: 0.8703 Acc: 0.9558\n",
      "total number of batches to anticipate for epoch 3:  484.18\n",
      "Epoch 3/9 Loss: 0.1005 Precision: 0.8779 Recall: 0.9011 F1 Score: 0.8894 Acc: 0.9622\n",
      "total number of batches to anticipate for epoch 4:  484.18\n",
      "Epoch 4/9 Loss: 0.0992 Precision: 0.8731 Recall: 0.8994 F1 Score: 0.8861 Acc: 0.9610\n",
      "total number of batches to anticipate for epoch 5:  484.18\n",
      "Epoch 5/9 Loss: 0.0875 Precision: 0.8911 Recall: 0.9153 F1 Score: 0.9031 Acc: 0.9668\n",
      "total number of batches to anticipate for epoch 6:  484.18\n",
      "Epoch 6/9 Loss: 0.0880 Precision: 0.8953 Recall: 0.9168 F1 Score: 0.9059 Acc: 0.9679\n",
      "total number of batches to anticipate for epoch 7:  484.18\n",
      "Epoch 7/9 Loss: 0.0773 Precision: 0.9016 Recall: 0.9266 F1 Score: 0.9139 Acc: 0.9705\n",
      "total number of batches to anticipate for epoch 8:  484.18\n",
      "Epoch 8/9 Loss: 0.0738 Precision: 0.9102 Recall: 0.9283 F1 Score: 0.9192 Acc: 0.9724\n",
      "total number of batches to anticipate for epoch 9:  484.18\n",
      "Epoch 9/9 Loss: 0.0690 Precision: 0.9156 Recall: 0.9351 F1 Score: 0.9253 Acc: 0.9745\n",
      "total number of batches to anticipate for epoch 0:  484.18\n",
      "Epoch 0/9 Loss: 0.0523 Precision: 0.9188 Recall: 0.9665 F1 Score: 0.9420 Acc: 0.9799\n",
      "total number of batches to anticipate for epoch 1:  484.18\n",
      "Epoch 1/9 Loss: 0.0441 Precision: 0.9423 Recall: 0.9594 F1 Score: 0.9508 Acc: 0.9832\n",
      "total number of batches to anticipate for epoch 2:  484.18\n",
      "Epoch 2/9 Loss: 0.0431 Precision: 0.9457 Recall: 0.9630 F1 Score: 0.9543 Acc: 0.9844\n",
      "total number of batches to anticipate for epoch 3:  484.18\n",
      "Epoch 3/9 Loss: 0.0420 Precision: 0.9457 Recall: 0.9633 F1 Score: 0.9544 Acc: 0.9845\n",
      "total number of batches to anticipate for epoch 4:  484.18\n",
      "Epoch 4/9 Loss: 0.0407 Precision: 0.9498 Recall: 0.9640 F1 Score: 0.9569 Acc: 0.9853\n",
      "total number of batches to anticipate for epoch 5:  484.18\n",
      "Epoch 5/9 Loss: 0.0400 Precision: 0.9526 Recall: 0.9643 F1 Score: 0.9584 Acc: 0.9859\n",
      "total number of batches to anticipate for epoch 6:  484.18\n",
      "Epoch 6/9 Loss: 0.0381 Precision: 0.9518 Recall: 0.9667 F1 Score: 0.9592 Acc: 0.9861\n",
      "total number of batches to anticipate for epoch 7:  484.18\n",
      "Epoch 7/9 Loss: 0.0368 Precision: 0.9542 Recall: 0.9635 F1 Score: 0.9588 Acc: 0.9860\n",
      "total number of batches to anticipate for epoch 8:  484.18\n",
      "Epoch 8/9 Loss: 0.0360 Precision: 0.9563 Recall: 0.9684 F1 Score: 0.9623 Acc: 0.9872\n",
      "total number of batches to anticipate for epoch 9:  484.18\n",
      "Epoch 9/9 Loss: 0.0359 Precision: 0.9532 Recall: 0.9679 F1 Score: 0.9605 Acc: 0.9866\n",
      "total number of batches to anticipate for epoch 0:  756.53125\n",
      "Epoch 0/9 Loss: 0.0412 Precision: 0.9508 Recall: 0.9611 F1 Score: 0.9559 Acc: 0.9850\n",
      "total number of batches to anticipate for epoch 1:  756.53125\n",
      "Epoch 1/9 Loss: 0.0348 Precision: 0.9562 Recall: 0.9682 F1 Score: 0.9622 Acc: 0.9872\n",
      "total number of batches to anticipate for epoch 2:  756.53125\n",
      "Epoch 2/9 Loss: 0.0309 Precision: 0.9618 Recall: 0.9723 F1 Score: 0.9670 Acc: 0.9888\n",
      "total number of batches to anticipate for epoch 3:  756.53125\n",
      "Epoch 3/9 Loss: 0.0269 Precision: 0.9663 Recall: 0.9755 F1 Score: 0.9709 Acc: 0.9901\n",
      "total number of batches to anticipate for epoch 4:  756.53125\n",
      "Epoch 4/9 Loss: 0.0247 Precision: 0.9695 Recall: 0.9787 F1 Score: 0.9741 Acc: 0.9912\n",
      "total number of batches to anticipate for epoch 5:  756.53125\n",
      "Epoch 5/9 Loss: 0.0209 Precision: 0.9754 Recall: 0.9809 F1 Score: 0.9782 Acc: 0.9926\n",
      "total number of batches to anticipate for epoch 6:  756.53125\n",
      "Epoch 6/9 Loss: 0.0183 Precision: 0.9786 Recall: 0.9826 F1 Score: 0.9806 Acc: 0.9934\n",
      "total number of batches to anticipate for epoch 7:  756.53125\n",
      "Epoch 7/9 Loss: 0.0180 Precision: 0.9790 Recall: 0.9834 F1 Score: 0.9812 Acc: 0.9936\n",
      "total number of batches to anticipate for epoch 8:  756.53125\n",
      "Epoch 8/9 Loss: 0.0157 Precision: 0.9820 Recall: 0.9853 F1 Score: 0.9836 Acc: 0.9945\n",
      "total number of batches to anticipate for epoch 9:  756.53125\n",
      "Epoch 9/9 Loss: 0.0122 Precision: 0.9868 Recall: 0.9860 F1 Score: 0.9864 Acc: 0.9954\n",
      "total number of batches to anticipate for epoch 0:  756.53125\n",
      "Epoch 0/9 Loss: 0.0740 Precision: 0.9154 Recall: 0.9298 F1 Score: 0.9225 Acc: 0.9736\n",
      "total number of batches to anticipate for epoch 1:  756.53125\n",
      "Epoch 1/9 Loss: 0.0644 Precision: 0.9219 Recall: 0.9354 F1 Score: 0.9286 Acc: 0.9757\n",
      "total number of batches to anticipate for epoch 2:  756.53125\n",
      "Epoch 2/9 Loss: 0.0590 Precision: 0.9278 Recall: 0.9432 F1 Score: 0.9354 Acc: 0.9780\n",
      "total number of batches to anticipate for epoch 3:  756.53125\n",
      "Epoch 3/9 Loss: 0.0579 Precision: 0.9286 Recall: 0.9425 F1 Score: 0.9355 Acc: 0.9781\n",
      "total number of batches to anticipate for epoch 4:  756.53125\n",
      "Epoch 4/9 Loss: 0.0544 Precision: 0.9326 Recall: 0.9486 F1 Score: 0.9405 Acc: 0.9798\n",
      "total number of batches to anticipate for epoch 5:  756.53125\n",
      "Epoch 5/9 Loss: 0.0538 Precision: 0.9359 Recall: 0.9462 F1 Score: 0.9410 Acc: 0.9800\n",
      "total number of batches to anticipate for epoch 6:  756.53125\n",
      "Epoch 6/9 Loss: 0.0497 Precision: 0.9407 Recall: 0.9506 F1 Score: 0.9456 Acc: 0.9815\n",
      "total number of batches to anticipate for epoch 7:  756.53125\n",
      "Epoch 7/9 Loss: 0.0448 Precision: 0.9446 Recall: 0.9557 F1 Score: 0.9501 Acc: 0.9831\n",
      "total number of batches to anticipate for epoch 8:  756.53125\n",
      "Epoch 8/9 Loss: 0.0410 Precision: 0.9497 Recall: 0.9604 F1 Score: 0.9550 Acc: 0.9847\n",
      "total number of batches to anticipate for epoch 9:  756.53125\n",
      "Epoch 9/9 Loss: 0.0435 Precision: 0.9478 Recall: 0.9604 F1 Score: 0.9540 Acc: 0.9844\n",
      "total number of batches to anticipate for epoch 0:  756.53125\n",
      "Epoch 0/9 Loss: 0.0307 Precision: 0.9663 Recall: 0.9672 F1 Score: 0.9667 Acc: 0.9888\n",
      "total number of batches to anticipate for epoch 1:  756.53125\n",
      "Epoch 1/9 Loss: 0.0268 Precision: 0.9659 Recall: 0.9770 F1 Score: 0.9714 Acc: 0.9903\n",
      "total number of batches to anticipate for epoch 2:  756.53125\n",
      "Epoch 2/9 Loss: 0.0237 Precision: 0.9727 Recall: 0.9785 F1 Score: 0.9756 Acc: 0.9917\n",
      "total number of batches to anticipate for epoch 3:  756.53125\n",
      "Epoch 3/9 Loss: 0.0229 Precision: 0.9733 Recall: 0.9804 F1 Score: 0.9768 Acc: 0.9922\n",
      "total number of batches to anticipate for epoch 4:  756.53125\n",
      "Epoch 4/9 Loss: 0.0208 Precision: 0.9776 Recall: 0.9829 F1 Score: 0.9802 Acc: 0.9933\n",
      "total number of batches to anticipate for epoch 5:  756.53125\n",
      "Epoch 5/9 Loss: 0.0199 Precision: 0.9769 Recall: 0.9826 F1 Score: 0.9797 Acc: 0.9931\n",
      "total number of batches to anticipate for epoch 6:  756.53125\n",
      "Epoch 6/9 Loss: 0.0185 Precision: 0.9783 Recall: 0.9831 F1 Score: 0.9807 Acc: 0.9935\n",
      "total number of batches to anticipate for epoch 7:  756.53125\n",
      "Epoch 7/9 Loss: 0.0176 Precision: 0.9812 Recall: 0.9848 F1 Score: 0.9830 Acc: 0.9943\n",
      "total number of batches to anticipate for epoch 8:  756.53125\n",
      "Epoch 8/9 Loss: 0.0172 Precision: 0.9815 Recall: 0.9868 F1 Score: 0.9841 Acc: 0.9946\n",
      "total number of batches to anticipate for epoch 9:  756.53125\n",
      "Epoch 9/9 Loss: 0.0169 Precision: 0.9810 Recall: 0.9848 F1 Score: 0.9829 Acc: 0.9942\n",
      "total number of batches to anticipate for epoch 0:  2420.9\n",
      "Epoch 0/9 Loss: 0.0285 Precision: 0.9700 Recall: 0.9733 F1 Score: 0.9717 Acc: 0.9904\n",
      "total number of batches to anticipate for epoch 1:  2420.9\n",
      "Epoch 1/9 Loss: 0.0213 Precision: 0.9751 Recall: 0.9775 F1 Score: 0.9763 Acc: 0.9920\n",
      "total number of batches to anticipate for epoch 2:  2420.9\n",
      "Epoch 2/9 Loss: 0.0167 Precision: 0.9817 Recall: 0.9834 F1 Score: 0.9825 Acc: 0.9941\n",
      "total number of batches to anticipate for epoch 3:  2420.9\n",
      "Epoch 3/9 Loss: 0.0140 Precision: 0.9846 Recall: 0.9873 F1 Score: 0.9859 Acc: 0.9952\n",
      "total number of batches to anticipate for epoch 4:  2420.9\n",
      "Epoch 4/9 Loss: 0.0134 Precision: 0.9853 Recall: 0.9860 F1 Score: 0.9857 Acc: 0.9952\n",
      "total number of batches to anticipate for epoch 5:  2420.9\n",
      "Epoch 5/9 Loss: 0.0108 Precision: 0.9873 Recall: 0.9897 F1 Score: 0.9885 Acc: 0.9961\n",
      "total number of batches to anticipate for epoch 6:  2420.9\n",
      "Epoch 6/9 Loss: 0.0101 Precision: 0.9900 Recall: 0.9909 F1 Score: 0.9905 Acc: 0.9968\n",
      "total number of batches to anticipate for epoch 7:  2420.9\n",
      "Epoch 7/9 Loss: 0.0087 Precision: 0.9907 Recall: 0.9917 F1 Score: 0.9912 Acc: 0.9970\n",
      "total number of batches to anticipate for epoch 8:  2420.9\n",
      "Epoch 8/9 Loss: 0.0104 Precision: 0.9885 Recall: 0.9895 F1 Score: 0.9890 Acc: 0.9963\n",
      "total number of batches to anticipate for epoch 9:  2420.9\n",
      "Epoch 9/9 Loss: 0.0057 Precision: 0.9951 Recall: 0.9944 F1 Score: 0.9947 Acc: 0.9982\n",
      "total number of batches to anticipate for epoch 0:  2420.9\n",
      "Epoch 0/9 Loss: 0.0674 Precision: 0.9242 Recall: 0.9312 F1 Score: 0.9277 Acc: 0.9755\n",
      "total number of batches to anticipate for epoch 1:  2420.9\n",
      "Epoch 1/9 Loss: 0.0635 Precision: 0.9213 Recall: 0.9398 F1 Score: 0.9305 Acc: 0.9763\n",
      "total number of batches to anticipate for epoch 2:  2420.9\n",
      "Epoch 2/9 Loss: 0.0582 Precision: 0.9307 Recall: 0.9427 F1 Score: 0.9367 Acc: 0.9785\n",
      "total number of batches to anticipate for epoch 3:  2420.9\n",
      "Epoch 3/9 Loss: 0.0553 Precision: 0.9346 Recall: 0.9476 F1 Score: 0.9411 Acc: 0.9800\n",
      "total number of batches to anticipate for epoch 4:  2420.9\n",
      "Epoch 4/9 Loss: 0.0515 Precision: 0.9388 Recall: 0.9506 F1 Score: 0.9447 Acc: 0.9812\n",
      "total number of batches to anticipate for epoch 5:  2420.9\n",
      "Epoch 5/9 Loss: 0.0517 Precision: 0.9345 Recall: 0.9469 F1 Score: 0.9407 Acc: 0.9798\n",
      "total number of batches to anticipate for epoch 6:  2420.9\n",
      "Epoch 6/9 Loss: 0.0488 Precision: 0.9459 Recall: 0.9540 F1 Score: 0.9499 Acc: 0.9830\n",
      "total number of batches to anticipate for epoch 7:  2420.9\n",
      "Epoch 7/9 Loss: 0.0395 Precision: 0.9531 Recall: 0.9591 F1 Score: 0.9561 Acc: 0.9851\n",
      "total number of batches to anticipate for epoch 8:  2420.9\n",
      "Epoch 8/9 Loss: 0.0484 Precision: 0.9405 Recall: 0.9515 F1 Score: 0.9460 Acc: 0.9817\n",
      "total number of batches to anticipate for epoch 9:  2420.9\n",
      "Epoch 9/9 Loss: 0.0336 Precision: 0.9589 Recall: 0.9657 F1 Score: 0.9623 Acc: 0.9872\n",
      "total number of batches to anticipate for epoch 0:  2420.9\n",
      "Epoch 0/9 Loss: 0.0211 Precision: 0.9779 Recall: 0.9741 F1 Score: 0.9760 Acc: 0.9919\n",
      "total number of batches to anticipate for epoch 1:  2420.9\n",
      "Epoch 1/9 Loss: 0.0178 Precision: 0.9810 Recall: 0.9831 F1 Score: 0.9820 Acc: 0.9939\n",
      "total number of batches to anticipate for epoch 2:  2420.9\n",
      "Epoch 2/9 Loss: 0.0143 Precision: 0.9830 Recall: 0.9883 F1 Score: 0.9856 Acc: 0.9951\n",
      "total number of batches to anticipate for epoch 3:  2420.9\n",
      "Epoch 3/9 Loss: 0.0134 Precision: 0.9844 Recall: 0.9890 F1 Score: 0.9867 Acc: 0.9955\n",
      "total number of batches to anticipate for epoch 4:  2420.9\n",
      "Epoch 4/9 Loss: 0.0118 Precision: 0.9871 Recall: 0.9907 F1 Score: 0.9889 Acc: 0.9962\n",
      "total number of batches to anticipate for epoch 5:  2420.9\n",
      "Epoch 5/9 Loss: 0.0106 Precision: 0.9902 Recall: 0.9917 F1 Score: 0.9910 Acc: 0.9969\n",
      "total number of batches to anticipate for epoch 6:  2420.9\n",
      "Epoch 6/9 Loss: 0.0107 Precision: 0.9885 Recall: 0.9887 F1 Score: 0.9886 Acc: 0.9962\n",
      "total number of batches to anticipate for epoch 7:  2420.9\n",
      "Epoch 7/9 Loss: 0.0092 Precision: 0.9907 Recall: 0.9924 F1 Score: 0.9916 Acc: 0.9971\n",
      "total number of batches to anticipate for epoch 8:  2420.9\n",
      "Epoch 8/9 Loss: 0.0103 Precision: 0.9900 Recall: 0.9895 F1 Score: 0.9897 Acc: 0.9965\n",
      "total number of batches to anticipate for epoch 9:  2420.9\n",
      "Epoch 9/9 Loss: 0.0090 Precision: 0.9910 Recall: 0.9931 F1 Score: 0.9921 Acc: 0.9973\n"
     ]
    }
   ],
   "source": [
    "batch_sizes = [50, 32, 10]\n",
    "learning_rates = [0.001, 0.01, 0.0001]\n",
    "input_images_path = os.path.join(user_path_prefix, r\"3d-object-detection-for-autonomous-vehicles\\Train\\images\\Image_Classification\\train_cropped_images\\224\")\n",
    "\n",
    "#This is where the trained models will be output to\n",
    "out_results_path = os.path.join(user_path_prefix, r\"3d-object-detection-for-autonomous-vehicles\\Train\\models\")\n",
    "\n",
    "#At this point, we should already have images sized to required_image_size from the preprocessing phase. This is just to navigate to the correct image dir.\n",
    "#It should also, therefore, correspond to the sized depicted by 'input_images_path'.\n",
    "required_image_size = 224\n",
    "target_category_name = \"pedestrian\"\n",
    "\n",
    "for batch_size in batch_sizes:\n",
    "    for learning_rate in learning_rates:\n",
    "        train_resnet50_classification(model_instance=model_res50, num_epochs=10, batch_size=batch_size, input_images_path=input_images_path, out_results_path=out_results_path,\n",
    "                                       required_imgage_size=required_image_size, target_category_name=target_category_name, learning_rate=learning_rate, save_per_epoch=True)"
   ]
  },
  {
   "cell_type": "markdown",
   "metadata": {},
   "source": [
    "## Train Results"
   ]
  },
  {
   "cell_type": "markdown",
   "metadata": {},
   "source": [
    "### Load all of the trained models back in and stich their results together into a summary \"all_model_results_df\"."
   ]
  },
  {
   "cell_type": "markdown",
   "metadata": {},
   "source": [
    "#### WARNING: The cell below will overwrite \"all_model_results.csv\" if you have alreayd created it."
   ]
  },
  {
   "cell_type": "code",
   "execution_count": 10,
   "metadata": {},
   "outputs": [
    {
     "data": {
      "text/html": [
       "<div>\n",
       "<style scoped>\n",
       "    .dataframe tbody tr th:only-of-type {\n",
       "        vertical-align: middle;\n",
       "    }\n",
       "\n",
       "    .dataframe tbody tr th {\n",
       "        vertical-align: top;\n",
       "    }\n",
       "\n",
       "    .dataframe thead th {\n",
       "        text-align: right;\n",
       "    }\n",
       "</style>\n",
       "<table border=\"1\" class=\"dataframe\">\n",
       "  <thead>\n",
       "    <tr style=\"text-align: right;\">\n",
       "      <th></th>\n",
       "      <th>model_id_path</th>\n",
       "      <th>epoch</th>\n",
       "      <th>batch_size</th>\n",
       "      <th>learning_rate</th>\n",
       "      <th>final_loss</th>\n",
       "      <th>final_accuracy</th>\n",
       "      <th>final_precision</th>\n",
       "      <th>final_recall</th>\n",
       "      <th>final_F1</th>\n",
       "      <th>validation_loss</th>\n",
       "      <th>validation_accuracy</th>\n",
       "      <th>validation_precision</th>\n",
       "      <th>validation_recall</th>\n",
       "      <th>validation_F1</th>\n",
       "      <th>false_positive_images</th>\n",
       "      <th>false_negative_images</th>\n",
       "    </tr>\n",
       "  </thead>\n",
       "  <tbody>\n",
       "    <tr>\n",
       "      <th>81</th>\n",
       "      <td>model_res50_epoch_9_batchsize_10_lr_0.0001.pth</td>\n",
       "      <td>9</td>\n",
       "      <td>10</td>\n",
       "      <td>0.0001.</td>\n",
       "      <td>0.008955</td>\n",
       "      <td>0.997315</td>\n",
       "      <td>0.990965</td>\n",
       "      <td>0.993147</td>\n",
       "      <td>0.992055</td>\n",
       "      <td>None</td>\n",
       "      <td>None</td>\n",
       "      <td>None</td>\n",
       "      <td>None</td>\n",
       "      <td>None</td>\n",
       "      <td>None</td>\n",
       "      <td>None</td>\n",
       "    </tr>\n",
       "    <tr>\n",
       "      <th>82</th>\n",
       "      <td>model_res50_epoch_9_batchsize_10_lr_0.001.pth</td>\n",
       "      <td>9</td>\n",
       "      <td>10</td>\n",
       "      <td>0.001.</td>\n",
       "      <td>0.005681</td>\n",
       "      <td>0.998224</td>\n",
       "      <td>0.995102</td>\n",
       "      <td>0.994371</td>\n",
       "      <td>0.994736</td>\n",
       "      <td>None</td>\n",
       "      <td>None</td>\n",
       "      <td>None</td>\n",
       "      <td>None</td>\n",
       "      <td>None</td>\n",
       "      <td>None</td>\n",
       "      <td>None</td>\n",
       "    </tr>\n",
       "    <tr>\n",
       "      <th>83</th>\n",
       "      <td>model_res50_epoch_9_batchsize_10_lr_0.01.pth</td>\n",
       "      <td>9</td>\n",
       "      <td>10</td>\n",
       "      <td>0.01.</td>\n",
       "      <td>0.033554</td>\n",
       "      <td>0.987236</td>\n",
       "      <td>0.958931</td>\n",
       "      <td>0.965737</td>\n",
       "      <td>0.962322</td>\n",
       "      <td>None</td>\n",
       "      <td>None</td>\n",
       "      <td>None</td>\n",
       "      <td>None</td>\n",
       "      <td>None</td>\n",
       "      <td>None</td>\n",
       "      <td>None</td>\n",
       "    </tr>\n",
       "    <tr>\n",
       "      <th>84</th>\n",
       "      <td>model_res50_epoch_9_batchsize_32_lr_0.0001.pth</td>\n",
       "      <td>9</td>\n",
       "      <td>32</td>\n",
       "      <td>0.0001.</td>\n",
       "      <td>0.016930</td>\n",
       "      <td>0.994217</td>\n",
       "      <td>0.980985</td>\n",
       "      <td>0.984826</td>\n",
       "      <td>0.982902</td>\n",
       "      <td>None</td>\n",
       "      <td>None</td>\n",
       "      <td>None</td>\n",
       "      <td>None</td>\n",
       "      <td>None</td>\n",
       "      <td>None</td>\n",
       "      <td>None</td>\n",
       "    </tr>\n",
       "    <tr>\n",
       "      <th>85</th>\n",
       "      <td>model_res50_epoch_9_batchsize_32_lr_0.001.pth</td>\n",
       "      <td>9</td>\n",
       "      <td>32</td>\n",
       "      <td>0.001.</td>\n",
       "      <td>0.012222</td>\n",
       "      <td>0.995415</td>\n",
       "      <td>0.986774</td>\n",
       "      <td>0.986050</td>\n",
       "      <td>0.986412</td>\n",
       "      <td>None</td>\n",
       "      <td>None</td>\n",
       "      <td>None</td>\n",
       "      <td>None</td>\n",
       "      <td>None</td>\n",
       "      <td>None</td>\n",
       "      <td>None</td>\n",
       "    </tr>\n",
       "    <tr>\n",
       "      <th>86</th>\n",
       "      <td>model_res50_epoch_9_batchsize_32_lr_0.01.pth</td>\n",
       "      <td>9</td>\n",
       "      <td>32</td>\n",
       "      <td>0.01.</td>\n",
       "      <td>0.043471</td>\n",
       "      <td>0.984386</td>\n",
       "      <td>0.947826</td>\n",
       "      <td>0.960352</td>\n",
       "      <td>0.954048</td>\n",
       "      <td>None</td>\n",
       "      <td>None</td>\n",
       "      <td>None</td>\n",
       "      <td>None</td>\n",
       "      <td>None</td>\n",
       "      <td>None</td>\n",
       "      <td>None</td>\n",
       "    </tr>\n",
       "    <tr>\n",
       "      <th>87</th>\n",
       "      <td>model_res50_epoch_9_batchsize_50_lr_0.0001.pth</td>\n",
       "      <td>9</td>\n",
       "      <td>50</td>\n",
       "      <td>0.0001.</td>\n",
       "      <td>0.035888</td>\n",
       "      <td>0.986575</td>\n",
       "      <td>0.953242</td>\n",
       "      <td>0.967939</td>\n",
       "      <td>0.960534</td>\n",
       "      <td>None</td>\n",
       "      <td>None</td>\n",
       "      <td>None</td>\n",
       "      <td>None</td>\n",
       "      <td>None</td>\n",
       "      <td>None</td>\n",
       "      <td>None</td>\n",
       "    </tr>\n",
       "    <tr>\n",
       "      <th>88</th>\n",
       "      <td>model_res50_epoch_9_batchsize_50_lr_0.001.pth</td>\n",
       "      <td>9</td>\n",
       "      <td>50</td>\n",
       "      <td>0.001.</td>\n",
       "      <td>0.029320</td>\n",
       "      <td>0.989219</td>\n",
       "      <td>0.964763</td>\n",
       "      <td>0.971610</td>\n",
       "      <td>0.968175</td>\n",
       "      <td>None</td>\n",
       "      <td>None</td>\n",
       "      <td>None</td>\n",
       "      <td>None</td>\n",
       "      <td>None</td>\n",
       "      <td>None</td>\n",
       "      <td>None</td>\n",
       "    </tr>\n",
       "    <tr>\n",
       "      <th>89</th>\n",
       "      <td>model_res50_epoch_9_batchsize_50_lr_0.01.pth</td>\n",
       "      <td>9</td>\n",
       "      <td>50</td>\n",
       "      <td>0.01.</td>\n",
       "      <td>0.068964</td>\n",
       "      <td>0.974514</td>\n",
       "      <td>0.915648</td>\n",
       "      <td>0.935144</td>\n",
       "      <td>0.925294</td>\n",
       "      <td>None</td>\n",
       "      <td>None</td>\n",
       "      <td>None</td>\n",
       "      <td>None</td>\n",
       "      <td>None</td>\n",
       "      <td>None</td>\n",
       "      <td>None</td>\n",
       "    </tr>\n",
       "  </tbody>\n",
       "</table>\n",
       "</div>"
      ],
      "text/plain": [
       "                                     model_id_path epoch batch_size  \\\n",
       "81  model_res50_epoch_9_batchsize_10_lr_0.0001.pth     9         10   \n",
       "82   model_res50_epoch_9_batchsize_10_lr_0.001.pth     9         10   \n",
       "83    model_res50_epoch_9_batchsize_10_lr_0.01.pth     9         10   \n",
       "84  model_res50_epoch_9_batchsize_32_lr_0.0001.pth     9         32   \n",
       "85   model_res50_epoch_9_batchsize_32_lr_0.001.pth     9         32   \n",
       "86    model_res50_epoch_9_batchsize_32_lr_0.01.pth     9         32   \n",
       "87  model_res50_epoch_9_batchsize_50_lr_0.0001.pth     9         50   \n",
       "88   model_res50_epoch_9_batchsize_50_lr_0.001.pth     9         50   \n",
       "89    model_res50_epoch_9_batchsize_50_lr_0.01.pth     9         50   \n",
       "\n",
       "   learning_rate  final_loss  final_accuracy  final_precision  final_recall  \\\n",
       "81       0.0001.    0.008955        0.997315         0.990965      0.993147   \n",
       "82        0.001.    0.005681        0.998224         0.995102      0.994371   \n",
       "83         0.01.    0.033554        0.987236         0.958931      0.965737   \n",
       "84       0.0001.    0.016930        0.994217         0.980985      0.984826   \n",
       "85        0.001.    0.012222        0.995415         0.986774      0.986050   \n",
       "86         0.01.    0.043471        0.984386         0.947826      0.960352   \n",
       "87       0.0001.    0.035888        0.986575         0.953242      0.967939   \n",
       "88        0.001.    0.029320        0.989219         0.964763      0.971610   \n",
       "89         0.01.    0.068964        0.974514         0.915648      0.935144   \n",
       "\n",
       "    final_F1 validation_loss validation_accuracy validation_precision  \\\n",
       "81  0.992055            None                None                 None   \n",
       "82  0.994736            None                None                 None   \n",
       "83  0.962322            None                None                 None   \n",
       "84  0.982902            None                None                 None   \n",
       "85  0.986412            None                None                 None   \n",
       "86  0.954048            None                None                 None   \n",
       "87  0.960534            None                None                 None   \n",
       "88  0.968175            None                None                 None   \n",
       "89  0.925294            None                None                 None   \n",
       "\n",
       "   validation_recall validation_F1 false_positive_images false_negative_images  \n",
       "81              None          None                  None                  None  \n",
       "82              None          None                  None                  None  \n",
       "83              None          None                  None                  None  \n",
       "84              None          None                  None                  None  \n",
       "85              None          None                  None                  None  \n",
       "86              None          None                  None                  None  \n",
       "87              None          None                  None                  None  \n",
       "88              None          None                  None                  None  \n",
       "89              None          None                  None                  None  "
      ]
     },
     "execution_count": 10,
     "metadata": {},
     "output_type": "execute_result"
    }
   ],
   "source": [
    "# To load the model and metrics later\n",
    "model_metrics = ['final_loss', 'final_accuracy', 'final_precision', 'final_recall', 'final_F1']\n",
    "model_dir = os.path.join(user_path_prefix, r\"3d-object-detection-for-autonomous-vehicles\\Train\\models\")\n",
    "\n",
    "all_model_results = []\n",
    "for path in os.listdir(model_dir):\n",
    "        model_results = {}\n",
    "        model_path = os.path.join(model_dir, path)\n",
    "        if model_path.endswith(\"pth\"):\n",
    "            checkpoint = torch.load(model_path)\n",
    "            matches = re.search(r'epoch_(\\d+)_batchsize_(\\d+)_lr_([\\d.]+)', model_path)\n",
    "            if matches:\n",
    "                model_results[\"model_id_name\"] = path\n",
    "                epoch = matches.group(1)\n",
    "                model_results[\"epoch\"] = epoch\n",
    "                batch_size = matches.group(2)\n",
    "                model_results[\"batch_size\"] = batch_size\n",
    "                lr = matches.group(3)\n",
    "                model_results[\"learning_rate\"] = lr\n",
    "\n",
    "            for metric in model_metrics:\n",
    "                model_results[metric] = checkpoint[metric]\n",
    "            \n",
    "            all_model_results.append(model_results)\n",
    "\n",
    "all_model_results_df = pd.DataFrame(all_model_results)\n",
    "all_model_results_df = all_model_results_df.sort_values([\"batch_size\", \"learning_rate\", \"epoch\"])\n",
    "\n",
    "#we only need to fix final_accuracy for now until we run training again. Fix this before running training again. \n",
    "all_model_results_df[\"final_accuracy\"] = all_model_results_df[\"final_accuracy\"].apply(lambda x: x.item())\n",
    "\n",
    "#Create empty columns for the validation loop to populate\n",
    "all_model_results_df[\"validation_loss\"] = None\n",
    "all_model_results_df[\"validation_accuracy\"] = None\n",
    "all_model_results_df[\"validation_precision\"] = None\n",
    "all_model_results_df[\"validation_recall\"] = None\n",
    "all_model_results_df[\"validation_F1\"] = None\n",
    "all_model_results_df[\"false_positive_images\"] = None\n",
    "all_model_results_df[\"false_negative_images\"] = None\n",
    "\n",
    "#Set these to 'object' type so we can assign a list of strings converted into one, large string.\n",
    "all_model_results_df['false_positive_images'] = all_model_results_df['false_positive_images'].astype('object')\n",
    "all_model_results_df['false_positive_images'] = all_model_results_df['false_positive_images'].astype('object')\n",
    "\n",
    "\n",
    "#Write all_model_results_df to disk\n",
    "all_model_results_df.to_csv(os.path.join(model_dir, \"all_model_results.csv\"))\n",
    "\n",
    "final_epoch_results = all_model_results_df[all_model_results_df[\"epoch\"] == \"9\"]\n",
    "final_epoch_results"
   ]
  },
  {
   "cell_type": "markdown",
   "metadata": {},
   "source": [
    "### If the model training went as expected, you should hopefully end up with output looking similar to the text below:"
   ]
  },
  {
   "cell_type": "code",
   "execution_count": 15,
   "metadata": {},
   "outputs": [
    {
     "data": {
      "text/plain": [
       "'\\nmodel_id_path\\tepoch\\tbatch_size\\tlearning_rate\\tfinal_loss\\tfinal_accuracy\\tfinal_precision\\tfinal_recall\\tfinal_F1\\tvalidation_loss\\tvalidation_accuracy\\tvalidation_precision\\tvalidation_recall\\tvalidation_F1\\tfalse_positive_images\\tfalse_negative_images\\n81\\tmodel_res50_epoch_9_batchsize_10_lr_0.0001.pth\\t9\\t10\\t0.0001.\\t0.008955\\t0.997315\\t0.990965\\t0.993147\\t0.992055\\tNone\\tNone\\tNone\\tNone\\tNone\\tNone\\tNone\\n82\\tmodel_res50_epoch_9_batchsize_10_lr_0.001.pth\\t9\\t10\\t0.001.\\t0.005681\\t0.998224\\t0.995102\\t0.994371\\t0.994736\\tNone\\tNone\\tNone\\tNone\\tNone\\tNone\\tNone\\n83\\tmodel_res50_epoch_9_batchsize_10_lr_0.01.pth\\t9\\t10\\t0.01.\\t0.033554\\t0.987236\\t0.958931\\t0.965737\\t0.962322\\tNone\\tNone\\tNone\\tNone\\tNone\\tNone\\tNone\\n84\\tmodel_res50_epoch_9_batchsize_32_lr_0.0001.pth\\t9\\t32\\t0.0001.\\t0.016930\\t0.994217\\t0.980985\\t0.984826\\t0.982902\\tNone\\tNone\\tNone\\tNone\\tNone\\tNone\\tNone\\n85\\tmodel_res50_epoch_9_batchsize_32_lr_0.001.pth\\t9\\t32\\t0.001.\\t0.012222\\t0.995415\\t0.986774\\t0.986050\\t0.986412\\tNone\\tNone\\tNone\\tNone\\tNone\\tNone\\tNone\\n86\\tmodel_res50_epoch_9_batchsize_32_lr_0.01.pth\\t9\\t32\\t0.01.\\t0.043471\\t0.984386\\t0.947826\\t0.960352\\t0.954048\\tNone\\tNone\\tNone\\tNone\\tNone\\tNone\\tNone\\n87\\tmodel_res50_epoch_9_batchsize_50_lr_0.0001.pth\\t9\\t50\\t0.0001.\\t0.035888\\t0.986575\\t0.953242\\t0.967939\\t0.960534\\tNone\\tNone\\tNone\\tNone\\tNone\\tNone\\tNone\\n88\\tmodel_res50_epoch_9_batchsize_50_lr_0.001.pth\\t9\\t50\\t0.001.\\t0.029320\\t0.989219\\t0.964763\\t0.971610\\t0.968175\\tNone\\tNone\\tNone\\tNone\\tNone\\tNone\\tNone\\n89\\tmodel_res50_epoch_9_batchsize_50_lr_0.01.pth\\t9\\t50\\t0.01.\\t0.068964\\t0.974514\\t0.915648\\t0.935144\\t0.925294\\tNone\\tNone\\tNone\\tNone\\tNone\\tNone\\tNone\\n'"
      ]
     },
     "execution_count": 15,
     "metadata": {},
     "output_type": "execute_result"
    }
   ],
   "source": [
    "\"\"\"\n",
    "model_id_name\tepoch\tbatch_size\tlearning_rate\tfinal_loss\tfinal_accuracy\tfinal_precision\tfinal_recall\tfinal_F1\tvalidation_loss\tvalidation_accuracy\tvalidation_precision\tvalidation_recall\tvalidation_F1\tfalse_positive_images\tfalse_negative_images\n",
    "81\tmodel_res50_epoch_9_batchsize_10_lr_0.0001.pth\t9\t10\t0.0001.\t0.008955\t0.997315\t0.990965\t0.993147\t0.992055\tNone\tNone\tNone\tNone\tNone\tNone\tNone\n",
    "82\tmodel_res50_epoch_9_batchsize_10_lr_0.001.pth\t9\t10\t0.001.\t0.005681\t0.998224\t0.995102\t0.994371\t0.994736\tNone\tNone\tNone\tNone\tNone\tNone\tNone\n",
    "83\tmodel_res50_epoch_9_batchsize_10_lr_0.01.pth\t9\t10\t0.01.\t0.033554\t0.987236\t0.958931\t0.965737\t0.962322\tNone\tNone\tNone\tNone\tNone\tNone\tNone\n",
    "84\tmodel_res50_epoch_9_batchsize_32_lr_0.0001.pth\t9\t32\t0.0001.\t0.016930\t0.994217\t0.980985\t0.984826\t0.982902\tNone\tNone\tNone\tNone\tNone\tNone\tNone\n",
    "85\tmodel_res50_epoch_9_batchsize_32_lr_0.001.pth\t9\t32\t0.001.\t0.012222\t0.995415\t0.986774\t0.986050\t0.986412\tNone\tNone\tNone\tNone\tNone\tNone\tNone\n",
    "86\tmodel_res50_epoch_9_batchsize_32_lr_0.01.pth\t9\t32\t0.01.\t0.043471\t0.984386\t0.947826\t0.960352\t0.954048\tNone\tNone\tNone\tNone\tNone\tNone\tNone\n",
    "87\tmodel_res50_epoch_9_batchsize_50_lr_0.0001.pth\t9\t50\t0.0001.\t0.035888\t0.986575\t0.953242\t0.967939\t0.960534\tNone\tNone\tNone\tNone\tNone\tNone\tNone\n",
    "88\tmodel_res50_epoch_9_batchsize_50_lr_0.001.pth\t9\t50\t0.001.\t0.029320\t0.989219\t0.964763\t0.971610\t0.968175\tNone\tNone\tNone\tNone\tNone\tNone\tNone\n",
    "89\tmodel_res50_epoch_9_batchsize_50_lr_0.01.pth\t9\t50\t0.01.\t0.068964\t0.974514\t0.915648\t0.935144\t0.925294\tNone\tNone\tNone\tNone\tNone\tNone\tNone\n",
    "\"\"\""
   ]
  },
  {
   "cell_type": "markdown",
   "metadata": {},
   "source": [
    "# Validation/Inference"
   ]
  },
  {
   "cell_type": "code",
   "execution_count": 6,
   "metadata": {},
   "outputs": [],
   "source": [
    "def validate_resnet50_classification(model_checkpoint, model_name_id, validation_images_dir, training_records_df_path, required_imgage_size=224, target_category_name=\"pedestrian\",\n",
    "                                  criterion=nn.CrossEntropyLoss()):\n",
    "    \"\"\"\n",
    "    Performs validation of a ResNet50 model on a specified dataset and records the metrics.\n",
    "\n",
    "    This function takes a trained model checkpoint, performs validation on a given dataset, and records various metrics like loss, accuracy, precision, recall, and F1 score. \n",
    "    It also identifies false positive and false negative images and records them.\n",
    "\n",
    "    Parameters:\n",
    "    -----------\n",
    "    model_checkpoint: The saved model checkpoint containing the state dictionary of the trained ResNet50 model.\n",
    "    model_name_id (str): Identifier for the model, used to match and record results in the training records DataFrame.\n",
    "    validation_images_dir (str): Path to the directory containing validation images.\n",
    "    training_records_df_path (str): Path to the CSV file where training records are stored and where validation results will be appended.\n",
    "    required_imgage_size (int, optional): Size that input images are expected to be in. Default is 224.\n",
    "    target_category_name (str, optional): The target category for classification. Default is \"pedestrian\".\n",
    "    criterion: Loss function used for validation. Default is `nn.CrossEntropyLoss()`.\n",
    "\n",
    "    Notes:\n",
    "    ------\n",
    "    - The function assumes the presence of a pre-trained model and a DataFrame (in CSV format) containing training records.\n",
    "    - Validation involves processing images through the model, calculating loss and other metrics.\n",
    "    - The function records the validation results (loss, accuracy, precision, recall, F1 score) in the training records DataFrame.\n",
    "    - Additionally, it identifies and records the paths of false positive and false negative images.\n",
    "    - The updated DataFrame with training and validation records is saved back to the specified path.\n",
    "    - This function is designed to work with a binary classification setting.\n",
    "    - It assumes that the input images are organized in a way that is compatible with the `Lyft_image_classification_CustomDataset` class.\n",
    "    \"\"\"\n",
    "\n",
    "    training_records_df = pd.read_csv(training_records_df_path).drop(columns=['Unnamed: 0'], errors='ignore')\n",
    "    #Create a fresh model instance and then import its state from the model_checkpoint.\n",
    "    model_res50 = models.resnet50(weights=ResNet50_Weights.IMAGENET1K_V1)\n",
    "    num_ftrs = model_res50.fc.in_features\n",
    "    # Modify the last layer for binary classification. This is because this was the architecture which was used for the training model.\n",
    "    model_res50.fc = nn.Linear(num_ftrs, 2)\n",
    "\n",
    "    #Load the state into the model instance.\n",
    "    model_res50.load_state_dict(model_checkpoint['model_state_dict'])\n",
    "    # Move model to device and set the model to evaluation mode\n",
    "    device = torch.device(\"cuda:0\" if torch.cuda.is_available() else \"cpu\")\n",
    "    model_res50.to(device)\n",
    "    model_res50.eval()\n",
    "\n",
    "    #Creat instances of our custom Dataset and subsequent default Dataloader\n",
    "    dataset = Lyft_image_classification_CustomDataset(validation_images_dir, target_category_name, required_imgage_size)\n",
    "    row_index = training_records_df[training_records_df[\"model_id_path\"] == model_name_id].index\n",
    "    batch_size = int(training_records_df.loc[row_index, \"batch_size\"].iloc[0])\n",
    "    dataloader = DataLoader(dataset, batch_size=batch_size, shuffle=True)\n",
    "\n",
    "    #Initialize metrics\n",
    "    running_loss = 0.0\n",
    "    running_corrects = 0\n",
    "    total_samples = 0\n",
    "    running_true_positives = 0\n",
    "    running_false_positives = 0\n",
    "    running_false_negatives = 0\n",
    "\n",
    "    #Holders for the incorrect prediction image paths.\n",
    "    false_positive_images = []\n",
    "    false_negative_images = []\n",
    "\n",
    "    # Disable gradient calculations as they are not needed for validation\n",
    "    with torch.no_grad():\n",
    "        for inputs, labels, image_names in dataloader:\n",
    "            inputs = inputs.to(device)\n",
    "            labels = labels.to(device)\n",
    "\n",
    "            # Forward pass\n",
    "            outputs = model_res50(inputs)\n",
    "            loss = criterion(outputs, labels)\n",
    "\n",
    "            # Statistics\n",
    "            running_loss += loss.item() * inputs.size(0)\n",
    "            _, preds = torch.max(outputs, 1)\n",
    "            running_corrects += torch.sum(preds == labels.data)\n",
    "            total_samples += labels.size(0)\n",
    "            # Calculate True Positives, False Positives, False Negatives\n",
    "            for i in range(len(labels)):\n",
    "                if preds[i] == labels[i] == 1:  # True Positive\n",
    "                    running_true_positives += 1\n",
    "                elif preds[i] == 1 and labels[i] == 0:  # False Positive\n",
    "                    running_false_positives += 1\n",
    "                    false_positive_images.append(image_names[i])\n",
    "                elif preds[i] == 0 and labels[i] == 1:  # False Negative\n",
    "                    running_false_negatives += 1\n",
    "                    false_negative_images.append(image_names[i])\n",
    "\n",
    "\n",
    "    # Calculate the average loss and accuracy over the validation set\n",
    "    val_loss = running_loss / total_samples\n",
    "    val_acc = running_corrects.double() / total_samples\n",
    "    val_acc = val_acc.item()\n",
    "    # Calculate Precision, Recall, and F1 Score after the loop\n",
    "    precision = running_true_positives / (running_true_positives + running_false_positives) if (running_true_positives + running_false_positives) > 0 else 0\n",
    "    recall = running_true_positives / (running_true_positives + running_false_negatives) if (running_true_positives + running_false_negatives) > 0 else 0\n",
    "    f1_score = 2 * (precision * recall) / (precision + recall) if (precision + recall) > 0 else 0\n",
    "\n",
    "    print(f'Validation Loss: {val_loss:.4f} Precision: {precision:.4f} Recall: {recall:.4f} F1 Score: {f1_score:.4f} Acc: {val_acc:.4f}')\n",
    "\n",
    "    #Write the validation output to the corresponding row/col of training_records_df\n",
    "    # Reminder: training_records_df[condition][\"column\"] = value can lead to a SettingWithCopyWarning in pandas.\n",
    "    # Find the row index, and use .loc[] instead.\n",
    "    row_index = training_records_df[training_records_df[\"model_id_path\"] == model_name_id].index\n",
    "    training_records_df.loc[row_index, \"validation_loss\"] = val_loss\n",
    "    training_records_df.loc[row_index, \"validation_accuracy\"] = val_acc\n",
    "    training_records_df.loc[row_index, \"validation_precision\"] = precision\n",
    "    training_records_df.loc[row_index, \"validation_recall\"] = recall\n",
    "    training_records_df.loc[row_index, \"validation_F1\"] = f1_score\n",
    "    \n",
    "    false_positive_images_str = str(false_positive_images)\n",
    "    false_negative_images_str = str(false_negative_images)\n",
    "    training_records_df.loc[row_index, \"false_positive_images\"] = false_positive_images_str\n",
    "    training_records_df.loc[row_index, \"false_negative_images\"] = false_negative_images_str\n",
    "\n",
    "    training_records_df.to_csv(training_records_df_path, index=False)\n"
   ]
  },
  {
   "cell_type": "code",
   "execution_count": 9,
   "metadata": {},
   "outputs": [],
   "source": [
    "models_to_validate = list(final_epoch_results[\"model_id_path\"].values)\n",
    "model_dir = os.path.join(user_path_prefix, r\"3d-object-detection-for-autonomous-vehicles\\Train\\models\")\n",
    "validation_images_dir = os.path.join(user_path_prefix, r\"3d-object-detection-for-autonomous-vehicles\\Train\\images\\Image_Classification\\validation_cropped_images\\224\")\n",
    "training_records_df_path = os.path.join(model_dir, \"all_model_results.csv\")\n",
    "required_imgage_size = 224\n",
    "target_category_name = \"pedestrian\""
   ]
  },
  {
   "cell_type": "code",
   "execution_count": 16,
   "metadata": {},
   "outputs": [
    {
     "name": "stdout",
     "output_type": "stream",
     "text": [
      "model_res50_epoch_9_batchsize_10_lr_0.0001.pth\n",
      "Validation Loss: 0.0913 Precision: 0.8669 Recall: 0.9303 F1 Score: 0.8975 Acc: 0.9726\n",
      "model_res50_epoch_9_batchsize_10_lr_0.001.pth\n"
     ]
    },
    {
     "name": "stderr",
     "output_type": "stream",
     "text": [
      "C:\\Users\\stern\\AppData\\Local\\Temp\\ipykernel_16028\\984681418.py:89: FutureWarning: Setting an item of incompatible dtype is deprecated and will raise in a future error of pandas. Value '['cropped_host-a102_cam5_1242754969332234006_1a94c607332752ad75c4373a2693f72db74598dd75b43451c39df6b36e0c075c', 'cropped_host-a011_cam6_1232909963751145006_705606be0a788cd9d491abbe223d9d0d55e8d37d2dd279952c4df6ac75d84f06', 'cropped_host-a011_cam6_1236104044351145006_af9b9351c5e4d7a68e996a00d654e4dd6ae83e8501f5a4879d73c6b5c61c2e49', 'cropped_host-a004_cam6_1233685245950948006_c1a43ebea3fcde204c70598d6ef1ca4a57f710aea9034965a23480099112f3fb', 'cropped_host-a102_cam3_1241548688100000006_073638355e80d50eefe47d143249b41fa6727f34320b6600bd33e7d90d52e31f', 'cropped_host-a101_cam0_1242144896850000006_3b2a982df97488a1685300692824727ca823b9d6a38a9579917d849e52e2fdd3', 'cropped_host-a011_cam6_1233688944551145006_cbd96872c2f59fe53d0f580c3b00b6bdba9df1afee166003808b7b94d83858f0', 'cropped_host-a101_cam6_1240875144450000006_d996293fb2913f9ac6892f25c4cf125563a054f2a01a6aa44405461c5f1fb564', 'cropped_host-a101_cam3_1242749272399423006_6fb265e096e15889675ccd2ce48596ae6b4aa954e087e7ac8eb9a642003c7213', 'cropped_host-a101_cam3_1242749274599512006_7e4f8e7a0e9b87a52e72918193305a3f9ea1056456da91192053ae24a646dffe', 'cropped_host-a102_cam3_1241548691500000006_feeee2574a66fac27411162dc220968d06edc01b4c407641e3fd99f7f989b436', 'cropped_host-a011_cam3_1233524879800995006_8ee0f234dface1611d41c6d873fd34fe17c733d0719e3b734414682bc8e80c72', 'cropped_host-a101_cam3_1242144888900000006_58e8290e9477b73954694819952b5a6fb5a83a8f1903cf7bdc4c7086ecddea95', 'cropped_host-a011_cam0_1236093968551142006_91f01fd852cb7450e65c7b868231ab1fb740745a543fcc9197f168420a540fba', 'cropped_host-a101_cam6_1240875142050000006_68335871a8aa8eaff3ec585010ea23b97e03f64aa88fb0d8134bf598fdd35b11', 'cropped_host-a011_cam0_1236104047551142006_bd9f33424de4f5eb01153ad3ecade917f1f4952c0e16c6ab2ff9dd51866cc65d', 'cropped_host-a101_cam3_1242144886700000006_b935758ab4bd3a89f7ed7d0b35329b6750dc52a279920b7390c76ce40c2a4f54', 'cropped_host-a101_cam6_1242753252744000006_267ed1f24f21afeffc14db6b8f9b0014860bd91fa8c2240af780fee2bc335fb2', 'cropped_host-a101_cam6_1240875145050000006_3755702343c22edd9a5609cd64dd052cd69b40d06c4470d1150abb9bafbcc02e', 'cropped_host-a102_cam3_1241548690300000006_bddb4329569f079e59220361b2718d61df8ce2f1f1e36277f26fefa580ca3c74', 'cropped_host-a102_cam3_1242754978299260006_fd7a9c493fda1a91a84db9c2fbe68fe205b65e4d7ed1f36de6ac978096eb80e7', 'cropped_host-a101_cam4_1240875155216660006_23044bc39ea179fa352650d20337d65e3f10da97ca68c02885d3d9aa4beb6e3e', 'cropped_host-a101_cam3_1240875158500000006_26bf5c00cfc3a674136bbe06cefd635f88e2659b7c9490d8f7c6b44e54e4e358', 'cropped_host-a011_cam6_1233512839651145006_21fded17aec219918c9d7aff6a8cf911229fc4323443ccb7433829a7db4af047', 'cropped_host-a011_cam2_1233688948517605006_2f5deb069c84e66368189f42331315cb82768efda23a4f628b61c12555f2203f', 'cropped_host-a015_cam2_1236112615917581006_1ab4bb0a960798529bc332a3d509517abba0ceae7a2b1e2d8e03a24c0475b1f2', 'cropped_host-a102_cam3_1241548686900000006_b9f44d4ce350da6ff9c62a26e41df5ee526639e3f4d898d14666a57e4a9cc1a0', 'cropped_host-a102_cam4_1242754977515579006_996df24d283b0f3e1e9b8272a07bf6e2180d4cc6816665baa57393ade9aaf64c', 'cropped_host-a011_cam0_1236093973151142006_7bda4fb89d2e2f35c81d09b82633bc08dd26cd922cd5799a0ad9ed7669dd1196', 'cropped_host-a102_cam5_1242754968332219006_efbccbc890793ad6179396da3f1a473bd00067b6a4db84716d00adb5041f0527', 'cropped_host-a101_cam0_1242748999749482006_5550e17d3b9173eba752069fa55e40c042cc329abba2b3bb4c77956f3da5a3c9', 'cropped_host-a011_cam6_1233688944751145006_dbb024fae21fd4682eea0493e4b054c0de68109faed965da69a740b57326b004', 'cropped_host-a011_cam1_1235931119334517006_ea4c6e847bf41d31020683149da596e6864af9e22a0e072392ca4d23d1d8c23f', 'cropped_host-a007_cam2_1233524864217643006_f2cbe71774a6ebe171455590444cded74baa191de20e444324610007a7c55bfe', 'cropped_host-a101_cam3_1242749272199408006_7fc61a572d201908890b5a2ae3efb4ed527fb297c500a7b0f77f5e0a6dd86e99', 'cropped_host-a004_cam2_1232905201917652006_6e9c65fd8bf832f67ed481fcf715ade42cb130665100714488c11cedde8428e0', 'cropped_host-a011_cam2_1236122363517605006_d6f18deab9ef9150ed094648655d5cfd35f364de0e8a12714772ff8330f752ad', 'cropped_host-a102_cam4_1242754976115668006_d2c12d0830807f49933ea9dd9d7170196e4e3f9984e6c5fabeca4053577af2b2', 'cropped_host-a004_cam2_1232842380217652006_0c8c5193e4c1a7615cbe52e623258fa505013a92b7a5e66ebdbb6960969ca08f', 'cropped_host-a101_cam4_1240875154016660006_28c3a0a84acf489d06d54c5341b6085a9deb233f54d5cacca7ba9e7d584a8a5b', 'cropped_host-a102_cam5_1242754969132234006_00056acf10b5160fae84290bc49a1fd856034a864803509fce02d903cac8e590', 'cropped_host-a101_cam6_1240875145850000006_4bf8a097af54dca375029316d296155595682cff193b06a652b46e166be2c504', 'cropped_host-a004_cam1_1232842379434300006_49961fc1b494f654bcd58183d7f940bec95d0062b8316b67cb5727aff54a8407', 'cropped_host-a011_cam6_1232909950951145006_4b650ca5960c3d077580a55b36ed3b70dea6e57a2d01a3b519a575240f8e5fb2', 'cropped_host-a011_cam6_1232909950751145006_ce73d1096188dfd37b34996edd79bfbcda6db5d329e3f81c0cd02bbac5e78894', 'cropped_host-a102_cam0_1242754964349186006_a870b317fd109ef253e1bfaf9a875985e6c5dd523058cb0612180e905dad039b', 'cropped_host-a011_cam4_1233965320584485006_0192f411b5b400526ed633829c639d0057c3a9b6e43836846539819cfd535bc7', 'cropped_host-a011_cam6_1232909956151145006_4b8070e1ca345ea6a0d87bcfc05713da8cdc3ce8a97c2cab97005659bb7c2086', 'cropped_host-a004_cam2_1232905202917652006_5702d88bf1463888d01b9b882211c69650b7e67e6224a80e8616fcb792cda666', 'cropped_host-a102_cam5_1242754967332205006_2ae4a5dad57be1dfb2cd10a9713ac5d9c67a22eb776f89725edeaa35bfbb0c56', 'cropped_host-a011_cam6_1236093965951145006_efba26c5e77e3257a00988c529133278a4681f96903062c30dedd7b93d2b9d4d', 'cropped_host-a102_cam5_1242754967732205006_00f3cb80c0c7404f43ea2dbe42bffd36a7c3839a57fab876f8142d9ef805aa8b', 'cropped_host-a102_cam0_1242754963749200006_5f3956c42568c624e8b3a0eabf1a6af8f2ad1ac5ad445f37ea1d4f8c4dc66d31', 'cropped_host-a101_cam1_1242749000966260006_2e5a7c182bc03205fa8899bd49c9810e411c97c2311918bed4372ce2ca0b321c', 'cropped_host-a004_cam2_1232905203317652006_84624d96cb1e21d1a001604da8b35facfbc30926034a6b741b1a36fed0bdebbc', 'cropped_host-a101_cam6_1240875144250000006_10e466d9c8d116ba779501cceb4b4fa60b63eaa9db429713d48ffd42965176bd', 'cropped_host-a101_cam3_1242749269599200006_5579db171c9d41b5802d8aa58e65edef4f927a9eea47b99d4d0653380290a73f', 'cropped_host-a011_cam3_1236093975700995006_b0d935155e20495d498f0ff8614100d1cfbac42b91afe303f2d536b05cf7834a', 'cropped_host-a011_cam1_1233081045234517006_b0a3bc7fa5fd60ca218075dfd5adc1b631c0296e4a282778c63813939ce72f58', 'cropped_host-a004_cam3_1233014846000897006_d259d29269a81d0efd43d5445af1f168536c042dff1966e6d01666b258273c8f', 'cropped_host-a015_cam2_1236112604717581006_b72a4e56deef52d86d62a617951bb7f3726fa7bf2f3752fe6110932724db2f2f', 'cropped_host-a101_cam6_1240875139250000006_d92897360528deff6964996ae6f234781f30fbbf8f874fe2114feed7c7a5ae67', 'cropped_host-a101_cam3_1240875158300000006_721bc365049f8282c0f0888c2a291d6f8089232a714a323c019e847493e952d0', 'cropped_host-a004_cam2_1232842380617652006_bc646812257df12b435872a06a9923ff78579e022a2b7779e1db939c2fa256f8', 'cropped_host-a101_cam3_1240875158700000006_ad1e85563bdaf3d603dcefaf7d60a7eb6762043e81da105c29e81bf349f3bb45', 'cropped_host-a101_cam6_1240875146650000006_f697b7f5ea9b25c3b1988ee5e780e40668290859ba2a381948a0594c19265777', 'cropped_host-a101_cam3_1240875158700000006_1db122e7149c6e79ae7c4b76a8e72c19fc9f494cc71667dfef60b61515b1fa03', 'cropped_host-a009_cam6_1236123717451064006_36d8b479241b9d616fafc2bad9c71ce288a62e2e4ef77f4286a8a2e49077b575', 'cropped_host-a011_cam3_1234025172800995006_e8552a20cf35680573db0fa21bae6947c8f49b6f37dc006091866439344bd599', 'cropped_host-a102_cam3_1241548686500000006_40d3ad01ca0a4d3e6864b53de86dba72e8783f80843a69838f85fce33ea72e21', 'cropped_host-a011_cam6_1232909963951145006_55c4d64da41de0290c047dc259beb347e633848f6772eaad68069eda255db5ef', 'cropped_host-a101_cam0_1242748999949452006_692120a1892bfad762211de550d4e240181c599f33bba2aa679f8105cefff8b2', 'cropped_host-a101_cam0_1240875155450000006_595af1cc83d69a3a70b6eac6980d9a9cc472b79954a2301db4e963aaa47af99d', 'cropped_host-a102_cam0_1241548704050000006_732ec5f37a91c79f3148060b60910205a1b9dc39f5916f1c0b6a68711a63f6d3', 'cropped_host-a011_cam1_1233090644434517006_907fd80a1fad7d66f2952a3d0c53c8eb3e4a15eb253c994523a0fd3e7dd09268', 'cropped_host-a007_cam2_1233508038717643006_d42ea004853979b0a0bd2bd904c459d08cceba91d64ee2d3edf4c2700d16d6d8', 'cropped_host-a101_cam1_1242749000966260006_825037a58f0e757d78d81f480cd92c4037b79bd3846622888b49b48f78658a02', 'cropped_host-a011_cam6_1233524878051145006_282afbff2ea62b1c5d7d3dc5c41520a662441c551123d4fc983da0a7f2c9294d', 'cropped_host-a102_cam4_1242754978115609006_5ba2817bf6f69510812379defcd0fba0671225503cb23bd00868cbe972ae9c9a', 'cropped_host-a101_cam3_1242144895100000006_a94d4fe6107eeec3361fbe7dc3ffc25419889e5c6945f184be3ab37c0959f92a', 'cropped_host-a101_cam6_1240875145250000006_adca5099b9f001d0d4e083c03f7faa94aa94296adcdf7208e823edd5f0983d92', 'cropped_host-a101_cam4_1240875154216660006_fcfe548d7cf2faa0b786f3e6d0e79984c1913e7a09b40e8682a882782b738df0', 'cropped_host-a015_cam1_1235423654034306006_5565a4584714ec25872f88769135533cf21c35e4f4c32f6380c50b3438a755fb', 'cropped_host-a101_cam6_1240875139850000006_66881e024c21e5cfcc5821351ff6808145a466b0ded232c86c8802a6bcb467a9', 'cropped_host-a102_cam3_1241548691100000006_aba7bae57dd0d16d81bee11d2b7edd69aff7da67df2a370b90496b1c6ac5d150', 'cropped_host-a101_cam6_1240875140450000006_a8b4c00ac0d50a3b45d3dc9dfdb75b440e6f038d54d25d38039c26726af46582', 'cropped_host-a101_cam1_1242748994366335006_b01fb5eb70f9870d372e79ef9db55d693df0fdaded6d32fe0c2769c26fcd0725', 'cropped_host-a011_cam0_1236093969551142006_a12a9ee1d726e8785b3c24b5e56060cfcd10293f35e6c0b08f292d8033f85b1a', 'cropped_host-a004_cam2_1233693204317652006_d64ff68d9befeb5bdea601ada8f93a4ecf1b4751a91fbfcbd3d8a0291bcc0d99', 'cropped_host-a011_cam2_1236122363917605006_d5500400ddfeebf579a961061978267ac5df9482cf75b77fa6fd217779243340', 'cropped_host-a101_cam2_1242749003182945006_f455a8a3d0eb9eb433ff8e6b65864b2c64908865b9c7ddc66cd4542126f6945d', 'cropped_host-a007_cam2_1233524864017643006_fe00f8bd5642de4b51f4c6e46ae35ab248dd2a8faca98934c386979e678f2f8a', 'cropped_host-a007_cam2_1233508037717643006_96e1e9efba31515163ea9f6f73bbce7c8a7e14b0c6fbfa821df7984219730a6e', 'cropped_host-a011_cam2_1233524889417605006_fdbd7608cfdc816a332b6e57117c5621b90ed1ada8950a95a3670531949ea0ea', 'cropped_host-a015_cam6_1235423712450899006_95345ff6be0fe35f7be45e1a69680a9c8e1917ca27c2bbd058e76a25dc9fd214', 'cropped_host-a101_cam3_1242144886900000006_863e97a0d733f8094269c18fa371b5571a2910783c8ed848e995a1e7d6511fc5', 'cropped_host-a004_cam1_1232842175234300006_ac09e621cc5281e2bc72b54e34475293a4af647fb2cb1fb7726c79a1fe01dcef', 'cropped_host-a011_cam1_1233524888634517006_bf9b48a76d7982249e18231d32f2e65af168a40bf6b7fbbf877a609a232a4980', 'cropped_host-a011_cam0_1236104046951142006_85a18511aed7fbe9754115e9ad899fac5edc922540aceb517d807c1c922cc3ef', 'cropped_host-a101_cam3_1240875158900000006_0ff2b672350ccd53ce6b977220016631f5c4c25cffa5133afc7440fdc2348faa', 'cropped_host-a011_cam1_1235950300634517006_41aa9ba10dea8d50945196496f2e698ec6facb541547431f4d688f75dfd694b7', 'cropped_host-a011_cam0_1236093968951142006_e17ef430172872c6794adb05a32dc1965458b4daab8c7b5b652303eade3d5689', 'cropped_host-a101_cam6_1240875137250000006_38745dbd8798087be8e0876266554ef1555af0aa8e900deaf7a1643271073e49', 'cropped_host-a101_cam1_1242749000166275006_169f5098cd71f99ed341e7195471ae782ec352cacb278c5869309f8ec43df3ff', 'cropped_host-a101_cam6_1240875144650000006_eac2e9e9d85079c9b9545d4d17ce12dadd903e930e118e464ffb234839a6c717', 'cropped_host-a011_cam6_1236104044751145006_0bbe4997e46e2ed84ed246cf68460937cd4178a9c8fd31fd83f47d14de0f26a6', 'cropped_host-a101_cam6_1242753243144000006_f80f2e7bfa10c96d616be6d986905257fef8e8a677c47bac1119eed59ce78c8c', 'cropped_host-a011_cam1_1236093969934517006_2a1e42f6a4fa6766b5aae805ff2287bc82e8af98236b835fe1c5593772009b9e', 'cropped_host-a102_cam5_1242754967532205006_85b97ff50bb20f5359014e8a22a04e96be021f30b37382d606f8c0c6c6ef3353', 'cropped_host-a011_cam1_1232745792034517006_3e5f89820ef6992b51ae857dae2bed8c81630d57d4f51ef9af3e14a289e2e689', 'cropped_host-a101_cam3_1242749273199482006_f40ac3baec7f6a4dffd7b64910b51edd6cdf802d26276188c82785490ed40bf7', 'cropped_host-a101_cam6_1240875145650000006_963306385adfd9fc853c20cf5c0f84ab54ab8bd2ea6f5397badd11049640b8b0', 'cropped_host-a101_cam0_1242748999949452006_854abfa9f3585ecd1beea56f3a0114100cf730884d41a41f5db08d8ba83715c0', 'cropped_host-a101_cam6_1240875145450000006_4bfecde7de2961b0930692cdae7ed5e3a95cbe255deabbc42c718f760e039563', 'cropped_host-a101_cam2_1242749001382916006_19d6c33e2e654367784c2691364615bbb77c90e7625e48490bd31aba1f69a5d4', 'cropped_host-a101_cam0_1242748998949571006_784c77373e1c2775e9948abe90e929473cdab813d0ceb691cca949efdd6b671e', 'cropped_host-a101_cam3_1242144894700000006_57eab6c0b31d19950e62deccc20f7a7b1e2008d4a677123ee5a3cee4307b52bf', 'cropped_host-a011_cam6_1236122356951145006_d4763b6e7c6c1ce5862a4f7247231b717e659ff1aa368d2331b7203713909250', 'cropped_host-a101_cam2_1241216111583330006_e30fc50dfa46368d3372e1ebd079c975d03777d8ff02aa2c2d519d31bc229374', 'cropped_host-a102_cam3_1241548690500000006_a4cec1e01392b47c194ccd89313b69bd1df595b5dc507610e9f788c082a99c01', 'cropped_host-a101_cam0_1240875154850000006_1cf83cbbd7324a3e3e047becea3ec0a2b3028867141e6ba14c251fd2b3b27a99', 'cropped_host-a011_cam6_1236122355951145006_12f2a2c27b3e3febd42b67708b7b61728ea958f495249a1ccea8329b3ce71fca', 'cropped_host-a101_cam3_1242748819499245006_fa10d3883ed4c1d09c44ebb2a848ab451bc91b47b9ca165583854c6f77797a7d', 'cropped_host-a101_cam6_1240875141050000006_bf5a190112e4773eb72c8396aa81458c005cd6bb719d264bb5f411c3e868c2dc', 'cropped_host-a011_cam6_1236093966751145006_2f14fe09b99a1bfecf7dfd092065160fe514aa728425bdcbf7a32dc12926c5bf', 'cropped_host-a011_cam2_1235866723117605006_0db371e095b2ebc4698ce519f43b7ba9284fc4bdd6d376e511a72cb010368cf7', 'cropped_host-a102_cam5_1242754969532234006_3a6978ea9a6f1b7e2ba1fd18ff5fa49b838df7df0549e296d610e052bcbbbc86', 'cropped_host-a004_cam1_1232842175234300006_ddf35fabd3c3b0a0a88979c69b4ee76e2c874aa0bca770a28a28eb861c6fb93d', 'cropped_host-a101_cam1_1242748999766305006_5550e17d3b9173eba752069fa55e40c042cc329abba2b3bb4c77956f3da5a3c9', 'cropped_host-a004_cam2_1233683018617652006_0818868a75ae35d9460f23b35049f97be106d73c8727dd177a4642a02d7251d9', 'cropped_host-a101_cam0_1240875155050000006_0bcb2f255b527216fc6badb585eb754548a8fc5d6595228cf23c7cf879dabca9', 'cropped_host-a101_cam0_1240875154450000006_abdbde8105ffe2cb78a2079ca1a839cc6c8df17c0bb91d322ae3216057da42eb', 'cropped_host-a011_cam1_1236039805634517006_b807ecc92f96d8f30ae950af8fc488b6bcc9956613064e49c4a53050f7a1a630', 'cropped_host-a101_cam0_1242748998749571006_2a349a17297100a4e88fcd3445583a992aabf57b68d44c426a608681c18c60b6', 'cropped_host-a101_cam3_1242749273599497006_97299504acb90fb1b6a55c5cffbdfe386497d4d810b1a553df2161081a325ccd', 'cropped_host-a101_cam6_1240875137650000006_4fba138345f2c72bfc280b2a144f6981265a22ac74472155d56c6ae13eb79ce8', 'cropped_host-a007_cam2_1233524864017643006_aac3daeb9da4a122ebafdff7af0fcec107f49e5bb7f568621f44b4be8f429f9e', 'cropped_host-a011_cam0_1236104047151142006_65bd8d043d7976169122627bd6e757258bc5563e9e6a5022a0e4182a93a19d94', 'cropped_host-a011_cam1_1236104055534517006_e39eabd327b57f0cec012a81d41681d8be9ecb7923e6f3dd928e696de67a1217', 'cropped_host-a101_cam0_1242144896450000006_fd0cc64fba7e5bcc8c89343066a7a34d071070ff884d4b0ca3a517c9fae20be5', 'cropped_host-a011_cam1_1236119841734517006_14b468c116ceb48e12ecd2a1ba7dd06cd77c23baea5dd6a53436a289cf006e19', 'cropped_host-a101_cam0_1240875154650000006_a85381665471cc55081fbc1a2159ebe470f19af637bd7d79aede436d0ea087f9', 'cropped_host-a101_cam0_1242144897050000006_12754e59067dd81720ccb78183bbc237f8f94303c829ba3f807513949cc1a3ee', 'cropped_host-a101_cam6_1240875136250000006_f1028cda90e9f0607c97ead9d923cdb52b06dd9d74dd545eb092d94ea66b7a68', 'cropped_host-a102_cam3_1242754978699260006_a2afb0f5071cff24bb7048a47c2635a1529f05342972215fb68e880b5602ff49', 'cropped_host-a011_cam6_1232909958951145006_d7c21ed9e493973fe7a6fa6a6a6c92020a1c989404fe6ccd4ad1ba44c8692cea', 'cropped_host-a102_cam3_1242754979199260006_1cb652914286432e4480e8f7ac88e58666a667b43845f9308c8abc83d7606d33', 'cropped_host-a101_cam6_1240875143250000006_39a00bacca6e09150b5a9f4bceae945ae40db15664bf0553131e194750dc1077', 'cropped_host-a011_cam3_1236123629900995006_d59086e114943282379dc5fd9bfe367277ca7ff0a8e91996d8f4e5d1c557597b', 'cropped_host-a011_cam0_1236104047351142006_391b109ec66c51163d0e92e7ef206b872caf0c8355a7cd489a8a9d660fc287ba', 'cropped_host-a007_cam2_1233508038317643006_f3ed5774f0d1d9331d7bdcb6bbac0633cc78294915c7d9b2a5df6a241089fbe9', 'cropped_host-a007_cam2_1233689810317643006_15d4183119517d5628cde2c8b212118c0019eb101fcf835b482fa5e094728dba', 'cropped_host-a011_cam6_1232909948151145006_b5c91b63be1968e443b6b33ac089aca20148f26d2144553bad207e07c8c3e4b7', 'cropped_host-a011_cam6_1236104044951145006_59ec8e883392b6ea3531ae0a2880e6731fe842b77d5b77d29d2efa92afa65c74', 'cropped_host-a011_cam6_1232909944351145006_5d246cc20941c679ffdf6f3ed877f49b556d01091047d69711ad99ec811783d1', 'cropped_host-a101_cam6_1240875140650000006_5d2bac0e992ef82890a6831cf9046ab43f22e805694783aba6e5f43daf7f85a0', 'cropped_host-a101_cam6_1240875139650000006_6ede885e1484a85150b8766455cc69685af4c541663b5cfc253b0d57a291f02b', 'cropped_host-a102_cam3_1242754978599260006_f8066e946b4633830a9fbe37a41e59173b8b8e154cf87bbaa9e7f9df940e1e71', 'cropped_host-a101_cam3_1242749270199200006_ae6d7786638f946e26706c3154feb83f2d97b165a2b462b706f0d53f5fe1861a', 'cropped_host-a102_cam5_1242754970532234006_46e684209114032bb2ba9e51725865b5b2210ad0e4166647064fb93a38ab2f71', 'cropped_host-a101_cam6_1242753247744000006_36cb0fda119e511cf8395b613948b357821342c58016544733dc7e676de401d4', 'cropped_host-a101_cam6_1240875139050000006_754ddb2734c5511809accf7e1b44998e1d7dd1dea6e844631b9c82ea6d0fedb8', 'cropped_host-a101_cam1_1242749001166246006_828ef106b1415498f156e1c4207f16ac2c491b36994d2b9b86d0f6169aae1a1c', 'cropped_host-a101_cam3_1240875157500000006_784720b4df88038cbbe9e720f60f03635f877d550bb5572c3d4b46683e739d9d', 'cropped_host-a101_cam3_1242144894900000006_d7088ba25003f5ebf0efd48d8d620d9ba1f1b32661098dc00e63b897148c5b7b', 'cropped_host-a004_cam1_1232905201534300006_5aacecd2f6762b1a0952bb1ece6bb708566eb3addbe265664dbab7c3ad76524b', 'cropped_host-a102_cam4_1242754975115712006_3c560b9bc42d5bffbc05d05814b6f98a25e378e74870a4c0bb16c0cdb1133eda', 'cropped_host-a101_cam6_1240875147450000006_32224a1e432fe8ec65e9689ce7d296a119ed3b6f5bea06cd035ce6c2a67bc8a8', 'cropped_host-a101_cam0_1242144902050000006_7372050cfac2c2ac38f48630ae6f64dace423adb7c75c9bb0ea0bd1ae681b67e', 'cropped_host-a011_cam6_1234025171251145006_3709a824bf267a48cd6b6aa95cb75892433fd2b8cc2d4eacb9939f54f5405277', 'cropped_host-a102_cam3_1241548690100000006_c94359873bd3b7ef9735e74ab7821cdcd82e0da70301d58b54ff7d2911791b5a', 'cropped_host-a102_cam5_1242754970932249006_f724d90321ab25cd7dc403fde760d6416027107ff8a4ca5f06b7b3a6851d1cd8', 'cropped_host-a007_cam3_1231093059199360006_50b25fe07551797a3f0b92a267abda709e8f3a7f7c80d2bcb017b44451ac0702', 'cropped_host-a101_cam6_1240875145050000006_4c292626583d19d4db55aa2332df3bea0d9dfcd77fe93224fb6db996b386efa5', 'cropped_host-a102_cam3_1241548688900000006_0db3542a4d6e1e3c3119b18dd04dc683187e2c5ae4c3a5f236c14be718614054', 'cropped_host-a101_cam6_1240875144050000006_e9640df7928d54a41bb6f0a3788c8f4f06268a3cf12fc3859ae3bf27f17004d3', 'cropped_host-a101_cam6_1240875147050000006_2b47e916f21479c1df238f3b12315df9a40742d5ab00713f09e685c158425f3c', 'cropped_host-a101_cam6_1240875136650000006_ac82bc74062777a5611c7a8fb8adf7edb0832abefd7970d8dfcf8c7fc80d546f', 'cropped_host-a101_cam3_1242144888500000006_ddd6c998ceeb1d847a4e5e15d3923ffd5fa4e0afa32994e23dfca14c5343ea75', 'cropped_host-a101_cam2_1242749001782930006_3c861a65d8e797311f117b8966328c600e81a602e21e02529ed8f0e1b5775e73', 'cropped_host-a102_cam4_1242754975915683006_9441b54846c80b9b8e43542d09b51892bc7a8b5a09da1817574889952078b558', 'cropped_host-a011_cam6_1232909947351145006_3cb3ab7cd21499b2280d0d19018efc5c9af0e7e46422eb385f01c959f05c21f9', 'cropped_host-a015_cam3_1236112616100936006_86ede2845c7588c807c1abc80e15c9752a2a000cbc156475f0586767aa5db4c6', 'cropped_host-a007_cam1_1233079633634286006_1b6dfcb249e5c746f09fa53323065df4df8c8c057939d42537b12372fe5015d8', 'cropped_host-a101_cam6_1240875137050000006_af13dc17ec6557477c3282f4f3b4320abdf322fef6c4f76fe0e5da9080001eff', 'cropped_host-a011_cam2_1234025172417605006_f8f070c30e83bf6155c817560a2cbce8aa7e024794cbfe7690ea587f1286e482', 'cropped_host-a004_cam2_1233014845417652006_48dea5c0ade24a416851e58d22612c27cebe1b3b45d5f0caf84974befc0fc1ba', 'cropped_host-a102_cam5_1242754968132219006_3d79a6b3d6b0000820a35f03813b8605ef3f76bc66f0bd5d27260534cf4ab233', 'cropped_host-a102_cam3_1242754961499467006_2d7ea3720c59324cc6636cb558ef69785a7fe3242c0a868574d503df6ac25416', 'cropped_host-a011_cam1_1236093970134517006_6240b964fac044606506d14b522898f626894dd4abf32aee7f17493b2c250c38', 'cropped_host-a101_cam2_1242749001982930006_437d653e74a67045bd0b265978098476b8541eb732656318cacef3171d4271eb', 'cropped_host-a011_cam3_1233524880000995006_2ebdc62d6ced0b9e27f81560c8fa9baf183d51504e637ae2e08d134322f0b3ef', 'cropped_host-a101_cam0_1242144896650000006_679d20f8fe1788f0ae6dd67e62711ebc976131f7764437b93d0ba0d8ca6a7950', 'cropped_host-a101_cam6_1240875136850000006_bda4733e90b0da8695014e5885a48bf3478df004d74a9c5c6d2d3395be83f7c5', 'cropped_host-a011_cam6_1232909958551145006_95e4d339dcdce634f02575308363336ff1265bb8f491fc871de06504f84d6c25', 'cropped_host-a011_cam6_1236093966551145006_f35689dec906f1922ebf40542a660c13b1c57051479f86a667a53aa28e38f63b', 'cropped_host-a101_cam3_1242144888500000006_ea6fdc08e5bb39b2a4e6ee93366bf296d15e8a89e644574f3e40a175c98d0410', 'cropped_host-a007_cam6_1233515594050905006_14ff59227d4e89106a8b164709c486d800484de6c5e4aa296d77af4aca80cfde', 'cropped_host-a004_cam2_1232905202517652006_eb80119a221ed28147d88de191f6f53c3a9d36f7a3450cc5d40ea24e945fcaab', 'cropped_host-a011_cam6_1232909948351145006_08147fb205a678c5525ca2fa99768a0cbc89b8d7aa0a4348168e44a2fb0f9547', 'cropped_host-a101_cam3_1242144889500000006_43fc924871b9613446a458dba08b159ae3259285839bbbee9026e22ad0f8d466', 'cropped_host-a101_cam6_1240875143650000006_64ff4d1bc5c87f6167fb2878cdd3b0ba27047b589bf1bdbf4c36f6c3e681b592', 'cropped_host-a101_cam1_1242749000766260006_56500cb12d7c407b5ec7918f04842aeabe25688245e73057ee7e3c9ab40228d8', 'cropped_host-a007_cam6_1233515594250905006_7dd2075b3a026e66de580ae444f99519902c2506a2570a1e28ee7466b5ada538', 'cropped_host-a011_cam6_1236093967351145006_28c031d67cde5147bbcfc6dd9c8c5697be46fe3f713066d76bc20d608c51ea03', 'cropped_host-a102_cam3_1241548687300000006_51ca445d3618c6f4c92acb5c3a22ccfd99afdd40bed6d9a3a831c3c222617e69', 'cropped_host-a101_cam6_1240875144850000006_fc61e8a17033b867f1157428b18ac9a1198e72f36188b3b5f0fb3f5a173fd45c', 'cropped_host-a011_cam6_1232909943951145006_578780725a98087248d51bc98d0eab9fe01c99743eae810402b75a651894ec8b', 'cropped_host-a101_cam6_1240875137450000006_97fe5d090fbe6214ce88d8585420972d319a13c66dcb088cc137bd259be98835', 'cropped_host-a004_cam2_1233683018617652006_4e31def98312542f5184ba54f14f728d026e3a49db240c7706445e0d4c3387bb', 'cropped_host-a101_cam3_1240875158300000006_aa0b7f649a47aa94b2d87fa56bb8b2d783d53a2a6cd6c87651a1a6f8496a3759', 'cropped_host-a101_cam1_1242749000566260006_1f5075a0e14f0390efd1a13e1788a00e55f1b2385e713286b5d5ca8e219aa4fd', 'cropped_host-a102_cam3_1242754975299393006_9ada204ad91aa85cff3b7fece50c3ad10f1d399a961e488dcdc8cb5542c26aff', 'cropped_host-a015_cam3_1236112616300936006_c62b9365d07d24e17467d642abdf9790bf3c4ddead1d7c4c6bbbdbd32fd1f02b', 'cropped_host-a101_cam6_1240875138650000006_d384667aa110e0a8bde725e076fffc96d54508c90bc0cde0e9925041ac65cd99', 'cropped_host-a102_cam5_1242754967132190006_4c085b5e8a1de51d1fe1dfd4bd276088a889b0b54b70359ee103eb772d8bb250', 'cropped_host-a101_cam6_1242753254144000006_7d9118227014d2d65fc862f36ab6c337e268f1ccdb4f2e492544c5702bd6672d', 'cropped_host-a102_cam3_1242754975699334006_0102cfe625af1474cfa85b7fff06ef4224baf109934e82a4960a3880fc6512b6', 'cropped_host-a004_cam6_1233080768950948006_89df56c251aa96c3f25118e0573eedcc296a6bfd22fe6c40e4ab973e6488858e', 'cropped_host-a011_cam3_1232752549800995006_e869c0b128c54d53a562ef29645b9263d66fe30aeea9668c9733c9e01a3b5369', 'cropped_host-a101_cam3_1242749271999408006_0c58d998666fa31a13e2366e9bb52492ad390d9cfa849106ebdc1f32c8980a36', 'cropped_host-a011_cam1_1233081045234517006_2603c5863c41083e11e194613e3b2ad8265eef7c0fa1b1983dc61af5261644ad', 'cropped_host-a101_cam6_1240875141650000006_41e1662d05cec77f535a9cc81a3a5c9cb67d9156f91971e3f61892876de3916f', 'cropped_host-a011_cam0_1234025165251142006_9fbc7fcd9cd2921ebcf4c3d9add7449fdd88ef6f72d426cbfc50bd39d8813fb6', 'cropped_host-a101_cam6_1242753247344000006_a5eb9e732769bb4591cd504165a3a9b6ff1862932c008e967d8d8e5d07e968a4', 'cropped_host-a004_cam2_1232923284417652006_62172c17c1d0c933825e975c7253d65f2062c0f3dd79e44ae4cde651df0de9fa', 'cropped_host-a102_cam3_1241548689900000006_9a85db73011fc7d31a4e3c2c7021a96a02710cfc1298a3a243db66b2c25962bc', 'cropped_host-a101_cam6_1240875142850000006_593626ca4209e94e6f9e1f2ee86942aee0cbf75bea2384bd8db43bee1f9c4a54', 'cropped_host-a011_cam1_1236093973934517006_f21b2652101c546a9ac65c674ae9c3e507fb8ab3adbc22a6c3b7c8b1f64954e3', 'cropped_host-a004_cam6_1233685245750948006_77d7affc3a5783603a5482f4ed0ac287e3f2c157a5f614c8afaadc002a6a41f4', 'cropped_host-a004_cam2_1232905202317652006_ce09357746af7b1ac09bc1be3b0e2dbbec058a4c1481f5c9720dbd4722edd880', 'cropped_host-a101_cam3_1240875158500000006_59725f3d6cd2b5c60caeb2dc3212cbda7219d827b4829762cd1da559477701b9', 'cropped_host-a102_cam3_1242754962499482006_48b068c972d7191501168a7c1d4c3213eb6a25f0b62fff303ca661a8969a437d', 'cropped_host-a011_cam2_1233522437017605006_a5952e1f334f39ec1cb28a1b80742f301716e8c59dd58672fd80713c990dedbb', 'cropped_host-a004_cam2_1232923283817652006_4cd0e03256bca9a8d7dd8ed7d541cb5bed15f308621669016f52b7fafb277e26', 'cropped_host-a011_cam6_1232909947751145006_1babc4d0396e38f85c3c789d6eb08c093a51a23ea77c03ea9b4da268c63a59a7', 'cropped_host-a004_cam2_1233516157817652006_f6bbaba899ca09981b141d36f3732a9c0306d5e829a0aa586bfee7c0659e1514', 'cropped_host-a101_cam3_1242749274199512006_c25450d601dccb4cacc1eb40279db426bbb5ef56def44d6288bdacbf53466b99', 'cropped_host-a011_cam0_1233522450651142006_97df6b073920aae64c08c83715947c8a25748509efda1bb101282bdb23cb68f2', 'cropped_host-a101_cam6_1240875140250000006_92c3194e6e3a33090cccc405099030531d5edcaf7d0e8e9d4c957cabfbdea49b', 'cropped_host-a101_cam3_1242749269199200006_6aa127f66d0478a31a8eac3525ece58a796fbd3e86bb8258591acda016781638', 'cropped_host-a102_cam3_1241548691700000006_b60e2075fb371182273518172dc3045082ae229efabcea38b29088c2bc20e2d8', 'cropped_host-a011_cam6_1232909964351145006_91612825b7320cf837340039990d46554a1e5d507cd35e3fc986e76282eb1bb0', 'cropped_host-a101_cam3_1242749272599423006_f9ec5ba10a8f39eb44cd42147874f5425c0e128f650bf41b0463fba870608c28', 'cropped_host-a101_cam3_1242144896500000006_5f71dc91dcc21a336df4eb595de29b8ffe21ee7f45d8828ed0a5a73693873c93', 'cropped_host-a101_cam0_1240875155650000006_c16f895ab1301447e0fe99d55d105b8a49389b4d93a453a84ef111b8e88a9404', 'cropped_host-a011_cam3_1233512842600995006_0b01681793f459a3d4689b5b744b1e94a4a4df0b1fc605f3c2acf72a73588129', 'cropped_host-a011_cam1_1235950300634517006_4bf43db5a52f47c424f51cff5738a86da590414bdaf9de2166a1b21bc1176927', 'cropped_host-a101_cam6_1240875139450000006_9192ac1587c7fdaa73db1ed608ff9a3b263240f4e4c71e0c14364cba08f0ae10', 'cropped_host-a011_cam6_1236122356751145006_4f2ca928254b20bc45683be347fbba16289d2d96605de9519225ca797bd31fd8', 'cropped_host-a102_cam3_1241548691200000006_49cbda465da0a3971ce903c95c5b2e431ec3aa9771db2b18f5c7148dd1146ff5', 'cropped_host-a101_cam6_1240875138250000006_0da108d82e2552eebd7861bea6205a657174b86d1374601c4d4568d7951b174a', 'cropped_host-a102_cam4_1242754976915564006_d6b267a9767b325135dfccd457c6f9b0d947d8e9ed0e0590f0760b835bf592ea', 'cropped_host-a011_cam6_1236122356351145006_01fb1e170381f7026bf4fd6d333e2eca49e9306e00ceed27e0cbdeaeb827c818', 'cropped_host-a101_cam6_1242753253744000006_fbd0c6149b4d0d354094441c75e476e48f79298308366a15266e4d251a756772', 'cropped_host-a102_cam5_1242754966332190006_1391cc8da301fa9cdd74343a74b71f3a30fd88092d93deadac47cbec4eb5723a', 'cropped_host-a011_cam6_1236093965551145006_f3d0a46497096a18b77a5914712b317f585c2f9dca25371b5c99ea6bbcca1fa6', 'cropped_host-a101_cam2_1242749003182945006_26eba013369c420e055bc1a97351acdc45879c93cca2422713f58d5f5e85c54c', 'cropped_host-a101_cam6_1240875145250000006_576fa42976c4b787611da3a8752a931b19c2c49154a74ca4e028c6801fd17f95', 'cropped_host-a101_cam0_1242748999149541006_978aaad2ecbc28ee803aaf8d97cf3e7f4765cbf85987a3d6c484a5a474957903', 'cropped_host-a102_cam3_1241548691900000006_033549688ce0ea05de607fcd87944bd3e4b46fbf2f011ee51edfa19b4e1bca95', 'cropped_host-a011_cam6_1232909951351145006_7e65b4ebb587a517b9c13cbb42c4410e5e718f600fee3fcad0b15f500c9ae65e', 'cropped_host-a101_cam0_1240875155250000006_7ae4f8e08b1b772d3feb096eeee97b112ae83783cf0dddd853404a0713588eb3', 'cropped_host-a004_cam6_1233080770350948006_6f77fd68996205735de1b7813e195cf3d5448a03e9a7c6a2e9c34fb015aef700', 'cropped_host-a101_cam5_1240875156233330006_89d2591f7ce9a4e54a2f663a1b5a2c72bf0341cbd57ecdc7da0c8c8cc64fc66b', 'cropped_host-a011_cam6_1232909951151145006_61a619c2cedb21416da717eb31effae51fe5d56793a4d06bece42658fcb03dcd', 'cropped_host-a101_cam6_1240875143050000006_6cfe88345d6b26e2a90c8784f390713f6244fdf311bd7e35cec566eb34719b76', 'cropped_host-a007_cam3_1231093057599360006_06fcbbeaac90bada7d11c269572b5ddb0bdc8b174467ef746a84f8bf7352325f', 'cropped_host-a102_cam3_1242754978099260006_5ba2817bf6f69510812379defcd0fba0671225503cb23bd00868cbe972ae9c9a', 'cropped_host-a015_cam2_1236112605117581006_945074df938d46f7c7da1d8af952cbea3d90b1c8ae26275f786a7af9ef1c1958', 'cropped_host-a004_cam3_1232842188800897006_e64e4bdaa03e1091ab5f171d6282b6582766ea55680b465b1d2620f2e3b7d15a', 'cropped_host-a101_cam3_1240875158100000006_85819df31c62571d3d7dd898b1c355b8ddd7ba3966a59aa92d3501c2e595d252', 'cropped_host-a011_cam2_1232732473717605006_e943d341f6f2b1e3af6a9ce3227ddb4e0fd0ded0d9ea7ce72180d5b3ffe1ad8e', 'cropped_host-a101_cam1_1242748999766305006_67b305118181489bb0f4eb59f5d6f6bb1331e84db1f493e5571ed1fa754690c9', 'cropped_host-a011_cam3_1236119842700995006_251b00262ba1662ba4141dbf841f5ad294f8a33bf8c817153b4f26df2140019f', 'cropped_host-a004_cam2_1232905202117652006_1515fb3464a445ccbb1a81811cc2ea8fcf289c2d824e9b47bf3b7fd431e33fbb', 'cropped_host-a015_cam2_1236112603317581006_4d9f6e27a7d3caab4a446d21bf4a6db0506c6a00f94a8d3cd1b8f5e192ba40e0', 'cropped_host-a101_cam0_1240875155650000006_2c495c81a52d6ebc92f4b8e2c6e05d4dd5f84241720d4bd88c9b98caa78713ae', 'cropped_host-a004_cam2_1232842380417652006_e5c199b81c3889101c14a3a4a130d88a290ef5a168915bfee4149c14606fccd1', 'cropped_host-a101_cam6_1240875145450000006_2096f5f484cd59515d23f1703c2d3fc3457bc9ea27fc90dfabc0d47087485305', 'cropped_host-a004_cam6_1232842184650948006_a00e7ec214a4b68061ca2f095ff60933fddaf8e62d8a1506aa9b5fe5a2c6efcc', 'cropped_host-a101_cam6_1242753243344000006_586e00c6b20bfdeabe36d79a516d3f41f8a0a32fce28a0fbcf07fbd6646a9ee9', 'cropped_host-a102_cam0_1241548700650000006_2cb5fc80c023ff90f64643308ecc8880bf8eb1d45b8f1b0834a8ec48523844b6', 'cropped_host-a015_cam2_1236112616117581006_2362d5f8dcdec51bff0cf359902d7f2bba882f84f76e7ffc9c0496cf83678efd', 'cropped_host-a101_cam3_1242749269799200006_767f4874abf3a7edd7ba4f59763b64e8e9b2db4b6431bbb0767756f97f1de2cb', 'cropped_host-a101_cam0_1240875155450000006_3021d2ce0dda897fe6d85f8f8b3d03f2a00e6e0f781db5214b8874312001b2b4', 'cropped_host-a101_cam6_1240875145650000006_1ce1431ba45ace8f38a0a19682c88772909f07cc45f0b597a912a89c6a84ad0f', 'cropped_host-a011_cam2_1233090645017605006_f803406829336aa7e7ab91546b80dcc902e401e5c5038cdc99480fb953021ef4', 'cropped_host-a101_cam6_1242753242944000006_389b2aecfc93f43688f906939095266e4b010eedeaf34b8eef03eb0352259096', 'cropped_host-a102_cam5_1242754968732219006_342968f52da17c6499afa5581a746aec25dbfe92aaf4a1ee891633c8d31c4f6b', 'cropped_host-a101_cam6_1240875146850000006_87a822dcdd902dc743f648b18015d223f409281bbba3e431d503b7f4776f0960', 'cropped_host-a011_cam0_1236123626151142006_e8ba009260ac3facfbb0d3b5756648fd0ca9fa88ce411958022c0b8657482976', 'cropped_host-a101_cam2_1242748987782545006_4eef87138c052caef3ea54081e3e0534b3c18c32774e3f643904b6ef1d816fe9', 'cropped_host-a015_cam1_1236112609134306006_630de500bafcc26ed66e7b772e67e0e93f9bd47cd4a1d044e01da5dffe094c6c', 'cropped_host-a011_cam1_1233081045234517006_31bfea2d77749ee5fb89d53966087b2ac21530b5289936713965bac6bd95cb1e', 'cropped_host-a101_cam6_1240875144650000006_8e3e5da108eb4c62f7a3fb010a215615daffe94cb26c91ea23b1fdb11c0791ca', 'cropped_host-a101_cam0_1242748999349526006_d8c145f448eb697f7f13a5d7729bd22bfb67a52d5b949d0e148e64e0607f5171', 'cropped_host-a011_cam0_1233524887851142006_2d683d88cfc6e266d1b6e22f06b3a8ae3071ada20e04213ddf25e70965aa116d', 'cropped_host-a102_cam3_1242754962799497006_21cf4b844c4627cb8e2fc06699fe9e5d1d85650cb72ed6aed3e03be97a048b39', 'cropped_host-a011_cam1_1235931117134517006_701a022560a09f4a3dfc823eec86ef13bb059a760128321bdc2f9b4a9a586951', 'cropped_host-a101_cam0_1242144897250000006_40a57075337304fd7dea15b69f809fd814f7bcdf0eaede23b614db68aa37ebb9', 'cropped_host-a007_cam2_1233508037917643006_648802835f1d47fc1acef724c943e4c04bc575b6f2d7c9d112bd94c7945d1d06', 'cropped_host-a011_cam2_1233688949117605006_021b6aab4aa5a22ce6c8461fa0459ad1376b3a7ff207063d322ad167c0504470', 'cropped_host-a101_cam0_1240875155250000006_b2b99206218676f4dbfca0232e0a00f8d5108ac5cf1eb60df8ee30baaf744310', 'cropped_host-a101_cam1_1242749000366260006_d58180b3aed4b68adbeaf4e8a578d03c8d2e0c61bffdae9b327fb04a97bf4024', 'cropped_host-a009_cam3_1236123727600965006_b1c5f70b14635c11c4338fa6b5d08300f4c680c01672405f75a2c977e9ecee40', 'cropped_host-a101_cam3_1242144888100000006_15528fae12657c81769fc9f67d9d609eba20f888c987489be7330cc73f362c1e', 'cropped_host-a101_cam6_1240875142250000006_2b869da7d9b6cfaf31ba8fed168150aa3cfd25599a374ffb20ef74ef6e5cf6b7', 'cropped_host-a101_cam1_1242748999766305006_81dcec182bf79b8b9e20e8e82ca053fcf47a20517461a739d3cda2d1835327bd', 'cropped_host-a011_cam1_1233524888034517006_d2bf16d4f2b226d091d829885e06ae9f1080d5db0d63f70e67235634c66996b4', 'cropped_host-a101_cam3_1242749269999200006_f518c3c92cea5aafcc16bd5d638c52c22ee3ab79d7fafaeb81bffdf1f132e6bf', 'cropped_host-a101_cam3_1240875158500000006_99a60eae32daa0cc90cfd97c0b39a2571a8887508870e53c96f7099b4a1fb0b9', 'cropped_host-a101_cam1_1242749000366260006_87240f9c552ddf12b5c8929b96cc5bf74a01364b9cc39641a160e26d41093eed', 'cropped_host-a007_cam2_1233529729117643006_380524229bed429c965e0f39ca91f8e48bcd8683349f05bc1f868b3925419b72', 'cropped_host-a101_cam6_1242753253144000006_b0647079e67eb4e115c09aea439125adb242f511272f51ad2214e2a6a50ee3ad', 'cropped_host-a102_cam4_1242754975715683006_0102cfe625af1474cfa85b7fff06ef4224baf109934e82a4960a3880fc6512b6', 'cropped_host-a004_cam3_1232905203500897006_4b23fc174a69193e37a8556973385e7c1eac65a38a7a9dbecba7b0157aa8d94e', 'cropped_host-a101_cam5_1242748817332264006_13f947ffe0f04289db4ac8d038fa7c6ada88c9f3e1c1f0db8b1b6afc0321a63d', 'cropped_host-a102_cam4_1242754976315653006_4f59948a3c8214edb264822f61456326d22c0b51f77e780c82dd1870091ead0d', 'cropped_host-a102_cam4_1242754977715594006_8d41dff937554deacdb3f2baf19b86e4e49b4aea7e39cb606b53ba5c4e0d8af2', 'cropped_host-a101_cam0_1242748999549497006_d4d539c73b71710cbc1dd985f035391863c70dbdb834756cc85f159f3987efb2', 'cropped_host-a102_cam3_1242754978899260006_38189c1c7db850a1831e743927c36345cf0280710203dc42be6007a85506e875', 'cropped_host-a101_cam3_1242144887500000006_c5a881515558b94f26e3ec8f3ee7f9a4e83de10f90bfc29b36b072ac473a0191', 'cropped_host-a101_cam3_1242144888700000006_e21783b509c685483d5cfabcf99ca7dd8893d297a24705b66cc0a45e1ca36cf2', 'cropped_host-a102_cam4_1242754977115564006_762b9a25b1e21d7d0b38797e335069bd0cdf5d1e316515965d834f624d48b47a', 'cropped_host-a011_cam2_1233090645017605006_290602945209ca65736cfdf318760b11b8714acfea5fbad2e217371da77985c0', 'cropped_host-a011_cam2_1233688948117605006_dc32b1ddb6ba63d2d8610cbce614fda21d39d2f1ca497b0ce5e2a0439f69599a', 'cropped_host-a011_cam0_1236123626351142006_1ee743b2b495e41153912a615a0385d872056a3737a346b30ae28e0e13adcc19', 'cropped_host-a102_cam5_1242754971532293006_a7bf2fd20e1f0e4b8282b5c14c34651f4643f2eb0e907daba10534ac3a2c1d79', 'cropped_host-a011_cam6_1232909943351145006_54e9a907e94041dce9a0070a9be3d44ae24cd710f5b1a31748ae79b72e081891', 'cropped_host-a101_cam6_1240875140050000006_126c8e5c6de3db82ede29a284a5200ee942083458007156de356198d895f3b8e', 'cropped_host-a007_cam2_1233524864017643006_9006a8338ea6066b9e6e34ebe67b0c8777f476355e66df897d589631ba53e57a', 'cropped_host-a102_cam3_1242754961799467006_8e2d2f3942b85098a4c61669d061e4a0b9ffe0ff0a9521cf7e63fec28e2c1c0c', 'cropped_host-a101_cam6_1240875143850000006_e4bbbc3b660eb38c11ebe560731c53136e158676909e3fc4dc45e476e13569bd', 'cropped_host-a102_cam0_1242754967349141006_2ae4a5dad57be1dfb2cd10a9713ac5d9c67a22eb776f89725edeaa35bfbb0c56', 'cropped_host-a011_cam6_1233688944951145006_d9332cf51d5b3ebebb27fad72beb44febff08b6e0d4645105cb9a6965c8e5377', 'cropped_host-a102_cam3_1241548687700000006_4856704bbdc48ae1ca1a3796c53b005f1f3598f3f12feffa38addc4bfc43033f', 'cropped_host-a101_cam3_1242749271599393006_9cfd8b95991decd28243566f652de4d6dca7cad02ed43ab77f4276298a24954b', 'cropped_host-a101_cam6_1240875147050000006_2af4d1f5843f306eeee0a2181b692fbd4ca0c3fe6b7c7df2882a7eafedc965fa', 'cropped_host-a101_cam6_1240875138050000006_4074b5df294686d3d31054a5f2c07accaba05198f01759b91cbc78f8d5f6dbff', 'cropped_host-a007_cam1_1233621280734286006_4748ac95ef07cfe1578a0a2064c98d51685d8ae40a3d4a73699f67fab69e9703', 'cropped_host-a011_cam6_1233965316351145006_7249a84c1f0ad3ad63aa362e56693a026fc79fec703da407c290a01c824c735e', 'cropped_host-a101_cam1_1242748999966290006_854abfa9f3585ecd1beea56f3a0114100cf730884d41a41f5db08d8ba83715c0', 'cropped_host-a015_cam2_1236112615717581006_97f3258ef647877a1cfd3379572e9ad5ee5b70bd31003405ee9d93397e0d597f', 'cropped_host-a101_cam0_1240875155450000006_5a724326f0402195fadd7ec0364eda61cb088689411d5c231c6d971c0962e08e', 'cropped_host-a101_cam3_1242749270399200006_810879f6b19f6cccaacd9f720447b5eac3658d1e20edff763ab5798eadceda4d', 'cropped_host-a011_cam1_1233090644634517006_3a654e3e8814150a4f43f4320a8ab38f9ad78ca9372e60642549397282fef1e8', 'cropped_host-a101_cam3_1242749273399482006_9dbcbe5e1cf61a25bdd2286426812e3e965914641539dccefc6aa2e0b3af4044', 'cropped_host-a101_cam3_1242748818699215006_92e1aa890d631c49d717851730654e4ae56781878dbffb4bb876aab63e41115c', 'cropped_host-a102_cam5_1242754970132234006_10e5891071e4c2d1935c167f4b703c51642a83235bd2494c85d64b5fcdce0632', 'cropped_host-a011_cam2_1236119842517605006_899ddabbbdb596c73812118f6453507b0c7734a4103fa2b1b8d8f56dc28f2ad7', 'cropped_host-a011_cam1_1233087926834517006_0eabc4091f00d9e466b74eee581a90870ad74b676424422bfaf3279db27573b0', 'cropped_host-a101_cam3_1242749273999512006_ef2694736535fef7bac451c40475a6c950472e7829f72d56173ea1e896280f9f', 'cropped_host-a101_cam0_1240875154850000006_b71c0c76616a8bf0ce1b2c977b2d334dbebd8d9a15fec92cd22724b128c86796', 'cropped_host-a101_cam6_1242753252944000006_e3384f44efbbcb4e68d9cf08d67e0f04b9b9d0a1aa1b9fa8073335d52c16249b', 'cropped_host-a011_cam6_1233688944151145006_4e5cf18f577454b4cbc0ea087a3b84f11c50d3d8e70837fa610e85c351aeca11', 'cropped_host-a102_cam3_1241548686700000006_e851ec6023f3ee1c383f46aa804614d0f50435ae26ac12a73071290a2953997b', 'cropped_host-a011_cam6_1236104044551145006_9079f3909e5ddc37ceba36c96d48c12c38ae63c6f4bf3cb8cce1b9ec9ce6ccf2', 'cropped_host-a011_cam0_1236093969351142006_92c1dca881fe126a9615a32593a23c3a6b5111602fb958f08125579883a9b78a', 'cropped_host-a007_cam2_1233508038117643006_722b5dddf972788ef3a4bd2af161bed4ee013090d02b8e4d2ca928ae196d89ba', 'cropped_host-a101_cam0_1240875155050000006_1fa2b2ef1d39d18a2f1828e8fd56aee28e18e55cfbe8f9e2291de8f512ea3014', 'cropped_host-a101_cam1_1242749000566260006_0754e2c5815b5d1710569bce67625b2d5b0a4cd46249b086a81b7d3bf09db498', 'cropped_host-a011_cam2_1233090644817605006_85c23a04ee1dc1237e66f2b25ad2903a9dab3e03cba22b394c9f4fb7ae6b88b2', 'cropped_host-a101_cam3_1242144895300000006_1a9cce01036a6aa0a89d7cd723fbe568db65edd39be9ae94d4e2b463a951fc48', 'cropped_host-a101_cam6_1240875146250000006_e169b1ad8a03e5539b36e3dc664246426efd357c51280e6ea0baeee33d1db2f4', 'cropped_host-a101_cam0_1240875155050000006_fc0a0990e7cfe658682884c5ccda01fe470d6c8fce04b423b5e78a57c42237e9', 'cropped_host-a101_cam3_1240875157900000006_915feb377f957918d54adcbb4066fde72badb0b0d3ae4df5a79abd6f62df7e6b', 'cropped_host-a101_cam6_1240875142450000006_bf1d671686f7c09cd27b0318882f5ba1d72e9fb9a8d9d52610a908688165a438', 'cropped_host-a004_cam2_1232905202717652006_91edc69f578a5e4079c4d81a8916cba07e89de3dbc16279a75c80fd4ae81846f', 'cropped_host-a011_cam5_1233965320167719006_09de1a82a2c8e2c8900b4665128426faf1d77830bd562ae73de2c167b31e08eb', 'cropped_host-a011_cam6_1234031764451145006_d2689d807768788e9c29ba88d430aa843e2e15dcd2547c504f3690eafc45b79a', 'cropped_host-a101_cam6_1242753253344000006_35a9e91ddbbbb6cf61b29979c80e351d7ad926067cb58d4a626e96c6c4b34758', 'cropped_host-a101_cam3_1242749272999452006_208d257f98f8620203ab0f29ab0fdeb857519f3605bb056e4316fbc7b730ba25', 'cropped_host-a004_cam6_1233080770150948006_0d049b09defb3310b8e6ffbbd8b5a521d909764f506b8a34d81e89bee075a713', 'cropped_host-a102_cam5_1242754968532219006_0521286a3ba62117731a49211a7f7a7bddd230ceb581310729a7139370097e3a', 'cropped_host-a015_cam2_1236112604317581006_27d25a9735fb2744fbcd8c8787c6c80acc391d20079167d6a2bb180d80d678fe', 'cropped_host-a011_cam1_1233090644834517006_223406a7d14c78fcb6119977705ebcb7c00f3691faefab1a0094c1192c3488ce', 'cropped_host-a011_cam0_1234025173251142006_7fc6cde41262cf28845e2e9b442b6d3c66b52c7ee07319f95867f2df93f07e8c', 'cropped_host-a101_cam6_1240875137850000006_dd3e99cf521af32075277492b58fcc0a1b9800c1045b4a4d6c03d5bdb2b76a1a', 'cropped_host-a011_cam2_1233688948317605006_eca115577a21cbb6bdc54daa5ec8e3073a8539a0ed8c4e12d6af5493e2dc1166', 'cropped_host-a011_cam6_1232909947551145006_301462005dc4605d65c4c3d356b82cba113668e6d6a3e7b13ea8bea119dc7e49', 'cropped_host-a101_cam3_1242144887100000006_6f4f0142a4e4a31872b694f8d843ca33fc8f7e3cbc2c38cb916d248133c0fe63', 'cropped_host-a015_cam1_1236112609334306006_4ca2abb161917e2b92ab4ab87678ed3f602cfc3c491e5f54ad694639d6d050c0', 'cropped_host-a004_cam3_1232905203300897006_84624d96cb1e21d1a001604da8b35facfbc30926034a6b741b1a36fed0bdebbc', 'cropped_host-a101_cam3_1242749273799497006_5556926354b5f74aa032e7ad055c7bce597770c1e827f077a6f366c494e0e29d', 'cropped_host-a102_cam4_1242754975315712006_9ada204ad91aa85cff3b7fece50c3ad10f1d399a961e488dcdc8cb5542c26aff', 'cropped_host-a101_cam1_1242749000766260006_c5b6ca5d42e2c09f63c5d88a1d7f3259e8d40d6566bf2241febd6fdd092db7f5', 'cropped_host-a015_cam6_1235423712650899006_7a38e9e071305bd14311509e409eeaa7c8c49d8a60378f385a56f61fbaa061b4', 'cropped_host-a011_cam2_1233688948317605006_1e8052be03223b706a40606aa06e91f080abe8ace8e95e5f302873c91305b145', 'cropped_host-a101_cam6_1242753243744000006_fb35cd4411691e26b03e9fba4c2e4953e1c824d00d14baa319af1ddb21c2a7e0', 'cropped_host-a102_cam3_1242754975899334006_9441b54846c80b9b8e43542d09b51892bc7a8b5a09da1817574889952078b558', 'cropped_host-a101_cam1_1242749000166275006_b8b6e03212134307a2fadca10d881be673a90a6325a8e52daf41c717deb6ef42', 'cropped_host-a101_cam6_1240875146050000006_92ce6bd54d70d7c9ec904c9506421ea0152a8a6f003f9fb72497bafd5e8c299e', 'cropped_host-a011_cam1_1233090644634517006_3d27e24b2ec34e714dff7f74960d7f8a54ceb568337fdd8d5a78ca5fb854d674', 'cropped_host-a011_cam2_1236122362917605006_f6440d5d42685de64632617be64acf998c6c1870e20b393f4ac97dce1bf643ef', 'cropped_host-a011_cam2_1236122364117605006_83d46632be93985295c63c1d0a03cb1f679912e27f3a4d1d6e96cfade6b36f09', 'cropped_host-a011_cam0_1232752548651142006_11c5006c0a9faca45e8ec063cb987d16720cee9ad30e82f98a4f4d889e7fe988', 'cropped_host-a102_cam3_1241548692100000006_e97628f1d01893a41005fed52e5019ea7c8440385a9d9e9cc00c9d4fb5e42ce4', 'cropped_host-a101_cam6_1240875141850000006_555c1eb0fb0a925b213e0d83dc83847717d4a391dee375538df9b7d6742ced39', 'cropped_host-a011_cam0_1236093968751142006_828935efe076adc31f9798993b12f11e03d8cd424d271230a93eaa9933cca7e4', 'cropped_host-a011_cam1_1232745791834517006_d159d6c803f4f65639b0dde527f5cda64116f294ba0029aa35dbd86ee47ded39', 'cropped_host-a011_cam6_1232909951751145006_3ac2b29cde7fc1832c37475d9ae2e5de3b53dda25d352e6c21afbc1d37f98e2b', 'cropped_host-a102_cam4_1242754978315623006_fd7a9c493fda1a91a84db9c2fbe68fe205b65e4d7ed1f36de6ac978096eb80e7', 'cropped_host-a101_cam6_1240875140850000006_8b2875d26ddb5d75033b34e7acb4ed5bb312561ab4d662dfd403d9a60c54abf5', 'cropped_host-a004_cam1_1232905201334300006_05f2a8dbbd12d703e7b397e9ca5fdff2512c2f2ad03d31534127e0d0cc975e12', 'cropped_host-a101_cam1_1242749000166275006_9b76667c5d29b02a7dc264927451405332cca4f50d51329d55f0dfdc5c355a7a', 'cropped_host-a101_cam0_1240875156250000006_bf4938a2531616e1abff20b45425b83fe0386627c39c1bf19324ca7d43e0b59d', 'cropped_host-a101_cam3_1240875159100000006_e44fc81a1ed49d6b0f563ac07848559f8af76ee1ac3f9304a3ba407f0ea1c6a1', 'cropped_host-a101_cam5_1240875155833330006_43a8c3600b0087204ba77a4b42160ce3ddbc8c01a501053fcebfe443d4908d1a', 'cropped_host-a101_cam3_1242749269399200006_59b4cf2901ace5382180007b880c8a5a4821760950aa8cb46e0a54d60cd3e4f1', 'cropped_host-a007_cam3_1231093058199360006_4e77e83e9a5491b6fe331a4353913c7be1a353170cc7a5c082bfe1a814a70587', 'cropped_host-a101_cam6_1240875146650000006_ab4c3abbe296b549935fc02d4440211d4c68983f1d77426fbc7dad173a51ed6b', 'cropped_host-a102_cam3_1242754979099260006_710af01803451da600338144c045225f5f1654dcc80b62ffa841dd32390e3a42', 'cropped_host-a102_cam4_1242754977315564006_2f46ad7149425984410c1e62717bbf360505c08da3852cdf2d87f00534ab6dcd', 'cropped_host-a102_cam5_1242754967932205006_cf73cb3c78ed3e27345cc24f2f9082bc1af6443749d20f7190270553f3b57040', 'cropped_host-a102_cam5_1242754969732234006_44d49e81cc3b1e5ff410779a41ef910632f66b94d42ef9e323eed8bfdbb24553', 'cropped_host-a004_cam2_1232842380817652006_c8b2bc3e028f8cff722fa908327887ae622f44ddd8a60edfa7aa446bc04d87cf', 'cropped_host-a007_cam3_1231093057799360006_ba6feb95c447d80b806765812de5eff7add20f6945adbcd83a919475c15e5bea', 'cropped_host-a101_cam6_1240875142650000006_c9d8ee13673cc3fb251376f8abacfa0c532cfe959e970573fd5a58f794f87316', 'cropped_host-a011_cam2_1236119842317605006_7c3956436f75996aaab901aaca4b4e79007b9387cbe3bb0f7899a8911ec818e6', 'cropped_host-a011_cam1_1232732473534517006_01563e731c1b8a2cc98b47c5276883dd6974613167ec643c502758177e0c6e53', 'cropped_host-a011_cam1_1236039805834517006_f629e6604de913e0ed7e6bdaf8a2e10c503a522b9cceb66a3961e3730426e4eb', 'cropped_host-a007_cam2_1233524865217643006_ae2841d0eda3c5bbab8bcfcbbb8108b1313a01f85a7803816133ce61a53c0c49', 'cropped_host-a009_cam0_1236123721251174006_cc3c59a8ce696b412b693689a6bcf062dc620b4f67e357af9e618e5d73071c5b', 'cropped_host-a004_cam6_1233516155450948006_69480168db3b1b7b724b72e3712a6dd13c815a466151118c1bb2b05e82286357', 'cropped_host-a101_cam3_1242749271399363006_be66c7704d8c4d08fe0b916775b433387d0b36dd5186411059f67867fcda0925', 'cropped_host-a004_cam6_1233080770550948006_be25781c7ccfb6b1d5308806049382f035403e61080e17d797275f2dbfd4f0d3', 'cropped_host-a015_cam2_1236112604917581006_4df9054de0b9574410b49cd2534389bb7396969eb5e0034d5806d95502178cc0', 'cropped_host-a102_cam3_1241548689500000006_cd065e62b944c970ffbe0d15ccb1b32d61f1f3369ae1263315a3a8631cd9b4db', 'cropped_host-a101_cam6_1240875147250000006_bb5510c888ffc3a0b433875c8c3c6a1675db2ad14fe44bd41edcae249778c672', 'cropped_host-a101_cam1_1242748999966290006_692120a1892bfad762211de550d4e240181c599f33bba2aa679f8105cefff8b2', 'cropped_host-a101_cam6_1240875144850000006_8941eb4a65069767e48c4a54f8b6bf8bf4e99a566323fc5659afb310bfb5c564', 'cropped_host-a101_cam1_1242748999566320006_d4d539c73b71710cbc1dd985f035391863c70dbdb834756cc85f159f3987efb2', 'cropped_host-a101_cam1_1242749000366260006_1ccfd5207e0fc9e7403c97b6dc93061ff20a4600a950589d1591484dfefaef63', 'cropped_host-a011_cam6_1233512840051145006_fe9c6a900ac4174cc8542a0c7378d6537ffff29c3b238296dc59dc6a2dea15f6', 'cropped_host-a101_cam6_1242753253944000006_ca2af6a01fcf791083d02c702285a19284279d0315b69a4f33b2325f715fc7bc', 'cropped_host-a011_cam6_1233688944351145006_4e677a1988c97d9d8b9ce5b932f870de119b38c1b6a5bde771ff30f1d2a96a59', 'cropped_host-a011_cam1_1235950300634517006_40fa4835d3f199aa8147fd18d85d486cf62e1570e97d998e067acab25636354b', 'cropped_host-a011_cam2_1233524888817605006_e85ebcf8c8539ca0e71ea0a95608a411861523edf9ae27202e2eea740c9a6605', 'cropped_host-a011_cam0_1232745791651142006_69f177e3b20215a39591ff8e769ce7996b4265d38977c40ebbdd67583b18aaa7', 'cropped_host-a101_cam0_1242748998549571006_fd605409169c3356184725b3e99e2488659e3755597804ccd9bd749f51457e18', 'cropped_host-a101_cam0_1242748999149541006_167a277a7ed36f1b53a015c25f2d9f64d6ef5345f7788acd9ca60e8d8155445f', 'cropped_host-a101_cam0_1242748999349526006_09b7d943202e5e93343fbd04b525e22f2945af222ce1efda95cefb46daa38879', 'cropped_host-a101_cam0_1242748999749482006_67b305118181489bb0f4eb59f5d6f6bb1331e84db1f493e5571ed1fa754690c9', 'cropped_host-a009_cam3_1236123727800965006_78407da8d8049b5ad8eaa594182dfa34fd9cee19d55ae9c1f535974b6cee687a', 'cropped_host-a101_cam2_1242749002782945006_05ac128a4ad32ded57224ccde094d53f3188e3e6926b9b1199c0c7e054362bc0', 'cropped_host-a011_cam2_1233090645417605006_a79733c6990a913219bc034a1fa6329cfd36564697da38434e0774a47b815bc3', 'cropped_host-a009_cam6_1236123717251064006_133bf2a9800bed9ee6282f35b61f09f4a2fafd0e985f435a2743513e2558354b', 'cropped_host-a102_cam5_1242754971132264006_3bffb2d1f7de1caffe37d75d48c8538537ecdbc774e7cf7ca8233bbad4cb3413', 'cropped_host-a011_cam6_1236122356151145006_47c7e3e8c7def30631448a152dac99c95a8c1533899989fc899d75fd5162e887', 'cropped_host-a102_cam5_1242754970332234006_f20b7640cfa6a9f9494629967b6c245c4cca619f96cf37fc70a99d909ae147dd', 'cropped_host-a004_cam1_1232923282434300006_bfab1a8702390e150bf4d79b91cdc3936d4569e0e1ac14e918262c602b3b09b0', 'cropped_host-a101_cam3_1242749268399200006_fcf1d117c6b088e7fa54415ba40d10e7a28bced6c65d83bc405547436b4a7ebe', 'cropped_host-a101_cam6_1240875146450000006_af43489abe7b965c75c988236df8661126e707adf6cde5ca8000eb0b3c432742', 'cropped_host-a004_cam3_1232842188600897006_00ec7024404490f064671cfd61f2cf7713845949a2b4b1e6ff926e4e389752d4', 'cropped_host-a011_cam6_1232909947951145006_a8bc3f7a700f936f00886b60c73bdd29939aa88df39cd122c77bf2b384470591', 'cropped_host-a011_cam6_1236093971151145006_188dde4869af79919bdea0136db91966a70c12e0ea0acbd1d29397ec67133eb5', 'cropped_host-a101_cam5_1240875153833330006_161597de6bafb4a13c492b5f1738d6199fac03a5bc724c25c6f4ceb928c47e7f', 'cropped_host-a101_cam3_1242748821399289006_c91e52ef7bb30f7301af7c80bb18e711ecff77c03e4ac01db23f400a8d01dd92', 'cropped_host-a101_cam6_1240875141450000006_59a51a3f9339f9c279ac6cfa166f17fd391d77e1ae99b93b4a5f471f500ee255', 'cropped_host-a101_cam4_1240875155416660006_06ee132abae2c532845035ea26c0e5ec5e82c4a44efc86876eef1d19470f2960', 'cropped_host-a011_cam2_1233524879617605006_54672246cf6a8f496c361a717c0a4f550d2b2d5a58ad3c9fb490fbe426e966c9', 'cropped_host-a004_cam0_1232842187051064006_2a55c7103e8845d4dc8a2edf8d61b55942028a84081d20ef1299d9eeb916d68c', 'cropped_host-a015_cam0_1235423651850968006_a1fcafe508ab1dfb0b6bda51986eea6c9ef0ca4ea548f8b4a5ee3107c2c992af', 'cropped_host-a011_cam6_1236093970351145006_e828b4d4ab5d28d1473accad5bd4c640ddd18cb2c6f41783b16f31c94bd8e05d', 'cropped_host-a101_cam6_1240875143450000006_12d18e2099a9ba01877934919fd53c49446ec9b32e83333cf25f35e84bfae9d3', 'cropped_host-a015_cam0_1235423652050968006_351745c4c7d53427917b9c2e025d3ce619dc6945f5bace2fb4437123daa4d3ac', 'cropped_host-a011_cam1_1232745792434517006_1c85ac35b49d80c2c7bf6391684ea3c0894033408915458033ac5ac742721bb4', 'cropped_host-a101_cam0_1242749000149438006_9b76667c5d29b02a7dc264927451405332cca4f50d51329d55f0dfdc5c355a7a', 'cropped_host-a101_cam6_1240875138850000006_bcadebe33673c919a148fee960bd6c8a9f47d1549e33017c9c067c352f8552b1', 'cropped_host-a011_cam6_1234025171051145006_c13dc9c429c989d086996838d2ac389f7c26731709290d602074a4050969d90f', 'cropped_host-a004_cam2_1232842380417652006_2c71b6d9d90d17d4176d6be5912dfc1aad409374eedd8735febe0acc977fae86', 'cropped_host-a007_cam0_1233515609050897006_267dc26730ae2c1fbf2212b4a13157ca3406f98e78a6f40adaecaf8816f3d87a', 'cropped_host-a011_cam2_1233090645217605006_6d81ee68a12b8b0600b8899a123736b3df085fe68017c359a2e540f2c208713c', 'cropped_host-a011_cam1_1232745795134517006_1c93a782b937bbb0d3fcf5cdbc2a2bbdae7a48482ad2911b46764e315f965f3c', 'cropped_host-a007_cam2_1233524863617643006_27e1b7d4dc0746164cd5e4d02e2ca5ff498589dda3e831f3ba66d63ed225ed40', 'cropped_host-a102_cam0_1242754967549156006_85b97ff50bb20f5359014e8a22a04e96be021f30b37382d606f8c0c6c6ef3353', 'cropped_host-a101_cam3_1242749268999200006_43e613958efd5b04f7183edd6bf65298fffdde744cad366f42147f32579b8b65', 'cropped_host-a004_cam2_1232842380617652006_64ec5040ff8d522b2a8bc574bd2e836393a89ce6729b712afcb22b005c08f6fc', 'cropped_host-a102_cam4_1242754973715727006_cd348caf54f23d5723c1e51b019dd1ee2138dc333075799923e9591ee4d65f7c', 'cropped_host-a015_cam2_1236112615517581006_99069038a4430215599a3c765c2de302db76a1d217ae8485e9769ef713d2c0ad', 'cropped_host-a102_cam3_1241548689700000006_48a65539942e2478e0afd8d3c91221fcec0c0156bb5933aa296e8a5eb9a23de0', 'cropped_host-a101_cam0_1240875154850000006_4d648dd3ac413a970649d0d6bd58c00ba22e0d7138540e196b83c3f243cd4250', 'cropped_host-a102_cam5_1242754969932234006_118298699b999848afa43d0224f7f4ff487521fd6cc3cc9aa8b47d0752ae218d', 'cropped_host-a011_cam1_1235931114334517006_827dde43a36600849b98338ff380de9a5bf52e66f24e8ab459d4418195480970', 'cropped_host-a011_cam0_1236093969151142006_8ed85afdfd2967f9669e26a3d07d9fc78274529ba16c9454f8188b607697c3d5', 'cropped_host-a101_cam6_1240875141250000006_c6872e0dc41851a4e92f2d3557669ad442c24995bca4b41dbc47e6322709d4fd', 'cropped_host-a009_cam3_1236123728200965006_90bc95efe1fae9bc9d30c1cbc55f9c6ac96e720c1b1f4d20ed05cc22064e7b89', 'cropped_host-a101_cam6_1242753252344000006_4e420ffc853cdf8d5124987d7e52377b74724b8c45b639f1579a4b656c3bc90b', 'cropped_host-a102_cam0_1242754967749141006_00f3cb80c0c7404f43ea2dbe42bffd36a7c3839a57fab876f8142d9ef805aa8b', 'cropped_host-a015_cam2_1236112603717581006_b29bf5a51707128ef298b50a8848ec7488c2ecf744cc341a61433c646fb72778', 'cropped_host-a102_cam3_1242754976099319006_d2c12d0830807f49933ea9dd9d7170196e4e3f9984e6c5fabeca4053577af2b2', 'cropped_host-a101_cam3_1242749272799438006_a929b5918b5cea51b4327eeab21e53d84821fdb9ec7b0ca4ee39eaea413991fa', 'cropped_host-a101_cam6_1240875136450000006_cd88d293fdcf408baf0fc4bb17e1dec8c4ff107886215e2bba3290892e2b6055', 'cropped_host-a101_cam0_1240875155250000006_6fce187876c5dca228f5bf0aa6dc73cd61c0ac03fc3c3d4ba2dc1c16c585badf', 'cropped_host-a007_cam3_1233515598600869006_180d39866682bc069ab47228b546bfc27c76eb5ef0a48d04adf962e0ce46b6ae', 'cropped_host-a101_cam6_1242753253544000006_2e21e3d97a273f7b977cf3e280f2cb144bba9644f36501c4a49a618da0a6d6eb', 'cropped_host-a102_cam0_1241548701450000006_6750d94285b6e7a1153b881721404f5c104ab814aa5fa1245c1c28923cd3f42f', 'cropped_host-a011_cam6_1236093970951145006_d14f019ebf5325dd3a461ecfe307aba3b61dda4dc2ad8fc6f19d1de40b036fb7', 'cropped_host-a101_cam4_1240875157016660006_054c977239046ad24d77424f006dfdc7f4eb961d42d2d3dfbb32ed4ac7d574c6', 'cropped_host-a004_cam1_1232842174834300006_84129497579a0f42783ef0982fb9a5db388c4612c8c96b01f74fff126bebcf32', 'cropped_host-a011_cam6_1234025171451145006_a02c3e32df9bda1f8a670ed7fa892da80846bce8e90f37e05c53b1c9ebb9b4ee', 'cropped_host-a011_cam6_1232909947151145006_2f3e72a71e95649da3c0d703cf768aab3206b9175e426b796d202f36d512601f', 'cropped_host-a102_cam4_1242754975515698006_802bd5f916f2f3fe1b90a77c5e4b2a9d9a1b1b3bcc0536fecf2c922a6e7c1aa4', 'cropped_host-a102_cam5_1242754966132190006_77c4ba73acfc668b135062879eeb389c74320c7dad98f26f70c8990e0bf41bb7', 'cropped_host-a007_cam1_1233621280334286006_6a3ab69c0b3cacbec1f8b677f9b1321604069ea3e2b90aa6ca7e1ce99158096e', 'cropped_host-a102_cam3_1242754962299482006_86a86310254435da439869b78b913cf66f28eefcf5ab5c311adf30cf6c43458c', 'cropped_host-a101_cam0_1242749000149438006_b8b6e03212134307a2fadca10d881be673a90a6325a8e52daf41c717deb6ef42', 'cropped_host-a011_cam0_1233524887651142006_72fea4320188a846db2beb2dc4c1a2eff305a5c52f2c528cc7ade4db69d08e66', 'cropped_host-a101_cam6_1240875146850000006_326d37be77c5f12b7404a24c75374f0f01389d2f0081c90362c283410ee3073a', 'cropped_host-a101_cam3_1242144886500000006_e193e7c999fa69c6ef4ba22ac9b208b55de7ebfa485e4988a39900e8000505f9', 'cropped_host-a101_cam6_1242753247944000006_3355f49d83da7c288073b473dcf63d753d88ac234083ed79b4384b742aa715ac', 'cropped_host-a101_cam3_1242749274399512006_275a3c4297f8554cc35ffe299b0f934939e18b56cdeeb48a2e6c0962cc1dd769', 'cropped_host-a011_cam0_1236093974551142006_c4c3ed5748d03f936fb0ff42e42b16955620506319ed92dd42ca207943952856', 'cropped_host-a102_cam5_1242754965932205006_ba8e795cb9bb004cca4e6ba7c92a58eea75e9744f91af8511eb251238ff67326', 'cropped_host-a011_cam6_1232909944551145006_46635ad222f3e03494b8722c9f08ca2c04a3c8e064f5364d510f05ad3b7c148a', 'cropped_host-a101_cam3_1242749271799393006_5b897b4a54b51491bb7759a6922c78038be7fce318127ac8ab56773cd4c7dd63', 'cropped_host-a011_cam6_1232909964551145006_9527475317ddc073d3f2112f027b21916f7f6c4ef15f1df9f80aa2533ada464f', 'cropped_host-a101_cam2_1242748987582545006_1b95a42ca10789e642e042eeea192102ff0035cce3c31f675a8b48914ecbd83e', 'cropped_host-a011_cam5_1236038933667719006_06876d98972f270ed0faeb36ffdf897dcf206fc960b9813b47b39beb3f1d8f2f']' has dtype incompatible with float64, please explicitly cast to a compatible dtype first.\n",
      "  training_records_df.loc[row_index, \"false_positive_images\"] = false_positive_images_str\n",
      "C:\\Users\\stern\\AppData\\Local\\Temp\\ipykernel_16028\\984681418.py:90: FutureWarning: Setting an item of incompatible dtype is deprecated and will raise in a future error of pandas. Value '['cropped_host-a011_cam2_1233688946717605006_b485544d04e065ff1cbb4deb3312e8f9aed4b3cee66ba0c0d7be446db6612aae', 'cropped_host-a011_cam3_1235866720900995006_773d03ed25f8e90bed04fae617e5b801f231447e419ca8924d7c88b3559650f0', 'cropped_host-a101_cam6_1240875138250000006_1391de04c4dbd21073a435a3d47c3344b023e30d11719d0cd0fa8c127b170fa2', 'cropped_host-a102_cam6_1242754971344000006_034393c87c6aa2136102a0267d02b872775da19973d2b4dfd94fd483c3c098f1', 'cropped_host-a011_cam0_1232752781651142006_aaf554f0c0b513e064c4de902914d478323db2d803408ae093241c48cec11cb1', 'cropped_host-a011_cam1_1236122373934517006_a05996527a7b671b46f7f3f0a4ca6b3f012916e75be4f41d65cc5a7edc0f158f', 'cropped_host-a101_cam6_1242748831544000006_8527ec86a0dce94a4f3a335589c63c215abe04dda73c9021dd4b4abe849cf210', 'cropped_host-a007_cam3_1233079631800869006_2880331d253145c432fe3aff24a51cf8d2fc2dba4f9e5b3396d85b6c401fe37a', 'cropped_host-a004_cam1_1232905222234300006_b7456715cc362b5e2fd2911a323025d9e928065074398ff65120d238c7c16efb', 'cropped_host-a101_cam1_1242748836966290006_ffc14488ccbf386db20dd230a60b63bd80eb780574509d969724e86f2b545013', 'cropped_host-a011_cam0_1232752782251142006_1f307ff758a68641ff1aeb0b86d0c62ec6738647dff37c849718b05ae5cfd4bf', 'cropped_host-a009_cam3_1236123741600965006_c505ae60329b579aa00839af9f5feb6db1e1acd74df9bd48fef662fe10078f82', 'cropped_host-a004_cam0_1232923267451064006_f7957d5eea99a7ff5c3923ac5135c9d2a0a98fd69f2ba3872c2b4d4414798ed6', 'cropped_host-a007_cam2_1233079631817643006_2880331d253145c432fe3aff24a51cf8d2fc2dba4f9e5b3396d85b6c401fe37a', 'cropped_host-a004_cam2_1232923277617652006_d34377366d9e1878fb12ab5bc995866161a49aa03692923ef48ac31ccb6c4702', 'cropped_host-a011_cam6_1232905794551145006_920b190186b5b384350611a01656afaa40ad854c7d8ced7641e4ce5b75eeb288', 'cropped_host-a101_cam0_1240875153050000006_181a7799904cd97326b1f09e0d4af703709a88b732ed53c7f28621d2dfaaeeb5', 'cropped_host-a101_cam6_1240875147650000006_c23a3ebadcb101b457a6e384d5e0544628c9dc0b06afa3390bdd6290e6005a9f', 'cropped_host-a101_cam1_1240875153266660006_d8c6ff1c736b71cb524d84676eafac6c3124d7bca6661004876972666df1c74b', 'cropped_host-a101_cam6_1240875139050000006_3cc26d2ff6cf5a42ed9d7a562f859c761420f7a642e6907161a0448fc824129b', 'cropped_host-a012_cam6_1235937146650881006_cbf7376a2d30eb2a9e0b3b4a50be04a658d83a974af215708765874804a133fe', 'cropped_host-a101_cam0_1242748837549526006_49523b618e1fe096841162984662d76ded6cb1ff73ad9749928f39f7472b6bcc', 'cropped_host-a015_cam4_1236112615784076006_728d8ea8809312d41dc7b5ea542058134ca9f92093e8a32f57c73d2357d93b34', 'cropped_host-a101_cam3_1242749000799467006_941d30ca4fb67b686f76bff381b061258875c0d40ca9a5d647f9f75914c6e20c', 'cropped_host-a011_cam2_1235866720317605006_62c0f72047e0232b54f47308f44f69bbafd093b60006bdae26ae3c0116599d67', 'cropped_host-a101_cam6_1240875146650000006_1103f200411f2d5514d12e406f2b87b56f01de648cd97e0642f13124e5a34628', 'cropped_host-a011_cam0_1232752781251142006_a008ac87d2c263ed0c56a623bb89198d0820fd03387c52be39e681734f29e49c', 'cropped_host-a015_cam5_1236112604367453006_475f0aa6d273bca24d886f6c5fd1c820d8397de8789c36a638bda1f761dd98a6', 'cropped_host-a101_cam1_1242748837966260006_59702cfa5010ed4b3900cdf9c7496aa5823e74bf930cdf50c948c3c9dcc39994', 'cropped_host-a101_cam1_1242748835366260006_f09e539401b928c6bd2e28467a6080d5dc1acc02a4953512537883d94b42e94a', 'cropped_host-a101_cam2_1242748841382738006_8a1df727a9ac1e2bc40b40815f5ca86fcee6c263e89ec55dfdefcb804547b554', 'cropped_host-a011_cam4_1232752552884485006_c7ebd4b5fd742ab770d55087972bd8f4084e7907bb185e80fd76eaedd13d1cf7', 'cropped_host-a011_cam6_1232745791451145006_f6cf559b721d1b6b8cfed3ae45be48c973446d36236fb7396b333d242a65549c', 'cropped_host-a101_cam6_1240875138450000006_d378698acd11de3b9c64a4f86204cdad56d6ff2f5f52e5279f66f469f0010ae8', 'cropped_host-a101_cam2_1241561165683330006_4be009fd62f58ed223f7eeb9f8faddf2d96acfe27d81079e92732ead350e5475', 'cropped_host-a011_cam0_1236122372351142006_0bd48e7027e4b4404f9941adec177c007796dcba035046a1cc94aac97eb04a0f', 'cropped_host-a101_cam6_1240875137050000006_b808175711de387d43d9b2e810c9ab799b325759a2a492f1ab3f10f89937d7f5', 'cropped_host-a101_cam6_1240875147050000006_807841ee653b5de68fb875b4e0bc18499482f0fd5efec0df44033c7e0cfa3488', 'cropped_host-a011_cam0_1232752779851142006_f3a7fca1ba9fc0edc2bbebc6fc7592232bad7f037e8db350733e70f38620f6fe', 'cropped_host-a011_cam0_1232752780251142006_d0edac401976505a2529b08bf75b6152fe874a9ee6c4f7e0f77671958eb85ff9', 'cropped_host-a101_cam6_1240875137050000006_a871df34d331672ddeb48b5da541823d60e94c4333674f4d3399c238702d3643', 'cropped_host-a101_cam6_1240875138050000006_3c8dbb0e9337a71c2793dd86f85526766a0729bda69d6447a4b215dd1d5413ae', 'cropped_host-a011_cam2_1233688951317605006_4f7695f6fc1389d78ebeb8d908701cde845fbc7475f093a581434bc4579ad16c', 'cropped_host-a011_cam1_1233688950334517006_386f0efae13451b84a9217ea8effe49c148e2d9da9beb39f2fe33cc6750b471c', 'cropped_host-a101_cam0_1242748837149526006_fddb71532333c64296e86a2ddde1625764959d729a5d58482c26afa15d5e5851', 'cropped_host-a011_cam0_1232752781851142006_41ab661d079745eaeaee964893fa96174ab9fb7d4edf0245c303938e419a39c1', 'cropped_host-a101_cam6_1240875136650000006_1fbbeb301e1e341110117273b419ae6202b8fbd84f23245fb61cfa50495cb480', 'cropped_host-a101_cam5_1241561159833330006_235e5c95e4ba0453621e7c8da1263b177a39bc7949d9e459946c422e43dea9bb', 'cropped_host-a004_cam6_1232842189650948006_1b4c332451b32b8cc6510afd492d16afeb05b0e8cecfb9ff34daf3cf2a019154', 'cropped_host-a009_cam1_1237581230234345006_aab0284efe5560f657163fedb4e80f7e29b061363f004668ac47c60e601f1c40', 'cropped_host-a101_cam1_1242144907266660006_326c7f96cdb8ccae54f3af49ffc92f122a949729e805ea3f67e0089f04f57f1f', 'cropped_host-a011_cam1_1233090575434517006_24ae60e2a4d305cab0ebe59d47797dd2c28b0a70982a02d86c0da465bdd3982e', 'cropped_host-a101_cam2_1240875154883330006_62fe69db6c8f60b28a624f6720eb383e5c874532ddc8a00036b490a26b127760', 'cropped_host-a101_cam3_1242753261298978006_77a7818dead4681e3d42318c156f7e46f04a7d28546f793de3c348504a76fd24', 'cropped_host-a101_cam1_1242748840366260006_e7ebed7d3669fff3d21cadc1ece4f50f3d675dd5fd15edf72c2422a1458afa91', 'cropped_host-a101_cam6_1242748829544000006_f8bc1b9f9bc52c810d26fffaa96042d456d129d53e3dc5d9fde062eaa36f897c', 'cropped_host-a011_cam6_1235933801351145006_2b7d71168bb03cb20de0d8d4cb06954481b565205f388fdf1db6af771741b4cf', 'cropped_host-a101_cam0_1242748837949526006_59702cfa5010ed4b3900cdf9c7496aa5823e74bf930cdf50c948c3c9dcc39994', 'cropped_host-a007_cam2_1233079631417643006_4fea629d8b977ea048e4a3483f7ea6a13aef73d61037f4ca68aa1cd430605627', 'cropped_host-a101_cam1_1240875154066660006_9cb6ed79fcbfd8cc6b46462d82a4352e127f5fe6a32678b9e9912907407baa79', 'cropped_host-a011_cam2_1235866720517605006_2bd0a7bc15986586547cb9556141ceb48b74ea5b14c1ac048ca6ef4b58a97add', 'cropped_host-a101_cam1_1242748835766246006_48b4c440bc367f9fe44f4b2ff0b178320ecb928d22abde70195ff19cf8464aae', 'cropped_host-a007_cam3_1231093050999360006_5b9690ebadb991a56d6017cf3f16e61df15d9b03caa13754ec12ad8871ba3e1d', 'cropped_host-a101_cam2_1242748988982545006_f0e15c0f4b26062a5d81e8ba2cf30597dba6cec5d464d38a2ac7869d932cad59', 'cropped_host-a011_cam0_1236122372551142006_495855372074deef153ed4fbf7eeba425ecbfb6f27a39decad83367151c1aecb', 'cropped_host-a011_cam1_1235866710334517006_dfcc792cac19827032f615e520c9b10094ba21b61b135eeeb5fb678d84074605', 'cropped_host-a009_cam2_1236123741217740006_042b71e396803512c315880671170190145416f8dac918fb72eb6c65eea95fa5', 'cropped_host-a015_cam5_1236112604167453006_56376f2bf54db4cbce41f222e1c802e79210f327ff0df350db28817b934ca6e0', 'cropped_host-a101_cam2_1242749002782945006_2c9818cad5adf83fe89bc0ee34f6a6cb66abc57bf1e42a74e0735519d64111b8', 'cropped_host-a007_cam1_1233510601334286006_c25f13adf5af22eccafd28d485ad81ac101217979caf63518fa5d9fdfc28df75', 'cropped_host-a101_cam6_1242748831144000006_7da509822ba2c007c3da5497622ccbe017d6e2c8bdddc9c3974eed98e6788e27', 'cropped_host-a101_cam6_1240875136850000006_3de6836d4dd86efc93d88bee80b2f7676e091c14014ee3f2a08696d850e35f49', 'cropped_host-a011_cam1_1236122353534517006_69cd5935c6a5fb1b5abd518d010d592c075b274c2e580fdeb2b0a13b0f1f2c8d', 'cropped_host-a101_cam6_1240875137850000006_af9a3c9ea5e361da888f59946850028de583283ad02f39d95641cec3b4a87df5', 'cropped_host-a101_cam2_1242748841782753006_d9acf238acd938709c9410515b023499aeb90e7a07c8afaa84a7d305b4816002', 'cropped_host-a011_cam0_1232752788451142006_9a2fe0c64d87486c385744f1dca3cc1351245f0ec70a01fef221db2b764a8429', 'cropped_host-a101_cam2_1241216098583330006_f29d6e00fadf683f9a2aa7547ee3b71ea25046f709b982368ee223dda953fdb2', 'cropped_host-a102_cam3_1241548695100000006_8dbed5fa2e246f60a0ea053f17b0ebb9488de266442f3afbd8dc0c77d429f06f', 'cropped_host-a102_cam5_1241548696033330006_cb532de6a7e459861b3f5e572df056ed1466d4563800e89e29e0cc6eacd81c31', 'cropped_host-a004_cam2_1232923277817652006_11a24c6bb045bd491188920b7955e308122d7bfb91692073a9156e60037eaff0', 'cropped_host-a007_cam1_1233079633634286006_8a60b4f4116b190202faa167ec4d8af9f0008a33d7e2c8e8e585aaa645645dff', 'cropped_host-a004_cam6_1232842189850948006_8ccea147117f05a8728addf634db6cc66568091004d68e4a5160686d5cb6037e', 'cropped_host-a004_cam6_1232842189450948006_5ad438222aa3e639d1eb6ac88a4e225d98bcca297877591600b088e403165e59', 'cropped_host-a101_cam6_1240875136450000006_97a36f8926158e416c6cf4a8216621d8e3b812a0a51842c14d7c8af91df86692', 'cropped_host-a011_cam3_1235931136700995006_a4368196e33874090f66795ee387b2a6e9607de8394f25fb3c051c73bddf2688', 'cropped_host-a009_cam2_1237581216617740006_9743c8b595013b48a951443e5c9d813a27978ddfd2741da8e9184ce714719e54', 'cropped_host-a101_cam6_1242748831744000006_61dc73e7df14c64da54bcbaaeba8c563e8fd427ca482ce78610f73c5db071d59', 'cropped_host-a101_cam2_1241561165683330006_0f4b3d2932cf2f5780223b2caa8eaedb249184ca82e30e86ac7f4e09b11749b5', 'cropped_host-a101_cam6_1242748830744000006_1a5cc9a7c9931f84af769062d4fafbeaa8c43ebcf096f5c5422bd7da7bc8adef', 'cropped_host-a101_cam6_1242748831344000006_c4b988441cf2230ca01f186f0c432fea0a10557ad061e744d44f9083c7937ac1', 'cropped_host-a101_cam6_1240875139250000006_8ce124f25d40501fc53279d57055929d8f2a00adac101c3cc96250d467212057', 'cropped_host-a102_cam2_1241548694683330006_9ac35af6f330ecf58c3a09abe1fad0ccaaa62fe541e6b20b5789435995816e9a', 'cropped_host-a011_cam0_1236122372951142006_478d179edd47d11a272334d87d0ce4c58acc9cf90e8b929df3a72a3f65f78419', 'cropped_host-a011_cam6_1236038916051145006_e18dd5e336ada1bc488f7910fb9c263f0ab460f236140b6addd324fc3ebc6d5e', 'cropped_host-a011_cam2_1233688942917605006_4082432baaa18472fcb305b188869e43b52c7329894732c5b5c445586fbc7f03', 'cropped_host-a101_cam2_1240875155283330006_04de92a78658c7ca32e0ed54e36722089a8a000cf0ac3ee6b761a0a20fb381cd', 'cropped_host-a009_cam1_1236123739834345006_2cfd9fab462ef22befb1deedadf1561bafab93daf1928a6527f2c9307f934209', 'cropped_host-a101_cam0_1241561172050000006_15e15e2534b8217678625342ae07e3213d99245066c22313b473379510c1a334', 'cropped_host-a007_cam2_1233524854417643006_af12b65e0b5b10b674794729a0059a60d9fcadfe39ef6ba4fa0eebdecaaac4c4', 'cropped_host-a101_cam6_1240875137850000006_a83b03e9036d2ff26690e19b349cc1c99736e5d7c60e4c9322959394680e3325', 'cropped_host-a101_cam6_1241561161050000006_dcfaa8fc397fb4aa2e7cb0bb64d284049a0cd06edd7c8a6d3b43d203203485ff', 'cropped_host-a101_cam2_1242748998982782006_9abfb99d6e6a75998a20de53075704f96fe96773ddfd3f2d53551da4ebe717c1', 'cropped_host-a101_cam0_1240875152250000006_71e9ecb04bc68693808138ef61e434ccb039b89f93e03922ffbad1699ccc9f58', 'cropped_host-a101_cam6_1240875138050000006_7f26174638695c10a2c3606e37def46820a33646c285db5a8f709ec807fd69be', 'cropped_host-a101_cam1_1242748836766275006_b1695b429571156ba892f6eb3884d8b7c86d85dff725581524bcff6011508137', 'cropped_host-a101_cam6_1240875148850000006_beaaa0a11070693c701fab5c97381e8929831f4636721f4a67eaa8fdc75c6f1d', 'cropped_host-a004_cam2_1232842380217652006_f39bb64a1d85f71745b878a64ea7ed74031cadcfffccada31ac15bb1df627e13', 'cropped_host-a101_cam6_1240875137250000006_316c7ed30cc8eed47e7ba1bdf30ed27e96b26c24fd46fe7301e3df59a9246ad0', 'cropped_host-a011_cam4_1232752552484485006_f6a6556c7f32d81ce7e0d168a7a378a22b5347bbc33ccfa573df6a7fabaaea30', 'cropped_host-a007_cam2_1233079634817643006_54abd6f77670f310a66582170343198d12dd0df225f885ebe672dac0f5b4c657', 'cropped_host-a102_cam6_1242754969544000006_ab3aac25db96c0d0b02a9d4d3b9e34e884f42b028c721b1a196d38ed2179cec4', 'cropped_host-a007_cam3_1233079631800869006_f84f0ad878704465a20037890127dab4c2bc96482d26dbdfb633734041525a93', 'cropped_host-a011_cam2_1233688951317605006_4a20014347a6d4e53683737dbd90a6fad904348e3219f109c67ae61f19c08990', 'cropped_host-a009_cam1_1237581215634345006_778bc5786e8ff6b6a755f3df3895fb7b65123e0b40723fb2f191c12a224c4300', 'cropped_host-a101_cam1_1242748835566246006_827c430460e785ab9415d35d74f4dccf1b9e7d06af07d7b36432c3cb170f3606', 'cropped_host-a101_cam5_1242580009032323006_92d7e82c4c169b5877b7f774ac344bd25432bcdc2cc2d486e70c7507580cd3f4', 'cropped_host-a101_cam2_1242753259581597006_82496e57888e87d80af32b23f1a0fe183c2ab6f6eec37b7ecf3f0f607823502c', 'cropped_host-a011_cam2_1233688946317605006_a7a3d0558d81195d8dc7b6161d2b1752fcd691e9f6c1b23be6173f9c85bf3736', 'cropped_host-a011_cam0_1232752782851142006_e66c35ea0719dc62bf3a74778bd443fe9f484e8a27bea8e5a704951d9879619e', 'cropped_host-a004_cam2_1232923278217652006_44273cb195045f2aa10fc6934a007438751c1f416dff141128c93ce6817d4137', 'cropped_host-a011_cam2_1233512844817605006_a69ee5690893beb87fda19a52d1afa2a6e0f3be44d5379496aefe2e2a449e617', 'cropped_host-a101_cam1_1240875153066660006_181a7799904cd97326b1f09e0d4af703709a88b732ed53c7f28621d2dfaaeeb5', 'cropped_host-a009_cam0_1236123739651174006_82ae146d0e0e013e3e6ff767adb170da969966d2f1aa71bb1f88e726eaa72c8e', 'cropped_host-a101_cam1_1242748837166290006_fddb71532333c64296e86a2ddde1625764959d729a5d58482c26afa15d5e5851', 'cropped_host-a101_cam0_1242748837749526006_7f7be3f56c20ccc330eec4687eff5a2c0a7e9499088a778608b788e19637b726', 'cropped_host-a101_cam2_1242753259581597006_5b57000faba963276ccdf8c2fe13320f89c15b38ff1e1c7d3a9cd1008f2df616', 'cropped_host-a101_cam6_1240875147650000006_880adbcbc0fdf6e99f356d6c214746b9d30bb2ac138599b3d713ddfc64e28077', 'cropped_host-a011_cam0_1232752780051142006_d3250623c0eec5639a782baeb13bb3a0f9d24a19a44c9ab1e08bbdaafbbd3316', 'cropped_host-a011_cam1_1236122374234517006_a0cc60d8716d4f55077226e6901e553a85c95ebace205fb22793125b672aa534', 'cropped_host-a007_cam3_1231093050799360006_cfaa94912f443d365b62b8850c882f0b10182a4073ec6241c2c47b97de9c78f5', 'cropped_host-a011_cam2_1233688951717605006_e4a2ba16e317994c8b29c86740fbe85dc4d5db279884d00ff2b9a12932ef9da3', 'cropped_host-a101_cam0_1242144908450000006_91dcddc5d230ec80dc7980df2fe012f37f6b7786f3a4d748addeabb0702f74ad', 'cropped_host-a101_cam2_1242748989582545006_4ed136b0c4ecc3f84217508e2754bae1bb7cbe946b7782f73fe0d52785b2ce72', 'cropped_host-a101_cam6_1240875136250000006_4f31e5f2c788c9a81dec49ddbcaf5bfb9eb93dc8549a9f43ea28eedcf25a542a', 'cropped_host-a004_cam1_1233014862834300006_e6326113cf275282c13de592a51de056792ebbb28871803ee56ac811a68363e6', 'cropped_host-a011_cam5_1232752485867719006_99bf16ca374d2e16048770426db02c05b811c02494e9c3b63eb7d4e7166d1e96', 'cropped_host-a101_cam2_1242748842182768006_82a163c636abed5c4aed63a247f0dfea2489acee1b87015b076d428b6e5c050a', 'cropped_host-a102_cam4_1241548695216660006_690c8f521d9b90aea88744b521944630dc1b96a0c0a6f7501399d415168bdf35', 'cropped_host-a007_cam1_1233510601134286006_aa714beaca254eb23f2b692364554128ceefb54506ccbb7e1efd6c79c4d745d1', 'cropped_host-a004_cam1_1235947105534300006_e4c2f188a038bc95bfe7ae1a8c3344953290b5d052181e56db712f9042e816d8', 'cropped_host-a101_cam1_1242748837366290006_f357bff48c855291406d5734b2d8174381faf40f01efc993fb63f83d0a96bec9', 'cropped_host-a101_cam6_1240875137450000006_8ce4c6727f061117e975c0c7c9e404dfe8cb3c97258c1399305b52c10c2c6950', 'cropped_host-a011_cam1_1233090577034517006_f40528e7ac6c3700c15afd63db717dca85f09b009ff6c916912f86bd156ee0b9', 'cropped_host-a101_cam2_1242748841582738006_b53a4669b1e6f06426dfa7bae35ed9fe13345439f77fe97a8b2324c8fe6f195f', 'cropped_host-a011_cam0_1233512849251142006_df14ca12b69c872a493f4a9d804cb0b2136e7c3176b0277637b2a14159956e79', 'cropped_host-a101_cam6_1241561156250000006_0f7164b280bd928e02354ea6978661face244d649bf3f9941c6e3ba7e35b2ead', 'cropped_host-a101_cam2_1242748993182545006_61fb02b7120608ae64ff036a951be8b19592c91e518eae4578e336d41a261149', 'cropped_host-a101_cam6_1240875136450000006_b9105089ee5dd00f5026a023d7a7b71aaf8758df8bf84f1b644e74f37a9ab14b', 'cropped_host-a004_cam6_1232842190050948006_eef4f66e11c9e23f7030fad7abbb36c0ed8b539051ea78db19935f5f1e1e9d04', 'cropped_host-a101_cam6_1240875147450000006_26c468ef28d87b64dcf9f8fcae2b48e594f8e38fe4b2212c839257e5f0e8c1d3', 'cropped_host-a011_cam2_1233688946917605006_67b95e5d50f083ee2e9ea2a4eba12154d8d8668286cb92f496f94ef32d42aa77', 'cropped_host-a101_cam6_1240875147250000006_34c4ee20e0b79f7bbdf1c2f6e9611edfe38f4a02f305a21fc2e83854314c7c2b', 'cropped_host-a004_cam1_1232905221134300006_314616be1683b2dbcda5e3839d228b87ac9ab2540c163d6b545128bdbed8a72c', 'cropped_host-a007_cam1_1233079633434286006_aef75783ce25a14d6210a9d0f4c6746d3a2080dd3dc72e9a86fe313be7f29e51', 'cropped_host-a011_cam3_1233512851200995006_81c62a7efcd4901678d063d0077419933fa22e00321663a036442e43f341be42', 'cropped_host-a007_cam1_1233524853834286006_2c89378107a38741b161d12d182b8b3aff1f9e3e738a244f937448bcae5a7abb', 'cropped_host-a101_cam6_1240875148650000006_dcf30f4c5c293ba047300460471b8990d35a83bbc637088a24baf27ca92838ab', 'cropped_host-a007_cam2_1231093049882654006_0490672d553c5c5496ba739e39b5cccd9cb0f31e3bb4daa88d78dad0f5a4ead6', 'cropped_host-a101_cam6_1240875137250000006_2a07e91f16e5221133aa4f0166161c0127dbe70080a5b64d67bb6e2a0e38b4b0', 'cropped_host-a007_cam3_1231093050599360006_5d20cdaed8853217527404866638b6a1dba9e55ce1b8a23de806414975aee831', 'cropped_host-a011_cam6_1232745791651145006_ec1370b5a2b858a3d4cbaea3c18d05efb8d15aa18e19a25d481b18e512485a2f', 'cropped_host-a101_cam2_1242748840582708006_c81b584e87ef3c1e031f27063362246c31d62d58f8d3ccd6226150018174e346', 'cropped_host-a101_cam6_1241561156450000006_347fba244767bcf850a11af0dca08f78050c469826763017edd4f3a8b6d1c232', 'cropped_host-a011_cam4_1232752553084485006_eec4ff53bd099653799b4da027d12f5adb264019155b10d16084d2a435182277', 'cropped_host-a004_cam1_1232923277434300006_258f8678665ad0df4137d3bcc538ae3053b7880a6dd0dcb091d99d50c5bb78cb', 'cropped_host-a102_cam1_1241548694266660006_7766d2be96627a67eaacefa89185cf3b7279311750cb88225eb27289acbd03c8', 'cropped_host-a101_cam1_1242748835966246006_4054de6e3066b19c2707bc29ad280b99b90d89173d166efac7b65df3cfb56eb8', 'cropped_host-a007_cam1_1231093049666021006_6037d9e2332aafceb0abd4d514807023cd0449008a4c2ec76cde631c13e49d00', 'cropped_host-a101_cam6_1240875136650000006_072aa2e888ca4e7249cffc4840a708016ba395870c5fbea5af36776c52a4bc9c', 'cropped_host-a004_cam0_1232905220351064006_05758b32ae3c6834f374b00f59dabb476c7ea274e68fba7a28e93bd5b49feb28', 'cropped_host-a101_cam1_1242748836566275006_0751da5ccabbd4c9e976e27960725a85d5ec03035fa88661dcf2160c277a7c7b', 'cropped_host-a011_cam6_1232745792051145006_5eb68c7153d15beb6b568a028bf9dc62345a1ef9f8048eca2aafe6d6f7190480', 'cropped_host-a101_cam6_1240875138850000006_59d6cebbf8155bec6b782ce883d7f187cf4e6a4cfa347f87f78cde7bd26f40c9', 'cropped_host-a102_cam6_1242754970944000006_4a787d0ea6066a64af1ce6517b8610e001a5237bdd8b950496997060cb308c82', 'cropped_host-a007_cam0_1233524853250897006_f6e7df3e34ecf8e77e8d7d2cf2723fdbde1f490f1d3aee02f7d1b10bd9bafb74', 'cropped_host-a009_cam2_1237581215817740006_b45fb8ae89a96a2a4790dd6131d5b42d1841ff641993e5044cc54874835a8dab', 'cropped_host-a011_cam4_1232752552284485006_a242f15ed18871976ccff38c01ac60e6f3a42175a9a4ed37380bc71f5060c1a7', 'cropped_host-a009_cam6_1236123735251064006_d08d75877e128e795a2b7274bf295144485ad81b458a6afe1d142a30bad60a60', 'cropped_host-a017_cam1_1236118893034294006_e4ed353c6c0b5bb371305bc5fd65dc6b65fab993a0241145e33ad12dc606eaa1', 'cropped_host-a101_cam1_1242748837766260006_7f7be3f56c20ccc330eec4687eff5a2c0a7e9499088a778608b788e19637b726', 'cropped_host-a011_cam0_1232752779651142006_6ed80ba3d4c2cbb16076dff35cde20b85f32cef018c285163db3abb9eaed54df', 'cropped_host-a101_cam0_1240875153650000006_31a8ecade1c1f9022b12a42279f58dfa23bf0bd0d6321acf8ec07f32be8cd80f', 'cropped_host-a011_cam6_1233965430351145006_4b5dca7b58ed0e2064fd5d64f54f69a42f6d9d4ff24c560f9c6194e987858818', 'cropped_host-a011_cam2_1235866712517605006_15abc57a17ce93991612aedf8171685e6756d8f8a3b7b4fc022869f1e8d6ead2', 'cropped_host-a101_cam6_1240875138250000006_c53ffb2cbcac363908f1e0a1d1fac360a18dd3907b6a3122c4908bc1417d84de', 'cropped_host-a011_cam0_1232752779051142006_1f2ca85bf26db9d1902a9d069e8a025d701d83005d5737645f49e2786504a7e4', 'cropped_host-a011_cam1_1235866710734517006_db1c24d3d76e516f8c58c57d30693bc73194cb8241466b1c76b422f5c588a520', 'cropped_host-a101_cam0_1242748836549526006_0751da5ccabbd4c9e976e27960725a85d5ec03035fa88661dcf2160c277a7c7b', 'cropped_host-a011_cam2_1233688947317605006_d9503e6230aa496986375d0a192800be61a7ce77c07dcc47170dceb695e22442', 'cropped_host-a102_cam6_1242754970744000006_d56fba0f1dc334a7e849bfc3b07e02a6b53c956f6f033b8e3baf904d4616bae5', 'cropped_host-a101_cam1_1240875153466660006_1ffce3a3cd90b0303d70a4e8451b35226bf20692f731b7ba22e0befcaa3668b0', 'cropped_host-a009_cam1_1237581215634345006_1b09c64f7176d68a2ea4cb6895a922bb5df22cc19ebe98bececbb3e650c7baf2', 'cropped_host-a101_cam6_1240875149250000006_9cdf2b986271859949db3024f34c6db92646cc1f6316daf4d6066357404771d7', 'cropped_host-a101_cam1_1241216098166660006_47af05544af41fecea33021fecc7d9b8907495e1b28ac21a398ded7d0c883344', 'cropped_host-a007_cam2_1233524854617643006_7f8abd1e6e96e5146eb5a88911797b82cdaf4609564fab2382ac858f1f184fb6', 'cropped_host-a011_cam6_1236038916451145006_2d1b49c7cbceb10716c4e18c1b012431cda816937d435de5097e2990cb226bab', 'cropped_host-a101_cam6_1240875136850000006_4eb404240d3bda509388dd1d97f990f2ed871e4e8e711c3855c6f8f82ceeefe2', 'cropped_host-a011_cam1_1236122357734517006_6c04248f280322a5663afd8ea659ba108415839fc3983acd10be66d8e5b7f0df', 'cropped_host-a007_cam1_1233079634234286006_824ce97876e30936c8ac899fe2ff89e3b0feae29d61a4cab0a1f5aafd31ff0aa', 'cropped_host-a011_cam2_1235866712517605006_b59560f2478049ba3373fe32af95f207aed6621d0c49ef34bed5cd2754726803', 'cropped_host-a011_cam3_1232905805900995006_e9a3e7194de14b306f0b503ad71589fc8e4907b79b05279ba630356188aa5abe', 'cropped_host-a011_cam0_1232752781451142006_a080e1dfa8cdfe61e4036244e94b4df21585a0179733d497be9dfcbee81758e8', 'cropped_host-a009_cam1_1237581230034345006_a3501a3f030fb5f232dfa09350d6edbddbe4f6c3d21bd3f6d4fa809f2ec05fed', 'cropped_host-a004_cam0_1232923266851064006_5e034889a3fd57940166e80ca9d7dacc33961e4b45e47043310a718a7174021f', 'cropped_host-a101_cam2_1242748840982723006_c03ad4e2c5505ebbe38a82b105d6defb043b0b175f48fb45496c3f21d73cf1a1', 'cropped_host-a101_cam1_1242748838166260006_ed791235f22800fb7df5b64582678a84d80f888d8b79420f51e428f9350170b7', 'cropped_host-a101_cam0_1240875152450000006_0fa86ea0706b76c653caccf9cd83abe49af984c1fac6ae338edb18f1eb8ea069', 'cropped_host-a101_cam6_1240875146050000006_8f87fa45bc29651415e62039f94be94ba9994ed4ba4aa5df0ff397307ce35b86', 'cropped_host-a101_cam0_1242748836349526006_2dca7191d2a7171b033e1665391c25879e3522a4f91c4a798038c2541207e470', 'cropped_host-a011_cam5_1232752549867719006_ba5681f9725ce3e8db39cce519d37b46de380d30ddfef5fd374a7e33ac9e9aaf', 'cropped_host-a011_cam6_1235933800551145006_62461d515187533bb09fcaa1865854218ee65de4267c285ab6da2851b45e7385', 'cropped_host-a101_cam3_1242749000399467006_2cfb0f04669d59615ac1e31b5c7c8c51991a7e87c809e503a3d0ca94e6e1df10', 'cropped_host-a101_cam6_1240875138450000006_2619364dc2c860b0697b47fba28e336407a876e064969f825ebdd7f56b518656', 'cropped_host-a011_cam0_1232752782451142006_c43513b790c29edfddf992c559851cc0e8588d2367bcc8c553354843b770609b', 'cropped_host-a101_cam1_1242748838366260006_4453c29de89094b0bb47b44ccd5a577484ba67192f04bc41dd9d077d5f41f99d', 'cropped_host-a011_cam1_1233688942134517006_c2de548edcabe19af14836cbb5838a28aa6d0686b1c5334bb0c36a7a39390fd7', 'cropped_host-a011_cam0_1232752782051142006_1be57202660477ea9504951bc581a485b3c4103c346e52c5147c3885e75ee179', 'cropped_host-a011_cam6_1233965429151145006_a028c6cd07849d028e823b1e23da22cb27f18b347ad6efac99fbd3c216e75352', 'cropped_host-a101_cam1_1242748836366275006_2dca7191d2a7171b033e1665391c25879e3522a4f91c4a798038c2541207e470', 'cropped_host-a101_cam6_1240875139050000006_49f338c30df36246ea419b1088409cb1cfbd81102ce2a23e972f7294bb09de08', 'cropped_host-a101_cam2_1242748840782708006_d3ffeea3dc6b823eff7d2c778396302d454da8c7aef27a402fb4c9406ed273c4', 'cropped_host-a101_cam0_1242748836749526006_b1695b429571156ba892f6eb3884d8b7c86d85dff725581524bcff6011508137', 'cropped_host-a101_cam6_1240875136250000006_f07e5e2f4b72daa5dcf1f3f45c897496461394f94a394835894c93a105de9857', 'cropped_host-a101_cam2_1242748841182723006_0f5c255bf9d9a9e178007f45012d6a896494845144a2cac20f8b110a62acc610', 'cropped_host-a004_cam0_1232905220151064006_31ee937b6aad01f96fd1660524776a9db006e9c7c73a6e65a68271af7f67037a', 'cropped_host-a009_cam0_1236123739451174006_5ff190a1c2bcaa53d7c57dda9630f97172eab801cc0dd3c1b357ad3386814240', 'cropped_host-a011_cam0_1232909949551142006_f740577e442988affaaacfb91e70354dd6fcab7e0d5601f747f16aeff033ea13', 'cropped_host-a011_cam6_1235933801551145006_f9d6b05d08fa21fd1af58395ab8ce77e5f237ec1e8819c89314bf0365bc1db66', 'cropped_host-a101_cam2_1242748841982753006_0a92a4b8854da7e26acba539581297c47452ecd7f7441e72d25acf78ce8ef057', 'cropped_host-a007_cam1_1233510600934286006_e1d959a760541eb31c74b6e78d351bd9b3c73429b79330266c3039dbd1de4a86', 'cropped_host-a101_cam2_1240875155483330006_7ee9f945d59d86a0107386afea9dc6625ec5d5fde48b618ae121e4f8a75d8b46', 'cropped_host-a011_cam2_1233688944117605006_8c24d4ac201192b3d5554eb97c5d18bb1f7ce360c923f5553ac00134713026ae', 'cropped_host-a101_cam2_1242748989182545006_d47dc8a6f1dad956e12d21dd308cf297d72fe361a5db72581521a8db3a7657a1', 'cropped_host-a101_cam6_1242748831944000006_56384a557da76161f648bb17ec9beb5dfc0f3f299b65d7f665fd90cbb3e69e32', 'cropped_host-a011_cam4_1232752553284485006_0c26724412ff7c3f1cab7b4a6560a7ce83dfc30f05215b849c7a34a1cf9741ba', 'cropped_host-a004_cam0_1234047751551064006_08269de958d4cbacfcab3df37e909cd46066ed94ee5d50e51f769f033a94423d', 'cropped_host-a101_cam1_1242748840166246006_e7e38157cc729c0e8b493893917bc6cc8973a236a67ef55b9b6a7b0415ebee98', 'cropped_host-a011_cam1_1233688950334517006_221c8839fa935a2eb2ed1e646e6c7867306de9033f4a0a55d62bf53c86ab9928', 'cropped_host-a007_cam2_1233079631617643006_ddd07fe08ff7251c69eaf04ac5d151bcabd9f9a335116c2f2b7c0c908fafe1b0', 'cropped_host-a101_cam6_1242748830944000006_0bbf9f8597c2ac01df0acfeff1abf2f3be4add770195e9463d8ff2b7cb2e0ce3', 'cropped_host-a011_cam0_1232752783251142006_70e23cd72d90ffba895e8df302e6e3665141a16068594602562776317f77aae0', 'cropped_host-a101_cam1_1241561165266660006_902b872140566024c0f23c3e5b146da504208da740a9d9ca5732068baf4437b7', 'cropped_host-a101_cam1_1242748836166260006_5254922efd684f0cf304cb62094ff1feacbe5b0dfd7a49ffb9ac1621e50c25da', 'cropped_host-a101_cam2_1241561165483330006_984e0cc9451cb92774f7f5242507eac686d4509fcfba52b05800e1aeb1605adc', 'cropped_host-a015_cam5_1236112613967453006_fb3eeeae5742d12aa851c5ffc74c689568c37cfd5d385a67d3cdfd3f55c5fbef', 'cropped_host-a009_cam2_1236123741417740006_2c55abb7f6acf6a053ddf341d3b5ea222b4349edadf4de7a16c08b504db20571', 'cropped_host-a101_cam0_1242748836949526006_ffc14488ccbf386db20dd230a60b63bd80eb780574509d969724e86f2b545013', 'cropped_host-a101_cam0_1242748837349526006_f357bff48c855291406d5734b2d8174381faf40f01efc993fb63f83d0a96bec9', 'cropped_host-a011_cam0_1232752782651142006_395272f1c0283f84db32b13ca2c412341c5786a4467b297ffe20b132ee77d590', 'cropped_host-a101_cam6_1240875137450000006_1616c9d8d13cb4f705202e90592ad131b246d2e42505a90db404506dd312647b', 'cropped_host-a101_cam2_1242748989782545006_203da6b4ee6e5a14e9caa10d1d2175d15367470a5ab2728d4cb076751c16f950', 'cropped_host-a101_cam1_1242748837566275006_49523b618e1fe096841162984662d76ded6cb1ff73ad9749928f39f7472b6bcc', 'cropped_host-a101_cam6_1241561155650000006_a90588037a03ecb945a17dddb1129ae3b0c07ff5a50829e832cf7a344c8215e8', 'cropped_host-a101_cam3_1242749000599467006_3e8fde06fda4a0af446bfa7fd577e81ccea04183824c1ec03567eacdad640bf2']' has dtype incompatible with float64, please explicitly cast to a compatible dtype first.\n",
      "  training_records_df.loc[row_index, \"false_negative_images\"] = false_negative_images_str\n"
     ]
    },
    {
     "name": "stdout",
     "output_type": "stream",
     "text": [
      "Validation Loss: 0.1591 Precision: 0.8004 Recall: 0.9500 F1 Score: 0.8688 Acc: 0.9630\n",
      "model_res50_epoch_9_batchsize_10_lr_0.01.pth\n",
      "Validation Loss: 0.0892 Precision: 0.8635 Recall: 0.9152 F1 Score: 0.8886 Acc: 0.9704\n",
      "model_res50_epoch_9_batchsize_32_lr_0.0001.pth\n",
      "Validation Loss: 0.0916 Precision: 0.8414 Recall: 0.9423 F1 Score: 0.8890 Acc: 0.9696\n",
      "model_res50_epoch_9_batchsize_32_lr_0.001.pth\n",
      "Validation Loss: 0.1620 Precision: 0.7954 Recall: 0.9415 F1 Score: 0.8623 Acc: 0.9612\n",
      "model_res50_epoch_9_batchsize_32_lr_0.01.pth\n",
      "Validation Loss: 0.0750 Precision: 0.8624 Recall: 0.9226 F1 Score: 0.8915 Acc: 0.9710\n",
      "model_res50_epoch_9_batchsize_50_lr_0.0001.pth\n",
      "Validation Loss: 0.0805 Precision: 0.8612 Recall: 0.9300 F1 Score: 0.8943 Acc: 0.9716\n",
      "model_res50_epoch_9_batchsize_50_lr_0.001.pth\n",
      "Validation Loss: 0.0896 Precision: 0.8472 Recall: 0.9470 F1 Score: 0.8943 Acc: 0.9711\n",
      "model_res50_epoch_9_batchsize_50_lr_0.01.pth\n",
      "Validation Loss: 0.1148 Precision: 0.7597 Recall: 0.9646 F1 Score: 0.8500 Acc: 0.9561\n"
     ]
    }
   ],
   "source": [
    "for model_name in models_to_validate:\n",
    "    print(model_name)\n",
    "    checkpoint = torch.load(os.path.join(model_dir, model_name))\n",
    "    validate_resnet50_classification(checkpoint, model_name, validation_images_dir, training_records_df_path, required_imgage_size, target_category_name)"
   ]
  },
  {
   "cell_type": "markdown",
   "metadata": {},
   "source": [
    "## Visualize the performance metrics either for training or validation"
   ]
  },
  {
   "cell_type": "code",
   "execution_count": 10,
   "metadata": {},
   "outputs": [
    {
     "data": {
      "text/html": [
       "<div>\n",
       "<style scoped>\n",
       "    .dataframe tbody tr th:only-of-type {\n",
       "        vertical-align: middle;\n",
       "    }\n",
       "\n",
       "    .dataframe tbody tr th {\n",
       "        vertical-align: top;\n",
       "    }\n",
       "\n",
       "    .dataframe thead th {\n",
       "        text-align: right;\n",
       "    }\n",
       "</style>\n",
       "<table border=\"1\" class=\"dataframe\">\n",
       "  <thead>\n",
       "    <tr style=\"text-align: right;\">\n",
       "      <th></th>\n",
       "      <th>model_id_path</th>\n",
       "      <th>epoch</th>\n",
       "      <th>batch_size</th>\n",
       "      <th>learning_rate</th>\n",
       "      <th>final_loss</th>\n",
       "      <th>final_accuracy</th>\n",
       "      <th>final_precision</th>\n",
       "      <th>final_recall</th>\n",
       "      <th>final_F1</th>\n",
       "      <th>validation_loss</th>\n",
       "      <th>validation_accuracy</th>\n",
       "      <th>validation_precision</th>\n",
       "      <th>validation_recall</th>\n",
       "      <th>validation_F1</th>\n",
       "      <th>false_positive_images</th>\n",
       "      <th>false_negative_images</th>\n",
       "    </tr>\n",
       "  </thead>\n",
       "  <tbody>\n",
       "    <tr>\n",
       "      <th>9</th>\n",
       "      <td>model_res50_epoch_9_batchsize_10_lr_0.0001.pth</td>\n",
       "      <td>9</td>\n",
       "      <td>10</td>\n",
       "      <td>0.0001.</td>\n",
       "      <td>0.008955</td>\n",
       "      <td>0.997315</td>\n",
       "      <td>0.990965</td>\n",
       "      <td>0.993147</td>\n",
       "      <td>0.992055</td>\n",
       "      <td>0.091312</td>\n",
       "      <td>0.972572</td>\n",
       "      <td>0.866940</td>\n",
       "      <td>0.930258</td>\n",
       "      <td>0.897483</td>\n",
       "      <td>[cropped_host-a102_cam5_1242754969332234006_1a...</td>\n",
       "      <td>[cropped_host-a011_cam2_1233688946717605006_b4...</td>\n",
       "    </tr>\n",
       "    <tr>\n",
       "      <th>19</th>\n",
       "      <td>model_res50_epoch_9_batchsize_10_lr_0.001.pth</td>\n",
       "      <td>9</td>\n",
       "      <td>10</td>\n",
       "      <td>0.001.</td>\n",
       "      <td>0.005681</td>\n",
       "      <td>0.998224</td>\n",
       "      <td>0.995102</td>\n",
       "      <td>0.994371</td>\n",
       "      <td>0.994736</td>\n",
       "      <td>0.159119</td>\n",
       "      <td>0.962968</td>\n",
       "      <td>0.800370</td>\n",
       "      <td>0.950027</td>\n",
       "      <td>0.868801</td>\n",
       "      <td>[cropped_host-a007_cam3_1231093059199360006_50...</td>\n",
       "      <td>[cropped_host-a011_cam0_1232752780051142006_d3...</td>\n",
       "    </tr>\n",
       "    <tr>\n",
       "      <th>29</th>\n",
       "      <td>model_res50_epoch_9_batchsize_10_lr_0.01.pth</td>\n",
       "      <td>9</td>\n",
       "      <td>10</td>\n",
       "      <td>0.01.</td>\n",
       "      <td>0.033554</td>\n",
       "      <td>0.987236</td>\n",
       "      <td>0.958931</td>\n",
       "      <td>0.965737</td>\n",
       "      <td>0.962322</td>\n",
       "      <td>0.089225</td>\n",
       "      <td>0.970375</td>\n",
       "      <td>0.863472</td>\n",
       "      <td>0.915157</td>\n",
       "      <td>0.888563</td>\n",
       "      <td>[cropped_host-a101_cam1_1242748999766305006_67...</td>\n",
       "      <td>[cropped_host-a011_cam0_1232752781651142006_aa...</td>\n",
       "    </tr>\n",
       "    <tr>\n",
       "      <th>39</th>\n",
       "      <td>model_res50_epoch_9_batchsize_32_lr_0.0001.pth</td>\n",
       "      <td>9</td>\n",
       "      <td>32</td>\n",
       "      <td>0.0001.</td>\n",
       "      <td>0.016930</td>\n",
       "      <td>0.994217</td>\n",
       "      <td>0.980985</td>\n",
       "      <td>0.984826</td>\n",
       "      <td>0.982902</td>\n",
       "      <td>0.091628</td>\n",
       "      <td>0.969630</td>\n",
       "      <td>0.841383</td>\n",
       "      <td>0.942339</td>\n",
       "      <td>0.889004</td>\n",
       "      <td>[cropped_host-a101_cam6_1240875137450000006_97...</td>\n",
       "      <td>[cropped_host-a101_cam6_1240875138650000006_7e...</td>\n",
       "    </tr>\n",
       "    <tr>\n",
       "      <th>49</th>\n",
       "      <td>model_res50_epoch_9_batchsize_32_lr_0.001.pth</td>\n",
       "      <td>9</td>\n",
       "      <td>32</td>\n",
       "      <td>0.001.</td>\n",
       "      <td>0.012222</td>\n",
       "      <td>0.995415</td>\n",
       "      <td>0.986774</td>\n",
       "      <td>0.986050</td>\n",
       "      <td>0.986412</td>\n",
       "      <td>0.162003</td>\n",
       "      <td>0.961196</td>\n",
       "      <td>0.795407</td>\n",
       "      <td>0.941516</td>\n",
       "      <td>0.862316</td>\n",
       "      <td>[cropped_host-a101_cam6_1240875147050000006_2a...</td>\n",
       "      <td>[cropped_host-a004_cam0_1232923267651064006_d5...</td>\n",
       "    </tr>\n",
       "    <tr>\n",
       "      <th>59</th>\n",
       "      <td>model_res50_epoch_9_batchsize_32_lr_0.01.pth</td>\n",
       "      <td>9</td>\n",
       "      <td>32</td>\n",
       "      <td>0.01.</td>\n",
       "      <td>0.043471</td>\n",
       "      <td>0.984386</td>\n",
       "      <td>0.947826</td>\n",
       "      <td>0.960352</td>\n",
       "      <td>0.954048</td>\n",
       "      <td>0.074976</td>\n",
       "      <td>0.971012</td>\n",
       "      <td>0.862423</td>\n",
       "      <td>0.922570</td>\n",
       "      <td>0.891483</td>\n",
       "      <td>[cropped_host-a101_cam4_1240875154416660006_b5...</td>\n",
       "      <td>[cropped_host-a004_cam1_1235947105534300006_e4...</td>\n",
       "    </tr>\n",
       "    <tr>\n",
       "      <th>69</th>\n",
       "      <td>model_res50_epoch_9_batchsize_50_lr_0.0001.pth</td>\n",
       "      <td>9</td>\n",
       "      <td>50</td>\n",
       "      <td>0.0001.</td>\n",
       "      <td>0.035888</td>\n",
       "      <td>0.986575</td>\n",
       "      <td>0.953242</td>\n",
       "      <td>0.967939</td>\n",
       "      <td>0.960534</td>\n",
       "      <td>0.080530</td>\n",
       "      <td>0.971615</td>\n",
       "      <td>0.861175</td>\n",
       "      <td>0.929984</td>\n",
       "      <td>0.894257</td>\n",
       "      <td>[cropped_host-a101_cam6_1240875137450000006_97...</td>\n",
       "      <td>[cropped_host-a011_cam3_1236104051500995006_15...</td>\n",
       "    </tr>\n",
       "    <tr>\n",
       "      <th>79</th>\n",
       "      <td>model_res50_epoch_9_batchsize_50_lr_0.001.pth</td>\n",
       "      <td>9</td>\n",
       "      <td>50</td>\n",
       "      <td>0.001.</td>\n",
       "      <td>0.029320</td>\n",
       "      <td>0.989219</td>\n",
       "      <td>0.964763</td>\n",
       "      <td>0.971610</td>\n",
       "      <td>0.968175</td>\n",
       "      <td>0.089566</td>\n",
       "      <td>0.971119</td>\n",
       "      <td>0.847212</td>\n",
       "      <td>0.947007</td>\n",
       "      <td>0.894334</td>\n",
       "      <td>[cropped_host-a102_cam3_1242754977999260006_d1...</td>\n",
       "      <td>[cropped_host-a011_cam5_1232752550067719006_71...</td>\n",
       "    </tr>\n",
       "    <tr>\n",
       "      <th>89</th>\n",
       "      <td>model_res50_epoch_9_batchsize_50_lr_0.01.pth</td>\n",
       "      <td>9</td>\n",
       "      <td>50</td>\n",
       "      <td>0.01.</td>\n",
       "      <td>0.068964</td>\n",
       "      <td>0.974514</td>\n",
       "      <td>0.915648</td>\n",
       "      <td>0.935144</td>\n",
       "      <td>0.925294</td>\n",
       "      <td>0.114841</td>\n",
       "      <td>0.956058</td>\n",
       "      <td>0.759732</td>\n",
       "      <td>0.964580</td>\n",
       "      <td>0.849988</td>\n",
       "      <td>[cropped_host-a101_cam2_1242749002782945006_6c...</td>\n",
       "      <td>[cropped_host-a101_cam0_1242748836349526006_2d...</td>\n",
       "    </tr>\n",
       "  </tbody>\n",
       "</table>\n",
       "</div>"
      ],
      "text/plain": [
       "                                     model_id_path  epoch  batch_size  \\\n",
       "9   model_res50_epoch_9_batchsize_10_lr_0.0001.pth      9          10   \n",
       "19   model_res50_epoch_9_batchsize_10_lr_0.001.pth      9          10   \n",
       "29    model_res50_epoch_9_batchsize_10_lr_0.01.pth      9          10   \n",
       "39  model_res50_epoch_9_batchsize_32_lr_0.0001.pth      9          32   \n",
       "49   model_res50_epoch_9_batchsize_32_lr_0.001.pth      9          32   \n",
       "59    model_res50_epoch_9_batchsize_32_lr_0.01.pth      9          32   \n",
       "69  model_res50_epoch_9_batchsize_50_lr_0.0001.pth      9          50   \n",
       "79   model_res50_epoch_9_batchsize_50_lr_0.001.pth      9          50   \n",
       "89    model_res50_epoch_9_batchsize_50_lr_0.01.pth      9          50   \n",
       "\n",
       "   learning_rate  final_loss  final_accuracy  final_precision  final_recall  \\\n",
       "9        0.0001.    0.008955        0.997315         0.990965      0.993147   \n",
       "19        0.001.    0.005681        0.998224         0.995102      0.994371   \n",
       "29         0.01.    0.033554        0.987236         0.958931      0.965737   \n",
       "39       0.0001.    0.016930        0.994217         0.980985      0.984826   \n",
       "49        0.001.    0.012222        0.995415         0.986774      0.986050   \n",
       "59         0.01.    0.043471        0.984386         0.947826      0.960352   \n",
       "69       0.0001.    0.035888        0.986575         0.953242      0.967939   \n",
       "79        0.001.    0.029320        0.989219         0.964763      0.971610   \n",
       "89         0.01.    0.068964        0.974514         0.915648      0.935144   \n",
       "\n",
       "    final_F1  validation_loss  validation_accuracy  validation_precision  \\\n",
       "9   0.992055         0.091312             0.972572              0.866940   \n",
       "19  0.994736         0.159119             0.962968              0.800370   \n",
       "29  0.962322         0.089225             0.970375              0.863472   \n",
       "39  0.982902         0.091628             0.969630              0.841383   \n",
       "49  0.986412         0.162003             0.961196              0.795407   \n",
       "59  0.954048         0.074976             0.971012              0.862423   \n",
       "69  0.960534         0.080530             0.971615              0.861175   \n",
       "79  0.968175         0.089566             0.971119              0.847212   \n",
       "89  0.925294         0.114841             0.956058              0.759732   \n",
       "\n",
       "    validation_recall  validation_F1  \\\n",
       "9            0.930258       0.897483   \n",
       "19           0.950027       0.868801   \n",
       "29           0.915157       0.888563   \n",
       "39           0.942339       0.889004   \n",
       "49           0.941516       0.862316   \n",
       "59           0.922570       0.891483   \n",
       "69           0.929984       0.894257   \n",
       "79           0.947007       0.894334   \n",
       "89           0.964580       0.849988   \n",
       "\n",
       "                                false_positive_images  \\\n",
       "9   [cropped_host-a102_cam5_1242754969332234006_1a...   \n",
       "19  [cropped_host-a007_cam3_1231093059199360006_50...   \n",
       "29  [cropped_host-a101_cam1_1242748999766305006_67...   \n",
       "39  [cropped_host-a101_cam6_1240875137450000006_97...   \n",
       "49  [cropped_host-a101_cam6_1240875147050000006_2a...   \n",
       "59  [cropped_host-a101_cam4_1240875154416660006_b5...   \n",
       "69  [cropped_host-a101_cam6_1240875137450000006_97...   \n",
       "79  [cropped_host-a102_cam3_1242754977999260006_d1...   \n",
       "89  [cropped_host-a101_cam2_1242749002782945006_6c...   \n",
       "\n",
       "                                false_negative_images  \n",
       "9   [cropped_host-a011_cam2_1233688946717605006_b4...  \n",
       "19  [cropped_host-a011_cam0_1232752780051142006_d3...  \n",
       "29  [cropped_host-a011_cam0_1232752781651142006_aa...  \n",
       "39  [cropped_host-a101_cam6_1240875138650000006_7e...  \n",
       "49  [cropped_host-a004_cam0_1232923267651064006_d5...  \n",
       "59  [cropped_host-a004_cam1_1235947105534300006_e4...  \n",
       "69  [cropped_host-a011_cam3_1236104051500995006_15...  \n",
       "79  [cropped_host-a011_cam5_1232752550067719006_71...  \n",
       "89  [cropped_host-a101_cam0_1242748836349526006_2d...  "
      ]
     },
     "execution_count": 10,
     "metadata": {},
     "output_type": "execute_result"
    }
   ],
   "source": [
    "validation_results_df = pd.read_csv(training_records_df_path).drop(columns=['Unnamed: 0'], errors='ignore')\n",
    "validation_results_df = validation_results_df[validation_results_df[\"epoch\"] == 9]\n",
    "# Convert string representations to actual lists\n",
    "validation_results_df['false_positive_images'] = validation_results_df['false_positive_images'].apply(ast.literal_eval)\n",
    "validation_results_df['false_negative_images'] = validation_results_df['false_negative_images'].apply(ast.literal_eval)\n",
    "validation_results_df"
   ]
  },
  {
   "cell_type": "markdown",
   "metadata": {},
   "source": [
    "### F1 Score heatmap"
   ]
  },
  {
   "cell_type": "code",
   "execution_count": 11,
   "metadata": {},
   "outputs": [
    {
     "data": {
      "image/png": "[encoded data removed]",
      "text/plain": [
       "<Figure size 800x600 with 2 Axes>"
      ]
     },
     "metadata": {},
     "output_type": "display_data"
    }
   ],
   "source": [
    "#Code below generated with ChatGPT 4\n",
    "# Pivot the DataFrame to create a grid\n",
    "pivot_df = validation_results_df.pivot(index='batch_size', columns='learning_rate', values='validation_F1')\n",
    "\n",
    "# Creating the heatmap\n",
    "plt.figure(figsize=(8, 6))\n",
    "# Using numpy to create an array of the pivot data\n",
    "data_array = pivot_df.to_numpy()\n",
    "\n",
    "# The columns and rows to display\n",
    "col_labels = pivot_df.columns.values\n",
    "row_labels = pivot_df.index.values\n",
    "\n",
    "# Creating the plot\n",
    "c = plt.pcolormesh(data_array, cmap='GnBu', shading='auto')\n",
    "\n",
    "# Adding color bar\n",
    "plt.colorbar(c)\n",
    "\n",
    "# Adding titles and labels\n",
    "plt.title('F1 Score Heatmap by Batch Size and Learning Rate')\n",
    "plt.xlabel('Learning Rate')\n",
    "plt.ylabel('Batch Size')\n",
    "\n",
    "# Adjusting the ticks to be at the center of each cell\n",
    "plt.xticks(np.arange(0.5, len(col_labels), 1), col_labels, rotation=45)\n",
    "plt.yticks(np.arange(0.5, len(row_labels), 1), row_labels)\n",
    "\n",
    "# Add text annotations\n",
    "for (i, j), val in np.ndenumerate(data_array):\n",
    "    plt.text(j + 0.5, i + 0.5, f\"{val:.4f}\", ha='center', va='center', color='black')\n",
    "\n",
    "# Show plot\n",
    "plt.show()"
   ]
  },
  {
   "cell_type": "code",
   "execution_count": 12,
   "metadata": {},
   "outputs": [],
   "source": [
    "false_positive_images = [img for sublist in validation_results_df[\"false_positive_images\"] for img in sublist]\n",
    "false_positive_counts = Counter(false_positive_images)\n",
    "\n",
    "false_negative_images = [img for sublist in validation_results_df[\"false_negative_images\"] for img in sublist]\n",
    "false_negative_counts = Counter(false_negative_images)\n"
   ]
  },
  {
   "cell_type": "code",
   "execution_count": 13,
   "metadata": {},
   "outputs": [],
   "source": [
    "base_path = r\"S:\\MADS\\Capstone\\3d-object-detection-for-autonomous-vehicles\\Train\\images\\Image_Classification\\validation_cropped_images\\224\"\n",
    "\n",
    "def false_positive_finder(base_path, false_positive_counts):\n",
    "    category_counts = {}\n",
    "    for image_name, image_count in false_positive_counts.items():\n",
    "    # Iterate over the subdirectories in the base path\n",
    "        for subdir in os.listdir(base_path):\n",
    "            subdir_path = os.path.join(base_path, subdir)\n",
    "            \n",
    "            # Check if the path is a directory\n",
    "            if os.path.isdir(subdir_path):\n",
    "                # Construct the potential full path of the file\n",
    "                potential_file_path = os.path.join(subdir_path, image_name + \".jpeg\")\n",
    "                # Check if the file exists at this path\n",
    "                if os.path.isfile(potential_file_path):\n",
    "                    match = re.search(r'validation_cropped_images\\\\(\\d+)\\\\([^\\\\]+)\\\\', potential_file_path)\n",
    "                    if match:\n",
    "                        category_name = match.group(2)\n",
    "                        if category_name in category_counts.keys():\n",
    "                            category_counts[category_name] +=1\n",
    "                        else:\n",
    "                            category_counts[category_name] = 1\n",
    "            else:\n",
    "                print(\"File not found in the immediate subdirectories.\")\n",
    "\n",
    "    category_counts_df = pd.DataFrame.from_dict(category_counts, orient=\"index\", columns=['Count'])\n",
    "    category_counts_df = category_counts_df.reset_index().rename(columns={'index': 'Category'}).sort_values(\"Count\", ascending=False)\n",
    "    return category_counts_df\n",
    "\n",
    "test_false_pos_classes = false_positive_finder(base_path, false_positive_counts)\n"
   ]
  },
  {
   "cell_type": "code",
   "execution_count": 14,
   "metadata": {},
   "outputs": [
    {
     "data": {
      "text/html": [
       "<div>\n",
       "<style scoped>\n",
       "    .dataframe tbody tr th:only-of-type {\n",
       "        vertical-align: middle;\n",
       "    }\n",
       "\n",
       "    .dataframe tbody tr th {\n",
       "        vertical-align: top;\n",
       "    }\n",
       "\n",
       "    .dataframe thead th {\n",
       "        text-align: right;\n",
       "    }\n",
       "</style>\n",
       "<table border=\"1\" class=\"dataframe\">\n",
       "  <thead>\n",
       "    <tr style=\"text-align: right;\">\n",
       "      <th></th>\n",
       "      <th>Category</th>\n",
       "      <th>Count</th>\n",
       "    </tr>\n",
       "  </thead>\n",
       "  <tbody>\n",
       "    <tr>\n",
       "      <th>3</th>\n",
       "      <td>bicycle</td>\n",
       "      <td>882</td>\n",
       "    </tr>\n",
       "    <tr>\n",
       "      <th>1</th>\n",
       "      <td>truck</td>\n",
       "      <td>342</td>\n",
       "    </tr>\n",
       "    <tr>\n",
       "      <th>0</th>\n",
       "      <td>other_vehicle</td>\n",
       "      <td>249</td>\n",
       "    </tr>\n",
       "    <tr>\n",
       "      <th>2</th>\n",
       "      <td>bus</td>\n",
       "      <td>155</td>\n",
       "    </tr>\n",
       "    <tr>\n",
       "      <th>5</th>\n",
       "      <td>emergency</td>\n",
       "      <td>16</td>\n",
       "    </tr>\n",
       "    <tr>\n",
       "      <th>4</th>\n",
       "      <td>motorcycle</td>\n",
       "      <td>10</td>\n",
       "    </tr>\n",
       "  </tbody>\n",
       "</table>\n",
       "</div>"
      ],
      "text/plain": [
       "        Category  Count\n",
       "3        bicycle    882\n",
       "1          truck    342\n",
       "0  other_vehicle    249\n",
       "2            bus    155\n",
       "5      emergency     16\n",
       "4     motorcycle     10"
      ]
     },
     "execution_count": 14,
     "metadata": {},
     "output_type": "execute_result"
    }
   ],
   "source": [
    "test_false_pos_classes"
   ]
  },
  {
   "cell_type": "code",
   "execution_count": 20,
   "metadata": {},
   "outputs": [
    {
     "data": {
      "application/vnd.plotly.v1+json": {
       "config": {
        "plotlyServerURL": "https://plot.ly"
       },
       "data": [
        {
         "domain": {
          "x": [
           0,
           1
          ],
          "y": [
           0,
           1
          ]
         },
         "hole": 0.3,
         "hovertemplate": "Category=%{label}<br>Count=%{value}<extra></extra>",
         "labels": [
          "bicycle",
          "truck",
          "other_vehicle",
          "bus",
          "emergency",
          "motorcycle"
         ],
         "legendgroup": "",
         "name": "",
         "showlegend": true,
         "type": "pie",
         "values": [
          882,
          342,
          249,
          155,
          16,
          10
         ]
        }
       ],
       "layout": {
        "height": 600,
        "legend": {
         "tracegroupgap": 0
        },
        "template": {
         "data": {
          "bar": [
           {
            "error_x": {
             "color": "#2a3f5f"
            },
            "error_y": {
             "color": "#2a3f5f"
            },
            "marker": {
             "line": {
              "color": "#E5ECF6",
              "width": 0.5
             },
             "pattern": {
              "fillmode": "overlay",
              "size": 10,
              "solidity": 0.2
             }
            },
            "type": "bar"
           }
          ],
          "barpolar": [
           {
            "marker": {
             "line": {
              "color": "#E5ECF6",
              "width": 0.5
             },
             "pattern": {
              "fillmode": "overlay",
              "size": 10,
              "solidity": 0.2
             }
            },
            "type": "barpolar"
           }
          ],
          "carpet": [
           {
            "aaxis": {
             "endlinecolor": "#2a3f5f",
             "gridcolor": "white",
             "linecolor": "white",
             "minorgridcolor": "white",
             "startlinecolor": "#2a3f5f"
            },
            "baxis": {
             "endlinecolor": "#2a3f5f",
             "gridcolor": "white",
             "linecolor": "white",
             "minorgridcolor": "white",
             "startlinecolor": "#2a3f5f"
            },
            "type": "carpet"
           }
          ],
          "choropleth": [
           {
            "colorbar": {
             "outlinewidth": 0,
             "ticks": ""
            },
            "type": "choropleth"
           }
          ],
          "contour": [
           {
            "colorbar": {
             "outlinewidth": 0,
             "ticks": ""
            },
            "colorscale": [
             [
              0,
              "#0d0887"
             ],
             [
              0.1111111111111111,
              "#46039f"
             ],
             [
              0.2222222222222222,
              "#7201a8"
             ],
             [
              0.3333333333333333,
              "#9c179e"
             ],
             [
              0.4444444444444444,
              "#bd3786"
             ],
             [
              0.5555555555555556,
              "#d8576b"
             ],
             [
              0.6666666666666666,
              "#ed7953"
             ],
             [
              0.7777777777777778,
              "#fb9f3a"
             ],
             [
              0.8888888888888888,
              "#fdca26"
             ],
             [
              1,
              "#f0f921"
             ]
            ],
            "type": "contour"
           }
          ],
          "contourcarpet": [
           {
            "colorbar": {
             "outlinewidth": 0,
             "ticks": ""
            },
            "type": "contourcarpet"
           }
          ],
          "heatmap": [
           {
            "colorbar": {
             "outlinewidth": 0,
             "ticks": ""
            },
            "colorscale": [
             [
              0,
              "#0d0887"
             ],
             [
              0.1111111111111111,
              "#46039f"
             ],
             [
              0.2222222222222222,
              "#7201a8"
             ],
             [
              0.3333333333333333,
              "#9c179e"
             ],
             [
              0.4444444444444444,
              "#bd3786"
             ],
             [
              0.5555555555555556,
              "#d8576b"
             ],
             [
              0.6666666666666666,
              "#ed7953"
             ],
             [
              0.7777777777777778,
              "#fb9f3a"
             ],
             [
              0.8888888888888888,
              "#fdca26"
             ],
             [
              1,
              "#f0f921"
             ]
            ],
            "type": "heatmap"
           }
          ],
          "heatmapgl": [
           {
            "colorbar": {
             "outlinewidth": 0,
             "ticks": ""
            },
            "colorscale": [
             [
              0,
              "#0d0887"
             ],
             [
              0.1111111111111111,
              "#46039f"
             ],
             [
              0.2222222222222222,
              "#7201a8"
             ],
             [
              0.3333333333333333,
              "#9c179e"
             ],
             [
              0.4444444444444444,
              "#bd3786"
             ],
             [
              0.5555555555555556,
              "#d8576b"
             ],
             [
              0.6666666666666666,
              "#ed7953"
             ],
             [
              0.7777777777777778,
              "#fb9f3a"
             ],
             [
              0.8888888888888888,
              "#fdca26"
             ],
             [
              1,
              "#f0f921"
             ]
            ],
            "type": "heatmapgl"
           }
          ],
          "histogram": [
           {
            "marker": {
             "pattern": {
              "fillmode": "overlay",
              "size": 10,
              "solidity": 0.2
             }
            },
            "type": "histogram"
           }
          ],
          "histogram2d": [
           {
            "colorbar": {
             "outlinewidth": 0,
             "ticks": ""
            },
            "colorscale": [
             [
              0,
              "#0d0887"
             ],
             [
              0.1111111111111111,
              "#46039f"
             ],
             [
              0.2222222222222222,
              "#7201a8"
             ],
             [
              0.3333333333333333,
              "#9c179e"
             ],
             [
              0.4444444444444444,
              "#bd3786"
             ],
             [
              0.5555555555555556,
              "#d8576b"
             ],
             [
              0.6666666666666666,
              "#ed7953"
             ],
             [
              0.7777777777777778,
              "#fb9f3a"
             ],
             [
              0.8888888888888888,
              "#fdca26"
             ],
             [
              1,
              "#f0f921"
             ]
            ],
            "type": "histogram2d"
           }
          ],
          "histogram2dcontour": [
           {
            "colorbar": {
             "outlinewidth": 0,
             "ticks": ""
            },
            "colorscale": [
             [
              0,
              "#0d0887"
             ],
             [
              0.1111111111111111,
              "#46039f"
             ],
             [
              0.2222222222222222,
              "#7201a8"
             ],
             [
              0.3333333333333333,
              "#9c179e"
             ],
             [
              0.4444444444444444,
              "#bd3786"
             ],
             [
              0.5555555555555556,
              "#d8576b"
             ],
             [
              0.6666666666666666,
              "#ed7953"
             ],
             [
              0.7777777777777778,
              "#fb9f3a"
             ],
             [
              0.8888888888888888,
              "#fdca26"
             ],
             [
              1,
              "#f0f921"
             ]
            ],
            "type": "histogram2dcontour"
           }
          ],
          "mesh3d": [
           {
            "colorbar": {
             "outlinewidth": 0,
             "ticks": ""
            },
            "type": "mesh3d"
           }
          ],
          "parcoords": [
           {
            "line": {
             "colorbar": {
              "outlinewidth": 0,
              "ticks": ""
             }
            },
            "type": "parcoords"
           }
          ],
          "pie": [
           {
            "automargin": true,
            "type": "pie"
           }
          ],
          "scatter": [
           {
            "fillpattern": {
             "fillmode": "overlay",
             "size": 10,
             "solidity": 0.2
            },
            "type": "scatter"
           }
          ],
          "scatter3d": [
           {
            "line": {
             "colorbar": {
              "outlinewidth": 0,
              "ticks": ""
             }
            },
            "marker": {
             "colorbar": {
              "outlinewidth": 0,
              "ticks": ""
             }
            },
            "type": "scatter3d"
           }
          ],
          "scattercarpet": [
           {
            "marker": {
             "colorbar": {
              "outlinewidth": 0,
              "ticks": ""
             }
            },
            "type": "scattercarpet"
           }
          ],
          "scattergeo": [
           {
            "marker": {
             "colorbar": {
              "outlinewidth": 0,
              "ticks": ""
             }
            },
            "type": "scattergeo"
           }
          ],
          "scattergl": [
           {
            "marker": {
             "colorbar": {
              "outlinewidth": 0,
              "ticks": ""
             }
            },
            "type": "scattergl"
           }
          ],
          "scattermapbox": [
           {
            "marker": {
             "colorbar": {
              "outlinewidth": 0,
              "ticks": ""
             }
            },
            "type": "scattermapbox"
           }
          ],
          "scatterpolar": [
           {
            "marker": {
             "colorbar": {
              "outlinewidth": 0,
              "ticks": ""
             }
            },
            "type": "scatterpolar"
           }
          ],
          "scatterpolargl": [
           {
            "marker": {
             "colorbar": {
              "outlinewidth": 0,
              "ticks": ""
             }
            },
            "type": "scatterpolargl"
           }
          ],
          "scatterternary": [
           {
            "marker": {
             "colorbar": {
              "outlinewidth": 0,
              "ticks": ""
             }
            },
            "type": "scatterternary"
           }
          ],
          "surface": [
           {
            "colorbar": {
             "outlinewidth": 0,
             "ticks": ""
            },
            "colorscale": [
             [
              0,
              "#0d0887"
             ],
             [
              0.1111111111111111,
              "#46039f"
             ],
             [
              0.2222222222222222,
              "#7201a8"
             ],
             [
              0.3333333333333333,
              "#9c179e"
             ],
             [
              0.4444444444444444,
              "#bd3786"
             ],
             [
              0.5555555555555556,
              "#d8576b"
             ],
             [
              0.6666666666666666,
              "#ed7953"
             ],
             [
              0.7777777777777778,
              "#fb9f3a"
             ],
             [
              0.8888888888888888,
              "#fdca26"
             ],
             [
              1,
              "#f0f921"
             ]
            ],
            "type": "surface"
           }
          ],
          "table": [
           {
            "cells": {
             "fill": {
              "color": "#EBF0F8"
             },
             "line": {
              "color": "white"
             }
            },
            "header": {
             "fill": {
              "color": "#C8D4E3"
             },
             "line": {
              "color": "white"
             }
            },
            "type": "table"
           }
          ]
         },
         "layout": {
          "annotationdefaults": {
           "arrowcolor": "#2a3f5f",
           "arrowhead": 0,
           "arrowwidth": 1
          },
          "autotypenumbers": "strict",
          "coloraxis": {
           "colorbar": {
            "outlinewidth": 0,
            "ticks": ""
           }
          },
          "colorscale": {
           "diverging": [
            [
             0,
             "#8e0152"
            ],
            [
             0.1,
             "#c51b7d"
            ],
            [
             0.2,
             "#de77ae"
            ],
            [
             0.3,
             "#f1b6da"
            ],
            [
             0.4,
             "#fde0ef"
            ],
            [
             0.5,
             "#f7f7f7"
            ],
            [
             0.6,
             "#e6f5d0"
            ],
            [
             0.7,
             "#b8e186"
            ],
            [
             0.8,
             "#7fbc41"
            ],
            [
             0.9,
             "#4d9221"
            ],
            [
             1,
             "#276419"
            ]
           ],
           "sequential": [
            [
             0,
             "#0d0887"
            ],
            [
             0.1111111111111111,
             "#46039f"
            ],
            [
             0.2222222222222222,
             "#7201a8"
            ],
            [
             0.3333333333333333,
             "#9c179e"
            ],
            [
             0.4444444444444444,
             "#bd3786"
            ],
            [
             0.5555555555555556,
             "#d8576b"
            ],
            [
             0.6666666666666666,
             "#ed7953"
            ],
            [
             0.7777777777777778,
             "#fb9f3a"
            ],
            [
             0.8888888888888888,
             "#fdca26"
            ],
            [
             1,
             "#f0f921"
            ]
           ],
           "sequentialminus": [
            [
             0,
             "#0d0887"
            ],
            [
             0.1111111111111111,
             "#46039f"
            ],
            [
             0.2222222222222222,
             "#7201a8"
            ],
            [
             0.3333333333333333,
             "#9c179e"
            ],
            [
             0.4444444444444444,
             "#bd3786"
            ],
            [
             0.5555555555555556,
             "#d8576b"
            ],
            [
             0.6666666666666666,
             "#ed7953"
            ],
            [
             0.7777777777777778,
             "#fb9f3a"
            ],
            [
             0.8888888888888888,
             "#fdca26"
            ],
            [
             1,
             "#f0f921"
            ]
           ]
          },
          "colorway": [
           "#636efa",
           "#EF553B",
           "#00cc96",
           "#ab63fa",
           "#FFA15A",
           "#19d3f3",
           "#FF6692",
           "#B6E880",
           "#FF97FF",
           "#FECB52"
          ],
          "font": {
           "color": "#2a3f5f"
          },
          "geo": {
           "bgcolor": "white",
           "lakecolor": "white",
           "landcolor": "#E5ECF6",
           "showlakes": true,
           "showland": true,
           "subunitcolor": "white"
          },
          "hoverlabel": {
           "align": "left"
          },
          "hovermode": "closest",
          "mapbox": {
           "style": "light"
          },
          "paper_bgcolor": "white",
          "plot_bgcolor": "#E5ECF6",
          "polar": {
           "angularaxis": {
            "gridcolor": "white",
            "linecolor": "white",
            "ticks": ""
           },
           "bgcolor": "#E5ECF6",
           "radialaxis": {
            "gridcolor": "white",
            "linecolor": "white",
            "ticks": ""
           }
          },
          "scene": {
           "xaxis": {
            "backgroundcolor": "#E5ECF6",
            "gridcolor": "white",
            "gridwidth": 2,
            "linecolor": "white",
            "showbackground": true,
            "ticks": "",
            "zerolinecolor": "white"
           },
           "yaxis": {
            "backgroundcolor": "#E5ECF6",
            "gridcolor": "white",
            "gridwidth": 2,
            "linecolor": "white",
            "showbackground": true,
            "ticks": "",
            "zerolinecolor": "white"
           },
           "zaxis": {
            "backgroundcolor": "#E5ECF6",
            "gridcolor": "white",
            "gridwidth": 2,
            "linecolor": "white",
            "showbackground": true,
            "ticks": "",
            "zerolinecolor": "white"
           }
          },
          "shapedefaults": {
           "line": {
            "color": "#2a3f5f"
           }
          },
          "ternary": {
           "aaxis": {
            "gridcolor": "white",
            "linecolor": "white",
            "ticks": ""
           },
           "baxis": {
            "gridcolor": "white",
            "linecolor": "white",
            "ticks": ""
           },
           "bgcolor": "#E5ECF6",
           "caxis": {
            "gridcolor": "white",
            "linecolor": "white",
            "ticks": ""
           }
          },
          "title": {
           "x": 0.05
          },
          "xaxis": {
           "automargin": true,
           "gridcolor": "white",
           "linecolor": "white",
           "ticks": "",
           "title": {
            "standoff": 15
           },
           "zerolinecolor": "white",
           "zerolinewidth": 2
          },
          "yaxis": {
           "automargin": true,
           "gridcolor": "white",
           "linecolor": "white",
           "ticks": "",
           "title": {
            "standoff": 15
           },
           "zerolinecolor": "white",
           "zerolinewidth": 2
          }
         }
        },
        "title": {
         "text": "False positive categories incorrectly classified as Pedestrian"
        },
        "width": 600
       }
      }
     },
     "metadata": {},
     "output_type": "display_data"
    }
   ],
   "source": [
    "# Create the pie chart\n",
    "fig_false_positives = px.pie(test_false_pos_classes, names='Category', values='Count', \n",
    "             title=\"False positive categories incorrectly classified as Pedestrian\",\n",
    "             hole=0.3)  # Optional: creates a donut-like pie chart\n",
    "\n",
    "# Adjust the aspect ratio to make the plot more square\n",
    "fig_false_positives.update_layout(width=600, height=600)"
   ]
  },
  {
   "cell_type": "code",
   "execution_count": 16,
   "metadata": {},
   "outputs": [
    {
     "data": {
      "text/plain": [
       "ResNet(\n",
       "  (conv1): Conv2d(3, 64, kernel_size=(7, 7), stride=(2, 2), padding=(3, 3), bias=False)\n",
       "  (bn1): BatchNorm2d(64, eps=1e-05, momentum=0.1, affine=True, track_running_stats=True)\n",
       "  (relu): ReLU(inplace=True)\n",
       "  (maxpool): MaxPool2d(kernel_size=3, stride=2, padding=1, dilation=1, ceil_mode=False)\n",
       "  (layer1): Sequential(\n",
       "    (0): Bottleneck(\n",
       "      (conv1): Conv2d(64, 64, kernel_size=(1, 1), stride=(1, 1), bias=False)\n",
       "      (bn1): BatchNorm2d(64, eps=1e-05, momentum=0.1, affine=True, track_running_stats=True)\n",
       "      (conv2): Conv2d(64, 64, kernel_size=(3, 3), stride=(1, 1), padding=(1, 1), bias=False)\n",
       "      (bn2): BatchNorm2d(64, eps=1e-05, momentum=0.1, affine=True, track_running_stats=True)\n",
       "      (conv3): Conv2d(64, 256, kernel_size=(1, 1), stride=(1, 1), bias=False)\n",
       "      (bn3): BatchNorm2d(256, eps=1e-05, momentum=0.1, affine=True, track_running_stats=True)\n",
       "      (relu): ReLU(inplace=True)\n",
       "      (downsample): Sequential(\n",
       "        (0): Conv2d(64, 256, kernel_size=(1, 1), stride=(1, 1), bias=False)\n",
       "        (1): BatchNorm2d(256, eps=1e-05, momentum=0.1, affine=True, track_running_stats=True)\n",
       "      )\n",
       "    )\n",
       "    (1): Bottleneck(\n",
       "      (conv1): Conv2d(256, 64, kernel_size=(1, 1), stride=(1, 1), bias=False)\n",
       "      (bn1): BatchNorm2d(64, eps=1e-05, momentum=0.1, affine=True, track_running_stats=True)\n",
       "      (conv2): Conv2d(64, 64, kernel_size=(3, 3), stride=(1, 1), padding=(1, 1), bias=False)\n",
       "      (bn2): BatchNorm2d(64, eps=1e-05, momentum=0.1, affine=True, track_running_stats=True)\n",
       "      (conv3): Conv2d(64, 256, kernel_size=(1, 1), stride=(1, 1), bias=False)\n",
       "      (bn3): BatchNorm2d(256, eps=1e-05, momentum=0.1, affine=True, track_running_stats=True)\n",
       "      (relu): ReLU(inplace=True)\n",
       "    )\n",
       "    (2): Bottleneck(\n",
       "      (conv1): Conv2d(256, 64, kernel_size=(1, 1), stride=(1, 1), bias=False)\n",
       "      (bn1): BatchNorm2d(64, eps=1e-05, momentum=0.1, affine=True, track_running_stats=True)\n",
       "      (conv2): Conv2d(64, 64, kernel_size=(3, 3), stride=(1, 1), padding=(1, 1), bias=False)\n",
       "      (bn2): BatchNorm2d(64, eps=1e-05, momentum=0.1, affine=True, track_running_stats=True)\n",
       "      (conv3): Conv2d(64, 256, kernel_size=(1, 1), stride=(1, 1), bias=False)\n",
       "      (bn3): BatchNorm2d(256, eps=1e-05, momentum=0.1, affine=True, track_running_stats=True)\n",
       "      (relu): ReLU(inplace=True)\n",
       "    )\n",
       "  )\n",
       "  (layer2): Sequential(\n",
       "    (0): Bottleneck(\n",
       "      (conv1): Conv2d(256, 128, kernel_size=(1, 1), stride=(1, 1), bias=False)\n",
       "      (bn1): BatchNorm2d(128, eps=1e-05, momentum=0.1, affine=True, track_running_stats=True)\n",
       "      (conv2): Conv2d(128, 128, kernel_size=(3, 3), stride=(2, 2), padding=(1, 1), bias=False)\n",
       "      (bn2): BatchNorm2d(128, eps=1e-05, momentum=0.1, affine=True, track_running_stats=True)\n",
       "      (conv3): Conv2d(128, 512, kernel_size=(1, 1), stride=(1, 1), bias=False)\n",
       "      (bn3): BatchNorm2d(512, eps=1e-05, momentum=0.1, affine=True, track_running_stats=True)\n",
       "      (relu): ReLU(inplace=True)\n",
       "      (downsample): Sequential(\n",
       "        (0): Conv2d(256, 512, kernel_size=(1, 1), stride=(2, 2), bias=False)\n",
       "        (1): BatchNorm2d(512, eps=1e-05, momentum=0.1, affine=True, track_running_stats=True)\n",
       "      )\n",
       "    )\n",
       "    (1): Bottleneck(\n",
       "      (conv1): Conv2d(512, 128, kernel_size=(1, 1), stride=(1, 1), bias=False)\n",
       "      (bn1): BatchNorm2d(128, eps=1e-05, momentum=0.1, affine=True, track_running_stats=True)\n",
       "      (conv2): Conv2d(128, 128, kernel_size=(3, 3), stride=(1, 1), padding=(1, 1), bias=False)\n",
       "      (bn2): BatchNorm2d(128, eps=1e-05, momentum=0.1, affine=True, track_running_stats=True)\n",
       "      (conv3): Conv2d(128, 512, kernel_size=(1, 1), stride=(1, 1), bias=False)\n",
       "      (bn3): BatchNorm2d(512, eps=1e-05, momentum=0.1, affine=True, track_running_stats=True)\n",
       "      (relu): ReLU(inplace=True)\n",
       "    )\n",
       "    (2): Bottleneck(\n",
       "      (conv1): Conv2d(512, 128, kernel_size=(1, 1), stride=(1, 1), bias=False)\n",
       "      (bn1): BatchNorm2d(128, eps=1e-05, momentum=0.1, affine=True, track_running_stats=True)\n",
       "      (conv2): Conv2d(128, 128, kernel_size=(3, 3), stride=(1, 1), padding=(1, 1), bias=False)\n",
       "      (bn2): BatchNorm2d(128, eps=1e-05, momentum=0.1, affine=True, track_running_stats=True)\n",
       "      (conv3): Conv2d(128, 512, kernel_size=(1, 1), stride=(1, 1), bias=False)\n",
       "      (bn3): BatchNorm2d(512, eps=1e-05, momentum=0.1, affine=True, track_running_stats=True)\n",
       "      (relu): ReLU(inplace=True)\n",
       "    )\n",
       "    (3): Bottleneck(\n",
       "      (conv1): Conv2d(512, 128, kernel_size=(1, 1), stride=(1, 1), bias=False)\n",
       "      (bn1): BatchNorm2d(128, eps=1e-05, momentum=0.1, affine=True, track_running_stats=True)\n",
       "      (conv2): Conv2d(128, 128, kernel_size=(3, 3), stride=(1, 1), padding=(1, 1), bias=False)\n",
       "      (bn2): BatchNorm2d(128, eps=1e-05, momentum=0.1, affine=True, track_running_stats=True)\n",
       "      (conv3): Conv2d(128, 512, kernel_size=(1, 1), stride=(1, 1), bias=False)\n",
       "      (bn3): BatchNorm2d(512, eps=1e-05, momentum=0.1, affine=True, track_running_stats=True)\n",
       "      (relu): ReLU(inplace=True)\n",
       "    )\n",
       "  )\n",
       "  (layer3): Sequential(\n",
       "    (0): Bottleneck(\n",
       "      (conv1): Conv2d(512, 256, kernel_size=(1, 1), stride=(1, 1), bias=False)\n",
       "      (bn1): BatchNorm2d(256, eps=1e-05, momentum=0.1, affine=True, track_running_stats=True)\n",
       "      (conv2): Conv2d(256, 256, kernel_size=(3, 3), stride=(2, 2), padding=(1, 1), bias=False)\n",
       "      (bn2): BatchNorm2d(256, eps=1e-05, momentum=0.1, affine=True, track_running_stats=True)\n",
       "      (conv3): Conv2d(256, 1024, kernel_size=(1, 1), stride=(1, 1), bias=False)\n",
       "      (bn3): BatchNorm2d(1024, eps=1e-05, momentum=0.1, affine=True, track_running_stats=True)\n",
       "      (relu): ReLU(inplace=True)\n",
       "      (downsample): Sequential(\n",
       "        (0): Conv2d(512, 1024, kernel_size=(1, 1), stride=(2, 2), bias=False)\n",
       "        (1): BatchNorm2d(1024, eps=1e-05, momentum=0.1, affine=True, track_running_stats=True)\n",
       "      )\n",
       "    )\n",
       "    (1): Bottleneck(\n",
       "      (conv1): Conv2d(1024, 256, kernel_size=(1, 1), stride=(1, 1), bias=False)\n",
       "      (bn1): BatchNorm2d(256, eps=1e-05, momentum=0.1, affine=True, track_running_stats=True)\n",
       "      (conv2): Conv2d(256, 256, kernel_size=(3, 3), stride=(1, 1), padding=(1, 1), bias=False)\n",
       "      (bn2): BatchNorm2d(256, eps=1e-05, momentum=0.1, affine=True, track_running_stats=True)\n",
       "      (conv3): Conv2d(256, 1024, kernel_size=(1, 1), stride=(1, 1), bias=False)\n",
       "      (bn3): BatchNorm2d(1024, eps=1e-05, momentum=0.1, affine=True, track_running_stats=True)\n",
       "      (relu): ReLU(inplace=True)\n",
       "    )\n",
       "    (2): Bottleneck(\n",
       "      (conv1): Conv2d(1024, 256, kernel_size=(1, 1), stride=(1, 1), bias=False)\n",
       "      (bn1): BatchNorm2d(256, eps=1e-05, momentum=0.1, affine=True, track_running_stats=True)\n",
       "      (conv2): Conv2d(256, 256, kernel_size=(3, 3), stride=(1, 1), padding=(1, 1), bias=False)\n",
       "      (bn2): BatchNorm2d(256, eps=1e-05, momentum=0.1, affine=True, track_running_stats=True)\n",
       "      (conv3): Conv2d(256, 1024, kernel_size=(1, 1), stride=(1, 1), bias=False)\n",
       "      (bn3): BatchNorm2d(1024, eps=1e-05, momentum=0.1, affine=True, track_running_stats=True)\n",
       "      (relu): ReLU(inplace=True)\n",
       "    )\n",
       "    (3): Bottleneck(\n",
       "      (conv1): Conv2d(1024, 256, kernel_size=(1, 1), stride=(1, 1), bias=False)\n",
       "      (bn1): BatchNorm2d(256, eps=1e-05, momentum=0.1, affine=True, track_running_stats=True)\n",
       "      (conv2): Conv2d(256, 256, kernel_size=(3, 3), stride=(1, 1), padding=(1, 1), bias=False)\n",
       "      (bn2): BatchNorm2d(256, eps=1e-05, momentum=0.1, affine=True, track_running_stats=True)\n",
       "      (conv3): Conv2d(256, 1024, kernel_size=(1, 1), stride=(1, 1), bias=False)\n",
       "      (bn3): BatchNorm2d(1024, eps=1e-05, momentum=0.1, affine=True, track_running_stats=True)\n",
       "      (relu): ReLU(inplace=True)\n",
       "    )\n",
       "    (4): Bottleneck(\n",
       "      (conv1): Conv2d(1024, 256, kernel_size=(1, 1), stride=(1, 1), bias=False)\n",
       "      (bn1): BatchNorm2d(256, eps=1e-05, momentum=0.1, affine=True, track_running_stats=True)\n",
       "      (conv2): Conv2d(256, 256, kernel_size=(3, 3), stride=(1, 1), padding=(1, 1), bias=False)\n",
       "      (bn2): BatchNorm2d(256, eps=1e-05, momentum=0.1, affine=True, track_running_stats=True)\n",
       "      (conv3): Conv2d(256, 1024, kernel_size=(1, 1), stride=(1, 1), bias=False)\n",
       "      (bn3): BatchNorm2d(1024, eps=1e-05, momentum=0.1, affine=True, track_running_stats=True)\n",
       "      (relu): ReLU(inplace=True)\n",
       "    )\n",
       "    (5): Bottleneck(\n",
       "      (conv1): Conv2d(1024, 256, kernel_size=(1, 1), stride=(1, 1), bias=False)\n",
       "      (bn1): BatchNorm2d(256, eps=1e-05, momentum=0.1, affine=True, track_running_stats=True)\n",
       "      (conv2): Conv2d(256, 256, kernel_size=(3, 3), stride=(1, 1), padding=(1, 1), bias=False)\n",
       "      (bn2): BatchNorm2d(256, eps=1e-05, momentum=0.1, affine=True, track_running_stats=True)\n",
       "      (conv3): Conv2d(256, 1024, kernel_size=(1, 1), stride=(1, 1), bias=False)\n",
       "      (bn3): BatchNorm2d(1024, eps=1e-05, momentum=0.1, affine=True, track_running_stats=True)\n",
       "      (relu): ReLU(inplace=True)\n",
       "    )\n",
       "  )\n",
       "  (layer4): Sequential(\n",
       "    (0): Bottleneck(\n",
       "      (conv1): Conv2d(1024, 512, kernel_size=(1, 1), stride=(1, 1), bias=False)\n",
       "      (bn1): BatchNorm2d(512, eps=1e-05, momentum=0.1, affine=True, track_running_stats=True)\n",
       "      (conv2): Conv2d(512, 512, kernel_size=(3, 3), stride=(2, 2), padding=(1, 1), bias=False)\n",
       "      (bn2): BatchNorm2d(512, eps=1e-05, momentum=0.1, affine=True, track_running_stats=True)\n",
       "      (conv3): Conv2d(512, 2048, kernel_size=(1, 1), stride=(1, 1), bias=False)\n",
       "      (bn3): BatchNorm2d(2048, eps=1e-05, momentum=0.1, affine=True, track_running_stats=True)\n",
       "      (relu): ReLU(inplace=True)\n",
       "      (downsample): Sequential(\n",
       "        (0): Conv2d(1024, 2048, kernel_size=(1, 1), stride=(2, 2), bias=False)\n",
       "        (1): BatchNorm2d(2048, eps=1e-05, momentum=0.1, affine=True, track_running_stats=True)\n",
       "      )\n",
       "    )\n",
       "    (1): Bottleneck(\n",
       "      (conv1): Conv2d(2048, 512, kernel_size=(1, 1), stride=(1, 1), bias=False)\n",
       "      (bn1): BatchNorm2d(512, eps=1e-05, momentum=0.1, affine=True, track_running_stats=True)\n",
       "      (conv2): Conv2d(512, 512, kernel_size=(3, 3), stride=(1, 1), padding=(1, 1), bias=False)\n",
       "      (bn2): BatchNorm2d(512, eps=1e-05, momentum=0.1, affine=True, track_running_stats=True)\n",
       "      (conv3): Conv2d(512, 2048, kernel_size=(1, 1), stride=(1, 1), bias=False)\n",
       "      (bn3): BatchNorm2d(2048, eps=1e-05, momentum=0.1, affine=True, track_running_stats=True)\n",
       "      (relu): ReLU(inplace=True)\n",
       "    )\n",
       "    (2): Bottleneck(\n",
       "      (conv1): Conv2d(2048, 512, kernel_size=(1, 1), stride=(1, 1), bias=False)\n",
       "      (bn1): BatchNorm2d(512, eps=1e-05, momentum=0.1, affine=True, track_running_stats=True)\n",
       "      (conv2): Conv2d(512, 512, kernel_size=(3, 3), stride=(1, 1), padding=(1, 1), bias=False)\n",
       "      (bn2): BatchNorm2d(512, eps=1e-05, momentum=0.1, affine=True, track_running_stats=True)\n",
       "      (conv3): Conv2d(512, 2048, kernel_size=(1, 1), stride=(1, 1), bias=False)\n",
       "      (bn3): BatchNorm2d(2048, eps=1e-05, momentum=0.1, affine=True, track_running_stats=True)\n",
       "      (relu): ReLU(inplace=True)\n",
       "    )\n",
       "  )\n",
       "  (avgpool): AdaptiveAvgPool2d(output_size=(1, 1))\n",
       "  (fc): Linear(in_features=2048, out_features=2, bias=True)\n",
       ")"
      ]
     },
     "execution_count": 16,
     "metadata": {},
     "output_type": "execute_result"
    }
   ],
   "source": [
    "# model_res50.load_state_dict(checkpoint['model_state_dict'])\n",
    "model_res50 = torch.load(r\"S:\\MADS\\Capstone\\3d-object-detection-for-autonomous-vehicles\\Train\\models\\resnet50_2023_11_21_22_15\")\n",
    "model_res50"
   ]
  },
  {
   "cell_type": "markdown",
   "metadata": {},
   "source": [
    "### Visualize the output of the first layer which is a convolution layer with kernel 7x7. This is just to remind us what we are dealing with."
   ]
  },
  {
   "cell_type": "code",
   "execution_count": 103,
   "metadata": {},
   "outputs": [
    {
     "name": "stdout",
     "output_type": "stream",
     "text": [
      "tensor([[[0.4760, 0.4743, 0.4661, 0.4955, 0.5031, 0.4722, 0.4078],\n",
      "         [0.4549, 0.4583, 0.4736, 0.5090, 0.5175, 0.4930, 0.4511],\n",
      "         [0.4549, 0.4578, 0.4556, 0.5131, 0.5559, 0.5352, 0.5052],\n",
      "         [0.4458, 0.4449, 0.4122, 0.4309, 0.4550, 0.4880, 0.4916],\n",
      "         [0.4411, 0.4677, 0.4452, 0.4304, 0.3853, 0.4004, 0.4419],\n",
      "         [0.4417, 0.4869, 0.4927, 0.5223, 0.4753, 0.4100, 0.4144],\n",
      "         [0.4181, 0.4639, 0.4738, 0.5290, 0.5222, 0.4761, 0.4490]],\n",
      "\n",
      "        [[0.4667, 0.4824, 0.4985, 0.5539, 0.5650, 0.5308, 0.4546],\n",
      "         [0.4587, 0.4801, 0.5151, 0.5860, 0.6175, 0.5998, 0.5558],\n",
      "         [0.4292, 0.4116, 0.4039, 0.4862, 0.5737, 0.6037, 0.5906],\n",
      "         [0.4195, 0.3754, 0.2920, 0.2714, 0.3157, 0.4213, 0.4813],\n",
      "         [0.4701, 0.4662, 0.4027, 0.3180, 0.2336, 0.2634, 0.3562],\n",
      "         [0.4962, 0.5463, 0.5501, 0.5535, 0.4620, 0.3612, 0.3520],\n",
      "         [0.4673, 0.5338, 0.5726, 0.6424, 0.6185, 0.5381, 0.4710]],\n",
      "\n",
      "        [[0.4642, 0.4702, 0.4877, 0.5323, 0.5415, 0.5142, 0.4567],\n",
      "         [0.4514, 0.4641, 0.5002, 0.5604, 0.5860, 0.5725, 0.5442],\n",
      "         [0.4107, 0.3898, 0.3945, 0.4799, 0.5585, 0.5779, 0.5667],\n",
      "         [0.4202, 0.3788, 0.3095, 0.3076, 0.3474, 0.4289, 0.4773],\n",
      "         [0.4616, 0.4609, 0.4078, 0.3485, 0.2739, 0.2930, 0.3667],\n",
      "         [0.4917, 0.5316, 0.5382, 0.5465, 0.4630, 0.3624, 0.3583],\n",
      "         [0.4672, 0.5269, 0.5600, 0.6380, 0.6180, 0.5382, 0.4708]]])\n",
      "tensor([[[0.4760, 0.4667, 0.4642],\n",
      "         [0.4743, 0.4824, 0.4702],\n",
      "         [0.4661, 0.4985, 0.4877],\n",
      "         [0.4955, 0.5539, 0.5323],\n",
      "         [0.5031, 0.5650, 0.5415],\n",
      "         [0.4722, 0.5308, 0.5142],\n",
      "         [0.4078, 0.4546, 0.4567]],\n",
      "\n",
      "        [[0.4549, 0.4587, 0.4514],\n",
      "         [0.4583, 0.4801, 0.4641],\n",
      "         [0.4736, 0.5151, 0.5002],\n",
      "         [0.5090, 0.5860, 0.5604],\n",
      "         [0.5175, 0.6175, 0.5860],\n",
      "         [0.4930, 0.5998, 0.5725],\n",
      "         [0.4511, 0.5558, 0.5442]],\n",
      "\n",
      "        [[0.4549, 0.4292, 0.4107],\n",
      "         [0.4578, 0.4116, 0.3898],\n",
      "         [0.4556, 0.4039, 0.3945],\n",
      "         [0.5131, 0.4862, 0.4799],\n",
      "         [0.5559, 0.5737, 0.5585],\n",
      "         [0.5352, 0.6037, 0.5779],\n",
      "         [0.5052, 0.5906, 0.5667]],\n",
      "\n",
      "        [[0.4458, 0.4195, 0.4202],\n",
      "         [0.4449, 0.3754, 0.3788],\n",
      "         [0.4122, 0.2920, 0.3095],\n",
      "         [0.4309, 0.2714, 0.3076],\n",
      "         [0.4550, 0.3157, 0.3474],\n",
      "         [0.4880, 0.4213, 0.4289],\n",
      "         [0.4916, 0.4813, 0.4773]],\n",
      "\n",
      "        [[0.4411, 0.4701, 0.4616],\n",
      "         [0.4677, 0.4662, 0.4609],\n",
      "         [0.4452, 0.4027, 0.4078],\n",
      "         [0.4304, 0.3180, 0.3485],\n",
      "         [0.3853, 0.2336, 0.2739],\n",
      "         [0.4004, 0.2634, 0.2930],\n",
      "         [0.4419, 0.3562, 0.3667]],\n",
      "\n",
      "        [[0.4417, 0.4962, 0.4917],\n",
      "         [0.4869, 0.5463, 0.5316],\n",
      "         [0.4927, 0.5501, 0.5382],\n",
      "         [0.5223, 0.5535, 0.5465],\n",
      "         [0.4753, 0.4620, 0.4630],\n",
      "         [0.4100, 0.3612, 0.3624],\n",
      "         [0.4144, 0.3520, 0.3583]],\n",
      "\n",
      "        [[0.4181, 0.4673, 0.4672],\n",
      "         [0.4639, 0.5338, 0.5269],\n",
      "         [0.4738, 0.5726, 0.5600],\n",
      "         [0.5290, 0.6424, 0.6380],\n",
      "         [0.5222, 0.6185, 0.6180],\n",
      "         [0.4761, 0.5381, 0.5382],\n",
      "         [0.4490, 0.4710, 0.4708]]])\n"
     ]
    },
    {
     "data": {
      "image/png": "[encoded data removed]",
      "text/plain": [
       "<Figure size 2000x1700 with 64 Axes>"
      ]
     },
     "metadata": {},
     "output_type": "display_data"
    }
   ],
   "source": [
    "# Ensure it's in evaluation mode for visualization\n",
    "model_res50.eval()  # This changes the model to evaluation mode\n",
    "\n",
    "# Get the weights of the first convolutional layer\n",
    "weights = model_res50.conv1.weight.data.cpu()\n",
    "\n",
    "# Normalize the weights for better visualization\n",
    "weights = (weights - weights.min()) / (weights.max() - weights.min())\n",
    "print(weights[0])\n",
    "print(weights[0].permute(1, 2, 0))\n",
    "# Plot the first few filters\n",
    "plt.figure(figsize=(20, 17))\n",
    "for i in range(64):  # Let's visualize 64 filters\n",
    "    plt.subplot(8, 8, i + 1)\n",
    "    plt.imshow(weights[i].permute(1, 2, 0))  # Rearrange the dimensions\n",
    "    plt.axis('off')\n",
    "plt.show()"
   ]
  },
  {
   "cell_type": "code",
   "execution_count": 109,
   "metadata": {},
   "outputs": [],
   "source": [
    "# sizes = [224]\n",
    "# dynamic_transform(validation_images_dir, sizes)"
   ]
  },
  {
   "cell_type": "code",
   "execution_count": 111,
   "metadata": {},
   "outputs": [],
   "source": [
    "checkpoint = {\n",
    "    'model_state_dict': model_res50.state_dict(),\n",
    "    'validation_loss': val_loss,\n",
    "    'validation_accuracy': val_acc\n",
    "}\n",
    "\n",
    "# Save the checkpoint\n",
    "torch.save(checkpoint, 'model_res50_validation_checkpoint.pth')"
   ]
  },
  {
   "cell_type": "markdown",
   "metadata": {},
   "source": [
    "### Validation/Inference Results"
   ]
  },
  {
   "cell_type": "markdown",
   "metadata": {},
   "source": [
    "# Object Detection"
   ]
  },
  {
   "cell_type": "markdown",
   "metadata": {},
   "source": [
    "### Heatmap. Note: We use both training and validation data to aggregate a heat map. The heat map itelf isn't involved as a parameter in the model. This is simply just using a greater sample size to determine the places within the full sized images that are most and least likely for pedestrians to occur. This way, we can decrease the image space that our model will scan for each image."
   ]
  },
  {
   "cell_type": "code",
   "execution_count": 4,
   "metadata": {},
   "outputs": [],
   "source": [
    "train_path = r\"S:\\MADS\\Capstone\\3d-object-detection-for-autonomous-vehicles\\Train\\img_bx_lookup\\train_logs_tokens_pedestrian.json\"\n",
    "val_path = r\"S:\\MADS\\Capstone\\3d-object-detection-for-autonomous-vehicles\\Train\\img_bx_lookup\\validation_logs_tokens_pedestrian.json\"\n",
    "with open(train_path, 'r') as file:\n",
    "    train_pedestrians = json.load(file)\n",
    "with open(val_path, 'r') as file:\n",
    "    val_pedestrians = json.load(file)"
   ]
  },
  {
   "cell_type": "code",
   "execution_count": 26,
   "metadata": {},
   "outputs": [
    {
     "data": {
      "image/png": "[encoded data removed]",
      "text/plain": [
       "<Figure size 640x480 with 1 Axes>"
      ]
     },
     "metadata": {},
     "output_type": "display_data"
    }
   ],
   "source": [
    "# Initialize heatmap grid\n",
    "heatmap = np.zeros((1224, 1024))\n",
    "\n",
    "for filename, coords in train_pedestrians.items():\n",
    "    \n",
    "    box_coords = coords[0]\n",
    "    \n",
    "    # Calculate bounding box coordinates and round to nearest integer\n",
    "    x_min = int(np.round(np.min(box_coords[0])))\n",
    "    y_min = int(np.round(np.min(box_coords[1])))\n",
    "    x_max = int(np.round(np.max(box_coords[0])))\n",
    "    y_max = int(np.round(np.max(box_coords[1])))\n",
    "\n",
    "    # Adjust if the coordinates are outside the image\n",
    "    x_min = max(x_min, 0)\n",
    "    y_min = max(y_min, 0)\n",
    "    x_max = min(x_max, heatmap.shape[1] - 1)\n",
    "    y_max = min(y_max, heatmap.shape[0] - 1)\n",
    "\n",
    "    heatmap[y_min:y_max, x_min:x_max] += 1\n",
    "\n",
    "for filename, coords in val_pedestrians.items():\n",
    "\n",
    "    box_coords = coords[0]\n",
    "\n",
    "    # Calculate bounding box coordinates and round to nearest integer\n",
    "    x_min = int(np.round(np.min(box_coords[0])))\n",
    "    y_min = int(np.round(np.min(box_coords[1])))\n",
    "    x_max = int(np.round(np.max(box_coords[0])))\n",
    "    y_max = int(np.round(np.max(box_coords[1])))\n",
    "\n",
    "    # Adjust if the coordinates are outside the image\n",
    "    x_min = max(x_min, 0)\n",
    "    y_min = max(y_min, 0)\n",
    "    x_max = min(x_max, heatmap.shape[1] - 1)\n",
    "    y_max = min(y_max, heatmap.shape[0] - 1)\n",
    "\n",
    "    heatmap[y_min:y_max, x_min:x_max] += 1\n",
    "\n",
    "# Normalize the heatmap\n",
    "heatmap = heatmap / np.max(heatmap)\n",
    "\n",
    "# Plot the heatmap\n",
    "plt.imshow(heatmap, cmap='gist_heat', interpolation='nearest')\n",
    "plt.show()"
   ]
  },
  {
   "cell_type": "code",
   "execution_count": 27,
   "metadata": {},
   "outputs": [
    {
     "data": {
      "image/png": "[encoded data removed]",
      "text/plain": [
       "<Figure size 640x480 with 1 Axes>"
      ]
     },
     "metadata": {},
     "output_type": "display_data"
    }
   ],
   "source": [
    "# Create a mask for any non-zero values\n",
    "outlier_mask = heatmap > 0\n",
    "\n",
    "# Plot the heatmap with non-zero values highlighted\n",
    "plt.imshow(heatmap, cmap='hot', interpolation='nearest')\n",
    "plt.imshow(outlier_mask, cmap='cool', alpha=0.5) # overlaying with a different color\n",
    "plt.show()"
   ]
  },
  {
   "cell_type": "markdown",
   "metadata": {},
   "source": [
    "## Import FasterRCNN model."
   ]
  },
  {
   "cell_type": "code",
   "execution_count": 5,
   "metadata": {},
   "outputs": [
    {
     "name": "stdout",
     "output_type": "stream",
     "text": [
      "cuda:0\n"
     ]
    }
   ],
   "source": [
    "# Load a pre-trained fasterrcnn_mobilenet_v3_large_fpn model\n",
    "model_fastercnn = fasterrcnn_resnet50_fpn(weights=FasterRCNN_ResNet50_FPN_Weights.DEFAULT)\n",
    "\n",
    "# Replace the classifier with a new one for binary classification (background + pedestrian)\n",
    "num_classes = 2  # 1 class (pedestrian) + background\n",
    "# Get the number of input features for the classifier\n",
    "in_features = model_fastercnn.roi_heads.box_predictor.cls_score.in_features\n",
    "# Replace the pre-trained head with a new one (note: this automatically changes the anchor generator to match the backbone)\n",
    "model_fastercnn.roi_heads.box_predictor = FastRCNNPredictor(in_features, num_classes)\n",
    "\n",
    "device = torch.device(\"cuda:0\" if torch.cuda.is_available() else \"cpu\")\n",
    "print(device)\n",
    "model_fastercnn = model_fastercnn.to(device)"
   ]
  },
  {
   "cell_type": "markdown",
   "metadata": {},
   "source": [
    "## Create our Dataset and Dataloader objects for object detection"
   ]
  },
  {
   "cell_type": "code",
   "execution_count": 8,
   "metadata": {},
   "outputs": [
    {
     "name": "stdout",
     "output_type": "stream",
     "text": [
      "total number of training batches to anticipate:  331.2 Dataset total length:  3312\n",
      "total number of validation batches to anticipate:  621.9 Dataset total length:  6219\n",
      "dict_keys(['host-a004_cam0_1232817652451064006.jpeg', 'host-a004_cam3_1232817653800897006.jpeg', 'host-a004_cam1_1232825405634300006.jpeg', 'host-a004_cam3_1232817653600897006.jpeg', 'host-a004_cam2_1232825406817652006.jpeg', 'host-a004_cam1_1232825406034300006.jpeg', 'host-a004_cam2_1232825406417652006.jpeg', 'host-a004_cam1_1232825405834300006.jpeg', 'host-a004_cam2_1232825406617652006.jpeg', 'host-a004_cam1_1232825405434300006.jpeg', 'host-a004_cam1_1232817652634300006.jpeg', 'host-a004_cam0_1232817652251064006.jpeg', 'host-a011_cam2_1233087928217605006.jpeg', 'host-a011_cam2_1233087928017605006.jpeg', 'host-a011_cam1_1233087927834517006.jpeg', 'host-a011_cam1_1233087927434517006.jpeg', 'host-a011_cam1_1233087927634517006.jpeg', 'host-a102_cam2_1241468929483330006.jpeg', 'host-a101_cam1_1241886992566660006.jpeg', 'host-a009_cam2_1236014660417752006.jpeg', 'host-a004_cam1_1232815266434300006.jpeg', 'host-a009_cam1_1236014659034319006.jpeg', 'host-a008_cam4_1235777226184403006.jpeg', 'host-a004_cam1_1232815266034300006.jpeg', 'host-a011_cam1_1232839940434517006.jpeg', 'host-a009_cam2_1236014660217752006.jpeg', 'host-a011_cam2_1232839943017605006.jpeg', 'host-a009_cam1_1236014651834319006.jpeg', 'host-a011_cam2_1233964385917605006.jpeg', 'host-a004_cam6_1232815262850948006.jpeg', 'host-a101_cam1_1241886992766660006.jpeg', 'host-a009_cam1_1236014659434319006.jpeg', 'host-a008_cam2_1235776307117906006.jpeg', 'host-a102_cam3_1241468930300000006.jpeg', 'host-a009_cam4_1236014673084403006.jpeg', 'host-a008_cam2_1235776307917906006.jpeg', 'host-a009_cam2_1236014660617752006.jpeg', 'host-a008_cam4_1235777225984403006.jpeg', 'host-a009_cam1_1236014652234319006.jpeg', 'host-a008_cam1_1235776304134433006.jpeg', 'host-a009_cam1_1236014653834319006.jpeg', 'host-a009_cam1_1236014657034319006.jpeg', 'host-a009_cam1_1236014652034319006.jpeg', 'host-a008_cam1_1235776296534433006.jpeg', 'host-a009_cam1_1236014650434319006.jpeg', 'host-a008_cam2_1235776306917906006.jpeg', 'host-a006_cam1_1236037887834412006.jpeg', 'host-a101_cam1_1241472411966660006.jpeg', 'host-a101_cam2_1241886993183330006.jpeg', 'host-a009_cam1_1236014650834319006.jpeg', 'host-a009_cam1_1236014653634319006.jpeg', 'host-a102_cam3_1241468929600000006.jpeg', 'host-a102_cam2_1241468929683330006.jpeg', 'host-a011_cam1_1233964383934517006.jpeg', 'host-a101_cam1_1241886992166660006.jpeg', 'host-a009_cam2_1236014660817752006.jpeg', 'host-a004_cam2_1232815267817652006.jpeg', 'host-a008_cam1_1235776303934433006.jpeg', 'host-a009_cam1_1236014653434319006.jpeg', 'host-a008_cam2_1235776305917906006.jpeg', 'host-a102_cam2_1241468928483330006.jpeg', 'host-a011_cam2_1232485959117605006.jpeg', 'host-a102_cam0_1241468927050000006.jpeg', 'host-a011_cam3_1232839943600995006.jpeg', 'host-a008_cam2_1235776306717906006.jpeg', 'host-a101_cam1_1241886991566660006.jpeg', 'host-a101_cam0_1241886991550000006.jpeg', 'host-a009_cam1_1236014649434319006.jpeg', 'host-a011_cam2_1232839941817605006.jpeg', 'host-a011_cam1_1232839941834517006.jpeg', 'host-a004_cam6_1233011767250948006.jpeg', 'host-a008_cam4_1235777232384403006.jpeg', 'host-a101_cam1_1241472411566660006.jpeg', 'host-a009_cam1_1236014651434319006.jpeg', 'host-a011_cam1_1233964384134517006.jpeg', 'host-a008_cam4_1235777225784403006.jpeg', 'host-a009_cam1_1236014659634319006.jpeg', 'host-a008_cam2_1235776308717906006.jpeg', 'host-a009_cam1_1236014648634319006.jpeg', 'host-a009_cam2_1236014661017752006.jpeg', 'host-a009_cam1_1236014654034319006.jpeg', 'host-a011_cam2_1232839943217605006.jpeg', 'host-a102_cam1_1241468927466660006.jpeg', 'host-a011_cam2_1232485959317605006.jpeg', 'host-a009_cam1_1236014650634319006.jpeg', 'host-a008_cam4_1235777231984403006.jpeg', 'host-a101_cam1_1241472411766660006.jpeg', 'host-a011_cam2_1233964385717605006.jpeg', 'host-a006_cam1_1236037888034412006.jpeg', 'host-a101_cam2_1241886993583330006.jpeg', 'host-a008_cam6_1235776303551058006.jpeg', 'host-a009_cam2_1236014661617752006.jpeg', 'host-a011_cam1_1232839940634517006.jpeg', 'host-a008_cam4_1235777231384403006.jpeg', 'host-a011_cam2_1232485958917605006.jpeg', 'host-a009_cam2_1236014660017752006.jpeg', 'host-a006_cam0_1236038154050935006.jpeg', 'host-a011_cam2_1232839943417605006.jpeg', 'host-a011_cam3_1232839943400995006.jpeg', 'host-a009_cam1_1236014658634319006.jpeg', 'host-a008_cam1_1235776296734433006.jpeg', 'host-a101_cam6_1241889720250000006.jpeg', 'host-a102_cam2_1241468929283330006.jpeg', 'host-a011_cam2_1232839942217605006.jpeg', 'host-a008_cam2_1235776308317906006.jpeg', 'host-a008_cam4_1235777231784403006.jpeg', 'host-a008_cam2_1235776307717906006.jpeg', 'host-a101_cam1_1241472412366660006.jpeg', 'host-a009_cam1_1236014658034319006.jpeg', 'host-a011_cam1_1232839941434517006.jpeg', 'host-a011_cam2_1232839941417605006.jpeg', 'host-a008_cam5_1235777229967733006.jpeg', 'host-a009_cam1_1236014657834319006.jpeg', 'host-a008_cam4_1235777232184403006.jpeg', 'host-a102_cam1_1241468927666660006.jpeg', 'host-a011_cam1_1232839941234517006.jpeg', 'host-a006_cam0_1236038142250935006.jpeg', 'host-a009_cam1_1236014658234319006.jpeg', 'host-a004_cam2_1233616001117652006.jpeg', 'host-a004_cam2_1233616001317652006.jpeg', 'host-a004_cam3_1232815268200897006.jpeg', 'host-a008_cam2_1235776307517906006.jpeg', 'host-a011_cam0_1232839940051142006.jpeg', 'host-a009_cam1_1236014653034319006.jpeg', 'host-a011_cam2_1232839942617605006.jpeg', 'host-a004_cam2_1232815267417652006.jpeg', 'host-a101_cam2_1241472412183330006.jpeg', 'host-a101_cam1_1241472412166660006.jpeg', 'host-a011_cam1_1233964384334517006.jpeg', 'host-a008_cam5_1235777229767733006.jpeg', 'host-a009_cam1_1236014649634319006.jpeg', 'host-a009_cam1_1236014651034319006.jpeg', 'host-a004_cam1_1233616000134300006.jpeg', 'host-a101_cam2_1241886992983330006.jpeg', 'host-a101_cam1_1241886992966660006.jpeg', 'host-a004_cam6_1232815262450948006.jpeg', 'host-a011_cam0_1232839940251142006.jpeg', 'host-a009_cam1_1236014651634319006.jpeg', 'host-a009_cam1_1236014650234319006.jpeg', 'host-a101_cam1_1241886992366660006.jpeg', 'host-a009_cam2_1236014661217752006.jpeg', 'host-a101_cam1_1241472411366660006.jpeg', 'host-a008_cam2_1235776308917906006.jpeg', 'host-a009_cam1_1236014657434319006.jpeg', 'host-a102_cam1_1241468928266660006.jpeg', 'host-a006_cam0_1236038154250935006.jpeg', 'host-a009_cam1_1236014651234319006.jpeg', 'host-a011_cam1_1232839940834517006.jpeg', 'host-a008_cam1_1235776295934433006.jpeg', 'host-a011_cam2_1232839942817605006.jpeg', 'host-a009_cam1_1236014649234319006.jpeg', 'host-a008_cam2_1235776307317906006.jpeg', 'host-a008_cam4_1235777231584403006.jpeg', 'host-a006_cam1_1236037887634412006.jpeg', 'host-a009_cam1_1236014649834319006.jpeg', 'host-a009_cam1_1236014658434319006.jpeg', 'host-a004_cam1_1233615999934300006.jpeg', 'host-a102_cam1_1241468927866660006.jpeg', 'host-a008_cam1_1235776303734433006.jpeg', 'host-a009_cam2_1236013308217752006.jpeg', 'host-a102_cam2_1241468928683330006.jpeg', 'host-a008_cam1_1235776296334433006.jpeg', 'host-a011_cam2_1232839942017605006.jpeg', 'host-a011_cam1_1232839942034517006.jpeg', 'host-a004_cam1_1233615999734300006.jpeg', 'host-a009_cam1_1236014652634319006.jpeg', 'host-a008_cam5_1235777229567733006.jpeg', 'host-a011_cam1_1232839941034517006.jpeg', 'host-a101_cam1_1241886991766660006.jpeg', 'host-a004_cam6_1232815262650948006.jpeg', 'host-a102_cam2_1241468929083330006.jpeg', 'host-a009_cam1_1236014649034319006.jpeg', 'host-a008_cam2_1235776309017906006.jpeg', 'host-a006_cam0_1236038142450935006.jpeg', 'host-a008_cam5_1235777230167733006.jpeg', 'host-a008_cam2_1235776308517906006.jpeg', 'host-a009_cam2_1236014661817752006.jpeg', 'host-a004_cam2_1232815267617652006.jpeg', 'host-a004_cam1_1233615999334300006.jpeg', 'host-a011_cam2_1233964385117605006.jpeg', 'host-a009_cam1_1236013307234319006.jpeg', 'host-a009_cam1_1236014650034319006.jpeg', 'host-a006_cam0_1236038154450935006.jpeg', 'host-a008_cam0_1235776299751171006.jpeg', 'host-a006_cam1_1236038155434412006.jpeg', 'host-a008_cam1_1235776296134433006.jpeg', 'host-a101_cam6_1241889719850000006.jpeg', 'host-a008_cam4_1235777232784403006.jpeg', 'host-a008_cam2_1235776306517906006.jpeg', 'host-a011_cam1_1233964384534517006.jpeg', 'host-a009_cam1_1236014652834319006.jpeg', 'host-a009_cam1_1236014648834319006.jpeg', 'host-a004_cam2_1233616001717652006.jpeg', 'host-a009_cam2_1236013308417752006.jpeg', 'host-a008_cam6_1235776303351058006.jpeg', 'host-a011_cam2_1232485958717605006.jpeg', 'host-a102_cam1_1241468928066660006.jpeg', 'host-a009_cam2_1236014661417752006.jpeg', 'host-a011_cam2_1232839941617605006.jpeg', 'host-a011_cam1_1232839941634517006.jpeg', 'host-a009_cam1_1236014653234319006.jpeg', 'host-a009_cam1_1236014652434319006.jpeg', 'host-a004_cam3_1232815268000897006.jpeg', 'host-a008_cam2_1235776306317906006.jpeg', 'host-a101_cam2_1241886993783330006.jpeg', 'host-a011_cam2_1233964385317605006.jpeg', 'host-a011_cam3_1232839942400995006.jpeg', 'host-a011_cam2_1232839942417605006.jpeg', 'host-a009_cam1_1236014659834319006.jpeg', 'host-a009_cam1_1236014658834319006.jpeg', 'host-a008_cam4_1235777232584403006.jpeg', 'host-a009_cam1_1236014648434319006.jpeg', 'host-a011_cam2_1233964385517605006.jpeg', 'host-a004_cam2_1233616001517652006.jpeg', 'host-a008_cam4_1235777226584403006.jpeg', 'host-a008_cam2_1235776308117906006.jpeg', 'host-a101_cam1_1241886991966660006.jpeg', 'host-a008_cam1_1235776296934433006.jpeg', 'host-a009_cam1_1236014657234319006.jpeg', 'host-a004_cam1_1232815266234300006.jpeg', 'host-a004_cam2_1232815267217652006.jpeg', 'host-a009_cam1_1236014657634319006.jpeg', 'host-a008_cam2_1235776306117906006.jpeg', 'host-a004_cam2_1232815267017652006.jpeg', 'host-a101_cam0_1241886991350000006.jpeg', 'host-a009_cam1_1236014648234319006.jpeg', 'host-a009_cam1_1236014659234319006.jpeg', 'host-a102_cam0_1241468927250000006.jpeg', 'host-a102_cam1_1241468927266660006.jpeg', 'host-a004_cam1_1233615999534300006.jpeg', 'host-a011_cam2_1233964386117605006.jpeg', 'host-a009_cam2_1236014662017752006.jpeg', 'host-a008_cam4_1235777226384403006.jpeg', 'host-a008_cam0_1235776299551171006.jpeg', 'host-a004_cam1_1232815265834300006.jpeg', 'host-a004_cam6_1232815262250948006.jpeg', 'host-a101_cam6_1241889720850000006.jpeg', 'host-a101_cam6_1240875146050000006.jpeg', 'host-a011_cam1_1232909946334517006.jpeg', 'host-a101_cam6_1240875146850000006.jpeg', 'host-a011_cam3_1233512851000995006.jpeg', 'host-a101_cam6_1240875147250000006.jpeg', 'host-a004_cam1_1232905200334300006.jpeg', 'host-a101_cam2_1242748991582545006.jpeg', 'host-a004_cam2_1232842380217652006.jpeg', 'host-a004_cam2_1232842381017652006.jpeg', 'host-a011_cam2_1233524888817605006.jpeg', 'host-a101_cam2_1242749002982945006.jpeg', 'host-a101_cam6_1240875147050000006.jpeg', 'host-a007_cam1_1233079633434286006.jpeg', 'host-a101_cam6_1240875141250000006.jpeg', 'host-a101_cam2_1242748995582545006.jpeg', 'host-a011_cam5_1232752550467719006.jpeg', 'host-a004_cam1_1235947081334300006.jpeg', 'host-a011_cam1_1233524888234517006.jpeg', 'host-a101_cam3_1242748818699215006.jpeg', 'host-a101_cam2_1242748990982545006.jpeg', 'host-a101_cam0_1240875150850000006.jpeg', 'host-a101_cam6_1240875139850000006.jpeg', 'host-a101_cam6_1240875145050000006.jpeg', 'host-a101_cam2_1242748994782545006.jpeg', 'host-a007_cam1_1233079632834286006.jpeg', 'host-a101_cam2_1242748991982545006.jpeg', 'host-a101_cam2_1242748989382545006.jpeg', 'host-a101_cam6_1240875139250000006.jpeg', 'host-a011_cam0_1233524887451142006.jpeg', 'host-a101_cam2_1242748993982545006.jpeg', 'host-a101_cam3_1240875156500000006.jpeg', 'host-a101_cam3_1242748819099230006.jpeg', 'host-a101_cam2_1242748992782545006.jpeg', 'host-a101_cam2_1242748994982545006.jpeg', 'host-a004_cam1_1232905200934300006.jpeg', 'host-a101_cam6_1240875144850000006.jpeg', 'host-a101_cam2_1242749002382945006.jpeg', 'host-a101_cam6_1240875140450000006.jpeg', 'host-a101_cam6_1240875138450000006.jpeg', 'host-a004_cam2_1232842380417652006.jpeg', 'host-a004_cam1_1232842379434300006.jpeg', 'host-a101_cam6_1240875138050000006.jpeg', 'host-a011_cam2_1233688947117605006.jpeg', 'host-a101_cam2_1242748993182545006.jpeg', 'host-a101_cam0_1242748998549571006.jpeg', 'host-a101_cam2_1242748998582738006.jpeg', 'host-a101_cam2_1242748991782545006.jpeg', 'host-a004_cam2_1232905202317652006.jpeg', 'host-a011_cam1_1233087926834517006.jpeg', 'host-a011_cam1_1233087927034517006.jpeg', 'host-a101_cam2_1242748996582590006.jpeg', 'host-a007_cam1_1233524862434286006.jpeg', 'host-a007_cam2_1233079634817643006.jpeg', 'host-a011_cam1_1233524888434517006.jpeg', 'host-a101_cam2_1242749002782945006.jpeg', 'host-a101_cam3_1242749000599467006.jpeg', 'host-a101_cam2_1242748989582545006.jpeg', 'host-a101_cam1_1242749000966260006.jpeg', 'host-a011_cam3_1233524890000995006.jpeg', 'host-a101_cam0_1242748999149541006.jpeg', 'host-a101_cam2_1242748999182812006.jpeg', 'host-a101_cam3_1242748999099467006.jpeg', 'host-a101_cam2_1242748988982545006.jpeg', 'host-a101_cam2_1242748988782545006.jpeg', 'host-a101_cam0_1242748999949452006.jpeg', 'host-a101_cam3_1242748999999467006.jpeg', 'host-a101_cam6_1240875136450000006.jpeg', 'host-a101_cam2_1242749003182945006.jpeg', 'host-a101_cam3_1242749003199615006.jpeg', 'host-a011_cam2_1233512850217605006.jpeg', 'host-a101_cam6_1240875141450000006.jpeg', 'host-a101_cam2_1242748989782545006.jpeg', 'host-a101_cam6_1240875140650000006.jpeg', 'host-a011_cam1_1233524888034517006.jpeg', 'host-a011_cam3_1236123641900995006.jpeg', 'host-a101_cam2_1242748992982545006.jpeg', 'host-a011_cam5_1232752550067719006.jpeg', 'host-a101_cam2_1242748992382545006.jpeg', 'host-a011_cam6_1232745790451145006.jpeg', 'host-a101_cam2_1242748992182545006.jpeg', 'host-a101_cam6_1240875136650000006.jpeg', 'host-a007_cam1_1233079633234286006.jpeg', 'host-a011_cam5_1232752550867719006.jpeg', 'host-a011_cam1_1233524888634517006.jpeg', 'host-a101_cam6_1240875146650000006.jpeg', 'host-a004_cam0_1232905199951064006.jpeg', 'host-a004_cam1_1232905199934300006.jpeg', 'host-a011_cam0_1232752549451142006.jpeg', 'host-a101_cam3_1242748818899230006.jpeg', 'host-a101_cam6_1240875136850000006.jpeg', 'host-a101_cam6_1240875140850000006.jpeg', 'host-a004_cam1_1232905201134300006.jpeg', 'host-a101_cam6_1240875137250000006.jpeg', 'host-a004_cam1_1232842380034300006.jpeg', 'host-a007_cam1_1233079633634286006.jpeg', 'host-a011_cam0_1232752555451142006.jpeg', 'host-a004_cam2_1232905201717652006.jpeg', 'host-a101_cam2_1242748996782590006.jpeg', 'host-a101_cam6_1240875139450000006.jpeg', 'host-a101_cam6_1240875145450000006.jpeg', 'host-a101_cam2_1242749002582945006.jpeg', 'host-a011_cam1_1236119841934517006.jpeg', 'host-a011_cam1_1233512849434517006.jpeg', 'host-a011_cam6_1232745790651145006.jpeg', 'host-a101_cam0_1242748999349526006.jpeg', 'host-a101_cam3_1242748999399467006.jpeg', 'host-a007_cam1_1233079634034286006.jpeg', 'host-a101_cam3_1242749003399615006.jpeg', 'host-a101_cam2_1242748993782545006.jpeg', 'host-a007_cam1_1233524863234286006.jpeg', 'host-a011_cam2_1232909947917605006.jpeg', 'host-a011_cam2_1233087927817605006.jpeg', 'host-a011_cam5_1232752549867719006.jpeg', 'host-a011_cam2_1232909947717605006.jpeg', 'host-a004_cam1_1232905201334300006.jpeg', 'host-a004_cam2_1232905201317652006.jpeg', 'host-a101_cam6_1240875138250000006.jpeg', 'host-a007_cam1_1233079633834286006.jpeg', 'host-a101_cam6_1240875140050000006.jpeg', 'host-a101_cam2_1242748991382545006.jpeg', 'host-a101_cam1_1242749001966142006.jpeg', 'host-a101_cam0_1242748999549497006.jpeg', 'host-a101_cam3_1242748999599467006.jpeg', 'host-a101_cam2_1242748998182693006.jpeg', 'host-a101_cam2_1242748992582545006.jpeg', 'host-a011_cam2_1233524889417605006.jpeg', 'host-a101_cam3_1242749004199630006.jpeg', 'host-a101_cam2_1242748997982693006.jpeg', 'host-a004_cam2_1232842380817652006.jpeg', 'host-a101_cam2_1242748990382545006.jpeg', 'host-a101_cam0_1242748998749571006.jpeg', 'host-a101_cam2_1242748998782753006.jpeg', 'host-a004_cam2_1232905202517652006.jpeg', 'host-a101_cam6_1240875137450000006.jpeg', 'host-a101_cam0_1242748998949571006.jpeg', 'host-a101_cam2_1242748998982782006.jpeg', 'host-a011_cam2_1233524889017605006.jpeg', 'host-a004_cam3_1232905203300897006.jpeg', 'host-a011_cam2_1233087928417605006.jpeg', 'host-a101_cam3_1242749000799467006.jpeg', 'host-a011_cam6_1232745791051145006.jpeg', 'host-a011_cam2_1233524889217605006.jpeg', 'host-a101_cam2_1242749002182930006.jpeg', 'host-a101_cam2_1242748997182605006.jpeg', 'host-a004_cam1_1232905199734300006.jpeg', 'host-a004_cam0_1232905199751064006.jpeg', 'host-a101_cam6_1240875146450000006.jpeg', 'host-a101_cam2_1242748997782664006.jpeg', 'host-a101_cam6_1240875146250000006.jpeg', 'host-a007_cam2_1233079635417643006.jpeg', 'host-a004_cam1_1235947081734300006.jpeg', 'host-a011_cam2_1232909948117605006.jpeg', 'host-a101_cam6_1240875137050000006.jpeg', 'host-a011_cam0_1233524887651142006.jpeg', 'host-a101_cam1_1242749000166275006.jpeg', 'host-a101_cam0_1242749000149438006.jpeg', 'host-a101_cam3_1242749000199467006.jpeg', 'host-a101_cam6_1240875139050000006.jpeg', 'host-a101_cam6_1240875145850000006.jpeg', 'host-a007_cam1_1233524862834286006.jpeg', 'host-a007_cam2_1233079635017643006.jpeg', 'host-a101_cam2_1242748997382619006.jpeg', 'host-a101_cam6_1240875147450000006.jpeg', 'host-a101_cam6_1240875145650000006.jpeg', 'host-a101_cam1_1242749001566231006.jpeg', 'host-a004_cam1_1232905200534300006.jpeg', 'host-a101_cam2_1242748989982545006.jpeg', 'host-a011_cam3_1236123642100995006.jpeg', 'host-a004_cam3_1232923278600897006.jpeg', 'host-a101_cam6_1240875138650000006.jpeg', 'host-a101_cam1_1242749001766186006.jpeg', 'host-a101_cam2_1242748995382545006.jpeg', 'host-a101_cam3_1242749000399467006.jpeg', 'host-a007_cam2_1233524863617643006.jpeg', 'host-a101_cam3_1242749003699630006.jpeg', 'host-a101_cam3_1240875156300000006.jpeg', 'host-a011_cam2_1233087929017605006.jpeg', 'host-a101_cam2_1242748996982605006.jpeg', 'host-a101_cam3_1242749003599630006.jpeg', 'host-a011_cam3_1233524889800995006.jpeg', 'host-a101_cam2_1242748995182545006.jpeg', 'host-a004_cam1_1232905200134300006.jpeg', 'host-a004_cam0_1232905200151064006.jpeg', 'host-a101_cam3_1242749004399615006.jpeg', 'host-a101_cam1_1242748994366335006.jpeg', 'host-a101_cam2_1242748998382708006.jpeg', 'host-a011_cam3_1233524889600995006.jpeg', 'host-a004_cam1_1232842379634300006.jpeg', 'host-a101_cam2_1242748996382575006.jpeg', 'host-a011_cam5_1232752550267719006.jpeg', 'host-a101_cam6_1240875141650000006.jpeg', 'host-a011_cam2_1233087928617605006.jpeg', 'host-a101_cam6_1240875141850000006.jpeg', 'host-a007_cam2_1233079635217643006.jpeg', 'host-a101_cam2_1242748993582545006.jpeg', 'host-a007_cam2_1233524863817643006.jpeg', 'host-a101_cam6_1240875139650000006.jpeg', 'host-a004_cam2_1232905202117652006.jpeg', 'host-a101_cam6_1240875137850000006.jpeg', 'host-a101_cam3_1240875155800000006.jpeg', 'host-a011_cam1_1233087927234517006.jpeg', 'host-a004_cam2_1232905202717652006.jpeg', 'host-a101_cam3_1242749003999630006.jpeg', 'host-a101_cam2_1242748990582545006.jpeg', 'host-a101_cam2_1242748989182545006.jpeg', 'host-a011_cam5_1232752550667719006.jpeg', 'host-a101_cam3_1242749004599586006.jpeg', 'host-a101_cam6_1240875142050000006.jpeg', 'host-a004_cam1_1235947081534300006.jpeg', 'host-a011_cam0_1233524887851142006.jpeg', 'host-a004_cam0_1232905199551064006.jpeg', 'host-a007_cam1_1233524862634286006.jpeg', 'host-a004_cam2_1232842380617652006.jpeg', 'host-a101_cam6_1240875145250000006.jpeg', 'host-a101_cam2_1242748993382545006.jpeg', 'host-a101_cam6_1240875136250000006.jpeg', 'host-a101_cam3_1240875156100000006.jpeg', 'host-a011_cam5_1232752551067719006.jpeg', 'host-a004_cam3_1232923278800897006.jpeg', 'host-a007_cam2_1233079634617643006.jpeg', 'host-a101_cam2_1242748990782545006.jpeg', 'host-a101_cam2_1242748997582634006.jpeg', 'host-a011_cam2_1233087928817605006.jpeg', 'host-a101_cam6_1240875140250000006.jpeg', 'host-a101_cam2_1242748991182545006.jpeg', 'host-a004_cam1_1232905200734300006.jpeg', 'host-a101_cam6_1240875141050000006.jpeg', 'host-a007_cam1_1233079633034286006.jpeg', 'host-a101_cam1_1242749001366246006.jpeg', 'host-a011_cam2_1233688947317605006.jpeg', 'host-a101_cam0_1242748999749482006.jpeg', 'host-a101_cam3_1242748999799467006.jpeg', 'host-a004_cam2_1232905201917652006.jpeg', 'host-a101_cam3_1242748819299245006.jpeg', 'host-a101_cam2_1242748990182545006.jpeg', 'host-a101_cam1_1242749001166246006.jpeg', 'host-a007_cam1_1233524863034286006.jpeg', 'host-a101_cam6_1240875138850000006.jpeg', 'host-a004_cam1_1232842379834300006.jpeg', 'host-a009_cam5_1236015630567552006.jpeg', 'host-a011_cam0_1233964304551142006.jpeg', 'host-a102_cam0_1241878225250000006.jpeg', 'host-a102_cam6_1241878220650000006.jpeg', 'host-a009_cam6_1236015620551075006.jpeg', 'host-a102_cam0_1241878224650000006.jpeg', 'host-a102_cam3_1241878203300000006.jpeg', 'host-a008_cam6_1235776286951058006.jpeg', 'host-a009_cam6_1236015620151075006.jpeg', 'host-a102_cam3_1241878203100000006.jpeg', 'host-a102_cam6_1241878221050000006.jpeg', 'host-a008_cam6_1235776286151058006.jpeg', 'host-a011_cam3_1232755946600995006.jpeg', 'host-a011_cam3_1232755946400995006.jpeg', 'host-a004_cam0_1233011750851064006.jpeg', 'host-a004_cam6_1233963859850948006.jpeg', 'host-a011_cam6_1232841341051145006.jpeg', 'host-a009_cam0_1236015626751162006.jpeg', 'host-a011_cam6_1234553374151145006.jpeg', 'host-a102_cam3_1241878201900000006.jpeg', 'host-a102_cam3_1241878202300000006.jpeg', 'host-a011_cam6_1232841340651145006.jpeg', 'host-a008_cam6_1235776284551058006.jpeg', 'host-a004_cam0_1233535972551064006.jpeg', 'host-a102_cam3_1241878202100000006.jpeg', 'host-a011_cam0_1233964304351142006.jpeg', 'host-a008_cam6_1235776286751058006.jpeg', 'host-a004_cam6_1233963860450948006.jpeg', 'host-a011_cam6_1232841340451145006.jpeg', 'host-a102_cam3_1241878202700000006.jpeg', 'host-a102_cam3_1241878202500000006.jpeg', 'host-a004_cam3_1233422559200897006.jpeg', 'host-a004_cam0_1233011751251064006.jpeg', 'host-a004_cam0_1233011751051064006.jpeg', 'host-a009_cam6_1236015620351075006.jpeg', 'host-a011_cam6_1234553374351145006.jpeg', 'host-a102_cam0_1241878224850000006.jpeg', 'host-a004_cam0_1233615998551064006.jpeg', 'host-a011_cam6_1232841341251145006.jpeg', 'host-a011_cam6_1234553374751145006.jpeg', 'host-a009_cam5_1236015630967552006.jpeg', 'host-a011_cam6_1232841340251145006.jpeg', 'host-a102_cam0_1241878225050000006.jpeg', 'host-a008_cam6_1235776286351058006.jpeg', 'host-a102_cam6_1241878220050000006.jpeg', 'host-a008_cam6_1235776285751058006.jpeg', 'host-a009_cam5_1236015630767552006.jpeg', 'host-a008_cam6_1235776284951058006.jpeg', 'host-a004_cam3_1233422559400897006.jpeg', 'host-a009_cam5_1236015631067552006.jpeg', 'host-a011_cam6_1234553374551145006.jpeg', 'host-a102_cam6_1241878220850000006.jpeg', 'host-a004_cam0_1233535972351064006.jpeg', 'host-a008_cam6_1235776284751058006.jpeg', 'host-a011_cam6_1232841340851145006.jpeg', 'host-a102_cam3_1241878202900000006.jpeg', 'host-a004_cam3_1233947110300897006.jpeg', 'host-a004_cam0_1233535972151064006.jpeg', 'host-a008_cam6_1235776284151058006.jpeg', 'host-a011_cam3_1232755946200995006.jpeg', 'host-a011_cam0_1233964304151142006.jpeg', 'host-a102_cam6_1241878220250000006.jpeg', 'host-a011_cam6_1232841341851145006.jpeg', 'host-a009_cam6_1236015619951075006.jpeg', 'host-a102_cam6_1241878220450000006.jpeg', 'host-a102_cam0_1241878225350000006.jpeg', 'host-a008_cam6_1235776285551058006.jpeg', 'host-a008_cam6_1235776285151058006.jpeg', 'host-a009_cam0_1236015626951162006.jpeg', 'host-a101_cam1_1242144907466660006.jpeg', 'host-a101_cam1_1242144908066660006.jpeg', 'host-a101_cam0_1242144908050000006.jpeg', 'host-a101_cam1_1240875151466660006.jpeg', 'host-a101_cam0_1242144908250000006.jpeg', 'host-a101_cam1_1242144908266660006.jpeg', 'host-a004_cam0_1233685322751064006.jpeg', 'host-a007_cam0_1233529730350897006.jpeg', 'host-a017_cam3_1236119813200918006.jpeg', 'host-a101_cam1_1242144908466660006.jpeg', 'host-a101_cam0_1242144908450000006.jpeg', 'host-a011_cam3_1233090578000995006.jpeg', 'host-a101_cam1_1240875150866660006.jpeg', 'host-a004_cam0_1233685322551064006.jpeg', 'host-a011_cam3_1233090577600995006.jpeg', 'host-a101_cam1_1240875152666660006.jpeg', 'host-a004_cam3_1233014864800897006.jpeg', 'host-a101_cam1_1240875153066660006.jpeg', 'host-a011_cam6_1233512841251145006.jpeg', 'host-a011_cam3_1233090577400995006.jpeg', 'host-a004_cam6_1233685320550948006.jpeg', 'host-a101_cam2_1240875155683330006.jpeg', 'host-a004_cam3_1232842381200897006.jpeg', 'host-a004_cam3_1233014865000897006.jpeg', 'host-a101_cam1_1242144908866660006.jpeg', 'host-a101_cam1_1242144908666660006.jpeg', 'host-a017_cam6_1236119797850938006.jpeg', 'host-a101_cam1_1240875153866660006.jpeg', 'host-a101_cam1_1240875152866660006.jpeg', 'host-a004_cam3_1233014855200897006.jpeg', 'host-a004_cam0_1233685319151064006.jpeg', 'host-a011_cam3_1233090577800995006.jpeg', 'host-a007_cam3_1231093061099360006.jpeg', 'host-a101_cam1_1240875154866660006.jpeg', 'host-a101_cam1_1242144909266660006.jpeg', 'host-a007_cam0_1233529730750897006.jpeg', 'host-a004_cam6_1233685320750948006.jpeg', 'host-a007_cam0_1233529730150897006.jpeg', 'host-a017_cam6_1236119798050938006.jpeg', 'host-a101_cam1_1242144909466660006.jpeg', 'host-a101_cam2_1240875156283330006.jpeg', 'host-a011_cam6_1233512840251145006.jpeg', 'host-a011_cam3_1233090577200995006.jpeg', 'host-a004_cam0_1233685318951064006.jpeg', 'host-a011_cam3_1233965312300995006.jpeg', 'host-a017_cam3_1236119812800918006.jpeg', 'host-a007_cam3_1231093060999360006.jpeg', 'host-a007_cam6_1233529726550905006.jpeg', 'host-a101_cam1_1240875154266660006.jpeg', 'host-a101_cam1_1240875153466660006.jpeg', 'host-a007_cam3_1231093050999360006.jpeg', 'host-a101_cam1_1240875151066660006.jpeg', 'host-a007_cam0_1233529729950897006.jpeg', 'host-a007_cam3_1231093050599360006.jpeg', 'host-a017_cam6_1236119798250938006.jpeg', 'host-a101_cam1_1240875151866660006.jpeg', 'host-a017_cam3_1236119813000918006.jpeg', 'host-a101_cam1_1242144907866660006.jpeg', 'host-a101_cam0_1242144907850000006.jpeg', 'host-a101_cam1_1240875153666660006.jpeg', 'host-a004_cam0_1233685318751064006.jpeg', 'host-a004_cam3_1233014864600897006.jpeg', 'host-a101_cam1_1240875154466660006.jpeg', 'host-a101_cam1_1240875152066660006.jpeg', 'host-a007_cam6_1233529726350905006.jpeg', 'host-a101_cam1_1240875152466660006.jpeg', 'host-a101_cam1_1240875151666660006.jpeg', 'host-a101_cam1_1242144907666660006.jpeg', 'host-a101_cam0_1242144907650000006.jpeg', 'host-a017_cam3_1236119812600918006.jpeg', 'host-a101_cam1_1240875152266660006.jpeg', 'host-a004_cam0_1233685322951064006.jpeg', 'host-a101_cam1_1240875151266660006.jpeg', 'host-a011_cam3_1233090577000995006.jpeg', 'host-a004_cam0_1233685323151064006.jpeg', 'host-a101_cam1_1242144907266660006.jpeg', 'host-a004_cam0_1232905197751064006.jpeg', 'host-a101_cam1_1240875154666660006.jpeg', 'host-a101_cam1_1240875154066660006.jpeg', 'host-a101_cam2_1240875155883330006.jpeg', 'host-a101_cam2_1240875156483330006.jpeg', 'host-a007_cam0_1233529730550897006.jpeg', 'host-a101_cam1_1242144909066660006.jpeg', 'host-a101_cam2_1240875156083330006.jpeg', 'host-a011_cam6_1233512840451145006.jpeg', 'host-a017_cam6_1236119797650938006.jpeg', 'host-a101_cam1_1242144909666660006.jpeg', 'host-a017_cam3_1236119813400918006.jpeg', 'host-a007_cam3_1231093050399360006.jpeg', 'host-a101_cam2_1240875156683330006.jpeg', 'host-a007_cam3_1231093050799360006.jpeg', 'host-a004_cam3_1233014865200897006.jpeg', 'host-a101_cam1_1240875153266660006.jpeg', 'host-a101_cam0_1240877595450000006.jpeg', 'host-a101_cam0_1240877590650000006.jpeg', 'host-a101_cam5_1240877590633330006.jpeg', 'host-a101_cam4_1240877605816660006.jpeg', 'host-a101_cam5_1240877601233330006.jpeg', 'host-a101_cam0_1240877588250000006.jpeg', 'host-a101_cam5_1240877588233330006.jpeg', 'host-a101_cam0_1240877590250000006.jpeg', 'host-a101_cam5_1240877590233330006.jpeg', 'host-a101_cam5_1240877601033330006.jpeg', 'host-a101_cam0_1240877592650000006.jpeg', 'host-a101_cam5_1240877590433330006.jpeg', 'host-a101_cam0_1240877590450000006.jpeg', 'host-a101_cam0_1240877594650000006.jpeg', 'host-a101_cam4_1240877606416660006.jpeg', 'host-a101_cam5_1240877590033330006.jpeg', 'host-a101_cam0_1240877590050000006.jpeg', 'host-a101_cam0_1240877593850000006.jpeg', 'host-a101_cam4_1241889711016660006.jpeg', 'host-a101_cam4_1240877604816660006.jpeg', 'host-a101_cam4_1240877605616660006.jpeg', 'host-a101_cam5_1240877590833330006.jpeg', 'host-a101_cam0_1240877590850000006.jpeg', 'host-a101_cam0_1240877589050000006.jpeg', 'host-a101_cam5_1240877589033330006.jpeg', 'host-a101_cam4_1240877606616660006.jpeg', 'host-a101_cam0_1240877594050000006.jpeg', 'host-a101_cam0_1240877591250000006.jpeg', 'host-a101_cam5_1240877591233330006.jpeg', 'host-a101_cam0_1240877589650000006.jpeg', 'host-a101_cam5_1240877589633330006.jpeg', 'host-a101_cam0_1240877591650000006.jpeg', 'host-a101_cam5_1240877591633330006.jpeg', 'host-a101_cam0_1240877593050000006.jpeg', 'host-a101_cam0_1240877593650000006.jpeg', 'host-a101_cam4_1241889711216660006.jpeg', 'host-a101_cam4_1240877606016660006.jpeg', 'host-a101_cam4_1240877605216660006.jpeg', 'host-a101_cam0_1240877589450000006.jpeg', 'host-a101_cam5_1240877589433330006.jpeg', 'host-a101_cam0_1240877592450000006.jpeg', 'host-a101_cam0_1240877595250000006.jpeg', 'host-a101_cam0_1240877587450000006.jpeg', 'host-a101_cam5_1240877587433330006.jpeg', 'host-a101_cam0_1240877594450000006.jpeg', 'host-a101_cam0_1240877588650000006.jpeg', 'host-a101_cam5_1240877588633330006.jpeg', 'host-a101_cam0_1240877594850000006.jpeg', 'host-a101_cam0_1240877587850000006.jpeg', 'host-a101_cam5_1240877587833330006.jpeg', 'host-a101_cam5_1240877588833330006.jpeg', 'host-a101_cam0_1240877588850000006.jpeg', 'host-a101_cam4_1241889711416660006.jpeg', 'host-a101_cam0_1240877595050000006.jpeg', 'host-a101_cam0_1240877592850000006.jpeg', 'host-a101_cam0_1240877588050000006.jpeg', 'host-a101_cam5_1240877588033330006.jpeg', 'host-a101_cam0_1240877593450000006.jpeg', 'host-a101_cam0_1240877591050000006.jpeg', 'host-a101_cam5_1240877591033330006.jpeg', 'host-a101_cam5_1240877587233330006.jpeg', 'host-a101_cam0_1240877587250000006.jpeg', 'host-a101_cam0_1240877593250000006.jpeg', 'host-a101_cam4_1240877605016660006.jpeg', 'host-a101_cam0_1240877589250000006.jpeg', 'host-a101_cam5_1240877589233330006.jpeg', 'host-a101_cam4_1240877605416660006.jpeg', 'host-a101_cam4_1240877606216660006.jpeg', 'host-a101_cam0_1240877589850000006.jpeg', 'host-a101_cam5_1240877589833330006.jpeg', 'host-a101_cam4_1240877604616660006.jpeg', 'host-a101_cam0_1240877587650000006.jpeg', 'host-a101_cam5_1240877587633330006.jpeg', 'host-a101_cam5_1240877601433330006.jpeg', 'host-a101_cam0_1240877588450000006.jpeg', 'host-a101_cam5_1240877588433330006.jpeg', 'host-a101_cam0_1240877591450000006.jpeg', 'host-a101_cam5_1240877591433330006.jpeg', 'host-a101_cam0_1240877594250000006.jpeg', 'host-a011_cam1_1236122373934517006.jpeg', 'host-a011_cam1_1236122374134517006.jpeg', 'host-a011_cam1_1236122374234517006.jpeg', 'host-a011_cam1_1236122373734517006.jpeg', 'host-a102_cam3_1241468929400000006.jpeg', 'host-a101_cam3_1241893241300000006.jpeg', 'host-a007_cam0_1234551932350897006.jpeg', 'host-a004_cam3_1232817654600897006.jpeg', 'host-a004_cam6_1233422008450948006.jpeg', 'host-a007_cam0_1234551932550897006.jpeg', 'host-a004_cam0_1233961189251064006.jpeg', 'host-a101_cam3_1241893241000000006.jpeg', 'host-a101_cam4_1241893246416660006.jpeg', 'host-a101_cam3_1241893240100000006.jpeg', 'host-a101_cam3_1241886986700000006.jpeg', 'host-a011_cam0_1232817045651142006.jpeg', 'host-a101_cam3_1241886987100000006.jpeg', 'host-a011_cam0_1232841333651142006.jpeg', 'host-a004_cam6_1232817649050948006.jpeg', 'host-a012_cam3_1237329869800913006.jpeg', 'host-a101_cam0_1241886985150000006.jpeg', 'host-a004_cam0_1232825406851064006.jpeg', 'host-a101_cam0_1243102889849349006.jpeg', 'host-a101_cam3_1241893239200000006.jpeg', 'host-a102_cam3_1241468929800000006.jpeg', 'host-a101_cam3_1241893245100000006.jpeg', 'host-a101_cam4_1241893245016660006.jpeg', 'host-a101_cam4_1241893246816660006.jpeg', 'host-a101_cam3_1241893244600000006.jpeg', 'host-a101_cam4_1241893246616660006.jpeg', 'host-a101_cam3_1241893240600000006.jpeg', 'host-a101_cam3_1241886986900000006.jpeg', 'host-a004_cam3_1233961185800897006.jpeg', 'host-a004_cam0_1232825407051064006.jpeg', 'host-a101_cam4_1241893245616660006.jpeg', 'host-a012_cam3_1237329870200913006.jpeg', 'host-a004_cam0_1232825407451064006.jpeg', 'host-a101_cam0_1243102890049363006.jpeg', 'host-a011_cam0_1232817045051142006.jpeg', 'host-a101_cam3_1241893242700000006.jpeg', 'host-a011_cam3_1234553379100995006.jpeg', 'host-a004_cam0_1232817653051064006.jpeg', 'host-a004_cam3_1232817654000897006.jpeg', 'host-a101_cam3_1241893244900000006.jpeg', 'host-a004_cam0_1233961189651064006.jpeg', 'host-a102_cam0_1241468927450000006.jpeg', 'host-a101_cam5_1243095635232693006.jpeg', 'host-a004_cam0_1232817651851064006.jpeg', 'host-a101_cam3_1241893241800000006.jpeg', 'host-a004_cam3_1232817654400897006.jpeg', 'host-a101_cam4_1241893247016660006.jpeg', 'host-a101_cam3_1241893242800000006.jpeg', 'host-a101_cam4_1241893245816660006.jpeg', 'host-a004_cam0_1233961184251064006.jpeg', 'host-a004_cam0_1232817651651064006.jpeg', 'host-a004_cam0_1232825407251064006.jpeg', 'host-a004_cam0_1233961189451064006.jpeg', 'host-a102_cam3_1241468929200000006.jpeg', 'host-a102_cam3_1241468924000000006.jpeg', 'host-a101_cam3_1241893243100000006.jpeg', 'host-a004_cam6_1233963860650948006.jpeg', 'host-a102_cam0_1241468927650000006.jpeg', 'host-a102_cam3_1241468923900000006.jpeg', 'host-a101_cam3_1241893243500000006.jpeg', 'host-a102_cam0_1241468922050000006.jpeg', 'host-a101_cam5_1243095629932679006.jpeg', 'host-a004_cam6_1232817648650948006.jpeg', 'host-a101_cam3_1241893239800000006.jpeg', 'host-a101_cam0_1241886985350000006.jpeg', 'host-a101_cam3_1241886987300000006.jpeg', 'host-a101_cam0_1243102889449349006.jpeg', 'host-a004_cam3_1232817654800897006.jpeg', 'host-a101_cam3_1241893242400000006.jpeg', 'host-a004_cam3_1233961186000897006.jpeg', 'host-a102_cam0_1241468921650000006.jpeg', 'host-a004_cam0_1232817652651064006.jpeg', 'host-a101_cam3_1241893240800000006.jpeg', 'host-a101_cam0_1241886984950000006.jpeg', 'host-a101_cam4_1243095634316127006.jpeg', 'host-a004_cam0_1233961183851064006.jpeg', 'host-a101_cam3_1241893244200000006.jpeg', 'host-a007_cam0_1234551932150897006.jpeg', 'host-a004_cam6_1232817648250948006.jpeg', 'host-a101_cam3_1241893242300000006.jpeg', 'host-a101_cam3_1241893239700000006.jpeg', 'host-a101_cam3_1241893245300000006.jpeg', 'host-a101_cam4_1241893245216660006.jpeg', 'host-a011_cam0_1232841333851142006.jpeg', 'host-a101_cam3_1241893241700000006.jpeg', 'host-a101_cam0_1241886984750000006.jpeg', 'host-a006_cam0_1236037887650935006.jpeg', 'host-a102_cam3_1241468924300000006.jpeg', 'host-a101_cam3_1241886986500000006.jpeg', 'host-a101_cam3_1241893244400000006.jpeg', 'host-a004_cam6_1232817648050948006.jpeg', 'host-a004_cam0_1232817652051064006.jpeg', 'host-a011_cam0_1232817045251142006.jpeg', 'host-a011_cam0_1232841333451142006.jpeg', 'host-a102_cam3_1241468930100000006.jpeg', 'host-a102_cam0_1241468927850000006.jpeg', 'host-a101_cam3_1241893243900000006.jpeg', 'host-a004_cam3_1232817654200897006.jpeg', 'host-a102_cam3_1241468924400000006.jpeg', 'host-a101_cam4_1241893246216660006.jpeg', 'host-a011_cam3_1234553378900995006.jpeg', 'host-a004_cam6_1232817649250948006.jpeg', 'host-a102_cam0_1241468926850000006.jpeg', 'host-a101_cam3_1241893243300000006.jpeg', 'host-a101_cam0_1241886985550000006.jpeg', 'host-a101_cam3_1241893242100000006.jpeg', 'host-a011_cam0_1232841333251142006.jpeg', 'host-a102_cam3_1241468929100000006.jpeg', 'host-a012_cam3_1237329870000913006.jpeg', 'host-a101_cam3_1241893243600000006.jpeg', 'host-a102_cam0_1241468926650000006.jpeg', 'host-a102_cam0_1241468922450000006.jpeg', 'host-a101_cam4_1241893245416660006.jpeg', 'host-a101_cam3_1241893245500000006.jpeg', 'host-a004_cam0_1233014363651064006.jpeg', 'host-a004_cam0_1232825405251064006.jpeg', 'host-a007_cam0_1234551931950897006.jpeg', 'host-a101_cam4_1241893246016660006.jpeg', 'host-a006_cam3_1236037885200777006.jpeg', 'host-a006_cam3_1236037885000777006.jpeg', 'host-a102_cam0_1241468922250000006.jpeg', 'host-a004_cam0_1233961184051064006.jpeg', 'host-a004_cam6_1232817648450948006.jpeg', 'host-a101_cam0_1243102889649349006.jpeg', 'host-a102_cam0_1241468928050000006.jpeg', 'host-a102_cam0_1241468921850000006.jpeg', 'host-a011_cam0_1232817045451142006.jpeg', 'host-a101_cam3_1241893241500000006.jpeg', 'host-a101_cam5_1243095635132708006.jpeg', 'host-a102_cam3_1241468924600000006.jpeg', 'host-a004_cam6_1232817648850948006.jpeg', 'host-a101_cam3_1241893244100000006.jpeg', 'host-a101_cam3_1241893240300000006.jpeg', 'host-a101_cam0_1241886984550000006.jpeg', 'host-a101_cam3_1241893239500000006.jpeg', 'host-a004_cam3_1233961185600897006.jpeg', 'host-a101_cam4_1241893247216660006.jpeg', 'host-a101_cam3_1241893240500000006.jpeg', 'host-a004_cam0_1232817652851064006.jpeg', 'host-a011_cam6_1236119846551145006.jpeg', 'host-a004_cam3_1232905214500897006.jpeg', 'host-a011_cam0_1233688950151142006.jpeg', 'host-a102_cam3_1241548696900000006.jpeg', 'host-a102_cam3_1242754977599260006.jpeg', 'host-a011_cam3_1233688952100995006.jpeg', 'host-a011_cam0_1235866718551142006.jpeg', 'host-a011_cam3_1235950316000995006.jpeg', 'host-a011_cam3_1233522434400995006.jpeg', 'host-a011_cam0_1234639319051142006.jpeg', 'host-a101_cam6_1242753250144000006.jpeg', 'host-a101_cam6_1242753250744000006.jpeg', 'host-a011_cam0_1235866717351142006.jpeg', 'host-a011_cam0_1235866718351142006.jpeg', 'host-a007_cam1_1233524854034286006.jpeg', 'host-a011_cam0_1233688941951142006.jpeg', 'host-a011_cam3_1236104051500995006.jpeg', 'host-a011_cam6_1236122361351145006.jpeg', 'host-a007_cam6_1233079626050905006.jpeg', 'host-a011_cam0_1236122364751142006.jpeg', 'host-a007_cam6_1233079625850905006.jpeg', 'host-a101_cam6_1242753249944000006.jpeg', 'host-a101_cam6_1242753252144000006.jpeg', 'host-a102_cam3_1241548696100000006.jpeg', 'host-a011_cam0_1236122365151142006.jpeg', 'host-a011_cam6_1236119846751145006.jpeg', 'host-a011_cam0_1233688942151142006.jpeg', 'host-a011_cam0_1234639318651142006.jpeg', 'host-a102_cam4_1241548695616660006.jpeg', 'host-a102_cam3_1241548695600000006.jpeg', 'host-a007_cam2_1233524861217643006.jpeg', 'host-a007_cam2_1233524861617643006.jpeg', 'host-a007_cam1_1233524859034286006.jpeg', 'host-a011_cam3_1236104051700995006.jpeg', 'host-a007_cam1_1233524858834286006.jpeg', 'host-a011_cam0_1235866717951142006.jpeg', 'host-a102_cam3_1242754976899289006.jpeg', 'host-a007_cam1_1233524855234286006.jpeg', 'host-a007_cam1_1233524857634286006.jpeg', 'host-a011_cam3_1233081028800995006.jpeg', 'host-a007_cam0_1233524856850897006.jpeg', 'host-a007_cam1_1233524856834286006.jpeg', 'host-a004_cam1_1232905197734300006.jpeg', 'host-a011_cam0_1233688941151142006.jpeg', 'host-a004_cam3_1232905202700897006.jpeg', 'host-a004_cam0_1232905220151064006.jpeg', 'host-a007_cam2_1233524860817643006.jpeg', 'host-a011_cam3_1235866721500995006.jpeg', 'host-a101_cam5_1242749009732649006.jpeg', 'host-a007_cam1_1233524858434286006.jpeg', 'host-a102_cam3_1241548696500000006.jpeg', 'host-a011_cam3_1235866720900995006.jpeg', 'host-a007_cam1_1233079630034286006.jpeg', 'host-a101_cam6_1242753254344000006.jpeg', 'host-a007_cam2_1233524861417643006.jpeg', 'host-a007_cam1_1233524858234286006.jpeg', 'host-a101_cam6_1242753250344000006.jpeg', 'host-a007_cam2_1233524863417643006.jpeg', 'host-a011_cam0_1236122364951142006.jpeg', 'host-a007_cam2_1233524861017643006.jpeg', 'host-a011_cam3_1233081029000995006.jpeg', 'host-a007_cam2_1233524863217643006.jpeg', 'host-a102_cam3_1242754976499304006.jpeg', 'host-a007_cam1_1233524853234286006.jpeg', 'host-a011_cam3_1233522434200995006.jpeg', 'host-a007_cam1_1233524856634286006.jpeg', 'host-a007_cam0_1233524856650897006.jpeg', 'host-a102_cam4_1241548695216660006.jpeg', 'host-a102_cam3_1241548695300000006.jpeg', 'host-a007_cam1_1233524857434286006.jpeg', 'host-a102_cam3_1241548695900000006.jpeg', 'host-a101_cam6_1242753249544000006.jpeg', 'host-a102_cam3_1241548694900000006.jpeg', 'host-a007_cam1_1233524855434286006.jpeg', 'host-a007_cam1_1233524856234286006.jpeg', 'host-a007_cam0_1233524856250897006.jpeg', 'host-a011_cam3_1235866720700995006.jpeg', 'host-a011_cam0_1235866718151142006.jpeg', 'host-a011_cam3_1233688952300995006.jpeg', 'host-a004_cam2_1232905201517652006.jpeg', 'host-a011_cam3_1233688952700995006.jpeg', 'host-a011_cam0_1233688941751142006.jpeg', 'host-a011_cam0_1234639318451142006.jpeg', 'host-a102_cam3_1241548694500000006.jpeg', 'host-a011_cam3_1235866721300995006.jpeg', 'host-a004_cam1_1232905197934300006.jpeg', 'host-a011_cam6_1236122360151145006.jpeg', 'host-a011_cam3_1235950315600995006.jpeg', 'host-a004_cam3_1232905202900897006.jpeg', 'host-a004_cam1_1232905198734300006.jpeg', 'host-a101_cam6_1242753250944000006.jpeg', 'host-a011_cam3_1233081028600995006.jpeg', 'host-a007_cam2_1233524860617643006.jpeg', 'host-a007_cam1_1233524857834286006.jpeg', 'host-a102_cam3_1242754976699304006.jpeg', 'host-a102_cam3_1241548695500000006.jpeg', 'host-a102_cam4_1241548695416660006.jpeg', 'host-a007_cam3_1230672872799360006.jpeg', 'host-a007_cam1_1233524853834286006.jpeg', 'host-a004_cam1_1232905198334300006.jpeg', 'host-a011_cam0_1233688949951142006.jpeg', 'host-a102_cam3_1241548696300000006.jpeg', 'host-a007_cam3_1230672872999360006.jpeg', 'host-a011_cam3_1235866721100995006.jpeg', 'host-a007_cam0_1233079629250897006.jpeg', 'host-a007_cam1_1233524856034286006.jpeg', 'host-a007_cam0_1233524856050897006.jpeg', 'host-a004_cam1_1232905197334300006.jpeg', 'host-a101_cam6_1242753251744000006.jpeg', 'host-a007_cam1_1233524855034286006.jpeg', 'host-a011_cam0_1235866717551142006.jpeg', 'host-a011_cam0_1235866717751142006.jpeg', 'host-a011_cam0_1233688949551142006.jpeg', 'host-a007_cam1_1233524855834286006.jpeg', 'host-a007_cam1_1233524859434286006.jpeg', 'host-a011_cam2_1233688946717605006.jpeg', 'host-a007_cam0_1233529712750897006.jpeg', 'host-a101_cam6_1242753252344000006.jpeg', 'host-a007_cam0_1233524855650897006.jpeg', 'host-a007_cam1_1233524855634286006.jpeg', 'host-a007_cam1_1233524852634286006.jpeg', 'host-a101_cam6_1242753249144000006.jpeg', 'host-a007_cam1_1233079630434286006.jpeg', 'host-a011_cam6_1236122360351145006.jpeg', 'host-a004_cam0_1232905219951064006.jpeg', 'host-a004_cam1_1232905198534300006.jpeg', 'host-a011_cam3_1233688952500995006.jpeg', 'host-a007_cam1_1233079630234286006.jpeg', 'host-a011_cam0_1233688949351142006.jpeg', 'host-a007_cam2_1233524860217643006.jpeg', 'host-a102_cam3_1241548696700000006.jpeg', 'host-a011_cam0_1233688949751142006.jpeg', 'host-a007_cam1_1233524854234286006.jpeg', 'host-a004_cam2_1232905200117652006.jpeg', 'host-a004_cam0_1232905220551064006.jpeg', 'host-a101_cam6_1242753251544000006.jpeg', 'host-a011_cam0_1233688941351142006.jpeg', 'host-a004_cam1_1232905197534300006.jpeg', 'host-a007_cam1_1233524857034286006.jpeg', 'host-a007_cam0_1233524857050897006.jpeg', 'host-a011_cam0_1236104047351142006.jpeg', 'host-a004_cam3_1232905214700897006.jpeg', 'host-a011_cam0_1234639318851142006.jpeg', 'host-a101_cam6_1242753249344000006.jpeg', 'host-a102_cam3_1241548694700000006.jpeg', 'host-a011_cam3_1232905787300995006.jpeg', 'host-a011_cam0_1233688941551142006.jpeg', 'host-a007_cam1_1233524853034286006.jpeg', 'host-a007_cam1_1233524858034286006.jpeg', 'host-a007_cam6_1233529710950905006.jpeg', 'host-a101_cam6_1242753254144000006.jpeg', 'host-a007_cam1_1233524854434286006.jpeg', 'host-a007_cam1_1233524859234286006.jpeg', 'host-a007_cam0_1233079629450897006.jpeg', 'host-a007_cam1_1233524856434286006.jpeg', 'host-a007_cam0_1233524856450897006.jpeg', 'host-a004_cam2_1232905199917652006.jpeg', 'host-a101_cam6_1242753252544000006.jpeg', 'host-a007_cam1_1233524853434286006.jpeg', 'host-a102_cam3_1242754977199275006.jpeg', 'host-a102_cam3_1242754977299275006.jpeg', 'host-a004_cam3_1232905203100897006.jpeg', 'host-a101_cam6_1242753251344000006.jpeg', 'host-a007_cam1_1233524853634286006.jpeg', 'host-a101_cam6_1242753249744000006.jpeg', 'host-a011_cam2_1233688946517605006.jpeg', 'host-a004_cam3_1232905214300897006.jpeg', 'host-a011_cam0_1233688942351142006.jpeg', 'host-a007_cam2_1233524860417643006.jpeg', 'host-a102_cam3_1241548695100000006.jpeg', 'host-a011_cam2_1233688946917605006.jpeg', 'host-a004_cam1_1232905198134300006.jpeg', 'host-a101_cam6_1242753250544000006.jpeg', 'host-a011_cam0_1236104047151142006.jpeg', 'host-a007_cam1_1233524858634286006.jpeg', 'host-a007_cam1_1233524854834286006.jpeg', 'host-a007_cam1_1233524857234286006.jpeg', 'host-a101_cam6_1242753248944000006.jpeg', 'host-a007_cam1_1233524854634286006.jpeg', 'host-a007_cam2_1233524860017643006.jpeg', 'host-a004_cam0_1232905220351064006.jpeg', 'host-a007_cam1_1233079629834286006.jpeg', 'host-a011_cam0_1234639318251142006.jpeg', 'host-a011_cam3_1235950315800995006.jpeg', 'host-a012_cam0_1237329884851020006.jpeg', 'host-a009_cam2_1236015622717752006.jpeg', 'host-a011_cam2_1232755945017605006.jpeg', 'host-a004_cam2_1233422545417652006.jpeg', 'host-a102_cam2_1241468928883330006.jpeg', 'host-a009_cam2_1236015630517752006.jpeg', 'host-a009_cam0_1236015630551162006.jpeg', 'host-a009_cam1_1236015630534319006.jpeg', 'host-a011_cam1_1233964304734517006.jpeg', 'host-a004_cam2_1233011752417652006.jpeg', 'host-a102_cam3_1241904558000000006.jpeg', 'host-a102_cam2_1241904557983330006.jpeg', 'host-a102_cam6_1241904543950000006.jpeg', 'host-a101_cam1_1240877592666660006.jpeg', 'host-a009_cam1_1236015621534319006.jpeg', 'host-a101_cam1_1240877590466660006.jpeg', 'host-a102_cam1_1241878225266660006.jpeg', 'host-a007_cam4_1230936242516094006.jpeg', 'host-a011_cam0_1234553377151142006.jpeg', 'host-a004_cam1_1233421995234300006.jpeg', 'host-a004_cam0_1233421995251064006.jpeg', 'host-a009_cam2_1236015617117752006.jpeg', 'host-a004_cam1_1232833320234300006.jpeg', 'host-a101_cam1_1243102890265668006.jpeg', 'host-a007_cam0_1233955141650897006.jpeg', 'host-a011_cam4_1232492195084485006.jpeg', 'host-a004_cam0_1233616005551064006.jpeg', 'host-a004_cam0_1233014363851064006.jpeg', 'host-a101_cam0_1240877600650000006.jpeg', 'host-a004_cam6_1233422009050948006.jpeg', 'host-a101_cam1_1240877608066660006.jpeg', 'host-a101_cam2_1240877608083330006.jpeg', 'host-a101_cam3_1240877608000000006.jpeg', 'host-a101_cam4_1240877608016660006.jpeg', 'host-a102_cam1_1241878224666660006.jpeg', 'host-a004_cam2_1233421998017652006.jpeg', 'host-a012_cam1_1237329868234261006.jpeg', 'host-a008_cam5_1235776286967733006.jpeg', 'host-a007_cam2_1233960464217643006.jpeg', 'host-a007_cam3_1233960464200869006.jpeg', 'host-a006_cam1_1236038154834412006.jpeg', 'host-a102_cam6_1242684262844000006.jpeg', 'host-a102_cam2_1242684262882827006.jpeg', 'host-a102_cam0_1242684262849512006.jpeg', 'host-a102_cam1_1242684262866142006.jpeg', 'host-a011_cam1_1232817034234517006.jpeg', 'host-a007_cam4_1230936222316094006.jpeg', 'host-a012_cam0_1237329867851020006.jpeg', 'host-a102_cam6_1242510611044000006.jpeg', 'host-a006_cam1_1236037888234412006.jpeg', 'host-a004_cam1_1233422555234300006.jpeg', 'host-a007_cam1_1233955133034286006.jpeg', 'host-a004_cam1_1233422555634300006.jpeg', 'host-a008_cam0_1236016353651171006.jpeg', 'host-a101_cam5_1241462214333330006.jpeg', 'host-a101_cam2_1241886986783330006.jpeg', 'host-a006_cam3_1236038140800777006.jpeg', 'host-a101_cam4_1241462216316660006.jpeg', 'host-a011_cam2_1232817047417605006.jpeg', 'host-a006_cam1_1236037895034412006.jpeg', 'host-a007_cam5_1232490785667475006.jpeg', 'host-a009_cam0_1236015620151162006.jpeg', 'host-a004_cam3_1233963864000897006.jpeg', 'host-a004_cam2_1233963864017652006.jpeg', 'host-a004_cam6_1233963859250948006.jpeg', 'host-a009_cam4_1231200864015930006.jpeg', 'host-a009_cam4_1231200863215930006.jpeg', 'host-a009_cam5_1231200863232771006.jpeg', 'host-a009_cam5_1236014673067552006.jpeg', 'host-a004_cam2_1233616000717652006.jpeg', 'host-a004_cam1_1233421995434300006.jpeg', 'host-a011_cam2_1232755935017605006.jpeg', 'host-a004_cam3_1233616007900897006.jpeg', 'host-a006_cam4_1236038144284380006.jpeg', 'host-a008_cam5_1235776293167733006.jpeg', 'host-a102_cam6_1242510609444000006.jpeg', 'host-a102_cam3_1242510609499393006.jpeg', 'host-a102_cam4_1242510609415609006.jpeg', 'host-a004_cam3_1233011753200897006.jpeg', 'host-a011_cam1_1232817042634517006.jpeg', 'host-a008_cam0_1235776286151171006.jpeg', 'host-a008_cam5_1235776286167733006.jpeg', 'host-a007_cam6_1233955150450905006.jpeg', 'host-a011_cam2_1233963427217605006.jpeg', 'host-a009_cam2_1236014662217752006.jpeg', 'host-a102_cam6_1241904551750000006.jpeg', 'host-a007_cam1_1232470061234286006.jpeg', 'host-a007_cam0_1232470061250897006.jpeg', 'host-a007_cam2_1233955143817643006.jpeg', 'host-a007_cam3_1233955143800869006.jpeg', 'host-a007_cam4_1230936226316094006.jpeg', 'host-a009_cam0_1236013305851162006.jpeg', 'host-a008_cam2_1235776301717906006.jpeg', 'host-a008_cam3_1235776301701057006.jpeg', 'host-a008_cam6_1235776301751058006.jpeg', 'host-a011_cam1_1232755943234517006.jpeg', 'host-a009_cam6_1231200859449231006.jpeg', 'host-a102_cam2_1241904547983330006.jpeg', 'host-a008_cam6_1236016350251058006.jpeg', 'host-a011_cam1_1232755938834517006.jpeg', 'host-a004_cam2_1232833321617652006.jpeg', 'host-a102_cam4_1242510608015623006.jpeg', 'host-a008_cam6_1235776306951058006.jpeg', 'host-a007_cam5_1230936241132827006.jpeg', 'host-a101_cam4_1241893239216660006.jpeg', 'host-a101_cam1_1241893239266660006.jpeg', 'host-a007_cam5_1230936221932827006.jpeg', 'host-a011_cam2_1232841335617605006.jpeg', 'host-a011_cam3_1232841335600995006.jpeg', 'host-a102_cam4_1242510607415638006.jpeg', 'host-a011_cam1_1232817038634517006.jpeg', 'host-a008_cam3_1236016356601057006.jpeg', 'host-a101_cam4_1240877610216660006.jpeg', 'host-a101_cam3_1240877610200000006.jpeg', 'host-a102_cam6_1242684258444000006.jpeg', 'host-a007_cam2_1233955143017643006.jpeg', 'host-a101_cam4_1241893254016660006.jpeg', 'host-a101_cam3_1241893254000000006.jpeg', 'host-a101_cam2_1241893254083330006.jpeg', 'host-a009_cam4_1236014669284403006.jpeg', 'host-a101_cam1_1241893244666660006.jpeg', 'host-a101_cam4_1241893244616660006.jpeg', 'host-a102_cam3_1241904559300000006.jpeg', 'host-a102_cam1_1241904556966660006.jpeg', 'host-a011_cam4_1232492217084485006.jpeg', 'host-a006_cam1_1237322905834412006.jpeg', 'host-a102_cam4_1242662283516038006.jpeg', 'host-a011_cam2_1233963422417605006.jpeg', 'host-a011_cam1_1233964304934517006.jpeg', 'host-a005_cam5_1231201458732576006.jpeg', 'host-a007_cam0_1230485649449429006.jpeg', 'host-a008_cam6_1235776305551058006.jpeg', 'host-a008_cam1_1235776305534433006.jpeg', 'host-a004_cam2_1233616010917652006.jpeg', 'host-a004_cam2_1233014365417652006.jpeg', 'host-a008_cam0_1236016353451171006.jpeg', 'host-a004_cam2_1233602030817652006.jpeg', 'host-a011_cam1_1232755940034517006.jpeg', 'host-a008_cam6_1235776306751058006.jpeg', 'host-a011_cam2_1233964306517605006.jpeg', 'host-a011_cam4_1232492194284485006.jpeg', 'host-a006_cam1_1236038148434412006.jpeg', 'host-a006_cam3_1236037884800777006.jpeg', 'host-a011_cam4_1232839950484485006.jpeg', 'host-a011_cam1_1232817040034517006.jpeg', 'host-a011_cam1_1234553377334517006.jpeg', 'host-a011_cam0_1234553377351142006.jpeg', 'host-a011_cam2_1233963424817605006.jpeg', 'host-a007_cam6_1233955150850905006.jpeg', 'host-a009_cam1_1236015628934319006.jpeg', 'host-a102_cam1_1241878200666660006.jpeg', 'host-a102_cam5_1242510605832279006.jpeg', 'host-a102_cam0_1242510605849215006.jpeg', 'host-a007_cam4_1230936241916094006.jpeg', 'host-a011_cam1_1232835309034517006.jpeg', 'host-a011_cam4_1232492207084485006.jpeg', 'host-a004_cam3_1233535974900897006.jpeg', 'host-a101_cam1_1241889725466660006.jpeg', 'host-a101_cam0_1241889725450000006.jpeg', 'host-a101_cam5_1241889725433330006.jpeg', 'host-a007_cam2_1234551933517643006.jpeg', 'host-a101_cam1_1241893252066660006.jpeg', 'host-a101_cam2_1241893252083330006.jpeg', 'host-a101_cam4_1241893252016660006.jpeg', 'host-a102_cam6_1241468918050000006.jpeg', 'host-a006_cam2_1237322886017711006.jpeg', 'host-a008_cam6_1235776300751058006.jpeg', 'host-a008_cam2_1235776298517906006.jpeg', 'host-a009_cam1_1236013297834319006.jpeg', 'host-a006_cam2_1236037896417711006.jpeg', 'host-a011_cam2_1232841335417605006.jpeg', 'host-a006_cam1_1237322907634412006.jpeg', 'host-a009_cam6_1236013301651075006.jpeg', 'host-a011_cam2_1233963426817605006.jpeg', 'host-a004_cam1_1232815268834300006.jpeg', 'host-a004_cam2_1232815268817652006.jpeg', 'host-a101_cam1_1243102890065683006.jpeg', 'host-a004_cam1_1233421997234300006.jpeg', 'host-a011_cam3_1232755958800995006.jpeg', 'host-a008_cam1_1235776293734433006.jpeg', 'host-a011_cam3_1232817048200995006.jpeg', 'host-a012_cam2_1237329869217630006.jpeg', 'host-a007_cam2_1233955135217643006.jpeg', 'host-a007_cam0_1233955135250897006.jpeg', 'host-a007_cam1_1233955135234286006.jpeg', 'host-a005_cam5_1231201459732576006.jpeg', 'host-a101_cam2_1241889726683330006.jpeg', 'host-a101_cam5_1241889726633330006.jpeg', 'host-a011_cam2_1232839956817605006.jpeg', 'host-a011_cam2_1233963424017605006.jpeg', 'host-a101_cam1_1243102890665742006.jpeg', 'host-a007_cam2_1233955134817643006.jpeg', 'host-a102_cam6_1241904543550000006.jpeg', 'host-a004_cam1_1233961190234300006.jpeg', 'host-a101_cam0_1241472428550000006.jpeg', 'host-a009_cam5_1236014668267552006.jpeg', 'host-a009_cam4_1231200864215930006.jpeg', 'host-a011_cam3_1232841336400995006.jpeg', 'host-a011_cam3_1232755958600995006.jpeg', 'host-a011_cam2_1232755958617605006.jpeg', 'host-a102_cam5_1242510615632249006.jpeg', 'host-a102_cam0_1242510615649319006.jpeg', 'host-a004_cam3_1233011752800897006.jpeg', 'host-a004_cam2_1233011752817652006.jpeg', 'host-a006_cam2_1236037899017711006.jpeg', 'host-a101_cam0_1240877606650000006.jpeg', 'host-a101_cam2_1240877606683330006.jpeg', 'host-a004_cam0_1233421994251064006.jpeg', 'host-a101_cam4_1241893248616660006.jpeg', 'host-a101_cam1_1241893248666660006.jpeg', 'host-a011_cam2_1233963426617605006.jpeg', 'host-a011_cam5_1232839949467719006.jpeg', 'host-a101_cam5_1240877603033330006.jpeg', 'host-a101_cam1_1240877603066660006.jpeg', 'host-a006_cam1_1236038132634412006.jpeg', 'host-a006_cam2_1236037899217711006.jpeg', 'host-a102_cam3_1242684268899586006.jpeg', 'host-a009_cam3_1236014670000980006.jpeg', 'host-a009_cam4_1236014670084403006.jpeg', 'host-a004_cam1_1233535972534300006.jpeg', 'host-a011_cam2_1233963425417605006.jpeg', 'host-a007_cam5_1233955154067475006.jpeg', 'host-a007_cam1_1234551932734286006.jpeg', 'host-a004_cam6_1233011748850948006.jpeg', 'host-a011_cam1_1232755936634517006.jpeg', 'host-a011_cam1_1232817041234517006.jpeg', 'host-a102_cam4_1242510617815623006.jpeg', 'host-a011_cam0_1232839940651142006.jpeg', 'host-a007_cam4_1230936223916094006.jpeg', 'host-a101_cam1_1241472429766660006.jpeg', 'host-a004_cam1_1233422540434300006.jpeg', 'host-a101_cam1_1240877606066660006.jpeg', 'host-a011_cam6_1232839945451145006.jpeg', 'host-a101_cam1_1240877605266660006.jpeg', 'host-a012_cam0_1237329866851020006.jpeg', 'host-a007_cam1_1233955136634286006.jpeg', 'host-a007_cam1_1232470062234286006.jpeg', 'host-a004_cam1_1233602023834300006.jpeg', 'host-a102_cam1_1242684267066112006.jpeg', 'host-a007_cam0_1233955153650897006.jpeg', 'host-a007_cam5_1233955153667475006.jpeg', 'host-a004_cam2_1233535974717652006.jpeg', 'host-a101_cam2_1240877607483330006.jpeg', 'host-a101_cam4_1240877607416660006.jpeg', 'host-a102_cam1_1242684262066172006.jpeg', 'host-a102_cam6_1242684262044000006.jpeg', 'host-a102_cam0_1242684262049497006.jpeg', 'host-a006_cam5_1236038136867650006.jpeg', 'host-a006_cam2_1237322902617711006.jpeg', 'host-a007_cam2_1233960453217643006.jpeg', 'host-a007_cam1_1233960453234286006.jpeg', 'host-a011_cam1_1232817044834517006.jpeg', 'host-a007_cam5_1230485650832827006.jpeg', 'host-a007_cam4_1230485650816094006.jpeg', 'host-a007_cam4_1230936224316094006.jpeg', 'host-a006_cam2_1236038150417711006.jpeg', 'host-a006_cam3_1236038150400777006.jpeg', 'host-a011_cam1_1232839942234517006.jpeg', 'host-a011_cam3_1232839942200995006.jpeg', 'host-a101_cam4_1241462215516660006.jpeg', 'host-a004_cam2_1233421998217652006.jpeg', 'host-a007_cam4_1230485651216094006.jpeg', 'host-a101_cam1_1242493648565935006.jpeg', 'host-a008_cam6_1235776300351058006.jpeg', 'host-a008_cam3_1235776300301057006.jpeg', 'host-a008_cam1_1235776300334433006.jpeg', 'host-a101_cam5_1241889725233330006.jpeg', 'host-a101_cam0_1241889725250000006.jpeg', 'host-a009_cam0_1236015615351162006.jpeg', 'host-a101_cam1_1241889726066660006.jpeg', 'host-a101_cam5_1241889726033330006.jpeg', 'host-a008_cam3_1235777222701057006.jpeg', 'host-a008_cam4_1235777222784403006.jpeg', 'host-a101_cam3_1241893253100000006.jpeg', 'host-a101_cam4_1241893253016660006.jpeg', 'host-a101_cam2_1241893253083330006.jpeg', 'host-a007_cam2_1233955143617643006.jpeg', 'host-a004_cam2_1233616007717652006.jpeg', 'host-a004_cam3_1233616007700897006.jpeg', 'host-a007_cam1_1233960459834286006.jpeg', 'host-a007_cam0_1233960459850897006.jpeg', 'host-a102_cam6_1242510615844000006.jpeg', 'host-a102_cam5_1242510615832249006.jpeg', 'host-a011_cam2_1233964306717605006.jpeg', 'host-a102_cam0_1242684261249482006.jpeg', 'host-a007_cam5_1230485638232827006.jpeg', 'host-a007_cam0_1230485638249429006.jpeg', 'host-a004_cam2_1233602031617652006.jpeg', 'host-a006_cam2_1236038149617711006.jpeg', 'host-a102_cam2_1241468923883330006.jpeg', 'host-a101_cam5_1241462213733330006.jpeg', 'host-a007_cam4_1232490786084150006.jpeg', 'host-a011_cam4_1232492193884485006.jpeg', 'host-a004_cam6_1233535976950948006.jpeg', 'host-a011_cam1_1232755942634517006.jpeg', 'host-a006_cam2_1237322900217711006.jpeg', 'host-a008_cam4_1235777223984403006.jpeg', 'host-a102_cam1_1241468922066660006.jpeg', 'host-a011_cam5_1232492214067719006.jpeg', 'host-a006_cam1_1236038132434412006.jpeg', 'host-a007_cam3_1234551934300869006.jpeg', 'host-a101_cam1_1240877590666660006.jpeg', 'host-a101_cam5_1241887001133330006.jpeg', 'host-a004_cam1_1233535977934300006.jpeg', 'host-a004_cam6_1233535977950948006.jpeg', 'host-a102_cam4_1242510620015623006.jpeg', 'host-a004_cam2_1233422558417652006.jpeg', 'host-a006_cam2_1237322898617711006.jpeg', 'host-a007_cam3_1232470063800869006.jpeg', 'host-a006_cam1_1237322907434412006.jpeg', 'host-a004_cam1_1232815268234300006.jpeg', 'host-a004_cam0_1232815268251064006.jpeg', 'host-a102_cam1_1241904556166660006.jpeg', 'host-a102_cam0_1241904556150000006.jpeg', 'host-a004_cam1_1233602022834300006.jpeg', 'host-a102_cam1_1242684266466142006.jpeg', 'host-a102_cam0_1242684266449556006.jpeg', 'host-a007_cam1_1233955142834286006.jpeg', 'host-a101_cam0_1241462212950000006.jpeg', 'host-a101_cam5_1241462212933330006.jpeg', 'host-a009_cam1_1236015628334319006.jpeg', 'host-a004_cam3_1233011753000897006.jpeg', 'host-a101_cam4_1241893239816660006.jpeg', 'host-a101_cam1_1241893239866660006.jpeg', 'host-a009_cam1_1236013297634319006.jpeg', 'host-a004_cam1_1232815266834300006.jpeg', 'host-a004_cam1_1232815267434300006.jpeg', 'host-a006_cam5_1236038143667650006.jpeg', 'host-a006_cam4_1236038143684380006.jpeg', 'host-a012_cam0_1237329867651020006.jpeg', 'host-a101_cam4_1241889710416660006.jpeg', 'host-a101_cam3_1241889710500000006.jpeg', 'host-a004_cam6_1233535978150948006.jpeg', 'host-a004_cam1_1233535978134300006.jpeg', 'host-a004_cam2_1233947109317652006.jpeg', 'host-a102_cam1_1242684263066127006.jpeg', 'host-a102_cam2_1242684263082827006.jpeg', 'host-a102_cam6_1242684263044000006.jpeg', 'host-a004_cam6_1233947132950948006.jpeg', 'host-a011_cam2_1233963425817605006.jpeg', 'host-a008_cam2_1236016356017906006.jpeg', 'host-a011_cam1_1232755939434517006.jpeg', 'host-a009_cam6_1236013302051075006.jpeg', 'host-a011_cam2_1233963416617605006.jpeg', 'host-a102_cam4_1242662282716038006.jpeg', 'host-a102_cam5_1242662282732530006.jpeg', 'host-a101_cam0_1240877606850000006.jpeg', 'host-a101_cam4_1240877606816660006.jpeg', 'host-a101_cam2_1240877606883330006.jpeg', 'host-a008_cam4_1235777239984403006.jpeg', 'host-a011_cam2_1233963424217605006.jpeg', 'host-a009_cam1_1236013306434319006.jpeg', 'host-a011_cam1_1232817036634517006.jpeg', 'host-a004_cam2_1232833322017652006.jpeg', 'host-a102_cam3_1242662284299497006.jpeg', 'host-a102_cam4_1242662284316068006.jpeg', 'host-a004_cam2_1233535974317652006.jpeg', 'host-a011_cam2_1233963423817605006.jpeg', 'host-a011_cam2_1233963421817605006.jpeg', 'host-a102_cam1_1241878200866660006.jpeg', 'host-a011_cam5_1232492206067719006.jpeg', 'host-a009_cam2_1236015622117752006.jpeg', 'host-a007_cam2_1233955143217643006.jpeg', 'host-a004_cam1_1233422541034300006.jpeg', 'host-a007_cam2_1233955137817643006.jpeg', 'host-a007_cam6_1233955137850905006.jpeg', 'host-a006_cam1_1237322904834412006.jpeg', 'host-a011_cam2_1232835310217605006.jpeg', 'host-a102_cam4_1242510610015623006.jpeg', 'host-a102_cam3_1242510610099393006.jpeg', 'host-a102_cam6_1242510610044000006.jpeg', 'host-a101_cam5_1240877602433330006.jpeg', 'host-a101_cam0_1240877602450000006.jpeg', 'host-a009_cam1_1236015616134319006.jpeg', 'host-a011_cam1_1232817044234517006.jpeg', 'host-a101_cam4_1241893244216660006.jpeg', 'host-a101_cam1_1241893244266660006.jpeg', 'host-a008_cam3_1235777221301057006.jpeg', 'host-a008_cam4_1235777221384403006.jpeg', 'host-a101_cam3_1241889728900000006.jpeg', 'host-a101_cam4_1241889728816660006.jpeg', 'host-a011_cam5_1232492192867719006.jpeg', 'host-a004_cam6_1233947132550948006.jpeg', 'host-a011_cam2_1233963418617605006.jpeg', 'host-a011_cam2_1232755944617605006.jpeg', 'host-a006_cam2_1237322885217711006.jpeg', 'host-a012_cam2_1237329869017630006.jpeg', 'host-a006_cam2_1237322902817711006.jpeg', 'host-a011_cam2_1232755935217605006.jpeg', 'host-a006_cam2_1236037889217711006.jpeg', 'host-a007_cam5_1233955154867475006.jpeg', 'host-a006_cam1_1237322897434412006.jpeg', 'host-a009_cam2_1236015630317752006.jpeg', 'host-a009_cam1_1236015630334319006.jpeg', 'host-a009_cam0_1236015630351162006.jpeg', 'host-a004_cam1_1233617939334300006.jpeg', 'host-a005_cam4_1231201459916091006.jpeg', 'host-a011_cam2_1232839957217605006.jpeg', 'host-a006_cam1_1237322909034412006.jpeg', 'host-a007_cam5_1233955154467475006.jpeg', 'host-a009_cam0_1236013306051162006.jpeg', 'host-a011_cam4_1232839949884485006.jpeg', 'host-a006_cam5_1236038142867650006.jpeg', 'host-a011_cam6_1233964378151145006.jpeg', 'host-a007_cam1_1233960463634286006.jpeg', 'host-a007_cam3_1233960463600869006.jpeg', 'host-a007_cam2_1233960463617643006.jpeg', 'host-a007_cam5_1230485638432827006.jpeg', 'host-a007_cam0_1230485638449429006.jpeg', 'host-a011_cam2_1232755945217605006.jpeg', 'host-a101_cam4_1241889710216660006.jpeg', 'host-a101_cam3_1241889710200000006.jpeg', 'host-a004_cam6_1232815263050948006.jpeg', 'host-a011_cam6_1233964377951145006.jpeg', 'host-a102_cam1_1241904555766660006.jpeg', 'host-a102_cam0_1241904555750000006.jpeg', 'host-a007_cam6_1233955148050905006.jpeg', 'host-a101_cam4_1241893239616660006.jpeg', 'host-a101_cam1_1241893239666660006.jpeg', 'host-a004_cam6_1233011748050948006.jpeg', 'host-a011_cam6_1232839951451145006.jpeg', 'host-a101_cam4_1240877609416660006.jpeg', 'host-a101_cam2_1240877609483330006.jpeg', 'host-a101_cam3_1240877609400000006.jpeg', 'host-a101_cam0_1240877609450000006.jpeg', 'host-a101_cam1_1240877609466660006.jpeg', 'host-a102_cam0_1242510605049215006.jpeg', 'host-a102_cam5_1242510605032219006.jpeg', 'host-a006_cam1_1237322909834412006.jpeg', 'host-a006_cam2_1237322909817711006.jpeg', 'host-a007_cam1_1233960461034286006.jpeg', 'host-a009_cam1_1236015627734319006.jpeg', 'host-a006_cam3_1236037899600777006.jpeg', 'host-a006_cam5_1236038143067650006.jpeg', 'host-a011_cam4_1232492194484485006.jpeg', 'host-a004_cam0_1232833319651064006.jpeg', 'host-a009_cam5_1231200862632771006.jpeg', 'host-a007_cam3_1233960465400869006.jpeg', 'host-a007_cam2_1233960465417643006.jpeg', 'host-a011_cam1_1232755937834517006.jpeg', 'host-a011_cam1_1232755957434517006.jpeg', 'host-a006_cam4_1236038139884380006.jpeg', 'host-a102_cam2_1241468924283330006.jpeg', 'host-a101_cam2_1241886986583330006.jpeg', 'host-a101_cam4_1241893244416660006.jpeg', 'host-a101_cam1_1241893244466660006.jpeg', 'host-a011_cam3_1232841346200995006.jpeg', 'host-a006_cam1_1236038132034412006.jpeg', 'host-a006_cam2_1236038155817711006.jpeg', 'host-a102_cam5_1242510615032249006.jpeg', 'host-a102_cam0_1242510615049319006.jpeg', 'host-a011_cam2_1233964307217605006.jpeg', 'host-a011_cam3_1232841335800995006.jpeg', 'host-a011_cam2_1232841335817605006.jpeg', 'host-a007_cam4_1230485641216094006.jpeg', 'host-a009_cam1_1236015627334319006.jpeg', 'host-a011_cam2_1233963422817605006.jpeg', 'host-a011_cam2_1233963418017605006.jpeg', 'host-a009_cam1_1236013298234319006.jpeg', 'host-a009_cam0_1236013298251162006.jpeg', 'host-a011_cam1_1232817037034517006.jpeg', 'host-a012_cam1_1237329868434261006.jpeg', 'host-a101_cam5_1241889725833330006.jpeg', 'host-a101_cam0_1241889725850000006.jpeg', 'host-a101_cam1_1241889725866660006.jpeg', 'host-a006_cam2_1237322903417711006.jpeg', 'host-a004_cam1_1233947108734300006.jpeg', 'host-a101_cam0_1242493648149512006.jpeg', 'host-a101_cam1_1242493648165979006.jpeg', 'host-a011_cam2_1232817046817605006.jpeg', 'host-a011_cam1_1232817046834517006.jpeg', 'host-a101_cam1_1241893250266660006.jpeg', 'host-a101_cam4_1241893250216660006.jpeg', 'host-a004_cam0_1233421994051064006.jpeg', 'host-a006_cam1_1236038148834412006.jpeg', 'host-a011_cam1_1232755957034517006.jpeg', 'host-a004_cam2_1232815269617652006.jpeg', 'host-a011_cam2_1233963427417605006.jpeg', 'host-a011_cam1_1232817036234517006.jpeg', 'host-a007_cam6_1233955149850905006.jpeg', 'host-a101_cam1_1240877589866660006.jpeg', 'host-a004_cam2_1233535973917652006.jpeg', 'host-a008_cam4_1235777217784403006.jpeg', 'host-a004_cam1_1233615998934300006.jpeg', 'host-a008_cam4_1235777217984403006.jpeg', 'host-a004_cam2_1233602025217652006.jpeg', 'host-a004_cam2_1233616011317652006.jpeg', 'host-a011_cam5_1236037942067719006.jpeg', 'host-a008_cam6_1235776305351058006.jpeg', 'host-a008_cam1_1235776305334433006.jpeg', 'host-a009_cam2_1236015621917752006.jpeg', 'host-a012_cam0_1237329867451020006.jpeg', 'host-a102_cam2_1241904558583330006.jpeg', 'host-a102_cam3_1241904558600000006.jpeg', 'host-a004_cam1_1233421996434300006.jpeg', 'host-a101_cam1_1243102890465683006.jpeg', 'host-a004_cam2_1232815269417652006.jpeg', 'host-a004_cam3_1232815269400897006.jpeg', 'host-a102_cam6_1241468919250000006.jpeg', 'host-a101_cam2_1241893255283330006.jpeg', 'host-a101_cam3_1241893255300000006.jpeg', 'host-a101_cam0_1242493647749512006.jpeg', 'host-a101_cam1_1242493647765979006.jpeg', 'host-a007_cam1_1233955142234286006.jpeg', 'host-a101_cam3_1241472432200000006.jpeg', 'host-a007_cam1_1234551932934286006.jpeg', 'host-a007_cam4_1233955156184150006.jpeg', 'host-a007_cam5_1233955156167475006.jpeg', 'host-a008_cam3_1235776302501057006.jpeg', 'host-a011_cam5_1232839948667719006.jpeg', 'host-a102_cam4_1242510618015623006.jpeg', 'host-a009_cam6_1231200859649231006.jpeg', 'host-a006_cam2_1237322886217711006.jpeg', 'host-a006_cam1_1237322886234412006.jpeg', 'host-a101_cam1_1240877609066660006.jpeg', 'host-a101_cam0_1240877609050000006.jpeg', 'host-a101_cam2_1240877609083330006.jpeg', 'host-a101_cam3_1240877609000000006.jpeg', 'host-a101_cam4_1240877609016660006.jpeg', 'host-a101_cam1_1240877605866660006.jpeg', 'host-a006_cam2_1236038150017711006.jpeg', 'host-a011_cam2_1232817046417605006.jpeg', 'host-a011_cam1_1232817046434517006.jpeg', 'host-a007_cam5_1232490785467475006.jpeg', 'host-a004_cam1_1233421996234300006.jpeg', 'host-a009_cam5_1236014668667552006.jpeg', 'host-a004_cam1_1232833321034300006.jpeg', 'host-a005_cam4_1231201461316091006.jpeg', 'host-a009_cam4_1236014669484403006.jpeg', 'host-a011_cam2_1233963421217605006.jpeg', 'host-a004_cam1_1233422541434300006.jpeg', 'host-a011_cam2_1232835310617605006.jpeg', 'host-a101_cam5_1241462214533330006.jpeg', 'host-a007_cam4_1230936223716094006.jpeg', 'host-a101_cam4_1241462215316660006.jpeg', 'host-a006_cam2_1237322886617711006.jpeg', 'host-a101_cam2_1241886986383330006.jpeg', 'host-a011_cam1_1232817035834517006.jpeg', 'host-a009_cam1_1236015629534319006.jpeg', 'host-a004_cam3_1233947110100897006.jpeg', 'host-a011_cam2_1232835310017605006.jpeg', 'host-a008_cam4_1235777224384403006.jpeg', 'host-a102_cam1_1241468922466660006.jpeg', 'host-a011_cam0_1232839954651142006.jpeg', 'host-a102_cam4_1242662282916038006.jpeg', 'host-a009_cam2_1236013300017752006.jpeg', 'host-a009_cam3_1236013300000980006.jpeg', 'host-a102_cam4_1242662284116068006.jpeg', 'host-a102_cam3_1242662284099497006.jpeg', 'host-a007_cam3_1233955144000869006.jpeg', 'host-a006_cam1_1236038154434412006.jpeg', 'host-a008_cam3_1235776299701057006.jpeg', 'host-a008_cam1_1235776299734433006.jpeg', 'host-a004_cam0_1233422553851064006.jpeg', 'host-a009_cam2_1236013298417752006.jpeg', 'host-a009_cam1_1236013298434319006.jpeg', 'host-a011_cam4_1232839950284485006.jpeg', 'host-a004_cam1_1233961190434300006.jpeg', 'host-a011_cam6_1232835302251145006.jpeg', 'host-a011_cam2_1233963420817605006.jpeg', 'host-a007_cam1_1233960452834286006.jpeg', 'host-a004_cam1_1233535973334300006.jpeg', 'host-a006_cam2_1237322901017711006.jpeg', 'host-a102_cam0_1242510604649215006.jpeg', 'host-a004_cam1_1233422554434300006.jpeg', 'host-a004_cam1_1233602023634300006.jpeg', 'host-a011_cam2_1233963417217605006.jpeg', 'host-a102_cam6_1241904543150000006.jpeg', 'host-a007_cam5_1230936221532827006.jpeg', 'host-a007_cam5_1230485639032827006.jpeg', 'host-a008_cam4_1235777219184403006.jpeg', 'host-a008_cam3_1235777219101057006.jpeg', 'host-a011_cam2_1232835310417605006.jpeg', 'host-a008_cam0_1235777238151171006.jpeg', 'host-a008_cam5_1235777238167733006.jpeg', 'host-a009_cam5_1236014672467552006.jpeg', 'host-a007_cam1_1233955135634286006.jpeg', 'host-a008_cam4_1235777219584403006.jpeg', 'host-a008_cam3_1235777219501057006.jpeg', 'host-a006_cam2_1237322901417711006.jpeg', 'host-a007_cam3_1233955138600869006.jpeg', 'host-a012_cam2_1237329869417630006.jpeg', 'host-a102_cam1_1241878225366660006.jpeg', 'host-a102_cam0_1242684261049482006.jpeg', 'host-a007_cam5_1230485650632827006.jpeg', 'host-a004_cam3_1233421999000897006.jpeg', 'host-a004_cam2_1233421999017652006.jpeg', 'host-a008_cam1_1235776294534433006.jpeg', 'host-a102_cam4_1242662283116038006.jpeg', 'host-a004_cam0_1232815268051064006.jpeg', 'host-a004_cam1_1232815268034300006.jpeg', 'host-a004_cam2_1232815268017652006.jpeg', 'host-a102_cam3_1242684245099660006.jpeg', 'host-a102_cam1_1241904556566660006.jpeg', 'host-a011_cam1_1232839942434517006.jpeg', 'host-a004_cam1_1233602030634300006.jpeg', 'host-a011_cam1_1232755938234517006.jpeg', 'host-a011_cam2_1233963418417605006.jpeg', 'host-a009_cam4_1236014669084403006.jpeg', 'host-a012_cam0_1237329884651020006.jpeg', 'host-a012_cam0_1237329884451020006.jpeg', 'host-a004_cam6_1233535979750948006.jpeg', 'host-a004_cam2_1233535979717652006.jpeg', 'host-a011_cam2_1232755934817605006.jpeg', 'host-a004_cam2_1233422556817652006.jpeg', 'host-a101_cam4_1241889727616660006.jpeg', 'host-a101_cam3_1241889727700000006.jpeg', 'host-a004_cam6_1233535979350948006.jpeg', 'host-a004_cam2_1233535979317652006.jpeg', 'host-a006_cam5_1236038134867650006.jpeg', 'host-a006_cam3_1236038134800777006.jpeg', 'host-a101_cam4_1241893244016660006.jpeg', 'host-a101_cam1_1241893244066660006.jpeg', 'host-a004_cam2_1233961185417652006.jpeg', 'host-a004_cam1_1233947108334300006.jpeg', 'host-a101_cam4_1241893240216660006.jpeg', 'host-a101_cam1_1241893240266660006.jpeg', 'host-a011_cam3_1232839957600995006.jpeg', 'host-a101_cam0_1240877600850000006.jpeg', 'host-a011_cam2_1233963426417605006.jpeg', 'host-a008_cam1_1235776295534433006.jpeg', 'host-a011_cam5_1232839949267719006.jpeg', 'host-a004_cam2_1233535980117652006.jpeg', 'host-a011_cam0_1232841343851142006.jpeg', 'host-a102_cam2_1241468923283330006.jpeg', 'host-a007_cam2_1233960463017643006.jpeg', 'host-a007_cam1_1233960463034286006.jpeg', 'host-a004_cam2_1233421997617652006.jpeg', 'host-a101_cam1_1240877605466660006.jpeg', 'host-a006_cam5_1236038135867650006.jpeg', 'host-a011_cam6_1232492209651145006.jpeg', 'host-a004_cam3_1233422545800897006.jpeg', 'host-a009_cam3_1236015623500980006.jpeg', 'host-a008_cam3_1235777219301057006.jpeg', 'host-a008_cam4_1235777219384403006.jpeg', 'host-a007_cam2_1233960462617643006.jpeg', 'host-a007_cam1_1233960462634286006.jpeg', 'host-a008_cam5_1235776288367733006.jpeg', 'host-a004_cam3_1232815252600897006.jpeg', 'host-a008_cam3_1235776299501057006.jpeg', 'host-a008_cam4_1235777240184403006.jpeg', 'host-a011_cam2_1232755934417605006.jpeg', 'host-a007_cam1_1233955135834286006.jpeg', 'host-a006_cam2_1236038150217711006.jpeg', 'host-a102_cam5_1242510605232264006.jpeg', 'host-a102_cam0_1242510605249215006.jpeg', 'host-a011_cam1_1232817041434517006.jpeg', 'host-a012_cam1_1237329886034261006.jpeg', 'host-a012_cam0_1237329886051020006.jpeg', 'host-a102_cam1_1241904546766660006.jpeg', 'host-a102_cam0_1241904546750000006.jpeg', 'host-a006_cam2_1237322886817711006.jpeg', 'host-a006_cam3_1237322886800777006.jpeg', 'host-a008_cam3_1235776302101057006.jpeg', 'host-a007_cam2_1232470052417643006.jpeg', 'host-a101_cam1_1240877588266660006.jpeg', 'host-a008_cam1_1235776297734433006.jpeg', 'host-a004_cam6_1233422008050948006.jpeg', 'host-a004_cam1_1233011751434300006.jpeg', 'host-a007_cam2_1233960464617643006.jpeg', 'host-a004_cam6_1233422552650948006.jpeg', 'host-a006_cam2_1237322886417711006.jpeg', 'host-a006_cam0_1236038131650935006.jpeg', 'host-a011_cam2_1233963416417605006.jpeg', 'host-a007_cam4_1233955155484150006.jpeg', 'host-a008_cam5_1235776287767733006.jpeg', 'host-a004_cam2_1233616000917652006.jpeg', 'host-a009_cam2_1236015629917752006.jpeg', 'host-a009_cam1_1236015629934319006.jpeg', 'host-a012_cam0_1237329885451020006.jpeg', 'host-a012_cam1_1237329885434261006.jpeg', 'host-a008_cam0_1235776299351171006.jpeg', 'host-a008_cam2_1235776299317906006.jpeg', 'host-a009_cam3_1236014670200980006.jpeg', 'host-a007_cam0_1233007770050897006.jpeg', 'host-a008_cam5_1235776291967733006.jpeg', 'host-a009_cam0_1236015620551162006.jpeg', 'host-a011_cam5_1232492192467719006.jpeg', 'host-a102_cam2_1242662281182456006.jpeg', 'host-a102_cam0_1242662281149378006.jpeg', 'host-a006_cam1_1237322897834412006.jpeg', 'host-a007_cam5_1230485639432827006.jpeg', 'host-a101_cam4_1241893249616660006.jpeg', 'host-a101_cam1_1241893249666660006.jpeg', 'host-a007_cam1_1233007770834286006.jpeg', 'host-a007_cam4_1230485641816094006.jpeg', 'host-a011_cam2_1232841335017605006.jpeg', 'host-a101_cam4_1241889711616660006.jpeg', 'host-a011_cam2_1233963427617605006.jpeg', 'host-a007_cam5_1230936241732827006.jpeg', 'host-a004_cam2_1233422558817652006.jpeg', 'host-a007_cam1_1233955142634286006.jpeg', 'host-a005_cam5_1231201458932576006.jpeg', 'host-a102_cam5_1242510622232056006.jpeg', 'host-a102_cam0_1242510622249156006.jpeg', 'host-a008_cam4_1235777218984403006.jpeg', 'host-a008_cam3_1235777218901057006.jpeg', 'host-a101_cam4_1241893241016660006.jpeg', 'host-a101_cam1_1241893241066660006.jpeg', 'host-a009_cam2_1236013308017752006.jpeg', 'host-a007_cam2_1233960453017643006.jpeg', 'host-a004_cam2_1233422557617652006.jpeg', 'host-a011_cam5_1232492213667719006.jpeg', 'host-a011_cam4_1232492207284485006.jpeg', 'host-a011_cam4_1232492215884485006.jpeg', 'host-a009_cam1_1236015629734319006.jpeg', 'host-a007_cam3_1233955138400869006.jpeg', 'host-a101_cam4_1243095621916083006.jpeg', 'host-a011_cam1_1232841333634517006.jpeg', 'host-a101_cam3_1241889711200000006.jpeg', 'host-a101_cam4_1241889728216660006.jpeg', 'host-a101_cam3_1241889728300000006.jpeg', 'host-a102_cam5_1242510615232249006.jpeg', 'host-a102_cam0_1242510615249319006.jpeg', 'host-a101_cam1_1241889725666660006.jpeg', 'host-a101_cam0_1241889725650000006.jpeg', 'host-a101_cam5_1241889725633330006.jpeg', 'host-a101_cam1_1240877595266660006.jpeg', 'host-a007_cam6_1233955150250905006.jpeg', 'host-a005_cam4_1231201461116091006.jpeg', 'host-a011_cam1_1232835309234517006.jpeg', 'host-a007_cam5_1230936241532827006.jpeg', 'host-a006_cam3_1237322887600777006.jpeg', 'host-a004_cam2_1233422559017652006.jpeg', 'host-a008_cam4_1235777218184403006.jpeg', 'host-a004_cam2_1233014365217652006.jpeg', 'host-a009_cam2_1236013300217752006.jpeg', 'host-a009_cam3_1236013300200980006.jpeg', 'host-a011_cam1_1233964393734517006.jpeg', 'host-a004_cam1_1233535972734300006.jpeg', 'host-a006_cam2_1237322902017711006.jpeg', 'host-a101_cam2_1240877598883330006.jpeg', 'host-a101_cam4_1243095622116098006.jpeg', 'host-a011_cam4_1232492215484485006.jpeg', 'host-a011_cam5_1232492215467719006.jpeg', 'host-a101_cam3_1241472431400000006.jpeg', 'host-a101_cam2_1241472431383330006.jpeg', 'host-a004_cam1_1233421995634300006.jpeg', 'host-a011_cam1_1233964384734517006.jpeg', 'host-a006_cam5_1236038135467650006.jpeg', 'host-a008_cam1_1236016354234433006.jpeg', 'host-a012_cam6_1237329880650881006.jpeg', 'host-a011_cam4_1232839950684485006.jpeg', 'host-a011_cam2_1233963417817605006.jpeg', 'host-a009_cam3_1236013300400980006.jpeg', 'host-a101_cam1_1241472429366660006.jpeg', 'host-a101_cam0_1241472429350000006.jpeg', 'host-a007_cam0_1233955153050897006.jpeg', 'host-a101_cam1_1241472412766660006.jpeg', 'host-a004_cam0_1233421994651064006.jpeg', 'host-a011_cam6_1232492208851145006.jpeg', 'host-a011_cam4_1232492208884485006.jpeg', 'host-a011_cam3_1232492208800995006.jpeg', 'host-a008_cam4_1235777222984403006.jpeg', 'host-a008_cam3_1235777222901057006.jpeg', 'host-a006_cam2_1237322900617711006.jpeg', 'host-a102_cam3_1241904548400000006.jpeg', 'host-a101_cam3_1240877611600000006.jpeg', 'host-a101_cam4_1240877611616660006.jpeg', 'host-a007_cam4_1230936225116094006.jpeg', 'host-a011_cam0_1233964383951142006.jpeg', 'host-a011_cam2_1233963428217605006.jpeg', 'host-a101_cam1_1241893246866660006.jpeg', 'host-a006_cam1_1237322908234412006.jpeg', 'host-a009_cam2_1236015617317752006.jpeg', 'host-a011_cam0_1232835308251142006.jpeg', 'host-a011_cam2_1232835308217605006.jpeg', 'host-a004_cam2_1233422558017652006.jpeg', 'host-a101_cam3_1241893255500000006.jpeg', 'host-a101_cam2_1241893255483330006.jpeg', 'host-a101_cam5_1240877602633330006.jpeg', 'host-a011_cam2_1233963416817605006.jpeg', 'host-a101_cam4_1241893240616660006.jpeg', 'host-a101_cam1_1241893240666660006.jpeg', 'host-a101_cam1_1240877595066660006.jpeg', 'host-a008_cam4_1235777241184403006.jpeg', 'host-a004_cam1_1233014364234300006.jpeg', 'host-a101_cam1_1242493647965979006.jpeg', 'host-a101_cam0_1242493647949512006.jpeg', 'host-a011_cam3_1232492195600995006.jpeg', 'host-a011_cam4_1232492195684485006.jpeg', 'host-a101_cam2_1240877607883330006.jpeg', 'host-a101_cam3_1240877607900000006.jpeg', 'host-a101_cam1_1240877607866660006.jpeg', 'host-a101_cam4_1240877607816660006.jpeg', 'host-a102_cam0_1242684266249556006.jpeg', 'host-a102_cam1_1242684266266142006.jpeg', 'host-a004_cam1_1232815269034300006.jpeg', 'host-a004_cam2_1232815269017652006.jpeg', 'host-a101_cam5_1240877602233330006.jpeg', 'host-a101_cam0_1240877602250000006.jpeg', 'host-a006_cam5_1236038143267650006.jpeg', 'host-a011_cam1_1232755944034517006.jpeg', 'host-a102_cam1_1241468928466660006.jpeg', 'host-a102_cam0_1241904546150000006.jpeg', 'host-a007_cam3_1233960463800869006.jpeg', 'host-a007_cam2_1233960463817643006.jpeg', 'host-a007_cam1_1233960463834286006.jpeg', 'host-a101_cam4_1241893253616660006.jpeg', 'host-a101_cam3_1241893253700000006.jpeg', 'host-a101_cam2_1241893253683330006.jpeg', 'host-a004_cam6_1233947131950948006.jpeg', 'host-a009_cam0_1236015626551162006.jpeg', 'host-a011_cam2_1232835309817605006.jpeg', 'host-a004_cam2_1232825407017652006.jpeg', 'host-a004_cam0_1232833319851064006.jpeg', 'host-a102_cam1_1242662280365638006.jpeg', 'host-a004_cam6_1232815263850948006.jpeg', 'host-a009_cam3_1236015618100980006.jpeg', 'host-a011_cam2_1233963422617605006.jpeg', 'host-a007_cam0_1233955142050897006.jpeg', 'host-a007_cam1_1233955142034286006.jpeg', 'host-a101_cam4_1241893253816660006.jpeg', 'host-a101_cam3_1241893253800000006.jpeg', 'host-a101_cam2_1241893253883330006.jpeg', 'host-a102_cam1_1241878224066660006.jpeg', 'host-a101_cam1_1241472429566660006.jpeg', 'host-a008_cam1_1235776297334433006.jpeg', 'host-a012_cam0_1237329885851020006.jpeg', 'host-a012_cam1_1237329885834261006.jpeg', 'host-a004_cam0_1233963862251064006.jpeg', 'host-a102_cam0_1242510614449319006.jpeg', 'host-a102_cam5_1242510614432249006.jpeg', 'host-a006_cam1_1236038155234412006.jpeg', 'host-a011_cam1_1232755957634517006.jpeg', 'host-a101_cam4_1240877610616660006.jpeg', 'host-a101_cam3_1240877610600000006.jpeg', 'host-a011_cam5_1232492193067719006.jpeg', 'host-a004_cam2_1232825407417652006.jpeg', 'host-a011_cam2_1233963425617605006.jpeg', 'host-a008_cam5_1235776289367733006.jpeg', 'host-a011_cam2_1233963426017605006.jpeg', 'host-a004_cam1_1233602030234300006.jpeg', 'host-a101_cam1_1243102889065564006.jpeg', 'host-a006_cam1_1237322906234412006.jpeg', 'host-a102_cam1_1241904556766660006.jpeg', 'host-a011_cam1_1232817037234517006.jpeg', 'host-a102_cam1_1241904547166660006.jpeg', 'host-a101_cam4_1241893250616660006.jpeg', 'host-a101_cam1_1241893250666660006.jpeg', 'host-a011_cam4_1232492193684485006.jpeg', 'host-a011_cam5_1232492193667719006.jpeg', 'host-a006_cam1_1236037894634412006.jpeg', 'host-a011_cam1_1232817045034517006.jpeg', 'host-a101_cam0_1241472428350000006.jpeg', 'host-a004_cam1_1233602030034300006.jpeg', 'host-a102_cam6_1241904551150000006.jpeg', 'host-a007_cam1_1234551933134286006.jpeg', 'host-a004_cam2_1232817653417652006.jpeg', 'host-a101_cam4_1243095622516172006.jpeg', 'host-a102_cam6_1242510610244000006.jpeg', 'host-a008_cam5_1235777238967733006.jpeg', 'host-a009_cam3_1236015622900980006.jpeg', 'host-a005_cam4_1231201460916091006.jpeg', 'host-a009_cam3_1236013309200980006.jpeg', 'host-a004_cam2_1233421998617652006.jpeg', 'host-a007_cam2_1233007771817643006.jpeg', 'host-a101_cam3_1240877611800000006.jpeg', 'host-a101_cam4_1240877611816660006.jpeg', 'host-a006_cam1_1237322907034412006.jpeg', 'host-a007_cam5_1230936240932827006.jpeg', 'host-a102_cam6_1241468918250000006.jpeg', 'host-a101_cam3_1241889711000000006.jpeg', 'host-a011_cam1_1232839955634517006.jpeg', 'host-a012_cam0_1237329884251020006.jpeg', 'host-a011_cam1_1232817041634517006.jpeg', 'host-a004_cam6_1232815264050948006.jpeg', 'host-a102_cam3_1242684244799660006.jpeg', 'host-a102_cam5_1242510607032293006.jpeg', 'host-a102_cam5_1242510617432264006.jpeg', 'host-a102_cam4_1242510617415623006.jpeg', 'host-a102_cam6_1241904553550000006.jpeg', 'host-a101_cam4_1243095629115964006.jpeg', 'host-a011_cam2_1232755945417605006.jpeg', 'host-a101_cam1_1241893247866660006.jpeg', 'host-a101_cam4_1241893247816660006.jpeg', 'host-a101_cam4_1241893244816660006.jpeg', 'host-a101_cam1_1241893244866660006.jpeg', 'host-a011_cam1_1232817038434517006.jpeg', 'host-a009_cam5_1231200862232771006.jpeg', 'host-a009_cam0_1231200862249157006.jpeg', 'host-a006_cam4_1236038140084380006.jpeg', 'host-a006_cam3_1236038150800777006.jpeg', 'host-a101_cam0_1241472428150000006.jpeg', 'host-a011_cam2_1233963417617605006.jpeg', 'host-a102_cam4_1242510608415594006.jpeg', 'host-a102_cam0_1242662278949393006.jpeg', 'host-a102_cam1_1242662278965683006.jpeg', 'host-a101_cam5_1241462213133330006.jpeg', 'host-a101_cam0_1241462213150000006.jpeg', 'host-a102_cam5_1242510607232293006.jpeg', 'host-a102_cam4_1242510607215623006.jpeg', 'host-a004_cam3_1233616008100897006.jpeg', 'host-a101_cam3_1241893255000000006.jpeg', 'host-a101_cam2_1241893255083330006.jpeg', 'host-a101_cam1_1241893247066660006.jpeg', 'host-a004_cam2_1233422557217652006.jpeg', 'host-a101_cam4_1241893242816660006.jpeg', 'host-a101_cam1_1241893242866660006.jpeg', 'host-a011_cam2_1233963420017605006.jpeg', 'host-a006_cam5_1236038136067650006.jpeg', 'host-a012_cam0_1237329867251020006.jpeg', 'host-a009_cam3_1236015623100980006.jpeg', 'host-a101_cam4_1240877610816660006.jpeg', 'host-a101_cam3_1240877610800000006.jpeg', 'host-a004_cam1_1233616006334300006.jpeg', 'host-a101_cam4_1241462215916660006.jpeg', 'host-a101_cam2_1241472430583330006.jpeg', 'host-a007_cam3_1233955138200869006.jpeg', 'host-a101_cam4_1241893253216660006.jpeg', 'host-a101_cam3_1241893253200000006.jpeg', 'host-a101_cam2_1241893253283330006.jpeg', 'host-a101_cam4_1241889710616660006.jpeg', 'host-a101_cam3_1241889710600000006.jpeg', 'host-a011_cam1_1232817041834517006.jpeg', 'host-a009_cam0_1236015626351162006.jpeg', 'host-a011_cam4_1232492216884485006.jpeg', 'host-a101_cam2_1241472430983330006.jpeg', 'host-a008_cam4_1235777240984403006.jpeg', 'host-a006_cam1_1236037897834412006.jpeg', 'host-a011_cam1_1232841344434517006.jpeg', 'host-a008_cam5_1235776288967733006.jpeg', 'host-a102_cam2_1241904548183330006.jpeg', 'host-a102_cam3_1241904548200000006.jpeg', 'host-a011_cam4_1232492216084485006.jpeg', 'host-a004_cam1_1233422544834300006.jpeg', 'host-a004_cam2_1232815269817652006.jpeg', 'host-a008_cam4_1235777240784403006.jpeg', 'host-a102_cam3_1242510619499452006.jpeg', 'host-a102_cam4_1242510619415623006.jpeg', 'host-a102_cam1_1242662279165683006.jpeg', 'host-a102_cam0_1242662279149378006.jpeg', 'host-a008_cam1_1235776293934433006.jpeg', 'host-a102_cam2_1241468924083330006.jpeg', 'host-a009_cam1_1236015628734319006.jpeg', 'host-a101_cam6_1241472423150000006.jpeg', 'host-a101_cam5_1241889726833330006.jpeg', 'host-a101_cam4_1241889726816660006.jpeg', 'host-a101_cam2_1241889726883330006.jpeg', 'host-a011_cam2_1233964307117605006.jpeg', 'host-a004_cam2_1233947108917652006.jpeg', 'host-a011_cam2_1233963423017605006.jpeg', 'host-a101_cam2_1241893254283330006.jpeg', 'host-a101_cam3_1241893254300000006.jpeg', 'host-a101_cam4_1241893254216660006.jpeg', 'host-a011_cam1_1232755942834517006.jpeg', 'host-a101_cam4_1241893247616660006.jpeg', 'host-a101_cam1_1241893247666660006.jpeg', 'host-a101_cam0_1241472428750000006.jpeg', 'host-a101_cam6_1241472425350000006.jpeg', 'host-a101_cam5_1241462214133330006.jpeg', 'host-a007_cam1_1232470062034286006.jpeg', 'host-a004_cam3_1232815252400897006.jpeg', 'host-a101_cam0_1240877601850000006.jpeg', 'host-a101_cam5_1240877601833330006.jpeg', 'host-a008_cam1_1235776294334433006.jpeg', 'host-a102_cam0_1242662278749393006.jpeg', 'host-a102_cam1_1242662278765683006.jpeg', 'host-a004_cam6_1233422008250948006.jpeg', 'host-a004_cam1_1233616010134300006.jpeg', 'host-a009_cam5_1231200861832771006.jpeg', 'host-a009_cam0_1231200861849157006.jpeg', 'host-a004_cam1_1233616009934300006.jpeg', 'host-a006_cam1_1237322897034412006.jpeg', 'host-a007_cam4_1230485641416094006.jpeg', 'host-a011_cam1_1232817042834517006.jpeg', 'host-a004_cam1_1232833320434300006.jpeg', 'host-a011_cam4_1232492194884485006.jpeg', 'host-a102_cam5_1242510606032279006.jpeg', 'host-a004_cam6_1233535972950948006.jpeg', 'host-a004_cam1_1233535972934300006.jpeg', 'host-a004_cam6_1232815264650948006.jpeg', 'host-a011_cam2_1232755958417605006.jpeg', 'host-a101_cam1_1240877587666660006.jpeg', 'host-a101_cam1_1242493648765890006.jpeg', 'host-a009_cam0_1236015620351162006.jpeg', 'host-a009_cam3_1236013308600980006.jpeg', 'host-a011_cam1_1233964305134517006.jpeg', 'host-a006_cam2_1237322901217711006.jpeg', 'host-a007_cam1_1233955132834286006.jpeg', 'host-a004_cam3_1233963864600897006.jpeg', 'host-a004_cam2_1233963864617652006.jpeg', 'host-a006_cam2_1236037896017711006.jpeg', 'host-a011_cam2_1232839956217605006.jpeg', 'host-a011_cam1_1232839956234517006.jpeg', 'host-a009_cam2_1236015621717752006.jpeg', 'host-a009_cam3_1236013308800980006.jpeg', 'host-a011_cam1_1232755943434517006.jpeg', 'host-a012_cam0_1237329884051020006.jpeg', 'host-a101_cam0_1240877601250000006.jpeg', 'host-a007_cam4_1230936225916094006.jpeg', 'host-a102_cam0_1242684266049556006.jpeg', 'host-a006_cam1_1237322908834412006.jpeg', 'host-a004_cam2_1233602031217652006.jpeg', 'host-a008_cam6_1235776307551058006.jpeg', 'host-a102_cam1_1241878224866660006.jpeg', 'host-a101_cam3_1241893255900000006.jpeg', 'host-a102_cam0_1242684262449512006.jpeg', 'host-a102_cam1_1242684262466142006.jpeg', 'host-a102_cam6_1242684262444000006.jpeg', 'host-a004_cam6_1233535979950948006.jpeg', 'host-a004_cam2_1233535979917652006.jpeg', 'host-a004_cam1_1233963862834300006.jpeg', 'host-a004_cam0_1233963862851064006.jpeg', 'host-a102_cam3_1242662283899512006.jpeg', 'host-a102_cam4_1242662283916053006.jpeg', 'host-a101_cam2_1241889727083330006.jpeg', 'host-a101_cam4_1241889727016660006.jpeg', 'host-a009_cam4_1231200864415930006.jpeg', 'host-a009_cam3_1231200864399238006.jpeg', 'host-a009_cam3_1236013309000980006.jpeg', 'host-a008_cam5_1235776288767733006.jpeg', 'host-a007_cam1_1233960460834286006.jpeg', 'host-a102_cam2_1241904547583330006.jpeg', 'host-a011_cam5_1232492206467719006.jpeg', 'host-a009_cam5_1236014668067552006.jpeg', 'host-a102_cam4_1242510607615623006.jpeg', 'host-a004_cam6_1233011747850948006.jpeg', 'host-a007_cam3_1233960465600869006.jpeg', 'host-a101_cam4_1241462215716660006.jpeg', 'host-a007_cam5_1230485638832827006.jpeg', 'host-a008_cam2_1235776298717906006.jpeg', 'host-a008_cam0_1235776298751171006.jpeg', 'host-a101_cam5_1240877603433330006.jpeg', 'host-a101_cam1_1240877603466660006.jpeg', 'host-a101_cam0_1240877603450000006.jpeg', 'host-a004_cam6_1233011748250948006.jpeg', 'host-a006_cam2_1237322902217711006.jpeg', 'host-a004_cam3_1233947109900897006.jpeg', 'host-a102_cam0_1242684260849482006.jpeg', 'host-a011_cam2_1233963421417605006.jpeg', 'host-a011_cam1_1232755941634517006.jpeg', 'host-a011_cam2_1233963416217605006.jpeg', 'host-a006_cam5_1236038135667650006.jpeg', 'host-a004_cam1_1233615997334300006.jpeg', 'host-a007_cam5_1230485638632827006.jpeg', 'host-a009_cam2_1236013299017752006.jpeg', 'host-a009_cam1_1236013299034319006.jpeg', 'host-a011_cam2_1234553378717605006.jpeg', 'host-a102_cam2_1242684267682782006.jpeg', 'host-a007_cam2_1233955137417643006.jpeg', 'host-a012_cam0_1237329885251020006.jpeg', 'host-a012_cam1_1237329885234261006.jpeg', 'host-a102_cam3_1242662284499497006.jpeg', 'host-a102_cam1_1241878225066660006.jpeg', 'host-a006_cam1_1237322906634412006.jpeg', 'host-a007_cam5_1230485639232827006.jpeg', 'host-a008_cam4_1235777221984403006.jpeg', 'host-a008_cam3_1235777221901057006.jpeg', 'host-a004_cam2_1233535974117652006.jpeg', 'host-a006_cam2_1236037884417711006.jpeg', 'host-a101_cam1_1241472411166660006.jpeg', 'host-a009_cam1_1236013298634319006.jpeg', 'host-a009_cam2_1236013298617752006.jpeg', 'host-a004_cam2_1233616000517652006.jpeg', 'host-a008_cam4_1235777224584403006.jpeg', 'host-a004_cam1_1233961190634300006.jpeg', 'host-a004_cam0_1233963862651064006.jpeg', 'host-a008_cam1_1235776297534433006.jpeg', 'host-a102_cam1_1242662279965653006.jpeg', 'host-a101_cam2_1241472411383330006.jpeg', 'host-a009_cam2_1236013307817752006.jpeg', 'host-a004_cam0_1233963862451064006.jpeg', 'host-a008_cam5_1235776291567733006.jpeg', 'host-a006_cam2_1236037884217711006.jpeg', 'host-a009_cam0_1236014667651162006.jpeg', 'host-a009_cam5_1236014667667552006.jpeg', 'host-a012_cam6_1237329881050881006.jpeg', 'host-a008_cam5_1235776289767733006.jpeg', 'host-a011_cam2_1233963417417605006.jpeg', 'host-a008_cam0_1235776299151171006.jpeg', 'host-a008_cam2_1235776299117906006.jpeg', 'host-a011_cam4_1232492207484485006.jpeg', 'host-a101_cam1_1240877587466660006.jpeg', 'host-a101_cam4_1240877610416660006.jpeg', 'host-a101_cam3_1240877610400000006.jpeg', 'host-a008_cam5_1235777238767733006.jpeg', 'host-a008_cam1_1236016354434433006.jpeg', 'host-a011_cam4_1232492207684485006.jpeg', 'host-a102_cam5_1242510617032234006.jpeg', 'host-a011_cam1_1232755938634517006.jpeg', 'host-a004_cam2_1233421997817652006.jpeg', 'host-a011_cam5_1232492215267719006.jpeg', 'host-a101_cam4_1241893242216660006.jpeg', 'host-a101_cam1_1241893242266660006.jpeg', 'host-a011_cam1_1232755937634517006.jpeg', 'host-a101_cam3_1241893252700000006.jpeg', 'host-a101_cam4_1241893252616660006.jpeg', 'host-a101_cam2_1241893252683330006.jpeg', 'host-a101_cam1_1241893252666660006.jpeg', 'host-a004_cam1_1233615997134300006.jpeg', 'host-a007_cam4_1230936222716094006.jpeg', 'host-a006_cam1_1236038132834412006.jpeg', 'host-a102_cam3_1241904558400000006.jpeg', 'host-a102_cam2_1241904558383330006.jpeg', 'host-a007_cam2_1233960462217643006.jpeg', 'host-a007_cam1_1233960462234286006.jpeg', 'host-a009_cam0_1236015615151162006.jpeg', 'host-a008_cam4_1235777224184403006.jpeg', 'host-a011_cam1_1233964394234517006.jpeg', 'host-a011_cam1_1232755942434517006.jpeg', 'host-a011_cam4_1232492216684485006.jpeg', 'host-a009_cam4_1231200863415930006.jpeg', 'host-a008_cam2_1236016355417906006.jpeg', 'host-a011_cam1_1232817035234517006.jpeg', 'host-a102_cam4_1242510618415623006.jpeg', 'host-a004_cam1_1233602024034300006.jpeg', 'host-a008_cam2_1236016355617906006.jpeg', 'host-a006_cam2_1236038133217711006.jpeg', 'host-a006_cam1_1236037895234412006.jpeg', 'host-a007_cam4_1233955155284150006.jpeg', 'host-a007_cam5_1233955155267475006.jpeg', 'host-a006_cam5_1236038137067650006.jpeg', 'host-a011_cam1_1233964305534517006.jpeg', 'host-a007_cam3_1234551934500869006.jpeg', 'host-a011_cam2_1233964306317605006.jpeg', 'host-a009_cam1_1236013298834319006.jpeg', 'host-a009_cam2_1236013298817752006.jpeg', 'host-a102_cam1_1242684267266112006.jpeg', 'host-a004_cam2_1233616007117652006.jpeg', 'host-a102_cam6_1242684261844000006.jpeg', 'host-a102_cam0_1242684261849482006.jpeg', 'host-a102_cam1_1242684261866172006.jpeg', 'host-a011_cam3_1232817048400995006.jpeg', 'host-a009_cam2_1236015630717752006.jpeg', 'host-a009_cam1_1236015630734319006.jpeg', 'host-a101_cam3_1241472432300000006.jpeg', 'host-a101_cam1_1241893243866660006.jpeg', 'host-a101_cam4_1241893243816660006.jpeg', 'host-a004_cam6_1233535979150948006.jpeg', 'host-a004_cam1_1233422555834300006.jpeg', 'host-a011_cam1_1232755937034517006.jpeg', 'host-a006_cam1_1237322908634412006.jpeg', 'host-a008_cam6_1235776304551058006.jpeg', 'host-a008_cam1_1235776304534433006.jpeg', 'host-a101_cam1_1241893246266660006.jpeg', 'host-a102_cam1_1241468928666660006.jpeg', 'host-a008_cam3_1236016356401057006.jpeg', 'host-a011_cam2_1234553378917605006.jpeg', 'host-a101_cam6_1241472422750000006.jpeg', 'host-a004_cam1_1233602024234300006.jpeg', 'host-a004_cam2_1233602024217652006.jpeg', 'host-a008_cam5_1235777230367733006.jpeg', 'host-a101_cam4_1241893243216660006.jpeg', 'host-a101_cam1_1241893243266660006.jpeg', 'host-a007_cam4_1230936224516094006.jpeg', 'host-a101_cam0_1241889724450000006.jpeg', 'host-a009_cam1_1236015621334319006.jpeg', 'host-a102_cam1_1241904547366660006.jpeg', 'host-a007_cam4_1230936242316094006.jpeg', 'host-a101_cam1_1241886985566660006.jpeg', 'host-a011_cam5_1232492205867719006.jpeg', 'host-a004_cam0_1233422554051064006.jpeg', 'host-a006_cam5_1236038135267650006.jpeg', 'host-a009_cam5_1231200862032771006.jpeg', 'host-a102_cam1_1242662279765668006.jpeg', 'host-a102_cam0_1242662279749363006.jpeg', 'host-a102_cam1_1242662280565683006.jpeg', 'host-a009_cam2_1236015617517752006.jpeg', 'host-a102_cam6_1241904543750000006.jpeg', 'host-a009_cam5_1231200863032771006.jpeg', 'host-a009_cam4_1231200863015930006.jpeg', 'host-a008_cam5_1235776289167733006.jpeg', 'host-a007_cam6_1234740261250905006.jpeg', 'host-a007_cam3_1232470052800869006.jpeg', 'host-a007_cam1_1233960461834286006.jpeg', 'host-a007_cam2_1233960461817643006.jpeg', 'host-a004_cam2_1233011752017652006.jpeg', 'host-a102_cam0_1242510621649156006.jpeg', 'host-a102_cam5_1242510621632234006.jpeg', 'host-a007_cam2_1232470052217643006.jpeg', 'host-a011_cam2_1233963421017605006.jpeg', 'host-a101_cam0_1240877601050000006.jpeg', 'host-a008_cam4_1235777220984403006.jpeg', 'host-a008_cam3_1235777220901057006.jpeg', 'host-a101_cam1_1241472410766660006.jpeg', 'host-a006_cam1_1236038131834412006.jpeg', 'host-a006_cam0_1236038131850935006.jpeg', 'host-a011_cam1_1232755941434517006.jpeg', 'host-a012_cam6_1237329880850881006.jpeg', 'host-a006_cam1_1237322908434412006.jpeg', 'host-a102_cam1_1241468922866660006.jpeg', 'host-a101_cam1_1240877594666660006.jpeg', 'host-a102_cam6_1242510609644000006.jpeg', 'host-a007_cam0_1232470061050897006.jpeg', 'host-a011_cam3_1232755959000995006.jpeg', 'host-a101_cam1_1240877590066660006.jpeg', 'host-a004_cam6_1233422008650948006.jpeg', 'host-a011_cam4_1236037943084485006.jpeg', 'host-a101_cam6_1241472424350000006.jpeg', 'host-a011_cam6_1232492208251145006.jpeg', 'host-a011_cam4_1232492208284485006.jpeg', 'host-a008_cam4_1235777240584403006.jpeg', 'host-a101_cam2_1241472430783330006.jpeg', 'host-a004_cam2_1233422545217652006.jpeg', 'host-a009_cam1_1236015621134319006.jpeg', 'host-a008_cam4_1235777220584403006.jpeg', 'host-a008_cam3_1235777220501057006.jpeg', 'host-a009_cam1_1236013307034319006.jpeg', 'host-a004_cam2_1233014365017652006.jpeg', 'host-a007_cam4_1230936225716094006.jpeg', 'host-a011_cam2_1234553378517605006.jpeg', 'host-a007_cam0_1233960460650897006.jpeg', 'host-a007_cam1_1233960460634286006.jpeg', 'host-a102_cam1_1241468922266660006.jpeg', 'host-a008_cam6_1235776306551058006.jpeg', 'host-a011_cam0_1232841344251142006.jpeg', 'host-a102_cam6_1241904552350000006.jpeg', 'host-a004_cam6_1233535976150948006.jpeg', 'host-a102_cam3_1241904548800000006.jpeg', 'host-a011_cam1_1232817037834517006.jpeg', 'host-a008_cam5_1235776290567733006.jpeg', 'host-a102_cam5_1242510622332042006.jpeg', 'host-a011_cam2_1233963420217605006.jpeg', 'host-a011_cam2_1233963424417605006.jpeg', 'host-a004_cam1_1233963863434300006.jpeg', 'host-a004_cam2_1233963863417652006.jpeg', 'host-a007_cam4_1230936223516094006.jpeg', 'host-a009_cam0_1236015615751162006.jpeg', 'host-a007_cam4_1230936228316094006.jpeg', 'host-a011_cam1_1232839955234517006.jpeg', 'host-a101_cam1_1243102889665475006.jpeg', 'host-a102_cam6_1242510610644000006.jpeg', 'host-a007_cam4_1230936226116094006.jpeg', 'host-a008_cam4_1235776294984403006.jpeg', 'host-a008_cam1_1235776294934433006.jpeg', 'host-a006_cam2_1237322885617711006.jpeg', 'host-a012_cam1_1237329868034261006.jpeg', 'host-a011_cam1_1232841334234517006.jpeg', 'host-a006_cam2_1236038156117711006.jpeg', 'host-a004_cam1_1233421996034300006.jpeg', 'host-a101_cam1_1241472410966660006.jpeg', 'host-a008_cam6_1235776306351058006.jpeg', 'host-a102_cam1_1241468921866660006.jpeg', 'host-a101_cam3_1240877609600000006.jpeg', 'host-a101_cam1_1240877609666660006.jpeg', 'host-a101_cam4_1240877609616660006.jpeg', 'host-a011_cam4_1236037942684485006.jpeg', 'host-a011_cam5_1236037942667719006.jpeg', 'host-a009_cam4_1236014669684403006.jpeg', 'host-a102_cam6_1242684258844000006.jpeg', 'host-a009_cam2_1236013299817752006.jpeg', 'host-a006_cam4_1236038138684380006.jpeg', 'host-a102_cam4_1242510607815623006.jpeg', 'host-a102_cam6_1241904551350000006.jpeg', 'host-a007_cam2_1233960464017643006.jpeg', 'host-a007_cam3_1233960464000869006.jpeg', 'host-a007_cam6_1232490780850905006.jpeg', 'host-a101_cam0_1241889725050000006.jpeg', 'host-a101_cam5_1241889725033330006.jpeg', 'host-a011_cam3_1232841346000995006.jpeg', 'host-a004_cam1_1233014364434300006.jpeg', 'host-a101_cam0_1240877604050000006.jpeg', 'host-a101_cam1_1240877604066660006.jpeg', 'host-a101_cam5_1240877604033330006.jpeg', 'host-a007_cam4_1232490786284150006.jpeg', 'host-a005_cam0_1231201458349279006.jpeg', 'host-a005_cam0_1231201458149279006.jpeg', 'host-a004_cam1_1233615998334300006.jpeg', 'host-a004_cam0_1233615998351064006.jpeg', 'host-a008_cam3_1235777222501057006.jpeg', 'host-a008_cam4_1235777222584403006.jpeg', 'host-a011_cam0_1232755956451142006.jpeg', 'host-a008_cam6_1236016357651058006.jpeg', 'host-a006_cam1_1236037894834412006.jpeg', 'host-a011_cam1_1233964305734517006.jpeg', 'host-a004_cam3_1233421998800897006.jpeg', 'host-a004_cam2_1233421998817652006.jpeg', 'host-a004_cam1_1232833320834300006.jpeg', 'host-a007_cam4_1230485640416094006.jpeg', 'host-a004_cam1_1233961184834300006.jpeg', 'host-a102_cam6_1242510610444000006.jpeg', 'host-a004_cam1_1233422540634300006.jpeg', 'host-a007_cam2_1233007771617643006.jpeg', 'host-a009_cam6_1236014665051075006.jpeg', 'host-a008_cam6_1235776306151058006.jpeg', 'host-a011_cam2_1233963420617605006.jpeg', 'host-a101_cam1_1241893239466660006.jpeg', 'host-a101_cam4_1241893239416660006.jpeg', 'host-a004_cam3_1233963864200897006.jpeg', 'host-a004_cam2_1233963864217652006.jpeg', 'host-a004_cam2_1233961185217652006.jpeg', 'host-a008_cam5_1235776291167733006.jpeg', 'host-a102_cam6_1242684257844000006.jpeg', 'host-a007_cam5_1230485650432827006.jpeg', 'host-a102_cam1_1241904555966660006.jpeg', 'host-a102_cam0_1241904555950000006.jpeg', 'host-a102_cam0_1241904545950000006.jpeg', 'host-a008_cam5_1235776293367733006.jpeg', 'host-a008_cam1_1235776293334433006.jpeg', 'host-a101_cam2_1241893254883330006.jpeg', 'host-a101_cam3_1241893254900000006.jpeg', 'host-a009_cam1_1236015626934319006.jpeg', 'host-a011_cam2_1232485958317605006.jpeg', 'host-a004_cam2_1233535973717652006.jpeg', 'host-a009_cam0_1231200861649157006.jpeg', 'host-a009_cam5_1231200861632771006.jpeg', 'host-a102_cam1_1242684266666112006.jpeg', 'host-a102_cam0_1242684266649556006.jpeg', 'host-a006_cam1_1237322906834412006.jpeg', 'host-a009_cam6_1236015620751075006.jpeg', 'host-a009_cam1_1236015620734319006.jpeg', 'host-a004_cam3_1233963864800897006.jpeg', 'host-a008_cam6_1235777239551058006.jpeg', 'host-a008_cam5_1235777239567733006.jpeg', 'host-a007_cam4_1230485651016094006.jpeg', 'host-a102_cam2_1242684264282797006.jpeg', 'host-a102_cam3_1242684264299571006.jpeg', 'host-a102_cam6_1242684264244000006.jpeg', 'host-a004_cam1_1232817652834300006.jpeg', 'host-a011_cam0_1232835308451142006.jpeg', 'host-a011_cam2_1232835308417605006.jpeg', 'host-a102_cam2_1241468923683330006.jpeg', 'host-a011_cam3_1232841345800995006.jpeg', 'host-a004_cam1_1233422540834300006.jpeg', 'host-a004_cam1_1233422555034300006.jpeg', 'host-a007_cam3_1233960465800869006.jpeg', 'host-a101_cam1_1240877591466660006.jpeg', 'host-a101_cam3_1241472432000000006.jpeg', 'host-a004_cam1_1232833320634300006.jpeg', 'host-a004_cam1_1233422541234300006.jpeg', 'host-a012_cam1_1237329886234261006.jpeg', 'host-a012_cam2_1237329886217630006.jpeg', 'host-a005_cam5_1231201459132576006.jpeg', 'host-a008_cam2_1236016355817906006.jpeg', 'host-a011_cam2_1233963418217605006.jpeg', 'host-a011_cam1_1232817037634517006.jpeg', 'host-a009_cam0_1236015615551162006.jpeg', 'host-a007_cam2_1233960464417643006.jpeg', 'host-a006_cam1_1236037895434412006.jpeg', 'host-a101_cam1_1240877590266660006.jpeg', 'host-a012_cam1_1237329868634261006.jpeg', 'host-a004_cam1_1233961190034300006.jpeg', 'host-a004_cam2_1233602031017652006.jpeg', 'host-a101_cam3_1241889728400000006.jpeg', 'host-a101_cam4_1241889728416660006.jpeg', 'host-a011_cam2_1233963418817605006.jpeg', 'host-a004_cam0_1233535977151064006.jpeg', 'host-a004_cam6_1233535977150948006.jpeg', 'host-a102_cam2_1241878201483330006.jpeg', 'host-a004_cam2_1233011752617652006.jpeg', 'host-a009_cam4_1231200863815930006.jpeg', 'host-a008_cam4_1235777223184403006.jpeg', 'host-a008_cam3_1235777223101057006.jpeg', 'host-a102_cam3_1242684245299660006.jpeg', 'host-a102_cam1_1241468923066660006.jpeg', 'host-a012_cam2_1237329868817630006.jpeg', 'host-a102_cam3_1242684244699660006.jpeg', 'host-a006_cam6_1236037891850930006.jpeg', 'host-a102_cam5_1242510606432293006.jpeg', 'host-a009_cam0_1236015625951162006.jpeg', 'host-a007_cam2_1233955137017643006.jpeg', 'host-a004_cam6_1233422552850948006.jpeg', 'host-a009_cam6_1236015619751075006.jpeg', 'host-a102_cam2_1241468923483330006.jpeg', 'host-a008_cam3_1235777241501057006.jpeg', 'host-a008_cam4_1235777241584403006.jpeg', 'host-a011_cam2_1232841345617605006.jpeg', 'host-a101_cam3_1241472431200000006.jpeg', 'host-a101_cam2_1241472431183330006.jpeg', 'host-a005_cam4_1231201460316091006.jpeg', 'host-a006_cam1_1237322897634412006.jpeg', 'host-a006_cam3_1237322887000777006.jpeg', 'host-a102_cam1_1241878224466660006.jpeg', 'host-a101_cam4_1241893240016660006.jpeg', 'host-a101_cam1_1241893240066660006.jpeg', 'host-a011_cam3_1232492217100995006.jpeg', 'host-a011_cam4_1232492217184485006.jpeg', 'host-a011_cam1_1232755938034517006.jpeg', 'host-a011_cam5_1232492206267719006.jpeg', 'host-a007_cam4_1230936224916094006.jpeg', 'host-a004_cam0_1233535971951064006.jpeg', 'host-a006_cam4_1236038139284380006.jpeg', 'host-a102_cam0_1242684265649556006.jpeg', 'host-a007_cam4_1230936234716094006.jpeg', 'host-a101_cam1_1243102891065875006.jpeg', 'host-a102_cam2_1241904547783330006.jpeg', 'host-a101_cam2_1241886992783330006.jpeg', 'host-a102_cam4_1242510619015623006.jpeg', 'host-a102_cam3_1242510619099452006.jpeg', 'host-a102_cam4_1242510617615623006.jpeg', 'host-a101_cam2_1242493649182812006.jpeg', 'host-a101_cam1_1242493649165890006.jpeg', 'host-a007_cam4_1230936222916094006.jpeg', 'host-a008_cam5_1235777239767733006.jpeg', 'host-a008_cam6_1235777239751058006.jpeg', 'host-a101_cam1_1240877595666660006.jpeg', 'host-a007_cam2_1233007771217643006.jpeg', 'host-a007_cam4_1230936243116094006.jpeg', 'host-a007_cam3_1230936243099360006.jpeg', 'host-a009_cam5_1236014672867552006.jpeg', 'host-a006_cam2_1237322899817711006.jpeg', 'host-a011_cam1_1232817036034517006.jpeg', 'host-a102_cam6_1242684264844000006.jpeg', 'host-a102_cam3_1242684264799571006.jpeg', 'host-a102_cam2_1242684264882797006.jpeg', 'host-a006_cam2_1236038149417711006.jpeg', 'host-a101_cam1_1240877592466660006.jpeg', 'host-a007_cam2_1233007772017643006.jpeg', 'host-a007_cam3_1233007772000869006.jpeg', 'host-a006_cam1_1236037888634412006.jpeg', 'host-a011_cam2_1232839957417605006.jpeg', 'host-a011_cam3_1232839957400995006.jpeg', 'host-a004_cam3_1233535975100897006.jpeg', 'host-a102_cam6_1242510610844000006.jpeg', 'host-a009_cam1_1236015628134319006.jpeg', 'host-a102_cam5_1242510615432249006.jpeg', 'host-a102_cam0_1242510615449319006.jpeg', 'host-a007_cam4_1230936227916094006.jpeg', 'host-a011_cam1_1232755940234517006.jpeg', 'host-a102_cam6_1241904552950000006.jpeg', 'host-a011_cam2_1233963419017605006.jpeg', 'host-a011_cam2_1233963422217605006.jpeg', 'host-a011_cam2_1232841335217605006.jpeg', 'host-a101_cam4_1240877608416660006.jpeg', 'host-a101_cam1_1240877608466660006.jpeg', 'host-a101_cam3_1240877608400000006.jpeg', 'host-a008_cam4_1235777223584403006.jpeg', 'host-a011_cam1_1232817044434517006.jpeg', 'host-a011_cam2_1233963428817605006.jpeg', 'host-a011_cam3_1233963428800995006.jpeg', 'host-a008_cam5_1235777230567733006.jpeg', 'host-a102_cam6_1241468919050000006.jpeg', 'host-a006_cam2_1236038133617711006.jpeg', 'host-a101_cam2_1241893252883330006.jpeg', 'host-a101_cam4_1241893252816660006.jpeg', 'host-a101_cam3_1241893252900000006.jpeg', 'host-a006_cam1_1237322904234412006.jpeg', 'host-a004_cam2_1233014364817652006.jpeg', 'host-a004_cam2_1233617939917652006.jpeg', 'host-a006_cam4_1236038143884380006.jpeg', 'host-a004_cam3_1232815270200897006.jpeg', 'host-a009_cam1_1236015627934319006.jpeg', 'host-a006_cam5_1236038136667650006.jpeg', 'host-a008_cam5_1235777237967733006.jpeg', 'host-a011_cam5_1232492215067719006.jpeg', 'host-a101_cam1_1243102889865609006.jpeg', 'host-a102_cam4_1242510619815623006.jpeg', 'host-a004_cam0_1233535977551064006.jpeg', 'host-a004_cam6_1233535977550948006.jpeg', 'host-a102_cam6_1241468917650000006.jpeg', 'host-a004_cam1_1233615997534300006.jpeg', 'host-a007_cam5_1230485649832827006.jpeg', 'host-a101_cam1_1241893245066660006.jpeg', 'host-a007_cam1_1232470061434286006.jpeg', 'host-a008_cam5_1235776290967733006.jpeg', 'host-a006_cam5_1236038137267650006.jpeg', 'host-a006_cam5_1236038137467650006.jpeg', 'host-a101_cam3_1241893255700000006.jpeg', 'host-a102_cam6_1241904552750000006.jpeg', 'host-a011_cam2_1232755957817605006.jpeg', 'host-a011_cam2_1233963428017605006.jpeg', 'host-a006_cam3_1236038134400777006.jpeg', 'host-a006_cam2_1236038134417711006.jpeg', 'host-a006_cam0_1236038134450935006.jpeg', 'host-a006_cam5_1236038134467650006.jpeg', 'host-a102_cam1_1242662278565683006.jpeg', 'host-a008_cam1_1235776294734433006.jpeg', 'host-a008_cam4_1235776294784403006.jpeg', 'host-a009_cam1_1236015626734319006.jpeg', 'host-a102_cam5_1242510605432293006.jpeg', 'host-a102_cam0_1242510605449215006.jpeg', 'host-a102_cam0_1241878200450000006.jpeg', 'host-a102_cam1_1241878200466660006.jpeg', 'host-a007_cam0_1232470060850897006.jpeg', 'host-a008_cam6_1235776305951058006.jpeg', 'host-a008_cam1_1235776305934433006.jpeg', 'host-a101_cam5_1241462214933330006.jpeg', 'host-a101_cam4_1241462214916660006.jpeg', 'host-a101_cam1_1240877593466660006.jpeg', 'host-a008_cam5_1235776288567733006.jpeg', 'host-a011_cam1_1232835309434517006.jpeg', 'host-a007_cam2_1233960453417643006.jpeg', 'host-a007_cam1_1233960453434286006.jpeg', 'host-a009_cam2_1236013307617752006.jpeg', 'host-a008_cam4_1235777219984403006.jpeg', 'host-a008_cam3_1235777219901057006.jpeg', 'host-a011_cam2_1232839956617605006.jpeg', 'host-a008_cam5_1235776290767733006.jpeg', 'host-a007_cam6_1233955150050905006.jpeg', 'host-a102_cam1_1242662280765727006.jpeg', 'host-a102_cam2_1242662280782353006.jpeg', 'host-a007_cam3_1232470052600869006.jpeg', 'host-a008_cam0_1235777238351171006.jpeg', 'host-a008_cam5_1235777238367733006.jpeg', 'host-a011_cam1_1233964394134517006.jpeg', 'host-a006_cam2_1237322902417711006.jpeg', 'host-a101_cam6_1241472423950000006.jpeg', 'host-a004_cam3_1233014366000897006.jpeg', 'host-a006_cam1_1236038148234412006.jpeg', 'host-a102_cam3_1241904559200000006.jpeg', 'host-a004_cam2_1233616007317652006.jpeg', 'host-a011_cam4_1232492216484485006.jpeg', 'host-a006_cam1_1237322907234412006.jpeg', 'host-a007_cam3_1233955144200869006.jpeg', 'host-a102_cam1_1242684262266172006.jpeg', 'host-a102_cam6_1242684262244000006.jpeg', 'host-a102_cam0_1242684262249497006.jpeg', 'host-a011_cam1_1232817041034517006.jpeg', 'host-a011_cam1_1232839956034517006.jpeg', 'host-a008_cam3_1235777220701057006.jpeg', 'host-a008_cam4_1235777220784403006.jpeg', 'host-a012_cam0_1237329885651020006.jpeg', 'host-a012_cam1_1237329885634261006.jpeg', 'host-a011_cam6_1232839945651145006.jpeg', 'host-a004_cam6_1233963859450948006.jpeg', 'host-a008_cam5_1235777238567733006.jpeg', 'host-a011_cam1_1234553378134517006.jpeg', 'host-a011_cam1_1232817039434517006.jpeg', 'host-a012_cam0_1237329867051020006.jpeg', 'host-a102_cam5_1242510606232279006.jpeg', 'host-a006_cam4_1236038144884380006.jpeg', 'host-a011_cam1_1232835308034517006.jpeg', 'host-a011_cam1_1232755936834517006.jpeg', 'host-a101_cam1_1240877606466660006.jpeg', 'host-a101_cam2_1240877606483330006.jpeg', 'host-a102_cam3_1242684268299586006.jpeg', 'host-a102_cam2_1242684268282782006.jpeg', 'host-a101_cam4_1241889727816660006.jpeg', 'host-a101_cam3_1241889727800000006.jpeg', 'host-a101_cam4_1241893253416660006.jpeg', 'host-a101_cam3_1241893253500000006.jpeg', 'host-a101_cam2_1241893253483330006.jpeg', 'host-a004_cam1_1233535978934300006.jpeg', 'host-a004_cam6_1233535978950948006.jpeg', 'host-a011_cam1_1234553377534517006.jpeg', 'host-a008_cam4_1235777240384403006.jpeg', 'host-a011_cam2_1233963419617605006.jpeg', 'host-a011_cam5_1232492205267719006.jpeg', 'host-a011_cam0_1232492205251142006.jpeg', 'host-a004_cam0_1233422553651064006.jpeg', 'host-a101_cam1_1240877591266660006.jpeg', 'host-a008_cam4_1235777223384403006.jpeg', 'host-a101_cam4_1241893251016660006.jpeg', 'host-a101_cam1_1241893251066660006.jpeg', 'host-a004_cam6_1233947132350948006.jpeg', 'host-a004_cam0_1233421994451064006.jpeg', 'host-a011_cam5_1232839948867719006.jpeg', 'host-a011_cam3_1232485959300995006.jpeg', 'host-a004_cam1_1233602023034300006.jpeg', 'host-a009_cam6_1231200859249231006.jpeg', 'host-a008_cam4_1235777218584403006.jpeg', 'host-a101_cam6_1241472423750000006.jpeg', 'host-a102_cam6_1242684258644000006.jpeg', 'host-a007_cam1_1233960452034286006.jpeg', 'host-a011_cam2_1233963423217605006.jpeg', 'host-a011_cam2_1232755945817605006.jpeg', 'host-a101_cam4_1241893241816660006.jpeg', 'host-a101_cam1_1241893241866660006.jpeg', 'host-a011_cam3_1232817048000995006.jpeg', 'host-a009_cam1_1236015628534319006.jpeg', 'host-a009_cam6_1231200859049231006.jpeg', 'host-a101_cam1_1240877593666660006.jpeg', 'host-a009_cam1_1236015620934319006.jpeg', 'host-a011_cam1_1232817039634517006.jpeg', 'host-a101_cam0_1240877604250000006.jpeg', 'host-a101_cam1_1240877604266660006.jpeg', 'host-a101_cam5_1240877604233330006.jpeg', 'host-a101_cam1_1241893245866660006.jpeg', 'host-a102_cam2_1242684263682797006.jpeg', 'host-a102_cam6_1242684263644000006.jpeg', 'host-a102_cam1_1242684263666127006.jpeg', 'host-a102_cam3_1242684263699571006.jpeg', 'host-a004_cam1_1233602023434300006.jpeg', 'host-a007_cam1_1233960465034286006.jpeg', 'host-a007_cam2_1233960465017643006.jpeg', 'host-a007_cam3_1233960465000869006.jpeg', 'host-a005_cam5_1231201459532576006.jpeg', 'host-a004_cam1_1233616006734300006.jpeg', 'host-a007_cam0_1233955153850897006.jpeg', 'host-a007_cam5_1233955153867475006.jpeg', 'host-a101_cam1_1240877608266660006.jpeg', 'host-a101_cam4_1240877608216660006.jpeg', 'host-a101_cam3_1240877608200000006.jpeg', 'host-a101_cam2_1240877608283330006.jpeg', 'host-a004_cam1_1233422554834300006.jpeg', 'host-a101_cam1_1241893250466660006.jpeg', 'host-a101_cam4_1241893250416660006.jpeg', 'host-a011_cam2_1232755958217605006.jpeg', 'host-a008_cam5_1235776291367733006.jpeg', 'host-a006_cam1_1236038148634412006.jpeg', 'host-a011_cam3_1232841346400995006.jpeg', 'host-a101_cam1_1240877588666660006.jpeg', 'host-a004_cam1_1233617939134300006.jpeg', 'host-a007_cam4_1230936228516094006.jpeg', 'host-a009_cam1_1236015616534319006.jpeg', 'host-a004_cam3_1232833322400897006.jpeg', 'host-a008_cam4_1235777221584403006.jpeg', 'host-a008_cam3_1235777221501057006.jpeg', 'host-a004_cam3_1232833322200897006.jpeg', 'host-a004_cam2_1232833322217652006.jpeg', 'host-a007_cam6_1233955149650905006.jpeg', 'host-a101_cam1_1241889726266660006.jpeg', 'host-a101_cam5_1241889726233330006.jpeg', 'host-a004_cam2_1233602024817652006.jpeg', 'host-a008_cam5_1235776291767733006.jpeg', 'host-a102_cam6_1241904542750000006.jpeg', 'host-a102_cam6_1242684260444000006.jpeg', 'host-a009_cam5_1236014668867552006.jpeg', 'host-a101_cam3_1241889727200000006.jpeg', 'host-a101_cam2_1241889727283330006.jpeg', 'host-a101_cam4_1241889727216660006.jpeg', 'host-a004_cam2_1233422559217652006.jpeg', 'host-a007_cam5_1230485640032827006.jpeg', 'host-a102_cam5_1242510616232234006.jpeg', 'host-a102_cam3_1242662281899482006.jpeg', 'host-a102_cam5_1242662281932530006.jpeg', 'host-a006_cam1_1236038149034412006.jpeg', 'host-a006_cam1_1237322907834412006.jpeg', 'host-a008_cam6_1235777239351058006.jpeg', 'host-a008_cam5_1235777239367733006.jpeg', 'host-a008_cam3_1235777217101057006.jpeg', 'host-a008_cam4_1235777217184403006.jpeg', 'host-a011_cam2_1233963423417605006.jpeg', 'host-a101_cam1_1240877588866660006.jpeg', 'host-a006_cam5_1236038137667650006.jpeg', 'host-a004_cam2_1233947109517652006.jpeg', 'host-a004_cam6_1232815264850948006.jpeg', 'host-a011_cam1_1232817042434517006.jpeg', 'host-a007_cam4_1230936242116094006.jpeg', 'host-a008_cam2_1236016355017906006.jpeg', 'host-a009_cam5_1236014668467552006.jpeg', 'host-a101_cam1_1241893249866660006.jpeg', 'host-a101_cam4_1241893249816660006.jpeg', 'host-a004_cam1_1233421994834300006.jpeg', 'host-a004_cam0_1233421994851064006.jpeg', 'host-a101_cam2_1241472430383330006.jpeg', 'host-a004_cam3_1233616001900897006.jpeg', 'host-a101_cam1_1241472412566660006.jpeg', 'host-a101_cam1_1240877591066660006.jpeg', 'host-a102_cam6_1242684263444000006.jpeg', 'host-a102_cam2_1242684263482812006.jpeg', 'host-a102_cam1_1242684263466127006.jpeg', 'host-a011_cam2_1233963425217605006.jpeg', 'host-a102_cam0_1241904546550000006.jpeg', 'host-a102_cam0_1241904555350000006.jpeg', 'host-a009_cam0_1236013305651162006.jpeg', 'host-a004_cam1_1233011751234300006.jpeg', 'host-a011_cam5_1232492193467719006.jpeg', 'host-a102_cam2_1241904557383330006.jpeg', 'host-a101_cam1_1240877606266660006.jpeg', 'host-a008_cam5_1235776287567733006.jpeg', 'host-a008_cam5_1235776292767733006.jpeg', 'host-a004_cam1_1233616006534300006.jpeg', 'host-a011_cam6_1232492209051145006.jpeg', 'host-a011_cam4_1232492209084485006.jpeg', 'host-a011_cam3_1232492209000995006.jpeg', 'host-a011_cam2_1232817045817605006.jpeg', 'host-a011_cam1_1232817045834517006.jpeg', 'host-a004_cam6_1233947132750948006.jpeg', 'host-a004_cam3_1233014365800897006.jpeg', 'host-a101_cam6_1240877604650000006.jpeg', 'host-a101_cam5_1240877604633330006.jpeg', 'host-a101_cam1_1240877604666660006.jpeg', 'host-a101_cam0_1240877604650000006.jpeg', 'host-a011_cam1_1232755941034517006.jpeg', 'host-a011_cam2_1232841345417605006.jpeg', 'host-a101_cam4_1240877607016660006.jpeg', 'host-a101_cam2_1240877607083330006.jpeg', 'host-a101_cam1_1240877594266660006.jpeg', 'host-a101_cam0_1240877608650000006.jpeg', 'host-a101_cam2_1240877608683330006.jpeg', 'host-a101_cam1_1240877608666660006.jpeg', 'host-a101_cam3_1240877608600000006.jpeg', 'host-a101_cam4_1240877608616660006.jpeg', 'host-a006_cam2_1237322898417711006.jpeg', 'host-a011_cam2_1233963428417605006.jpeg', 'host-a102_cam6_1242684259644000006.jpeg', 'host-a102_cam6_1241904542150000006.jpeg', 'host-a007_cam0_1233955141850897006.jpeg', 'host-a006_cam1_1236038133034412006.jpeg', 'host-a101_cam1_1240877596066660006.jpeg', 'host-a102_cam3_1241904559000000006.jpeg', 'host-a006_cam4_1236038144084380006.jpeg', 'host-a006_cam2_1236038133417711006.jpeg', 'host-a008_cam1_1235776300134433006.jpeg', 'host-a008_cam6_1235776300151058006.jpeg', 'host-a008_cam3_1235776300101057006.jpeg', 'host-a102_cam3_1242684265299571006.jpeg', 'host-a102_cam6_1242684265244000006.jpeg', 'host-a101_cam1_1241886985366660006.jpeg', 'host-a007_cam1_1233955135434286006.jpeg', 'host-a007_cam2_1233955135417643006.jpeg', 'host-a101_cam1_1243102889465475006.jpeg', 'host-a004_cam6_1233963859650948006.jpeg', 'host-a011_cam2_1232755935417605006.jpeg', 'host-a102_cam3_1242684269199586006.jpeg', 'host-a011_cam1_1232817040434517006.jpeg', 'host-a101_cam1_1240877595866660006.jpeg', 'host-a101_cam1_1241893242466660006.jpeg', 'host-a101_cam4_1241893242416660006.jpeg', 'host-a009_cam0_1236014667451162006.jpeg', 'host-a004_cam2_1233615997917652006.jpeg', 'host-a011_cam2_1233963427817605006.jpeg', 'host-a101_cam5_1241462213333330006.jpeg', 'host-a101_cam0_1241462213350000006.jpeg', 'host-a009_cam6_1231200858649231006.jpeg', 'host-a008_cam1_1236016354834433006.jpeg', 'host-a101_cam6_1241472422950000006.jpeg', 'host-a102_cam4_1242510618815623006.jpeg', 'host-a102_cam3_1242510618899452006.jpeg', 'host-a006_cam2_1236038155617711006.jpeg', 'host-a011_cam1_1232755937434517006.jpeg', 'host-a008_cam5_1235777231167733006.jpeg', 'host-a007_cam6_1232470055050905006.jpeg', 'host-a101_cam4_1240877607216660006.jpeg', 'host-a101_cam2_1240877607283330006.jpeg', 'host-a101_cam4_1241893240816660006.jpeg', 'host-a101_cam1_1241893240866660006.jpeg', 'host-a004_cam2_1233422557817652006.jpeg', 'host-a011_cam0_1232841343651142006.jpeg', 'host-a009_cam4_1231200863615930006.jpeg', 'host-a007_cam0_1233955132250897006.jpeg', 'host-a008_cam4_1235777225384403006.jpeg', 'host-a008_cam3_1235777225301057006.jpeg', 'host-a006_cam4_1236038139084380006.jpeg', 'host-a102_cam6_1241904543350000006.jpeg', 'host-a102_cam6_1241468918450000006.jpeg', 'host-a009_cam1_1236015630934319006.jpeg', 'host-a009_cam2_1236015630917752006.jpeg', 'host-a011_cam4_1232492194684485006.jpeg', 'host-a007_cam4_1230485641016094006.jpeg', 'host-a011_cam1_1232817036434517006.jpeg', 'host-a102_cam5_1242510606632293006.jpeg', 'host-a012_cam1_1237329886834261006.jpeg', 'host-a012_cam2_1237329886817630006.jpeg', 'host-a102_cam2_1241904557183330006.jpeg', 'host-a102_cam1_1241904557166660006.jpeg', 'host-a008_cam6_1235777239151058006.jpeg', 'host-a008_cam5_1235777239167733006.jpeg', 'host-a004_cam0_1233014364051064006.jpeg', 'host-a011_cam1_1232841334034517006.jpeg', 'host-a009_cam2_1236013299617752006.jpeg', 'host-a006_cam1_1236038149234412006.jpeg', 'host-a008_cam3_1236016356201057006.jpeg', 'host-a011_cam3_1232835311200995006.jpeg', 'host-a011_cam6_1232839945251145006.jpeg', 'host-a008_cam2_1235776301517906006.jpeg', 'host-a004_cam3_1233963865000897006.jpeg', 'host-a102_cam0_1242662280949363006.jpeg', 'host-a102_cam2_1242662280982382006.jpeg', 'host-a007_cam2_1233955143417643006.jpeg', 'host-a102_cam3_1242662282299512006.jpeg', 'host-a102_cam5_1242662282332530006.jpeg', 'host-a007_cam3_1232470053000869006.jpeg', 'host-a004_cam1_1233422544434300006.jpeg', 'host-a006_cam1_1236038132234412006.jpeg', 'host-a011_cam1_1232817034634517006.jpeg', 'host-a007_cam1_1233960452634286006.jpeg', 'host-a102_cam1_1242684261466172006.jpeg', 'host-a102_cam0_1242684261449482006.jpeg', 'host-a102_cam6_1242684261444000006.jpeg', 'host-a004_cam0_1233616005751064006.jpeg', 'host-a101_cam4_1243095621716083006.jpeg', 'host-a011_cam1_1233964393934517006.jpeg', 'host-a102_cam6_1242684264044000006.jpeg', 'host-a102_cam2_1242684264082797006.jpeg', 'host-a102_cam3_1242684263999571006.jpeg', 'host-a102_cam6_1241904551950000006.jpeg', 'host-a011_cam2_1232817046017605006.jpeg', 'host-a011_cam1_1232817046034517006.jpeg', 'host-a006_cam5_1236038136267650006.jpeg', 'host-a007_cam1_1233955133234286006.jpeg', 'host-a011_cam1_1232817039034517006.jpeg', 'host-a011_cam2_1233963425017605006.jpeg', 'host-a007_cam5_1230936240532827006.jpeg', 'host-a007_cam0_1230936240549429006.jpeg', 'host-a007_cam4_1230936242716094006.jpeg', 'host-a007_cam1_1233960461234286006.jpeg', 'host-a102_cam6_1242684261644000006.jpeg', 'host-a102_cam0_1242684261649482006.jpeg', 'host-a102_cam1_1242684261666172006.jpeg', 'host-a007_cam5_1230485650232827006.jpeg', 'host-a011_cam0_1232835308651142006.jpeg', 'host-a011_cam2_1232835308617605006.jpeg', 'host-a006_cam4_1236038139484380006.jpeg', 'host-a011_cam0_1232492204851142006.jpeg', 'host-a006_cam1_1236037888434412006.jpeg', 'host-a004_cam2_1233615998117652006.jpeg', 'host-a101_cam5_1243095623732649006.jpeg', 'host-a101_cam3_1241472431800000006.jpeg', 'host-a101_cam4_1241889727416660006.jpeg', 'host-a101_cam3_1241889727400000006.jpeg', 'host-a101_cam2_1241889727483330006.jpeg', 'host-a101_cam1_1241893241666660006.jpeg', 'host-a101_cam4_1241893241616660006.jpeg', 'host-a102_cam5_1242510616832234006.jpeg', 'host-a011_cam5_1232492205667719006.jpeg', 'host-a012_cam6_1237329863050881006.jpeg', 'host-a004_cam1_1233421996634300006.jpeg', 'host-a004_cam1_1232833321234300006.jpeg', 'host-a006_cam3_1237322887400777006.jpeg', 'host-a004_cam1_1233602029634300006.jpeg', 'host-a011_cam2_1233963417017605006.jpeg', 'host-a011_cam2_1232817047817605006.jpeg', 'host-a007_cam1_1233955136034286006.jpeg', 'host-a101_cam4_1241893248816660006.jpeg', 'host-a101_cam1_1241893248866660006.jpeg', 'host-a007_cam1_1232470061634286006.jpeg', 'host-a007_cam2_1233960453617643006.jpeg', 'host-a101_cam5_1241462214733330006.jpeg', 'host-a007_cam2_1233955138017643006.jpeg', 'host-a004_cam6_1233535973550948006.jpeg', 'host-a004_cam1_1233535973534300006.jpeg', 'host-a101_cam1_1240877603666660006.jpeg', 'host-a101_cam0_1240877603650000006.jpeg', 'host-a101_cam5_1240877603633330006.jpeg', 'host-a102_cam6_1242684264444000006.jpeg', 'host-a102_cam3_1242684264499571006.jpeg', 'host-a102_cam2_1242684264482797006.jpeg', 'host-a004_cam1_1233422556234300006.jpeg', 'host-a004_cam6_1233422556250948006.jpeg', 'host-a008_cam6_1235776303751058006.jpeg', 'host-a007_cam0_1233960460450897006.jpeg', 'host-a007_cam1_1233960460434286006.jpeg', 'host-a006_cam2_1236038156017711006.jpeg', 'host-a008_cam4_1235777241384403006.jpeg', 'host-a101_cam1_1240877587266660006.jpeg', 'host-a004_cam1_1233617939534300006.jpeg', 'host-a006_cam5_1236038142667650006.jpeg', 'host-a004_cam2_1233422559417652006.jpeg', 'host-a007_cam1_1233955136434286006.jpeg', 'host-a102_cam3_1242684269099586006.jpeg', 'host-a102_cam0_1242510621449156006.jpeg', 'host-a102_cam5_1242510621432279006.jpeg', 'host-a008_cam5_1235776289567733006.jpeg', 'host-a006_cam3_1236038140200777006.jpeg', 'host-a006_cam4_1236038140284380006.jpeg', 'host-a007_cam5_1230485640232827006.jpeg', 'host-a008_cam4_1235777218784403006.jpeg', 'host-a007_cam4_1233955155884150006.jpeg', 'host-a007_cam5_1233955155867475006.jpeg', 'host-a011_cam2_1233963428617605006.jpeg', 'host-a011_cam3_1233963428600995006.jpeg', 'host-a011_cam5_1232492213867719006.jpeg', 'host-a008_cam3_1235777222101057006.jpeg', 'host-a008_cam4_1235777222184403006.jpeg', 'host-a007_cam1_1233960463434286006.jpeg', 'host-a007_cam3_1233960463400869006.jpeg', 'host-a007_cam2_1233960463417643006.jpeg', 'host-a011_cam1_1232817035634517006.jpeg', 'host-a101_cam4_1241893247416660006.jpeg', 'host-a101_cam1_1241893247466660006.jpeg', 'host-a004_cam6_1233011748450948006.jpeg', 'host-a012_cam1_1237329886434261006.jpeg', 'host-a012_cam2_1237329886417630006.jpeg', 'host-a102_cam3_1241904549000000006.jpeg', 'host-a101_cam5_1241462213933330006.jpeg', 'host-a102_cam6_1241468919650000006.jpeg', 'host-a101_cam4_1243095629315964006.jpeg', 'host-a006_cam2_1236037888817711006.jpeg', 'host-a007_cam1_1233960461634286006.jpeg', 'host-a007_cam2_1233960461617643006.jpeg', 'host-a006_cam2_1236037898817711006.jpeg', 'host-a011_cam2_1232839957017605006.jpeg', 'host-a006_cam6_1236037891050930006.jpeg', 'host-a102_cam2_1242684267482782006.jpeg', 'host-a101_cam4_1241889729016660006.jpeg', 'host-a101_cam3_1241889729100000006.jpeg', 'host-a011_cam1_1232835309634517006.jpeg', 'host-a101_cam1_1241893243666660006.jpeg', 'host-a101_cam4_1241893243616660006.jpeg', 'host-a101_cam1_1240877602866660006.jpeg', 'host-a101_cam5_1240877602833330006.jpeg', 'host-a102_cam0_1241904556350000006.jpeg', 'host-a102_cam1_1241904556366660006.jpeg', 'host-a101_cam1_1241886985966660006.jpeg', 'host-a101_cam2_1241886985983330006.jpeg', 'host-a101_cam2_1241893254483330006.jpeg', 'host-a101_cam4_1241893254416660006.jpeg', 'host-a101_cam3_1241893254500000006.jpeg', 'host-a008_cam5_1235777230967733006.jpeg', 'host-a004_cam2_1233602025417652006.jpeg', 'host-a011_cam1_1232755940634517006.jpeg', 'host-a102_cam2_1241878201283330006.jpeg', 'host-a004_cam6_1233535977750948006.jpeg', 'host-a004_cam1_1233535977734300006.jpeg', 'host-a004_cam0_1233535977751064006.jpeg', 'host-a011_cam1_1232839955834517006.jpeg', 'host-a004_cam3_1233014365600897006.jpeg', 'host-a004_cam1_1232815267634300006.jpeg', 'host-a004_cam0_1232815267651064006.jpeg', 'host-a102_cam2_1241878201683330006.jpeg', 'host-a004_cam2_1232833321417652006.jpeg', 'host-a102_cam6_1241468917850000006.jpeg', 'host-a102_cam6_1241904542350000006.jpeg', 'host-a102_cam3_1242684268699586006.jpeg', 'host-a011_cam1_1232817043034517006.jpeg', 'host-a006_cam1_1237322906034412006.jpeg', 'host-a102_cam4_1242510618215623006.jpeg', 'host-a102_cam6_1242510618244000006.jpeg', 'host-a008_cam4_1235777220184403006.jpeg', 'host-a008_cam3_1235777220101057006.jpeg', 'host-a011_cam2_1232755946217605006.jpeg', 'host-a101_cam1_1240877605666660006.jpeg', 'host-a007_cam4_1230485640816094006.jpeg', 'host-a008_cam5_1235776288167733006.jpeg', 'host-a101_cam4_1241893249016660006.jpeg', 'host-a101_cam1_1241893249066660006.jpeg', 'host-a005_cam4_1231201460716091006.jpeg', 'host-a004_cam2_1233602031417652006.jpeg', 'host-a101_cam4_1241893251616660006.jpeg', 'host-a101_cam1_1241893251666660006.jpeg', 'host-a011_cam1_1232841334434517006.jpeg', 'host-a006_cam1_1237322906434412006.jpeg', 'host-a006_cam2_1237322903017711006.jpeg', 'host-a004_cam1_1232825405234300006.jpeg', 'host-a007_cam2_1233955135017643006.jpeg', 'host-a007_cam0_1233955135050897006.jpeg', 'host-a007_cam1_1233955135034286006.jpeg', 'host-a008_cam5_1235777230767733006.jpeg', 'host-a004_cam3_1232817655000897006.jpeg', 'host-a101_cam1_1240877591666660006.jpeg', 'host-a101_cam1_1241893246066660006.jpeg', 'host-a004_cam6_1233011748650948006.jpeg', 'host-a011_cam1_1232817040634517006.jpeg', 'host-a004_cam1_1233602029834300006.jpeg', 'host-a004_cam1_1233963863634300006.jpeg', 'host-a004_cam2_1233963863617652006.jpeg', 'host-a011_cam2_1233963420417605006.jpeg', 'host-a008_cam2_1236016355217906006.jpeg', 'host-a009_cam6_1236014665251075006.jpeg', 'host-a007_cam2_1234551933917643006.jpeg', 'host-a007_cam5_1230485639832827006.jpeg', 'host-a101_cam3_1241889729200000006.jpeg', 'host-a101_cam4_1241889729216660006.jpeg', 'host-a004_cam6_1233947133150948006.jpeg', 'host-a101_cam4_1240877611216660006.jpeg', 'host-a101_cam3_1240877611200000006.jpeg', 'host-a101_cam2_1240877611283330006.jpeg', 'host-a102_cam5_1242510621832145006.jpeg', 'host-a102_cam0_1242510621849156006.jpeg', 'host-a007_cam2_1233007771417643006.jpeg', 'host-a101_cam5_1241462212733330006.jpeg', 'host-a004_cam1_1233963863234300006.jpeg', 'host-a007_cam5_1230936221332827006.jpeg', 'host-a102_cam4_1242662283316038006.jpeg', 'host-a011_cam1_1232817040834517006.jpeg', 'host-a004_cam2_1233422545617652006.jpeg', 'host-a006_cam1_1237322905034412006.jpeg', 'host-a004_cam3_1233616001700897006.jpeg', 'host-a009_cam5_1231200862432771006.jpeg', 'host-a004_cam1_1233014364634300006.jpeg', 'host-a004_cam2_1233616007517652006.jpeg', 'host-a009_cam2_1236015622517752006.jpeg', 'host-a007_cam6_1233955151450905006.jpeg', 'host-a101_cam1_1240877594466660006.jpeg', 'host-a004_cam2_1233616000317652006.jpeg', 'host-a011_cam4_1236037942884485006.jpeg', 'host-a101_cam1_1241472429966660006.jpeg', 'host-a008_cam1_1235776295334433006.jpeg', 'host-a009_cam0_1236013298051162006.jpeg', 'host-a009_cam1_1236013298034319006.jpeg', 'host-a102_cam6_1241904544550000006.jpeg', 'host-a102_cam1_1242684266866112006.jpeg', 'host-a004_cam1_1233961184434300006.jpeg', 'host-a011_cam1_1232817045434517006.jpeg', 'host-a007_cam5_1232490785867475006.jpeg', 'host-a007_cam4_1232490785884150006.jpeg', 'host-a101_cam1_1240877594866660006.jpeg', 'host-a007_cam1_1233955136234286006.jpeg', 'host-a012_cam1_1237329885034261006.jpeg', 'host-a012_cam0_1237329885051020006.jpeg', 'host-a101_cam1_1240877587866660006.jpeg', 'host-a004_cam6_1233535979550948006.jpeg', 'host-a004_cam2_1233535979517652006.jpeg', 'host-a101_cam4_1241893241416660006.jpeg', 'host-a101_cam1_1241893241466660006.jpeg', 'host-a011_cam4_1232492208684485006.jpeg', 'host-a011_cam6_1232492208651145006.jpeg', 'host-a006_cam1_1236038155034412006.jpeg', 'host-a007_cam4_1230936225316094006.jpeg', 'host-a011_cam1_1232841344634517006.jpeg', 'host-a101_cam2_1241889726483330006.jpeg', 'host-a101_cam1_1241889726466660006.jpeg', 'host-a101_cam5_1241889726433330006.jpeg', 'host-a011_cam2_1233964306117605006.jpeg', 'host-a006_cam2_1237322898217711006.jpeg', 'host-a011_cam5_1232839949067719006.jpeg', 'host-a011_cam1_1232817042234517006.jpeg', 'host-a004_cam1_1233615998734300006.jpeg', 'host-a008_cam1_1235776300534433006.jpeg', 'host-a008_cam6_1235776300551058006.jpeg', 'host-a011_cam2_1232755934617605006.jpeg', 'host-a006_cam2_1236037896617711006.jpeg', 'host-a006_cam2_1237322885817711006.jpeg', 'host-a011_cam1_1232755939634517006.jpeg', 'host-a004_cam0_1232815267251064006.jpeg', 'host-a101_cam3_1241893254600000006.jpeg', 'host-a101_cam4_1241893254616660006.jpeg', 'host-a101_cam2_1241893254683330006.jpeg', 'host-a006_cam1_1237322896834412006.jpeg', 'host-a101_cam1_1241886985766660006.jpeg', 'host-a011_cam0_1232841344051142006.jpeg', 'host-a101_cam4_1240877609216660006.jpeg', 'host-a101_cam1_1240877609266660006.jpeg', 'host-a101_cam0_1240877609250000006.jpeg', 'host-a101_cam3_1240877609200000006.jpeg', 'host-a101_cam2_1240877609283330006.jpeg', 'host-a004_cam6_1233422008850948006.jpeg', 'host-a005_cam4_1231201460116091006.jpeg', 'host-a004_cam2_1233947109117652006.jpeg', 'host-a008_cam5_1235776292367733006.jpeg', 'host-a011_cam2_1232817047017605006.jpeg', 'host-a008_cam5_1235776287367733006.jpeg', 'host-a101_cam1_1240877605066660006.jpeg', 'host-a101_cam3_1240877611400000006.jpeg', 'host-a101_cam4_1240877611416660006.jpeg', 'host-a008_cam3_1235777225101057006.jpeg', 'host-a008_cam4_1235777225184403006.jpeg', 'host-a101_cam1_1241893247266660006.jpeg', 'host-a008_cam1_1235776295134433006.jpeg', 'host-a008_cam4_1235776295184403006.jpeg', 'host-a004_cam1_1233963863034300006.jpeg', 'host-a004_cam0_1233963863051064006.jpeg', 'host-a008_cam4_1235777223784403006.jpeg', 'host-a101_cam4_1241889728016660006.jpeg', 'host-a101_cam3_1241889728000000006.jpeg', 'host-a007_cam5_1230936241332827006.jpeg', 'host-a101_cam0_1241889724850000006.jpeg', 'host-a006_cam1_1237322908034412006.jpeg', 'host-a004_cam0_1232815265851064006.jpeg', 'host-a004_cam2_1233602024417652006.jpeg', 'host-a011_cam5_1232492192267719006.jpeg', 'host-a008_cam4_1235777222384403006.jpeg', 'host-a008_cam3_1235777222301057006.jpeg', 'host-a006_cam0_1236038133850935006.jpeg', 'host-a006_cam2_1236038133817711006.jpeg', 'host-a006_cam6_1236038133850930006.jpeg', 'host-a005_cam6_1231201453949392006.jpeg', 'host-a006_cam2_1237322885417711006.jpeg', 'host-a102_cam0_1241904555550000006.jpeg', 'host-a006_cam6_1236037891650930006.jpeg', 'host-a004_cam2_1232833321817652006.jpeg', 'host-a101_cam4_1241893241216660006.jpeg', 'host-a101_cam1_1241893241266660006.jpeg', 'host-a011_cam1_1233964305334517006.jpeg', 'host-a011_cam1_1233964304534517006.jpeg', 'host-a004_cam2_1232815268417652006.jpeg', 'host-a004_cam0_1232815268451064006.jpeg', 'host-a102_cam6_1241904552150000006.jpeg', 'host-a008_cam1_1235776293534433006.jpeg', 'host-a008_cam5_1235776293567733006.jpeg', 'host-a008_cam1_1235776297934433006.jpeg', 'host-a009_cam3_1236015623300980006.jpeg', 'host-a101_cam6_1241472424750000006.jpeg', 'host-a007_cam2_1233960463217643006.jpeg', 'host-a007_cam3_1233960463200869006.jpeg', 'host-a007_cam1_1233960463234286006.jpeg', 'host-a011_cam2_1232817047217605006.jpeg', 'host-a006_cam4_1236038138884380006.jpeg', 'host-a008_cam4_1235777219784403006.jpeg', 'host-a008_cam3_1235777219701057006.jpeg', 'host-a102_cam2_1241904557783330006.jpeg', 'host-a012_cam3_1237329869600913006.jpeg', 'host-a006_cam5_1236038136467650006.jpeg', 'host-a102_cam0_1242662281349378006.jpeg', 'host-a102_cam5_1242662281332516006.jpeg', 'host-a102_cam2_1242662281382501006.jpeg', 'host-a011_cam4_1232492194084485006.jpeg', 'host-a004_cam2_1233535980217652006.jpeg', 'host-a007_cam1_1233955142434286006.jpeg', 'host-a102_cam2_1242684268082782006.jpeg', 'host-a102_cam3_1242684268099586006.jpeg', 'host-a011_cam2_1232755935617605006.jpeg', 'host-a007_cam4_1230936228716094006.jpeg', 'host-a004_cam6_1233947132150948006.jpeg', 'host-a009_cam6_1231200858849231006.jpeg', 'host-a101_cam0_1240877603250000006.jpeg', 'host-a101_cam1_1240877603266660006.jpeg', 'host-a101_cam5_1240877603233330006.jpeg', 'host-a101_cam6_1240877603250000006.jpeg', 'host-a007_cam2_1233960465217643006.jpeg', 'host-a007_cam3_1233960465200869006.jpeg', 'host-a007_cam1_1233960465234286006.jpeg', 'host-a004_cam1_1233615999134300006.jpeg', 'host-a011_cam0_1232839955051142006.jpeg', 'host-a101_cam4_1240877607616660006.jpeg', 'host-a101_cam2_1240877607683330006.jpeg', 'host-a007_cam0_1233955153450897006.jpeg', 'host-a101_cam6_1241472424150000006.jpeg', 'host-a011_cam5_1232492214467719006.jpeg', 'host-a007_cam5_1230485650032827006.jpeg', 'host-a011_cam1_1232755939834517006.jpeg', 'host-a004_cam1_1233011751834300006.jpeg', 'host-a007_cam2_1233960464817643006.jpeg', 'host-a007_cam3_1233960464800869006.jpeg', 'host-a007_cam1_1233960464834286006.jpeg', 'host-a011_cam1_1232755957234517006.jpeg', 'host-a009_cam6_1231200858049231006.jpeg', 'host-a006_cam1_1236037898234412006.jpeg', 'host-a006_cam4_1236038138084380006.jpeg', 'host-a101_cam1_1241893246466660006.jpeg', 'host-a102_cam1_1242662279565668006.jpeg', 'host-a102_cam0_1242662279549363006.jpeg', 'host-a011_cam5_1232492214667719006.jpeg', 'host-a011_cam2_1232485958517605006.jpeg', 'host-a006_cam3_1236038140600777006.jpeg', 'host-a011_cam1_1232755940434517006.jpeg', 'host-a011_cam1_1233964393534517006.jpeg', 'host-a011_cam0_1233964393551142006.jpeg', 'host-a011_cam2_1232817045617605006.jpeg', 'host-a011_cam1_1232755939034517006.jpeg', 'host-a008_cam5_1235776292167733006.jpeg', 'host-a006_cam1_1236037898034412006.jpeg', 'host-a102_cam6_1241904544350000006.jpeg', 'host-a102_cam3_1241904558800000006.jpeg', 'host-a004_cam3_1232815252200897006.jpeg', 'host-a101_cam4_1241462216116660006.jpeg', 'host-a007_cam3_1232470064200869006.jpeg', 'host-a004_cam1_1233535978734300006.jpeg', 'host-a004_cam6_1233535978750948006.jpeg', 'host-a004_cam2_1233422541817652006.jpeg', 'host-a004_cam1_1233422541834300006.jpeg', 'host-a004_cam2_1233422557417652006.jpeg', 'host-a009_cam1_1236015627134319006.jpeg', 'host-a008_cam6_1235776307151058006.jpeg', 'host-a007_cam2_1233960462417643006.jpeg', 'host-a007_cam1_1233960462434286006.jpeg', 'host-a101_cam3_1240877609800000006.jpeg', 'host-a101_cam1_1240877609866660006.jpeg', 'host-a101_cam4_1240877609816660006.jpeg', 'host-a007_cam4_1230936242916094006.jpeg', 'host-a011_cam2_1233963421617605006.jpeg', 'host-a007_cam1_1233007770234286006.jpeg', 'host-a007_cam0_1233007770250897006.jpeg', 'host-a006_cam4_1236038137884380006.jpeg', 'host-a102_cam6_1242684265044000006.jpeg', 'host-a102_cam3_1242684265099571006.jpeg', 'host-a102_cam2_1242684265082797006.jpeg', 'host-a006_cam1_1236038154634412006.jpeg', 'host-a102_cam0_1242510614649319006.jpeg', 'host-a102_cam5_1242510614632249006.jpeg', 'host-a011_cam1_1232841344834517006.jpeg', 'host-a007_cam4_1230936225516094006.jpeg', 'host-a102_cam2_1241904557583330006.jpeg', 'host-a102_cam2_1242684267882782006.jpeg', 'host-a004_cam2_1232817653217652006.jpeg', 'host-a005_cam5_1231201459332576006.jpeg', 'host-a008_cam3_1235776302301057006.jpeg', 'host-a011_cam5_1232492206867719006.jpeg', 'host-a011_cam4_1232492206884485006.jpeg', 'host-a008_cam6_1235776304151058006.jpeg', 'host-a102_cam4_1242510617215623006.jpeg', 'host-a102_cam5_1242510617232249006.jpeg', 'host-a007_cam0_1232470060650897006.jpeg', 'host-a008_cam5_1235776289967733006.jpeg', 'host-a101_cam1_1241886985166660006.jpeg', 'host-a007_cam2_1232470063417643006.jpeg', 'host-a004_cam1_1232825406234300006.jpeg', 'host-a008_cam1_1236016354034433006.jpeg', 'host-a007_cam0_1233960460050897006.jpeg', 'host-a007_cam1_1233960460034286006.jpeg', 'host-a101_cam1_1243102890865816006.jpeg', 'host-a011_cam2_1233964306917605006.jpeg', 'host-a011_cam5_1236037942467719006.jpeg', 'host-a004_cam1_1233602030434300006.jpeg', 'host-a006_cam2_1237322899217711006.jpeg', 'host-a004_cam2_1233616006917652006.jpeg', 'host-a101_cam1_1241893248066660006.jpeg', 'host-a101_cam4_1241893248016660006.jpeg', 'host-a101_cam2_1241472411983330006.jpeg', 'host-a009_cam6_1231200858249231006.jpeg', 'host-a007_cam2_1232470063217643006.jpeg', 'host-a007_cam5_1230936221732827006.jpeg', 'host-a101_cam4_1241887000916660006.jpeg', 'host-a102_cam5_1242510616432234006.jpeg', 'host-a102_cam6_1242510616444000006.jpeg', 'host-a101_cam1_1241893246666660006.jpeg', 'host-a008_cam2_1235776301317906006.jpeg', 'host-a011_cam2_1232839956417605006.jpeg', 'host-a004_cam0_1232815265651064006.jpeg', 'host-a004_cam0_1232815267851064006.jpeg', 'host-a004_cam1_1232815267834300006.jpeg', 'host-a008_cam6_1235776303951058006.jpeg', 'host-a008_cam0_1235776303951171006.jpeg', 'host-a007_cam3_1234551934100869006.jpeg', 'host-a009_cam1_1236013306634319006.jpeg', 'host-a011_cam2_1233963419417605006.jpeg', 'host-a007_cam1_1233007771034286006.jpeg', 'host-a007_cam1_1233960462034286006.jpeg', 'host-a007_cam2_1233960462017643006.jpeg', 'host-a008_cam1_1235776297134433006.jpeg', 'host-a102_cam6_1242684259844000006.jpeg', 'host-a101_cam1_1240877592866660006.jpeg', 'host-a011_cam0_1232755956651142006.jpeg', 'host-a009_cam6_1236015610551075006.jpeg', 'host-a102_cam6_1242510608844000006.jpeg', 'host-a102_cam4_1242510608815594006.jpeg', 'host-a102_cam3_1242510608899393006.jpeg', 'host-a102_cam1_1242662279365668006.jpeg', 'host-a102_cam0_1242662279349378006.jpeg', 'host-a006_cam3_1236038145200777006.jpeg', 'host-a011_cam3_1232485959100995006.jpeg', 'host-a006_cam0_1236038134250935006.jpeg', 'host-a006_cam5_1236038134267650006.jpeg', 'host-a006_cam2_1236038134217711006.jpeg', 'host-a011_cam1_1232817040234517006.jpeg', 'host-a006_cam2_1237322903817711006.jpeg', 'host-a011_cam3_1232841336200995006.jpeg', 'host-a102_cam6_1241904544150000006.jpeg', 'host-a102_cam1_1242684262666142006.jpeg', 'host-a102_cam0_1242684262649512006.jpeg', 'host-a102_cam2_1242684262682827006.jpeg', 'host-a102_cam6_1242684262644000006.jpeg', 'host-a101_cam2_1242493649282812006.jpeg', 'host-a006_cam2_1237322900017711006.jpeg', 'host-a101_cam5_1243095623532649006.jpeg', 'host-a011_cam5_1232492206667719006.jpeg', 'host-a011_cam4_1232492206684485006.jpeg', 'host-a009_cam3_1236014670400980006.jpeg', 'host-a102_cam6_1242684259044000006.jpeg', 'host-a004_cam6_1233535975950948006.jpeg', 'host-a004_cam2_1233535974517652006.jpeg', 'host-a102_cam3_1242510608699393006.jpeg', 'host-a102_cam4_1242510608615594006.jpeg', 'host-a011_cam1_1232817043634517006.jpeg', 'host-a004_cam3_1233422546000897006.jpeg', 'host-a101_cam1_1241893245666660006.jpeg', 'host-a102_cam0_1242684265849556006.jpeg', 'host-a006_cam4_1236038144684380006.jpeg', 'host-a009_cam1_1236013306834319006.jpeg', 'host-a011_cam5_1232492205467719006.jpeg', 'host-a004_cam1_1233602023234300006.jpeg', 'host-a011_cam1_1232755943634517006.jpeg', 'host-a102_cam2_1241878201883330006.jpeg', 'host-a004_cam2_1233963863817652006.jpeg', 'host-a004_cam1_1233963863834300006.jpeg', 'host-a011_cam1_1234553377934517006.jpeg', 'host-a101_cam5_1241462213533330006.jpeg', 'host-a004_cam2_1233422558217652006.jpeg', 'host-a006_cam3_1236038150600777006.jpeg', 'host-a101_cam4_1241893249416660006.jpeg', 'host-a101_cam1_1241893249466660006.jpeg', 'host-a102_cam3_1242684244399660006.jpeg', 'host-a101_cam3_1241893256100000006.jpeg', 'host-a011_cam5_1232492213467719006.jpeg', 'host-a004_cam1_1233947108534300006.jpeg', 'host-a007_cam2_1233960461417643006.jpeg', 'host-a007_cam1_1233960461434286006.jpeg', 'host-a004_cam1_1233961189834300006.jpeg', 'host-a006_cam2_1236037898617711006.jpeg', 'host-a101_cam2_1240877599083330006.jpeg', 'host-a101_cam2_1241472411583330006.jpeg', 'host-a007_cam1_1233007770634286006.jpeg', 'host-a102_cam6_1241904542550000006.jpeg', 'host-a004_cam1_1233011751634300006.jpeg', 'host-a005_cam0_1231201457949279006.jpeg', 'host-a102_cam6_1242510609244000006.jpeg', 'host-a102_cam4_1242510609215609006.jpeg', 'host-a102_cam3_1242510609299393006.jpeg', 'host-a006_cam2_1237322903217711006.jpeg', 'host-a101_cam0_1240877602050000006.jpeg', 'host-a101_cam5_1240877602033330006.jpeg', 'host-a011_cam1_1232817043234517006.jpeg', 'host-a008_cam0_1235776298951171006.jpeg', 'host-a008_cam2_1235776298917906006.jpeg', 'host-a006_cam0_1236038134050935006.jpeg', 'host-a006_cam2_1236038134017711006.jpeg', 'host-a006_cam4_1236038144484380006.jpeg', 'host-a011_cam2_1233963422017605006.jpeg', 'host-a102_cam0_1242510614249319006.jpeg', 'host-a102_cam5_1242510614232249006.jpeg', 'host-a101_cam4_1241893242616660006.jpeg', 'host-a101_cam1_1241893242666660006.jpeg', 'host-a004_cam2_1233602025017652006.jpeg', 'host-a004_cam2_1233422545017652006.jpeg', 'host-a009_cam3_1236015617900980006.jpeg', 'host-a011_cam1_1232755941234517006.jpeg', 'host-a012_cam2_1237329887017630006.jpeg', 'host-a012_cam3_1237329887000913006.jpeg', 'host-a008_cam3_1235777225701057006.jpeg', 'host-a011_cam3_1232841336000995006.jpeg', 'host-a006_cam2_1237322910117711006.jpeg', 'host-a006_cam1_1237322910134412006.jpeg', 'host-a011_cam1_1232817039234517006.jpeg', 'host-a007_cam4_1230485652016094006.jpeg', 'host-a101_cam1_1240877593866660006.jpeg', 'host-a008_cam0_1236016353251171006.jpeg', 'host-a004_cam0_1232833319251064006.jpeg', 'host-a008_cam1_1236016354634433006.jpeg', 'host-a011_cam0_1233964393151142006.jpeg', 'host-a101_cam4_1243095622316127006.jpeg', 'host-a011_cam2_1233963426217605006.jpeg', 'host-a011_cam1_1232817038234517006.jpeg', 'host-a006_cam2_1236037896817711006.jpeg', 'host-a102_cam6_1241904552550000006.jpeg', 'host-a102_cam5_1242662282132530006.jpeg', 'host-a102_cam3_1242662282199512006.jpeg', 'host-a102_cam6_1241468919450000006.jpeg', 'host-a008_cam5_1235776290167733006.jpeg', 'host-a101_cam4_1241893252216660006.jpeg', 'host-a101_cam2_1241893252283330006.jpeg', 'host-a101_cam1_1241893252266660006.jpeg', 'host-a012_cam2_1237329887117630006.jpeg', 'host-a012_cam3_1237329887100913006.jpeg', 'host-a007_cam0_1233955153250897006.jpeg', 'host-a011_cam1_1233964384934517006.jpeg', 'host-a008_cam4_1235777217384403006.jpeg', 'host-a008_cam3_1235777217301057006.jpeg', 'host-a101_cam2_1241472411783330006.jpeg', 'host-a008_cam4_1235777217584403006.jpeg', 'host-a008_cam3_1235777217501057006.jpeg', 'host-a101_cam3_1241889710800000006.jpeg', 'host-a101_cam4_1241889710816660006.jpeg', 'host-a004_cam1_1232825407834300006.jpeg', 'host-a011_cam6_1232492210251145006.jpeg', 'host-a101_cam1_1240877593066660006.jpeg', 'host-a004_cam0_1232833319451064006.jpeg', 'host-a011_cam4_1232492216284485006.jpeg', 'host-a009_cam1_1236015616334319006.jpeg', 'host-a102_cam3_1242684268499586006.jpeg', 'host-a102_cam2_1242684268482782006.jpeg', 'host-a102_cam6_1242684258044000006.jpeg', 'host-a004_cam1_1233422555434300006.jpeg', 'host-a004_cam0_1232833320051064006.jpeg', 'host-a004_cam1_1232833320034300006.jpeg', 'host-a006_cam1_1237322898034412006.jpeg', 'host-a011_cam5_1236037942267719006.jpeg', 'host-a008_cam3_1235777221701057006.jpeg', 'host-a008_cam4_1235777221784403006.jpeg', 'host-a008_cam5_1235776286767733006.jpeg', 'host-a004_cam6_1232815264250948006.jpeg', 'host-a011_cam1_1232755936434517006.jpeg', 'host-a009_cam3_1236015617700980006.jpeg', 'host-a009_cam2_1236015617717752006.jpeg', 'host-a009_cam4_1236014669884403006.jpeg', 'host-a101_cam1_1240877589466660006.jpeg', 'host-a101_cam0_1240877601650000006.jpeg', 'host-a101_cam5_1240877601633330006.jpeg', 'host-a007_cam1_1232470061834286006.jpeg', 'host-a101_cam3_1240877608800000006.jpeg', 'host-a101_cam4_1240877608816660006.jpeg', 'host-a101_cam2_1240877608883330006.jpeg', 'host-a101_cam1_1240877608866660006.jpeg', 'host-a101_cam0_1240877608850000006.jpeg', 'host-a004_cam1_1233422544634300006.jpeg', 'host-a102_cam3_1242510619699452006.jpeg', 'host-a102_cam4_1242510619615623006.jpeg', 'host-a102_cam5_1242510613632249006.jpeg', 'host-a004_cam2_1232825407217652006.jpeg', 'host-a004_cam3_1232825407200897006.jpeg', 'host-a006_cam4_1236038138284380006.jpeg', 'host-a011_cam2_1232755936017605006.jpeg', 'host-a102_cam3_1242684264699571006.jpeg', 'host-a102_cam2_1242684264682797006.jpeg', 'host-a102_cam6_1242684264644000006.jpeg', 'host-a011_cam1_1232841334634517006.jpeg', 'host-a004_cam6_1233535978550948006.jpeg', 'host-a004_cam1_1233535978534300006.jpeg', 'host-a006_cam0_1236037897650935006.jpeg', 'host-a102_cam5_1242510621232279006.jpeg', 'host-a008_cam4_1235777218384403006.jpeg', 'host-a011_cam1_1232817042034517006.jpeg', 'host-a101_cam1_1243102889265535006.jpeg', 'host-a011_cam2_1232755945617605006.jpeg', 'host-a008_cam3_1235777221101057006.jpeg', 'host-a008_cam4_1235777221184403006.jpeg', 'host-a102_cam1_1241878224266660006.jpeg', 'host-a007_cam4_1230485640616094006.jpeg', 'host-a004_cam3_1232833322600897006.jpeg', 'host-a004_cam1_1233422544234300006.jpeg', 'host-a008_cam2_1235776301117906006.jpeg', 'host-a008_cam6_1235776301151058006.jpeg', 'host-a011_cam1_1232817037434517006.jpeg', 'host-a005_cam4_1231201460516091006.jpeg', 'host-a011_cam2_1232755946017605006.jpeg', 'host-a102_cam6_1241904542950000006.jpeg', 'host-a004_cam1_1232815268634300006.jpeg', 'host-a004_cam2_1232815268617652006.jpeg', 'host-a008_cam1_1235776295734433006.jpeg', 'host-a101_cam1_1241893243066660006.jpeg', 'host-a101_cam4_1241893243016660006.jpeg', 'host-a101_cam1_1240877591866660006.jpeg', 'host-a007_cam2_1233955137217643006.jpeg', 'host-a008_cam1_1235776294134433006.jpeg', 'host-a011_cam1_1232839955434517006.jpeg', 'host-a011_cam4_1232492195284485006.jpeg', 'host-a102_cam6_1241468919850000006.jpeg', 'host-a006_cam5_1236038143467650006.jpeg', 'host-a006_cam4_1236038143484380006.jpeg', 'host-a004_cam0_1233535977351064006.jpeg', 'host-a004_cam6_1233535977350948006.jpeg', 'host-a006_cam2_1237322899417711006.jpeg', 'host-a004_cam3_1233947109700897006.jpeg', 'host-a101_cam4_1241893250816660006.jpeg', 'host-a101_cam1_1241893250866660006.jpeg', 'host-a011_cam6_1233964390751145006.jpeg', 'host-a006_cam1_1237322910034412006.jpeg', 'host-a006_cam2_1237322910017711006.jpeg', 'host-a102_cam3_1242684244299660006.jpeg', 'host-a009_cam6_1231200858449231006.jpeg', 'host-a004_cam2_1233011752217652006.jpeg', 'host-a006_cam2_1237322909417711006.jpeg', 'host-a011_cam0_1232839954851142006.jpeg', 'host-a011_cam2_1233963424617605006.jpeg', 'host-a006_cam2_1236037896217711006.jpeg', 'host-a101_cam1_1240877588066660006.jpeg', 'host-a011_cam1_1232755938434517006.jpeg', 'host-a006_cam4_1236038139684380006.jpeg', 'host-a009_cam1_1236015627534319006.jpeg', 'host-a101_cam4_1241893248216660006.jpeg', 'host-a101_cam1_1241893248266660006.jpeg', 'host-a101_cam3_1241472431600000006.jpeg', 'host-a101_cam2_1241472431583330006.jpeg', 'host-a007_cam4_1230936224716094006.jpeg', 'host-a011_cam1_1232817035034517006.jpeg', 'host-a009_cam1_1236013297234319006.jpeg', 'host-a101_cam1_1241893243466660006.jpeg', 'host-a101_cam4_1241893243416660006.jpeg', 'host-a007_cam4_1230485652216094006.jpeg', 'host-a007_cam3_1230485652199360006.jpeg', 'host-a011_cam0_1232492213251142006.jpeg', 'host-a008_cam2_1235776298317906006.jpeg', 'host-a006_cam3_1236038145000777006.jpeg', 'host-a006_cam4_1236038145084380006.jpeg', 'host-a009_cam4_1231200864615930006.jpeg', 'host-a009_cam3_1231200864599238006.jpeg', 'host-a004_cam1_1233422554634300006.jpeg', 'host-a101_cam4_1241893248416660006.jpeg', 'host-a101_cam1_1241893248466660006.jpeg', 'host-a006_cam1_1237322897234412006.jpeg', 'host-a004_cam2_1233422556617652006.jpeg', 'host-a102_cam4_1242510619215623006.jpeg', 'host-a102_cam3_1242510619199452006.jpeg', 'host-a008_cam5_1235776285967733006.jpeg', 'host-a102_cam4_1242662283716053006.jpeg', 'host-a102_cam3_1242662283799512006.jpeg', 'host-a004_cam2_1233602024617652006.jpeg', 'host-a011_cam2_1233963427017605006.jpeg', 'host-a102_cam5_1242510622032116006.jpeg', 'host-a102_cam0_1242510622049156006.jpeg', 'host-a007_cam0_1233960459650897006.jpeg', 'host-a102_cam1_1242662280165638006.jpeg', 'host-a011_cam2_1232755958017605006.jpeg', 'host-a102_cam5_1242662281732530006.jpeg', 'host-a102_cam0_1242662281749378006.jpeg', 'host-a102_cam2_1242662281782545006.jpeg', 'host-a102_cam3_1242662281799482006.jpeg', 'host-a101_cam1_1241893251466660006.jpeg', 'host-a101_cam4_1241893251416660006.jpeg', 'host-a011_cam1_1232817043434517006.jpeg', 'host-a007_cam5_1230936240732827006.jpeg', 'host-a011_cam4_1232492195484485006.jpeg', 'host-a102_cam0_1242510604849215006.jpeg', 'host-a102_cam5_1242510604832190006.jpeg', 'host-a006_cam2_1237322909617711006.jpeg', 'host-a102_cam4_1242510608215609006.jpeg', 'host-a011_cam2_1232817047617605006.jpeg', 'host-a009_cam6_1231200857649231006.jpeg', 'host-a009_cam1_1236013297434319006.jpeg', 'host-a004_cam1_1233615998534300006.jpeg', 'host-a102_cam5_1242510616032234006.jpeg', 'host-a011_cam2_1233963423617605006.jpeg', 'host-a006_cam2_1237322903617711006.jpeg', 'host-a101_cam4_1241893250016660006.jpeg', 'host-a101_cam1_1241893250066660006.jpeg', 'host-a007_cam0_1233960460250897006.jpeg', 'host-a007_cam1_1233960460234286006.jpeg', 'host-a101_cam1_1240877604866660006.jpeg', 'host-a101_cam5_1240877604833330006.jpeg', 'host-a011_cam1_1232755940834517006.jpeg', 'host-a011_cam3_1232835310800995006.jpeg', 'host-a011_cam2_1232835310817605006.jpeg', 'host-a101_cam0_1240877604450000006.jpeg', 'host-a101_cam1_1240877604466660006.jpeg', 'host-a101_cam5_1240877604433330006.jpeg', 'host-a102_cam6_1241904550950000006.jpeg', 'host-a101_cam1_1240877592266660006.jpeg', 'host-a101_cam0_1240877592250000006.jpeg', 'host-a004_cam2_1233616010717652006.jpeg', 'host-a101_cam1_1240877594066660006.jpeg', 'host-a101_cam2_1241886986183330006.jpeg', 'host-a007_cam5_1230485639632827006.jpeg', 'host-a008_cam5_1235776292967733006.jpeg', 'host-a004_cam1_1233535973134300006.jpeg', 'host-a102_cam6_1242684263844000006.jpeg', 'host-a102_cam3_1242684263899571006.jpeg', 'host-a102_cam2_1242684263882797006.jpeg', 'host-a102_cam0_1242510614049304006.jpeg', 'host-a102_cam5_1242510614032249006.jpeg', 'host-a011_cam1_1232817046234517006.jpeg', 'host-a011_cam2_1232817046217605006.jpeg', 'host-a004_cam1_1232815266634300006.jpeg', 'host-a008_cam3_1235776301901057006.jpeg', 'host-a007_cam4_1230936228116094006.jpeg', 'host-a007_cam3_1234551934700869006.jpeg', 'host-a007_cam6_1233955151250905006.jpeg', 'host-a007_cam2_1233955137617643006.jpeg', 'host-a007_cam6_1233955137650905006.jpeg', 'host-a008_cam5_1235776292567733006.jpeg', 'host-a007_cam4_1230936222516094006.jpeg', 'host-a006_cam2_1237322901817711006.jpeg', 'host-a102_cam3_1241904548600000006.jpeg', 'host-a101_cam1_1240877592066660006.jpeg', 'host-a011_cam1_1232755943034517006.jpeg', 'host-a007_cam4_1230485651816094006.jpeg', 'host-a006_cam5_1236038135067650006.jpeg', 'host-a006_cam3_1236038135000777006.jpeg', 'host-a007_cam3_1233955138800869006.jpeg', 'host-a007_cam5_1230485649632827006.jpeg', 'host-a009_cam0_1236015626151162006.jpeg', 'host-a004_cam1_1233616006134300006.jpeg', 'host-a007_cam2_1232470063017643006.jpeg', 'host-a011_cam1_1232755942234517006.jpeg', 'host-a011_cam1_1232755941834517006.jpeg', 'host-a007_cam2_1234551933717643006.jpeg', 'host-a011_cam1_1232755939234517006.jpeg', 'host-a009_cam2_1236015622317752006.jpeg', 'host-a101_cam1_1241893245266660006.jpeg', 'host-a011_cam2_1232841334817605006.jpeg', 'host-a011_cam1_1232841333834517006.jpeg', 'host-a011_cam1_1232817038834517006.jpeg', 'host-a101_cam4_1241893249216660006.jpeg', 'host-a101_cam1_1241893249266660006.jpeg', 'host-a004_cam2_1233422541617652006.jpeg', 'host-a011_cam1_1232817044634517006.jpeg', 'host-a011_cam5_1232492214867719006.jpeg', 'host-a011_cam6_1232492202651145006.jpeg', 'host-a008_cam5_1235776290367733006.jpeg', 'host-a008_cam6_1235776307351058006.jpeg', 'host-a011_cam1_1232817036834517006.jpeg', 'host-a011_cam3_1232839957800995006.jpeg', 'host-a011_cam0_1234553376951142006.jpeg', 'host-a007_cam3_1232470063600869006.jpeg', 'host-a007_cam2_1232470063617643006.jpeg', 'host-a101_cam2_1243102891282664006.jpeg', 'host-a101_cam1_1243102891265890006.jpeg', 'host-a007_cam2_1233960462817643006.jpeg', 'host-a007_cam1_1233960462834286006.jpeg', 'host-a011_cam1_1232817039834517006.jpeg', 'host-a006_cam2_1236037884017711006.jpeg', 'host-a102_cam6_1242684263244000006.jpeg', 'host-a102_cam1_1242684263266127006.jpeg', 'host-a102_cam2_1242684263282827006.jpeg', 'host-a009_cam5_1236014672667552006.jpeg', 'host-a011_cam1_1232817045234517006.jpeg', 'host-a007_cam1_1233955133434286006.jpeg', 'host-a102_cam0_1242510614849319006.jpeg', 'host-a102_cam5_1242510614832249006.jpeg', 'host-a004_cam3_1232815270000897006.jpeg', 'host-a004_cam0_1233616005951064006.jpeg', 'host-a004_cam1_1233616005934300006.jpeg', 'host-a006_cam4_1236038138484380006.jpeg', 'host-a101_cam4_1240877612016660006.jpeg', 'host-a101_cam3_1240877612000000006.jpeg', 'host-a101_cam5_1241462215133330006.jpeg', 'host-a101_cam4_1241462215116660006.jpeg', 'host-a007_cam5_1233955154267475006.jpeg', 'host-a011_cam0_1233964383751142006.jpeg', 'host-a102_cam0_1242510605649215006.jpeg', 'host-a102_cam5_1242510605632293006.jpeg', 'host-a101_cam3_1240877610000000006.jpeg', 'host-a101_cam4_1240877610016660006.jpeg', 'host-a008_cam1_1235776304334433006.jpeg', 'host-a008_cam6_1235776304351058006.jpeg', 'host-a007_cam4_1233955155684150006.jpeg', 'host-a101_cam2_1240877611083330006.jpeg', 'host-a101_cam4_1240877611016660006.jpeg', 'host-a101_cam3_1240877611000000006.jpeg', 'host-a006_cam1_1236037898434412006.jpeg', 'host-a009_cam4_1236014673184403006.jpeg', 'host-a009_cam1_1236013299234319006.jpeg', 'host-a009_cam2_1236013299217752006.jpeg', 'host-a008_cam6_1235776305151058006.jpeg', 'host-a008_cam1_1235776305134433006.jpeg', 'host-a006_cam2_1237322899617711006.jpeg', 'host-a009_cam1_1236015631034319006.jpeg', 'host-a009_cam2_1236015631017752006.jpeg', 'host-a004_cam6_1232815263250948006.jpeg', 'host-a007_cam4_1230936224116094006.jpeg', 'host-a101_cam4_1241893252416660006.jpeg', 'host-a101_cam3_1241893252400000006.jpeg', 'host-a101_cam1_1241893252466660006.jpeg', 'host-a101_cam2_1241893252483330006.jpeg', 'host-a008_cam3_1235776299901057006.jpeg', 'host-a008_cam1_1235776299934433006.jpeg', 'host-a008_cam6_1235776299951058006.jpeg', 'host-a004_cam2_1233616011117652006.jpeg', 'host-a101_cam5_1243095623332634006.jpeg', 'host-a004_cam1_1233421996834300006.jpeg', 'host-a009_cam0_1236013306251162006.jpeg', 'host-a101_cam0_1240877601450000006.jpeg', 'host-a004_cam2_1233617939717652006.jpeg', 'host-a011_cam0_1233964393351142006.jpeg', 'host-a009_cam1_1236015629334319006.jpeg', 'host-a004_cam6_1233422009150948006.jpeg', 'host-a101_cam4_1241893242016660006.jpeg', 'host-a101_cam1_1241893242066660006.jpeg', 'host-a007_cam2_1232470062817643006.jpeg', 'host-a006_cam2_1236037884617711006.jpeg', 'host-a008_cam3_1235777225501057006.jpeg', 'host-a008_cam4_1235777225584403006.jpeg', 'host-a101_cam0_1241472429150000006.jpeg', 'host-a101_cam1_1241472429166660006.jpeg', 'host-a006_cam1_1237322905634412006.jpeg', 'host-a011_cam1_1232755937234517006.jpeg', 'host-a008_cam4_1235777224984403006.jpeg', 'host-a008_cam3_1235777224901057006.jpeg', 'host-a102_cam6_1241904553150000006.jpeg', 'host-a011_cam3_1232835311000995006.jpeg', 'host-a102_cam5_1242510606832293006.jpeg', 'host-a011_cam1_1232755943834517006.jpeg', 'host-a007_cam5_1233955154667475006.jpeg', 'host-a008_cam6_1235776300951058006.jpeg', 'host-a008_cam2_1235776300917906006.jpeg', 'host-a006_cam3_1236038140400777006.jpeg', 'host-a006_cam4_1236038140484380006.jpeg', 'host-a011_cam2_1232841345217605006.jpeg', 'host-a011_cam3_1232492209200995006.jpeg', 'host-a102_cam1_1241878201066660006.jpeg', 'host-a006_cam5_1236038142467650006.jpeg', 'host-a102_cam3_1242662282499512006.jpeg', 'host-a102_cam5_1242662282532530006.jpeg', 'host-a007_cam4_1230485651416094006.jpeg', 'host-a004_cam1_1233961184634300006.jpeg', 'host-a009_cam1_1236015615934319006.jpeg', 'host-a007_cam4_1230485641616094006.jpeg', 'host-a004_cam1_1233421995834300006.jpeg', 'host-a006_cam2_1237322900417711006.jpeg', 'host-a101_cam1_1241472430166660006.jpeg', 'host-a101_cam2_1241472430183330006.jpeg', 'host-a004_cam2_1233961185017652006.jpeg', 'host-a004_cam2_1233421998417652006.jpeg', 'host-a007_cam5_1230936234932827006.jpeg', 'host-a009_cam6_1236013301851075006.jpeg', 'host-a011_cam1_1232817034434517006.jpeg', 'host-a011_cam3_1232755946800995006.jpeg', 'host-a011_cam1_1234553377734517006.jpeg', 'host-a004_cam1_1233421997034300006.jpeg', 'host-a006_cam0_1236038147850935006.jpeg', 'host-a102_cam1_1241468922666660006.jpeg', 'host-a004_cam6_1232815264450948006.jpeg', 'host-a011_cam2_1233963419817605006.jpeg', 'host-a011_cam1_1232817044034517006.jpeg', 'host-a101_cam1_1240877590866660006.jpeg', 'host-a101_cam1_1240877589066660006.jpeg', 'host-a008_cam5_1235776287167733006.jpeg', 'host-a006_cam1_1237322904434412006.jpeg', 'host-a004_cam1_1233616010334300006.jpeg', 'host-a011_cam5_1232492192667719006.jpeg', 'host-a101_cam1_1242493648365979006.jpeg', 'host-a101_cam0_1242493648349512006.jpeg', 'host-a008_cam3_1236016356801057006.jpeg', 'host-a011_cam4_1232492208084485006.jpeg', 'host-a011_cam5_1232492193267719006.jpeg', 'host-a011_cam4_1232839950084485006.jpeg', 'host-a004_cam2_1233615997717652006.jpeg', 'host-a101_cam1_1241893251266660006.jpeg', 'host-a101_cam4_1241893251216660006.jpeg', 'host-a009_cam0_1236014667851162006.jpeg', 'host-a009_cam5_1236014667867552006.jpeg', 'host-a007_cam6_1233955151050905006.jpeg', 'host-a102_cam5_1242510613832249006.jpeg', 'host-a012_cam2_1237329886617630006.jpeg', 'host-a012_cam1_1237329886634261006.jpeg', 'host-a011_cam1_1232755944234517006.jpeg', 'host-a101_cam1_1241893245466660006.jpeg', 'host-a101_cam4_1240877612116660006.jpeg', 'host-a101_cam3_1240877612100000006.jpeg', 'host-a101_cam1_1240877589666660006.jpeg', 'host-a011_cam2_1232755944417605006.jpeg', 'host-a006_cam1_1237322905434412006.jpeg', 'host-a101_cam0_1241889724650000006.jpeg', 'host-a007_cam5_1233955155067475006.jpeg', 'host-a007_cam4_1233955155084150006.jpeg', 'host-a006_cam1_1237322905234412006.jpeg', 'host-a004_cam2_1233422557017652006.jpeg', 'host-a006_cam1_1237322904634412006.jpeg', 'host-a102_cam0_1241904546350000006.jpeg', 'host-a006_cam3_1237322887200777006.jpeg', 'host-a004_cam1_1233422554234300006.jpeg', 'host-a004_cam0_1233422554251064006.jpeg', 'host-a004_cam6_1233422554250948006.jpeg', 'host-a102_cam2_1242662281582545006.jpeg', 'host-a102_cam3_1242662281599467006.jpeg', 'host-a102_cam0_1242662281549378006.jpeg', 'host-a102_cam5_1242662281532516006.jpeg', 'host-a007_cam1_1233007770434286006.jpeg', 'host-a011_cam2_1234553378317605006.jpeg', 'host-a004_cam2_1233616010517652006.jpeg', 'host-a011_cam1_1232835308834517006.jpeg', 'host-a011_cam2_1232817046617605006.jpeg', 'host-a011_cam1_1232817046634517006.jpeg', 'host-a011_cam2_1232755934217605006.jpeg', 'host-a008_cam5_1235776287967733006.jpeg', 'host-a102_cam4_1242510618615623006.jpeg', 'host-a102_cam3_1242510618699452006.jpeg', 'host-a009_cam1_1236015629134319006.jpeg', 'host-a009_cam3_1236013308400980006.jpeg', 'host-a005_cam5_1231201458532576006.jpeg', 'host-a101_cam6_1241472424550000006.jpeg', 'host-a006_cam2_1236038149817711006.jpeg', 'host-a101_cam1_1242493648965890006.jpeg', 'host-a007_cam2_1232470062617643006.jpeg', 'host-a011_cam1_1232817035434517006.jpeg', 'host-a009_cam1_1236015616734319006.jpeg', 'host-a102_cam6_1242510609844000006.jpeg', 'host-a011_cam2_1233964305917605006.jpeg', 'host-a006_cam3_1236038134600777006.jpeg', 'host-a006_cam0_1236038134650935006.jpeg', 'host-a006_cam5_1236038134667650006.jpeg', 'host-a011_cam1_1232817034834517006.jpeg', 'host-a008_cam6_1235776304751058006.jpeg', 'host-a008_cam1_1235776304734433006.jpeg', 'host-a004_cam1_1233535978334300006.jpeg', 'host-a004_cam6_1233535978350948006.jpeg', 'host-a101_cam1_1241893251866660006.jpeg', 'host-a101_cam4_1241893251816660006.jpeg', 'host-a011_cam5_1232492214267719006.jpeg', 'host-a007_cam4_1233955156084150006.jpeg', 'host-a007_cam5_1233955156067475006.jpeg', 'host-a011_cam2_1232755944817605006.jpeg', 'host-a004_cam2_1232815269217652006.jpeg', 'host-a102_cam6_1241904551550000006.jpeg', 'host-a008_cam4_1235777220384403006.jpeg', 'host-a008_cam3_1235777220301057006.jpeg', 'host-a008_cam0_1236016353851171006.jpeg', 'host-a008_cam1_1236016353834433006.jpeg', 'host-a102_cam3_1242510609099393006.jpeg', 'host-a102_cam4_1242510609015594006.jpeg', 'host-a102_cam6_1242510609044000006.jpeg', 'host-a011_cam6_1232492208451145006.jpeg', 'host-a011_cam4_1232492208484485006.jpeg', 'host-a009_cam0_1236014667251162006.jpeg', 'host-a004_cam1_1233421995034300006.jpeg', 'host-a004_cam0_1233421995051064006.jpeg', 'host-a009_cam1_1236015630134319006.jpeg', 'host-a009_cam2_1236015630117752006.jpeg', 'host-a008_cam6_1235776304951058006.jpeg', 'host-a008_cam1_1235776304934433006.jpeg', 'host-a004_cam2_1233422558617652006.jpeg', 'host-a004_cam6_1233422556050948006.jpeg', 'host-a004_cam1_1233422556034300006.jpeg', 'host-a006_cam2_1237322900817711006.jpeg', 'host-a011_cam1_1232755942034517006.jpeg', 'host-a007_cam4_1230936226516094006.jpeg', 'host-a006_cam1_1236037895634412006.jpeg', 'host-a011_cam4_1232492207884485006.jpeg', 'host-a004_cam6_1233947133250948006.jpeg', 'host-a006_cam3_1236037899400777006.jpeg', 'host-a008_cam4_1235777224784403006.jpeg', 'host-a004_cam6_1232815265050948006.jpeg', 'host-a011_cam0_1232755956851142006.jpeg', 'host-a009_cam2_1236013299417752006.jpeg', 'host-a004_cam3_1233421999200897006.jpeg', 'host-a004_cam3_1232815270400897006.jpeg', 'host-a004_cam3_1233535975300897006.jpeg', 'host-a011_cam2_1233963419217605006.jpeg', 'host-a007_cam6_1233955149450905006.jpeg', 'host-a007_cam4_1230485651616094006.jpeg', 'host-a007_cam4_1230936223316094006.jpeg', 'host-a006_cam2_1237322904017711006.jpeg', 'host-a102_cam3_1241904558200000006.jpeg', 'host-a102_cam2_1241904558183330006.jpeg', 'host-a009_cam5_1231200862832771006.jpeg', 'host-a011_cam4_1232839949684485006.jpeg', 'host-a011_cam2_1232755935817605006.jpeg', 'host-a101_cam2_1243102891382664006.jpeg', 'host-a011_cam5_1232492205067719006.jpeg', 'host-a011_cam0_1232492205051142006.jpeg', 'host-a006_cam2_1237322901617711006.jpeg', 'host-a011_cam1_1232817038034517006.jpeg', 'host-a102_cam5_1242510616632234006.jpeg', 'host-a101_cam1_1240877593266660006.jpeg', 'host-a101_cam2_1241886993383330006.jpeg', 'host-a007_cam4_1230936223116094006.jpeg', 'host-a008_cam1_1235776305734433006.jpeg', 'host-a008_cam6_1235776305751058006.jpeg', 'host-a101_cam1_1240877589266660006.jpeg', 'host-a101_cam1_1241472428966660006.jpeg', 'host-a101_cam0_1241472428950000006.jpeg', 'host-a007_cam3_1232470064000869006.jpeg', 'host-a004_cam3_1233963864400897006.jpeg', 'host-a004_cam2_1233963864417652006.jpeg', 'host-a011_cam4_1232492215684485006.jpeg', 'host-a008_cam1_1235776298134433006.jpeg', 'host-a102_cam0_1241904546950000006.jpeg', 'host-a102_cam1_1241904546966660006.jpeg', 'host-a006_cam2_1237322898817711006.jpeg', 'host-a006_cam2_1236037895817711006.jpeg', 'host-a011_cam1_1232817043834517006.jpeg', 'host-a004_cam1_1233422540234300006.jpeg', 'host-a004_cam0_1233422540251064006.jpeg', 'host-a101_cam5_1240877603833330006.jpeg', 'host-a101_cam1_1240877603866660006.jpeg', 'host-a101_cam0_1240877603850000006.jpeg', 'host-a101_cam4_1241893240416660006.jpeg', 'host-a101_cam1_1241893240466660006.jpeg', 'host-a011_cam1_1232835307834517006.jpeg', 'host-a007_cam4_1230936222116094006.jpeg', 'host-a101_cam1_1240877588466660006.jpeg', 'host-a006_cam2_1237322899017711006.jpeg', 'host-a004_cam3_1232905200300897006.jpeg', 'host-a004_cam1_1233014852434300006.jpeg', 'host-a101_cam1_1242748991566335006.jpeg', 'host-a101_cam3_1242748991599482006.jpeg', 'host-a101_cam4_1242580010815935006.jpeg', 'host-a011_cam1_1236123642334517006.jpeg', 'host-a011_cam2_1235950315417605006.jpeg', 'host-a009_cam1_1237581216034345006.jpeg', 'host-a009_cam2_1237581216017740006.jpeg', 'host-a011_cam1_1232752557834517006.jpeg', 'host-a011_cam0_1232909944551142006.jpeg', 'host-a011_cam1_1232909944534517006.jpeg', 'host-a011_cam3_1236093962900995006.jpeg', 'host-a011_cam3_1232752480200995006.jpeg', 'host-a011_cam4_1232752480284485006.jpeg', 'host-a011_cam1_1232752796434517006.jpeg', 'host-a015_cam5_1236112604167453006.jpeg', 'host-a011_cam2_1233090578417605006.jpeg', 'host-a011_cam2_1233965317317605006.jpeg', 'host-a101_cam1_1242748995566349006.jpeg', 'host-a101_cam3_1242748995499482006.jpeg', 'host-a011_cam0_1234639320651142006.jpeg', 'host-a011_cam1_1232752550434517006.jpeg', 'host-a007_cam2_1233079636017643006.jpeg', 'host-a101_cam5_1242580012632353006.jpeg', 'host-a101_cam0_1242580012649215006.jpeg', 'host-a004_cam0_1232923274651064006.jpeg', 'host-a011_cam2_1235950315017605006.jpeg', 'host-a011_cam1_1232905797734517006.jpeg', 'host-a011_cam2_1233512850817605006.jpeg', 'host-a011_cam6_1234466278551145006.jpeg', 'host-a011_cam5_1232752465667719006.jpeg', 'host-a011_cam1_1233090573434517006.jpeg', 'host-a011_cam2_1233090573417605006.jpeg', 'host-a004_cam0_1232923270851064006.jpeg', 'host-a011_cam6_1232752563651145006.jpeg', 'host-a101_cam2_1242583753082308006.jpeg', 'host-a011_cam0_1232752779051142006.jpeg', 'host-a101_cam6_1242748830944000006.jpeg', 'host-a011_cam6_1235933802551145006.jpeg', 'host-a101_cam0_1242583749048875006.jpeg', 'host-a101_cam1_1242583749063209006.jpeg', 'host-a101_cam0_1242583749248875006.jpeg', 'host-a101_cam1_1242583749263431006.jpeg', 'host-a101_cam2_1242748842182768006.jpeg', 'host-a101_cam3_1241561166500000006.jpeg', 'host-a011_cam2_1232909946517605006.jpeg', 'host-a011_cam2_1233090577617605006.jpeg', 'host-a011_cam1_1236038920834517006.jpeg', 'host-a011_cam0_1236038920851142006.jpeg', 'host-a011_cam6_1236119846351145006.jpeg', 'host-a011_cam1_1236122357334517006.jpeg', 'host-a011_cam0_1236122357351142006.jpeg', 'host-a011_cam1_1233688950134517006.jpeg', 'host-a011_cam2_1236122354717605006.jpeg', 'host-a011_cam6_1236122354751145006.jpeg', 'host-a011_cam3_1236122359300995006.jpeg', 'host-a011_cam2_1236122359317605006.jpeg', 'host-a011_cam1_1236122359334517006.jpeg', 'host-a004_cam2_1233014863817652006.jpeg', 'host-a011_cam2_1233688952117605006.jpeg', 'host-a004_cam3_1234047754100897006.jpeg', 'host-a015_cam5_1236112603967453006.jpeg', 'host-a004_cam0_1232905211951064006.jpeg', 'host-a101_cam1_1242748987566335006.jpeg', 'host-a011_cam6_1235931130551145006.jpeg', 'host-a004_cam2_1232842191117652006.jpeg', 'host-a007_cam2_1233510602517643006.jpeg', 'host-a011_cam2_1233090572417605006.jpeg', 'host-a011_cam1_1233090572434517006.jpeg', 'host-a101_cam2_1242583752682308006.jpeg', 'host-a101_cam4_1242583752616216006.jpeg', 'host-a011_cam2_1234466285117605006.jpeg', 'host-a011_cam1_1233965435934517006.jpeg', 'host-a017_cam1_1236119800634294006.jpeg', 'host-a015_cam5_1236112602767453006.jpeg', 'host-a011_cam6_1232905800151145006.jpeg', 'host-a011_cam2_1235950298817605006.jpeg', 'host-a007_cam0_1233689804750897006.jpeg', 'host-a011_cam2_1235866729517605006.jpeg', 'host-a011_cam2_1236104049917605006.jpeg', 'host-a011_cam1_1232752556234517006.jpeg', 'host-a102_cam6_1242754971144000006.jpeg', 'host-a011_cam2_1232752791817605006.jpeg', 'host-a011_cam2_1233965316117605006.jpeg', 'host-a011_cam3_1233688945100995006.jpeg', 'host-a011_cam2_1233688945117605006.jpeg', 'host-a011_cam1_1233688945134517006.jpeg', 'host-a004_cam6_1233014865050948006.jpeg', 'host-a007_cam0_1233079642150897006.jpeg', 'host-a015_cam5_1236112602567453006.jpeg', 'host-a004_cam0_1232923275051064006.jpeg', 'host-a011_cam2_1233965316517605006.jpeg', 'host-a101_cam6_1242753251144000006.jpeg', 'host-a004_cam6_1233014864450948006.jpeg', 'host-a004_cam2_1233014864417652006.jpeg', 'host-a007_cam2_1233524854017643006.jpeg', 'host-a011_cam1_1234466282134517006.jpeg', 'host-a004_cam2_1233620273117652006.jpeg', 'host-a012_cam0_1235937149251020006.jpeg', 'host-a012_cam1_1235937149234261006.jpeg', 'host-a011_cam1_1233688941934517006.jpeg', 'host-a015_cam4_1235423698084076006.jpeg', 'host-a011_cam1_1233965315534517006.jpeg', 'host-a004_cam2_1235947081917652006.jpeg', 'host-a101_cam2_1242583752882293006.jpeg', 'host-a004_cam1_1232842186034300006.jpeg', 'host-a011_cam1_1235931134934517006.jpeg', 'host-a004_cam0_1232923271451064006.jpeg', 'host-a004_cam1_1232905222234300006.jpeg', 'host-a011_cam2_1236122361317605006.jpeg', 'host-a011_cam2_1233090579017605006.jpeg', 'host-a011_cam3_1233090579000995006.jpeg', 'host-a011_cam3_1233688945700995006.jpeg', 'host-a011_cam2_1233688945717605006.jpeg', 'host-a011_cam6_1233965427551145006.jpeg', 'host-a004_cam0_1232923269251064006.jpeg', 'host-a011_cam1_1233512850034517006.jpeg', 'host-a011_cam1_1234466281934517006.jpeg', 'host-a101_cam6_1240875149850000006.jpeg', 'host-a004_cam3_1232842187200897006.jpeg', 'host-a011_cam1_1234466282534517006.jpeg', 'host-a011_cam1_1236122357934517006.jpeg', 'host-a102_cam6_1242754969544000006.jpeg', 'host-a004_cam2_1232905199117652006.jpeg', 'host-a011_cam5_1232752484267719006.jpeg', 'host-a004_cam1_1233620264334300006.jpeg', 'host-a101_cam6_1240875149250000006.jpeg', 'host-a011_cam2_1233090573017605006.jpeg', 'host-a011_cam1_1233090573034517006.jpeg', 'host-a011_cam1_1234466282934517006.jpeg', 'host-a011_cam0_1232752779251142006.jpeg', 'host-a101_cam5_1242580010032323006.jpeg', 'host-a101_cam4_1242580010015964006.jpeg', 'host-a007_cam6_1231093045249446006.jpeg', 'host-a011_cam2_1234466283917605006.jpeg', 'host-a102_cam1_1241548687866660006.jpeg', 'host-a102_cam0_1241548687850000006.jpeg', 'host-a101_cam3_1242748988799482006.jpeg', 'host-a101_cam1_1242748988766335006.jpeg', 'host-a011_cam0_1232752782251142006.jpeg', 'host-a101_cam1_1242748838166260006.jpeg', 'host-a011_cam6_1236119846151145006.jpeg', 'host-a101_cam3_1242580011199571006.jpeg', 'host-a101_cam4_1242580011215935006.jpeg', 'host-a011_cam2_1233688946117605006.jpeg', 'host-a011_cam3_1233688946100995006.jpeg', 'host-a011_cam0_1232752795451142006.jpeg', 'host-a007_cam2_1233079635817643006.jpeg', 'host-a011_cam1_1234466281134517006.jpeg', 'host-a102_cam5_1241548696033330006.jpeg', 'host-a102_cam6_1242754970144000006.jpeg', 'host-a011_cam5_1232752566667719006.jpeg', 'host-a011_cam4_1233965313184485006.jpeg', 'host-a102_cam1_1242754975164986006.jpeg', 'host-a004_cam1_1233685323934300006.jpeg', 'host-a009_cam1_1237581211634345006.jpeg', 'host-a004_cam6_1233685316750948006.jpeg', 'host-a101_cam3_1241216099400000006.jpeg', 'host-a011_cam2_1232909947317605006.jpeg', 'host-a101_cam1_1242748992966335006.jpeg', 'host-a101_cam3_1242748992999482006.jpeg', 'host-a011_cam1_1235950314234517006.jpeg', 'host-a011_cam2_1232752559617605006.jpeg', 'host-a011_cam1_1232752550034517006.jpeg', 'host-a004_cam2_1233685325517652006.jpeg', 'host-a004_cam3_1233685325500897006.jpeg', 'host-a101_cam3_1241561167000000006.jpeg', 'host-a017_cam2_1236119803017560006.jpeg', 'host-a101_cam3_1242580016199556006.jpeg', 'host-a101_cam4_1242580016215964006.jpeg', 'host-a009_cam1_1237581211034345006.jpeg', 'host-a004_cam3_1233620273900897006.jpeg', 'host-a004_cam0_1232923274851064006.jpeg', 'host-a007_cam1_1231093049066021006.jpeg', 'host-a004_cam1_1235947105534300006.jpeg', 'host-a011_cam1_1236122365134517006.jpeg', 'host-a101_cam1_1242748992166335006.jpeg', 'host-a101_cam3_1242748992199482006.jpeg', 'host-a011_cam1_1232752555834517006.jpeg', 'host-a011_cam1_1233965436334517006.jpeg', 'host-a102_cam6_1242754970744000006.jpeg', 'host-a011_cam1_1236122358134517006.jpeg', 'host-a011_cam1_1232752550834517006.jpeg', 'host-a004_cam6_1234047747550948006.jpeg', 'host-a011_cam1_1235866728134517006.jpeg', 'host-a007_cam1_1233689805534286006.jpeg', 'host-a011_cam2_1236122366717605006.jpeg', 'host-a017_cam3_1236118889400918006.jpeg', 'host-a017_cam6_1236118889450938006.jpeg', 'host-a011_cam1_1232752796634517006.jpeg', 'host-a101_cam2_1242144911283330006.jpeg', 'host-a101_cam3_1242144911300000006.jpeg', 'host-a004_cam2_1232905214117652006.jpeg', 'host-a015_cam5_1236112604567453006.jpeg', 'host-a011_cam6_1232745791451145006.jpeg', 'host-a004_cam0_1232923272851064006.jpeg', 'host-a007_cam2_1231093060482654006.jpeg', 'host-a011_cam6_1232905806751145006.jpeg', 'host-a004_cam0_1232842378451064006.jpeg', 'host-a004_cam2_1232923277617652006.jpeg', 'host-a011_cam1_1236122357534517006.jpeg', 'host-a011_cam0_1236122357551142006.jpeg', 'host-a011_cam0_1233965434751142006.jpeg', 'host-a011_cam6_1235933802151145006.jpeg', 'host-a011_cam1_1232752789434517006.jpeg', 'host-a011_cam3_1233087929200995006.jpeg', 'host-a011_cam2_1233087929217605006.jpeg', 'host-a004_cam0_1232923267451064006.jpeg', 'host-a011_cam2_1236123641517605006.jpeg', 'host-a011_cam2_1233090577217605006.jpeg', 'host-a011_cam1_1233090577234517006.jpeg', 'host-a011_cam0_1233965314151142006.jpeg', 'host-a011_cam1_1233965314134517006.jpeg', 'host-a011_cam1_1233965436134517006.jpeg', 'host-a011_cam1_1233081027834517006.jpeg', 'host-a007_cam2_1233689807117643006.jpeg', 'host-a011_cam3_1232752544600995006.jpeg', 'host-a011_cam1_1233688942134517006.jpeg', 'host-a011_cam1_1233090571634517006.jpeg', 'host-a011_cam2_1233090571617605006.jpeg', 'host-a011_cam1_1236119842934517006.jpeg', 'host-a007_cam1_1231093056866021006.jpeg', 'host-a004_cam3_1232923279400897006.jpeg', 'host-a011_cam1_1233512844034517006.jpeg', 'host-a011_cam0_1232752788451142006.jpeg', 'host-a101_cam1_1242748840566275006.jpeg', 'host-a101_cam2_1242748840582708006.jpeg', 'host-a101_cam4_1241561162216660006.jpeg', 'host-a101_cam3_1241561162200000006.jpeg', 'host-a011_cam1_1233090570634517006.jpeg', 'host-a011_cam2_1235866711717605006.jpeg', 'host-a011_cam1_1232752795834517006.jpeg', 'host-a101_cam0_1242748837549526006.jpeg', 'host-a101_cam1_1242748837566275006.jpeg', 'host-a011_cam2_1235931135917605006.jpeg', 'host-a015_cam4_1236112616784076006.jpeg', 'host-a101_cam6_1241561157450000006.jpeg', 'host-a011_cam0_1233512848851142006.jpeg', 'host-a011_cam6_1236123637351145006.jpeg', 'host-a004_cam1_1232905221734300006.jpeg', 'host-a101_cam2_1242748999382827006.jpeg', 'host-a011_cam6_1232905805551145006.jpeg', 'host-a011_cam2_1232905805517605006.jpeg', 'host-a011_cam6_1233688945551145006.jpeg', 'host-a011_cam3_1233688945500995006.jpeg', 'host-a011_cam2_1233688945517605006.jpeg', 'host-a011_cam1_1233688945534517006.jpeg', 'host-a004_cam1_1233014852834300006.jpeg', 'host-a011_cam2_1233965317517605006.jpeg', 'host-a004_cam6_1234047744750948006.jpeg', 'host-a011_cam2_1232752552217605006.jpeg', 'host-a011_cam4_1232752552284485006.jpeg', 'host-a017_cam2_1236118888417560006.jpeg', 'host-a011_cam1_1235931134734517006.jpeg', 'host-a011_cam3_1232909947900995006.jpeg', 'host-a101_cam0_1240875151050000006.jpeg', 'host-a101_cam2_1241561165683330006.jpeg', 'host-a011_cam6_1232905799951145006.jpeg', 'host-a004_cam6_1234047744950948006.jpeg', 'host-a011_cam2_1233688951517605006.jpeg', 'host-a011_cam1_1236122365734517006.jpeg', 'host-a101_cam4_1241561161416660006.jpeg', 'host-a004_cam6_1232842189850948006.jpeg', 'host-a004_cam1_1232842185634300006.jpeg', 'host-a011_cam2_1232752791217605006.jpeg', 'host-a101_cam1_1242748839366275006.jpeg', 'host-a004_cam1_1232923276234300006.jpeg', 'host-a015_cam5_1236112614967453006.jpeg', 'host-a011_cam2_1233090575817605006.jpeg', 'host-a011_cam1_1233090575834517006.jpeg', 'host-a011_cam3_1233965318700995006.jpeg', 'host-a017_cam1_1236118887634294006.jpeg', 'host-a011_cam1_1235866709334517006.jpeg', 'host-a101_cam1_1242583750464809006.jpeg', 'host-a101_cam0_1242583750448949006.jpeg', 'host-a009_cam1_1237581214834345006.jpeg', 'host-a011_cam3_1232752797800995006.jpeg', 'host-a011_cam2_1232752797817605006.jpeg', 'host-a101_cam0_1242580008649200006.jpeg', 'host-a101_cam5_1242580008632323006.jpeg', 'host-a011_cam3_1233087923800995006.jpeg', 'host-a011_cam1_1236122366134517006.jpeg', 'host-a004_cam1_1233014863234300006.jpeg', 'host-a015_cam4_1235423696684076006.jpeg', 'host-a011_cam2_1236104050517605006.jpeg', 'host-a011_cam2_1236122349317605006.jpeg', 'host-a004_cam1_1232905221334300006.jpeg', 'host-a101_cam0_1240875151850000006.jpeg', 'host-a011_cam3_1236119843900995006.jpeg', 'host-a011_cam2_1236119843917605006.jpeg', 'host-a017_cam1_1236118892834294006.jpeg', 'host-a017_cam0_1236118892850894006.jpeg', 'host-a011_cam1_1232752543234517006.jpeg', 'host-a007_cam1_1233689806134286006.jpeg', 'host-a101_cam2_1242748841982753006.jpeg', 'host-a101_cam3_1242748991399482006.jpeg', 'host-a101_cam1_1242748991366335006.jpeg', 'host-a101_cam2_1241561166283330006.jpeg', 'host-a101_cam3_1241561166300000006.jpeg', 'host-a004_cam1_1233620266534300006.jpeg', 'host-a011_cam2_1235866712317605006.jpeg', 'host-a011_cam1_1235866719134517006.jpeg', 'host-a009_cam0_1236123739451174006.jpeg', 'host-a017_cam0_1236118887050894006.jpeg', 'host-a011_cam1_1235950322134517006.jpeg', 'host-a011_cam1_1233087926434517006.jpeg', 'host-a102_cam2_1241548695683330006.jpeg', 'host-a007_cam2_1233689807317643006.jpeg', 'host-a011_cam2_1232752797217605006.jpeg', 'host-a011_cam4_1232752485684485006.jpeg', 'host-a011_cam0_1232752485651142006.jpeg', 'host-a011_cam5_1232752485667719006.jpeg', 'host-a011_cam3_1236093962300995006.jpeg', 'host-a011_cam0_1236122372751142006.jpeg', 'host-a011_cam1_1236122372734517006.jpeg', 'host-a007_cam2_1233079627217643006.jpeg', 'host-a101_cam1_1242748990366335006.jpeg', 'host-a101_cam3_1242748990399482006.jpeg', 'host-a011_cam1_1233688942734517006.jpeg', 'host-a011_cam2_1233688942717605006.jpeg', 'host-a101_cam1_1242748839166275006.jpeg', 'host-a011_cam2_1232905804917605006.jpeg', 'host-a011_cam1_1236038921434517006.jpeg', 'host-a011_cam0_1232752549251142006.jpeg', 'host-a004_cam2_1232842191017652006.jpeg', 'host-a011_cam2_1233965437517605006.jpeg', 'host-a004_cam0_1232905212551064006.jpeg', 'host-a011_cam3_1233087923400995006.jpeg', 'host-a011_cam2_1233087923417605006.jpeg', 'host-a011_cam1_1233512849834517006.jpeg', 'host-a007_cam3_1233524861600869006.jpeg', 'host-a011_cam1_1234466281534517006.jpeg', 'host-a011_cam1_1233087921034517006.jpeg', 'host-a004_cam1_1233620267134300006.jpeg', 'host-a011_cam2_1233090572217605006.jpeg', 'host-a011_cam1_1233090572234517006.jpeg', 'host-a101_cam0_1240875153650000006.jpeg', 'host-a101_cam2_1240875153683330006.jpeg', 'host-a011_cam1_1232909950534517006.jpeg', 'host-a011_cam6_1236122367151145006.jpeg', 'host-a011_cam2_1236122367117605006.jpeg', 'host-a011_cam2_1236104049517605006.jpeg', 'host-a011_cam1_1233090570234517006.jpeg', 'host-a101_cam6_1241561156650000006.jpeg', 'host-a017_cam0_1236119800250894006.jpeg', 'host-a017_cam1_1236119800234294006.jpeg', 'host-a011_cam2_1236119843317605006.jpeg', 'host-a004_cam1_1233620271534300006.jpeg', 'host-a004_cam2_1233620271517652006.jpeg', 'host-a011_cam6_1235933801351145006.jpeg', 'host-a011_cam1_1236123642934517006.jpeg', 'host-a011_cam1_1232909946134517006.jpeg', 'host-a011_cam6_1233965427351145006.jpeg', 'host-a101_cam0_1242749000749349006.jpeg', 'host-a007_cam2_1233524859017643006.jpeg', 'host-a011_cam6_1232905806351145006.jpeg', 'host-a101_cam1_1242749002166112006.jpeg', 'host-a004_cam1_1232923277434300006.jpeg', 'host-a009_cam2_1237581212417740006.jpeg', 'host-a007_cam6_1233529710550905006.jpeg', 'host-a011_cam1_1233090575434517006.jpeg', 'host-a011_cam2_1233090575417605006.jpeg', 'host-a011_cam1_1233090574634517006.jpeg', 'host-a011_cam2_1233090574617605006.jpeg', 'host-a101_cam6_1242748830544000006.jpeg', 'host-a011_cam2_1233965317917605006.jpeg', 'host-a011_cam5_1232752483867719006.jpeg', 'host-a007_cam0_1233079641650897006.jpeg', 'host-a101_cam5_1242748997132708006.jpeg', 'host-a101_cam0_1242753257549067006.jpeg', 'host-a017_cam2_1236118888817560006.jpeg', 'host-a101_cam1_1242748987366335006.jpeg', 'host-a011_cam2_1236123643117605006.jpeg', 'host-a011_cam2_1232909951517605006.jpeg', 'host-a004_cam1_1233620267534300006.jpeg', 'host-a011_cam3_1232752480400995006.jpeg', 'host-a004_cam6_1233685319550948006.jpeg', 'host-a004_cam1_1233685319534300006.jpeg', 'host-a101_cam5_1242748997732708006.jpeg', 'host-a101_cam0_1241561172650000006.jpeg', 'host-a011_cam1_1232905797334517006.jpeg', 'host-a011_cam6_1236123637551145006.jpeg', 'host-a011_cam6_1233965426551145006.jpeg', 'host-a007_cam1_1231093056666021006.jpeg', 'host-a015_cam3_1235423698400936006.jpeg', 'host-a015_cam4_1235423698484076006.jpeg', 'host-a007_cam1_1230672871666021006.jpeg', 'host-a011_cam4_1232752568184485006.jpeg', 'host-a101_cam5_1241561159033330006.jpeg', 'host-a101_cam0_1241561159050000006.jpeg', 'host-a102_cam1_1241548693666660006.jpeg', 'host-a102_cam2_1241548693683330006.jpeg', 'host-a012_cam2_1235937151017630006.jpeg', 'host-a011_cam2_1235866730317605006.jpeg', 'host-a007_cam2_1233524858817643006.jpeg', 'host-a011_cam1_1236119842134517006.jpeg', 'host-a011_cam3_1232909948100995006.jpeg', 'host-a101_cam0_1242753257949112006.jpeg', 'host-a101_cam1_1242753257965120006.jpeg', 'host-a011_cam1_1233090569434517006.jpeg', 'host-a011_cam2_1233688951717605006.jpeg', 'host-a101_cam2_1241216098983330006.jpeg', 'host-a011_cam0_1232752778651142006.jpeg', 'host-a101_cam6_1241561156450000006.jpeg', 'host-a009_cam2_1237581212817740006.jpeg', 'host-a101_cam6_1242748829944000006.jpeg', 'host-a004_cam1_1233620269734300006.jpeg', 'host-a011_cam2_1232752792017605006.jpeg', 'host-a101_cam0_1242580008449200006.jpeg', 'host-a101_cam5_1242580008432323006.jpeg', 'host-a101_cam3_1242753261298978006.jpeg', 'host-a011_cam1_1236104048334517006.jpeg', 'host-a004_cam0_1232923271251064006.jpeg', 'host-a101_cam4_1242580016015964006.jpeg', 'host-a101_cam3_1242580015999556006.jpeg', 'host-a009_cam6_1236123735851064006.jpeg', 'host-a004_cam3_1232842187000897006.jpeg', 'host-a102_cam2_1242754976982042006.jpeg', 'host-a017_cam2_1236119802417560006.jpeg', 'host-a011_cam1_1232752551834517006.jpeg', 'host-a011_cam4_1232752551884485006.jpeg', 'host-a011_cam3_1233090579600995006.jpeg', 'host-a101_cam0_1240875152450000006.jpeg', 'host-a009_cam6_1236123735051064006.jpeg', 'host-a007_cam3_1233510603300869006.jpeg', 'host-a007_cam2_1233524855217643006.jpeg', 'host-a007_cam2_1233524857617643006.jpeg', 'host-a011_cam0_1232752779451142006.jpeg', 'host-a011_cam0_1234639316851142006.jpeg', 'host-a011_cam0_1233087926051142006.jpeg', 'host-a011_cam1_1233087926034517006.jpeg', 'host-a011_cam1_1234466283134517006.jpeg', 'host-a101_cam1_1242748835766246006.jpeg', 'host-a011_cam1_1236104047934517006.jpeg', 'host-a011_cam0_1234639317451142006.jpeg', 'host-a004_cam1_1233620263734300006.jpeg', 'host-a101_cam3_1242748995299482006.jpeg', 'host-a101_cam1_1242748995366349006.jpeg', 'host-a011_cam5_1232752566067719006.jpeg', 'host-a102_cam1_1241548693466660006.jpeg', 'host-a102_cam2_1241548693483330006.jpeg', 'host-a004_cam1_1232923287634300006.jpeg', 'host-a011_cam6_1236122367751145006.jpeg', 'host-a011_cam3_1236122367700995006.jpeg', 'host-a011_cam2_1236122367717605006.jpeg', 'host-a004_cam0_1232842185451064006.jpeg', 'host-a101_cam4_1242580012015949006.jpeg', 'host-a101_cam3_1242580011999571006.jpeg', 'host-a011_cam2_1236038922417605006.jpeg', 'host-a015_cam5_1236112602367453006.jpeg', 'host-a101_cam1_1242748839566275006.jpeg', 'host-a101_cam5_1242748996932708006.jpeg', 'host-a101_cam0_1240875152250000006.jpeg', 'host-a011_cam0_1234639317651142006.jpeg', 'host-a101_cam5_1242580009432323006.jpeg', 'host-a101_cam0_1242580013449215006.jpeg', 'host-a101_cam5_1242580013432353006.jpeg', 'host-a011_cam2_1233087935817605006.jpeg', 'host-a004_cam1_1233620267334300006.jpeg', 'host-a011_cam3_1232909952300995006.jpeg', 'host-a012_cam6_1235937146250881006.jpeg', 'host-a011_cam2_1236122358717605006.jpeg', 'host-a011_cam1_1236122358734517006.jpeg', 'host-a011_cam1_1233087918234517006.jpeg', 'host-a011_cam3_1232909952700995006.jpeg', 'host-a011_cam3_1232752559800995006.jpeg', 'host-a011_cam2_1232752559817605006.jpeg', 'host-a007_cam1_1233529712934286006.jpeg', 'host-a101_cam0_1240875151250000006.jpeg', 'host-a007_cam1_1233079634234286006.jpeg', 'host-a011_cam1_1235866709734517006.jpeg', 'host-a007_cam0_1231093048849429006.jpeg', 'host-a011_cam1_1234466281334517006.jpeg', 'host-a007_cam2_1233510602317643006.jpeg', 'host-a011_cam6_1236123637151145006.jpeg', 'host-a101_cam1_1242583749663875006.jpeg', 'host-a101_cam0_1242583749648963006.jpeg', 'host-a102_cam1_1241548692866660006.jpeg', 'host-a102_cam0_1241548692850000006.jpeg', 'host-a011_cam3_1232905799100995006.jpeg', 'host-a012_cam2_1235937152617630006.jpeg', 'host-a011_cam1_1233688944934517006.jpeg', 'host-a011_cam2_1233688944917605006.jpeg', 'host-a015_cam5_1236112602967453006.jpeg', 'host-a101_cam6_1242753253544000006.jpeg', 'host-a011_cam1_1232752550234517006.jpeg', 'host-a007_cam2_1233524856817643006.jpeg', 'host-a011_cam2_1236122355117605006.jpeg', 'host-a004_cam1_1232905222134300006.jpeg', 'host-a004_cam1_1233620264934300006.jpeg', 'host-a004_cam1_1233620269334300006.jpeg', 'host-a011_cam3_1233965438500995006.jpeg', 'host-a011_cam2_1233965317117605006.jpeg', 'host-a011_cam0_1236122358551142006.jpeg', 'host-a011_cam1_1236122358534517006.jpeg', 'host-a011_cam2_1236122358517605006.jpeg', 'host-a007_cam0_1230672870849429006.jpeg', 'host-a011_cam2_1232752552617605006.jpeg', 'host-a011_cam4_1232752552684485006.jpeg', 'host-a011_cam5_1232752566867719006.jpeg', 'host-a011_cam2_1232752556617605006.jpeg', 'host-a004_cam1_1233620263334300006.jpeg', 'host-a101_cam0_1242583749448889006.jpeg', 'host-a101_cam1_1242583749463727006.jpeg', 'host-a011_cam6_1235933801551145006.jpeg', 'host-a011_cam0_1234639319251142006.jpeg', 'host-a102_cam1_1241548692466660006.jpeg', 'host-a102_cam0_1241548692450000006.jpeg', 'host-a004_cam1_1233620263534300006.jpeg', 'host-a101_cam1_1242748995966349006.jpeg', 'host-a004_cam1_1232905220734300006.jpeg', 'host-a004_cam0_1232905220751064006.jpeg', 'host-a011_cam0_1236119841751142006.jpeg', 'host-a011_cam1_1232752796234517006.jpeg', 'host-a011_cam4_1232752567884485006.jpeg', 'host-a004_cam1_1232842185834300006.jpeg', 'host-a101_cam1_1242748839766260006.jpeg', 'host-a011_cam0_1236122356751142006.jpeg', 'host-a011_cam2_1235950298417605006.jpeg', 'host-a007_cam1_1231093058466021006.jpeg', 'host-a012_cam0_1235937149451020006.jpeg', 'host-a012_cam1_1235937149434261006.jpeg', 'host-a011_cam6_1234466278751145006.jpeg', 'host-a011_cam2_1235866712517605006.jpeg', 'host-a011_cam1_1232909945734517006.jpeg', 'host-a101_cam0_1242753258149126006.jpeg', 'host-a101_cam1_1242753258165209006.jpeg', 'host-a007_cam0_1233079642050897006.jpeg', 'host-a011_cam3_1233087929600995006.jpeg', 'host-a004_cam1_1235947106134300006.jpeg', 'host-a011_cam3_1233087922600995006.jpeg', 'host-a007_cam1_1231093057066021006.jpeg', 'host-a102_cam0_1241548688450000006.jpeg', 'host-a102_cam1_1241548688466660006.jpeg', 'host-a101_cam4_1242580015215964006.jpeg', 'host-a101_cam3_1242748993299482006.jpeg', 'host-a101_cam1_1242748993366335006.jpeg', 'host-a007_cam1_1233079634434286006.jpeg', 'host-a011_cam3_1232752798200995006.jpeg', 'host-a011_cam2_1232909951117605006.jpeg', 'host-a012_cam2_1235937152417630006.jpeg', 'host-a004_cam1_1233620263934300006.jpeg', 'host-a011_cam6_1233965427751145006.jpeg', 'host-a007_cam3_1233510603500869006.jpeg', 'host-a101_cam3_1242753260598978006.jpeg', 'host-a101_cam2_1242753260580975006.jpeg', 'host-a011_cam1_1233090569034517006.jpeg', 'host-a011_cam3_1236122361500995006.jpeg', 'host-a011_cam2_1236123643317605006.jpeg', 'host-a007_cam6_1233689814950905006.jpeg', 'host-a007_cam1_1233621270134286006.jpeg', 'host-a011_cam2_1236119843717605006.jpeg', 'host-a011_cam3_1234466285900995006.jpeg', 'host-a011_cam2_1236038922217605006.jpeg', 'host-a101_cam2_1242753260181597006.jpeg', 'host-a011_cam5_1232752483667719006.jpeg', 'host-a011_cam6_1236123637751145006.jpeg', 'host-a007_cam2_1233079635617643006.jpeg', 'host-a004_cam0_1232923273451064006.jpeg', 'host-a004_cam6_1232905209150948006.jpeg', 'host-a011_cam1_1233688944734517006.jpeg', 'host-a011_cam2_1233688944717605006.jpeg', 'host-a011_cam3_1236038923400995006.jpeg', 'host-a004_cam2_1233014854617652006.jpeg', 'host-a004_cam1_1233014854634300006.jpeg', 'host-a017_cam0_1236118892650894006.jpeg', 'host-a017_cam1_1236118892634294006.jpeg', 'host-a101_cam0_1241561164850000006.jpeg', 'host-a101_cam1_1241561164866660006.jpeg', 'host-a101_cam2_1242583752482293006.jpeg', 'host-a004_cam0_1232923268251064006.jpeg', 'host-a011_cam1_1236119842734517006.jpeg', 'host-a011_cam2_1232752544217605006.jpeg', 'host-a011_cam3_1232752560000995006.jpeg', 'host-a101_cam6_1242748829544000006.jpeg', 'host-a011_cam3_1233087923200995006.jpeg', 'host-a011_cam2_1233087923217605006.jpeg', 'host-a011_cam0_1232752778451142006.jpeg', 'host-a011_cam1_1232905797934517006.jpeg', 'host-a004_cam3_1234047754300897006.jpeg', 'host-a101_cam4_1241561160616660006.jpeg', 'host-a101_cam5_1241561160633330006.jpeg', 'host-a011_cam1_1232905804534517006.jpeg', 'host-a007_cam0_1233689804950897006.jpeg', 'host-a011_cam2_1235866729917605006.jpeg', 'host-a011_cam4_1232752484884485006.jpeg', 'host-a017_cam1_1236118893034294006.jpeg', 'host-a101_cam2_1240875154883330006.jpeg', 'host-a011_cam6_1232752564851145006.jpeg', 'host-a007_cam2_1231093050482654006.jpeg', 'host-a004_cam3_1232923279000897006.jpeg', 'host-a102_cam6_1242754969944000006.jpeg', 'host-a017_cam3_1236118889000918006.jpeg', 'host-a017_cam2_1236118889017560006.jpeg', 'host-a007_cam0_1231093048449429006.jpeg', 'host-a011_cam0_1233087925051142006.jpeg', 'host-a011_cam1_1233087925034517006.jpeg', 'host-a011_cam3_1233087925000995006.jpeg', 'host-a007_cam6_1233529710750905006.jpeg', 'host-a004_cam0_1234047751951064006.jpeg', 'host-a004_cam1_1234047751934300006.jpeg', 'host-a011_cam1_1233087934634517006.jpeg', 'host-a011_cam1_1233087925634517006.jpeg', 'host-a007_cam0_1231093048249429006.jpeg', 'host-a101_cam3_1242583753899304006.jpeg', 'host-a101_cam2_1242583753882427006.jpeg', 'host-a101_cam2_1242144910483330006.jpeg', 'host-a007_cam2_1233524858417643006.jpeg', 'host-a011_cam2_1233688946317605006.jpeg', 'host-a011_cam1_1233090567634517006.jpeg', 'host-a004_cam3_1232905198900897006.jpeg', 'host-a004_cam2_1232905198917652006.jpeg', 'host-a007_cam6_1233529710350905006.jpeg', 'host-a011_cam2_1232909952117605006.jpeg', 'host-a011_cam3_1232909952100995006.jpeg', 'host-a011_cam2_1233090578217605006.jpeg', 'host-a007_cam2_1233529714517643006.jpeg', 'host-a004_cam6_1234047743750948006.jpeg', 'host-a101_cam2_1242753259781612006.jpeg', 'host-a011_cam2_1232905805317605006.jpeg', 'host-a101_cam0_1240875151450000006.jpeg', 'host-a011_cam1_1232752558234517006.jpeg', 'host-a102_cam1_1241548689666660006.jpeg', 'host-a102_cam0_1241548689650000006.jpeg', 'host-a011_cam3_1236122359900995006.jpeg', 'host-a011_cam2_1236122359917605006.jpeg', 'host-a004_cam1_1232923276034300006.jpeg', 'host-a004_cam0_1232923270451064006.jpeg', 'host-a004_cam1_1232923276834300006.jpeg', 'host-a004_cam2_1232923278217652006.jpeg', 'host-a101_cam6_1242748831544000006.jpeg', 'host-a011_cam6_1236038917851145006.jpeg', 'host-a011_cam5_1232752479467719006.jpeg', 'host-a004_cam1_1232842190834300006.jpeg', 'host-a011_cam2_1235950298217605006.jpeg', 'host-a011_cam0_1233965435551142006.jpeg', 'host-a004_cam1_1233014854434300006.jpeg', 'host-a004_cam2_1233014854417652006.jpeg', 'host-a101_cam0_1241561159650000006.jpeg', 'host-a101_cam5_1241561159633330006.jpeg', 'host-a011_cam2_1233090578017605006.jpeg', 'host-a011_cam2_1235950298617605006.jpeg', 'host-a007_cam2_1233079631217643006.jpeg', 'host-a004_cam1_1233620260334300006.jpeg', 'host-a011_cam1_1232752551234517006.jpeg', 'host-a011_cam5_1232752551267719006.jpeg', 'host-a004_cam2_1233620271917652006.jpeg', 'host-a004_cam6_1234047748950948006.jpeg', 'host-a011_cam6_1233965428151145006.jpeg', 'host-a011_cam1_1236122353934517006.jpeg', 'host-a011_cam6_1236122353951145006.jpeg', 'host-a011_cam1_1236122371734517006.jpeg', 'host-a015_cam4_1235423697684076006.jpeg', 'host-a009_cam1_1236123740634345006.jpeg', 'host-a011_cam3_1232752792400995006.jpeg', 'host-a011_cam2_1232752792417605006.jpeg', 'host-a011_cam6_1236038916451145006.jpeg', 'host-a101_cam1_1242748994766349006.jpeg', 'host-a101_cam3_1242748994799482006.jpeg', 'host-a011_cam2_1236122374117605006.jpeg', 'host-a009_cam1_1237581229434345006.jpeg', 'host-a101_cam3_1242748991999482006.jpeg', 'host-a101_cam1_1242748991966335006.jpeg', 'host-a015_cam4_1235423697484076006.jpeg', 'host-a101_cam6_1241561159850000006.jpeg', 'host-a101_cam5_1241561159833330006.jpeg', 'host-a011_cam6_1233512841451145006.jpeg', 'host-a004_cam0_1232923274451064006.jpeg', 'host-a011_cam1_1232752558434517006.jpeg', 'host-a011_cam2_1236122366517605006.jpeg', 'host-a011_cam1_1233090576434517006.jpeg', 'host-a011_cam2_1233090576417605006.jpeg', 'host-a011_cam5_1232752566267719006.jpeg', 'host-a011_cam6_1236122355351145006.jpeg', 'host-a011_cam2_1236122355317605006.jpeg', 'host-a011_cam3_1236122355300995006.jpeg', 'host-a011_cam2_1236123641317605006.jpeg', 'host-a101_cam1_1242748988166335006.jpeg', 'host-a101_cam3_1242748994899482006.jpeg', 'host-a101_cam1_1242748994966349006.jpeg', 'host-a101_cam2_1242583754082442006.jpeg', 'host-a101_cam3_1242583754099349006.jpeg', 'host-a101_cam1_1242748986166335006.jpeg', 'host-a007_cam6_1231093045449446006.jpeg', 'host-a102_cam0_1242754973748919006.jpeg', 'host-a011_cam6_1236119845951145006.jpeg', 'host-a011_cam2_1233090575217605006.jpeg', 'host-a011_cam1_1233090575234517006.jpeg', 'host-a011_cam1_1232752796034517006.jpeg', 'host-a007_cam1_1233689805934286006.jpeg', 'host-a011_cam6_1233965430751145006.jpeg', 'host-a011_cam0_1234639320251142006.jpeg', 'host-a011_cam2_1233965317717605006.jpeg', 'host-a011_cam0_1232752781451142006.jpeg', 'host-a007_cam1_1233524852434286006.jpeg', 'host-a007_cam0_1233524852450897006.jpeg', 'host-a004_cam6_1234047747150948006.jpeg', 'host-a004_cam6_1233014865850948006.jpeg', 'host-a007_cam2_1231093049882654006.jpeg', 'host-a102_cam0_1241548691650000006.jpeg', 'host-a102_cam1_1241548691666660006.jpeg', 'host-a101_cam1_1241561165066660006.jpeg', 'host-a101_cam0_1241561172250000006.jpeg', 'host-a011_cam6_1236122354351145006.jpeg', 'host-a011_cam1_1236122354334517006.jpeg', 'host-a011_cam2_1236122354317605006.jpeg', 'host-a004_cam2_1232842186817652006.jpeg', 'host-a011_cam2_1233087935217605006.jpeg', 'host-a101_cam1_1242748996566349006.jpeg', 'host-a011_cam2_1236122360917605006.jpeg', 'host-a011_cam0_1233965434951142006.jpeg', 'host-a004_cam0_1232923271851064006.jpeg', 'host-a011_cam0_1232752781051142006.jpeg', 'host-a004_cam6_1233685316950948006.jpeg', 'host-a011_cam1_1233688950334517006.jpeg', 'host-a011_cam1_1232909945534517006.jpeg', 'host-a011_cam1_1233688950534517006.jpeg', 'host-a011_cam1_1235866709534517006.jpeg', 'host-a011_cam2_1236038923017605006.jpeg', 'host-a101_cam6_1242748831144000006.jpeg', 'host-a017_cam1_1236118887434294006.jpeg', 'host-a011_cam3_1232752787200995006.jpeg', 'host-a011_cam6_1232752564051145006.jpeg', 'host-a004_cam1_1233014853034300006.jpeg', 'host-a015_cam5_1236112605167453006.jpeg', 'host-a007_cam2_1233079627817643006.jpeg', 'host-a011_cam6_1232905806151145006.jpeg', 'host-a011_cam3_1232905806100995006.jpeg', 'host-a004_cam0_1232923269651064006.jpeg', 'host-a101_cam0_1241561172050000006.jpeg', 'host-a101_cam2_1242748841182723006.jpeg', 'host-a004_cam6_1233685315550948006.jpeg', 'host-a015_cam5_1236112613367453006.jpeg', 'host-a101_cam3_1242753260399038006.jpeg', 'host-a101_cam2_1242753260381360006.jpeg', 'host-a101_cam0_1240875152850000006.jpeg', 'host-a101_cam1_1242583750064394006.jpeg', 'host-a101_cam0_1242583750048934006.jpeg', 'host-a004_cam0_1232923274051064006.jpeg', 'host-a004_cam0_1232923269051064006.jpeg', 'host-a004_cam0_1232923275651064006.jpeg', 'host-a101_cam3_1241216100000000006.jpeg', 'host-a004_cam1_1232905212934300006.jpeg', 'host-a011_cam1_1233688943934517006.jpeg', 'host-a011_cam2_1233688943917605006.jpeg', 'host-a012_cam0_1235937149051020006.jpeg', 'host-a004_cam6_1234047745150948006.jpeg', 'host-a011_cam0_1236123639751142006.jpeg', 'host-a101_cam1_1242748835366260006.jpeg', 'host-a011_cam2_1235866730117605006.jpeg', 'host-a011_cam1_1233087921234517006.jpeg', 'host-a011_cam3_1233087921200995006.jpeg', 'host-a004_cam1_1235947105334300006.jpeg', 'host-a004_cam2_1233516153017652006.jpeg', 'host-a101_cam5_1242580009232323006.jpeg', 'host-a007_cam2_1233524858217643006.jpeg', 'host-a011_cam2_1232752543817605006.jpeg', 'host-a004_cam2_1234047753717652006.jpeg', 'host-a004_cam2_1233014854217652006.jpeg', 'host-a004_cam1_1233685319334300006.jpeg', 'host-a004_cam6_1233685319350948006.jpeg', 'host-a004_cam1_1234047752734300006.jpeg', 'host-a015_cam4_1235423697884076006.jpeg', 'host-a101_cam0_1241216097750000006.jpeg', 'host-a101_cam1_1241216097766660006.jpeg', 'host-a011_cam6_1235931131351145006.jpeg', 'host-a004_cam2_1232905213917652006.jpeg', 'host-a011_cam2_1232752559217605006.jpeg', 'host-a004_cam1_1233516152434300006.jpeg', 'host-a101_cam4_1242580010615935006.jpeg', 'host-a007_cam2_1231093057482654006.jpeg', 'host-a009_cam1_1237581215834345006.jpeg', 'host-a009_cam2_1237581215817740006.jpeg', 'host-a011_cam1_1235950314634517006.jpeg', 'host-a011_cam2_1233090578817605006.jpeg', 'host-a004_cam2_1233685325317652006.jpeg', 'host-a004_cam3_1233685325300897006.jpeg', 'host-a011_cam2_1233965437717605006.jpeg', 'host-a011_cam1_1233090571434517006.jpeg', 'host-a011_cam2_1233090571417605006.jpeg', 'host-a011_cam0_1233512849051142006.jpeg', 'host-a004_cam2_1233685320717652006.jpeg', 'host-a007_cam1_1233621270534286006.jpeg', 'host-a101_cam4_1242583754816260006.jpeg', 'host-a101_cam1_1242583750264601006.jpeg', 'host-a101_cam0_1242583750248934006.jpeg', 'host-a101_cam6_1242753253744000006.jpeg', 'host-a011_cam6_1232905794551145006.jpeg', 'host-a011_cam1_1232905785734517006.jpeg', 'host-a011_cam6_1235931131951145006.jpeg', 'host-a102_cam1_1241548689266660006.jpeg', 'host-a102_cam0_1241548689250000006.jpeg', 'host-a011_cam1_1236038922034517006.jpeg', 'host-a101_cam1_1242748835566246006.jpeg', 'host-a011_cam0_1232905796551142006.jpeg', 'host-a102_cam0_1241548690250000006.jpeg', 'host-a102_cam1_1241548690266660006.jpeg', 'host-a011_cam1_1234466281734517006.jpeg', 'host-a007_cam0_1230672871249429006.jpeg', 'host-a012_cam6_1235937146650881006.jpeg', 'host-a012_cam1_1235937149834261006.jpeg', 'host-a011_cam1_1233087920234517006.jpeg', 'host-a101_cam6_1242748831744000006.jpeg', 'host-a011_cam2_1233688944517605006.jpeg', 'host-a011_cam2_1233081028217605006.jpeg', 'host-a017_cam1_1236118887234294006.jpeg', 'host-a017_cam0_1236118887250894006.jpeg', 'host-a011_cam2_1233965437317605006.jpeg', 'host-a011_cam2_1235866711917605006.jpeg', 'host-a004_cam1_1233620267934300006.jpeg', 'host-a011_cam2_1233965316717605006.jpeg', 'host-a004_cam2_1232923278017652006.jpeg', 'host-a009_cam1_1237581230634345006.jpeg', 'host-a007_cam2_1233079636217643006.jpeg', 'host-a004_cam6_1233685318950948006.jpeg', 'host-a011_cam5_1233965312367719006.jpeg', 'host-a004_cam2_1233516152817652006.jpeg', 'host-a004_cam2_1233685320917652006.jpeg', 'host-a101_cam1_1242748996766349006.jpeg', 'host-a011_cam6_1232745792051145006.jpeg', 'host-a101_cam6_1241561156250000006.jpeg', 'host-a011_cam1_1233087926234517006.jpeg', 'host-a011_cam0_1233087926251142006.jpeg', 'host-a011_cam0_1236119841951142006.jpeg', 'host-a101_cam1_1242583750865090006.jpeg', 'host-a015_cam5_1236112603767453006.jpeg', 'host-a011_cam0_1236038920651142006.jpeg', 'host-a101_cam0_1241561164450000006.jpeg', 'host-a011_cam1_1232909945134517006.jpeg', 'host-a011_cam1_1236122373534517006.jpeg', 'host-a011_cam2_1236122373517605006.jpeg', 'host-a007_cam0_1233689805150897006.jpeg', 'host-a007_cam1_1233689805134286006.jpeg', 'host-a102_cam1_1242754975365001006.jpeg', 'host-a101_cam6_1241561156050000006.jpeg', 'host-a007_cam1_1233510601534286006.jpeg', 'host-a012_cam2_1235937152017630006.jpeg', 'host-a011_cam1_1232752790034517006.jpeg', 'host-a007_cam0_1230672871449429006.jpeg', 'host-a007_cam1_1230672871466021006.jpeg', 'host-a011_cam2_1235950299217605006.jpeg', 'host-a009_cam3_1236123741800965006.jpeg', 'host-a009_cam6_1236123741851064006.jpeg', 'host-a101_cam2_1242748840782708006.jpeg', 'host-a101_cam2_1242748818182131006.jpeg', 'host-a011_cam6_1232752563451145006.jpeg', 'host-a004_cam1_1233685323534300006.jpeg', 'host-a011_cam1_1233087920434517006.jpeg', 'host-a011_cam2_1236119843117605006.jpeg', 'host-a101_cam3_1242144910900000006.jpeg', 'host-a101_cam2_1242144910883330006.jpeg', 'host-a011_cam5_1232752479667719006.jpeg', 'host-a102_cam2_1242754976581805006.jpeg', 'host-a101_cam6_1241561155650000006.jpeg', 'host-a015_cam4_1236112616584076006.jpeg', 'host-a011_cam2_1236038922617605006.jpeg', 'host-a011_cam5_1232752483467719006.jpeg', 'host-a101_cam1_1242753258965179006.jpeg', 'host-a011_cam1_1233965314334517006.jpeg', 'host-a011_cam1_1236122358334517006.jpeg', 'host-a011_cam2_1236122358317605006.jpeg', 'host-a011_cam0_1236122358351142006.jpeg', 'host-a011_cam6_1233512841051145006.jpeg', 'host-a011_cam2_1232752552417605006.jpeg', 'host-a011_cam4_1232752552484485006.jpeg', 'host-a017_cam1_1236118893434294006.jpeg', 'host-a004_cam0_1234047751551064006.jpeg', 'host-a011_cam2_1233090576017605006.jpeg', 'host-a011_cam1_1233090576034517006.jpeg', 'host-a009_cam1_1237581230434345006.jpeg', 'host-a101_cam0_1241216097350000006.jpeg', 'host-a011_cam1_1232752556034517006.jpeg', 'host-a102_cam0_1241548689050000006.jpeg', 'host-a102_cam1_1241548689066660006.jpeg', 'host-a101_cam1_1242748836566275006.jpeg', 'host-a101_cam0_1242748836549526006.jpeg', 'host-a007_cam0_1233524853250897006.jpeg', 'host-a009_cam1_1237581210834345006.jpeg', 'host-a009_cam1_1237581211434345006.jpeg', 'host-a101_cam2_1242748999582856006.jpeg', 'host-a011_cam3_1233087929800995006.jpeg', 'host-a011_cam1_1233090568634517006.jpeg', 'host-a011_cam1_1235950314434517006.jpeg', 'host-a101_cam0_1242748998149586006.jpeg', 'host-a101_cam1_1242748987166335006.jpeg', 'host-a004_cam0_1232905212151064006.jpeg', 'host-a009_cam1_1237581210634345006.jpeg', 'host-a017_cam3_1236118894400918006.jpeg', 'host-a017_cam2_1236118894417560006.jpeg', 'host-a011_cam3_1233965437900995006.jpeg', 'host-a011_cam0_1232752779851142006.jpeg', 'host-a007_cam3_1233524856600869006.jpeg', 'host-a007_cam3_1233524861800869006.jpeg', 'host-a101_cam1_1242748837966260006.jpeg', 'host-a101_cam0_1242748837949526006.jpeg', 'host-a011_cam1_1232752555634517006.jpeg', 'host-a011_cam1_1235866710934517006.jpeg', 'host-a011_cam4_1232752568084485006.jpeg', 'host-a011_cam4_1232752567484485006.jpeg', 'host-a011_cam6_1232752567451145006.jpeg', 'host-a102_cam2_1241548695283330006.jpeg', 'host-a101_cam1_1242748835966246006.jpeg', 'host-a007_cam1_1231093049666021006.jpeg', 'host-a011_cam5_1232752486167719006.jpeg', 'host-a011_cam4_1232752486184485006.jpeg', 'host-a011_cam1_1233090570434517006.jpeg', 'host-a011_cam2_1235866712117605006.jpeg', 'host-a011_cam0_1234639317051142006.jpeg', 'host-a011_cam1_1235866728934517006.jpeg', 'host-a011_cam2_1233965316317605006.jpeg', 'host-a011_cam1_1232905804134517006.jpeg', 'host-a011_cam2_1233688951117605006.jpeg', 'host-a004_cam2_1234047753117652006.jpeg', 'host-a009_cam1_1237581210434345006.jpeg', 'host-a011_cam3_1233087922000995006.jpeg', 'host-a011_cam1_1233087922034517006.jpeg', 'host-a011_cam1_1236122365934517006.jpeg', 'host-a011_cam1_1232752790834517006.jpeg', 'host-a011_cam1_1236122373334517006.jpeg', 'host-a011_cam2_1236122373317605006.jpeg', 'host-a011_cam2_1234466283717605006.jpeg', 'host-a011_cam1_1233087919034517006.jpeg', 'host-a011_cam1_1233090574234517006.jpeg', 'host-a011_cam2_1233090574217605006.jpeg', 'host-a007_cam2_1233524857417643006.jpeg', 'host-a011_cam2_1232905798517605006.jpeg', 'host-a011_cam1_1232752551634517006.jpeg', 'host-a102_cam5_1241548695833330006.jpeg', 'host-a102_cam2_1241548695883330006.jpeg', 'host-a011_cam2_1236104049717605006.jpeg', 'host-a011_cam1_1235866709134517006.jpeg', 'host-a011_cam6_1235933803351145006.jpeg', 'host-a011_cam1_1236038921634517006.jpeg', 'host-a101_cam2_1242583753482338006.jpeg', 'host-a101_cam3_1242583753499289006.jpeg', 'host-a011_cam3_1232752792600995006.jpeg', 'host-a004_cam1_1234047752534300006.jpeg', 'host-a017_cam6_1236118883850938006.jpeg', 'host-a011_cam1_1235950321634517006.jpeg', 'host-a011_cam0_1235950321651142006.jpeg', 'host-a011_cam1_1232752558634517006.jpeg', 'host-a004_cam6_1232905209350948006.jpeg', 'host-a012_cam1_1235937150234261006.jpeg', 'host-a012_cam2_1235937150217630006.jpeg', 'host-a004_cam0_1232923269851064006.jpeg', 'host-a015_cam5_1236112604767453006.jpeg', 'host-a011_cam2_1233087923017605006.jpeg', 'host-a011_cam3_1233087923000995006.jpeg', 'host-a004_cam6_1232842189050948006.jpeg', 'host-a101_cam0_1241216096950000006.jpeg', 'host-a011_cam1_1235866727534517006.jpeg', 'host-a004_cam1_1233620270934300006.jpeg', 'host-a101_cam5_1242580014032338006.jpeg', 'host-a011_cam6_1236038918051145006.jpeg', 'host-a004_cam1_1235947105134300006.jpeg', 'host-a102_cam1_1242754974764972006.jpeg', 'host-a102_cam0_1242754974748934006.jpeg', 'host-a011_cam3_1232909948300995006.jpeg', 'host-a007_cam2_1231093050082654006.jpeg', 'host-a004_cam1_1233620266934300006.jpeg', 'host-a004_cam1_1233620261934300006.jpeg', 'host-a101_cam1_1242748838566275006.jpeg', 'host-a101_cam0_1240875152050000006.jpeg', 'host-a011_cam1_1233090568234517006.jpeg', 'host-a004_cam6_1234047744350948006.jpeg', 'host-a011_cam2_1232752557217605006.jpeg', 'host-a011_cam0_1232752557251142006.jpeg', 'host-a004_cam1_1233620262134300006.jpeg', 'host-a004_cam1_1234047752134300006.jpeg', 'host-a004_cam1_1233014863434300006.jpeg', 'host-a011_cam6_1233965426951145006.jpeg', 'host-a015_cam4_1236112615784076006.jpeg', 'host-a004_cam1_1233620268534300006.jpeg', 'host-a101_cam4_1242580010215949006.jpeg', 'host-a102_cam6_1242754970944000006.jpeg', 'host-a007_cam6_1230672867649446006.jpeg', 'host-a011_cam1_1236122371934517006.jpeg', 'host-a101_cam1_1242748985366335006.jpeg', 'host-a017_cam2_1236119802017560006.jpeg', 'host-a011_cam4_1232752466084485006.jpeg', 'host-a102_cam2_1241548694883330006.jpeg', 'host-a011_cam6_1235933801951145006.jpeg', 'host-a101_cam2_1240875155483330006.jpeg', 'host-a011_cam1_1232752549634517006.jpeg', 'host-a102_cam6_1242754970544000006.jpeg', 'host-a011_cam6_1234466279151145006.jpeg', 'host-a011_cam3_1232752554000995006.jpeg', 'host-a004_cam6_1234047748750948006.jpeg', 'host-a011_cam3_1235931136500995006.jpeg', 'host-a007_cam2_1233524855417643006.jpeg', 'host-a007_cam3_1233524856200869006.jpeg', 'host-a011_cam1_1233090568434517006.jpeg', 'host-a004_cam0_1232923266651064006.jpeg', 'host-a004_cam0_1232923272451064006.jpeg', 'host-a101_cam3_1241216099100000006.jpeg', 'host-a007_cam1_1233079626634286006.jpeg', 'host-a011_cam2_1236122354517605006.jpeg', 'host-a011_cam6_1236122354551145006.jpeg', 'host-a011_cam1_1235950297234517006.jpeg', 'host-a011_cam6_1236122350151145006.jpeg', 'host-a101_cam5_1242748997332708006.jpeg', 'host-a011_cam1_1236122372334517006.jpeg', 'host-a011_cam0_1236122372351142006.jpeg', 'host-a102_cam0_1241548690850000006.jpeg', 'host-a102_cam1_1241548690866660006.jpeg', 'host-a011_cam6_1234466278351145006.jpeg', 'host-a101_cam0_1240875151650000006.jpeg', 'host-a011_cam6_1235933802751145006.jpeg', 'host-a011_cam0_1232752780851142006.jpeg', 'host-a011_cam0_1232752778851142006.jpeg', 'host-a011_cam1_1233090569234517006.jpeg', 'host-a015_cam4_1236112615984076006.jpeg', 'host-a009_cam2_1236123741017740006.jpeg', 'host-a011_cam1_1233090575634517006.jpeg', 'host-a011_cam2_1233090575617605006.jpeg', 'host-a015_cam5_1236112614767453006.jpeg', 'host-a004_cam3_1233620273500897006.jpeg', 'host-a004_cam2_1233620273517652006.jpeg', 'host-a011_cam0_1234639318051142006.jpeg', 'host-a101_cam0_1242748836749526006.jpeg', 'host-a101_cam1_1242748836766275006.jpeg', 'host-a011_cam2_1232752544017605006.jpeg', 'host-a011_cam3_1236038923600995006.jpeg', 'host-a017_cam2_1236118893617560006.jpeg', 'host-a101_cam1_1242748995166349006.jpeg', 'host-a101_cam3_1242748995199482006.jpeg', 'host-a101_cam0_1241216096550000006.jpeg', 'host-a007_cam1_1233079632634286006.jpeg', 'host-a101_cam3_1242748994399482006.jpeg', 'host-a101_cam2_1242748994382545006.jpeg', 'host-a101_cam2_1240875155283330006.jpeg', 'host-a007_cam2_1231093060282654006.jpeg', 'host-a011_cam6_1233512840651145006.jpeg', 'host-a011_cam2_1233512850417605006.jpeg', 'host-a011_cam4_1233965313384485006.jpeg', 'host-a011_cam3_1232752553400995006.jpeg', 'host-a011_cam2_1232752553417605006.jpeg', 'host-a011_cam0_1236122371351142006.jpeg', 'host-a011_cam1_1236122371334517006.jpeg', 'host-a011_cam1_1233512849634517006.jpeg', 'host-a011_cam1_1233090567834517006.jpeg', 'host-a015_cam4_1235423697284076006.jpeg', 'host-a004_cam1_1233620270134300006.jpeg', 'host-a102_cam1_1241548686466660006.jpeg', 'host-a102_cam0_1241548686450000006.jpeg', 'host-a011_cam2_1232752558817605006.jpeg', 'host-a004_cam1_1232842186234300006.jpeg', 'host-a017_cam0_1236118892450894006.jpeg', 'host-a101_cam6_1242748831944000006.jpeg', 'host-a004_cam1_1232905213134300006.jpeg', 'host-a011_cam1_1232909945934517006.jpeg', 'host-a101_cam2_1240875154683330006.jpeg', 'host-a011_cam0_1232752782451142006.jpeg', 'host-a101_cam5_1241561159233330006.jpeg', 'host-a101_cam0_1241561159250000006.jpeg', 'host-a011_cam6_1233965427951145006.jpeg', 'host-a101_cam2_1242583753282323006.jpeg', 'host-a101_cam5_1242583753232649006.jpeg', 'host-a011_cam1_1233087919834517006.jpeg', 'host-a011_cam1_1236122353734517006.jpeg', 'host-a011_cam6_1236122353751145006.jpeg', 'host-a011_cam3_1233087921600995006.jpeg', 'host-a011_cam1_1233087921634517006.jpeg', 'host-a004_cam1_1233620261334300006.jpeg', 'host-a004_cam0_1232923275451064006.jpeg', 'host-a007_cam1_1230672872066021006.jpeg', 'host-a004_cam2_1232923288017652006.jpeg', 'host-a101_cam6_1242748831344000006.jpeg', 'host-a011_cam1_1233087934234517006.jpeg', 'host-a011_cam3_1232752787000995006.jpeg', 'host-a011_cam0_1234639319851142006.jpeg', 'host-a011_cam1_1232909944734517006.jpeg', 'host-a011_cam0_1232909944751142006.jpeg', 'host-a004_cam3_1233685321100897006.jpeg', 'host-a004_cam2_1233685321117652006.jpeg', 'host-a011_cam1_1235950297834517006.jpeg', 'host-a101_cam1_1242748989166335006.jpeg', 'host-a101_cam3_1242748989199482006.jpeg', 'host-a011_cam1_1232752550634517006.jpeg', 'host-a011_cam1_1232752795634517006.jpeg', 'host-a011_cam0_1232752795651142006.jpeg', 'host-a011_cam2_1234466285317605006.jpeg', 'host-a004_cam2_1232905199517652006.jpeg', 'host-a102_cam2_1241548694483330006.jpeg', 'host-a102_cam1_1241548694466660006.jpeg', 'host-a101_cam0_1241561159450000006.jpeg', 'host-a101_cam5_1241561159433330006.jpeg', 'host-a004_cam1_1233685323734300006.jpeg', 'host-a009_cam2_1237581212017740006.jpeg', 'host-a011_cam2_1236104050117605006.jpeg', 'host-a101_cam2_1241561166083330006.jpeg', 'host-a101_cam3_1241561166100000006.jpeg', 'host-a101_cam2_1242748817782116006.jpeg', 'host-a011_cam2_1232752552017605006.jpeg', 'host-a011_cam4_1232752552084485006.jpeg', 'host-a011_cam2_1235866712717605006.jpeg', 'host-a011_cam1_1232752790434517006.jpeg', 'host-a004_cam3_1233685321300897006.jpeg', 'host-a011_cam1_1233087919634517006.jpeg', 'host-a011_cam0_1233965435151142006.jpeg', 'host-a015_cam5_1236112601567453006.jpeg', 'host-a101_cam1_1242748987966335006.jpeg', 'host-a101_cam5_1242580007832323006.jpeg', 'host-a101_cam0_1242580007849200006.jpeg', 'host-a011_cam0_1232752782851142006.jpeg', 'host-a007_cam1_1233689805734286006.jpeg', 'host-a011_cam0_1232752780251142006.jpeg', 'host-a011_cam3_1233087923600995006.jpeg', 'host-a011_cam2_1233087923617605006.jpeg', 'host-a004_cam2_1232905197917652006.jpeg', 'host-a011_cam6_1233965426751145006.jpeg', 'host-a007_cam2_1233079631617643006.jpeg', 'host-a011_cam0_1234639320451142006.jpeg', 'host-a011_cam3_1236122360100995006.jpeg', 'host-a011_cam2_1236122360117605006.jpeg', 'host-a015_cam5_1236112601767453006.jpeg', 'host-a101_cam2_1241561165883330006.jpeg', 'host-a011_cam1_1236038921034517006.jpeg', 'host-a004_cam1_1233620265534300006.jpeg', 'host-a101_cam3_1242580011399571006.jpeg', 'host-a101_cam4_1242580011415935006.jpeg', 'host-a017_cam2_1236119802217560006.jpeg', 'host-a101_cam5_1241561160433330006.jpeg', 'host-a101_cam6_1241561160450000006.jpeg', 'host-a011_cam3_1233087922200995006.jpeg', 'host-a011_cam1_1233087922234517006.jpeg', 'host-a009_cam3_1236123741600965006.jpeg', 'host-a004_cam1_1233620262734300006.jpeg', 'host-a011_cam5_1232752565667719006.jpeg', 'host-a011_cam3_1232752798000995006.jpeg', 'host-a101_cam1_1242748991166335006.jpeg', 'host-a101_cam3_1242748991199482006.jpeg', 'host-a101_cam0_1242748837149526006.jpeg', 'host-a101_cam1_1242748837166290006.jpeg', 'host-a011_cam2_1233087929417605006.jpeg', 'host-a011_cam3_1233087929400995006.jpeg', 'host-a101_cam1_1242748838366260006.jpeg', 'host-a012_cam1_1235937149634261006.jpeg', 'host-a011_cam1_1232905804334517006.jpeg', 'host-a004_cam3_1232905198700897006.jpeg', 'host-a102_cam0_1241548689450000006.jpeg', 'host-a102_cam1_1241548689466660006.jpeg', 'host-a011_cam1_1234466282334517006.jpeg', 'host-a011_cam1_1236119842534517006.jpeg', 'host-a011_cam0_1232752788651142006.jpeg', 'host-a004_cam6_1233685318350948006.jpeg', 'host-a011_cam1_1233087934434517006.jpeg', 'host-a101_cam2_1242144909683330006.jpeg', 'host-a101_cam2_1242753259581597006.jpeg', 'host-a011_cam1_1233090573634517006.jpeg', 'host-a011_cam2_1233090573617605006.jpeg', 'host-a101_cam2_1242748999782871006.jpeg', 'host-a011_cam0_1234639320051142006.jpeg', 'host-a009_cam0_1237581210051174006.jpeg', 'host-a007_cam2_1233524857817643006.jpeg', 'host-a004_cam0_1232923268051064006.jpeg', 'host-a101_cam3_1241216100100000006.jpeg', 'host-a011_cam1_1235866710334517006.jpeg', 'host-a011_cam1_1235866710534517006.jpeg', 'host-a011_cam1_1236123640134517006.jpeg', 'host-a004_cam1_1233620265934300006.jpeg', 'host-a011_cam6_1233965428951145006.jpeg', 'host-a011_cam1_1236123642734517006.jpeg', 'host-a101_cam4_1242580016415964006.jpeg', 'host-a101_cam3_1242580016399556006.jpeg', 'host-a011_cam2_1232909947117605006.jpeg', 'host-a004_cam6_1232842190050948006.jpeg', 'host-a009_cam2_1237581231117740006.jpeg', 'host-a102_cam2_1242754976781908006.jpeg', 'host-a102_cam2_1241548695483330006.jpeg', 'host-a004_cam1_1232923277234300006.jpeg', 'host-a011_cam1_1235950297434517006.jpeg', 'host-a101_cam1_1241216098166660006.jpeg', 'host-a009_cam1_1236123740234345006.jpeg', 'host-a015_cam4_1235423696484076006.jpeg', 'host-a101_cam0_1241216096750000006.jpeg', 'host-a004_cam6_1234047745350948006.jpeg', 'host-a012_cam6_1235937146050881006.jpeg', 'host-a004_cam0_1233516151451064006.jpeg', 'host-a011_cam2_1232752797017605006.jpeg', 'host-a011_cam6_1236122350351145006.jpeg', 'host-a101_cam6_1240875147650000006.jpeg', 'host-a101_cam0_1241561164650000006.jpeg', 'host-a101_cam1_1241561164666660006.jpeg', 'host-a007_cam1_1233510600734286006.jpeg', 'host-a007_cam0_1233510600750897006.jpeg', 'host-a011_cam1_1233090576834517006.jpeg', 'host-a011_cam2_1233090576817605006.jpeg', 'host-a004_cam0_1232923273651064006.jpeg', 'host-a015_cam5_1236112601967453006.jpeg', 'host-a004_cam3_1232923279600897006.jpeg', 'host-a004_cam6_1233685319950948006.jpeg', 'host-a004_cam1_1233685319934300006.jpeg', 'host-a011_cam1_1235866728734517006.jpeg', 'host-a017_cam2_1236119803217560006.jpeg', 'host-a007_cam0_1231093048649429006.jpeg', 'host-a004_cam2_1232905198317652006.jpeg', 'host-a011_cam5_1232752465467719006.jpeg', 'host-a011_cam6_1235933803151145006.jpeg', 'host-a015_cam4_1235423696884076006.jpeg', 'host-a004_cam6_1234047743350948006.jpeg', 'host-a101_cam0_1241561164050000006.jpeg', 'host-a101_cam1_1242748987766335006.jpeg', 'host-a011_cam2_1232909946917605006.jpeg', 'host-a011_cam2_1236038923217605006.jpeg', 'host-a011_cam3_1236038923200995006.jpeg', 'host-a101_cam4_1241561162016660006.jpeg', 'host-a101_cam3_1241561162100000006.jpeg', 'host-a009_cam1_1237581215634345006.jpeg', 'host-a009_cam2_1237581215617740006.jpeg', 'host-a101_cam3_1242748990999482006.jpeg', 'host-a101_cam1_1242748990966335006.jpeg', 'host-a102_cam1_1242754975565031006.jpeg', 'host-a004_cam1_1233014863034300006.jpeg', 'host-a011_cam1_1233087920834517006.jpeg', 'host-a101_cam3_1242753260798949006.jpeg', 'host-a101_cam2_1242753260780708006.jpeg', 'host-a011_cam6_1233965426351145006.jpeg', 'host-a011_cam6_1233965428751145006.jpeg', 'host-a004_cam2_1232905213717652006.jpeg', 'host-a011_cam1_1234466280934517006.jpeg', 'host-a011_cam2_1236123641717605006.jpeg', 'host-a011_cam1_1234466280534517006.jpeg', 'host-a102_cam0_1241548692250000006.jpeg', 'host-a102_cam1_1241548692266660006.jpeg', 'host-a011_cam0_1232909944151142006.jpeg', 'host-a101_cam1_1242748985566335006.jpeg', 'host-a101_cam0_1242583748848860006.jpeg', 'host-a101_cam1_1242583748862957006.jpeg', 'host-a101_cam4_1242580011015935006.jpeg', 'host-a011_cam1_1233090568034517006.jpeg', 'host-a101_cam2_1242583752282279006.jpeg', 'host-a011_cam6_1233965428551145006.jpeg', 'host-a015_cam5_1236112613767453006.jpeg', 'host-a011_cam2_1236122361117605006.jpeg', 'host-a009_cam2_1236123741417740006.jpeg', 'host-a102_cam1_1241548694266660006.jpeg', 'host-a102_cam2_1241548694283330006.jpeg', 'host-a101_cam3_1242748992699482006.jpeg', 'host-a101_cam1_1242748992766335006.jpeg', 'host-a101_cam2_1241216098583330006.jpeg', 'host-a011_cam0_1232752788851142006.jpeg', 'host-a004_cam6_1233685316350948006.jpeg', 'host-a011_cam1_1232905797534517006.jpeg', 'host-a004_cam1_1233620269934300006.jpeg', 'host-a017_cam6_1236118889850938006.jpeg', 'host-a015_cam4_1236112615384076006.jpeg', 'host-a101_cam2_1242144911083330006.jpeg', 'host-a101_cam3_1242144911100000006.jpeg', 'host-a011_cam1_1232909950934517006.jpeg', 'host-a101_cam0_1240875153050000006.jpeg', 'host-a004_cam2_1233685320517652006.jpeg', 'host-a004_cam0_1232842378651064006.jpeg', 'host-a007_cam3_1233524856000869006.jpeg', 'host-a011_cam5_1232752565867719006.jpeg', 'host-a101_cam2_1242748841382738006.jpeg', 'host-a015_cam5_1236112614167453006.jpeg', 'host-a011_cam2_1236038922817605006.jpeg', 'host-a011_cam1_1233688943134517006.jpeg', 'host-a011_cam2_1235931136117605006.jpeg', 'host-a011_cam2_1233688944117605006.jpeg', 'host-a011_cam1_1233688944134517006.jpeg', 'host-a101_cam1_1242748837366290006.jpeg', 'host-a101_cam0_1242748837349526006.jpeg', 'host-a011_cam6_1233965427151145006.jpeg', 'host-a009_cam6_1236123734451064006.jpeg', 'host-a101_cam5_1242580013632353006.jpeg', 'host-a101_cam3_1242748993199482006.jpeg', 'host-a101_cam1_1242748993166335006.jpeg', 'host-a101_cam3_1242748991699482006.jpeg', 'host-a101_cam1_1242748991766335006.jpeg', 'host-a011_cam2_1233087935417605006.jpeg', 'host-a004_cam1_1233620265734300006.jpeg', 'host-a011_cam3_1232752792800995006.jpeg', 'host-a011_cam5_1233965312767719006.jpeg', 'host-a004_cam2_1232842186417652006.jpeg', 'host-a011_cam1_1233965314734517006.jpeg', 'host-a101_cam6_1241561155850000006.jpeg', 'host-a009_cam6_1236123736051064006.jpeg', 'host-a011_cam0_1236122357751142006.jpeg', 'host-a011_cam1_1236122357734517006.jpeg', 'host-a011_cam1_1235931134534517006.jpeg', 'host-a102_cam2_1241548693283330006.jpeg', 'host-a102_cam1_1241548693266660006.jpeg', 'host-a102_cam0_1241548693250000006.jpeg', 'host-a101_cam2_1240875155083330006.jpeg', 'host-a004_cam2_1233620271717652006.jpeg', 'host-a004_cam1_1233620271734300006.jpeg', 'host-a004_cam6_1233685317350948006.jpeg', 'host-a011_cam4_1232752553084485006.jpeg', 'host-a011_cam2_1232752553017605006.jpeg', 'host-a004_cam1_1233620263134300006.jpeg', 'host-a004_cam1_1232923276634300006.jpeg', 'host-a011_cam1_1232752543434517006.jpeg', 'host-a101_cam0_1242580007449230006.jpeg', 'host-a011_cam5_1232752566467719006.jpeg', 'host-a011_cam2_1236122354917605006.jpeg', 'host-a011_cam6_1236123638151145006.jpeg', 'host-a101_cam2_1242144911383330006.jpeg', 'host-a101_cam3_1242144911400000006.jpeg', 'host-a011_cam0_1235931133751142006.jpeg', 'host-a101_cam0_1242749000549378006.jpeg', 'host-a011_cam6_1232905806551145006.jpeg', 'host-a011_cam0_1234639317851142006.jpeg', 'host-a009_cam0_1237581209451174006.jpeg', 'host-a101_cam0_1242749000949319006.jpeg', 'host-a011_cam5_1232752465067719006.jpeg', 'host-a004_cam0_1232923267251064006.jpeg', 'host-a004_cam1_1235947105734300006.jpeg', 'host-a004_cam6_1234047747350948006.jpeg', 'host-a011_cam6_1236122354151145006.jpeg', 'host-a011_cam1_1236122354134517006.jpeg', 'host-a017_cam2_1236118888217560006.jpeg', 'host-a007_cam0_1233510600550897006.jpeg', 'host-a007_cam1_1233510600534286006.jpeg', 'host-a101_cam2_1240875153883330006.jpeg', 'host-a011_cam1_1233090567234517006.jpeg', 'host-a011_cam0_1232909949551142006.jpeg', 'host-a101_cam1_1242748988966335006.jpeg', 'host-a101_cam3_1242748988999482006.jpeg', 'host-a004_cam1_1233620268734300006.jpeg', 'host-a007_cam2_1233524855017643006.jpeg', 'host-a004_cam2_1233620272917652006.jpeg', 'host-a015_cam5_1236112603167453006.jpeg', 'host-a011_cam0_1232752795251142006.jpeg', 'host-a004_cam6_1233685319150948006.jpeg', 'host-a004_cam1_1233685319134300006.jpeg', 'host-a004_cam1_1232923276434300006.jpeg', 'host-a011_cam6_1232745791651145006.jpeg', 'host-a004_cam2_1233014854017652006.jpeg', 'host-a101_cam0_1241561163850000006.jpeg', 'host-a004_cam2_1233685325117652006.jpeg', 'host-a011_cam0_1233512848651142006.jpeg', 'host-a011_cam2_1232909947517605006.jpeg', 'host-a004_cam0_1232923267651064006.jpeg', 'host-a007_cam2_1231093057282654006.jpeg', 'host-a011_cam1_1235866718734517006.jpeg', 'host-a011_cam2_1233090577817605006.jpeg', 'host-a009_cam2_1237581211817740006.jpeg', 'host-a011_cam1_1236104048534517006.jpeg', 'host-a004_cam2_1234047752917652006.jpeg', 'host-a102_cam0_1241548687450000006.jpeg', 'host-a102_cam1_1241548687466660006.jpeg', 'host-a101_cam6_1241561161650000006.jpeg', 'host-a101_cam4_1241561161616660006.jpeg', 'host-a101_cam3_1241561161600000006.jpeg', 'host-a007_cam2_1233524855817643006.jpeg', 'host-a007_cam3_1233524855800869006.jpeg', 'host-a012_cam3_1235937151200913006.jpeg', 'host-a012_cam2_1235937151217630006.jpeg', 'host-a004_cam1_1233620261534300006.jpeg', 'host-a004_cam3_1233516153600897006.jpeg', 'host-a011_cam3_1232752786800995006.jpeg', 'host-a011_cam3_1233090579800995006.jpeg', 'host-a011_cam2_1235931135717605006.jpeg', 'host-a011_cam1_1235931135134517006.jpeg', 'host-a102_cam6_1242754970344000006.jpeg', 'host-a015_cam5_1236112602167453006.jpeg', 'host-a011_cam1_1235866728534517006.jpeg', 'host-a007_cam2_1233524859417643006.jpeg', 'host-a004_cam6_1233685315750948006.jpeg', 'host-a017_cam2_1236118893817560006.jpeg', 'host-a011_cam1_1233087919234517006.jpeg', 'host-a101_cam4_1241561160816660006.jpeg', 'host-a004_cam1_1233620260534300006.jpeg', 'host-a004_cam2_1233685324317652006.jpeg', 'host-a101_cam1_1241561165266660006.jpeg', 'host-a004_cam3_1232842381600897006.jpeg', 'host-a101_cam2_1242748842282768006.jpeg', 'host-a004_cam2_1232923277817652006.jpeg', 'host-a011_cam1_1233090571034517006.jpeg', 'host-a007_cam1_1233621269934286006.jpeg', 'host-a101_cam0_1242753256949008006.jpeg', 'host-a012_cam3_1235937151400913006.jpeg', 'host-a011_cam0_1232752780051142006.jpeg', 'host-a004_cam1_1233516151634300006.jpeg', 'host-a101_cam0_1242580013049215006.jpeg', 'host-a101_cam5_1242580013032353006.jpeg', 'host-a011_cam1_1236123640734517006.jpeg', 'host-a012_cam2_1235937150417630006.jpeg', 'host-a004_cam6_1234047746550948006.jpeg', 'host-a011_cam6_1236122352751145006.jpeg', 'host-a004_cam1_1233620268134300006.jpeg', 'host-a015_cam5_1236112613567453006.jpeg', 'host-a011_cam1_1232752790634517006.jpeg', 'host-a007_cam6_1231093044649446006.jpeg', 'host-a101_cam6_1241561161050000006.jpeg', 'host-a101_cam4_1241561161016660006.jpeg', 'host-a009_cam1_1237581215234345006.jpeg', 'host-a007_cam3_1233689807500869006.jpeg', 'host-a004_cam0_1232923268451064006.jpeg', 'host-a011_cam2_1233965315917605006.jpeg', 'host-a007_cam2_1233689806717643006.jpeg', 'host-a011_cam2_1232909951917605006.jpeg', 'host-a011_cam2_1233965318317605006.jpeg', 'host-a004_cam2_1233620272117652006.jpeg', 'host-a011_cam2_1235866712917605006.jpeg', 'host-a007_cam2_1233621270717643006.jpeg', 'host-a004_cam2_1233516153417652006.jpeg', 'host-a004_cam3_1233516153400897006.jpeg', 'host-a004_cam2_1233014853817652006.jpeg', 'host-a011_cam1_1235866710134517006.jpeg', 'host-a004_cam6_1233014865650948006.jpeg', 'host-a011_cam3_1235931136700995006.jpeg', 'host-a011_cam3_1236119844100995006.jpeg', 'host-a004_cam1_1233620268934300006.jpeg', 'host-a011_cam1_1236123642534517006.jpeg', 'host-a007_cam3_1233524855600869006.jpeg', 'host-a007_cam2_1233524855617643006.jpeg', 'host-a004_cam6_1232842189450948006.jpeg', 'host-a004_cam2_1233685324917652006.jpeg', 'host-a004_cam0_1232923269451064006.jpeg', 'host-a101_cam1_1242583751665579006.jpeg', 'host-a101_cam2_1242583753682382006.jpeg', 'host-a101_cam3_1242583753699289006.jpeg', 'host-a017_cam2_1236118894017560006.jpeg', 'host-a102_cam1_1241548688666660006.jpeg', 'host-a102_cam0_1241548688650000006.jpeg', 'host-a004_cam1_1233620262534300006.jpeg', 'host-a011_cam6_1235950318651145006.jpeg', 'host-a102_cam0_1241548687650000006.jpeg', 'host-a102_cam1_1241548687666660006.jpeg', 'host-a011_cam6_1232752563251145006.jpeg', 'host-a101_cam5_1242580009632323006.jpeg', 'host-a004_cam0_1232923267051064006.jpeg', 'host-a101_cam4_1242580011615935006.jpeg', 'host-a101_cam3_1242580011599571006.jpeg', 'host-a101_cam5_1242580014432338006.jpeg', 'host-a004_cam2_1233685320317652006.jpeg', 'host-a101_cam6_1240875148850000006.jpeg', 'host-a101_cam3_1242583754299438006.jpeg', 'host-a101_cam2_1242583754282501006.jpeg', 'host-a011_cam2_1232905787117605006.jpeg', 'host-a011_cam1_1233688943534517006.jpeg', 'host-a101_cam2_1242144910683330006.jpeg', 'host-a011_cam0_1235950313851142006.jpeg', 'host-a004_cam1_1233516152034300006.jpeg', 'host-a101_cam3_1242748993699482006.jpeg', 'host-a101_cam1_1242748993766335006.jpeg', 'host-a011_cam3_1233087922800995006.jpeg', 'host-a011_cam2_1233087922817605006.jpeg', 'host-a004_cam0_1232923273251064006.jpeg', 'host-a101_cam1_1242748985766335006.jpeg', 'host-a011_cam1_1232909945334517006.jpeg', 'host-a011_cam1_1233087920034517006.jpeg', 'host-a011_cam1_1232752543634517006.jpeg', 'host-a102_cam0_1241548688050000006.jpeg', 'host-a102_cam1_1241548688066660006.jpeg', 'host-a011_cam6_1235933801751145006.jpeg', 'host-a011_cam2_1233512844817605006.jpeg', 'host-a102_cam0_1241548691050000006.jpeg', 'host-a102_cam1_1241548691066660006.jpeg', 'host-a011_cam6_1235933802351145006.jpeg', 'host-a004_cam1_1233685319734300006.jpeg', 'host-a004_cam6_1233685319750948006.jpeg', 'host-a011_cam2_1236122360517605006.jpeg', 'host-a011_cam5_1232752465267719006.jpeg', 'host-a011_cam1_1233090569834517006.jpeg', 'host-a011_cam2_1233090576217605006.jpeg', 'host-a011_cam1_1233090576234517006.jpeg', 'host-a101_cam2_1242144910283330006.jpeg', 'host-a101_cam1_1242748986966335006.jpeg', 'host-a011_cam2_1233087935017605006.jpeg', 'host-a101_cam4_1242580014815964006.jpeg', 'host-a102_cam1_1241548686666660006.jpeg', 'host-a102_cam0_1241548686650000006.jpeg', 'host-a101_cam6_1242753253144000006.jpeg', 'host-a011_cam4_1232752485484485006.jpeg', 'host-a011_cam2_1232752553217605006.jpeg', 'host-a011_cam4_1232752553284485006.jpeg', 'host-a011_cam4_1232752486084485006.jpeg', 'host-a011_cam5_1232752486067719006.jpeg', 'host-a011_cam2_1232909951317605006.jpeg', 'host-a101_cam5_1241561160233330006.jpeg', 'host-a101_cam6_1241561160250000006.jpeg', 'host-a011_cam2_1236122360317605006.jpeg', 'host-a101_cam1_1242748838966275006.jpeg', 'host-a101_cam1_1242753258565283006.jpeg', 'host-a101_cam0_1242753258549141006.jpeg', 'host-a101_cam6_1242748830744000006.jpeg', 'host-a011_cam2_1233965436917605006.jpeg', 'host-a011_cam1_1235866718934517006.jpeg', 'host-a011_cam1_1233090572834517006.jpeg', 'host-a011_cam2_1233090572817605006.jpeg', 'host-a102_cam6_1242754971344000006.jpeg', 'host-a004_cam1_1233620264134300006.jpeg', 'host-a004_cam2_1233516153217652006.jpeg', 'host-a009_cam2_1237581216217740006.jpeg', 'host-a009_cam1_1237581216234345006.jpeg', 'host-a102_cam1_1242754974564972006.jpeg', 'host-a102_cam0_1242754974548934006.jpeg', 'host-a011_cam1_1232752558034517006.jpeg', 'host-a011_cam6_1232905805151145006.jpeg', 'host-a011_cam2_1232905805117605006.jpeg', 'host-a015_cam5_1236112613167453006.jpeg', 'host-a011_cam3_1232752787400995006.jpeg', 'host-a007_cam1_1230672871866021006.jpeg', 'host-a011_cam4_1232752485884485006.jpeg', 'host-a011_cam5_1232752485867719006.jpeg', 'host-a011_cam4_1232752567684485006.jpeg', 'host-a011_cam5_1232752479267719006.jpeg', 'host-a004_cam1_1233620262334300006.jpeg', 'host-a011_cam0_1232752789251142006.jpeg', 'host-a011_cam1_1232752789234517006.jpeg', 'host-a015_cam5_1236112605367453006.jpeg', 'host-a004_cam0_1232923267851064006.jpeg', 'host-a011_cam1_1232752789634517006.jpeg', 'host-a011_cam2_1236122360717605006.jpeg', 'host-a015_cam4_1236112616184076006.jpeg', 'host-a004_cam2_1232923278417652006.jpeg', 'host-a004_cam1_1233620264534300006.jpeg', 'host-a101_cam3_1242748992599482006.jpeg', 'host-a101_cam1_1242748992566335006.jpeg', 'host-a011_cam0_1235931133951142006.jpeg', 'host-a004_cam6_1234047744550948006.jpeg', 'host-a101_cam4_1242580010415949006.jpeg', 'host-a004_cam6_1234047745550948006.jpeg', 'host-a011_cam1_1233090575034517006.jpeg', 'host-a011_cam2_1233090575017605006.jpeg', 'host-a101_cam3_1242748818499186006.jpeg', 'host-a101_cam2_1242748818582160006.jpeg', 'host-a101_cam3_1241561166800000006.jpeg', 'host-a102_cam0_1241548690050000006.jpeg', 'host-a102_cam1_1241548690066660006.jpeg', 'host-a009_cam3_1237581213200965006.jpeg', 'host-a004_cam0_1233516151251064006.jpeg', 'host-a101_cam6_1240875148650000006.jpeg', 'host-a011_cam6_1235933803551145006.jpeg', 'host-a011_cam6_1233965430551145006.jpeg', 'host-a004_cam2_1232905198517652006.jpeg', 'host-a007_cam1_1233510601734286006.jpeg', 'host-a101_cam3_1241561167200000006.jpeg', 'host-a011_cam0_1232752549051142006.jpeg', 'host-a011_cam2_1233081028417605006.jpeg', 'host-a017_cam1_1236118887834294006.jpeg', 'host-a011_cam1_1235866709934517006.jpeg', 'host-a011_cam0_1234639319651142006.jpeg', 'host-a015_cam4_1236112616384076006.jpeg', 'host-a101_cam1_1242748986766335006.jpeg', 'host-a015_cam5_1236112603367453006.jpeg', 'host-a007_cam2_1233510602717643006.jpeg', 'host-a011_cam1_1233965315134517006.jpeg', 'host-a004_cam0_1232923268651064006.jpeg', 'host-a011_cam2_1233512850617605006.jpeg', 'host-a011_cam3_1232752560200995006.jpeg', 'host-a101_cam2_1242144910083330006.jpeg', 'host-a004_cam6_1233685318750948006.jpeg', 'host-a011_cam1_1232752789834517006.jpeg', 'host-a102_cam6_1242754971544000006.jpeg', 'host-a007_cam2_1233689806917643006.jpeg', 'host-a012_cam6_1235937145450881006.jpeg', 'host-a004_cam6_1233014864650948006.jpeg', 'host-a011_cam0_1232905796951142006.jpeg', 'host-a011_cam1_1232905796934517006.jpeg', 'host-a101_cam3_1242580015799541006.jpeg', 'host-a101_cam4_1242580015815964006.jpeg', 'host-a017_cam2_1236118888617560006.jpeg', 'host-a011_cam2_1235950315217605006.jpeg', 'host-a101_cam2_1240875154483330006.jpeg', 'host-a004_cam0_1232923273851064006.jpeg', 'host-a011_cam5_1233965312567719006.jpeg', 'host-a011_cam2_1235866720317605006.jpeg', 'host-a011_cam2_1232752792217605006.jpeg', 'host-a004_cam2_1232905199717652006.jpeg', 'host-a011_cam1_1233090574034517006.jpeg', 'host-a011_cam2_1233090574017605006.jpeg', 'host-a009_cam1_1237581230034345006.jpeg', 'host-a007_cam1_1233524852834286006.jpeg', 'host-a011_cam1_1233965314934517006.jpeg', 'host-a011_cam2_1232752559417605006.jpeg', 'host-a011_cam1_1235866728334517006.jpeg', 'host-a004_cam1_1233620269134300006.jpeg', 'host-a011_cam2_1232752544417605006.jpeg', 'host-a004_cam1_1233685323334300006.jpeg', 'host-a011_cam6_1235933800551145006.jpeg', 'host-a004_cam6_1234047747750948006.jpeg', 'host-a015_cam5_1236112613967453006.jpeg', 'host-a011_cam2_1236122366917605006.jpeg', 'host-a011_cam1_1234466280734517006.jpeg', 'host-a004_cam6_1232842189650948006.jpeg', 'host-a101_cam2_1242748841582738006.jpeg', 'host-a011_cam3_1233965318900995006.jpeg', 'host-a011_cam1_1236122365534517006.jpeg', 'host-a011_cam2_1234466284917605006.jpeg', 'host-a011_cam3_1233965438700995006.jpeg', 'host-a012_cam6_1235937146850881006.jpeg', 'host-a011_cam1_1232909950734517006.jpeg', 'host-a004_cam0_1232842185251064006.jpeg', 'host-a011_cam0_1236122357151142006.jpeg', 'host-a011_cam1_1236122357134517006.jpeg', 'host-a004_cam0_1232923266851064006.jpeg', 'host-a007_cam2_1233524854217643006.jpeg', 'host-a011_cam1_1232752557634517006.jpeg', 'host-a011_cam0_1232752557651142006.jpeg', 'host-a011_cam3_1232752557600995006.jpeg', 'host-a011_cam0_1234639317251142006.jpeg', 'host-a007_cam1_1233510601134286006.jpeg', 'host-a004_cam0_1234047751751064006.jpeg', 'host-a004_cam1_1234047751734300006.jpeg', 'host-a011_cam2_1233688944317605006.jpeg', 'host-a011_cam1_1233688944334517006.jpeg', 'host-a009_cam6_1236123734851064006.jpeg', 'host-a102_cam1_1241548689866660006.jpeg', 'host-a102_cam0_1241548689850000006.jpeg', 'host-a007_cam2_1231093057682654006.jpeg', 'host-a015_cam5_1236112614367453006.jpeg', 'host-a012_cam6_1235937146450881006.jpeg', 'host-a004_cam0_1232923272251064006.jpeg', 'host-a011_cam0_1236122356551142006.jpeg', 'host-a101_cam6_1241561156850000006.jpeg', 'host-a011_cam0_1235931134351142006.jpeg', 'host-a011_cam1_1235931134334517006.jpeg', 'host-a011_cam6_1236123636151145006.jpeg', 'host-a004_cam6_1234047746750948006.jpeg', 'host-a011_cam1_1232752790234517006.jpeg', 'host-a011_cam1_1233087925834517006.jpeg', 'host-a011_cam0_1233087925851142006.jpeg', 'host-a101_cam0_1242753257349023006.jpeg', 'host-a011_cam0_1236123639551142006.jpeg', 'host-a011_cam2_1232905798717605006.jpeg', 'host-a101_cam5_1242580007632323006.jpeg', 'host-a101_cam0_1242580007649215006.jpeg', 'host-a004_cam0_1232923272651064006.jpeg', 'host-a011_cam0_1232752782051142006.jpeg', 'host-a011_cam0_1232752780651142006.jpeg', 'host-a011_cam1_1236038921234517006.jpeg', 'host-a012_cam2_1235937152217630006.jpeg', 'host-a101_cam1_1242583751865549006.jpeg', 'host-a011_cam2_1234466284717605006.jpeg', 'host-a007_cam6_1233079637850905006.jpeg', 'host-a011_cam4_1232752480084485006.jpeg', 'host-a011_cam0_1232752781851142006.jpeg', 'host-a101_cam1_1242748837766260006.jpeg', 'host-a101_cam0_1242748837749526006.jpeg', 'host-a011_cam3_1233087929000995006.jpeg', 'host-a004_cam1_1233516152234300006.jpeg', 'host-a101_cam0_1242753257749097006.jpeg', 'host-a101_cam1_1242753257764942006.jpeg', 'host-a101_cam0_1241561172850000006.jpeg', 'host-a101_cam1_1242583752065638006.jpeg', 'host-a101_cam2_1242583752082338006.jpeg', 'host-a011_cam4_1232752485084485006.jpeg', 'host-a011_cam3_1232905798900995006.jpeg', 'host-a011_cam2_1232905798917605006.jpeg', 'host-a004_cam3_1232905200100897006.jpeg', 'host-a004_cam1_1232905220534300006.jpeg', 'host-a011_cam1_1233688950734517006.jpeg', 'host-a011_cam1_1236122359534517006.jpeg', 'host-a011_cam3_1236122359500995006.jpeg', 'host-a011_cam2_1236122359517605006.jpeg', 'host-a101_cam0_1242748998349571006.jpeg', 'host-a011_cam1_1233688950934517006.jpeg', 'host-a011_cam1_1233090573834517006.jpeg', 'host-a011_cam2_1233090573817605006.jpeg', 'host-a011_cam2_1235931136317605006.jpeg', 'host-a101_cam1_1242753258365268006.jpeg', 'host-a101_cam0_1242753258349126006.jpeg', 'host-a101_cam1_1242583749864172006.jpeg', 'host-a101_cam0_1242583749848949006.jpeg', 'host-a004_cam0_1232923266251064006.jpeg', 'host-a011_cam3_1232752560400995006.jpeg', 'host-a011_cam3_1233512851400995006.jpeg', 'host-a101_cam2_1242753259981642006.jpeg', 'host-a007_cam1_1233079629634286006.jpeg', 'host-a004_cam1_1233014855034300006.jpeg', 'host-a004_cam2_1233014855017652006.jpeg', 'host-a101_cam3_1242748818299141006.jpeg', 'host-a101_cam2_1242748818382145006.jpeg', 'host-a011_cam3_1232905799300995006.jpeg', 'host-a011_cam0_1232752783051142006.jpeg', 'host-a011_cam1_1233965314534517006.jpeg', 'host-a004_cam2_1233516152617652006.jpeg', 'host-a009_cam1_1236123739834345006.jpeg', 'host-a007_cam2_1233510602917643006.jpeg', 'host-a101_cam3_1242748993599482006.jpeg', 'host-a101_cam1_1242748993566335006.jpeg', 'host-a101_cam3_1242748994199482006.jpeg', 'host-a101_cam2_1242748994182545006.jpeg', 'host-a101_cam1_1242748994166335006.jpeg', 'host-a009_cam0_1236123739251174006.jpeg', 'host-a011_cam6_1233087942251145006.jpeg', 'host-a011_cam6_1232752562651145006.jpeg', 'host-a101_cam1_1242748836966290006.jpeg', 'host-a101_cam0_1242748836949526006.jpeg', 'host-a011_cam3_1236122368100995006.jpeg', 'host-a011_cam6_1236122368151145006.jpeg', 'host-a011_cam1_1233090570034517006.jpeg', 'host-a011_cam0_1234639319451142006.jpeg', 'host-a004_cam2_1232905213517652006.jpeg', 'host-a007_cam1_1233689806334286006.jpeg', 'host-a011_cam3_1232752553600995006.jpeg', 'host-a011_cam2_1232752553617605006.jpeg', 'host-a101_cam5_1242580012832353006.jpeg', 'host-a101_cam0_1242580012849215006.jpeg', 'host-a007_cam6_1233079626450905006.jpeg', 'host-a007_cam1_1233079626434286006.jpeg', 'host-a004_cam1_1232905221934300006.jpeg', 'host-a011_cam0_1232905803551142006.jpeg', 'host-a004_cam1_1233685324134300006.jpeg', 'host-a011_cam2_1233090573217605006.jpeg', 'host-a011_cam1_1233090573234517006.jpeg', 'host-a102_cam6_1242754969344000006.jpeg', 'host-a011_cam1_1233965315334517006.jpeg', 'host-a011_cam2_1232752797417605006.jpeg', 'host-a011_cam6_1235866723551145006.jpeg', 'host-a011_cam0_1233087924651142006.jpeg', 'host-a011_cam3_1233087924600995006.jpeg', 'host-a017_cam6_1236118890050938006.jpeg', 'host-a007_cam2_1231093060682654006.jpeg', 'host-a004_cam6_1234047746950948006.jpeg', 'host-a007_cam2_1230672872482654006.jpeg', 'host-a009_cam2_1236123741217740006.jpeg', 'host-a011_cam1_1232752791034517006.jpeg', 'host-a101_cam4_1241561161216660006.jpeg', 'host-a101_cam6_1241561161250000006.jpeg', 'host-a011_cam2_1234466283517605006.jpeg', 'host-a101_cam1_1242748986566335006.jpeg', 'host-a101_cam5_1242580009832323006.jpeg', 'host-a007_cam3_1233689807700869006.jpeg', 'host-a101_cam4_1242580015415964006.jpeg', 'host-a011_cam3_1236122359700995006.jpeg', 'host-a011_cam1_1236122359734517006.jpeg', 'host-a011_cam1_1232752551034517006.jpeg', 'host-a011_cam2_1232752791417605006.jpeg', 'host-a004_cam6_1233685318550948006.jpeg', 'host-a004_cam1_1233620270534300006.jpeg', 'host-a011_cam2_1233965437117605006.jpeg', 'host-a101_cam3_1241561161800000006.jpeg', 'host-a101_cam4_1241561161816660006.jpeg', 'host-a101_cam3_1242748990799482006.jpeg', 'host-a101_cam1_1242748990766335006.jpeg', 'host-a011_cam2_1235866729117605006.jpeg', 'host-a101_cam5_1242748997532708006.jpeg', 'host-a011_cam1_1236038921834517006.jpeg', 'host-a011_cam0_1232752557051142006.jpeg', 'host-a011_cam2_1232752557017605006.jpeg', 'host-a009_cam0_1236123739051174006.jpeg', 'host-a004_cam6_1234047748150948006.jpeg', 'host-a011_cam1_1232905803934517006.jpeg', 'host-a011_cam1_1233688942534517006.jpeg', 'host-a011_cam2_1233688942517605006.jpeg', 'host-a011_cam6_1236122367351145006.jpeg', 'host-a011_cam2_1236122367317605006.jpeg', 'host-a004_cam2_1234047753517652006.jpeg', 'host-a011_cam0_1233087925251142006.jpeg', 'host-a011_cam1_1233087925234517006.jpeg', 'host-a101_cam1_1242748840166246006.jpeg', 'host-a017_cam2_1236119802617560006.jpeg', 'host-a101_cam1_1242753259365090006.jpeg', 'host-a101_cam2_1242753259381582006.jpeg', 'host-a011_cam1_1233090569634517006.jpeg', 'host-a012_cam1_1235937150034261006.jpeg', 'host-a004_cam1_1233620268334300006.jpeg', 'host-a007_cam2_1233524857017643006.jpeg', 'host-a011_cam0_1232752781251142006.jpeg', 'host-a101_cam4_1242580014615964006.jpeg', 'host-a011_cam1_1233081027434517006.jpeg', 'host-a101_cam5_1242580014232338006.jpeg', 'host-a011_cam5_1232752551467719006.jpeg', 'host-a011_cam1_1232752551434517006.jpeg', 'host-a004_cam3_1232923279200897006.jpeg', 'host-a101_cam6_1241561157250000006.jpeg', 'host-a011_cam3_1233688947300995006.jpeg', 'host-a004_cam0_1232905212351064006.jpeg', 'host-a011_cam2_1232905798317605006.jpeg', 'host-a011_cam2_1232752559017605006.jpeg', 'host-a004_cam6_1233685316150948006.jpeg', 'host-a011_cam1_1236104047334517006.jpeg', 'host-a004_cam2_1235947082117652006.jpeg', 'host-a009_cam2_1236123740817740006.jpeg', 'host-a011_cam1_1233090570834517006.jpeg', 'host-a101_cam0_1241216097550000006.jpeg', 'host-a101_cam1_1241216097566660006.jpeg', 'host-a007_cam1_1233510601934286006.jpeg', 'host-a011_cam1_1233090568834517006.jpeg', 'host-a011_cam3_1233090579400995006.jpeg', 'host-a011_cam2_1233090579417605006.jpeg', 'host-a011_cam2_1234466283317605006.jpeg', 'host-a004_cam6_1233685318150948006.jpeg', 'host-a011_cam0_1232905803351142006.jpeg', 'host-a007_cam2_1233524859817643006.jpeg', 'host-a011_cam2_1232909951717605006.jpeg', 'host-a102_cam1_1241548692066660006.jpeg', 'host-a102_cam0_1241548692050000006.jpeg', 'host-a011_cam1_1233081027634517006.jpeg', 'host-a011_cam1_1236122371534517006.jpeg', 'host-a102_cam2_1242754976381760006.jpeg', 'host-a011_cam6_1232752567251145006.jpeg', 'host-a011_cam4_1232752567284485006.jpeg', 'host-a004_cam2_1233685324517652006.jpeg', 'host-a007_cam3_1233079636400869006.jpeg', 'host-a007_cam2_1233079636417643006.jpeg', 'host-a101_cam1_1242748836366275006.jpeg', 'host-a101_cam0_1242748836349526006.jpeg', 'host-a011_cam6_1236122355751145006.jpeg', 'host-a004_cam6_1234047743950948006.jpeg', 'host-a011_cam2_1233512844617605006.jpeg', 'host-a004_cam6_1233014865450948006.jpeg', 'host-a102_cam2_1241548694683330006.jpeg', 'host-a011_cam0_1235931134151142006.jpeg', 'host-a011_cam1_1236123640534517006.jpeg', 'host-a011_cam1_1234466280334517006.jpeg', 'host-a011_cam1_1233090571834517006.jpeg', 'host-a011_cam2_1233090571817605006.jpeg', 'host-a101_cam1_1242583751465520006.jpeg', 'host-a011_cam2_1232752552817605006.jpeg', 'host-a011_cam4_1232752552884485006.jpeg', 'host-a011_cam1_1236122373134517006.jpeg', 'host-a011_cam2_1236122373117605006.jpeg', 'host-a101_cam6_1241561155250000006.jpeg', 'host-a009_cam0_1236123739651174006.jpeg', 'host-a007_cam6_1233529710150905006.jpeg', 'host-a011_cam3_1233087921800995006.jpeg', 'host-a011_cam1_1233087921834517006.jpeg', 'host-a101_cam3_1242753260998949006.jpeg', 'host-a101_cam2_1242748818782175006.jpeg', 'host-a004_cam1_1233620266734300006.jpeg', 'host-a102_cam1_1241548691866660006.jpeg', 'host-a102_cam0_1241548691850000006.jpeg', 'host-a101_cam3_1242753261198963006.jpeg', 'host-a009_cam6_1236123742151064006.jpeg', 'host-a009_cam3_1236123742100965006.jpeg', 'host-a011_cam6_1233965430351145006.jpeg', 'host-a101_cam6_1240875147850000006.jpeg', 'host-a004_cam2_1233620272517652006.jpeg', 'host-a011_cam0_1232752789051142006.jpeg', 'host-a101_cam1_1242583750665016006.jpeg', 'host-a101_cam0_1242583750648949006.jpeg', 'host-a004_cam1_1232905213334300006.jpeg', 'host-a015_cam5_1236112604967453006.jpeg', 'host-a101_cam3_1241216099500000006.jpeg', 'host-a101_cam6_1242753251944000006.jpeg', 'host-a011_cam2_1232905787317605006.jpeg', 'host-a004_cam1_1233014852634300006.jpeg', 'host-a011_cam1_1233090572034517006.jpeg', 'host-a011_cam2_1233090572017605006.jpeg', 'host-a101_cam1_1242583751265342006.jpeg', 'host-a011_cam1_1235931135334517006.jpeg', 'host-a011_cam3_1232752553800995006.jpeg', 'host-a004_cam1_1232923287434300006.jpeg', 'host-a007_cam0_1233524853050897006.jpeg', 'host-a101_cam3_1242748989299482006.jpeg', 'host-a101_cam1_1242748989366335006.jpeg', 'host-a101_cam1_1242748996166349006.jpeg', 'host-a011_cam6_1235933802951145006.jpeg', 'host-a102_cam0_1241548690450000006.jpeg', 'host-a102_cam1_1241548690466660006.jpeg', 'host-a011_cam2_1235866720517605006.jpeg', 'host-a004_cam1_1235947105934300006.jpeg', 'host-a011_cam0_1233087924451142006.jpeg', 'host-a011_cam3_1233087924400995006.jpeg', 'host-a101_cam3_1242748993999482006.jpeg', 'host-a101_cam1_1242748993966335006.jpeg', 'host-a004_cam6_1233685315350948006.jpeg', 'host-a015_cam5_1236112615167453006.jpeg', 'host-a015_cam4_1236112615184076006.jpeg', 'host-a017_cam1_1236119800434294006.jpeg', 'host-a011_cam3_1236122361900995006.jpeg', 'host-a011_cam0_1232752782651142006.jpeg', 'host-a007_cam2_1233079630617643006.jpeg', 'host-a101_cam1_1242748836166260006.jpeg', 'host-a011_cam1_1235950298034517006.jpeg', 'host-a101_cam0_1240875152650000006.jpeg', 'host-a007_cam6_1233689814750905006.jpeg', 'host-a102_cam2_1242754975981745006.jpeg', 'host-a101_cam6_1242753253944000006.jpeg', 'host-a004_cam6_1233014864850948006.jpeg', 'host-a007_cam2_1233524858017643006.jpeg', 'host-a101_cam0_1241561172450000006.jpeg', 'host-a004_cam0_1232923271051064006.jpeg', 'host-a011_cam2_1233965316917605006.jpeg', 'host-a011_cam2_1236123640917605006.jpeg', 'host-a011_cam2_1236122355517605006.jpeg', 'host-a011_cam3_1236122355500995006.jpeg', 'host-a009_cam6_1236123734251064006.jpeg', 'host-a101_cam0_1241216097150000006.jpeg', 'host-a004_cam1_1233620260934300006.jpeg', 'host-a011_cam2_1233090577417605006.jpeg', 'host-a011_cam1_1233090577434517006.jpeg', 'host-a011_cam1_1232909950134517006.jpeg', 'host-a004_cam0_1233014862451064006.jpeg', 'host-a004_cam0_1232842378851064006.jpeg', 'host-a007_cam2_1231093050282654006.jpeg', 'host-a011_cam2_1233965318117605006.jpeg', 'host-a011_cam0_1232752780451142006.jpeg', 'host-a102_cam2_1242754975781730006.jpeg', 'host-a007_cam1_1233529713334286006.jpeg', 'host-a101_cam1_1241216097966660006.jpeg', 'host-a011_cam1_1236122353534517006.jpeg', 'host-a011_cam0_1236122353551142006.jpeg', 'host-a011_cam6_1236122353551145006.jpeg', 'host-a011_cam6_1233512840851145006.jpeg', 'host-a009_cam0_1237581209851174006.jpeg', 'host-a011_cam3_1233965318500995006.jpeg', 'host-a011_cam2_1233965318517605006.jpeg', 'host-a011_cam1_1234466282734517006.jpeg', 'host-a007_cam2_1233524854417643006.jpeg', 'host-a101_cam1_1242748817565801006.jpeg', 'host-a004_cam0_1232923273051064006.jpeg', 'host-a101_cam2_1242748817982101006.jpeg', 'host-a011_cam2_1236093963717605006.jpeg', 'host-a012_cam1_1235937151834261006.jpeg', 'host-a004_cam2_1232923288217652006.jpeg', 'host-a101_cam4_1242580015015964006.jpeg', 'host-a011_cam2_1233512844417605006.jpeg', 'host-a004_cam1_1233620270334300006.jpeg', 'host-a011_cam2_1233090578617605006.jpeg', 'host-a012_cam2_1235937150617630006.jpeg', 'host-a101_cam5_1242580009032323006.jpeg', 'host-a007_cam1_1233510601334286006.jpeg', 'host-a004_cam1_1233014853234300006.jpeg', 'host-a011_cam1_1236104048134517006.jpeg', 'host-a017_cam2_1236118894217560006.jpeg', 'host-a011_cam1_1233512843834517006.jpeg', 'host-a102_cam0_1242754973948934006.jpeg', 'host-a101_cam3_1242583754699541006.jpeg', 'host-a011_cam2_1235931135517605006.jpeg', 'host-a011_cam3_1232752544800995006.jpeg', 'host-a009_cam6_1236123735251064006.jpeg', 'host-a101_cam3_1242748989499482006.jpeg', 'host-a101_cam1_1242748989566335006.jpeg', 'host-a007_cam2_1233529714717643006.jpeg', 'host-a017_cam3_1236118894600918006.jpeg', 'host-a011_cam0_1232752483051142006.jpeg', 'host-a011_cam5_1232752483067719006.jpeg', 'host-a011_cam1_1236122372134517006.jpeg', 'host-a011_cam0_1236122372151142006.jpeg', 'host-a101_cam6_1242753252944000006.jpeg', 'host-a004_cam2_1232842186617652006.jpeg', 'host-a011_cam3_1233087924000995006.jpeg', 'host-a011_cam1_1233090576634517006.jpeg', 'host-a011_cam2_1233090576617605006.jpeg', 'host-a007_cam2_1233689806517643006.jpeg', 'host-a004_cam1_1233620265134300006.jpeg', 'host-a009_cam1_1237581229634345006.jpeg', 'host-a009_cam0_1237581229651174006.jpeg', 'host-a011_cam1_1236122365334517006.jpeg', 'host-a004_cam0_1232923272051064006.jpeg', 'host-a011_cam0_1232752479051142006.jpeg', 'host-a011_cam0_1233087924251142006.jpeg', 'host-a011_cam3_1233087924200995006.jpeg', 'host-a011_cam2_1233087935617605006.jpeg', 'host-a004_cam1_1234047752334300006.jpeg', 'host-a011_cam6_1235931130751145006.jpeg', 'host-a004_cam2_1233014864017652006.jpeg', 'host-a004_cam6_1233014864050948006.jpeg', 'host-a101_cam2_1242748840982723006.jpeg', 'host-a011_cam2_1233081028017605006.jpeg', 'host-a004_cam2_1233620273717652006.jpeg', 'host-a004_cam3_1233620273700897006.jpeg', 'host-a101_cam1_1242748986366335006.jpeg', 'host-a011_cam2_1236122359117605006.jpeg', 'host-a011_cam3_1236122359100995006.jpeg', 'host-a011_cam1_1236122359134517006.jpeg', 'host-a007_cam3_1233510603100869006.jpeg', 'host-a007_cam2_1233510603117643006.jpeg', 'host-a011_cam3_1233087922400995006.jpeg', 'host-a011_cam1_1233087922434517006.jpeg', 'host-a011_cam6_1232752567051145006.jpeg', 'host-a011_cam5_1232752567067719006.jpeg', 'host-a011_cam4_1232752567084485006.jpeg', 'host-a017_cam1_1236118888034294006.jpeg', 'host-a011_cam2_1233512845017605006.jpeg', 'host-a011_cam6_1236122367951145006.jpeg', 'host-a011_cam3_1236122367900995006.jpeg', 'host-a004_cam1_1232905212734300006.jpeg', 'host-a004_cam2_1233620271317652006.jpeg', 'host-a004_cam1_1233620271334300006.jpeg', 'host-a102_cam6_1242754969144000006.jpeg', 'host-a101_cam1_1241561165466660006.jpeg', 'host-a101_cam2_1241561165483330006.jpeg', 'host-a101_cam1_1242748989766335006.jpeg', 'host-a101_cam3_1242748989799482006.jpeg', 'host-a011_cam6_1236038916251145006.jpeg', 'host-a101_cam0_1241561164250000006.jpeg', 'host-a011_cam2_1233688951317605006.jpeg', 'host-a101_cam1_1242748988366335006.jpeg', 'host-a011_cam6_1232905806951145006.jpeg', 'host-a007_cam2_1233524859217643006.jpeg', 'host-a101_cam6_1242748830344000006.jpeg', 'host-a011_cam1_1235866727734517006.jpeg', 'host-a011_cam1_1233688943734517006.jpeg', 'host-a009_cam1_1237581215034345006.jpeg', 'host-a004_cam1_1232923277034300006.jpeg', 'host-a011_cam3_1232909952500995006.jpeg', 'host-a007_cam6_1233079638250905006.jpeg', 'host-a101_cam6_1241561155450000006.jpeg', 'host-a009_cam3_1237581213000965006.jpeg', 'host-a011_cam2_1232752796817605006.jpeg', 'host-a101_cam3_1242748992299482006.jpeg', 'host-a101_cam1_1242748992366335006.jpeg', 'host-a011_cam2_1236122373917605006.jpeg', 'host-a004_cam1_1233620264734300006.jpeg', 'host-a012_cam2_1235937150817630006.jpeg', 'host-a007_cam3_1233524856400869006.jpeg', 'host-a011_cam5_1232752465867719006.jpeg', 'host-a011_cam4_1232752465884485006.jpeg', 'host-a011_cam3_1235950299400995006.jpeg', 'host-a011_cam2_1235950299417605006.jpeg', 'host-a011_cam4_1232752479884485006.jpeg', 'host-a011_cam1_1232752549434517006.jpeg', 'host-a011_cam3_1233090580000995006.jpeg', 'host-a004_cam2_1233014856017652006.jpeg', 'host-a017_cam3_1236118889200918006.jpeg', 'host-a011_cam0_1233087924851142006.jpeg', 'host-a011_cam3_1233087924800995006.jpeg', 'host-a011_cam0_1236122372551142006.jpeg', 'host-a011_cam1_1236122372534517006.jpeg', 'host-a011_cam6_1233965429351145006.jpeg', 'host-a015_cam5_1236112614567453006.jpeg', 'host-a011_cam6_1233965430151145006.jpeg', 'host-a101_cam1_1242748817365846006.jpeg', 'host-a011_cam1_1233087920634517006.jpeg', 'host-a011_cam1_1236104047534517006.jpeg', 'host-a101_cam0_1242753257149008006.jpeg', 'host-a101_cam3_1241216099700000006.jpeg', 'host-a007_cam0_1233079641850897006.jpeg', 'host-a102_cam0_1241548688250000006.jpeg', 'host-a102_cam1_1241548688266660006.jpeg', 'host-a009_cam2_1237581216617740006.jpeg', 'host-a007_cam0_1233524853450897006.jpeg', 'host-a007_cam1_1233689805334286006.jpeg', 'host-a011_cam1_1232752555434517006.jpeg', 'host-a011_cam6_1236123637951145006.jpeg', 'host-a004_cam6_1233685315950948006.jpeg', 'host-a011_cam6_1233965429151145006.jpeg', 'host-a007_cam2_1233079630817643006.jpeg', 'host-a011_cam2_1234466284317605006.jpeg', 'host-a009_cam0_1237581209651174006.jpeg', 'host-a015_cam5_1236112603567453006.jpeg', 'host-a004_cam3_1234047753900897006.jpeg', 'host-a011_cam6_1236122352951145006.jpeg', 'host-a007_cam2_1231093061082654006.jpeg', 'host-a011_cam2_1232752791617605006.jpeg', 'host-a004_cam0_1232923266451064006.jpeg', 'host-a011_cam0_1234639321151142006.jpeg', 'host-a007_cam1_1233621270334286006.jpeg', 'host-a101_cam6_1242748830144000006.jpeg', 'host-a007_cam0_1230672871049429006.jpeg', 'host-a101_cam1_1242748985966335006.jpeg', 'host-a007_cam1_1233079627034286006.jpeg', 'host-a007_cam2_1233079627017643006.jpeg', 'host-a101_cam2_1240875154283330006.jpeg', 'host-a101_cam2_1240875153483330006.jpeg', 'host-a101_cam0_1240875153450000006.jpeg', 'host-a011_cam0_1232752783251142006.jpeg', 'host-a004_cam6_1234047743550948006.jpeg', 'host-a011_cam2_1235866729317605006.jpeg', 'host-a011_cam0_1236122372951142006.jpeg', 'host-a011_cam2_1236122372917605006.jpeg', 'host-a011_cam3_1233965438300995006.jpeg', 'host-a004_cam1_1233620266334300006.jpeg', 'host-a011_cam4_1232752466284485006.jpeg', 'host-a007_cam2_1233524859617643006.jpeg', 'host-a004_cam2_1233685324717652006.jpeg', 'host-a101_cam0_1241561172950000006.jpeg', 'host-a009_cam2_1237581230817740006.jpeg', 'host-a011_cam3_1232909948500995006.jpeg', 'host-a004_cam2_1232923287817652006.jpeg', 'host-a011_cam3_1236122362100995006.jpeg', 'host-a007_cam1_1233529713134286006.jpeg', 'host-a004_cam1_1233620270734300006.jpeg', 'host-a101_cam6_1242753253344000006.jpeg', 'host-a004_cam1_1233620260734300006.jpeg', 'host-a011_cam3_1233512851200995006.jpeg', 'host-a011_cam1_1232752549834517006.jpeg', 'host-a011_cam1_1232909950334517006.jpeg', 'host-a007_cam0_1233510600350897006.jpeg', 'host-a004_cam1_1233620261734300006.jpeg', 'host-a007_cam2_1230672872282654006.jpeg', 'host-a004_cam0_1232923270651064006.jpeg', 'host-a101_cam5_1242580008032323006.jpeg', 'host-a101_cam0_1242580008049200006.jpeg', 'host-a102_cam1_1241548691266660006.jpeg', 'host-a102_cam0_1241548691250000006.jpeg', 'host-a011_cam0_1235950314051142006.jpeg', 'host-a101_cam2_1242748840382708006.jpeg', 'host-a101_cam1_1242748840366260006.jpeg', 'host-a007_cam3_1230672873199360006.jpeg', 'host-a102_cam6_1242754969744000006.jpeg', 'host-a011_cam5_1233965312967719006.jpeg', 'host-a011_cam1_1236122366334517006.jpeg', 'host-a011_cam1_1233087918634517006.jpeg', 'host-a011_cam1_1233090567434517006.jpeg', 'host-a101_cam3_1242580011799571006.jpeg', 'host-a101_cam4_1242580011815935006.jpeg', 'host-a004_cam1_1233620261134300006.jpeg', 'host-a101_cam0_1242580008249200006.jpeg', 'host-a101_cam5_1242580008232323006.jpeg', 'host-a011_cam1_1232909949734517006.jpeg', 'host-a011_cam0_1232909949751142006.jpeg', 'host-a009_cam6_1236123736251064006.jpeg', 'host-a009_cam1_1237581211234345006.jpeg', 'host-a004_cam2_1232905199317652006.jpeg', 'host-a011_cam0_1232752781651142006.jpeg', 'host-a011_cam0_1232905796751142006.jpeg', 'host-a011_cam6_1233965428351145006.jpeg', 'host-a004_cam2_1234047753317652006.jpeg', 'host-a004_cam2_1232905214317652006.jpeg', 'host-a011_cam1_1233965315734517006.jpeg', 'host-a011_cam0_1234639320851142006.jpeg', 'host-a007_cam2_1230672872682654006.jpeg', 'host-a102_cam1_1242754974964972006.jpeg', 'host-a011_cam1_1235950314834517006.jpeg', 'host-a015_cam4_1235423698284076006.jpeg', 'host-a015_cam3_1235423698200936006.jpeg', 'host-a011_cam2_1233090572617605006.jpeg', 'host-a011_cam1_1233090572634517006.jpeg', 'host-a101_cam3_1242580015599541006.jpeg', 'host-a101_cam4_1242580015615964006.jpeg', 'host-a102_cam6_1242754968944000006.jpeg', 'host-a004_cam1_1233014853634300006.jpeg', 'host-a011_cam2_1236119843517605006.jpeg', 'host-a009_cam1_1237581215434345006.jpeg', 'host-a004_cam6_1234047745750948006.jpeg', 'host-a011_cam1_1232905803734517006.jpeg', 'host-a004_cam6_1232905208550948006.jpeg', 'host-a011_cam0_1232752778251142006.jpeg', 'host-a011_cam0_1233965435351142006.jpeg', 'host-a101_cam3_1242583754499497006.jpeg', 'host-a101_cam2_1242583754482590006.jpeg', 'host-a011_cam3_1236093962700995006.jpeg', 'host-a004_cam6_1234047745950948006.jpeg', 'host-a102_cam1_1241548687266660006.jpeg', 'host-a102_cam0_1241548687250000006.jpeg', 'host-a101_cam2_1242144909883330006.jpeg', 'host-a102_cam0_1242754974148934006.jpeg', 'host-a011_cam1_1235950322034517006.jpeg', 'host-a102_cam2_1241548695083330006.jpeg', 'host-a011_cam0_1232752548851142006.jpeg', 'host-a102_cam2_1242754976181745006.jpeg', 'host-a011_cam1_1232909944934517006.jpeg', 'host-a011_cam2_1232905798117605006.jpeg', 'host-a011_cam1_1233965436534517006.jpeg', 'host-a007_cam1_1233079626834286006.jpeg', 'host-a004_cam0_1232923274251064006.jpeg', 'host-a011_cam2_1234466284117605006.jpeg', 'host-a011_cam2_1236123643517605006.jpeg', 'host-a004_cam6_1232905209550948006.jpeg', 'host-a004_cam6_1233014866050948006.jpeg', 'host-a004_cam6_1233014864250948006.jpeg', 'host-a004_cam2_1233014864217652006.jpeg', 'host-a011_cam1_1233090574834517006.jpeg', 'host-a011_cam2_1233090574817605006.jpeg', 'host-a101_cam1_1242748838766275006.jpeg', 'host-a011_cam0_1232752779651142006.jpeg', 'host-a011_cam1_1233688943334517006.jpeg', 'host-a009_cam2_1237581212217740006.jpeg', 'host-a102_cam0_1241548687050000006.jpeg', 'host-a102_cam1_1241548687066660006.jpeg', 'host-a011_cam0_1233512849251142006.jpeg', 'host-a101_cam1_1242753259165149006.jpeg', 'host-a004_cam2_1232905198117652006.jpeg', 'host-a007_cam0_1233524852250897006.jpeg', 'host-a004_cam6_1234047747950948006.jpeg', 'host-a101_cam6_1240875149450000006.jpeg', 'host-a015_cam4_1236112615584076006.jpeg', 'host-a011_cam2_1232752557417605006.jpeg', 'host-a011_cam3_1232752557400995006.jpeg', 'host-a011_cam0_1232752557451142006.jpeg', 'host-a011_cam2_1232909946717605006.jpeg', 'host-a004_cam1_1233620271134300006.jpeg', 'host-a011_cam4_1233965313784485006.jpeg', 'host-a007_cam2_1233079631417643006.jpeg', 'host-a011_cam1_1233087918834517006.jpeg', 'host-a011_cam1_1236123640334517006.jpeg', 'host-a011_cam5_1232752483267719006.jpeg', 'host-a004_cam0_1232923271651064006.jpeg', 'host-a004_cam0_1233014862651064006.jpeg', 'host-a004_cam1_1232905221534300006.jpeg', 'host-a004_cam6_1234047746350948006.jpeg', 'host-a011_cam1_1233087934834517006.jpeg', 'host-a011_cam2_1233090579217605006.jpeg', 'host-a011_cam3_1233090579200995006.jpeg', 'host-a102_cam2_1241548693883330006.jpeg', 'host-a102_cam1_1241548693866660006.jpeg', 'host-a011_cam2_1233688945917605006.jpeg', 'host-a011_cam3_1233688945900995006.jpeg', 'host-a004_cam1_1232842379234300006.jpeg', 'host-a009_cam1_1236123740434345006.jpeg', 'host-a017_cam2_1236119802817560006.jpeg', 'host-a004_cam1_1233516151834300006.jpeg', 'host-a012_cam1_1235937151634261006.jpeg', 'host-a101_cam2_1242748841782753006.jpeg', 'host-a007_cam6_1231093044849446006.jpeg', 'host-a011_cam3_1233965438100995006.jpeg', 'host-a004_cam1_1233620265334300006.jpeg', 'host-a007_cam2_1233510602117643006.jpeg', 'host-a004_cam1_1233620262934300006.jpeg', 'host-a007_cam1_1231093049466021006.jpeg', 'host-a009_cam0_1237581210251174006.jpeg', 'host-a011_cam2_1233688951917605006.jpeg', 'host-a009_cam3_1237581213400965006.jpeg', 'host-a011_cam0_1232909944351142006.jpeg', 'host-a011_cam0_1232752788251142006.jpeg', 'host-a004_cam2_1233620273317652006.jpeg', 'host-a004_cam3_1233620273300897006.jpeg', 'host-a102_cam1_1241548693066660006.jpeg', 'host-a102_cam0_1241548693050000006.jpeg', 'host-a009_cam1_1237581229834345006.jpeg', 'host-a007_cam2_1233524858617643006.jpeg', 'host-a007_cam2_1233524854817643006.jpeg', 'host-a009_cam2_1237581231017740006.jpeg', 'host-a009_cam2_1237581212617740006.jpeg', 'host-a004_cam1_1232905220934300006.jpeg', 'host-a011_cam5_1232752482867719006.jpeg', 'host-a011_cam0_1232752482851142006.jpeg', 'host-a011_cam3_1232752560600995006.jpeg', 'host-a011_cam1_1233087918434517006.jpeg', 'host-a011_cam1_1235866710734517006.jpeg', 'host-a007_cam1_1233510600934286006.jpeg', 'host-a101_cam3_1242748989999482006.jpeg', 'host-a101_cam1_1242748989966335006.jpeg', 'host-a011_cam1_1232752556434517006.jpeg', 'host-a102_cam1_1241548692666660006.jpeg', 'host-a102_cam0_1241548692650000006.jpeg', 'host-a015_cam4_1235423697084076006.jpeg', 'host-a011_cam1_1235866727934517006.jpeg', 'host-a011_cam1_1233087925434517006.jpeg', 'host-a101_cam1_1242748839966246006.jpeg', 'host-a011_cam3_1232905805700995006.jpeg', 'host-a011_cam2_1232905805717605006.jpeg', 'host-a011_cam6_1232905805751145006.jpeg', 'host-a011_cam0_1236122356951142006.jpeg', 'host-a004_cam6_1232905208750948006.jpeg', 'host-a011_cam2_1236123641117605006.jpeg', 'host-a101_cam0_1242749000349408006.jpeg', 'host-a011_cam1_1236119842334517006.jpeg', 'host-a007_cam1_1231093049266021006.jpeg', 'host-a102_cam0_1241548686850000006.jpeg', 'host-a102_cam1_1241548686866660006.jpeg', 'host-a011_cam5_1232752484067719006.jpeg', 'host-a102_cam0_1241548691450000006.jpeg', 'host-a102_cam1_1241548691466660006.jpeg', 'host-a007_cam2_1231093060882654006.jpeg', 'host-a101_cam6_1240875149050000006.jpeg', 'host-a011_cam1_1233688942934517006.jpeg', 'host-a011_cam2_1233688942917605006.jpeg', 'host-a017_cam1_1236118893234294006.jpeg', 'host-a011_cam5_1232752484667719006.jpeg', 'host-a101_cam3_1242748995699482006.jpeg', 'host-a101_cam1_1242748995766349006.jpeg', 'host-a004_cam1_1232905221134300006.jpeg', 'host-a011_cam6_1236038917451145006.jpeg', 'host-a004_cam6_1232905208950948006.jpeg', 'host-a011_cam1_1232905797134517006.jpeg', 'host-a011_cam1_1233090571234517006.jpeg', 'host-a004_cam3_1233685325900897006.jpeg', 'host-a011_cam4_1232752466484485006.jpeg', 'host-a101_cam3_1241216100400000006.jpeg', 'host-a011_cam2_1232752556817605006.jpeg', 'host-a011_cam0_1232752556851142006.jpeg', 'host-a101_cam5_1242580013832338006.jpeg', 'host-a011_cam3_1236093962500995006.jpeg', 'host-a011_cam1_1235950321834517006.jpeg', 'host-a011_cam4_1233965313584485006.jpeg', 'host-a009_cam3_1236123742000965006.jpeg', 'host-a009_cam6_1236123742051064006.jpeg', 'host-a004_cam0_1232923270051064006.jpeg', 'host-a011_cam0_1232752788051142006.jpeg', 'host-a011_cam5_1232752484467719006.jpeg', 'host-a101_cam1_1242753258765283006.jpeg', 'host-a004_cam2_1233620272717652006.jpeg', 'host-a101_cam1_1242748996366349006.jpeg', 'host-a011_cam1_1233090577034517006.jpeg', 'host-a011_cam2_1233090577017605006.jpeg', 'host-a011_cam6_1236122353151145006.jpeg', 'host-a011_cam1_1236122353134517006.jpeg', 'host-a004_cam1_1233685323134300006.jpeg', 'host-a011_cam4_1232752485284485006.jpeg', 'host-a007_cam2_1233524857217643006.jpeg', 'host-a017_cam0_1236118886850894006.jpeg', 'host-a004_cam0_1232923270251064006.jpeg', 'host-a004_cam3_1233685325700897006.jpeg', 'host-a101_cam4_1241561162416660006.jpeg', 'host-a101_cam2_1241216098783330006.jpeg', 'host-a009_cam1_1237581230234345006.jpeg', 'host-a011_cam3_1233087921400995006.jpeg', 'host-a011_cam1_1233087921434517006.jpeg', 'host-a007_cam2_1233079631017643006.jpeg', 'host-a102_cam1_1242754974365016006.jpeg', 'host-a102_cam0_1242754974348934006.jpeg', 'host-a101_cam3_1241561166600000006.jpeg', 'host-a004_cam1_1233014862834300006.jpeg', 'host-a101_cam2_1240875154083330006.jpeg', 'host-a015_cam5_1235423696267453006.jpeg', 'host-a101_cam5_1242580008832323006.jpeg', 'host-a101_cam1_1242583751065164006.jpeg', 'host-a004_cam6_1234047746150948006.jpeg', 'host-a004_cam2_1233620272317652006.jpeg', 'host-a011_cam3_1232905805900995006.jpeg', 'host-a011_cam6_1232905805951145006.jpeg', 'host-a011_cam1_1233087934034517006.jpeg', 'host-a101_cam1_1242748990566335006.jpeg', 'host-a101_cam3_1242748990499482006.jpeg', 'host-a011_cam1_1236122353334517006.jpeg', 'host-a011_cam6_1236122353351145006.jpeg', 'host-a011_cam0_1236122353351142006.jpeg', 'host-a011_cam1_1235950297634517006.jpeg', 'host-a009_cam3_1237581213600965006.jpeg', 'host-a102_cam1_1241548688866660006.jpeg', 'host-a102_cam0_1241548688850000006.jpeg', 'host-a011_cam0_1236123639951142006.jpeg', 'host-a004_cam1_1233620266134300006.jpeg', 'host-a007_cam6_1233079638050905006.jpeg', 'host-a004_cam3_1233685321500897006.jpeg', 'host-a101_cam6_1241561157050000006.jpeg', 'host-a011_cam6_1232752564651145006.jpeg', 'host-a011_cam0_1234639321051142006.jpeg', 'host-a101_cam1_1242748994566349006.jpeg', 'host-a101_cam2_1242748994582545006.jpeg', 'host-a101_cam3_1242748994599482006.jpeg', 'host-a004_cam0_1232842379051064006.jpeg', 'host-a101_cam6_1242753252744000006.jpeg', 'host-a011_cam6_1232745790251145006.jpeg', 'host-a011_cam2_1236104050317605006.jpeg', 'host-a011_cam2_1232752797617605006.jpeg', 'host-a007_cam1_1233621269734286006.jpeg', 'host-a011_cam1_1233087926634517006.jpeg', 'host-a011_cam2_1236122373717605006.jpeg', 'host-a011_cam6_1236038916051145006.jpeg', 'host-a004_cam1_1233620267734300006.jpeg', 'host-a011_cam1_1233688945334517006.jpeg', 'host-a011_cam3_1233688945300995006.jpeg', 'host-a011_cam6_1233688945351145006.jpeg', 'host-a004_cam1_1233014853434300006.jpeg', 'host-a004_cam3_1233620274100897006.jpeg', 'host-a004_cam6_1233685317150948006.jpeg', 'host-a007_cam3_1233079631800869006.jpeg', 'host-a007_cam2_1233079631817643006.jpeg', 'host-a101_cam3_1242748988499482006.jpeg', 'host-a101_cam1_1242748988566335006.jpeg', 'host-a004_cam6_1234047744150948006.jpeg', 'host-a009_cam1_1236123740034345006.jpeg', 'host-a009_cam2_1237581216417740006.jpeg', 'host-a011_cam1_1233090574434517006.jpeg', 'host-a011_cam2_1233090574417605006.jpeg', 'host-a011_cam2_1235866729717605006.jpeg', 'host-a011_cam1_1235866711134517006.jpeg', 'host-a004_cam1_1233014854834300006.jpeg', 'host-a011_cam0_1232909949951142006.jpeg', 'host-a011_cam1_1232909949934517006.jpeg', 'host-a011_cam2_1232905804717605006.jpeg', 'host-a011_cam6_1232905804751145006.jpeg', 'host-a011_cam2_1236122358917605006.jpeg', 'host-a011_cam1_1236122358934517006.jpeg', 'host-a011_cam1_1233965435734517006.jpeg', 'host-a101_cam6_1240875149650000006.jpeg', 'host-a011_cam6_1235933803751145006.jpeg', 'host-a011_cam0_1232909949351142006.jpeg', 'host-a007_cam2_1233524854617643006.jpeg', 'host-a102_cam1_1241548690666660006.jpeg', 'host-a102_cam0_1241548690650000006.jpeg', 'host-a011_cam3_1236122361700995006.jpeg', 'host-a102_cam2_1241548694083330006.jpeg', 'host-a102_cam1_1241548694066660006.jpeg', 'host-a011_cam2_1234466284517605006.jpeg', 'host-a015_cam5_1236112608967453006.jpeg', 'host-a004_cam0_1232923275251064006.jpeg', 'host-a004_cam0_1232923268851064006.jpeg', 'host-a011_cam1_1233087919434517006.jpeg', 'host-a011_cam2_1233512844217605006.jpeg', 'host-a011_cam6_1236038917651145006.jpeg', 'host-a011_cam2_1236122367517605006.jpeg', 'host-a011_cam6_1236122367551145006.jpeg', 'host-a017_cam6_1236118889650938006.jpeg', 'host-a004_cam3_1232842381400897006.jpeg', 'host-a101_cam5_1242580013232353006.jpeg', 'host-a101_cam0_1242580013249215006.jpeg', 'host-a015_cam5_1236112604367453006.jpeg', 'host-a101_cam3_1242748990199482006.jpeg', 'host-a101_cam1_1242748990166335006.jpeg', 'host-a101_cam0_1242749001149289006.jpeg', 'host-a101_cam6_1241561160050000006.jpeg', 'host-a101_cam5_1241561160033330006.jpeg', 'host-a101_cam0_1240875153250000006.jpeg', 'host-a101_cam2_1240875153283330006.jpeg', 'host-a101_cam4_1242580016615964006.jpeg', 'host-a101_cam3_1242580016599571006.jpeg', 'host-a101_cam0_1242753256748978006.jpeg', 'host-a004_cam1_1233620269534300006.jpeg'])\n"
     ]
    }
   ],
   "source": [
    "#Generated by ChatGPT 4\n",
    "def collate_fn(batch):\n",
    "    \"\"\"\n",
    "    Custom collate function for handling varying sizes of bounding boxes and labels.\n",
    "    \"\"\"\n",
    "    batch = list(filter(lambda x: x is not None, batch))\n",
    "    if not batch:\n",
    "        return torch.tensor([]), {}\n",
    "\n",
    "    images = [item[0] for item in batch]\n",
    "    targets = [item[1] for item in batch]\n",
    "\n",
    "    images = default_collate(images)  # Stack images as they should have the same size\n",
    "    # Do not stack targets as they can have varying sizes\n",
    "    return images, targets\n",
    "\n",
    "images_base_path = r\"S:\\MADS\\Capstone\\3d-object-detection-for-autonomous-vehicles\\Train\\images\"\n",
    "train_image_box_lookup_path = r'S:\\MADS\\Capstone\\3d-object-detection-for-autonomous-vehicles\\Train\\img_bx_lookup\\train_merged.json'\n",
    "with open(train_image_box_lookup_path, \"r\") as file:\n",
    "    train_image_box_lookup = json.load(file)\n",
    "dataset_training_detection = Lyft_binary_object_detection_CustomDataset(train_image_box_lookup, images_base_path=images_base_path, transform=None, random_sample=None, positive_imgs_only=True)\n",
    "# Use the custom collate function in the DataLoader\n",
    "batch_size=10\n",
    "dataloader_training_detection = DataLoader(dataset_training_detection, batch_size=batch_size, collate_fn=collate_fn, shuffle=True)\n",
    "print(\"total number of training batches to anticipate: \", len(dataset_training_detection)/batch_size, \"Dataset total length: \", len(dataset_training_detection))\n",
    "\n",
    "validation_image_box_lookup_path = r'S:\\MADS\\Capstone\\3d-object-detection-for-autonomous-vehicles\\Train\\img_bx_lookup\\validation_merged.json'\n",
    "with open(validation_image_box_lookup_path, \"r\") as file:\n",
    "    validation_image_box_lookup = json.load(file)\n",
    "dataset_validation_detection = Lyft_binary_object_detection_CustomDataset(validation_image_box_lookup, images_base_path=images_base_path, transform=None, random_sample=None, positive_imgs_only=True)\n",
    "# Use the custom collate function in the DataLoader\n",
    "batch_size=10\n",
    "dataloader_validation_detection = DataLoader(dataset_validation_detection, batch_size=batch_size, collate_fn=collate_fn, shuffle=True)\n",
    "print(\"total number of validation batches to anticipate: \", len(dataset_validation_detection)/batch_size, \"Dataset total length: \", len(dataset_validation_detection))\n",
    "print(dataloader_validation_detection.dataset.file_names)"
   ]
  },
  {
   "cell_type": "markdown",
   "metadata": {},
   "source": [
    "## Train"
   ]
  },
  {
   "cell_type": "code",
   "execution_count": 13,
   "metadata": {},
   "outputs": [],
   "source": [
    "#Code below created with ChatGPT 4\n",
    "def calculate_iou(box1, box2):\n",
    "    \"\"\"\n",
    "    Calculate the Intersection over Union (IoU) of two bounding boxes.\n",
    "\n",
    "    Parameters:\n",
    "    box1 (list of floats): bounding box in format [x_min, y_min, x_max, y_max].\n",
    "    box2 (list of floats): bounding box in format [x_min, y_min, x_max, y_max].\n",
    "\n",
    "    Returns:\n",
    "    float: IoU of box1 and box2.\n",
    "    \"\"\"\n",
    "\n",
    "    # Determine the coordinates of the intersection rectangle\n",
    "    x_left = max(box1[0], box2[0])\n",
    "    y_top = max(box1[1], box2[1])\n",
    "    x_right = min(box1[2], box2[2])\n",
    "    y_bottom = min(box1[3], box2[3])\n",
    "\n",
    "    # Check if there is no overlap\n",
    "    if x_right < x_left or y_bottom < y_top:\n",
    "        return 0.0\n",
    "\n",
    "    # Calculate area of intersection rectangle\n",
    "    intersection_area = (x_right - x_left) * (y_bottom - y_top)\n",
    "\n",
    "    # Calculate area of both bounding boxes\n",
    "    box1_area = (box1[2] - box1[0]) * (box1[3] - box1[1])\n",
    "    box2_area = (box2[2] - box2[0]) * (box2[3] - box2[1])\n",
    "\n",
    "    # Calculate combined area\n",
    "    total_area = box1_area + box2_area - intersection_area\n",
    "\n",
    "    # Compute IoU\n",
    "    iou = intersection_area / total_area\n",
    "\n",
    "    return iou"
   ]
  },
  {
   "cell_type": "code",
   "execution_count": 14,
   "metadata": {},
   "outputs": [
    {
     "name": "stdout",
     "output_type": "stream",
     "text": [
      "On batch:  0\n",
      "Batch Duration: 29.34 seconds\n",
      "On batch:  1\n",
      "Batch Duration: 34.47 seconds\n",
      "On batch:  2\n",
      "Batch Duration: 37.97 seconds\n",
      "On batch:  3\n",
      "Batch Duration: 3.11 seconds\n",
      "On inference batch:  0\n",
      "predicted boxex:  []\n",
      "predicted labels:  []\n",
      "predicted boxex:  []\n",
      "predicted labels:  []\n",
      "predicted boxex:  []\n",
      "predicted labels:  []\n",
      "predicted boxex:  []\n",
      "predicted labels:  []\n",
      "predicted boxex:  []\n",
      "predicted labels:  []\n",
      "predicted boxex:  []\n",
      "predicted labels:  []\n",
      "predicted boxex:  []\n",
      "predicted labels:  []\n",
      "predicted boxex:  []\n",
      "predicted labels:  []\n",
      "predicted boxex:  []\n",
      "predicted labels:  []\n",
      "predicted boxex:  []\n",
      "predicted labels:  []\n",
      "Inference Batch Duration: 9.31 seconds\n",
      "On inference batch:  1\n",
      "predicted boxex:  []\n",
      "predicted labels:  []\n",
      "predicted boxex:  []\n",
      "predicted labels:  []\n",
      "predicted boxex:  []\n",
      "predicted labels:  []\n",
      "predicted boxex:  []\n",
      "predicted labels:  []\n",
      "predicted boxex:  []\n",
      "predicted labels:  []\n",
      "predicted boxex:  []\n",
      "predicted labels:  []\n",
      "predicted boxex:  []\n",
      "predicted labels:  []\n",
      "predicted boxex:  []\n",
      "predicted labels:  []\n",
      "predicted boxex:  []\n",
      "predicted labels:  []\n",
      "predicted boxex:  []\n",
      "predicted labels:  []\n",
      "Inference Batch Duration: 18.53 seconds\n",
      "On inference batch:  2\n",
      "predicted boxex:  []\n",
      "predicted labels:  []\n",
      "predicted boxex:  []\n",
      "predicted labels:  []\n",
      "predicted boxex:  []\n",
      "predicted labels:  []\n",
      "predicted boxex:  []\n",
      "predicted labels:  []\n",
      "predicted boxex:  []\n",
      "predicted labels:  []\n",
      "predicted boxex:  []\n",
      "predicted labels:  []\n",
      "predicted boxex:  []\n",
      "predicted labels:  []\n",
      "predicted boxex:  []\n",
      "predicted labels:  []\n",
      "predicted boxex:  []\n",
      "predicted labels:  []\n",
      "predicted boxex:  []\n",
      "predicted labels:  []\n",
      "Inference Batch Duration: 15.44 seconds\n",
      "On inference batch:  3\n",
      "predicted boxex:  [[423.9119873046875, 799.9227294921875, 447.414306640625, 799.999267578125]]\n",
      "predicted labels:  [1]\n",
      "predicted boxex:  [[463.26141357421875, 799.9118041992188, 487.2890625, 799.9992065429688]]\n",
      "predicted labels:  [1]\n",
      "predicted boxex:  []\n",
      "predicted labels:  []\n",
      "predicted boxex:  [[271.45953369140625, 799.8796997070312, 276.9703369140625, 799.9988403320312]]\n",
      "predicted labels:  [1]\n",
      "predicted boxex:  []\n",
      "predicted labels:  []\n",
      "predicted boxex:  []\n",
      "predicted labels:  []\n",
      "predicted boxex:  []\n",
      "predicted labels:  []\n",
      "predicted boxex:  []\n",
      "predicted labels:  []\n",
      "predicted boxex:  [[672.7700805664062, 799.9776000976562, 696.8572387695312, 799.9998168945312]]\n",
      "predicted labels:  [1]\n",
      "predicted boxex:  []\n",
      "predicted labels:  []\n",
      "Inference Batch Duration: 13.93 seconds\n",
      "On inference batch:  4\n",
      "predicted boxex:  []\n",
      "predicted labels:  []\n",
      "predicted boxex:  []\n",
      "predicted labels:  []\n",
      "predicted boxex:  []\n",
      "predicted labels:  []\n",
      "predicted boxex:  []\n",
      "predicted labels:  []\n",
      "predicted boxex:  []\n",
      "predicted labels:  []\n",
      "predicted boxex:  []\n",
      "predicted labels:  []\n",
      "predicted boxex:  []\n",
      "predicted labels:  []\n",
      "predicted boxex:  []\n",
      "predicted labels:  []\n",
      "predicted boxex:  []\n",
      "predicted labels:  []\n",
      "predicted boxex:  []\n",
      "predicted labels:  []\n",
      "Inference Batch Duration: 13.99 seconds\n",
      "On inference batch:  5\n",
      "predicted boxex:  []\n",
      "predicted labels:  []\n",
      "predicted boxex:  []\n",
      "predicted labels:  []\n",
      "predicted boxex:  []\n",
      "predicted labels:  []\n",
      "predicted boxex:  []\n",
      "predicted labels:  []\n",
      "predicted boxex:  []\n",
      "predicted labels:  []\n",
      "predicted boxex:  []\n",
      "predicted labels:  []\n",
      "predicted boxex:  []\n",
      "predicted labels:  []\n",
      "predicted boxex:  [[883.03759765625, 799.9520263671875, 883.783447265625, 799.99951171875]]\n",
      "predicted labels:  [1]\n",
      "predicted boxex:  []\n",
      "predicted labels:  []\n",
      "predicted boxex:  []\n",
      "predicted labels:  []\n",
      "Inference Batch Duration: 15.59 seconds\n",
      "On inference batch:  6\n",
      "predicted boxex:  []\n",
      "predicted labels:  []\n",
      "predicted boxex:  [[274.7659606933594, 799.9271850585938, 307.7090148925781, 799.9993286132812]]\n",
      "predicted labels:  [1]\n",
      "Inference Batch Duration: 3.10 seconds\n",
      "Epoch [1/5], Loss: 0.6016, Precision: 0.0000, Recall: 0.0000, F1: 0.0000, Duration: 196.92 seconds\n",
      "On batch:  0\n",
      "Batch Duration: 55.42 seconds\n",
      "On batch:  1\n",
      "Batch Duration: 93.74 seconds\n",
      "On batch:  2\n",
      "Batch Duration: 73.28 seconds\n",
      "On batch:  3\n",
      "Batch Duration: 8.00 seconds\n",
      "On inference batch:  0\n",
      "predicted boxex:  []\n",
      "predicted labels:  []\n",
      "predicted boxex:  []\n",
      "predicted labels:  []\n",
      "predicted boxex:  []\n",
      "predicted labels:  []\n",
      "predicted boxex:  []\n",
      "predicted labels:  []\n",
      "predicted boxex:  []\n",
      "predicted labels:  []\n",
      "predicted boxex:  []\n",
      "predicted labels:  []\n",
      "predicted boxex:  []\n",
      "predicted labels:  []\n",
      "predicted boxex:  []\n",
      "predicted labels:  []\n",
      "predicted boxex:  []\n",
      "predicted labels:  []\n",
      "predicted boxex:  []\n",
      "predicted labels:  []\n",
      "Inference Batch Duration: 21.06 seconds\n",
      "On inference batch:  1\n"
     ]
    },
    {
     "ename": "KeyboardInterrupt",
     "evalue": "",
     "output_type": "error",
     "traceback": [
      "\u001b[1;31m---------------------------------------------------------------------------\u001b[0m",
      "\u001b[1;31mKeyboardInterrupt\u001b[0m                         Traceback (most recent call last)",
      "\u001b[1;32ms:\\MADS\\Capstone\\3d-object-detection-for-autonomous-vehicles\\Notebooks\\lyft_training_inference.ipynb Cell 46\u001b[0m line \u001b[0;36m5\n\u001b[0;32m     <a href='vscode-notebook-cell:/s%3A/MADS/Capstone/3d-object-detection-for-autonomous-vehicles/Notebooks/lyft_training_inference.ipynb#X63sZmlsZQ%3D%3D?line=54'>55</a>\u001b[0m inference_batch_i \u001b[39m+\u001b[39m\u001b[39m=\u001b[39m \u001b[39m1\u001b[39m\n\u001b[0;32m     <a href='vscode-notebook-cell:/s%3A/MADS/Capstone/3d-object-detection-for-autonomous-vehicles/Notebooks/lyft_training_inference.ipynb#X63sZmlsZQ%3D%3D?line=56'>57</a>\u001b[0m images \u001b[39m=\u001b[39m images\u001b[39m.\u001b[39mto(device)\n\u001b[1;32m---> <a href='vscode-notebook-cell:/s%3A/MADS/Capstone/3d-object-detection-for-autonomous-vehicles/Notebooks/lyft_training_inference.ipynb#X63sZmlsZQ%3D%3D?line=57'>58</a>\u001b[0m predictions \u001b[39m=\u001b[39m model_fastercnn(images)\n\u001b[0;32m     <a href='vscode-notebook-cell:/s%3A/MADS/Capstone/3d-object-detection-for-autonomous-vehicles/Notebooks/lyft_training_inference.ipynb#X63sZmlsZQ%3D%3D?line=58'>59</a>\u001b[0m filenames \u001b[39m=\u001b[39m dataloader_validation_detection\u001b[39m.\u001b[39mdataset\u001b[39m.\u001b[39mfile_names\n\u001b[0;32m     <a href='vscode-notebook-cell:/s%3A/MADS/Capstone/3d-object-detection-for-autonomous-vehicles/Notebooks/lyft_training_inference.ipynb#X63sZmlsZQ%3D%3D?line=59'>60</a>\u001b[0m \u001b[39mtry\u001b[39;00m:\n\u001b[0;32m     <a href='vscode-notebook-cell:/s%3A/MADS/Capstone/3d-object-detection-for-autonomous-vehicles/Notebooks/lyft_training_inference.ipynb#X63sZmlsZQ%3D%3D?line=60'>61</a>\u001b[0m     \u001b[39m# Update the dictionary with predictions\u001b[39;00m\n",
      "File \u001b[1;32mc:\\Users\\stern\\ytorch_env\\lib\\site-packages\\torch\\nn\\modules\\module.py:1519\u001b[0m, in \u001b[0;36mModule._wrapped_call_impl\u001b[1;34m(self, *args, **kwargs)\u001b[0m\n\u001b[0;32m   1517\u001b[0m     \u001b[39mreturn\u001b[39;00m \u001b[39mself\u001b[39m\u001b[39m.\u001b[39m_compiled_call_impl(\u001b[39m*\u001b[39margs, \u001b[39m*\u001b[39m\u001b[39m*\u001b[39mkwargs)  \u001b[39m# type: ignore[misc]\u001b[39;00m\n\u001b[0;32m   1518\u001b[0m \u001b[39melse\u001b[39;00m:\n\u001b[1;32m-> 1519\u001b[0m     \u001b[39mreturn\u001b[39;00m \u001b[39mself\u001b[39m\u001b[39m.\u001b[39m_call_impl(\u001b[39m*\u001b[39margs, \u001b[39m*\u001b[39m\u001b[39m*\u001b[39mkwargs)\n",
      "File \u001b[1;32mc:\\Users\\stern\\ytorch_env\\lib\\site-packages\\torch\\nn\\modules\\module.py:1528\u001b[0m, in \u001b[0;36mModule._call_impl\u001b[1;34m(self, *args, **kwargs)\u001b[0m\n\u001b[0;32m   1523\u001b[0m \u001b[39m# If we don't have any hooks, we want to skip the rest of the logic in\u001b[39;00m\n\u001b[0;32m   1524\u001b[0m \u001b[39m# this function, and just call forward.\u001b[39;00m\n\u001b[0;32m   1525\u001b[0m \u001b[39mif\u001b[39;00m \u001b[39mnot\u001b[39;00m (\u001b[39mself\u001b[39m\u001b[39m.\u001b[39m_backward_hooks \u001b[39mor\u001b[39;00m \u001b[39mself\u001b[39m\u001b[39m.\u001b[39m_backward_pre_hooks \u001b[39mor\u001b[39;00m \u001b[39mself\u001b[39m\u001b[39m.\u001b[39m_forward_hooks \u001b[39mor\u001b[39;00m \u001b[39mself\u001b[39m\u001b[39m.\u001b[39m_forward_pre_hooks\n\u001b[0;32m   1526\u001b[0m         \u001b[39mor\u001b[39;00m _global_backward_pre_hooks \u001b[39mor\u001b[39;00m _global_backward_hooks\n\u001b[0;32m   1527\u001b[0m         \u001b[39mor\u001b[39;00m _global_forward_hooks \u001b[39mor\u001b[39;00m _global_forward_pre_hooks):\n\u001b[1;32m-> 1528\u001b[0m     \u001b[39mreturn\u001b[39;00m forward_call(\u001b[39m*\u001b[39margs, \u001b[39m*\u001b[39m\u001b[39m*\u001b[39mkwargs)\n\u001b[0;32m   1530\u001b[0m \u001b[39mtry\u001b[39;00m:\n\u001b[0;32m   1531\u001b[0m     result \u001b[39m=\u001b[39m \u001b[39mNone\u001b[39;00m\n",
      "File \u001b[1;32mc:\\Users\\stern\\ytorch_env\\lib\\site-packages\\torchvision\\models\\detection\\generalized_rcnn.py:104\u001b[0m, in \u001b[0;36mGeneralizedRCNN.forward\u001b[1;34m(self, images, targets)\u001b[0m\n\u001b[0;32m    102\u001b[0m \u001b[39mif\u001b[39;00m \u001b[39misinstance\u001b[39m(features, torch\u001b[39m.\u001b[39mTensor):\n\u001b[0;32m    103\u001b[0m     features \u001b[39m=\u001b[39m OrderedDict([(\u001b[39m\"\u001b[39m\u001b[39m0\u001b[39m\u001b[39m\"\u001b[39m, features)])\n\u001b[1;32m--> 104\u001b[0m proposals, proposal_losses \u001b[39m=\u001b[39m \u001b[39mself\u001b[39;49m\u001b[39m.\u001b[39;49mrpn(images, features, targets)\n\u001b[0;32m    105\u001b[0m detections, detector_losses \u001b[39m=\u001b[39m \u001b[39mself\u001b[39m\u001b[39m.\u001b[39mroi_heads(features, proposals, images\u001b[39m.\u001b[39mimage_sizes, targets)\n\u001b[0;32m    106\u001b[0m detections \u001b[39m=\u001b[39m \u001b[39mself\u001b[39m\u001b[39m.\u001b[39mtransform\u001b[39m.\u001b[39mpostprocess(detections, images\u001b[39m.\u001b[39mimage_sizes, original_image_sizes)  \u001b[39m# type: ignore[operator]\u001b[39;00m\n",
      "File \u001b[1;32mc:\\Users\\stern\\ytorch_env\\lib\\site-packages\\torch\\nn\\modules\\module.py:1519\u001b[0m, in \u001b[0;36mModule._wrapped_call_impl\u001b[1;34m(self, *args, **kwargs)\u001b[0m\n\u001b[0;32m   1517\u001b[0m     \u001b[39mreturn\u001b[39;00m \u001b[39mself\u001b[39m\u001b[39m.\u001b[39m_compiled_call_impl(\u001b[39m*\u001b[39margs, \u001b[39m*\u001b[39m\u001b[39m*\u001b[39mkwargs)  \u001b[39m# type: ignore[misc]\u001b[39;00m\n\u001b[0;32m   1518\u001b[0m \u001b[39melse\u001b[39;00m:\n\u001b[1;32m-> 1519\u001b[0m     \u001b[39mreturn\u001b[39;00m \u001b[39mself\u001b[39m\u001b[39m.\u001b[39m_call_impl(\u001b[39m*\u001b[39margs, \u001b[39m*\u001b[39m\u001b[39m*\u001b[39mkwargs)\n",
      "File \u001b[1;32mc:\\Users\\stern\\ytorch_env\\lib\\site-packages\\torch\\nn\\modules\\module.py:1528\u001b[0m, in \u001b[0;36mModule._call_impl\u001b[1;34m(self, *args, **kwargs)\u001b[0m\n\u001b[0;32m   1523\u001b[0m \u001b[39m# If we don't have any hooks, we want to skip the rest of the logic in\u001b[39;00m\n\u001b[0;32m   1524\u001b[0m \u001b[39m# this function, and just call forward.\u001b[39;00m\n\u001b[0;32m   1525\u001b[0m \u001b[39mif\u001b[39;00m \u001b[39mnot\u001b[39;00m (\u001b[39mself\u001b[39m\u001b[39m.\u001b[39m_backward_hooks \u001b[39mor\u001b[39;00m \u001b[39mself\u001b[39m\u001b[39m.\u001b[39m_backward_pre_hooks \u001b[39mor\u001b[39;00m \u001b[39mself\u001b[39m\u001b[39m.\u001b[39m_forward_hooks \u001b[39mor\u001b[39;00m \u001b[39mself\u001b[39m\u001b[39m.\u001b[39m_forward_pre_hooks\n\u001b[0;32m   1526\u001b[0m         \u001b[39mor\u001b[39;00m _global_backward_pre_hooks \u001b[39mor\u001b[39;00m _global_backward_hooks\n\u001b[0;32m   1527\u001b[0m         \u001b[39mor\u001b[39;00m _global_forward_hooks \u001b[39mor\u001b[39;00m _global_forward_pre_hooks):\n\u001b[1;32m-> 1528\u001b[0m     \u001b[39mreturn\u001b[39;00m forward_call(\u001b[39m*\u001b[39margs, \u001b[39m*\u001b[39m\u001b[39m*\u001b[39mkwargs)\n\u001b[0;32m   1530\u001b[0m \u001b[39mtry\u001b[39;00m:\n\u001b[0;32m   1531\u001b[0m     result \u001b[39m=\u001b[39m \u001b[39mNone\u001b[39;00m\n",
      "File \u001b[1;32mc:\\Users\\stern\\ytorch_env\\lib\\site-packages\\torchvision\\models\\detection\\rpn.py:370\u001b[0m, in \u001b[0;36mRegionProposalNetwork.forward\u001b[1;34m(self, images, features, targets)\u001b[0m\n\u001b[0;32m    366\u001b[0m objectness, pred_bbox_deltas \u001b[39m=\u001b[39m concat_box_prediction_layers(objectness, pred_bbox_deltas)\n\u001b[0;32m    367\u001b[0m \u001b[39m# apply pred_bbox_deltas to anchors to obtain the decoded proposals\u001b[39;00m\n\u001b[0;32m    368\u001b[0m \u001b[39m# note that we detach the deltas because Faster R-CNN do not backprop through\u001b[39;00m\n\u001b[0;32m    369\u001b[0m \u001b[39m# the proposals\u001b[39;00m\n\u001b[1;32m--> 370\u001b[0m proposals \u001b[39m=\u001b[39m \u001b[39mself\u001b[39;49m\u001b[39m.\u001b[39;49mbox_coder\u001b[39m.\u001b[39;49mdecode(pred_bbox_deltas\u001b[39m.\u001b[39;49mdetach(), anchors)\n\u001b[0;32m    371\u001b[0m proposals \u001b[39m=\u001b[39m proposals\u001b[39m.\u001b[39mview(num_images, \u001b[39m-\u001b[39m\u001b[39m1\u001b[39m, \u001b[39m4\u001b[39m)\n\u001b[0;32m    372\u001b[0m boxes, scores \u001b[39m=\u001b[39m \u001b[39mself\u001b[39m\u001b[39m.\u001b[39mfilter_proposals(proposals, objectness, images\u001b[39m.\u001b[39mimage_sizes, num_anchors_per_level)\n",
      "File \u001b[1;32mc:\\Users\\stern\\ytorch_env\\lib\\site-packages\\torchvision\\models\\detection\\_utils.py:178\u001b[0m, in \u001b[0;36mBoxCoder.decode\u001b[1;34m(self, rel_codes, boxes)\u001b[0m\n\u001b[0;32m    176\u001b[0m \u001b[39mif\u001b[39;00m box_sum \u001b[39m>\u001b[39m \u001b[39m0\u001b[39m:\n\u001b[0;32m    177\u001b[0m     rel_codes \u001b[39m=\u001b[39m rel_codes\u001b[39m.\u001b[39mreshape(box_sum, \u001b[39m-\u001b[39m\u001b[39m1\u001b[39m)\n\u001b[1;32m--> 178\u001b[0m pred_boxes \u001b[39m=\u001b[39m \u001b[39mself\u001b[39;49m\u001b[39m.\u001b[39;49mdecode_single(rel_codes, concat_boxes)\n\u001b[0;32m    179\u001b[0m \u001b[39mif\u001b[39;00m box_sum \u001b[39m>\u001b[39m \u001b[39m0\u001b[39m:\n\u001b[0;32m    180\u001b[0m     pred_boxes \u001b[39m=\u001b[39m pred_boxes\u001b[39m.\u001b[39mreshape(box_sum, \u001b[39m-\u001b[39m\u001b[39m1\u001b[39m, \u001b[39m4\u001b[39m)\n",
      "File \u001b[1;32mc:\\Users\\stern\\ytorch_env\\lib\\site-packages\\torchvision\\models\\detection\\_utils.py:216\u001b[0m, in \u001b[0;36mBoxCoder.decode_single\u001b[1;34m(self, rel_codes, boxes)\u001b[0m\n\u001b[0;32m    213\u001b[0m pred_h \u001b[39m=\u001b[39m torch\u001b[39m.\u001b[39mexp(dh) \u001b[39m*\u001b[39m heights[:, \u001b[39mNone\u001b[39;00m]\n\u001b[0;32m    215\u001b[0m \u001b[39m# Distance from center to box's corner.\u001b[39;00m\n\u001b[1;32m--> 216\u001b[0m c_to_c_h \u001b[39m=\u001b[39m torch\u001b[39m.\u001b[39;49mtensor(\u001b[39m0.5\u001b[39;49m, dtype\u001b[39m=\u001b[39;49mpred_ctr_y\u001b[39m.\u001b[39;49mdtype, device\u001b[39m=\u001b[39;49mpred_h\u001b[39m.\u001b[39;49mdevice) \u001b[39m*\u001b[39m pred_h\n\u001b[0;32m    217\u001b[0m c_to_c_w \u001b[39m=\u001b[39m torch\u001b[39m.\u001b[39mtensor(\u001b[39m0.5\u001b[39m, dtype\u001b[39m=\u001b[39mpred_ctr_x\u001b[39m.\u001b[39mdtype, device\u001b[39m=\u001b[39mpred_w\u001b[39m.\u001b[39mdevice) \u001b[39m*\u001b[39m pred_w\n\u001b[0;32m    219\u001b[0m pred_boxes1 \u001b[39m=\u001b[39m pred_ctr_x \u001b[39m-\u001b[39m c_to_c_w\n",
      "\u001b[1;31mKeyboardInterrupt\u001b[0m: "
     ]
    }
   ],
   "source": [
    "validation_path = r\"S:\\MADS\\Capstone\\3d-object-detection-for-autonomous-vehicles\\Train\\img_bx_lookup\"\n",
    "validation_filename = r\"validation_merged.json\"\n",
    "validation_input_path = os.path.join(validation_path, validation_filename)\n",
    "with open(validation_input_path, \"r\") as file:\n",
    "    validation_dict = json.load(file)\n",
    "\n",
    "# Before starting your training loop\n",
    "torch.cuda.empty_cache()  # Clear cache if any\n",
    "\n",
    "# Training loop\n",
    "num_epochs = 5\n",
    "iou_threshold = 0.5  # Example threshold\n",
    "optimizer = torch.optim.Adam(model_fastercnn.parameters(), lr=0.001)  # Example optimizer\n",
    "\n",
    "for epoch in range(num_epochs):\n",
    "    epoch_start_time = time.time()  # Start time for the epoch\n",
    "    model_fastercnn.train()  # Set model to training mode\n",
    "    running_loss = 0.0\n",
    "    total_true_positives = 0\n",
    "    total_false_positives = 0\n",
    "    total_false_negatives = 0\n",
    "    batch_i = 0\n",
    "\n",
    "    for images, targets in dataloader_training_detection:\n",
    "        batch_start_time = time.time()\n",
    "        print(\"On batch: \", batch_i)\n",
    "        batch_i += 1\n",
    "        \n",
    "        images = images.to(device)\n",
    "        targets_on_device = []\n",
    "        for target in targets:\n",
    "            target_on_device = {key: value.to(device) if isinstance(value, torch.Tensor) else value for key, value in target.items()}\n",
    "            targets_on_device.append(target_on_device)\n",
    "\n",
    "\n",
    "        # Forward pass\n",
    "        optimizer.zero_grad()  # Clear existing gradients\n",
    "        loss_dict = model_fastercnn(images, targets_on_device)  # Forward pass\n",
    "        losses = sum(loss for loss in loss_dict.values())  # Sum up all losses\n",
    "\n",
    "        # Backward pass and optimize\n",
    "        losses.backward()  # Compute gradients\n",
    "        optimizer.step()  # Update model parameters\n",
    "        running_loss += losses.item()\n",
    "        batch_duration = time.time() - batch_start_time  # Calculate duration for the batch\n",
    "        print(f'Batch Duration: {batch_duration:.2f} seconds')\n",
    "\n",
    "    # Evaluation mode for inference\n",
    "    model_fastercnn.eval()\n",
    "    inference_batch_i = 0\n",
    "    with torch.no_grad():\n",
    "        for images, targets in dataloader_validation_detection:\n",
    "            inference_batch_start_time = time.time()\n",
    "            print(\"On inference batch: \", inference_batch_i)\n",
    "            inference_batch_i += 1\n",
    "            \n",
    "            images = images.to(device)\n",
    "            predictions = model_fastercnn(images)\n",
    "            filenames = dataloader_validation_detection.dataset.file_names\n",
    "            try:\n",
    "                # Update the dictionary with predictions\n",
    "                for filename, target, prediction in zip(filenames, targets, predictions):\n",
    "                    predicted_boxes = prediction['boxes'].cpu().numpy().tolist()\n",
    "                    predicted_labels = prediction['labels'].cpu().numpy().tolist()\n",
    "                    print(\"predicted boxex: \", predicted_boxes)\n",
    "                    print(\"predicted labels: \", predicted_labels)\n",
    "\n",
    "                    if \"predicted_boxes\" in validation_dict.keys():\n",
    "                        validation_dict[filename]['predicted_boxes'].extend(predicted_boxes)\n",
    "                    else:\n",
    "                        validation_dict[filename]['predicted_boxes'] = predicted_boxes\n",
    "                    if \"predicted_labels\" in validation_dict.keys():\n",
    "                        validation_dict[filename]['predicted_labels'].extend(predicted_labels)\n",
    "                    else:\n",
    "                        validation_dict[filename]['predicted_labels'] = predicted_labels\n",
    "            except Exception as e:\n",
    "                print(f\"An error occurred: {e}\")\n",
    "\n",
    "                \n",
    "            for target, prediction in zip(targets, predictions):\n",
    "                ground_truth_boxes = target[\"boxes\"]\n",
    "                predicted_boxes = prediction[\"boxes\"]\n",
    "\n",
    "                if len(predicted_boxes) > 0:\n",
    "                    iou = calculate_iou(predicted_boxes[0], ground_truth_boxes[0])\n",
    "\n",
    "                    if iou >= iou_threshold:\n",
    "                        total_true_positives += 1\n",
    "                    else:\n",
    "                        total_false_positives += 1\n",
    "                else:\n",
    "                    total_false_negatives += 1\n",
    "            \n",
    "            inference_batch_duration = time.time() - inference_batch_start_time  # Calculate duration for the batch\n",
    "            print(f'Inference Batch Duration: {inference_batch_duration:.2f} seconds')\n",
    "\n",
    "    # Calculate metrics after each epoch\n",
    "    precision = total_true_positives / (total_true_positives + total_false_positives) if (total_true_positives + total_false_positives) > 0 else 0\n",
    "    recall = total_true_positives / (total_true_positives + total_false_negatives) if (total_true_positives + total_false_negatives) > 0 else 0\n",
    "    f1_score = 2 * (precision * recall) / (precision + recall) if (precision + recall) > 0 else 0\n",
    "\n",
    "    model_fastercnn.train()  # Set back to training mode\n",
    "\n",
    "    epoch_loss = running_loss / len(dataloader_training_detection.dataset)\n",
    "    epoch_duration = time.time() - epoch_start_time  # Calculate duration for the epoch\n",
    "    print(f\"Epoch [{epoch+1}/{num_epochs}], Loss: {epoch_loss:.4f}, Precision: {precision:.4f}, Recall: {recall:.4f}, F1: {f1_score:.4f}, Duration: {epoch_duration:.2f} seconds\")\n",
    "\n",
    "    #Save after each epoch.\n",
    "    model_fastercnn_dict = model_fastercnn.state_dict()\n",
    "    torch.save(model_fastercnn_dict, r\"S:\\MADS\\Capstone\\3d-object-detection-for-autonomous-vehicles\\Train\\models\\model_fastercnn_12_2_23_00_00\")\n",
    "\n",
    "    #Output our resulting validation data dict with the predictions appended to it. Recall that this is the initial data dict that is read in in our dataset_training_detection.\n",
    "    predictions_filename = r\"validation_merged_w_predictions.json\"\n",
    "    predictions_output_path = os.path.join(validation_path, predictions_filename)\n",
    "    with open(predictions_output_path, \"w\") as outfile:\n",
    "        json.dump(validation_dict, outfile)"
   ]
  },
  {
   "cell_type": "code",
   "execution_count": 7,
   "metadata": {},
   "outputs": [],
   "source": [
    "model_fastercnn_dict = model_fastercnn.state_dict()\n",
    "torch.save(model_fastercnn_dict, r\"S:\\MADS\\Capstone\\3d-object-detection-for-autonomous-vehicles\\Train\\models\\model_fastercnn_12_1_23_00_00\")"
   ]
  },
  {
   "cell_type": "code",
   "execution_count": null,
   "metadata": {},
   "outputs": [],
   "source": []
  }
 ],
 "metadata": {
  "kernelspec": {
   "display_name": "ytorch_env",
   "language": "python",
   "name": "python3"
  },
  "language_info": {
   "codemirror_mode": {
    "name": "ipython",
    "version": 3
   },
   "file_extension": ".py",
   "mimetype": "text/x-python",
   "name": "python",
   "nbconvert_exporter": "python",
   "pygments_lexer": "ipython3",
   "version": "3.9.18"
  }
 },
 "nbformat": 4,
 "nbformat_minor": 2
}
