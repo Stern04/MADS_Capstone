{
 "cells": [
  {
   "cell_type": "markdown",
   "metadata": {},
   "source": [
    "# In this Notebook, we assume either lyft_preprocessing.ipynb has been run to produced the processed images or you have directly downloaded the processed images. The whole notebook outline is provided below. I decided to leave all function defenitions defined in this Notebook rather than keeping them in a utils.py file and importing them. I may change this in the future, but I wanted to make access as easy and transparent as possible at the expense of increasing the Notebook length.\n",
    "# The main steps this Notebook walks you through are: \n",
    "* Importing a plug and play Pytorch Resnet50 model for binary Image Classification where the positive category is Pedestrian\n",
    "* Training a model on CPU or GPU if available\n",
    "* Load the various trained models and apply them to a Validation set to experiment with model Inference\n",
    "* Analyze results\n",
    "* Get a start on Object Detection"
   ]
  },
  {
   "cell_type": "markdown",
   "metadata": {},
   "source": [
    "- Imports and inital data read.\n",
    "- With our Data Processing finished, we now shift to create and train our models.\n",
    "- Define our custom Dataset classes for image classification and object detection.\n",
    "- Read in our data with an instance of our Lyft_image_classification_CustomDataset class.\n",
    "    - Each Dataset instance will instantiated with the model it will be given to in mind. For example, our ResNet model is designed for image classification where the full object is centered in the image.\n",
    "      - Remind ourselves what dataloader actually is. It is a grouping of binary labels indicating target category and the corresponding images as tensors.\n",
    "      - Print out the first 5 batches and observe the amount of positive and negative labels. With 9 categories, it is not surprising that the positive labels are outnumbered. Still, our basic Resnet50 model below does well.\n",
    "- Image Classificaiton\n",
    "  - Import a ResNet50 model and train it on our images with the category object centered.\n",
    "    - First, check if GPU is available and move the model to GPU if it is\n",
    "  - Train\n",
    "  - Train Results\n",
    "    - Load all of the trained models back in and stich their results together into a summary df.\n",
    "      - WARNING: The cell below will overwrite \"all_model_results.csv\" if you have alreayd created it.\n",
    "- Validation/Inference\n",
    "  - Visualize the performance metrics either for training or validation\n",
    "    - F1 Score heatmap\n",
    "    - Visualize the output of the first layer which is a convolution layer with kernel 7x7. This is just to remind us what we are dealing with.\n",
    "    - Validation/Inference Results\n",
    "- Object Detection\n",
    "    - Heatmap. Note: We use both training and validation data to aggregate a heat map. The heat map itelf isn't involved as a parameter in the model. This is simply just using a greater sample size to determine the places within the full sized images that are most and least likely for pedestrians to occur. This way, we can decrease the image space that our model will scan for each image.\n",
    "  - Import FasterRCNN model.\n",
    "  - Create our Dataset and Dataloader objects for object detection\n",
    "  - Train"
   ]
  },
  {
   "cell_type": "markdown",
   "metadata": {},
   "source": [
    "# Imports and inital data read."
   ]
  },
  {
   "cell_type": "code",
   "execution_count": 6,
   "metadata": {},
   "outputs": [],
   "source": [
    "import ast\n",
    "from collections import Counter\n",
    "import json\n",
    "import os\n",
    "from pathlib import Path\n",
    "import pandas as pd\n",
    "from PIL import Image\n",
    "import numpy as np\n",
    "import random\n",
    "import re\n",
    "import time\n",
    "\n",
    "#Data visualization libraries\n",
    "import plotly.express as px\n",
    "import matplotlib.pyplot as plt\n",
    "\n",
    "#Pytorch\n",
    "import torch\n",
    "from torch import nn\n",
    "from torch.optim import Adam\n",
    "from torch.utils.data import DataLoader\n",
    "from torch.utils.data import Dataset\n",
    "from torch.utils.data.dataloader import default_collate\n",
    "from torchvision import models\n",
    "from torchvision.models.resnet import ResNet50_Weights\n",
    "from torchvision.models.detection import fasterrcnn_resnet50_fpn\n",
    "from torchvision.models.detection.faster_rcnn import FastRCNNPredictor, FasterRCNN_ResNet50_FPN_Weights\n",
    "import torchvision.transforms as transforms\n",
    "\n",
    "# Load the SDK\n",
    "from lyft_dataset_sdk.lyftdataset import LyftDataset"
   ]
  },
  {
   "cell_type": "code",
   "execution_count": 7,
   "metadata": {},
   "outputs": [],
   "source": [
    "# Set the option to display all rows\n",
    "pd.set_option('display.max_rows', None)"
   ]
  },
  {
   "cell_type": "markdown",
   "metadata": {},
   "source": [
    "# Set user_path_prefix variable. This variable must be set in order to make all filepaths relative!"
   ]
  },
  {
   "cell_type": "code",
   "execution_count": 8,
   "metadata": {},
   "outputs": [],
   "source": [
    "user_path_prefix = r\"S:\\MADS\\Capstone\""
   ]
  },
  {
   "cell_type": "markdown",
   "metadata": {},
   "source": [
    "# With our Data Processing finished, we now shift to create and train our models."
   ]
  },
  {
   "cell_type": "code",
   "execution_count": 9,
   "metadata": {},
   "outputs": [
    {
     "name": "stdout",
     "output_type": "stream",
     "text": [
      "9 category,\n",
      "18 attribute,\n",
      "4 visibility,\n",
      "18421 instance,\n",
      "10 sensor,\n",
      "148 calibrated_sensor,\n",
      "177789 ego_pose,\n",
      "180 log,\n",
      "180 scene,\n",
      "22680 sample,\n",
      "189504 sample_data,\n",
      "638179 sample_annotation,\n",
      "1 map,\n",
      "Done loading in 9.7 seconds.\n",
      "======\n",
      "Reverse indexing ...\n",
      "Done reverse indexing in 2.6 seconds.\n",
      "======\n"
     ]
    }
   ],
   "source": [
    "data_path = os.path.join(user_path_prefix, r\"3d-object-detection-for-autonomous-vehicles\\Train\")\n",
    "json_path = os.path.join(user_path_prefix, \"3d-object-detection-for-autonomous-vehicles\\Train\\data\")\n",
    "lyftdata = LyftDataset(data_path=data_path, json_path=json_path, verbose=True)"
   ]
  },
  {
   "cell_type": "markdown",
   "metadata": {},
   "source": [
    "# Define our custom Dataset classes for image classification and object detection."
   ]
  },
  {
   "cell_type": "code",
   "execution_count": 10,
   "metadata": {},
   "outputs": [],
   "source": [
    "class Lyft_image_classification_CustomDataset(Dataset):\n",
    "    \"\"\"\n",
    "    A custom dataset class for image classification, specifically designed to handle\n",
    "    cropped images for a binary classification task.\n",
    "\n",
    "    This class is a subclass of `torch.utils.data.Dataset` and is meant to be used\n",
    "    with PyTorch's DataLoader to facilitate batch processing and data shuffling.\n",
    "\n",
    "    Parameters:\n",
    "    -----------\n",
    "    cropped_images_dir (str): The directory path where cropped images are stored.\n",
    "    target_category_name (str): The name of the target category for classification.\n",
    "    required_size (int, optional): The size to which images should be sized. Default is 224.\n",
    "\n",
    "    Notes:\n",
    "    ------\n",
    "    The dataset assumes that images are stored in subdirectories within `cropped_images_dir`,\n",
    "    where each subdirectory name begins with the category name of the images it contains.\n",
    "    The class uses this naming convention to assign labels to images.\n",
    "    \"\"\"\n",
    "    \n",
    "    def __init__(self, cropped_images_dir, target_category_name, required_size=224):\n",
    "        self.cropped_images_dir = cropped_images_dir\n",
    "        self.required_size = required_size\n",
    "        self.image_filenames = os.listdir(cropped_images_dir)\n",
    "        self.data = []\n",
    "        for category_folder in os.listdir(cropped_images_dir):\n",
    "            category_dir = os.path.join(cropped_images_dir, category_folder)\n",
    "            if os.path.isdir(category_dir):  # Check if it's a directory\n",
    "                category_name = category_folder.split(\"_\")[0]\n",
    "                is_target_category = category_name == target_category_name\n",
    "                label = 1 if is_target_category else 0\n",
    "\n",
    "                for filename in os.listdir(category_dir):\n",
    "                    file_path = os.path.join(category_dir, filename)\n",
    "                    if os.path.isfile(file_path):  # Check if it's a file\n",
    "                        self.data.append((file_path, label))\n",
    "\n",
    "    def __len__(self):\n",
    "        return len(self.data)\n",
    "\n",
    "    def __getitem__(self, idx):\n",
    "        img_path, label = self.data[idx]\n",
    "        image = Image.open(img_path).convert(\"RGB\")\n",
    "        image_name = re.search(r'([^\\\\]+)(?=\\.\\w+$)', img_path).group(1)\n",
    "\n",
    "        # Convert the image to tensor and normalize\n",
    "        image = transforms.ToTensor()(image)\n",
    "        image = transforms.Normalize(mean=[0.485, 0.456, 0.406], std=[0.229, 0.224, 0.225])(image)\n",
    "\n",
    "        return image, label, image_name"
   ]
  },
  {
   "cell_type": "code",
   "execution_count": 11,
   "metadata": {},
   "outputs": [],
   "source": [
    "# Define a function for default transformations. It is convention to not define transforms within the Dataset class.\n",
    "def default_transform():\n",
    "    return transforms.Compose([\n",
    "        transforms.ToTensor(),\n",
    "        transforms.Normalize(mean=[0.485, 0.456, 0.406], std=[0.229, 0.224, 0.225])\n",
    "    ])\n",
    "\n",
    "class Lyft_binary_object_detection_CustomDataset(Dataset):\n",
    "    \"\"\"\n",
    "    A custom dataset class for binary object detection tasks.\n",
    "\n",
    "    This class works with PyTorch's DataLoader to efficiently handle data during model training. It is tailored for a data format where each image is associated with bounding box coordinates and binary labels, \n",
    "    along with placeholders for predicted data.\n",
    "\n",
    "    Parameters:\n",
    "    -----------\n",
    "    image_box_lookup (dict): A dictionary containing image file paths and corresponding bounding box, label, and placeholder data for predictions. Labels should be binary (1 or 0).\n",
    "    images_base_path (str): Base directory path where image files are stored.\n",
    "    transform (callable, optional): A transform to be applied on each image. If None, default_transform is used.\n",
    "    random_sample (float, optional): A fraction (between 0 and 1) of the dataset to randomly sample. If None, the entire dataset is used.\n",
    "    positive_imgs_only (bool, optional): If True, only includes images with at least one instance of the positive class (label==1).\n",
    "\n",
    "    Notes:\n",
    "    ------\n",
    "    - The transform function is expected to handle the conversion of images to tensors and their normalization.\n",
    "    - 'image_box_lookup' format: Keys are image filenames and values are dictionaries with 'boxes' (list of coordinates), \n",
    "      'labels' (list of int, 0 or 1), and placeholders for 'predicted_boxes' and 'predicted_labels' (initially empty lists).\n",
    "    - If 'positive_imgs_only' is True, the dataset is filtered to include only images with at least one positive instance. This can reduce total training time.\n",
    "    - If 'random_sample' is provided, the dataset is subsampled to the specified fraction. This can reduce total training time, and is good for experimentation.\n",
    "    - This class assumes binary classification within object detection, with labels 0 or 1.\n",
    "\n",
    "    Example of 'image_box_lookup' structure:\n",
    "    {\n",
    "        \"image1.jpg\": {\n",
    "            \"boxes\": [[x1, y1, x2, y2], ...], \n",
    "            \"labels\": [1, 0, ...],\n",
    "            \"predicted_boxes\": [],\n",
    "            \"predicted_labels\": []\n",
    "        },\n",
    "        \"image2.jpg\": {\n",
    "            \"boxes\": [[x1, y1, x2, y2], ...], \n",
    "            \"labels\": [0, 1, ...],\n",
    "            \"predicted_boxes\": [],\n",
    "            \"predicted_labels\": []\n",
    "        },\n",
    "        ...\n",
    "    }\n",
    "    \"\"\"\n",
    "\n",
    "    def __init__(self, image_box_lookup, images_base_path, transform=None, random_sample = None, positive_imgs_only = False):\n",
    "        self.images_base_path = images_base_path\n",
    "        self.transform = transform if transform else default_transform()\n",
    "        self.image_box_lookup = image_box_lookup\n",
    "        if positive_imgs_only:\n",
    "            positive_images = []\n",
    "            for k, v in self.image_box_lookup.items():\n",
    "                labels = v[\"labels\"]\n",
    "                if any(labels):\n",
    "                    positive_images.append(k)\n",
    "            self.image_box_lookup = {k: self.image_box_lookup[k] for k in positive_images}\n",
    "\n",
    "        if random_sample:\n",
    "            # Ensure random_sample is a valid fraction\n",
    "            if not (0 < random_sample <= 1):\n",
    "                raise ValueError(\"random_sample must be a decimal between 0 and 1.\")\n",
    "\n",
    "            # Randomly sample the specified fraction of data\n",
    "            total_items = len(self.image_box_lookup)\n",
    "            sample_size = int(total_items * random_sample)\n",
    "            sampled_items = random.sample(list(self.image_box_lookup.items()), sample_size)\n",
    "            self.image_box_lookup = dict(sampled_items)\n",
    "\n",
    "        self.file_names = self.image_box_lookup.keys()\n",
    "\n",
    "\n",
    "\n",
    "    def __len__(self):\n",
    "        return len(self.image_box_lookup)\n",
    "\n",
    "    def __getitem__(self, idx):\n",
    "        image_name = list(self.image_box_lookup.keys())[idx]\n",
    "        image_path = os.path.join(self.images_base_path, image_name)\n",
    "        image = Image.open(image_path).convert(\"RGB\")  # Convert image to RGB just in case.\n",
    "        # Convert the image to tensor and normalize (if transform is given)\n",
    "        image = self.transform(image)\n",
    "\n",
    "\n",
    "        # Retrieve boxes and labels for the image\n",
    "        boxes = torch.as_tensor(self.image_box_lookup[image_name]['boxes'], dtype=torch.float32)\n",
    "        labels = torch.as_tensor(self.image_box_lookup[image_name]['labels'], dtype=torch.int64)\n",
    "\n",
    "        # Ensure labels tensor is always 1D\n",
    "        if len(labels.shape) == 0:\n",
    "            labels = labels.unsqueeze(0)\n",
    "\n",
    "\n",
    "        # Create a dictionary for the targets\n",
    "        target = {}\n",
    "        target[\"boxes\"] = boxes\n",
    "        target[\"labels\"] = labels\n",
    "\n",
    "        return image, target\n"
   ]
  },
  {
   "cell_type": "markdown",
   "metadata": {},
   "source": [
    "# Read in our data with an instance of our Lyft_image_classification_CustomDataset class."
   ]
  },
  {
   "cell_type": "markdown",
   "metadata": {},
   "source": [
    "### Each Dataset instance will be instantiated with the model it will be given to in mind. For example, our ResNet50 model is designed for image classification where the full object is centered in the image.This is why we load in the cropped images and not the full images."
   ]
  },
  {
   "cell_type": "code",
   "execution_count": 12,
   "metadata": {},
   "outputs": [
    {
     "name": "stdout",
     "output_type": "stream",
     "text": [
      "total number of batches to anticipate:  756.53125\n"
     ]
    }
   ],
   "source": [
    "cropped_images_dir = os.path.join(user_path_prefix, r\"3d-object-detection-for-autonomous-vehicles\\Train\\images\\Image_Classification\\train_cropped_images\\224\")\n",
    "dataset = Lyft_image_classification_CustomDataset(cropped_images_dir, target_category_name = \"pedestrian\", required_size=224)\n",
    "batch_size = 32\n",
    "dataloader = DataLoader(dataset, batch_size=batch_size, shuffle=True)\n",
    "print(\"total number of batches to anticipate: \", len(dataset)/batch_size)"
   ]
  },
  {
   "cell_type": "markdown",
   "metadata": {},
   "source": [
    "#### Remind ourselves what dataloader actually is. It is a grouping of binary labels indicating target category and the corresponding images as tensors."
   ]
  },
  {
   "cell_type": "code",
   "execution_count": 9,
   "metadata": {},
   "outputs": [],
   "source": [
    "# for data in dataloader:\n",
    "#     data_batch_tensor = data[0]\n",
    "#     data_batch_label = data[1]\n",
    "#     break\n",
    "\n",
    "# print(len(data_batch_tensor), len(data_batch_label))\n",
    "# print(data_batch_label[0])\n",
    "# print(data_batch_tensor[0])"
   ]
  },
  {
   "cell_type": "markdown",
   "metadata": {},
   "source": [
    "#### Print out the first 5 batches and observe the amount of positive and negative labels. With 9 categories, it is not surprising that the positive labels are outnumbered. Still, our basic Resnet50 model does well."
   ]
  },
  {
   "cell_type": "code",
   "execution_count": 13,
   "metadata": {},
   "outputs": [
    {
     "data": {
      "image/png": "[encoded data removed]",
      "text/plain": [
       "<Figure size 640x480 with 1 Axes>"
      ]
     },
     "metadata": {},
     "output_type": "display_data"
    }
   ],
   "source": [
    "sample_labels = []\n",
    "for i, data in enumerate(dataloader):\n",
    "    # print(f\"Batch {i}: Labels - {data[1]}\")\n",
    "    sample_labels.append(data[1])\n",
    "    if i == 5:  # Check first 5 batches\n",
    "        break\n",
    "\n",
    "positives = [torch.sum(tensor == 1).item() for tensor in sample_labels]\n",
    "negatives = [torch.sum(tensor == 0).item() for tensor in sample_labels]\n",
    "\n",
    "n_tensors = len(sample_labels)\n",
    "index = np.arange(n_tensors)\n",
    "bar_width = 0.35\n",
    "\n",
    "fig, ax = plt.subplots()\n",
    "bar1 = ax.bar(index, negatives, bar_width, label='0 (Negative)')\n",
    "bar2 = ax.bar(index + bar_width, positives, bar_width, label='1 (Positive)')\n",
    "\n",
    "ax.set_xlabel('Tensor Index')\n",
    "ax.set_ylabel('Frequency')\n",
    "ax.set_title('Frequency of Positive and Negative Labels per Tensor')\n",
    "ax.set_xticks(index + bar_width / 2)\n",
    "ax.set_xticklabels([f'Tensor {i+1}' for i in range(n_tensors)])\n",
    "ax.legend()\n",
    "\n",
    "plt.show()"
   ]
  },
  {
   "cell_type": "markdown",
   "metadata": {},
   "source": [
    "# Image Classificaiton "
   ]
  },
  {
   "cell_type": "markdown",
   "metadata": {},
   "source": [
    "## Import a ResNet50 model and train it on our images with the category object centered."
   ]
  },
  {
   "cell_type": "markdown",
   "metadata": {},
   "source": [
    "### First, check if GPU is available and move the model to GPU if it is"
   ]
  },
  {
   "cell_type": "code",
   "execution_count": 14,
   "metadata": {},
   "outputs": [
    {
     "name": "stdout",
     "output_type": "stream",
     "text": [
      "2048\n",
      "cuda:0\n"
     ]
    }
   ],
   "source": [
    "model_res50 = models.resnet50(weights=ResNet50_Weights.IMAGENET1K_V1)\n",
    "num_ftrs = model_res50.fc.in_features\n",
    "print(num_ftrs)\n",
    "model_res50.fc = nn.Linear(num_ftrs, 2) # Modify the last layer for binary classification\n",
    "\n",
    "device = torch.device(\"cuda:0\" if torch.cuda.is_available() else \"cpu\")\n",
    "print(device)\n",
    "model_res50 = model_res50.to(device)"
   ]
  },
  {
   "cell_type": "markdown",
   "metadata": {},
   "source": [
    "## Train"
   ]
  },
  {
   "cell_type": "code",
   "execution_count": 53,
   "metadata": {},
   "outputs": [],
   "source": [
    "def train_resnet50_classification(model_instance, num_epochs, batch_size, input_images_path, out_results_path, required_imgage_size=224, target_category_name=\"pedestrian\",\n",
    "                                  criterion=nn.CrossEntropyLoss(), learning_rate = 0.001, save_per_epoch=False):\n",
    "    \"\"\"\n",
    "    Trains a ResNet50 model for image classification tasks with specified parameters.\n",
    "\n",
    "    This function handles the training process including data loading, batch processing, loss computation, and optimization. It supports saving the model state and key metrics at the end of each epoch or after all epochs.\n",
    "\n",
    "    Parameters:\n",
    "    -----------\n",
    "    model_instance: The ResNet50 model instance to be trained.\n",
    "    num_epochs (int): The number of epochs to train the model.\n",
    "    batch_size (int): The batch size used for training.\n",
    "    input_images_path (str): Path to the directory containing training images.\n",
    "    out_results_path (str): Path where the trained model and metrics will be saved.\n",
    "    required_imgage_size (int, optional): Size that input images are expected to be in. Default is 224.\n",
    "    target_category_name (str, optional): The target category for classification. Default is \"pedestrian\".\n",
    "    criterion: Loss function used for training. Default is `nn.CrossEntropyLoss()`.\n",
    "    learning_rate (float, optional): Learning rate for the optimizer. Default is 0.001.\n",
    "    save_per_epoch (bool, optional): If True, saves the model and metrics after each epoch. Otherwise, saves once after all epochs. Default is False.\n",
    "\n",
    "    Notes:\n",
    "    ------\n",
    "    - The optimizer used is Adam, and currently, there is no flexibility for choosing a different optimizer. This may be updated in future releases.\n",
    "    - The function computes and prints loss, accuracy, precision, recall, and F1 score for each epoch if save_per_epoch == True. If it is False, it only computes values for final epoch.\n",
    "    - The model and metrics are saved as a checkpoint in '.pth' format, which uses Python's pickle module for serialization.\n",
    "    - It is assumed that the input images are organized in a way that is compatible with the `Lyft_image_classification_CustomDataset` class.\n",
    "    \"\"\"\n",
    "\n",
    "    optimizer = Adam(model_instance.parameters(), lr=learning_rate)\n",
    "\n",
    "    for epoch in range(num_epochs):\n",
    "        #Set training mode at beginning of each epoch in case we train on validation data within epoch with requires model.eval()\n",
    "        model_instance.train()\n",
    "\n",
    "        #Creat instances of our custom Dataset and subsequent default Dataloader\n",
    "        dataset = Lyft_image_classification_CustomDataset(input_images_path, target_category_name, required_imgage_size)\n",
    "        batch_size = batch_size\n",
    "        dataloader = DataLoader(dataset, batch_size=batch_size, shuffle=True)\n",
    "        print(f\"total number of batches to anticipate for epoch {epoch}: \", len(dataset)/batch_size)\n",
    "\n",
    "        running_loss = 0.0\n",
    "        running_corrects = 0\n",
    "        running_true_positives = 0\n",
    "        running_false_positives = 0\n",
    "        running_false_negatives = 0\n",
    "\n",
    "        # Iterate over data by batch\n",
    "        # We only need inputs and labels for training. The third placeholder is for filepaths to go back and address the images that created incorrect predictions during validation/inference. We dont need it in training.\n",
    "        for inputs, labels, _ in dataloader:\n",
    "            #Make sure input data and labels are on the GPU device.\n",
    "            inputs = inputs.to(device)\n",
    "            labels = labels.to(device)\n",
    "\n",
    "            # Zero the parameter gradients\n",
    "            optimizer.zero_grad()\n",
    "\n",
    "            # Forward pass\n",
    "            outputs = model_res50(inputs)\n",
    "            loss = criterion(outputs, labels)\n",
    "\n",
    "            # Backward pass and optimize\n",
    "            loss.backward()\n",
    "            optimizer.step()\n",
    "\n",
    "            # Statistics\n",
    "            # Assuming that loss.item() is the average loss of the predictions in the batch. Multiply by batch size to get the total loss (mean(loss)*batch_size).\n",
    "            running_loss += loss.item() * inputs.size(0)\n",
    "            _, preds = torch.max(outputs, 1)\n",
    "            running_corrects += torch.sum(preds == labels.data)\n",
    "            # Calculate True Positives, False Positives, False Negatives\n",
    "            for i in range(len(labels)):\n",
    "                if preds[i] == labels[i] == 1:  # True Positive\n",
    "                    running_true_positives += 1\n",
    "                elif preds[i] == 1 and labels[i] == 0:  # False Positive\n",
    "                    running_false_positives += 1\n",
    "                elif preds[i] == 0 and labels[i] == 1:  # False Negative\n",
    "                    running_false_negatives += 1\n",
    "\n",
    "        epoch_loss = running_loss / len(dataset)\n",
    "        epoch_acc = running_corrects.double() / len(dataset)\n",
    "        # Calculate Precision, Recall, and F1 Score after the loop\n",
    "        precision = running_true_positives / (running_true_positives + running_false_positives) if (running_true_positives + running_false_positives) > 0 else 0\n",
    "        recall = running_true_positives / (running_true_positives + running_false_negatives) if (running_true_positives + running_false_negatives) > 0 else 0\n",
    "        f1_score = 2 * (precision * recall) / (precision + recall) if (precision + recall) > 0 else 0\n",
    "\n",
    "        print(f'Epoch {epoch}/{num_epochs - 1} Loss: {epoch_loss:.4f} Precision: {precision:.4f} Recall: {recall:.4f} F1 Score: {f1_score:.4f} Acc: {epoch_acc:.4f}')\n",
    "\n",
    "        if save_per_epoch:\n",
    "            # We save out the model within each epoch. This is to retain completed work if the training loop fails at some point during execution.\n",
    "            # Note: We refer to our metrics as \"final\" in case we don't finish all epochs, but they can be interpreted as \"running\" until the last epoch is complete.\n",
    "            # Save the model state and metrics in a dictionary\n",
    "            checkpoint = {\n",
    "                'model_state_dict': model_instance.state_dict(),\n",
    "                'final_loss': epoch_loss,\n",
    "                'final_accuracy': epoch_acc,\n",
    "                'final_precision': precision,\n",
    "                'final_recall': recall,\n",
    "                'final_F1': f1_score\n",
    "            }\n",
    "\n",
    "            # Save the checkpoint\n",
    "            # It is Pytorch convention to save checkpoints of model states as '.pth' which is short of 'Pytorch'. This uses Python pickle module to serialize the data.\n",
    "            model_checkpoint_name = f'model_res50_epoch_{epoch}_batchsize_{batch_size}_lr_{learning_rate}.pth'\n",
    "            model_outpath = os.path.join(out_results_path, model_checkpoint_name)\n",
    "            torch.save(checkpoint, model_outpath)\n",
    "    \n",
    "    if not save_per_epoch :\n",
    "        # All epochs have been completed. Save the model state and metrics in a dictionary\n",
    "        checkpoint = {\n",
    "            'model_state_dict': model_instance.state_dict(),\n",
    "            'final_loss': epoch_loss,\n",
    "            'final_accuracy': epoch_acc,\n",
    "            'final_precision': precision,\n",
    "            'final_recall': recall,\n",
    "            'final_F1': f1_score\n",
    "        }\n",
    "\n",
    "        # Save the checkpoint\n",
    "        # It is Pytorch convention to save checkpoints of model states as '.pth' which is short of 'Pytorch'. This uses Python pickle module to serialize the data.\n",
    "        model_checkpoint_name = f'model_res50_batchsize_{batch_size}_lr_{learning_rate}.pth'\n",
    "        model_outpath = os.path.join(out_results_path, model_checkpoint_name)\n",
    "        torch.save(checkpoint, model_outpath)\n"
   ]
  },
  {
   "cell_type": "markdown",
   "metadata": {},
   "source": [
    "### Train 9 Resnet50 models each with a different combination of 3 batch sizes and 3 learning rates"
   ]
  },
  {
   "cell_type": "markdown",
   "metadata": {},
   "source": [
    "### Note: If you do not want to perform training and want to skip to the trained models that come with the repository, you may skip down to \"Train Results\"."
   ]
  },
  {
   "cell_type": "code",
   "execution_count": 15,
   "metadata": {},
   "outputs": [
    {
     "name": "stdout",
     "output_type": "stream",
     "text": [
      "total number of batches to anticipate for epoch 0:  484.18\n",
      "Epoch 0/9 Loss: 0.1270 Precision: 0.8549 Recall: 0.8534 F1 Score: 0.8541 Acc: 0.9508\n",
      "total number of batches to anticipate for epoch 1:  484.18\n",
      "Epoch 1/9 Loss: 0.0930 Precision: 0.8954 Recall: 0.9004 F1 Score: 0.8979 Acc: 0.9654\n",
      "total number of batches to anticipate for epoch 2:  484.18\n",
      "Epoch 2/9 Loss: 0.0743 Precision: 0.9179 Recall: 0.9190 F1 Score: 0.9184 Acc: 0.9724\n",
      "total number of batches to anticipate for epoch 3:  484.18\n",
      "Epoch 3/9 Loss: 0.0609 Precision: 0.9304 Recall: 0.9418 F1 Score: 0.9360 Acc: 0.9783\n",
      "total number of batches to anticipate for epoch 4:  484.18\n",
      "Epoch 4/9 Loss: 0.0545 Precision: 0.9367 Recall: 0.9484 F1 Score: 0.9425 Acc: 0.9805\n",
      "total number of batches to anticipate for epoch 5:  484.18\n",
      "Epoch 5/9 Loss: 0.0488 Precision: 0.9435 Recall: 0.9518 F1 Score: 0.9476 Acc: 0.9822\n",
      "total number of batches to anticipate for epoch 6:  484.18\n",
      "Epoch 6/9 Loss: 0.0427 Precision: 0.9489 Recall: 0.9584 F1 Score: 0.9536 Acc: 0.9843\n",
      "total number of batches to anticipate for epoch 7:  484.18\n",
      "Epoch 7/9 Loss: 0.0420 Precision: 0.9497 Recall: 0.9567 F1 Score: 0.9532 Acc: 0.9841\n",
      "total number of batches to anticipate for epoch 8:  484.18\n",
      "Epoch 8/9 Loss: 0.0321 Precision: 0.9626 Recall: 0.9699 F1 Score: 0.9662 Acc: 0.9886\n",
      "total number of batches to anticipate for epoch 9:  484.18\n",
      "Epoch 9/9 Loss: 0.0293 Precision: 0.9648 Recall: 0.9716 F1 Score: 0.9682 Acc: 0.9892\n",
      "total number of batches to anticipate for epoch 0:  484.18\n",
      "Epoch 0/9 Loss: 0.1873 Precision: 0.7980 Recall: 0.7785 F1 Score: 0.7882 Acc: 0.9294\n",
      "total number of batches to anticipate for epoch 1:  484.18\n",
      "Epoch 1/9 Loss: 0.1335 Precision: 0.8407 Recall: 0.8566 F1 Score: 0.8486 Acc: 0.9484\n",
      "total number of batches to anticipate for epoch 2:  484.18\n",
      "Epoch 2/9 Loss: 0.1159 Precision: 0.8613 Recall: 0.8796 F1 Score: 0.8703 Acc: 0.9558\n",
      "total number of batches to anticipate for epoch 3:  484.18\n",
      "Epoch 3/9 Loss: 0.1005 Precision: 0.8779 Recall: 0.9011 F1 Score: 0.8894 Acc: 0.9622\n",
      "total number of batches to anticipate for epoch 4:  484.18\n",
      "Epoch 4/9 Loss: 0.0992 Precision: 0.8731 Recall: 0.8994 F1 Score: 0.8861 Acc: 0.9610\n",
      "total number of batches to anticipate for epoch 5:  484.18\n",
      "Epoch 5/9 Loss: 0.0875 Precision: 0.8911 Recall: 0.9153 F1 Score: 0.9031 Acc: 0.9668\n",
      "total number of batches to anticipate for epoch 6:  484.18\n",
      "Epoch 6/9 Loss: 0.0880 Precision: 0.8953 Recall: 0.9168 F1 Score: 0.9059 Acc: 0.9679\n",
      "total number of batches to anticipate for epoch 7:  484.18\n",
      "Epoch 7/9 Loss: 0.0773 Precision: 0.9016 Recall: 0.9266 F1 Score: 0.9139 Acc: 0.9705\n",
      "total number of batches to anticipate for epoch 8:  484.18\n",
      "Epoch 8/9 Loss: 0.0738 Precision: 0.9102 Recall: 0.9283 F1 Score: 0.9192 Acc: 0.9724\n",
      "total number of batches to anticipate for epoch 9:  484.18\n",
      "Epoch 9/9 Loss: 0.0690 Precision: 0.9156 Recall: 0.9351 F1 Score: 0.9253 Acc: 0.9745\n",
      "total number of batches to anticipate for epoch 0:  484.18\n",
      "Epoch 0/9 Loss: 0.0523 Precision: 0.9188 Recall: 0.9665 F1 Score: 0.9420 Acc: 0.9799\n",
      "total number of batches to anticipate for epoch 1:  484.18\n",
      "Epoch 1/9 Loss: 0.0441 Precision: 0.9423 Recall: 0.9594 F1 Score: 0.9508 Acc: 0.9832\n",
      "total number of batches to anticipate for epoch 2:  484.18\n",
      "Epoch 2/9 Loss: 0.0431 Precision: 0.9457 Recall: 0.9630 F1 Score: 0.9543 Acc: 0.9844\n",
      "total number of batches to anticipate for epoch 3:  484.18\n",
      "Epoch 3/9 Loss: 0.0420 Precision: 0.9457 Recall: 0.9633 F1 Score: 0.9544 Acc: 0.9845\n",
      "total number of batches to anticipate for epoch 4:  484.18\n",
      "Epoch 4/9 Loss: 0.0407 Precision: 0.9498 Recall: 0.9640 F1 Score: 0.9569 Acc: 0.9853\n",
      "total number of batches to anticipate for epoch 5:  484.18\n",
      "Epoch 5/9 Loss: 0.0400 Precision: 0.9526 Recall: 0.9643 F1 Score: 0.9584 Acc: 0.9859\n",
      "total number of batches to anticipate for epoch 6:  484.18\n",
      "Epoch 6/9 Loss: 0.0381 Precision: 0.9518 Recall: 0.9667 F1 Score: 0.9592 Acc: 0.9861\n",
      "total number of batches to anticipate for epoch 7:  484.18\n",
      "Epoch 7/9 Loss: 0.0368 Precision: 0.9542 Recall: 0.9635 F1 Score: 0.9588 Acc: 0.9860\n",
      "total number of batches to anticipate for epoch 8:  484.18\n",
      "Epoch 8/9 Loss: 0.0360 Precision: 0.9563 Recall: 0.9684 F1 Score: 0.9623 Acc: 0.9872\n",
      "total number of batches to anticipate for epoch 9:  484.18\n",
      "Epoch 9/9 Loss: 0.0359 Precision: 0.9532 Recall: 0.9679 F1 Score: 0.9605 Acc: 0.9866\n",
      "total number of batches to anticipate for epoch 0:  756.53125\n",
      "Epoch 0/9 Loss: 0.0412 Precision: 0.9508 Recall: 0.9611 F1 Score: 0.9559 Acc: 0.9850\n",
      "total number of batches to anticipate for epoch 1:  756.53125\n",
      "Epoch 1/9 Loss: 0.0348 Precision: 0.9562 Recall: 0.9682 F1 Score: 0.9622 Acc: 0.9872\n",
      "total number of batches to anticipate for epoch 2:  756.53125\n",
      "Epoch 2/9 Loss: 0.0309 Precision: 0.9618 Recall: 0.9723 F1 Score: 0.9670 Acc: 0.9888\n",
      "total number of batches to anticipate for epoch 3:  756.53125\n",
      "Epoch 3/9 Loss: 0.0269 Precision: 0.9663 Recall: 0.9755 F1 Score: 0.9709 Acc: 0.9901\n",
      "total number of batches to anticipate for epoch 4:  756.53125\n",
      "Epoch 4/9 Loss: 0.0247 Precision: 0.9695 Recall: 0.9787 F1 Score: 0.9741 Acc: 0.9912\n",
      "total number of batches to anticipate for epoch 5:  756.53125\n",
      "Epoch 5/9 Loss: 0.0209 Precision: 0.9754 Recall: 0.9809 F1 Score: 0.9782 Acc: 0.9926\n",
      "total number of batches to anticipate for epoch 6:  756.53125\n",
      "Epoch 6/9 Loss: 0.0183 Precision: 0.9786 Recall: 0.9826 F1 Score: 0.9806 Acc: 0.9934\n",
      "total number of batches to anticipate for epoch 7:  756.53125\n",
      "Epoch 7/9 Loss: 0.0180 Precision: 0.9790 Recall: 0.9834 F1 Score: 0.9812 Acc: 0.9936\n",
      "total number of batches to anticipate for epoch 8:  756.53125\n",
      "Epoch 8/9 Loss: 0.0157 Precision: 0.9820 Recall: 0.9853 F1 Score: 0.9836 Acc: 0.9945\n",
      "total number of batches to anticipate for epoch 9:  756.53125\n",
      "Epoch 9/9 Loss: 0.0122 Precision: 0.9868 Recall: 0.9860 F1 Score: 0.9864 Acc: 0.9954\n",
      "total number of batches to anticipate for epoch 0:  756.53125\n",
      "Epoch 0/9 Loss: 0.0740 Precision: 0.9154 Recall: 0.9298 F1 Score: 0.9225 Acc: 0.9736\n",
      "total number of batches to anticipate for epoch 1:  756.53125\n",
      "Epoch 1/9 Loss: 0.0644 Precision: 0.9219 Recall: 0.9354 F1 Score: 0.9286 Acc: 0.9757\n",
      "total number of batches to anticipate for epoch 2:  756.53125\n",
      "Epoch 2/9 Loss: 0.0590 Precision: 0.9278 Recall: 0.9432 F1 Score: 0.9354 Acc: 0.9780\n",
      "total number of batches to anticipate for epoch 3:  756.53125\n",
      "Epoch 3/9 Loss: 0.0579 Precision: 0.9286 Recall: 0.9425 F1 Score: 0.9355 Acc: 0.9781\n",
      "total number of batches to anticipate for epoch 4:  756.53125\n",
      "Epoch 4/9 Loss: 0.0544 Precision: 0.9326 Recall: 0.9486 F1 Score: 0.9405 Acc: 0.9798\n",
      "total number of batches to anticipate for epoch 5:  756.53125\n",
      "Epoch 5/9 Loss: 0.0538 Precision: 0.9359 Recall: 0.9462 F1 Score: 0.9410 Acc: 0.9800\n",
      "total number of batches to anticipate for epoch 6:  756.53125\n",
      "Epoch 6/9 Loss: 0.0497 Precision: 0.9407 Recall: 0.9506 F1 Score: 0.9456 Acc: 0.9815\n",
      "total number of batches to anticipate for epoch 7:  756.53125\n",
      "Epoch 7/9 Loss: 0.0448 Precision: 0.9446 Recall: 0.9557 F1 Score: 0.9501 Acc: 0.9831\n",
      "total number of batches to anticipate for epoch 8:  756.53125\n",
      "Epoch 8/9 Loss: 0.0410 Precision: 0.9497 Recall: 0.9604 F1 Score: 0.9550 Acc: 0.9847\n",
      "total number of batches to anticipate for epoch 9:  756.53125\n",
      "Epoch 9/9 Loss: 0.0435 Precision: 0.9478 Recall: 0.9604 F1 Score: 0.9540 Acc: 0.9844\n",
      "total number of batches to anticipate for epoch 0:  756.53125\n",
      "Epoch 0/9 Loss: 0.0307 Precision: 0.9663 Recall: 0.9672 F1 Score: 0.9667 Acc: 0.9888\n",
      "total number of batches to anticipate for epoch 1:  756.53125\n",
      "Epoch 1/9 Loss: 0.0268 Precision: 0.9659 Recall: 0.9770 F1 Score: 0.9714 Acc: 0.9903\n",
      "total number of batches to anticipate for epoch 2:  756.53125\n",
      "Epoch 2/9 Loss: 0.0237 Precision: 0.9727 Recall: 0.9785 F1 Score: 0.9756 Acc: 0.9917\n",
      "total number of batches to anticipate for epoch 3:  756.53125\n",
      "Epoch 3/9 Loss: 0.0229 Precision: 0.9733 Recall: 0.9804 F1 Score: 0.9768 Acc: 0.9922\n",
      "total number of batches to anticipate for epoch 4:  756.53125\n",
      "Epoch 4/9 Loss: 0.0208 Precision: 0.9776 Recall: 0.9829 F1 Score: 0.9802 Acc: 0.9933\n",
      "total number of batches to anticipate for epoch 5:  756.53125\n",
      "Epoch 5/9 Loss: 0.0199 Precision: 0.9769 Recall: 0.9826 F1 Score: 0.9797 Acc: 0.9931\n",
      "total number of batches to anticipate for epoch 6:  756.53125\n",
      "Epoch 6/9 Loss: 0.0185 Precision: 0.9783 Recall: 0.9831 F1 Score: 0.9807 Acc: 0.9935\n",
      "total number of batches to anticipate for epoch 7:  756.53125\n",
      "Epoch 7/9 Loss: 0.0176 Precision: 0.9812 Recall: 0.9848 F1 Score: 0.9830 Acc: 0.9943\n",
      "total number of batches to anticipate for epoch 8:  756.53125\n",
      "Epoch 8/9 Loss: 0.0172 Precision: 0.9815 Recall: 0.9868 F1 Score: 0.9841 Acc: 0.9946\n",
      "total number of batches to anticipate for epoch 9:  756.53125\n",
      "Epoch 9/9 Loss: 0.0169 Precision: 0.9810 Recall: 0.9848 F1 Score: 0.9829 Acc: 0.9942\n",
      "total number of batches to anticipate for epoch 0:  2420.9\n",
      "Epoch 0/9 Loss: 0.0285 Precision: 0.9700 Recall: 0.9733 F1 Score: 0.9717 Acc: 0.9904\n",
      "total number of batches to anticipate for epoch 1:  2420.9\n",
      "Epoch 1/9 Loss: 0.0213 Precision: 0.9751 Recall: 0.9775 F1 Score: 0.9763 Acc: 0.9920\n",
      "total number of batches to anticipate for epoch 2:  2420.9\n",
      "Epoch 2/9 Loss: 0.0167 Precision: 0.9817 Recall: 0.9834 F1 Score: 0.9825 Acc: 0.9941\n",
      "total number of batches to anticipate for epoch 3:  2420.9\n",
      "Epoch 3/9 Loss: 0.0140 Precision: 0.9846 Recall: 0.9873 F1 Score: 0.9859 Acc: 0.9952\n",
      "total number of batches to anticipate for epoch 4:  2420.9\n",
      "Epoch 4/9 Loss: 0.0134 Precision: 0.9853 Recall: 0.9860 F1 Score: 0.9857 Acc: 0.9952\n",
      "total number of batches to anticipate for epoch 5:  2420.9\n",
      "Epoch 5/9 Loss: 0.0108 Precision: 0.9873 Recall: 0.9897 F1 Score: 0.9885 Acc: 0.9961\n",
      "total number of batches to anticipate for epoch 6:  2420.9\n",
      "Epoch 6/9 Loss: 0.0101 Precision: 0.9900 Recall: 0.9909 F1 Score: 0.9905 Acc: 0.9968\n",
      "total number of batches to anticipate for epoch 7:  2420.9\n",
      "Epoch 7/9 Loss: 0.0087 Precision: 0.9907 Recall: 0.9917 F1 Score: 0.9912 Acc: 0.9970\n",
      "total number of batches to anticipate for epoch 8:  2420.9\n",
      "Epoch 8/9 Loss: 0.0104 Precision: 0.9885 Recall: 0.9895 F1 Score: 0.9890 Acc: 0.9963\n",
      "total number of batches to anticipate for epoch 9:  2420.9\n",
      "Epoch 9/9 Loss: 0.0057 Precision: 0.9951 Recall: 0.9944 F1 Score: 0.9947 Acc: 0.9982\n",
      "total number of batches to anticipate for epoch 0:  2420.9\n",
      "Epoch 0/9 Loss: 0.0674 Precision: 0.9242 Recall: 0.9312 F1 Score: 0.9277 Acc: 0.9755\n",
      "total number of batches to anticipate for epoch 1:  2420.9\n",
      "Epoch 1/9 Loss: 0.0635 Precision: 0.9213 Recall: 0.9398 F1 Score: 0.9305 Acc: 0.9763\n",
      "total number of batches to anticipate for epoch 2:  2420.9\n",
      "Epoch 2/9 Loss: 0.0582 Precision: 0.9307 Recall: 0.9427 F1 Score: 0.9367 Acc: 0.9785\n",
      "total number of batches to anticipate for epoch 3:  2420.9\n",
      "Epoch 3/9 Loss: 0.0553 Precision: 0.9346 Recall: 0.9476 F1 Score: 0.9411 Acc: 0.9800\n",
      "total number of batches to anticipate for epoch 4:  2420.9\n",
      "Epoch 4/9 Loss: 0.0515 Precision: 0.9388 Recall: 0.9506 F1 Score: 0.9447 Acc: 0.9812\n",
      "total number of batches to anticipate for epoch 5:  2420.9\n",
      "Epoch 5/9 Loss: 0.0517 Precision: 0.9345 Recall: 0.9469 F1 Score: 0.9407 Acc: 0.9798\n",
      "total number of batches to anticipate for epoch 6:  2420.9\n",
      "Epoch 6/9 Loss: 0.0488 Precision: 0.9459 Recall: 0.9540 F1 Score: 0.9499 Acc: 0.9830\n",
      "total number of batches to anticipate for epoch 7:  2420.9\n",
      "Epoch 7/9 Loss: 0.0395 Precision: 0.9531 Recall: 0.9591 F1 Score: 0.9561 Acc: 0.9851\n",
      "total number of batches to anticipate for epoch 8:  2420.9\n",
      "Epoch 8/9 Loss: 0.0484 Precision: 0.9405 Recall: 0.9515 F1 Score: 0.9460 Acc: 0.9817\n",
      "total number of batches to anticipate for epoch 9:  2420.9\n",
      "Epoch 9/9 Loss: 0.0336 Precision: 0.9589 Recall: 0.9657 F1 Score: 0.9623 Acc: 0.9872\n",
      "total number of batches to anticipate for epoch 0:  2420.9\n",
      "Epoch 0/9 Loss: 0.0211 Precision: 0.9779 Recall: 0.9741 F1 Score: 0.9760 Acc: 0.9919\n",
      "total number of batches to anticipate for epoch 1:  2420.9\n",
      "Epoch 1/9 Loss: 0.0178 Precision: 0.9810 Recall: 0.9831 F1 Score: 0.9820 Acc: 0.9939\n",
      "total number of batches to anticipate for epoch 2:  2420.9\n",
      "Epoch 2/9 Loss: 0.0143 Precision: 0.9830 Recall: 0.9883 F1 Score: 0.9856 Acc: 0.9951\n",
      "total number of batches to anticipate for epoch 3:  2420.9\n",
      "Epoch 3/9 Loss: 0.0134 Precision: 0.9844 Recall: 0.9890 F1 Score: 0.9867 Acc: 0.9955\n",
      "total number of batches to anticipate for epoch 4:  2420.9\n",
      "Epoch 4/9 Loss: 0.0118 Precision: 0.9871 Recall: 0.9907 F1 Score: 0.9889 Acc: 0.9962\n",
      "total number of batches to anticipate for epoch 5:  2420.9\n",
      "Epoch 5/9 Loss: 0.0106 Precision: 0.9902 Recall: 0.9917 F1 Score: 0.9910 Acc: 0.9969\n",
      "total number of batches to anticipate for epoch 6:  2420.9\n",
      "Epoch 6/9 Loss: 0.0107 Precision: 0.9885 Recall: 0.9887 F1 Score: 0.9886 Acc: 0.9962\n",
      "total number of batches to anticipate for epoch 7:  2420.9\n",
      "Epoch 7/9 Loss: 0.0092 Precision: 0.9907 Recall: 0.9924 F1 Score: 0.9916 Acc: 0.9971\n",
      "total number of batches to anticipate for epoch 8:  2420.9\n",
      "Epoch 8/9 Loss: 0.0103 Precision: 0.9900 Recall: 0.9895 F1 Score: 0.9897 Acc: 0.9965\n",
      "total number of batches to anticipate for epoch 9:  2420.9\n",
      "Epoch 9/9 Loss: 0.0090 Precision: 0.9910 Recall: 0.9931 F1 Score: 0.9921 Acc: 0.9973\n"
     ]
    }
   ],
   "source": [
    "batch_sizes = [50, 32, 10]\n",
    "learning_rates = [0.001, 0.01, 0.0001]\n",
    "input_images_path = os.path.join(user_path_prefix, r\"3d-object-detection-for-autonomous-vehicles\\Train\\images\\Image_Classification\\train_cropped_images\\224\")\n",
    "\n",
    "#This is where the trained models will be output to\n",
    "out_results_path = os.path.join(user_path_prefix, r\"3d-object-detection-for-autonomous-vehicles\\Train\\models\")\n",
    "\n",
    "#At this point, we should already have images sized to required_image_size from the preprocessing phase. This is just to navigate to the correct image dir.\n",
    "#It should also, therefore, correspond to the sized depicted by 'input_images_path'.\n",
    "required_image_size = 224\n",
    "target_category_name = \"pedestrian\"\n",
    "\n",
    "for batch_size in batch_sizes:\n",
    "    for learning_rate in learning_rates:\n",
    "        train_resnet50_classification(model_instance=model_res50, num_epochs=10, batch_size=batch_size, input_images_path=input_images_path, out_results_path=out_results_path,\n",
    "                                       required_imgage_size=required_image_size, target_category_name=target_category_name, learning_rate=learning_rate, save_per_epoch=True)"
   ]
  },
  {
   "cell_type": "markdown",
   "metadata": {},
   "source": [
    "## Train Results"
   ]
  },
  {
   "cell_type": "markdown",
   "metadata": {},
   "source": [
    "### Load all of the trained models back in and stich their results together into a summary \"all_model_results_df\"."
   ]
  },
  {
   "cell_type": "markdown",
   "metadata": {},
   "source": [
    "#### WARNING: The cell below will overwrite \"all_model_results.csv\" if you have alreayd created it."
   ]
  },
  {
   "cell_type": "code",
   "execution_count": 10,
   "metadata": {},
   "outputs": [
    {
     "data": {
      "text/html": [
       "<div>\n",
       "<style scoped>\n",
       "    .dataframe tbody tr th:only-of-type {\n",
       "        vertical-align: middle;\n",
       "    }\n",
       "\n",
       "    .dataframe tbody tr th {\n",
       "        vertical-align: top;\n",
       "    }\n",
       "\n",
       "    .dataframe thead th {\n",
       "        text-align: right;\n",
       "    }\n",
       "</style>\n",
       "<table border=\"1\" class=\"dataframe\">\n",
       "  <thead>\n",
       "    <tr style=\"text-align: right;\">\n",
       "      <th></th>\n",
       "      <th>model_id_path</th>\n",
       "      <th>epoch</th>\n",
       "      <th>batch_size</th>\n",
       "      <th>learning_rate</th>\n",
       "      <th>final_loss</th>\n",
       "      <th>final_accuracy</th>\n",
       "      <th>final_precision</th>\n",
       "      <th>final_recall</th>\n",
       "      <th>final_F1</th>\n",
       "      <th>validation_loss</th>\n",
       "      <th>validation_accuracy</th>\n",
       "      <th>validation_precision</th>\n",
       "      <th>validation_recall</th>\n",
       "      <th>validation_F1</th>\n",
       "      <th>false_positive_images</th>\n",
       "      <th>false_negative_images</th>\n",
       "    </tr>\n",
       "  </thead>\n",
       "  <tbody>\n",
       "    <tr>\n",
       "      <th>81</th>\n",
       "      <td>model_res50_epoch_9_batchsize_10_lr_0.0001.pth</td>\n",
       "      <td>9</td>\n",
       "      <td>10</td>\n",
       "      <td>0.0001.</td>\n",
       "      <td>0.008955</td>\n",
       "      <td>0.997315</td>\n",
       "      <td>0.990965</td>\n",
       "      <td>0.993147</td>\n",
       "      <td>0.992055</td>\n",
       "      <td>None</td>\n",
       "      <td>None</td>\n",
       "      <td>None</td>\n",
       "      <td>None</td>\n",
       "      <td>None</td>\n",
       "      <td>None</td>\n",
       "      <td>None</td>\n",
       "    </tr>\n",
       "    <tr>\n",
       "      <th>82</th>\n",
       "      <td>model_res50_epoch_9_batchsize_10_lr_0.001.pth</td>\n",
       "      <td>9</td>\n",
       "      <td>10</td>\n",
       "      <td>0.001.</td>\n",
       "      <td>0.005681</td>\n",
       "      <td>0.998224</td>\n",
       "      <td>0.995102</td>\n",
       "      <td>0.994371</td>\n",
       "      <td>0.994736</td>\n",
       "      <td>None</td>\n",
       "      <td>None</td>\n",
       "      <td>None</td>\n",
       "      <td>None</td>\n",
       "      <td>None</td>\n",
       "      <td>None</td>\n",
       "      <td>None</td>\n",
       "    </tr>\n",
       "    <tr>\n",
       "      <th>83</th>\n",
       "      <td>model_res50_epoch_9_batchsize_10_lr_0.01.pth</td>\n",
       "      <td>9</td>\n",
       "      <td>10</td>\n",
       "      <td>0.01.</td>\n",
       "      <td>0.033554</td>\n",
       "      <td>0.987236</td>\n",
       "      <td>0.958931</td>\n",
       "      <td>0.965737</td>\n",
       "      <td>0.962322</td>\n",
       "      <td>None</td>\n",
       "      <td>None</td>\n",
       "      <td>None</td>\n",
       "      <td>None</td>\n",
       "      <td>None</td>\n",
       "      <td>None</td>\n",
       "      <td>None</td>\n",
       "    </tr>\n",
       "    <tr>\n",
       "      <th>84</th>\n",
       "      <td>model_res50_epoch_9_batchsize_32_lr_0.0001.pth</td>\n",
       "      <td>9</td>\n",
       "      <td>32</td>\n",
       "      <td>0.0001.</td>\n",
       "      <td>0.016930</td>\n",
       "      <td>0.994217</td>\n",
       "      <td>0.980985</td>\n",
       "      <td>0.984826</td>\n",
       "      <td>0.982902</td>\n",
       "      <td>None</td>\n",
       "      <td>None</td>\n",
       "      <td>None</td>\n",
       "      <td>None</td>\n",
       "      <td>None</td>\n",
       "      <td>None</td>\n",
       "      <td>None</td>\n",
       "    </tr>\n",
       "    <tr>\n",
       "      <th>85</th>\n",
       "      <td>model_res50_epoch_9_batchsize_32_lr_0.001.pth</td>\n",
       "      <td>9</td>\n",
       "      <td>32</td>\n",
       "      <td>0.001.</td>\n",
       "      <td>0.012222</td>\n",
       "      <td>0.995415</td>\n",
       "      <td>0.986774</td>\n",
       "      <td>0.986050</td>\n",
       "      <td>0.986412</td>\n",
       "      <td>None</td>\n",
       "      <td>None</td>\n",
       "      <td>None</td>\n",
       "      <td>None</td>\n",
       "      <td>None</td>\n",
       "      <td>None</td>\n",
       "      <td>None</td>\n",
       "    </tr>\n",
       "    <tr>\n",
       "      <th>86</th>\n",
       "      <td>model_res50_epoch_9_batchsize_32_lr_0.01.pth</td>\n",
       "      <td>9</td>\n",
       "      <td>32</td>\n",
       "      <td>0.01.</td>\n",
       "      <td>0.043471</td>\n",
       "      <td>0.984386</td>\n",
       "      <td>0.947826</td>\n",
       "      <td>0.960352</td>\n",
       "      <td>0.954048</td>\n",
       "      <td>None</td>\n",
       "      <td>None</td>\n",
       "      <td>None</td>\n",
       "      <td>None</td>\n",
       "      <td>None</td>\n",
       "      <td>None</td>\n",
       "      <td>None</td>\n",
       "    </tr>\n",
       "    <tr>\n",
       "      <th>87</th>\n",
       "      <td>model_res50_epoch_9_batchsize_50_lr_0.0001.pth</td>\n",
       "      <td>9</td>\n",
       "      <td>50</td>\n",
       "      <td>0.0001.</td>\n",
       "      <td>0.035888</td>\n",
       "      <td>0.986575</td>\n",
       "      <td>0.953242</td>\n",
       "      <td>0.967939</td>\n",
       "      <td>0.960534</td>\n",
       "      <td>None</td>\n",
       "      <td>None</td>\n",
       "      <td>None</td>\n",
       "      <td>None</td>\n",
       "      <td>None</td>\n",
       "      <td>None</td>\n",
       "      <td>None</td>\n",
       "    </tr>\n",
       "    <tr>\n",
       "      <th>88</th>\n",
       "      <td>model_res50_epoch_9_batchsize_50_lr_0.001.pth</td>\n",
       "      <td>9</td>\n",
       "      <td>50</td>\n",
       "      <td>0.001.</td>\n",
       "      <td>0.029320</td>\n",
       "      <td>0.989219</td>\n",
       "      <td>0.964763</td>\n",
       "      <td>0.971610</td>\n",
       "      <td>0.968175</td>\n",
       "      <td>None</td>\n",
       "      <td>None</td>\n",
       "      <td>None</td>\n",
       "      <td>None</td>\n",
       "      <td>None</td>\n",
       "      <td>None</td>\n",
       "      <td>None</td>\n",
       "    </tr>\n",
       "    <tr>\n",
       "      <th>89</th>\n",
       "      <td>model_res50_epoch_9_batchsize_50_lr_0.01.pth</td>\n",
       "      <td>9</td>\n",
       "      <td>50</td>\n",
       "      <td>0.01.</td>\n",
       "      <td>0.068964</td>\n",
       "      <td>0.974514</td>\n",
       "      <td>0.915648</td>\n",
       "      <td>0.935144</td>\n",
       "      <td>0.925294</td>\n",
       "      <td>None</td>\n",
       "      <td>None</td>\n",
       "      <td>None</td>\n",
       "      <td>None</td>\n",
       "      <td>None</td>\n",
       "      <td>None</td>\n",
       "      <td>None</td>\n",
       "    </tr>\n",
       "  </tbody>\n",
       "</table>\n",
       "</div>"
      ],
      "text/plain": [
       "                                     model_id_path epoch batch_size  \\\n",
       "81  model_res50_epoch_9_batchsize_10_lr_0.0001.pth     9         10   \n",
       "82   model_res50_epoch_9_batchsize_10_lr_0.001.pth     9         10   \n",
       "83    model_res50_epoch_9_batchsize_10_lr_0.01.pth     9         10   \n",
       "84  model_res50_epoch_9_batchsize_32_lr_0.0001.pth     9         32   \n",
       "85   model_res50_epoch_9_batchsize_32_lr_0.001.pth     9         32   \n",
       "86    model_res50_epoch_9_batchsize_32_lr_0.01.pth     9         32   \n",
       "87  model_res50_epoch_9_batchsize_50_lr_0.0001.pth     9         50   \n",
       "88   model_res50_epoch_9_batchsize_50_lr_0.001.pth     9         50   \n",
       "89    model_res50_epoch_9_batchsize_50_lr_0.01.pth     9         50   \n",
       "\n",
       "   learning_rate  final_loss  final_accuracy  final_precision  final_recall  \\\n",
       "81       0.0001.    0.008955        0.997315         0.990965      0.993147   \n",
       "82        0.001.    0.005681        0.998224         0.995102      0.994371   \n",
       "83         0.01.    0.033554        0.987236         0.958931      0.965737   \n",
       "84       0.0001.    0.016930        0.994217         0.980985      0.984826   \n",
       "85        0.001.    0.012222        0.995415         0.986774      0.986050   \n",
       "86         0.01.    0.043471        0.984386         0.947826      0.960352   \n",
       "87       0.0001.    0.035888        0.986575         0.953242      0.967939   \n",
       "88        0.001.    0.029320        0.989219         0.964763      0.971610   \n",
       "89         0.01.    0.068964        0.974514         0.915648      0.935144   \n",
       "\n",
       "    final_F1 validation_loss validation_accuracy validation_precision  \\\n",
       "81  0.992055            None                None                 None   \n",
       "82  0.994736            None                None                 None   \n",
       "83  0.962322            None                None                 None   \n",
       "84  0.982902            None                None                 None   \n",
       "85  0.986412            None                None                 None   \n",
       "86  0.954048            None                None                 None   \n",
       "87  0.960534            None                None                 None   \n",
       "88  0.968175            None                None                 None   \n",
       "89  0.925294            None                None                 None   \n",
       "\n",
       "   validation_recall validation_F1 false_positive_images false_negative_images  \n",
       "81              None          None                  None                  None  \n",
       "82              None          None                  None                  None  \n",
       "83              None          None                  None                  None  \n",
       "84              None          None                  None                  None  \n",
       "85              None          None                  None                  None  \n",
       "86              None          None                  None                  None  \n",
       "87              None          None                  None                  None  \n",
       "88              None          None                  None                  None  \n",
       "89              None          None                  None                  None  "
      ]
     },
     "execution_count": 10,
     "metadata": {},
     "output_type": "execute_result"
    }
   ],
   "source": [
    "# To load the model and metrics later\n",
    "model_metrics = ['final_loss', 'final_accuracy', 'final_precision', 'final_recall', 'final_F1']\n",
    "model_dir = os.path.join(user_path_prefix, r\"3d-object-detection-for-autonomous-vehicles\\Train\\models\")\n",
    "\n",
    "all_model_results = []\n",
    "for path in os.listdir(model_dir):\n",
    "        model_results = {}\n",
    "        model_path = os.path.join(model_dir, path)\n",
    "        if model_path.endswith(\"pth\"):\n",
    "            checkpoint = torch.load(model_path)\n",
    "            matches = re.search(r'epoch_(\\d+)_batchsize_(\\d+)_lr_([\\d.]+)', model_path)\n",
    "            if matches:\n",
    "                model_results[\"model_id_name\"] = path\n",
    "                epoch = matches.group(1)\n",
    "                model_results[\"epoch\"] = epoch\n",
    "                batch_size = matches.group(2)\n",
    "                model_results[\"batch_size\"] = batch_size\n",
    "                lr = matches.group(3)\n",
    "                model_results[\"learning_rate\"] = lr\n",
    "\n",
    "            for metric in model_metrics:\n",
    "                model_results[metric] = checkpoint[metric]\n",
    "            \n",
    "            all_model_results.append(model_results)\n",
    "\n",
    "all_model_results_df = pd.DataFrame(all_model_results)\n",
    "all_model_results_df = all_model_results_df.sort_values([\"batch_size\", \"learning_rate\", \"epoch\"])\n",
    "\n",
    "#we only need to fix final_accuracy for now until we run training again. Fix this before running training again. \n",
    "all_model_results_df[\"final_accuracy\"] = all_model_results_df[\"final_accuracy\"].apply(lambda x: x.item())\n",
    "\n",
    "#Create empty columns for the validation loop to populate\n",
    "all_model_results_df[\"validation_loss\"] = None\n",
    "all_model_results_df[\"validation_accuracy\"] = None\n",
    "all_model_results_df[\"validation_precision\"] = None\n",
    "all_model_results_df[\"validation_recall\"] = None\n",
    "all_model_results_df[\"validation_F1\"] = None\n",
    "all_model_results_df[\"false_positive_images\"] = None\n",
    "all_model_results_df[\"false_negative_images\"] = None\n",
    "\n",
    "#Set these to 'object' type so we can assign a list of strings converted into one, large string.\n",
    "all_model_results_df['false_positive_images'] = all_model_results_df['false_positive_images'].astype('object')\n",
    "all_model_results_df['false_positive_images'] = all_model_results_df['false_positive_images'].astype('object')\n",
    "\n",
    "\n",
    "#Write all_model_results_df to disk\n",
    "all_model_results_df.to_csv(os.path.join(model_dir, \"all_model_results.csv\"))\n",
    "\n",
    "final_epoch_results = all_model_results_df[all_model_results_df[\"epoch\"] == 9]\n",
    "final_epoch_results"
   ]
  },
  {
   "cell_type": "code",
   "execution_count": 17,
   "metadata": {},
   "outputs": [
    {
     "data": {
      "text/html": [
       "<div>\n",
       "<style scoped>\n",
       "    .dataframe tbody tr th:only-of-type {\n",
       "        vertical-align: middle;\n",
       "    }\n",
       "\n",
       "    .dataframe tbody tr th {\n",
       "        vertical-align: top;\n",
       "    }\n",
       "\n",
       "    .dataframe thead th {\n",
       "        text-align: right;\n",
       "    }\n",
       "</style>\n",
       "<table border=\"1\" class=\"dataframe\">\n",
       "  <thead>\n",
       "    <tr style=\"text-align: right;\">\n",
       "      <th></th>\n",
       "      <th>model_id_path</th>\n",
       "      <th>epoch</th>\n",
       "      <th>batch_size</th>\n",
       "      <th>learning_rate</th>\n",
       "      <th>final_loss</th>\n",
       "      <th>final_accuracy</th>\n",
       "      <th>final_precision</th>\n",
       "      <th>final_recall</th>\n",
       "      <th>final_F1</th>\n",
       "      <th>validation_loss</th>\n",
       "      <th>validation_accuracy</th>\n",
       "      <th>validation_precision</th>\n",
       "      <th>validation_recall</th>\n",
       "      <th>validation_F1</th>\n",
       "      <th>false_positive_images</th>\n",
       "      <th>false_negative_images</th>\n",
       "    </tr>\n",
       "  </thead>\n",
       "  <tbody>\n",
       "    <tr>\n",
       "      <th>9</th>\n",
       "      <td>model_res50_epoch_9_batchsize_10_lr_0.0001.pth</td>\n",
       "      <td>9</td>\n",
       "      <td>10</td>\n",
       "      <td>0.0001.</td>\n",
       "      <td>0.008955</td>\n",
       "      <td>0.997315</td>\n",
       "      <td>0.990965</td>\n",
       "      <td>0.993147</td>\n",
       "      <td>0.992055</td>\n",
       "      <td>0.091312</td>\n",
       "      <td>0.972572</td>\n",
       "      <td>0.866940</td>\n",
       "      <td>0.930258</td>\n",
       "      <td>0.897483</td>\n",
       "      <td>['cropped_host-a102_cam5_1242754969332234006_1...</td>\n",
       "      <td>['cropped_host-a011_cam2_1233688946717605006_b...</td>\n",
       "    </tr>\n",
       "    <tr>\n",
       "      <th>19</th>\n",
       "      <td>model_res50_epoch_9_batchsize_10_lr_0.001.pth</td>\n",
       "      <td>9</td>\n",
       "      <td>10</td>\n",
       "      <td>0.001.</td>\n",
       "      <td>0.005681</td>\n",
       "      <td>0.998224</td>\n",
       "      <td>0.995102</td>\n",
       "      <td>0.994371</td>\n",
       "      <td>0.994736</td>\n",
       "      <td>0.159119</td>\n",
       "      <td>0.962968</td>\n",
       "      <td>0.800370</td>\n",
       "      <td>0.950027</td>\n",
       "      <td>0.868801</td>\n",
       "      <td>['cropped_host-a007_cam3_1231093059199360006_5...</td>\n",
       "      <td>['cropped_host-a011_cam0_1232752780051142006_d...</td>\n",
       "    </tr>\n",
       "    <tr>\n",
       "      <th>29</th>\n",
       "      <td>model_res50_epoch_9_batchsize_10_lr_0.01.pth</td>\n",
       "      <td>9</td>\n",
       "      <td>10</td>\n",
       "      <td>0.01.</td>\n",
       "      <td>0.033554</td>\n",
       "      <td>0.987236</td>\n",
       "      <td>0.958931</td>\n",
       "      <td>0.965737</td>\n",
       "      <td>0.962322</td>\n",
       "      <td>0.089225</td>\n",
       "      <td>0.970375</td>\n",
       "      <td>0.863472</td>\n",
       "      <td>0.915157</td>\n",
       "      <td>0.888563</td>\n",
       "      <td>['cropped_host-a101_cam1_1242748999766305006_6...</td>\n",
       "      <td>['cropped_host-a011_cam0_1232752781651142006_a...</td>\n",
       "    </tr>\n",
       "    <tr>\n",
       "      <th>39</th>\n",
       "      <td>model_res50_epoch_9_batchsize_32_lr_0.0001.pth</td>\n",
       "      <td>9</td>\n",
       "      <td>32</td>\n",
       "      <td>0.0001.</td>\n",
       "      <td>0.016930</td>\n",
       "      <td>0.994217</td>\n",
       "      <td>0.980985</td>\n",
       "      <td>0.984826</td>\n",
       "      <td>0.982902</td>\n",
       "      <td>0.091628</td>\n",
       "      <td>0.969630</td>\n",
       "      <td>0.841383</td>\n",
       "      <td>0.942339</td>\n",
       "      <td>0.889004</td>\n",
       "      <td>['cropped_host-a101_cam6_1240875137450000006_9...</td>\n",
       "      <td>['cropped_host-a101_cam6_1240875138650000006_7...</td>\n",
       "    </tr>\n",
       "    <tr>\n",
       "      <th>49</th>\n",
       "      <td>model_res50_epoch_9_batchsize_32_lr_0.001.pth</td>\n",
       "      <td>9</td>\n",
       "      <td>32</td>\n",
       "      <td>0.001.</td>\n",
       "      <td>0.012222</td>\n",
       "      <td>0.995415</td>\n",
       "      <td>0.986774</td>\n",
       "      <td>0.986050</td>\n",
       "      <td>0.986412</td>\n",
       "      <td>0.162003</td>\n",
       "      <td>0.961196</td>\n",
       "      <td>0.795407</td>\n",
       "      <td>0.941516</td>\n",
       "      <td>0.862316</td>\n",
       "      <td>['cropped_host-a101_cam6_1240875147050000006_2...</td>\n",
       "      <td>['cropped_host-a004_cam0_1232923267651064006_d...</td>\n",
       "    </tr>\n",
       "    <tr>\n",
       "      <th>59</th>\n",
       "      <td>model_res50_epoch_9_batchsize_32_lr_0.01.pth</td>\n",
       "      <td>9</td>\n",
       "      <td>32</td>\n",
       "      <td>0.01.</td>\n",
       "      <td>0.043471</td>\n",
       "      <td>0.984386</td>\n",
       "      <td>0.947826</td>\n",
       "      <td>0.960352</td>\n",
       "      <td>0.954048</td>\n",
       "      <td>0.074976</td>\n",
       "      <td>0.971012</td>\n",
       "      <td>0.862423</td>\n",
       "      <td>0.922570</td>\n",
       "      <td>0.891483</td>\n",
       "      <td>['cropped_host-a101_cam4_1240875154416660006_b...</td>\n",
       "      <td>['cropped_host-a004_cam1_1235947105534300006_e...</td>\n",
       "    </tr>\n",
       "    <tr>\n",
       "      <th>69</th>\n",
       "      <td>model_res50_epoch_9_batchsize_50_lr_0.0001.pth</td>\n",
       "      <td>9</td>\n",
       "      <td>50</td>\n",
       "      <td>0.0001.</td>\n",
       "      <td>0.035888</td>\n",
       "      <td>0.986575</td>\n",
       "      <td>0.953242</td>\n",
       "      <td>0.967939</td>\n",
       "      <td>0.960534</td>\n",
       "      <td>0.080530</td>\n",
       "      <td>0.971615</td>\n",
       "      <td>0.861175</td>\n",
       "      <td>0.929984</td>\n",
       "      <td>0.894257</td>\n",
       "      <td>['cropped_host-a101_cam6_1240875137450000006_9...</td>\n",
       "      <td>['cropped_host-a011_cam3_1236104051500995006_1...</td>\n",
       "    </tr>\n",
       "    <tr>\n",
       "      <th>79</th>\n",
       "      <td>model_res50_epoch_9_batchsize_50_lr_0.001.pth</td>\n",
       "      <td>9</td>\n",
       "      <td>50</td>\n",
       "      <td>0.001.</td>\n",
       "      <td>0.029320</td>\n",
       "      <td>0.989219</td>\n",
       "      <td>0.964763</td>\n",
       "      <td>0.971610</td>\n",
       "      <td>0.968175</td>\n",
       "      <td>0.089566</td>\n",
       "      <td>0.971119</td>\n",
       "      <td>0.847212</td>\n",
       "      <td>0.947007</td>\n",
       "      <td>0.894334</td>\n",
       "      <td>['cropped_host-a102_cam3_1242754977999260006_d...</td>\n",
       "      <td>['cropped_host-a011_cam5_1232752550067719006_7...</td>\n",
       "    </tr>\n",
       "    <tr>\n",
       "      <th>89</th>\n",
       "      <td>model_res50_epoch_9_batchsize_50_lr_0.01.pth</td>\n",
       "      <td>9</td>\n",
       "      <td>50</td>\n",
       "      <td>0.01.</td>\n",
       "      <td>0.068964</td>\n",
       "      <td>0.974514</td>\n",
       "      <td>0.915648</td>\n",
       "      <td>0.935144</td>\n",
       "      <td>0.925294</td>\n",
       "      <td>0.114841</td>\n",
       "      <td>0.956058</td>\n",
       "      <td>0.759732</td>\n",
       "      <td>0.964580</td>\n",
       "      <td>0.849988</td>\n",
       "      <td>['cropped_host-a101_cam2_1242749002782945006_6...</td>\n",
       "      <td>['cropped_host-a101_cam0_1242748836349526006_2...</td>\n",
       "    </tr>\n",
       "  </tbody>\n",
       "</table>\n",
       "</div>"
      ],
      "text/plain": [
       "                                     model_id_path  epoch  batch_size  \\\n",
       "9   model_res50_epoch_9_batchsize_10_lr_0.0001.pth      9          10   \n",
       "19   model_res50_epoch_9_batchsize_10_lr_0.001.pth      9          10   \n",
       "29    model_res50_epoch_9_batchsize_10_lr_0.01.pth      9          10   \n",
       "39  model_res50_epoch_9_batchsize_32_lr_0.0001.pth      9          32   \n",
       "49   model_res50_epoch_9_batchsize_32_lr_0.001.pth      9          32   \n",
       "59    model_res50_epoch_9_batchsize_32_lr_0.01.pth      9          32   \n",
       "69  model_res50_epoch_9_batchsize_50_lr_0.0001.pth      9          50   \n",
       "79   model_res50_epoch_9_batchsize_50_lr_0.001.pth      9          50   \n",
       "89    model_res50_epoch_9_batchsize_50_lr_0.01.pth      9          50   \n",
       "\n",
       "   learning_rate  final_loss  final_accuracy  final_precision  final_recall  \\\n",
       "9        0.0001.    0.008955        0.997315         0.990965      0.993147   \n",
       "19        0.001.    0.005681        0.998224         0.995102      0.994371   \n",
       "29         0.01.    0.033554        0.987236         0.958931      0.965737   \n",
       "39       0.0001.    0.016930        0.994217         0.980985      0.984826   \n",
       "49        0.001.    0.012222        0.995415         0.986774      0.986050   \n",
       "59         0.01.    0.043471        0.984386         0.947826      0.960352   \n",
       "69       0.0001.    0.035888        0.986575         0.953242      0.967939   \n",
       "79        0.001.    0.029320        0.989219         0.964763      0.971610   \n",
       "89         0.01.    0.068964        0.974514         0.915648      0.935144   \n",
       "\n",
       "    final_F1  validation_loss  validation_accuracy  validation_precision  \\\n",
       "9   0.992055         0.091312             0.972572              0.866940   \n",
       "19  0.994736         0.159119             0.962968              0.800370   \n",
       "29  0.962322         0.089225             0.970375              0.863472   \n",
       "39  0.982902         0.091628             0.969630              0.841383   \n",
       "49  0.986412         0.162003             0.961196              0.795407   \n",
       "59  0.954048         0.074976             0.971012              0.862423   \n",
       "69  0.960534         0.080530             0.971615              0.861175   \n",
       "79  0.968175         0.089566             0.971119              0.847212   \n",
       "89  0.925294         0.114841             0.956058              0.759732   \n",
       "\n",
       "    validation_recall  validation_F1  \\\n",
       "9            0.930258       0.897483   \n",
       "19           0.950027       0.868801   \n",
       "29           0.915157       0.888563   \n",
       "39           0.942339       0.889004   \n",
       "49           0.941516       0.862316   \n",
       "59           0.922570       0.891483   \n",
       "69           0.929984       0.894257   \n",
       "79           0.947007       0.894334   \n",
       "89           0.964580       0.849988   \n",
       "\n",
       "                                false_positive_images  \\\n",
       "9   ['cropped_host-a102_cam5_1242754969332234006_1...   \n",
       "19  ['cropped_host-a007_cam3_1231093059199360006_5...   \n",
       "29  ['cropped_host-a101_cam1_1242748999766305006_6...   \n",
       "39  ['cropped_host-a101_cam6_1240875137450000006_9...   \n",
       "49  ['cropped_host-a101_cam6_1240875147050000006_2...   \n",
       "59  ['cropped_host-a101_cam4_1240875154416660006_b...   \n",
       "69  ['cropped_host-a101_cam6_1240875137450000006_9...   \n",
       "79  ['cropped_host-a102_cam3_1242754977999260006_d...   \n",
       "89  ['cropped_host-a101_cam2_1242749002782945006_6...   \n",
       "\n",
       "                                false_negative_images  \n",
       "9   ['cropped_host-a011_cam2_1233688946717605006_b...  \n",
       "19  ['cropped_host-a011_cam0_1232752780051142006_d...  \n",
       "29  ['cropped_host-a011_cam0_1232752781651142006_a...  \n",
       "39  ['cropped_host-a101_cam6_1240875138650000006_7...  \n",
       "49  ['cropped_host-a004_cam0_1232923267651064006_d...  \n",
       "59  ['cropped_host-a004_cam1_1235947105534300006_e...  \n",
       "69  ['cropped_host-a011_cam3_1236104051500995006_1...  \n",
       "79  ['cropped_host-a011_cam5_1232752550067719006_7...  \n",
       "89  ['cropped_host-a101_cam0_1242748836349526006_2...  "
      ]
     },
     "execution_count": 17,
     "metadata": {},
     "output_type": "execute_result"
    }
   ],
   "source": [
    "model_dir = os.path.join(user_path_prefix, r\"3d-object-detection-for-autonomous-vehicles\\Train\\models\")\n",
    "all_model_results_df = pd.read_csv(os.path.join(model_dir, \"all_model_results.csv\"))\n",
    "all_model_results_df\n",
    "final_epoch_results = all_model_results_df[all_model_results_df[\"epoch\"] == 9]\n",
    "final_epoch_results"
   ]
  },
  {
   "cell_type": "markdown",
   "metadata": {},
   "source": [
    "### If the model training went as expected, you should hopefully end up with output looking similar to the text below:"
   ]
  },
  {
   "cell_type": "code",
   "execution_count": 15,
   "metadata": {},
   "outputs": [
    {
     "data": {
      "text/plain": [
       "'\\nmodel_id_path\\tepoch\\tbatch_size\\tlearning_rate\\tfinal_loss\\tfinal_accuracy\\tfinal_precision\\tfinal_recall\\tfinal_F1\\tvalidation_loss\\tvalidation_accuracy\\tvalidation_precision\\tvalidation_recall\\tvalidation_F1\\tfalse_positive_images\\tfalse_negative_images\\n81\\tmodel_res50_epoch_9_batchsize_10_lr_0.0001.pth\\t9\\t10\\t0.0001.\\t0.008955\\t0.997315\\t0.990965\\t0.993147\\t0.992055\\tNone\\tNone\\tNone\\tNone\\tNone\\tNone\\tNone\\n82\\tmodel_res50_epoch_9_batchsize_10_lr_0.001.pth\\t9\\t10\\t0.001.\\t0.005681\\t0.998224\\t0.995102\\t0.994371\\t0.994736\\tNone\\tNone\\tNone\\tNone\\tNone\\tNone\\tNone\\n83\\tmodel_res50_epoch_9_batchsize_10_lr_0.01.pth\\t9\\t10\\t0.01.\\t0.033554\\t0.987236\\t0.958931\\t0.965737\\t0.962322\\tNone\\tNone\\tNone\\tNone\\tNone\\tNone\\tNone\\n84\\tmodel_res50_epoch_9_batchsize_32_lr_0.0001.pth\\t9\\t32\\t0.0001.\\t0.016930\\t0.994217\\t0.980985\\t0.984826\\t0.982902\\tNone\\tNone\\tNone\\tNone\\tNone\\tNone\\tNone\\n85\\tmodel_res50_epoch_9_batchsize_32_lr_0.001.pth\\t9\\t32\\t0.001.\\t0.012222\\t0.995415\\t0.986774\\t0.986050\\t0.986412\\tNone\\tNone\\tNone\\tNone\\tNone\\tNone\\tNone\\n86\\tmodel_res50_epoch_9_batchsize_32_lr_0.01.pth\\t9\\t32\\t0.01.\\t0.043471\\t0.984386\\t0.947826\\t0.960352\\t0.954048\\tNone\\tNone\\tNone\\tNone\\tNone\\tNone\\tNone\\n87\\tmodel_res50_epoch_9_batchsize_50_lr_0.0001.pth\\t9\\t50\\t0.0001.\\t0.035888\\t0.986575\\t0.953242\\t0.967939\\t0.960534\\tNone\\tNone\\tNone\\tNone\\tNone\\tNone\\tNone\\n88\\tmodel_res50_epoch_9_batchsize_50_lr_0.001.pth\\t9\\t50\\t0.001.\\t0.029320\\t0.989219\\t0.964763\\t0.971610\\t0.968175\\tNone\\tNone\\tNone\\tNone\\tNone\\tNone\\tNone\\n89\\tmodel_res50_epoch_9_batchsize_50_lr_0.01.pth\\t9\\t50\\t0.01.\\t0.068964\\t0.974514\\t0.915648\\t0.935144\\t0.925294\\tNone\\tNone\\tNone\\tNone\\tNone\\tNone\\tNone\\n'"
      ]
     },
     "execution_count": 15,
     "metadata": {},
     "output_type": "execute_result"
    }
   ],
   "source": [
    "\"\"\"\n",
    "model_id_name\tepoch\tbatch_size\tlearning_rate\tfinal_loss\tfinal_accuracy\tfinal_precision\tfinal_recall\tfinal_F1\tvalidation_loss\tvalidation_accuracy\tvalidation_precision\tvalidation_recall\tvalidation_F1\tfalse_positive_images\tfalse_negative_images\n",
    "81\tmodel_res50_epoch_9_batchsize_10_lr_0.0001.pth\t9\t10\t0.0001.\t0.008955\t0.997315\t0.990965\t0.993147\t0.992055\tNone\tNone\tNone\tNone\tNone\tNone\tNone\n",
    "82\tmodel_res50_epoch_9_batchsize_10_lr_0.001.pth\t9\t10\t0.001.\t0.005681\t0.998224\t0.995102\t0.994371\t0.994736\tNone\tNone\tNone\tNone\tNone\tNone\tNone\n",
    "83\tmodel_res50_epoch_9_batchsize_10_lr_0.01.pth\t9\t10\t0.01.\t0.033554\t0.987236\t0.958931\t0.965737\t0.962322\tNone\tNone\tNone\tNone\tNone\tNone\tNone\n",
    "84\tmodel_res50_epoch_9_batchsize_32_lr_0.0001.pth\t9\t32\t0.0001.\t0.016930\t0.994217\t0.980985\t0.984826\t0.982902\tNone\tNone\tNone\tNone\tNone\tNone\tNone\n",
    "85\tmodel_res50_epoch_9_batchsize_32_lr_0.001.pth\t9\t32\t0.001.\t0.012222\t0.995415\t0.986774\t0.986050\t0.986412\tNone\tNone\tNone\tNone\tNone\tNone\tNone\n",
    "86\tmodel_res50_epoch_9_batchsize_32_lr_0.01.pth\t9\t32\t0.01.\t0.043471\t0.984386\t0.947826\t0.960352\t0.954048\tNone\tNone\tNone\tNone\tNone\tNone\tNone\n",
    "87\tmodel_res50_epoch_9_batchsize_50_lr_0.0001.pth\t9\t50\t0.0001.\t0.035888\t0.986575\t0.953242\t0.967939\t0.960534\tNone\tNone\tNone\tNone\tNone\tNone\tNone\n",
    "88\tmodel_res50_epoch_9_batchsize_50_lr_0.001.pth\t9\t50\t0.001.\t0.029320\t0.989219\t0.964763\t0.971610\t0.968175\tNone\tNone\tNone\tNone\tNone\tNone\tNone\n",
    "89\tmodel_res50_epoch_9_batchsize_50_lr_0.01.pth\t9\t50\t0.01.\t0.068964\t0.974514\t0.915648\t0.935144\t0.925294\tNone\tNone\tNone\tNone\tNone\tNone\tNone\n",
    "\"\"\""
   ]
  },
  {
   "cell_type": "markdown",
   "metadata": {},
   "source": [
    "## Validation/Inference"
   ]
  },
  {
   "cell_type": "code",
   "execution_count": 6,
   "metadata": {},
   "outputs": [],
   "source": [
    "def validate_resnet50_classification(model_checkpoint, model_name_id, validation_images_dir, training_records_df_path, required_imgage_size=224, target_category_name=\"pedestrian\",\n",
    "                                  criterion=nn.CrossEntropyLoss()):\n",
    "    \"\"\"\n",
    "    Performs validation of a ResNet50 model on a specified dataset and records the metrics.\n",
    "\n",
    "    This function takes a trained model checkpoint, performs validation on a given dataset, and records various metrics like loss, accuracy, precision, recall, and F1 score. \n",
    "    It also identifies false positive and false negative images and records them.\n",
    "\n",
    "    Parameters:\n",
    "    -----------\n",
    "    model_checkpoint: The saved model checkpoint containing the state dictionary of the trained ResNet50 model.\n",
    "    model_name_id (str): Identifier for the model, used to match and record results in the training records DataFrame.\n",
    "    validation_images_dir (str): Path to the directory containing validation images.\n",
    "    training_records_df_path (str): Path to the CSV file where training records are stored and where validation results will be appended.\n",
    "    required_imgage_size (int, optional): Size that input images are expected to be in. Default is 224.\n",
    "    target_category_name (str, optional): The target category for classification. Default is \"pedestrian\".\n",
    "    criterion: Loss function used for validation. Default is `nn.CrossEntropyLoss()`.\n",
    "\n",
    "    Notes:\n",
    "    ------\n",
    "    - The function assumes the presence of a pre-trained model and a DataFrame (in CSV format) containing training records.\n",
    "    - Validation involves processing images through the model, calculating loss and other metrics.\n",
    "    - The function records the validation results (loss, accuracy, precision, recall, F1 score) in the training records DataFrame.\n",
    "    - Additionally, it identifies and records the paths of false positive and false negative images.\n",
    "    - The updated DataFrame with training and validation records is saved back to the specified path.\n",
    "    - This function is designed to work with a binary classification setting.\n",
    "    - It assumes that the input images are organized in a way that is compatible with the `Lyft_image_classification_CustomDataset` class.\n",
    "    \"\"\"\n",
    "\n",
    "    training_records_df = pd.read_csv(training_records_df_path).drop(columns=['Unnamed: 0'], errors='ignore')\n",
    "    #Create a fresh model instance and then import its state from the model_checkpoint.\n",
    "    model_res50 = models.resnet50(weights=ResNet50_Weights.IMAGENET1K_V1)\n",
    "    num_ftrs = model_res50.fc.in_features\n",
    "    # Modify the last layer for binary classification. This is because this was the architecture which was used for the training model.\n",
    "    model_res50.fc = nn.Linear(num_ftrs, 2)\n",
    "\n",
    "    #Load the state into the model instance.\n",
    "    model_res50.load_state_dict(model_checkpoint['model_state_dict'])\n",
    "    # Move model to device and set the model to evaluation mode\n",
    "    device = torch.device(\"cuda:0\" if torch.cuda.is_available() else \"cpu\")\n",
    "    model_res50.to(device)\n",
    "    model_res50.eval()\n",
    "\n",
    "    #Creat instances of our custom Dataset and subsequent default Dataloader\n",
    "    dataset = Lyft_image_classification_CustomDataset(validation_images_dir, target_category_name, required_imgage_size)\n",
    "    row_index = training_records_df[training_records_df[\"model_id_path\"] == model_name_id].index\n",
    "    batch_size = int(training_records_df.loc[row_index, \"batch_size\"].iloc[0])\n",
    "    dataloader = DataLoader(dataset, batch_size=batch_size, shuffle=True)\n",
    "\n",
    "    #Initialize metrics\n",
    "    running_loss = 0.0\n",
    "    running_corrects = 0\n",
    "    total_samples = 0\n",
    "    running_true_positives = 0\n",
    "    running_false_positives = 0\n",
    "    running_false_negatives = 0\n",
    "\n",
    "    #Holders for the incorrect prediction image paths.\n",
    "    false_positive_images = []\n",
    "    false_negative_images = []\n",
    "\n",
    "    # Disable gradient calculations as they are not needed for validation\n",
    "    with torch.no_grad():\n",
    "        for inputs, labels, image_names in dataloader:\n",
    "            inputs = inputs.to(device)\n",
    "            labels = labels.to(device)\n",
    "\n",
    "            # Forward pass\n",
    "            outputs = model_res50(inputs)\n",
    "            loss = criterion(outputs, labels)\n",
    "\n",
    "            # Statistics\n",
    "            running_loss += loss.item() * inputs.size(0)\n",
    "            _, preds = torch.max(outputs, 1)\n",
    "            running_corrects += torch.sum(preds == labels.data)\n",
    "            total_samples += labels.size(0)\n",
    "            # Calculate True Positives, False Positives, False Negatives\n",
    "            for i in range(len(labels)):\n",
    "                if preds[i] == labels[i] == 1:  # True Positive\n",
    "                    running_true_positives += 1\n",
    "                elif preds[i] == 1 and labels[i] == 0:  # False Positive\n",
    "                    running_false_positives += 1\n",
    "                    false_positive_images.append(image_names[i])\n",
    "                elif preds[i] == 0 and labels[i] == 1:  # False Negative\n",
    "                    running_false_negatives += 1\n",
    "                    false_negative_images.append(image_names[i])\n",
    "\n",
    "\n",
    "    # Calculate the average loss and accuracy over the validation set\n",
    "    val_loss = running_loss / total_samples\n",
    "    val_acc = running_corrects.double() / total_samples\n",
    "    val_acc = val_acc.item()\n",
    "    # Calculate Precision, Recall, and F1 Score after the loop\n",
    "    precision = running_true_positives / (running_true_positives + running_false_positives) if (running_true_positives + running_false_positives) > 0 else 0\n",
    "    recall = running_true_positives / (running_true_positives + running_false_negatives) if (running_true_positives + running_false_negatives) > 0 else 0\n",
    "    f1_score = 2 * (precision * recall) / (precision + recall) if (precision + recall) > 0 else 0\n",
    "\n",
    "    print(f'Validation Loss: {val_loss:.4f} Precision: {precision:.4f} Recall: {recall:.4f} F1 Score: {f1_score:.4f} Acc: {val_acc:.4f}')\n",
    "\n",
    "    #Write the validation output to the corresponding row/col of training_records_df\n",
    "    # Reminder: training_records_df[condition][\"column\"] = value can lead to a SettingWithCopyWarning in pandas.\n",
    "    # Find the row index, and use .loc[] instead.\n",
    "    row_index = training_records_df[training_records_df[\"model_id_path\"] == model_name_id].index\n",
    "    training_records_df.loc[row_index, \"validation_loss\"] = val_loss\n",
    "    training_records_df.loc[row_index, \"validation_accuracy\"] = val_acc\n",
    "    training_records_df.loc[row_index, \"validation_precision\"] = precision\n",
    "    training_records_df.loc[row_index, \"validation_recall\"] = recall\n",
    "    training_records_df.loc[row_index, \"validation_F1\"] = f1_score\n",
    "    \n",
    "    false_positive_images_str = str(false_positive_images)\n",
    "    false_negative_images_str = str(false_negative_images)\n",
    "    training_records_df.loc[row_index, \"false_positive_images\"] = false_positive_images_str\n",
    "    training_records_df.loc[row_index, \"false_negative_images\"] = false_negative_images_str\n",
    "\n",
    "    training_records_df.to_csv(training_records_df_path, index=False)\n"
   ]
  },
  {
   "cell_type": "code",
   "execution_count": 18,
   "metadata": {},
   "outputs": [],
   "source": [
    "models_to_validate = list(final_epoch_results[\"model_id_path\"].values)\n",
    "model_dir = os.path.join(user_path_prefix, r\"3d-object-detection-for-autonomous-vehicles\\Train\\models\")\n",
    "validation_images_dir = os.path.join(user_path_prefix, r\"3d-object-detection-for-autonomous-vehicles\\Train\\images\\Image_Classification\\validation_cropped_images\\224\")\n",
    "training_records_df_path = os.path.join(model_dir, \"all_model_results.csv\")\n",
    "required_imgage_size = 224\n",
    "target_category_name = \"pedestrian\""
   ]
  },
  {
   "cell_type": "markdown",
   "metadata": {},
   "source": [
    "### If you do not want to perform Validation and want to skip to the validation results that come with the reporistory, you may skip the next cell."
   ]
  },
  {
   "cell_type": "code",
   "execution_count": 1,
   "metadata": {},
   "outputs": [],
   "source": [
    "for model_name in models_to_validate:\n",
    "    print(model_name)\n",
    "    checkpoint = torch.load(os.path.join(model_dir, model_name))\n",
    "    validate_resnet50_classification(checkpoint, model_name, validation_images_dir, training_records_df_path, required_imgage_size, target_category_name)"
   ]
  },
  {
   "cell_type": "markdown",
   "metadata": {},
   "source": [
    "## Validation/Inference Results"
   ]
  },
  {
   "cell_type": "code",
   "execution_count": 19,
   "metadata": {},
   "outputs": [
    {
     "data": {
      "text/html": [
       "<div>\n",
       "<style scoped>\n",
       "    .dataframe tbody tr th:only-of-type {\n",
       "        vertical-align: middle;\n",
       "    }\n",
       "\n",
       "    .dataframe tbody tr th {\n",
       "        vertical-align: top;\n",
       "    }\n",
       "\n",
       "    .dataframe thead th {\n",
       "        text-align: right;\n",
       "    }\n",
       "</style>\n",
       "<table border=\"1\" class=\"dataframe\">\n",
       "  <thead>\n",
       "    <tr style=\"text-align: right;\">\n",
       "      <th></th>\n",
       "      <th>model_id_path</th>\n",
       "      <th>epoch</th>\n",
       "      <th>batch_size</th>\n",
       "      <th>learning_rate</th>\n",
       "      <th>final_loss</th>\n",
       "      <th>final_accuracy</th>\n",
       "      <th>final_precision</th>\n",
       "      <th>final_recall</th>\n",
       "      <th>final_F1</th>\n",
       "      <th>validation_loss</th>\n",
       "      <th>validation_accuracy</th>\n",
       "      <th>validation_precision</th>\n",
       "      <th>validation_recall</th>\n",
       "      <th>validation_F1</th>\n",
       "      <th>false_positive_images</th>\n",
       "      <th>false_negative_images</th>\n",
       "    </tr>\n",
       "  </thead>\n",
       "  <tbody>\n",
       "    <tr>\n",
       "      <th>9</th>\n",
       "      <td>model_res50_epoch_9_batchsize_10_lr_0.0001.pth</td>\n",
       "      <td>9</td>\n",
       "      <td>10</td>\n",
       "      <td>0.0001.</td>\n",
       "      <td>0.008955</td>\n",
       "      <td>0.997315</td>\n",
       "      <td>0.990965</td>\n",
       "      <td>0.993147</td>\n",
       "      <td>0.992055</td>\n",
       "      <td>0.091312</td>\n",
       "      <td>0.972572</td>\n",
       "      <td>0.866940</td>\n",
       "      <td>0.930258</td>\n",
       "      <td>0.897483</td>\n",
       "      <td>[cropped_host-a102_cam5_1242754969332234006_1a...</td>\n",
       "      <td>[cropped_host-a011_cam2_1233688946717605006_b4...</td>\n",
       "    </tr>\n",
       "    <tr>\n",
       "      <th>19</th>\n",
       "      <td>model_res50_epoch_9_batchsize_10_lr_0.001.pth</td>\n",
       "      <td>9</td>\n",
       "      <td>10</td>\n",
       "      <td>0.001.</td>\n",
       "      <td>0.005681</td>\n",
       "      <td>0.998224</td>\n",
       "      <td>0.995102</td>\n",
       "      <td>0.994371</td>\n",
       "      <td>0.994736</td>\n",
       "      <td>0.159119</td>\n",
       "      <td>0.962968</td>\n",
       "      <td>0.800370</td>\n",
       "      <td>0.950027</td>\n",
       "      <td>0.868801</td>\n",
       "      <td>[cropped_host-a007_cam3_1231093059199360006_50...</td>\n",
       "      <td>[cropped_host-a011_cam0_1232752780051142006_d3...</td>\n",
       "    </tr>\n",
       "    <tr>\n",
       "      <th>29</th>\n",
       "      <td>model_res50_epoch_9_batchsize_10_lr_0.01.pth</td>\n",
       "      <td>9</td>\n",
       "      <td>10</td>\n",
       "      <td>0.01.</td>\n",
       "      <td>0.033554</td>\n",
       "      <td>0.987236</td>\n",
       "      <td>0.958931</td>\n",
       "      <td>0.965737</td>\n",
       "      <td>0.962322</td>\n",
       "      <td>0.089225</td>\n",
       "      <td>0.970375</td>\n",
       "      <td>0.863472</td>\n",
       "      <td>0.915157</td>\n",
       "      <td>0.888563</td>\n",
       "      <td>[cropped_host-a101_cam1_1242748999766305006_67...</td>\n",
       "      <td>[cropped_host-a011_cam0_1232752781651142006_aa...</td>\n",
       "    </tr>\n",
       "    <tr>\n",
       "      <th>39</th>\n",
       "      <td>model_res50_epoch_9_batchsize_32_lr_0.0001.pth</td>\n",
       "      <td>9</td>\n",
       "      <td>32</td>\n",
       "      <td>0.0001.</td>\n",
       "      <td>0.016930</td>\n",
       "      <td>0.994217</td>\n",
       "      <td>0.980985</td>\n",
       "      <td>0.984826</td>\n",
       "      <td>0.982902</td>\n",
       "      <td>0.091628</td>\n",
       "      <td>0.969630</td>\n",
       "      <td>0.841383</td>\n",
       "      <td>0.942339</td>\n",
       "      <td>0.889004</td>\n",
       "      <td>[cropped_host-a101_cam6_1240875137450000006_97...</td>\n",
       "      <td>[cropped_host-a101_cam6_1240875138650000006_7e...</td>\n",
       "    </tr>\n",
       "    <tr>\n",
       "      <th>49</th>\n",
       "      <td>model_res50_epoch_9_batchsize_32_lr_0.001.pth</td>\n",
       "      <td>9</td>\n",
       "      <td>32</td>\n",
       "      <td>0.001.</td>\n",
       "      <td>0.012222</td>\n",
       "      <td>0.995415</td>\n",
       "      <td>0.986774</td>\n",
       "      <td>0.986050</td>\n",
       "      <td>0.986412</td>\n",
       "      <td>0.162003</td>\n",
       "      <td>0.961196</td>\n",
       "      <td>0.795407</td>\n",
       "      <td>0.941516</td>\n",
       "      <td>0.862316</td>\n",
       "      <td>[cropped_host-a101_cam6_1240875147050000006_2a...</td>\n",
       "      <td>[cropped_host-a004_cam0_1232923267651064006_d5...</td>\n",
       "    </tr>\n",
       "    <tr>\n",
       "      <th>59</th>\n",
       "      <td>model_res50_epoch_9_batchsize_32_lr_0.01.pth</td>\n",
       "      <td>9</td>\n",
       "      <td>32</td>\n",
       "      <td>0.01.</td>\n",
       "      <td>0.043471</td>\n",
       "      <td>0.984386</td>\n",
       "      <td>0.947826</td>\n",
       "      <td>0.960352</td>\n",
       "      <td>0.954048</td>\n",
       "      <td>0.074976</td>\n",
       "      <td>0.971012</td>\n",
       "      <td>0.862423</td>\n",
       "      <td>0.922570</td>\n",
       "      <td>0.891483</td>\n",
       "      <td>[cropped_host-a101_cam4_1240875154416660006_b5...</td>\n",
       "      <td>[cropped_host-a004_cam1_1235947105534300006_e4...</td>\n",
       "    </tr>\n",
       "    <tr>\n",
       "      <th>69</th>\n",
       "      <td>model_res50_epoch_9_batchsize_50_lr_0.0001.pth</td>\n",
       "      <td>9</td>\n",
       "      <td>50</td>\n",
       "      <td>0.0001.</td>\n",
       "      <td>0.035888</td>\n",
       "      <td>0.986575</td>\n",
       "      <td>0.953242</td>\n",
       "      <td>0.967939</td>\n",
       "      <td>0.960534</td>\n",
       "      <td>0.080530</td>\n",
       "      <td>0.971615</td>\n",
       "      <td>0.861175</td>\n",
       "      <td>0.929984</td>\n",
       "      <td>0.894257</td>\n",
       "      <td>[cropped_host-a101_cam6_1240875137450000006_97...</td>\n",
       "      <td>[cropped_host-a011_cam3_1236104051500995006_15...</td>\n",
       "    </tr>\n",
       "    <tr>\n",
       "      <th>79</th>\n",
       "      <td>model_res50_epoch_9_batchsize_50_lr_0.001.pth</td>\n",
       "      <td>9</td>\n",
       "      <td>50</td>\n",
       "      <td>0.001.</td>\n",
       "      <td>0.029320</td>\n",
       "      <td>0.989219</td>\n",
       "      <td>0.964763</td>\n",
       "      <td>0.971610</td>\n",
       "      <td>0.968175</td>\n",
       "      <td>0.089566</td>\n",
       "      <td>0.971119</td>\n",
       "      <td>0.847212</td>\n",
       "      <td>0.947007</td>\n",
       "      <td>0.894334</td>\n",
       "      <td>[cropped_host-a102_cam3_1242754977999260006_d1...</td>\n",
       "      <td>[cropped_host-a011_cam5_1232752550067719006_71...</td>\n",
       "    </tr>\n",
       "    <tr>\n",
       "      <th>89</th>\n",
       "      <td>model_res50_epoch_9_batchsize_50_lr_0.01.pth</td>\n",
       "      <td>9</td>\n",
       "      <td>50</td>\n",
       "      <td>0.01.</td>\n",
       "      <td>0.068964</td>\n",
       "      <td>0.974514</td>\n",
       "      <td>0.915648</td>\n",
       "      <td>0.935144</td>\n",
       "      <td>0.925294</td>\n",
       "      <td>0.114841</td>\n",
       "      <td>0.956058</td>\n",
       "      <td>0.759732</td>\n",
       "      <td>0.964580</td>\n",
       "      <td>0.849988</td>\n",
       "      <td>[cropped_host-a101_cam2_1242749002782945006_6c...</td>\n",
       "      <td>[cropped_host-a101_cam0_1242748836349526006_2d...</td>\n",
       "    </tr>\n",
       "  </tbody>\n",
       "</table>\n",
       "</div>"
      ],
      "text/plain": [
       "                                     model_id_path  epoch  batch_size  \\\n",
       "9   model_res50_epoch_9_batchsize_10_lr_0.0001.pth      9          10   \n",
       "19   model_res50_epoch_9_batchsize_10_lr_0.001.pth      9          10   \n",
       "29    model_res50_epoch_9_batchsize_10_lr_0.01.pth      9          10   \n",
       "39  model_res50_epoch_9_batchsize_32_lr_0.0001.pth      9          32   \n",
       "49   model_res50_epoch_9_batchsize_32_lr_0.001.pth      9          32   \n",
       "59    model_res50_epoch_9_batchsize_32_lr_0.01.pth      9          32   \n",
       "69  model_res50_epoch_9_batchsize_50_lr_0.0001.pth      9          50   \n",
       "79   model_res50_epoch_9_batchsize_50_lr_0.001.pth      9          50   \n",
       "89    model_res50_epoch_9_batchsize_50_lr_0.01.pth      9          50   \n",
       "\n",
       "   learning_rate  final_loss  final_accuracy  final_precision  final_recall  \\\n",
       "9        0.0001.    0.008955        0.997315         0.990965      0.993147   \n",
       "19        0.001.    0.005681        0.998224         0.995102      0.994371   \n",
       "29         0.01.    0.033554        0.987236         0.958931      0.965737   \n",
       "39       0.0001.    0.016930        0.994217         0.980985      0.984826   \n",
       "49        0.001.    0.012222        0.995415         0.986774      0.986050   \n",
       "59         0.01.    0.043471        0.984386         0.947826      0.960352   \n",
       "69       0.0001.    0.035888        0.986575         0.953242      0.967939   \n",
       "79        0.001.    0.029320        0.989219         0.964763      0.971610   \n",
       "89         0.01.    0.068964        0.974514         0.915648      0.935144   \n",
       "\n",
       "    final_F1  validation_loss  validation_accuracy  validation_precision  \\\n",
       "9   0.992055         0.091312             0.972572              0.866940   \n",
       "19  0.994736         0.159119             0.962968              0.800370   \n",
       "29  0.962322         0.089225             0.970375              0.863472   \n",
       "39  0.982902         0.091628             0.969630              0.841383   \n",
       "49  0.986412         0.162003             0.961196              0.795407   \n",
       "59  0.954048         0.074976             0.971012              0.862423   \n",
       "69  0.960534         0.080530             0.971615              0.861175   \n",
       "79  0.968175         0.089566             0.971119              0.847212   \n",
       "89  0.925294         0.114841             0.956058              0.759732   \n",
       "\n",
       "    validation_recall  validation_F1  \\\n",
       "9            0.930258       0.897483   \n",
       "19           0.950027       0.868801   \n",
       "29           0.915157       0.888563   \n",
       "39           0.942339       0.889004   \n",
       "49           0.941516       0.862316   \n",
       "59           0.922570       0.891483   \n",
       "69           0.929984       0.894257   \n",
       "79           0.947007       0.894334   \n",
       "89           0.964580       0.849988   \n",
       "\n",
       "                                false_positive_images  \\\n",
       "9   [cropped_host-a102_cam5_1242754969332234006_1a...   \n",
       "19  [cropped_host-a007_cam3_1231093059199360006_50...   \n",
       "29  [cropped_host-a101_cam1_1242748999766305006_67...   \n",
       "39  [cropped_host-a101_cam6_1240875137450000006_97...   \n",
       "49  [cropped_host-a101_cam6_1240875147050000006_2a...   \n",
       "59  [cropped_host-a101_cam4_1240875154416660006_b5...   \n",
       "69  [cropped_host-a101_cam6_1240875137450000006_97...   \n",
       "79  [cropped_host-a102_cam3_1242754977999260006_d1...   \n",
       "89  [cropped_host-a101_cam2_1242749002782945006_6c...   \n",
       "\n",
       "                                false_negative_images  \n",
       "9   [cropped_host-a011_cam2_1233688946717605006_b4...  \n",
       "19  [cropped_host-a011_cam0_1232752780051142006_d3...  \n",
       "29  [cropped_host-a011_cam0_1232752781651142006_aa...  \n",
       "39  [cropped_host-a101_cam6_1240875138650000006_7e...  \n",
       "49  [cropped_host-a004_cam0_1232923267651064006_d5...  \n",
       "59  [cropped_host-a004_cam1_1235947105534300006_e4...  \n",
       "69  [cropped_host-a011_cam3_1236104051500995006_15...  \n",
       "79  [cropped_host-a011_cam5_1232752550067719006_71...  \n",
       "89  [cropped_host-a101_cam0_1242748836349526006_2d...  "
      ]
     },
     "execution_count": 19,
     "metadata": {},
     "output_type": "execute_result"
    }
   ],
   "source": [
    "validation_results_df = pd.read_csv(training_records_df_path).drop(columns=['Unnamed: 0'], errors='ignore')\n",
    "validation_results_df = validation_results_df[validation_results_df[\"epoch\"] == 9]\n",
    "# Convert string representations to actual lists\n",
    "validation_results_df['false_positive_images'] = validation_results_df['false_positive_images'].apply(ast.literal_eval)\n",
    "validation_results_df['false_negative_images'] = validation_results_df['false_negative_images'].apply(ast.literal_eval)\n",
    "validation_results_df"
   ]
  },
  {
   "cell_type": "markdown",
   "metadata": {},
   "source": [
    "### F1 Score heatmap. Each box in our heatmap corresponds to the F1 Score of model that was trained with the ith-jth hyper parameter."
   ]
  },
  {
   "cell_type": "code",
   "execution_count": 23,
   "metadata": {},
   "outputs": [
    {
     "data": {
      "image/png": "[encoded data removed]",
      "text/plain": [
       "<Figure size 800x600 with 2 Axes>"
      ]
     },
     "metadata": {},
     "output_type": "display_data"
    }
   ],
   "source": [
    "#Code below generated with ChatGPT 4\n",
    "# Pivot the DataFrame to create a grid\n",
    "pivot_df = validation_results_df.pivot(index='batch_size', columns='learning_rate', values='validation_F1')\n",
    "\n",
    "# Creating the heatmap\n",
    "plt.figure(figsize=(8, 6))\n",
    "# Using numpy to create an array of the pivot data\n",
    "data_array = pivot_df.to_numpy()\n",
    "\n",
    "# The columns and rows to display\n",
    "col_labels = pivot_df.columns.values\n",
    "row_labels = pivot_df.index.values\n",
    "\n",
    "# Creating the plot\n",
    "c = plt.pcolormesh(data_array, cmap='RdPu', shading='auto')\n",
    "\n",
    "# Adding color bar\n",
    "plt.colorbar(c)\n",
    "\n",
    "# Adding titles and labels\n",
    "plt.title('F1 Score Heatmap by Batch Size and Learning Rate')\n",
    "plt.xlabel('Learning Rate')\n",
    "plt.ylabel('Batch Size')\n",
    "\n",
    "# Adjusting the ticks to be at the center of each cell\n",
    "plt.xticks(np.arange(0.5, len(col_labels), 1), col_labels, rotation=45)\n",
    "plt.yticks(np.arange(0.5, len(row_labels), 1), row_labels)\n",
    "\n",
    "# Add text annotations\n",
    "for (i, j), val in np.ndenumerate(data_array):\n",
    "    plt.text(j + 0.5, i + 0.5, f\"{val:.4f}\", ha='center', va='center', color='black')\n",
    "\n",
    "# Show plot\n",
    "plt.show()"
   ]
  },
  {
   "cell_type": "markdown",
   "metadata": {},
   "source": [
    "### Next, let's explore which images our model wrongly classified as Pedestrian and which images it wrongly classified as non-pedestrian."
   ]
  },
  {
   "cell_type": "code",
   "execution_count": 25,
   "metadata": {},
   "outputs": [],
   "source": [
    "def false_positive_negative_finder(images_path, false_positive_negative_counts, print_sample_images=True):\n",
    "    \"\"\"\n",
    "    Analyzes and aggregates the count of false positives or false negatives by category,\n",
    "    and optionally displays the first three images of each category using the PIL Image class.\n",
    "\n",
    "    This function traverses through a directory structure to find specific image files \n",
    "    and counts the occurrence of each category based on the provided false positive or \n",
    "    false negative counts. If 'print_sample_images' is set to True, it also displays the \n",
    "    first three images in each category.\n",
    "\n",
    "    Parameters:\n",
    "    -----------\n",
    "    images_path (str): The base path where images are stored in categorized subdirectories.\n",
    "    false_positive_negative_counts (dict): A dictionary where keys are image names and values are \n",
    "                                  counts of false positives or false negatives for those images.\n",
    "    print_sample_images (bool, optional): If True, displays the first three images for each category. Default is True.\n",
    "\n",
    "    Returns:\n",
    "    --------\n",
    "    pandas.DataFrame: A DataFrame with two columns - 'Category' and 'Count'. Each row represents \n",
    "                      a category and the number of times it was incorrectly classified \n",
    "                      (either as a false positive or false negative).\n",
    "\n",
    "    Notes:\n",
    "    ------\n",
    "    - The function expects images to be stored in a specific directory structure: \n",
    "      'images_path' should contain subdirectories for each category, and each subdirectory \n",
    "      should contain the respective images.\n",
    "    - The image names in 'false_positive_negative_counts' should correspond to the actual image files, \n",
    "      minus the file extension.\n",
    "    - The function uses regex to extract the category name from the file path. It is designed \n",
    "      to work with a specific path format and may need adjustments for different directory structures.\n",
    "    - If a file is not found in the expected subdirectories, a message is printed to indicate this.\n",
    "    - When 'print_sample_images' is True, the first three images of each category are displayed using \n",
    "      the PIL Image class and matplotlib.\n",
    "    \"\"\"\n",
    "    \n",
    "    category_counts = {}\n",
    "    sample_images = {category: [] for category in category_counts}\n",
    "\n",
    "    for image_name, image_count in false_positive_negative_counts.items():\n",
    "        # Iterate over the subdirectories in the base path\n",
    "        for subdir in os.listdir(images_path):\n",
    "            subdir_path = os.path.join(images_path, subdir)\n",
    "            \n",
    "            # Check if the path is a directory\n",
    "            if os.path.isdir(subdir_path):\n",
    "                # Construct the potential full path of the file\n",
    "                potential_file_path = os.path.join(subdir_path, image_name + \".jpeg\")\n",
    "                # Check if the file exists at this path\n",
    "                if os.path.isfile(potential_file_path):\n",
    "                    match = re.search(r'validation_cropped_images\\\\(\\d+)\\\\([^\\\\]+)\\\\', potential_file_path)\n",
    "                    if match:\n",
    "                        category_name = match.group(2)\n",
    "                        if category_name in category_counts:\n",
    "                            category_counts[category_name] += 1\n",
    "                            if len(sample_images[category_name]) < 3:\n",
    "                                sample_images[category_name].append(potential_file_path)\n",
    "                        else:\n",
    "                            category_counts[category_name] = 1\n",
    "                            sample_images[category_name] = [potential_file_path]\n",
    "            else:\n",
    "                print(f\"File {image_name} not found in the immediate subdirectories of {subdir_path}.\")\n",
    "\n",
    "    # Sorting and optionally displaying sample images\n",
    "    category_counts_df = pd.DataFrame.from_dict(category_counts, orient=\"index\", columns=['Count'])\n",
    "    category_counts_df = category_counts_df.reset_index().rename(columns={'index': 'Category'}).sort_values(\"Count\", ascending=False)\n",
    "\n",
    "    if print_sample_images:\n",
    "        for category, images in sample_images.items():\n",
    "            print(f\"\\nCategory: {category}\")\n",
    "            for img_path in images:\n",
    "                print(f\"Displaying Image: {img_path}\")\n",
    "                img = Image.open(img_path)\n",
    "                plt.imshow(img)\n",
    "                plt.show()\n",
    "\n",
    "    return category_counts_df"
   ]
  },
  {
   "cell_type": "code",
   "execution_count": 26,
   "metadata": {},
   "outputs": [],
   "source": [
    "false_positive_images = [img for sublist in validation_results_df[\"false_positive_images\"] for img in sublist]\n",
    "false_positive_counts = Counter(false_positive_images)\n",
    "\n",
    "false_negative_images = [img for sublist in validation_results_df[\"false_negative_images\"] for img in sublist]\n",
    "false_negative_counts = Counter(false_negative_images)\n",
    "\n",
    "images_path = os.path.join(user_path_prefix, r\"3d-object-detection-for-autonomous-vehicles\\Train\\images\\Image_Classification\\validation_cropped_images\\224\")\n",
    "\n",
    "#Set print_sample_images to True if you want to see some examples of incorrectly classified images.\n",
    "test_false_pos_classes = false_positive_negative_finder(images_path, false_positive_counts, print_sample_images=False)"
   ]
  },
  {
   "cell_type": "code",
   "execution_count": 27,
   "metadata": {},
   "outputs": [
    {
     "data": {
      "text/html": [
       "<div>\n",
       "<style scoped>\n",
       "    .dataframe tbody tr th:only-of-type {\n",
       "        vertical-align: middle;\n",
       "    }\n",
       "\n",
       "    .dataframe tbody tr th {\n",
       "        vertical-align: top;\n",
       "    }\n",
       "\n",
       "    .dataframe thead th {\n",
       "        text-align: right;\n",
       "    }\n",
       "</style>\n",
       "<table border=\"1\" class=\"dataframe\">\n",
       "  <thead>\n",
       "    <tr style=\"text-align: right;\">\n",
       "      <th></th>\n",
       "      <th>Category</th>\n",
       "      <th>Count</th>\n",
       "    </tr>\n",
       "  </thead>\n",
       "  <tbody>\n",
       "    <tr>\n",
       "      <th>3</th>\n",
       "      <td>bicycle</td>\n",
       "      <td>882</td>\n",
       "    </tr>\n",
       "    <tr>\n",
       "      <th>1</th>\n",
       "      <td>truck</td>\n",
       "      <td>342</td>\n",
       "    </tr>\n",
       "    <tr>\n",
       "      <th>0</th>\n",
       "      <td>other_vehicle</td>\n",
       "      <td>249</td>\n",
       "    </tr>\n",
       "    <tr>\n",
       "      <th>2</th>\n",
       "      <td>bus</td>\n",
       "      <td>155</td>\n",
       "    </tr>\n",
       "    <tr>\n",
       "      <th>5</th>\n",
       "      <td>emergency</td>\n",
       "      <td>16</td>\n",
       "    </tr>\n",
       "    <tr>\n",
       "      <th>4</th>\n",
       "      <td>motorcycle</td>\n",
       "      <td>10</td>\n",
       "    </tr>\n",
       "  </tbody>\n",
       "</table>\n",
       "</div>"
      ],
      "text/plain": [
       "        Category  Count\n",
       "3        bicycle    882\n",
       "1          truck    342\n",
       "0  other_vehicle    249\n",
       "2            bus    155\n",
       "5      emergency     16\n",
       "4     motorcycle     10"
      ]
     },
     "execution_count": 27,
     "metadata": {},
     "output_type": "execute_result"
    }
   ],
   "source": [
    "test_false_pos_classes"
   ]
  },
  {
   "cell_type": "markdown",
   "metadata": {},
   "source": [
    "#### Visualize our model's incorrect predictions by object category."
   ]
  },
  {
   "cell_type": "code",
   "execution_count": 20,
   "metadata": {},
   "outputs": [
    {
     "data": {
      "application/vnd.plotly.v1+json": {
       "config": {
        "plotlyServerURL": "https://plot.ly"
       },
       "data": [
        {
         "domain": {
          "x": [
           0,
           1
          ],
          "y": [
           0,
           1
          ]
         },
         "hole": 0.3,
         "hovertemplate": "Category=%{label}<br>Count=%{value}<extra></extra>",
         "labels": [
          "bicycle",
          "truck",
          "other_vehicle",
          "bus",
          "emergency",
          "motorcycle"
         ],
         "legendgroup": "",
         "name": "",
         "showlegend": true,
         "type": "pie",
         "values": [
          882,
          342,
          249,
          155,
          16,
          10
         ]
        }
       ],
       "layout": {
        "height": 600,
        "legend": {
         "tracegroupgap": 0
        },
        "template": {
         "data": {
          "bar": [
           {
            "error_x": {
             "color": "#2a3f5f"
            },
            "error_y": {
             "color": "#2a3f5f"
            },
            "marker": {
             "line": {
              "color": "#E5ECF6",
              "width": 0.5
             },
             "pattern": {
              "fillmode": "overlay",
              "size": 10,
              "solidity": 0.2
             }
            },
            "type": "bar"
           }
          ],
          "barpolar": [
           {
            "marker": {
             "line": {
              "color": "#E5ECF6",
              "width": 0.5
             },
             "pattern": {
              "fillmode": "overlay",
              "size": 10,
              "solidity": 0.2
             }
            },
            "type": "barpolar"
           }
          ],
          "carpet": [
           {
            "aaxis": {
             "endlinecolor": "#2a3f5f",
             "gridcolor": "white",
             "linecolor": "white",
             "minorgridcolor": "white",
             "startlinecolor": "#2a3f5f"
            },
            "baxis": {
             "endlinecolor": "#2a3f5f",
             "gridcolor": "white",
             "linecolor": "white",
             "minorgridcolor": "white",
             "startlinecolor": "#2a3f5f"
            },
            "type": "carpet"
           }
          ],
          "choropleth": [
           {
            "colorbar": {
             "outlinewidth": 0,
             "ticks": ""
            },
            "type": "choropleth"
           }
          ],
          "contour": [
           {
            "colorbar": {
             "outlinewidth": 0,
             "ticks": ""
            },
            "colorscale": [
             [
              0,
              "#0d0887"
             ],
             [
              0.1111111111111111,
              "#46039f"
             ],
             [
              0.2222222222222222,
              "#7201a8"
             ],
             [
              0.3333333333333333,
              "#9c179e"
             ],
             [
              0.4444444444444444,
              "#bd3786"
             ],
             [
              0.5555555555555556,
              "#d8576b"
             ],
             [
              0.6666666666666666,
              "#ed7953"
             ],
             [
              0.7777777777777778,
              "#fb9f3a"
             ],
             [
              0.8888888888888888,
              "#fdca26"
             ],
             [
              1,
              "#f0f921"
             ]
            ],
            "type": "contour"
           }
          ],
          "contourcarpet": [
           {
            "colorbar": {
             "outlinewidth": 0,
             "ticks": ""
            },
            "type": "contourcarpet"
           }
          ],
          "heatmap": [
           {
            "colorbar": {
             "outlinewidth": 0,
             "ticks": ""
            },
            "colorscale": [
             [
              0,
              "#0d0887"
             ],
             [
              0.1111111111111111,
              "#46039f"
             ],
             [
              0.2222222222222222,
              "#7201a8"
             ],
             [
              0.3333333333333333,
              "#9c179e"
             ],
             [
              0.4444444444444444,
              "#bd3786"
             ],
             [
              0.5555555555555556,
              "#d8576b"
             ],
             [
              0.6666666666666666,
              "#ed7953"
             ],
             [
              0.7777777777777778,
              "#fb9f3a"
             ],
             [
              0.8888888888888888,
              "#fdca26"
             ],
             [
              1,
              "#f0f921"
             ]
            ],
            "type": "heatmap"
           }
          ],
          "heatmapgl": [
           {
            "colorbar": {
             "outlinewidth": 0,
             "ticks": ""
            },
            "colorscale": [
             [
              0,
              "#0d0887"
             ],
             [
              0.1111111111111111,
              "#46039f"
             ],
             [
              0.2222222222222222,
              "#7201a8"
             ],
             [
              0.3333333333333333,
              "#9c179e"
             ],
             [
              0.4444444444444444,
              "#bd3786"
             ],
             [
              0.5555555555555556,
              "#d8576b"
             ],
             [
              0.6666666666666666,
              "#ed7953"
             ],
             [
              0.7777777777777778,
              "#fb9f3a"
             ],
             [
              0.8888888888888888,
              "#fdca26"
             ],
             [
              1,
              "#f0f921"
             ]
            ],
            "type": "heatmapgl"
           }
          ],
          "histogram": [
           {
            "marker": {
             "pattern": {
              "fillmode": "overlay",
              "size": 10,
              "solidity": 0.2
             }
            },
            "type": "histogram"
           }
          ],
          "histogram2d": [
           {
            "colorbar": {
             "outlinewidth": 0,
             "ticks": ""
            },
            "colorscale": [
             [
              0,
              "#0d0887"
             ],
             [
              0.1111111111111111,
              "#46039f"
             ],
             [
              0.2222222222222222,
              "#7201a8"
             ],
             [
              0.3333333333333333,
              "#9c179e"
             ],
             [
              0.4444444444444444,
              "#bd3786"
             ],
             [
              0.5555555555555556,
              "#d8576b"
             ],
             [
              0.6666666666666666,
              "#ed7953"
             ],
             [
              0.7777777777777778,
              "#fb9f3a"
             ],
             [
              0.8888888888888888,
              "#fdca26"
             ],
             [
              1,
              "#f0f921"
             ]
            ],
            "type": "histogram2d"
           }
          ],
          "histogram2dcontour": [
           {
            "colorbar": {
             "outlinewidth": 0,
             "ticks": ""
            },
            "colorscale": [
             [
              0,
              "#0d0887"
             ],
             [
              0.1111111111111111,
              "#46039f"
             ],
             [
              0.2222222222222222,
              "#7201a8"
             ],
             [
              0.3333333333333333,
              "#9c179e"
             ],
             [
              0.4444444444444444,
              "#bd3786"
             ],
             [
              0.5555555555555556,
              "#d8576b"
             ],
             [
              0.6666666666666666,
              "#ed7953"
             ],
             [
              0.7777777777777778,
              "#fb9f3a"
             ],
             [
              0.8888888888888888,
              "#fdca26"
             ],
             [
              1,
              "#f0f921"
             ]
            ],
            "type": "histogram2dcontour"
           }
          ],
          "mesh3d": [
           {
            "colorbar": {
             "outlinewidth": 0,
             "ticks": ""
            },
            "type": "mesh3d"
           }
          ],
          "parcoords": [
           {
            "line": {
             "colorbar": {
              "outlinewidth": 0,
              "ticks": ""
             }
            },
            "type": "parcoords"
           }
          ],
          "pie": [
           {
            "automargin": true,
            "type": "pie"
           }
          ],
          "scatter": [
           {
            "fillpattern": {
             "fillmode": "overlay",
             "size": 10,
             "solidity": 0.2
            },
            "type": "scatter"
           }
          ],
          "scatter3d": [
           {
            "line": {
             "colorbar": {
              "outlinewidth": 0,
              "ticks": ""
             }
            },
            "marker": {
             "colorbar": {
              "outlinewidth": 0,
              "ticks": ""
             }
            },
            "type": "scatter3d"
           }
          ],
          "scattercarpet": [
           {
            "marker": {
             "colorbar": {
              "outlinewidth": 0,
              "ticks": ""
             }
            },
            "type": "scattercarpet"
           }
          ],
          "scattergeo": [
           {
            "marker": {
             "colorbar": {
              "outlinewidth": 0,
              "ticks": ""
             }
            },
            "type": "scattergeo"
           }
          ],
          "scattergl": [
           {
            "marker": {
             "colorbar": {
              "outlinewidth": 0,
              "ticks": ""
             }
            },
            "type": "scattergl"
           }
          ],
          "scattermapbox": [
           {
            "marker": {
             "colorbar": {
              "outlinewidth": 0,
              "ticks": ""
             }
            },
            "type": "scattermapbox"
           }
          ],
          "scatterpolar": [
           {
            "marker": {
             "colorbar": {
              "outlinewidth": 0,
              "ticks": ""
             }
            },
            "type": "scatterpolar"
           }
          ],
          "scatterpolargl": [
           {
            "marker": {
             "colorbar": {
              "outlinewidth": 0,
              "ticks": ""
             }
            },
            "type": "scatterpolargl"
           }
          ],
          "scatterternary": [
           {
            "marker": {
             "colorbar": {
              "outlinewidth": 0,
              "ticks": ""
             }
            },
            "type": "scatterternary"
           }
          ],
          "surface": [
           {
            "colorbar": {
             "outlinewidth": 0,
             "ticks": ""
            },
            "colorscale": [
             [
              0,
              "#0d0887"
             ],
             [
              0.1111111111111111,
              "#46039f"
             ],
             [
              0.2222222222222222,
              "#7201a8"
             ],
             [
              0.3333333333333333,
              "#9c179e"
             ],
             [
              0.4444444444444444,
              "#bd3786"
             ],
             [
              0.5555555555555556,
              "#d8576b"
             ],
             [
              0.6666666666666666,
              "#ed7953"
             ],
             [
              0.7777777777777778,
              "#fb9f3a"
             ],
             [
              0.8888888888888888,
              "#fdca26"
             ],
             [
              1,
              "#f0f921"
             ]
            ],
            "type": "surface"
           }
          ],
          "table": [
           {
            "cells": {
             "fill": {
              "color": "#EBF0F8"
             },
             "line": {
              "color": "white"
             }
            },
            "header": {
             "fill": {
              "color": "#C8D4E3"
             },
             "line": {
              "color": "white"
             }
            },
            "type": "table"
           }
          ]
         },
         "layout": {
          "annotationdefaults": {
           "arrowcolor": "#2a3f5f",
           "arrowhead": 0,
           "arrowwidth": 1
          },
          "autotypenumbers": "strict",
          "coloraxis": {
           "colorbar": {
            "outlinewidth": 0,
            "ticks": ""
           }
          },
          "colorscale": {
           "diverging": [
            [
             0,
             "#8e0152"
            ],
            [
             0.1,
             "#c51b7d"
            ],
            [
             0.2,
             "#de77ae"
            ],
            [
             0.3,
             "#f1b6da"
            ],
            [
             0.4,
             "#fde0ef"
            ],
            [
             0.5,
             "#f7f7f7"
            ],
            [
             0.6,
             "#e6f5d0"
            ],
            [
             0.7,
             "#b8e186"
            ],
            [
             0.8,
             "#7fbc41"
            ],
            [
             0.9,
             "#4d9221"
            ],
            [
             1,
             "#276419"
            ]
           ],
           "sequential": [
            [
             0,
             "#0d0887"
            ],
            [
             0.1111111111111111,
             "#46039f"
            ],
            [
             0.2222222222222222,
             "#7201a8"
            ],
            [
             0.3333333333333333,
             "#9c179e"
            ],
            [
             0.4444444444444444,
             "#bd3786"
            ],
            [
             0.5555555555555556,
             "#d8576b"
            ],
            [
             0.6666666666666666,
             "#ed7953"
            ],
            [
             0.7777777777777778,
             "#fb9f3a"
            ],
            [
             0.8888888888888888,
             "#fdca26"
            ],
            [
             1,
             "#f0f921"
            ]
           ],
           "sequentialminus": [
            [
             0,
             "#0d0887"
            ],
            [
             0.1111111111111111,
             "#46039f"
            ],
            [
             0.2222222222222222,
             "#7201a8"
            ],
            [
             0.3333333333333333,
             "#9c179e"
            ],
            [
             0.4444444444444444,
             "#bd3786"
            ],
            [
             0.5555555555555556,
             "#d8576b"
            ],
            [
             0.6666666666666666,
             "#ed7953"
            ],
            [
             0.7777777777777778,
             "#fb9f3a"
            ],
            [
             0.8888888888888888,
             "#fdca26"
            ],
            [
             1,
             "#f0f921"
            ]
           ]
          },
          "colorway": [
           "#636efa",
           "#EF553B",
           "#00cc96",
           "#ab63fa",
           "#FFA15A",
           "#19d3f3",
           "#FF6692",
           "#B6E880",
           "#FF97FF",
           "#FECB52"
          ],
          "font": {
           "color": "#2a3f5f"
          },
          "geo": {
           "bgcolor": "white",
           "lakecolor": "white",
           "landcolor": "#E5ECF6",
           "showlakes": true,
           "showland": true,
           "subunitcolor": "white"
          },
          "hoverlabel": {
           "align": "left"
          },
          "hovermode": "closest",
          "mapbox": {
           "style": "light"
          },
          "paper_bgcolor": "white",
          "plot_bgcolor": "#E5ECF6",
          "polar": {
           "angularaxis": {
            "gridcolor": "white",
            "linecolor": "white",
            "ticks": ""
           },
           "bgcolor": "#E5ECF6",
           "radialaxis": {
            "gridcolor": "white",
            "linecolor": "white",
            "ticks": ""
           }
          },
          "scene": {
           "xaxis": {
            "backgroundcolor": "#E5ECF6",
            "gridcolor": "white",
            "gridwidth": 2,
            "linecolor": "white",
            "showbackground": true,
            "ticks": "",
            "zerolinecolor": "white"
           },
           "yaxis": {
            "backgroundcolor": "#E5ECF6",
            "gridcolor": "white",
            "gridwidth": 2,
            "linecolor": "white",
            "showbackground": true,
            "ticks": "",
            "zerolinecolor": "white"
           },
           "zaxis": {
            "backgroundcolor": "#E5ECF6",
            "gridcolor": "white",
            "gridwidth": 2,
            "linecolor": "white",
            "showbackground": true,
            "ticks": "",
            "zerolinecolor": "white"
           }
          },
          "shapedefaults": {
           "line": {
            "color": "#2a3f5f"
           }
          },
          "ternary": {
           "aaxis": {
            "gridcolor": "white",
            "linecolor": "white",
            "ticks": ""
           },
           "baxis": {
            "gridcolor": "white",
            "linecolor": "white",
            "ticks": ""
           },
           "bgcolor": "#E5ECF6",
           "caxis": {
            "gridcolor": "white",
            "linecolor": "white",
            "ticks": ""
           }
          },
          "title": {
           "x": 0.05
          },
          "xaxis": {
           "automargin": true,
           "gridcolor": "white",
           "linecolor": "white",
           "ticks": "",
           "title": {
            "standoff": 15
           },
           "zerolinecolor": "white",
           "zerolinewidth": 2
          },
          "yaxis": {
           "automargin": true,
           "gridcolor": "white",
           "linecolor": "white",
           "ticks": "",
           "title": {
            "standoff": 15
           },
           "zerolinecolor": "white",
           "zerolinewidth": 2
          }
         }
        },
        "title": {
         "text": "False positive categories incorrectly classified as Pedestrian"
        },
        "width": 600
       }
      }
     },
     "metadata": {},
     "output_type": "display_data"
    }
   ],
   "source": [
    "# Create the pie chart\n",
    "fig_false_positives = px.pie(test_false_pos_classes, names='Category', values='Count', \n",
    "             title=\"False positive categories incorrectly classified as Pedestrian\",\n",
    "             hole=0.3)  # Optional: creates a donut-like pie chart\n",
    "\n",
    "# Adjust the aspect ratio to make the plot more square\n",
    "fig_false_positives.update_layout(width=600, height=600)"
   ]
  },
  {
   "cell_type": "markdown",
   "metadata": {},
   "source": [
    "### Lastly, before switching over to Object Detection, lets visualize the first Convolutional layer of one of our trained models. There is no particular reason for doing this, but I wanted to add it to the workflow for educational purposes."
   ]
  },
  {
   "cell_type": "markdown",
   "metadata": {},
   "source": [
    "#### We will have to create a model instance and load our checkpoint into it. Let's just choose the model with the highest F1 score, but you could pick any model."
   ]
  },
  {
   "cell_type": "code",
   "execution_count": 4,
   "metadata": {},
   "outputs": [],
   "source": [
    "#Create a fresh model instance and then import its state from the model_checkpoint.\n",
    "model_res50 = models.resnet50(weights=ResNet50_Weights.IMAGENET1K_V1)\n",
    "num_ftrs = model_res50.fc.in_features\n",
    "# Modify the last layer for binary classification. This is because this was the architecture which was used for the training model.\n",
    "model_res50.fc = nn.Linear(num_ftrs, 2)\n",
    "\n",
    "training_records_df = pd.read_csv(training_records_df_path).drop(columns=['Unnamed: 0'], errors='ignore')\n",
    "max_f1_model = training_records_df[\"validation_F1\"].idxmax()\n",
    "model_choice = training_records_df.loc[max_f1_model][\"model_id_path\"]\n",
    "\n",
    "#Load the state into the model instance.\n",
    "model_dir = os.path.join(user_path_prefix, r\"3d-object-detection-for-autonomous-vehicles\\Train\\models\")\n",
    "model_checkpoint = torch.load(os.path.join(model_dir, model_choice))\n",
    "model_res50.load_state_dict(model_checkpoint['model_state_dict'])\n",
    "#print out the contents of the model. We will display the very first layer below.\n",
    "model_res50"
   ]
  },
  {
   "cell_type": "markdown",
   "metadata": {},
   "source": [
    "#### Visualize the output of the first layer which is a convolution layer with kernel 7x7."
   ]
  },
  {
   "cell_type": "code",
   "execution_count": 32,
   "metadata": {},
   "outputs": [
    {
     "name": "stdout",
     "output_type": "stream",
     "text": [
      "tensor([[[0.6077, 0.5518, 0.5796, 0.5976, 0.6440, 0.6634, 0.6656],\n",
      "         [0.6394, 0.5745, 0.5799, 0.5696, 0.6486, 0.7045, 0.6843],\n",
      "         [0.6711, 0.6032, 0.5895, 0.5740, 0.6657, 0.7130, 0.6840],\n",
      "         [0.6164, 0.5533, 0.5666, 0.5544, 0.6394, 0.6668, 0.6448],\n",
      "         [0.5606, 0.4905, 0.5030, 0.4661, 0.5461, 0.5912, 0.5932],\n",
      "         [0.5787, 0.5157, 0.5690, 0.5412, 0.5792, 0.6103, 0.6136],\n",
      "         [0.5293, 0.4745, 0.5165, 0.5084, 0.5494, 0.5956, 0.6252]],\n",
      "\n",
      "        [[0.4596, 0.3862, 0.4135, 0.4489, 0.5084, 0.5719, 0.5956],\n",
      "         [0.4798, 0.3699, 0.3779, 0.3844, 0.4921, 0.6220, 0.6263],\n",
      "         [0.4980, 0.3552, 0.3509, 0.3715, 0.5282, 0.6406, 0.6344],\n",
      "         [0.4294, 0.3078, 0.3258, 0.3501, 0.5065, 0.5995, 0.5997],\n",
      "         [0.4090, 0.2759, 0.2969, 0.2764, 0.4154, 0.5212, 0.5397],\n",
      "         [0.4783, 0.3881, 0.4482, 0.4430, 0.5032, 0.5740, 0.5782],\n",
      "         [0.4497, 0.3879, 0.4508, 0.4627, 0.5128, 0.5905, 0.6141]],\n",
      "\n",
      "        [[0.5628, 0.5297, 0.5561, 0.5796, 0.6286, 0.6583, 0.6659],\n",
      "         [0.5725, 0.5509, 0.5656, 0.5647, 0.6275, 0.6994, 0.6898],\n",
      "         [0.5790, 0.5483, 0.5499, 0.5661, 0.6515, 0.7206, 0.7013],\n",
      "         [0.5447, 0.5266, 0.5372, 0.5509, 0.6362, 0.6889, 0.6667],\n",
      "         [0.5212, 0.5022, 0.5249, 0.5272, 0.5849, 0.6268, 0.6100],\n",
      "         [0.5625, 0.5443, 0.6040, 0.6034, 0.6327, 0.6523, 0.6345],\n",
      "         [0.5365, 0.5194, 0.5861, 0.5940, 0.6385, 0.6653, 0.6665]]])\n",
      "tensor([[[0.6077, 0.4596, 0.5628],\n",
      "         [0.5518, 0.3862, 0.5297],\n",
      "         [0.5796, 0.4135, 0.5561],\n",
      "         [0.5976, 0.4489, 0.5796],\n",
      "         [0.6440, 0.5084, 0.6286],\n",
      "         [0.6634, 0.5719, 0.6583],\n",
      "         [0.6656, 0.5956, 0.6659]],\n",
      "\n",
      "        [[0.6394, 0.4798, 0.5725],\n",
      "         [0.5745, 0.3699, 0.5509],\n",
      "         [0.5799, 0.3779, 0.5656],\n",
      "         [0.5696, 0.3844, 0.5647],\n",
      "         [0.6486, 0.4921, 0.6275],\n",
      "         [0.7045, 0.6220, 0.6994],\n",
      "         [0.6843, 0.6263, 0.6898]],\n",
      "\n",
      "        [[0.6711, 0.4980, 0.5790],\n",
      "         [0.6032, 0.3552, 0.5483],\n",
      "         [0.5895, 0.3509, 0.5499],\n",
      "         [0.5740, 0.3715, 0.5661],\n",
      "         [0.6657, 0.5282, 0.6515],\n",
      "         [0.7130, 0.6406, 0.7206],\n",
      "         [0.6840, 0.6344, 0.7013]],\n",
      "\n",
      "        [[0.6164, 0.4294, 0.5447],\n",
      "         [0.5533, 0.3078, 0.5266],\n",
      "         [0.5666, 0.3258, 0.5372],\n",
      "         [0.5544, 0.3501, 0.5509],\n",
      "         [0.6394, 0.5065, 0.6362],\n",
      "         [0.6668, 0.5995, 0.6889],\n",
      "         [0.6448, 0.5997, 0.6667]],\n",
      "\n",
      "        [[0.5606, 0.4090, 0.5212],\n",
      "         [0.4905, 0.2759, 0.5022],\n",
      "         [0.5030, 0.2969, 0.5249],\n",
      "         [0.4661, 0.2764, 0.5272],\n",
      "         [0.5461, 0.4154, 0.5849],\n",
      "         [0.5912, 0.5212, 0.6268],\n",
      "         [0.5932, 0.5397, 0.6100]],\n",
      "\n",
      "        [[0.5787, 0.4783, 0.5625],\n",
      "         [0.5157, 0.3881, 0.5443],\n",
      "         [0.5690, 0.4482, 0.6040],\n",
      "         [0.5412, 0.4430, 0.6034],\n",
      "         [0.5792, 0.5032, 0.6327],\n",
      "         [0.6103, 0.5740, 0.6523],\n",
      "         [0.6136, 0.5782, 0.6345]],\n",
      "\n",
      "        [[0.5293, 0.4497, 0.5365],\n",
      "         [0.4745, 0.3879, 0.5194],\n",
      "         [0.5165, 0.4508, 0.5861],\n",
      "         [0.5084, 0.4627, 0.5940],\n",
      "         [0.5494, 0.5128, 0.6385],\n",
      "         [0.5956, 0.5905, 0.6653],\n",
      "         [0.6252, 0.6141, 0.6665]]])\n"
     ]
    },
    {
     "data": {
      "image/png": "[encoded data removed]",
      "text/plain": [
       "<Figure size 2000x1700 with 64 Axes>"
      ]
     },
     "metadata": {},
     "output_type": "display_data"
    }
   ],
   "source": [
    "# Ensure it's in evaluation mode for visualization\n",
    "model_res50.eval()  # This changes the model to evaluation mode\n",
    "\n",
    "# Get the weights of the first convolutional layer\n",
    "weights = model_res50.conv1.weight.data.cpu()\n",
    "\n",
    "# Normalize the weights for better visualization\n",
    "weights = (weights - weights.min()) / (weights.max() - weights.min())\n",
    "print(weights[0])\n",
    "print(weights[0].permute(1, 2, 0))\n",
    "# Plot the first few filters\n",
    "plt.figure(figsize=(20, 17))\n",
    "for i in range(64):  # Let's visualize 64 filters\n",
    "    plt.subplot(8, 8, i + 1)\n",
    "    plt.imshow(weights[i].permute(1, 2, 0))  # Rearrange the dimensions\n",
    "    plt.axis('off')\n",
    "plt.show()"
   ]
  },
  {
   "cell_type": "markdown",
   "metadata": {},
   "source": [
    "# Object Detection"
   ]
  },
  {
   "cell_type": "markdown",
   "metadata": {},
   "source": [
    "## WARNING: Object Detection is not yet fully built out. Certain operations packaged into their own functions for Image Classification have not yet been done for Object Detection. The Object Detection training loop is functional, but it currently operates on very large images. More work is needed before this portion of the code base will function properly."
   ]
  },
  {
   "cell_type": "markdown",
   "metadata": {},
   "source": [
    "## Import FasterRCNN model."
   ]
  },
  {
   "cell_type": "code",
   "execution_count": 33,
   "metadata": {},
   "outputs": [
    {
     "name": "stdout",
     "output_type": "stream",
     "text": [
      "cuda:0\n"
     ]
    }
   ],
   "source": [
    "# Load a pre-trained fasterrcnn_mobilenet_v3_large_fpn model\n",
    "model_fastercnn = fasterrcnn_resnet50_fpn(weights=FasterRCNN_ResNet50_FPN_Weights.DEFAULT)\n",
    "\n",
    "# Replace the classifier with a new one for binary classification (background + pedestrian)\n",
    "num_classes = 2  # 1 class (pedestrian) + background\n",
    "# Get the number of input features for the classifier\n",
    "in_features = model_fastercnn.roi_heads.box_predictor.cls_score.in_features\n",
    "# Replace the pre-trained head with a new one (note: this automatically changes the anchor generator to match the backbone)\n",
    "model_fastercnn.roi_heads.box_predictor = FastRCNNPredictor(in_features, num_classes)\n",
    "\n",
    "device = torch.device(\"cuda:0\" if torch.cuda.is_available() else \"cpu\")\n",
    "print(device)\n",
    "model_fastercnn = model_fastercnn.to(device)"
   ]
  },
  {
   "cell_type": "markdown",
   "metadata": {},
   "source": [
    "## Create our Dataset and Dataloader objects for object detection"
   ]
  },
  {
   "cell_type": "markdown",
   "metadata": {},
   "source": [
    "### Define Custom Collate function and IoU function. IoU is used in Object Detection in order to determine if a proposed bounding box deliniates the object well enough wrt the ground truth box."
   ]
  },
  {
   "cell_type": "code",
   "execution_count": 34,
   "metadata": {},
   "outputs": [],
   "source": [
    "#Generated by ChatGPT 4\n",
    "def collate_fn(batch):\n",
    "    \"\"\"\n",
    "    Custom collate function for handling varying sizes of bounding boxes and labels.\n",
    "    \"\"\"\n",
    "    batch = list(filter(lambda x: x is not None, batch))\n",
    "    if not batch:\n",
    "        return torch.tensor([]), {}\n",
    "\n",
    "    images = [item[0] for item in batch]\n",
    "    targets = [item[1] for item in batch]\n",
    "\n",
    "    images = default_collate(images)  # Stack images as they should have the same size\n",
    "    # Do not stack targets as they can have varying sizes\n",
    "    return images, targets\n",
    "\n",
    "#Code below created with ChatGPT 4\n",
    "def calculate_iou(box1, box2):\n",
    "    \"\"\"\n",
    "    Calculate the Intersection over Union (IoU) of two bounding boxes.\n",
    "\n",
    "    Parameters:\n",
    "    box1 (list of floats): bounding box in format [x_min, y_min, x_max, y_max].\n",
    "    box2 (list of floats): bounding box in format [x_min, y_min, x_max, y_max].\n",
    "\n",
    "    Returns:\n",
    "    float: IoU of box1 and box2.\n",
    "    \"\"\"\n",
    "\n",
    "    # Determine the coordinates of the intersection rectangle\n",
    "    x_left = max(box1[0], box2[0])\n",
    "    y_top = max(box1[1], box2[1])\n",
    "    x_right = min(box1[2], box2[2])\n",
    "    y_bottom = min(box1[3], box2[3])\n",
    "\n",
    "    # Check if there is no overlap\n",
    "    if x_right < x_left or y_bottom < y_top:\n",
    "        return 0.0\n",
    "\n",
    "    # Calculate area of intersection rectangle\n",
    "    intersection_area = (x_right - x_left) * (y_bottom - y_top)\n",
    "\n",
    "    # Calculate area of both bounding boxes\n",
    "    box1_area = (box1[2] - box1[0]) * (box1[3] - box1[1])\n",
    "    box2_area = (box2[2] - box2[0]) * (box2[3] - box2[1])\n",
    "\n",
    "    # Calculate combined area\n",
    "    total_area = box1_area + box2_area - intersection_area\n",
    "\n",
    "    # Compute IoU\n",
    "    iou = intersection_area / total_area\n",
    "\n",
    "    return iou"
   ]
  },
  {
   "cell_type": "markdown",
   "metadata": {},
   "source": [
    "### Below we create our Dataset and DataLoaders for both our training loop and validation loop. Currently, both training and validation are in the same loop, and it's implementation is not yet sufficient for proper usage. Updates to come."
   ]
  },
  {
   "cell_type": "code",
   "execution_count": 8,
   "metadata": {},
   "outputs": [
    {
     "name": "stdout",
     "output_type": "stream",
     "text": [
      "total number of training batches to anticipate:  331.2 Dataset total length:  3312\n",
      "total number of validation batches to anticipate:  621.9 Dataset total length:  6219\n",
      "dict_keys(['host-a004_cam0_1232817652451064006.jpeg', 'host-a004_cam3_1232817653800897006.jpeg', 'host-a004_cam1_1232825405634300006.jpeg', 'host-a004_cam3_1232817653600897006.jpeg', 'host-a004_cam2_1232825406817652006.jpeg', 'host-a004_cam1_1232825406034300006.jpeg', 'host-a004_cam2_1232825406417652006.jpeg', 'host-a004_cam1_1232825405834300006.jpeg', 'host-a004_cam2_1232825406617652006.jpeg', 'host-a004_cam1_1232825405434300006.jpeg', 'host-a004_cam1_1232817652634300006.jpeg', 'host-a004_cam0_1232817652251064006.jpeg', 'host-a011_cam2_1233087928217605006.jpeg', 'host-a011_cam2_1233087928017605006.jpeg', 'host-a011_cam1_1233087927834517006.jpeg', 'host-a011_cam1_1233087927434517006.jpeg', 'host-a011_cam1_1233087927634517006.jpeg', 'host-a102_cam2_1241468929483330006.jpeg', 'host-a101_cam1_1241886992566660006.jpeg', 'host-a009_cam2_1236014660417752006.jpeg', 'host-a004_cam1_1232815266434300006.jpeg', 'host-a009_cam1_1236014659034319006.jpeg', 'host-a008_cam4_1235777226184403006.jpeg', 'host-a004_cam1_1232815266034300006.jpeg', 'host-a011_cam1_1232839940434517006.jpeg', 'host-a009_cam2_1236014660217752006.jpeg', 'host-a011_cam2_1232839943017605006.jpeg', 'host-a009_cam1_1236014651834319006.jpeg', 'host-a011_cam2_1233964385917605006.jpeg', 'host-a004_cam6_1232815262850948006.jpeg', 'host-a101_cam1_1241886992766660006.jpeg', 'host-a009_cam1_1236014659434319006.jpeg', 'host-a008_cam2_1235776307117906006.jpeg', 'host-a102_cam3_1241468930300000006.jpeg', 'host-a009_cam4_1236014673084403006.jpeg', 'host-a008_cam2_1235776307917906006.jpeg', 'host-a009_cam2_1236014660617752006.jpeg', 'host-a008_cam4_1235777225984403006.jpeg', 'host-a009_cam1_1236014652234319006.jpeg', 'host-a008_cam1_1235776304134433006.jpeg', 'host-a009_cam1_1236014653834319006.jpeg', 'host-a009_cam1_1236014657034319006.jpeg', 'host-a009_cam1_1236014652034319006.jpeg', 'host-a008_cam1_1235776296534433006.jpeg', 'host-a009_cam1_1236014650434319006.jpeg', 'host-a008_cam2_1235776306917906006.jpeg', 'host-a006_cam1_1236037887834412006.jpeg', 'host-a101_cam1_1241472411966660006.jpeg', 'host-a101_cam2_1241886993183330006.jpeg', 'host-a009_cam1_1236014650834319006.jpeg', 'host-a009_cam1_1236014653634319006.jpeg', 'host-a102_cam3_1241468929600000006.jpeg', 'host-a102_cam2_1241468929683330006.jpeg', 'host-a011_cam1_1233964383934517006.jpeg', 'host-a101_cam1_1241886992166660006.jpeg', 'host-a009_cam2_1236014660817752006.jpeg', 'host-a004_cam2_1232815267817652006.jpeg', 'host-a008_cam1_1235776303934433006.jpeg', 'host-a009_cam1_1236014653434319006.jpeg', 'host-a008_cam2_1235776305917906006.jpeg', 'host-a102_cam2_1241468928483330006.jpeg', 'host-a011_cam2_1232485959117605006.jpeg', 'host-a102_cam0_1241468927050000006.jpeg', 'host-a011_cam3_1232839943600995006.jpeg', 'host-a008_cam2_1235776306717906006.jpeg', 'host-a101_cam1_1241886991566660006.jpeg', 'host-a101_cam0_1241886991550000006.jpeg', 'host-a009_cam1_1236014649434319006.jpeg', 'host-a011_cam2_1232839941817605006.jpeg', 'host-a011_cam1_1232839941834517006.jpeg', 'host-a004_cam6_1233011767250948006.jpeg', 'host-a008_cam4_1235777232384403006.jpeg', 'host-a101_cam1_1241472411566660006.jpeg', 'host-a009_cam1_1236014651434319006.jpeg', 'host-a011_cam1_1233964384134517006.jpeg', 'host-a008_cam4_1235777225784403006.jpeg', 'host-a009_cam1_1236014659634319006.jpeg', 'host-a008_cam2_1235776308717906006.jpeg', 'host-a009_cam1_1236014648634319006.jpeg', 'host-a009_cam2_1236014661017752006.jpeg', 'host-a009_cam1_1236014654034319006.jpeg', 'host-a011_cam2_1232839943217605006.jpeg', 'host-a102_cam1_1241468927466660006.jpeg', 'host-a011_cam2_1232485959317605006.jpeg', 'host-a009_cam1_1236014650634319006.jpeg', 'host-a008_cam4_1235777231984403006.jpeg', 'host-a101_cam1_1241472411766660006.jpeg', 'host-a011_cam2_1233964385717605006.jpeg', 'host-a006_cam1_1236037888034412006.jpeg', 'host-a101_cam2_1241886993583330006.jpeg', 'host-a008_cam6_1235776303551058006.jpeg', 'host-a009_cam2_1236014661617752006.jpeg', 'host-a011_cam1_1232839940634517006.jpeg', 'host-a008_cam4_1235777231384403006.jpeg', 'host-a011_cam2_1232485958917605006.jpeg', 'host-a009_cam2_1236014660017752006.jpeg', 'host-a006_cam0_1236038154050935006.jpeg', 'host-a011_cam2_1232839943417605006.jpeg', 'host-a011_cam3_1232839943400995006.jpeg', 'host-a009_cam1_1236014658634319006.jpeg', 'host-a008_cam1_1235776296734433006.jpeg', 'host-a101_cam6_1241889720250000006.jpeg', 'host-a102_cam2_1241468929283330006.jpeg', 'host-a011_cam2_1232839942217605006.jpeg', 'host-a008_cam2_1235776308317906006.jpeg', 'host-a008_cam4_1235777231784403006.jpeg', 'host-a008_cam2_1235776307717906006.jpeg', 'host-a101_cam1_1241472412366660006.jpeg', 'host-a009_cam1_1236014658034319006.jpeg', 'host-a011_cam1_1232839941434517006.jpeg', 'host-a011_cam2_1232839941417605006.jpeg', 'host-a008_cam5_1235777229967733006.jpeg', 'host-a009_cam1_1236014657834319006.jpeg', 'host-a008_cam4_1235777232184403006.jpeg', 'host-a102_cam1_1241468927666660006.jpeg', 'host-a011_cam1_1232839941234517006.jpeg', 'host-a006_cam0_1236038142250935006.jpeg', 'host-a009_cam1_1236014658234319006.jpeg', 'host-a004_cam2_1233616001117652006.jpeg', 'host-a004_cam2_1233616001317652006.jpeg', 'host-a004_cam3_1232815268200897006.jpeg', 'host-a008_cam2_1235776307517906006.jpeg', 'host-a011_cam0_1232839940051142006.jpeg', 'host-a009_cam1_1236014653034319006.jpeg', 'host-a011_cam2_1232839942617605006.jpeg', 'host-a004_cam2_1232815267417652006.jpeg', 'host-a101_cam2_1241472412183330006.jpeg', 'host-a101_cam1_1241472412166660006.jpeg', 'host-a011_cam1_1233964384334517006.jpeg', 'host-a008_cam5_1235777229767733006.jpeg', 'host-a009_cam1_1236014649634319006.jpeg', 'host-a009_cam1_1236014651034319006.jpeg', 'host-a004_cam1_1233616000134300006.jpeg', 'host-a101_cam2_1241886992983330006.jpeg', 'host-a101_cam1_1241886992966660006.jpeg', 'host-a004_cam6_1232815262450948006.jpeg', 'host-a011_cam0_1232839940251142006.jpeg', 'host-a009_cam1_1236014651634319006.jpeg', 'host-a009_cam1_1236014650234319006.jpeg', 'host-a101_cam1_1241886992366660006.jpeg', 'host-a009_cam2_1236014661217752006.jpeg', 'host-a101_cam1_1241472411366660006.jpeg', 'host-a008_cam2_1235776308917906006.jpeg', 'host-a009_cam1_1236014657434319006.jpeg', 'host-a102_cam1_1241468928266660006.jpeg', 'host-a006_cam0_1236038154250935006.jpeg', 'host-a009_cam1_1236014651234319006.jpeg', 'host-a011_cam1_1232839940834517006.jpeg', 'host-a008_cam1_1235776295934433006.jpeg', 'host-a011_cam2_1232839942817605006.jpeg', 'host-a009_cam1_1236014649234319006.jpeg', 'host-a008_cam2_1235776307317906006.jpeg', 'host-a008_cam4_1235777231584403006.jpeg', 'host-a006_cam1_1236037887634412006.jpeg', 'host-a009_cam1_1236014649834319006.jpeg', 'host-a009_cam1_1236014658434319006.jpeg', 'host-a004_cam1_1233615999934300006.jpeg', 'host-a102_cam1_1241468927866660006.jpeg', 'host-a008_cam1_1235776303734433006.jpeg', 'host-a009_cam2_1236013308217752006.jpeg', 'host-a102_cam2_1241468928683330006.jpeg', 'host-a008_cam1_1235776296334433006.jpeg', 'host-a011_cam2_1232839942017605006.jpeg', 'host-a011_cam1_1232839942034517006.jpeg', 'host-a004_cam1_1233615999734300006.jpeg', 'host-a009_cam1_1236014652634319006.jpeg', 'host-a008_cam5_1235777229567733006.jpeg', 'host-a011_cam1_1232839941034517006.jpeg', 'host-a101_cam1_1241886991766660006.jpeg', 'host-a004_cam6_1232815262650948006.jpeg', 'host-a102_cam2_1241468929083330006.jpeg', 'host-a009_cam1_1236014649034319006.jpeg', 'host-a008_cam2_1235776309017906006.jpeg', 'host-a006_cam0_1236038142450935006.jpeg', 'host-a008_cam5_1235777230167733006.jpeg', 'host-a008_cam2_1235776308517906006.jpeg', 'host-a009_cam2_1236014661817752006.jpeg', 'host-a004_cam2_1232815267617652006.jpeg', 'host-a004_cam1_1233615999334300006.jpeg', 'host-a011_cam2_1233964385117605006.jpeg', 'host-a009_cam1_1236013307234319006.jpeg', 'host-a009_cam1_1236014650034319006.jpeg', 'host-a006_cam0_1236038154450935006.jpeg', 'host-a008_cam0_1235776299751171006.jpeg', 'host-a006_cam1_1236038155434412006.jpeg', 'host-a008_cam1_1235776296134433006.jpeg', 'host-a101_cam6_1241889719850000006.jpeg', 'host-a008_cam4_1235777232784403006.jpeg', 'host-a008_cam2_1235776306517906006.jpeg', 'host-a011_cam1_1233964384534517006.jpeg', 'host-a009_cam1_1236014652834319006.jpeg', 'host-a009_cam1_1236014648834319006.jpeg', 'host-a004_cam2_1233616001717652006.jpeg', 'host-a009_cam2_1236013308417752006.jpeg', 'host-a008_cam6_1235776303351058006.jpeg', 'host-a011_cam2_1232485958717605006.jpeg', 'host-a102_cam1_1241468928066660006.jpeg', 'host-a009_cam2_1236014661417752006.jpeg', 'host-a011_cam2_1232839941617605006.jpeg', 'host-a011_cam1_1232839941634517006.jpeg', 'host-a009_cam1_1236014653234319006.jpeg', 'host-a009_cam1_1236014652434319006.jpeg', 'host-a004_cam3_1232815268000897006.jpeg', 'host-a008_cam2_1235776306317906006.jpeg', 'host-a101_cam2_1241886993783330006.jpeg', 'host-a011_cam2_1233964385317605006.jpeg', 'host-a011_cam3_1232839942400995006.jpeg', 'host-a011_cam2_1232839942417605006.jpeg', 'host-a009_cam1_1236014659834319006.jpeg', 'host-a009_cam1_1236014658834319006.jpeg', 'host-a008_cam4_1235777232584403006.jpeg', 'host-a009_cam1_1236014648434319006.jpeg', 'host-a011_cam2_1233964385517605006.jpeg', 'host-a004_cam2_1233616001517652006.jpeg', 'host-a008_cam4_1235777226584403006.jpeg', 'host-a008_cam2_1235776308117906006.jpeg', 'host-a101_cam1_1241886991966660006.jpeg', 'host-a008_cam1_1235776296934433006.jpeg', 'host-a009_cam1_1236014657234319006.jpeg', 'host-a004_cam1_1232815266234300006.jpeg', 'host-a004_cam2_1232815267217652006.jpeg', 'host-a009_cam1_1236014657634319006.jpeg', 'host-a008_cam2_1235776306117906006.jpeg', 'host-a004_cam2_1232815267017652006.jpeg', 'host-a101_cam0_1241886991350000006.jpeg', 'host-a009_cam1_1236014648234319006.jpeg', 'host-a009_cam1_1236014659234319006.jpeg', 'host-a102_cam0_1241468927250000006.jpeg', 'host-a102_cam1_1241468927266660006.jpeg', 'host-a004_cam1_1233615999534300006.jpeg', 'host-a011_cam2_1233964386117605006.jpeg', 'host-a009_cam2_1236014662017752006.jpeg', 'host-a008_cam4_1235777226384403006.jpeg', 'host-a008_cam0_1235776299551171006.jpeg', 'host-a004_cam1_1232815265834300006.jpeg', 'host-a004_cam6_1232815262250948006.jpeg', 'host-a101_cam6_1241889720850000006.jpeg', 'host-a101_cam6_1240875146050000006.jpeg', 'host-a011_cam1_1232909946334517006.jpeg', 'host-a101_cam6_1240875146850000006.jpeg', 'host-a011_cam3_1233512851000995006.jpeg', 'host-a101_cam6_1240875147250000006.jpeg', 'host-a004_cam1_1232905200334300006.jpeg', 'host-a101_cam2_1242748991582545006.jpeg', 'host-a004_cam2_1232842380217652006.jpeg', 'host-a004_cam2_1232842381017652006.jpeg', 'host-a011_cam2_1233524888817605006.jpeg', 'host-a101_cam2_1242749002982945006.jpeg', 'host-a101_cam6_1240875147050000006.jpeg', 'host-a007_cam1_1233079633434286006.jpeg', 'host-a101_cam6_1240875141250000006.jpeg', 'host-a101_cam2_1242748995582545006.jpeg', 'host-a011_cam5_1232752550467719006.jpeg', 'host-a004_cam1_1235947081334300006.jpeg', 'host-a011_cam1_1233524888234517006.jpeg', 'host-a101_cam3_1242748818699215006.jpeg', 'host-a101_cam2_1242748990982545006.jpeg', 'host-a101_cam0_1240875150850000006.jpeg', 'host-a101_cam6_1240875139850000006.jpeg', 'host-a101_cam6_1240875145050000006.jpeg', 'host-a101_cam2_1242748994782545006.jpeg', 'host-a007_cam1_1233079632834286006.jpeg', 'host-a101_cam2_1242748991982545006.jpeg', 'host-a101_cam2_1242748989382545006.jpeg', 'host-a101_cam6_1240875139250000006.jpeg', 'host-a011_cam0_1233524887451142006.jpeg', 'host-a101_cam2_1242748993982545006.jpeg', 'host-a101_cam3_1240875156500000006.jpeg', 'host-a101_cam3_1242748819099230006.jpeg', 'host-a101_cam2_1242748992782545006.jpeg', 'host-a101_cam2_1242748994982545006.jpeg', 'host-a004_cam1_1232905200934300006.jpeg', 'host-a101_cam6_1240875144850000006.jpeg', 'host-a101_cam2_1242749002382945006.jpeg', 'host-a101_cam6_1240875140450000006.jpeg', 'host-a101_cam6_1240875138450000006.jpeg', 'host-a004_cam2_1232842380417652006.jpeg', 'host-a004_cam1_1232842379434300006.jpeg', 'host-a101_cam6_1240875138050000006.jpeg', 'host-a011_cam2_1233688947117605006.jpeg', 'host-a101_cam2_1242748993182545006.jpeg', 'host-a101_cam0_1242748998549571006.jpeg', 'host-a101_cam2_1242748998582738006.jpeg', 'host-a101_cam2_1242748991782545006.jpeg', 'host-a004_cam2_1232905202317652006.jpeg', 'host-a011_cam1_1233087926834517006.jpeg', 'host-a011_cam1_1233087927034517006.jpeg', 'host-a101_cam2_1242748996582590006.jpeg', 'host-a007_cam1_1233524862434286006.jpeg', 'host-a007_cam2_1233079634817643006.jpeg', 'host-a011_cam1_1233524888434517006.jpeg', 'host-a101_cam2_1242749002782945006.jpeg', 'host-a101_cam3_1242749000599467006.jpeg', 'host-a101_cam2_1242748989582545006.jpeg', 'host-a101_cam1_1242749000966260006.jpeg', 'host-a011_cam3_1233524890000995006.jpeg', 'host-a101_cam0_1242748999149541006.jpeg', 'host-a101_cam2_1242748999182812006.jpeg', 'host-a101_cam3_1242748999099467006.jpeg', 'host-a101_cam2_1242748988982545006.jpeg', 'host-a101_cam2_1242748988782545006.jpeg', 'host-a101_cam0_1242748999949452006.jpeg', 'host-a101_cam3_1242748999999467006.jpeg', 'host-a101_cam6_1240875136450000006.jpeg', 'host-a101_cam2_1242749003182945006.jpeg', 'host-a101_cam3_1242749003199615006.jpeg', 'host-a011_cam2_1233512850217605006.jpeg', 'host-a101_cam6_1240875141450000006.jpeg', 'host-a101_cam2_1242748989782545006.jpeg', 'host-a101_cam6_1240875140650000006.jpeg', 'host-a011_cam1_1233524888034517006.jpeg', 'host-a011_cam3_1236123641900995006.jpeg', 'host-a101_cam2_1242748992982545006.jpeg', 'host-a011_cam5_1232752550067719006.jpeg', 'host-a101_cam2_1242748992382545006.jpeg', 'host-a011_cam6_1232745790451145006.jpeg', 'host-a101_cam2_1242748992182545006.jpeg', 'host-a101_cam6_1240875136650000006.jpeg', 'host-a007_cam1_1233079633234286006.jpeg', 'host-a011_cam5_1232752550867719006.jpeg', 'host-a011_cam1_1233524888634517006.jpeg', 'host-a101_cam6_1240875146650000006.jpeg', 'host-a004_cam0_1232905199951064006.jpeg', 'host-a004_cam1_1232905199934300006.jpeg', 'host-a011_cam0_1232752549451142006.jpeg', 'host-a101_cam3_1242748818899230006.jpeg', 'host-a101_cam6_1240875136850000006.jpeg', 'host-a101_cam6_1240875140850000006.jpeg', 'host-a004_cam1_1232905201134300006.jpeg', 'host-a101_cam6_1240875137250000006.jpeg', 'host-a004_cam1_1232842380034300006.jpeg', 'host-a007_cam1_1233079633634286006.jpeg', 'host-a011_cam0_1232752555451142006.jpeg', 'host-a004_cam2_1232905201717652006.jpeg', 'host-a101_cam2_1242748996782590006.jpeg', 'host-a101_cam6_1240875139450000006.jpeg', 'host-a101_cam6_1240875145450000006.jpeg', 'host-a101_cam2_1242749002582945006.jpeg', 'host-a011_cam1_1236119841934517006.jpeg', 'host-a011_cam1_1233512849434517006.jpeg', 'host-a011_cam6_1232745790651145006.jpeg', 'host-a101_cam0_1242748999349526006.jpeg', 'host-a101_cam3_1242748999399467006.jpeg', 'host-a007_cam1_1233079634034286006.jpeg', 'host-a101_cam3_1242749003399615006.jpeg', 'host-a101_cam2_1242748993782545006.jpeg', 'host-a007_cam1_1233524863234286006.jpeg', 'host-a011_cam2_1232909947917605006.jpeg', 'host-a011_cam2_1233087927817605006.jpeg', 'host-a011_cam5_1232752549867719006.jpeg', 'host-a011_cam2_1232909947717605006.jpeg', 'host-a004_cam1_1232905201334300006.jpeg', 'host-a004_cam2_1232905201317652006.jpeg', 'host-a101_cam6_1240875138250000006.jpeg', 'host-a007_cam1_1233079633834286006.jpeg', 'host-a101_cam6_1240875140050000006.jpeg', 'host-a101_cam2_1242748991382545006.jpeg', 'host-a101_cam1_1242749001966142006.jpeg', 'host-a101_cam0_1242748999549497006.jpeg', 'host-a101_cam3_1242748999599467006.jpeg', 'host-a101_cam2_1242748998182693006.jpeg', 'host-a101_cam2_1242748992582545006.jpeg', 'host-a011_cam2_1233524889417605006.jpeg', 'host-a101_cam3_1242749004199630006.jpeg', 'host-a101_cam2_1242748997982693006.jpeg', 'host-a004_cam2_1232842380817652006.jpeg', 'host-a101_cam2_1242748990382545006.jpeg', 'host-a101_cam0_1242748998749571006.jpeg', 'host-a101_cam2_1242748998782753006.jpeg', 'host-a004_cam2_1232905202517652006.jpeg', 'host-a101_cam6_1240875137450000006.jpeg', 'host-a101_cam0_1242748998949571006.jpeg', 'host-a101_cam2_1242748998982782006.jpeg', 'host-a011_cam2_1233524889017605006.jpeg', 'host-a004_cam3_1232905203300897006.jpeg', 'host-a011_cam2_1233087928417605006.jpeg', 'host-a101_cam3_1242749000799467006.jpeg', 'host-a011_cam6_1232745791051145006.jpeg', 'host-a011_cam2_1233524889217605006.jpeg', 'host-a101_cam2_1242749002182930006.jpeg', 'host-a101_cam2_1242748997182605006.jpeg', 'host-a004_cam1_1232905199734300006.jpeg', 'host-a004_cam0_1232905199751064006.jpeg', 'host-a101_cam6_1240875146450000006.jpeg', 'host-a101_cam2_1242748997782664006.jpeg', 'host-a101_cam6_1240875146250000006.jpeg', 'host-a007_cam2_1233079635417643006.jpeg', 'host-a004_cam1_1235947081734300006.jpeg', 'host-a011_cam2_1232909948117605006.jpeg', 'host-a101_cam6_1240875137050000006.jpeg', 'host-a011_cam0_1233524887651142006.jpeg', 'host-a101_cam1_1242749000166275006.jpeg', 'host-a101_cam0_1242749000149438006.jpeg', 'host-a101_cam3_1242749000199467006.jpeg', 'host-a101_cam6_1240875139050000006.jpeg', 'host-a101_cam6_1240875145850000006.jpeg', 'host-a007_cam1_1233524862834286006.jpeg', 'host-a007_cam2_1233079635017643006.jpeg', 'host-a101_cam2_1242748997382619006.jpeg', 'host-a101_cam6_1240875147450000006.jpeg', 'host-a101_cam6_1240875145650000006.jpeg', 'host-a101_cam1_1242749001566231006.jpeg', 'host-a004_cam1_1232905200534300006.jpeg', 'host-a101_cam2_1242748989982545006.jpeg', 'host-a011_cam3_1236123642100995006.jpeg', 'host-a004_cam3_1232923278600897006.jpeg', 'host-a101_cam6_1240875138650000006.jpeg', 'host-a101_cam1_1242749001766186006.jpeg', 'host-a101_cam2_1242748995382545006.jpeg', 'host-a101_cam3_1242749000399467006.jpeg', 'host-a007_cam2_1233524863617643006.jpeg', 'host-a101_cam3_1242749003699630006.jpeg', 'host-a101_cam3_1240875156300000006.jpeg', 'host-a011_cam2_1233087929017605006.jpeg', 'host-a101_cam2_1242748996982605006.jpeg', 'host-a101_cam3_1242749003599630006.jpeg', 'host-a011_cam3_1233524889800995006.jpeg', 'host-a101_cam2_1242748995182545006.jpeg', 'host-a004_cam1_1232905200134300006.jpeg', 'host-a004_cam0_1232905200151064006.jpeg', 'host-a101_cam3_1242749004399615006.jpeg', 'host-a101_cam1_1242748994366335006.jpeg', 'host-a101_cam2_1242748998382708006.jpeg', 'host-a011_cam3_1233524889600995006.jpeg', 'host-a004_cam1_1232842379634300006.jpeg', 'host-a101_cam2_1242748996382575006.jpeg', 'host-a011_cam5_1232752550267719006.jpeg', 'host-a101_cam6_1240875141650000006.jpeg', 'host-a011_cam2_1233087928617605006.jpeg', 'host-a101_cam6_1240875141850000006.jpeg', 'host-a007_cam2_1233079635217643006.jpeg', 'host-a101_cam2_1242748993582545006.jpeg', 'host-a007_cam2_1233524863817643006.jpeg', 'host-a101_cam6_1240875139650000006.jpeg', 'host-a004_cam2_1232905202117652006.jpeg', 'host-a101_cam6_1240875137850000006.jpeg', 'host-a101_cam3_1240875155800000006.jpeg', 'host-a011_cam1_1233087927234517006.jpeg', 'host-a004_cam2_1232905202717652006.jpeg', 'host-a101_cam3_1242749003999630006.jpeg', 'host-a101_cam2_1242748990582545006.jpeg', 'host-a101_cam2_1242748989182545006.jpeg', 'host-a011_cam5_1232752550667719006.jpeg', 'host-a101_cam3_1242749004599586006.jpeg', 'host-a101_cam6_1240875142050000006.jpeg', 'host-a004_cam1_1235947081534300006.jpeg', 'host-a011_cam0_1233524887851142006.jpeg', 'host-a004_cam0_1232905199551064006.jpeg', 'host-a007_cam1_1233524862634286006.jpeg', 'host-a004_cam2_1232842380617652006.jpeg', 'host-a101_cam6_1240875145250000006.jpeg', 'host-a101_cam2_1242748993382545006.jpeg', 'host-a101_cam6_1240875136250000006.jpeg', 'host-a101_cam3_1240875156100000006.jpeg', 'host-a011_cam5_1232752551067719006.jpeg', 'host-a004_cam3_1232923278800897006.jpeg', 'host-a007_cam2_1233079634617643006.jpeg', 'host-a101_cam2_1242748990782545006.jpeg', 'host-a101_cam2_1242748997582634006.jpeg', 'host-a011_cam2_1233087928817605006.jpeg', 'host-a101_cam6_1240875140250000006.jpeg', 'host-a101_cam2_1242748991182545006.jpeg', 'host-a004_cam1_1232905200734300006.jpeg', 'host-a101_cam6_1240875141050000006.jpeg', 'host-a007_cam1_1233079633034286006.jpeg', 'host-a101_cam1_1242749001366246006.jpeg', 'host-a011_cam2_1233688947317605006.jpeg', 'host-a101_cam0_1242748999749482006.jpeg', 'host-a101_cam3_1242748999799467006.jpeg', 'host-a004_cam2_1232905201917652006.jpeg', 'host-a101_cam3_1242748819299245006.jpeg', 'host-a101_cam2_1242748990182545006.jpeg', 'host-a101_cam1_1242749001166246006.jpeg', 'host-a007_cam1_1233524863034286006.jpeg', 'host-a101_cam6_1240875138850000006.jpeg', 'host-a004_cam1_1232842379834300006.jpeg', 'host-a009_cam5_1236015630567552006.jpeg', 'host-a011_cam0_1233964304551142006.jpeg', 'host-a102_cam0_1241878225250000006.jpeg', 'host-a102_cam6_1241878220650000006.jpeg', 'host-a009_cam6_1236015620551075006.jpeg', 'host-a102_cam0_1241878224650000006.jpeg', 'host-a102_cam3_1241878203300000006.jpeg', 'host-a008_cam6_1235776286951058006.jpeg', 'host-a009_cam6_1236015620151075006.jpeg', 'host-a102_cam3_1241878203100000006.jpeg', 'host-a102_cam6_1241878221050000006.jpeg', 'host-a008_cam6_1235776286151058006.jpeg', 'host-a011_cam3_1232755946600995006.jpeg', 'host-a011_cam3_1232755946400995006.jpeg', 'host-a004_cam0_1233011750851064006.jpeg', 'host-a004_cam6_1233963859850948006.jpeg', 'host-a011_cam6_1232841341051145006.jpeg', 'host-a009_cam0_1236015626751162006.jpeg', 'host-a011_cam6_1234553374151145006.jpeg', 'host-a102_cam3_1241878201900000006.jpeg', 'host-a102_cam3_1241878202300000006.jpeg', 'host-a011_cam6_1232841340651145006.jpeg', 'host-a008_cam6_1235776284551058006.jpeg', 'host-a004_cam0_1233535972551064006.jpeg', 'host-a102_cam3_1241878202100000006.jpeg', 'host-a011_cam0_1233964304351142006.jpeg', 'host-a008_cam6_1235776286751058006.jpeg', 'host-a004_cam6_1233963860450948006.jpeg', 'host-a011_cam6_1232841340451145006.jpeg', 'host-a102_cam3_1241878202700000006.jpeg', 'host-a102_cam3_1241878202500000006.jpeg', 'host-a004_cam3_1233422559200897006.jpeg', 'host-a004_cam0_1233011751251064006.jpeg', 'host-a004_cam0_1233011751051064006.jpeg', 'host-a009_cam6_1236015620351075006.jpeg', 'host-a011_cam6_1234553374351145006.jpeg', 'host-a102_cam0_1241878224850000006.jpeg', 'host-a004_cam0_1233615998551064006.jpeg', 'host-a011_cam6_1232841341251145006.jpeg', 'host-a011_cam6_1234553374751145006.jpeg', 'host-a009_cam5_1236015630967552006.jpeg', 'host-a011_cam6_1232841340251145006.jpeg', 'host-a102_cam0_1241878225050000006.jpeg', 'host-a008_cam6_1235776286351058006.jpeg', 'host-a102_cam6_1241878220050000006.jpeg', 'host-a008_cam6_1235776285751058006.jpeg', 'host-a009_cam5_1236015630767552006.jpeg', 'host-a008_cam6_1235776284951058006.jpeg', 'host-a004_cam3_1233422559400897006.jpeg', 'host-a009_cam5_1236015631067552006.jpeg', 'host-a011_cam6_1234553374551145006.jpeg', 'host-a102_cam6_1241878220850000006.jpeg', 'host-a004_cam0_1233535972351064006.jpeg', 'host-a008_cam6_1235776284751058006.jpeg', 'host-a011_cam6_1232841340851145006.jpeg', 'host-a102_cam3_1241878202900000006.jpeg', 'host-a004_cam3_1233947110300897006.jpeg', 'host-a004_cam0_1233535972151064006.jpeg', 'host-a008_cam6_1235776284151058006.jpeg', 'host-a011_cam3_1232755946200995006.jpeg', 'host-a011_cam0_1233964304151142006.jpeg', 'host-a102_cam6_1241878220250000006.jpeg', 'host-a011_cam6_1232841341851145006.jpeg', 'host-a009_cam6_1236015619951075006.jpeg', 'host-a102_cam6_1241878220450000006.jpeg', 'host-a102_cam0_1241878225350000006.jpeg', 'host-a008_cam6_1235776285551058006.jpeg', 'host-a008_cam6_1235776285151058006.jpeg', 'host-a009_cam0_1236015626951162006.jpeg', 'host-a101_cam1_1242144907466660006.jpeg', 'host-a101_cam1_1242144908066660006.jpeg', 'host-a101_cam0_1242144908050000006.jpeg', 'host-a101_cam1_1240875151466660006.jpeg', 'host-a101_cam0_1242144908250000006.jpeg', 'host-a101_cam1_1242144908266660006.jpeg', 'host-a004_cam0_1233685322751064006.jpeg', 'host-a007_cam0_1233529730350897006.jpeg', 'host-a017_cam3_1236119813200918006.jpeg', 'host-a101_cam1_1242144908466660006.jpeg', 'host-a101_cam0_1242144908450000006.jpeg', 'host-a011_cam3_1233090578000995006.jpeg', 'host-a101_cam1_1240875150866660006.jpeg', 'host-a004_cam0_1233685322551064006.jpeg', 'host-a011_cam3_1233090577600995006.jpeg', 'host-a101_cam1_1240875152666660006.jpeg', 'host-a004_cam3_1233014864800897006.jpeg', 'host-a101_cam1_1240875153066660006.jpeg', 'host-a011_cam6_1233512841251145006.jpeg', 'host-a011_cam3_1233090577400995006.jpeg', 'host-a004_cam6_1233685320550948006.jpeg', 'host-a101_cam2_1240875155683330006.jpeg', 'host-a004_cam3_1232842381200897006.jpeg', 'host-a004_cam3_1233014865000897006.jpeg', 'host-a101_cam1_1242144908866660006.jpeg', 'host-a101_cam1_1242144908666660006.jpeg', 'host-a017_cam6_1236119797850938006.jpeg', 'host-a101_cam1_1240875153866660006.jpeg', 'host-a101_cam1_1240875152866660006.jpeg', 'host-a004_cam3_1233014855200897006.jpeg', 'host-a004_cam0_1233685319151064006.jpeg', 'host-a011_cam3_1233090577800995006.jpeg', 'host-a007_cam3_1231093061099360006.jpeg', 'host-a101_cam1_1240875154866660006.jpeg', 'host-a101_cam1_1242144909266660006.jpeg', 'host-a007_cam0_1233529730750897006.jpeg', 'host-a004_cam6_1233685320750948006.jpeg', 'host-a007_cam0_1233529730150897006.jpeg', 'host-a017_cam6_1236119798050938006.jpeg', 'host-a101_cam1_1242144909466660006.jpeg', 'host-a101_cam2_1240875156283330006.jpeg', 'host-a011_cam6_1233512840251145006.jpeg', 'host-a011_cam3_1233090577200995006.jpeg', 'host-a004_cam0_1233685318951064006.jpeg', 'host-a011_cam3_1233965312300995006.jpeg', 'host-a017_cam3_1236119812800918006.jpeg', 'host-a007_cam3_1231093060999360006.jpeg', 'host-a007_cam6_1233529726550905006.jpeg', 'host-a101_cam1_1240875154266660006.jpeg', 'host-a101_cam1_1240875153466660006.jpeg', 'host-a007_cam3_1231093050999360006.jpeg', 'host-a101_cam1_1240875151066660006.jpeg', 'host-a007_cam0_1233529729950897006.jpeg', 'host-a007_cam3_1231093050599360006.jpeg', 'host-a017_cam6_1236119798250938006.jpeg', 'host-a101_cam1_1240875151866660006.jpeg', 'host-a017_cam3_1236119813000918006.jpeg', 'host-a101_cam1_1242144907866660006.jpeg', 'host-a101_cam0_1242144907850000006.jpeg', 'host-a101_cam1_1240875153666660006.jpeg', 'host-a004_cam0_1233685318751064006.jpeg', 'host-a004_cam3_1233014864600897006.jpeg', 'host-a101_cam1_1240875154466660006.jpeg', 'host-a101_cam1_1240875152066660006.jpeg', 'host-a007_cam6_1233529726350905006.jpeg', 'host-a101_cam1_1240875152466660006.jpeg', 'host-a101_cam1_1240875151666660006.jpeg', 'host-a101_cam1_1242144907666660006.jpeg', 'host-a101_cam0_1242144907650000006.jpeg', 'host-a017_cam3_1236119812600918006.jpeg', 'host-a101_cam1_1240875152266660006.jpeg', 'host-a004_cam0_1233685322951064006.jpeg', 'host-a101_cam1_1240875151266660006.jpeg', 'host-a011_cam3_1233090577000995006.jpeg', 'host-a004_cam0_1233685323151064006.jpeg', 'host-a101_cam1_1242144907266660006.jpeg', 'host-a004_cam0_1232905197751064006.jpeg', 'host-a101_cam1_1240875154666660006.jpeg', 'host-a101_cam1_1240875154066660006.jpeg', 'host-a101_cam2_1240875155883330006.jpeg', 'host-a101_cam2_1240875156483330006.jpeg', 'host-a007_cam0_1233529730550897006.jpeg', 'host-a101_cam1_1242144909066660006.jpeg', 'host-a101_cam2_1240875156083330006.jpeg', 'host-a011_cam6_1233512840451145006.jpeg', 'host-a017_cam6_1236119797650938006.jpeg', 'host-a101_cam1_1242144909666660006.jpeg', 'host-a017_cam3_1236119813400918006.jpeg', 'host-a007_cam3_1231093050399360006.jpeg', 'host-a101_cam2_1240875156683330006.jpeg', 'host-a007_cam3_1231093050799360006.jpeg', 'host-a004_cam3_1233014865200897006.jpeg', 'host-a101_cam1_1240875153266660006.jpeg', 'host-a101_cam0_1240877595450000006.jpeg', 'host-a101_cam0_1240877590650000006.jpeg', 'host-a101_cam5_1240877590633330006.jpeg', 'host-a101_cam4_1240877605816660006.jpeg', 'host-a101_cam5_1240877601233330006.jpeg', 'host-a101_cam0_1240877588250000006.jpeg', 'host-a101_cam5_1240877588233330006.jpeg', 'host-a101_cam0_1240877590250000006.jpeg', 'host-a101_cam5_1240877590233330006.jpeg', 'host-a101_cam5_1240877601033330006.jpeg', 'host-a101_cam0_1240877592650000006.jpeg', 'host-a101_cam5_1240877590433330006.jpeg', 'host-a101_cam0_1240877590450000006.jpeg', 'host-a101_cam0_1240877594650000006.jpeg', 'host-a101_cam4_1240877606416660006.jpeg', 'host-a101_cam5_1240877590033330006.jpeg', 'host-a101_cam0_1240877590050000006.jpeg', 'host-a101_cam0_1240877593850000006.jpeg', 'host-a101_cam4_1241889711016660006.jpeg', 'host-a101_cam4_1240877604816660006.jpeg', 'host-a101_cam4_1240877605616660006.jpeg', 'host-a101_cam5_1240877590833330006.jpeg', 'host-a101_cam0_1240877590850000006.jpeg', 'host-a101_cam0_1240877589050000006.jpeg', 'host-a101_cam5_1240877589033330006.jpeg', 'host-a101_cam4_1240877606616660006.jpeg', 'host-a101_cam0_1240877594050000006.jpeg', 'host-a101_cam0_1240877591250000006.jpeg', 'host-a101_cam5_1240877591233330006.jpeg', 'host-a101_cam0_1240877589650000006.jpeg', 'host-a101_cam5_1240877589633330006.jpeg', 'host-a101_cam0_1240877591650000006.jpeg', 'host-a101_cam5_1240877591633330006.jpeg', 'host-a101_cam0_1240877593050000006.jpeg', 'host-a101_cam0_1240877593650000006.jpeg', 'host-a101_cam4_1241889711216660006.jpeg', 'host-a101_cam4_1240877606016660006.jpeg', 'host-a101_cam4_1240877605216660006.jpeg', 'host-a101_cam0_1240877589450000006.jpeg', 'host-a101_cam5_1240877589433330006.jpeg', 'host-a101_cam0_1240877592450000006.jpeg', 'host-a101_cam0_1240877595250000006.jpeg', 'host-a101_cam0_1240877587450000006.jpeg', 'host-a101_cam5_1240877587433330006.jpeg', 'host-a101_cam0_1240877594450000006.jpeg', 'host-a101_cam0_1240877588650000006.jpeg', 'host-a101_cam5_1240877588633330006.jpeg', 'host-a101_cam0_1240877594850000006.jpeg', 'host-a101_cam0_1240877587850000006.jpeg', 'host-a101_cam5_1240877587833330006.jpeg', 'host-a101_cam5_1240877588833330006.jpeg', 'host-a101_cam0_1240877588850000006.jpeg', 'host-a101_cam4_1241889711416660006.jpeg', 'host-a101_cam0_1240877595050000006.jpeg', 'host-a101_cam0_1240877592850000006.jpeg', 'host-a101_cam0_1240877588050000006.jpeg', 'host-a101_cam5_1240877588033330006.jpeg', 'host-a101_cam0_1240877593450000006.jpeg', 'host-a101_cam0_1240877591050000006.jpeg', 'host-a101_cam5_1240877591033330006.jpeg', 'host-a101_cam5_1240877587233330006.jpeg', 'host-a101_cam0_1240877587250000006.jpeg', 'host-a101_cam0_1240877593250000006.jpeg', 'host-a101_cam4_1240877605016660006.jpeg', 'host-a101_cam0_1240877589250000006.jpeg', 'host-a101_cam5_1240877589233330006.jpeg', 'host-a101_cam4_1240877605416660006.jpeg', 'host-a101_cam4_1240877606216660006.jpeg', 'host-a101_cam0_1240877589850000006.jpeg', 'host-a101_cam5_1240877589833330006.jpeg', 'host-a101_cam4_1240877604616660006.jpeg', 'host-a101_cam0_1240877587650000006.jpeg', 'host-a101_cam5_1240877587633330006.jpeg', 'host-a101_cam5_1240877601433330006.jpeg', 'host-a101_cam0_1240877588450000006.jpeg', 'host-a101_cam5_1240877588433330006.jpeg', 'host-a101_cam0_1240877591450000006.jpeg', 'host-a101_cam5_1240877591433330006.jpeg', 'host-a101_cam0_1240877594250000006.jpeg', 'host-a011_cam1_1236122373934517006.jpeg', 'host-a011_cam1_1236122374134517006.jpeg', 'host-a011_cam1_1236122374234517006.jpeg', 'host-a011_cam1_1236122373734517006.jpeg', 'host-a102_cam3_1241468929400000006.jpeg', 'host-a101_cam3_1241893241300000006.jpeg', 'host-a007_cam0_1234551932350897006.jpeg', 'host-a004_cam3_1232817654600897006.jpeg', 'host-a004_cam6_1233422008450948006.jpeg', 'host-a007_cam0_1234551932550897006.jpeg', 'host-a004_cam0_1233961189251064006.jpeg', 'host-a101_cam3_1241893241000000006.jpeg', 'host-a101_cam4_1241893246416660006.jpeg', 'host-a101_cam3_1241893240100000006.jpeg', 'host-a101_cam3_1241886986700000006.jpeg', 'host-a011_cam0_1232817045651142006.jpeg', 'host-a101_cam3_1241886987100000006.jpeg', 'host-a011_cam0_1232841333651142006.jpeg', 'host-a004_cam6_1232817649050948006.jpeg', 'host-a012_cam3_1237329869800913006.jpeg', 'host-a101_cam0_1241886985150000006.jpeg', 'host-a004_cam0_1232825406851064006.jpeg', 'host-a101_cam0_1243102889849349006.jpeg', 'host-a101_cam3_1241893239200000006.jpeg', 'host-a102_cam3_1241468929800000006.jpeg', 'host-a101_cam3_1241893245100000006.jpeg', 'host-a101_cam4_1241893245016660006.jpeg', 'host-a101_cam4_1241893246816660006.jpeg', 'host-a101_cam3_1241893244600000006.jpeg', 'host-a101_cam4_1241893246616660006.jpeg', 'host-a101_cam3_1241893240600000006.jpeg', 'host-a101_cam3_1241886986900000006.jpeg', 'host-a004_cam3_1233961185800897006.jpeg', 'host-a004_cam0_1232825407051064006.jpeg', 'host-a101_cam4_1241893245616660006.jpeg', 'host-a012_cam3_1237329870200913006.jpeg', 'host-a004_cam0_1232825407451064006.jpeg', 'host-a101_cam0_1243102890049363006.jpeg', 'host-a011_cam0_1232817045051142006.jpeg', 'host-a101_cam3_1241893242700000006.jpeg', 'host-a011_cam3_1234553379100995006.jpeg', 'host-a004_cam0_1232817653051064006.jpeg', 'host-a004_cam3_1232817654000897006.jpeg', 'host-a101_cam3_1241893244900000006.jpeg', 'host-a004_cam0_1233961189651064006.jpeg', 'host-a102_cam0_1241468927450000006.jpeg', 'host-a101_cam5_1243095635232693006.jpeg', 'host-a004_cam0_1232817651851064006.jpeg', 'host-a101_cam3_1241893241800000006.jpeg', 'host-a004_cam3_1232817654400897006.jpeg', 'host-a101_cam4_1241893247016660006.jpeg', 'host-a101_cam3_1241893242800000006.jpeg', 'host-a101_cam4_1241893245816660006.jpeg', 'host-a004_cam0_1233961184251064006.jpeg', 'host-a004_cam0_1232817651651064006.jpeg', 'host-a004_cam0_1232825407251064006.jpeg', 'host-a004_cam0_1233961189451064006.jpeg', 'host-a102_cam3_1241468929200000006.jpeg', 'host-a102_cam3_1241468924000000006.jpeg', 'host-a101_cam3_1241893243100000006.jpeg', 'host-a004_cam6_1233963860650948006.jpeg', 'host-a102_cam0_1241468927650000006.jpeg', 'host-a102_cam3_1241468923900000006.jpeg', 'host-a101_cam3_1241893243500000006.jpeg', 'host-a102_cam0_1241468922050000006.jpeg', 'host-a101_cam5_1243095629932679006.jpeg', 'host-a004_cam6_1232817648650948006.jpeg', 'host-a101_cam3_1241893239800000006.jpeg', 'host-a101_cam0_1241886985350000006.jpeg', 'host-a101_cam3_1241886987300000006.jpeg', 'host-a101_cam0_1243102889449349006.jpeg', 'host-a004_cam3_1232817654800897006.jpeg', 'host-a101_cam3_1241893242400000006.jpeg', 'host-a004_cam3_1233961186000897006.jpeg', 'host-a102_cam0_1241468921650000006.jpeg', 'host-a004_cam0_1232817652651064006.jpeg', 'host-a101_cam3_1241893240800000006.jpeg', 'host-a101_cam0_1241886984950000006.jpeg', 'host-a101_cam4_1243095634316127006.jpeg', 'host-a004_cam0_1233961183851064006.jpeg', 'host-a101_cam3_1241893244200000006.jpeg', 'host-a007_cam0_1234551932150897006.jpeg', 'host-a004_cam6_1232817648250948006.jpeg', 'host-a101_cam3_1241893242300000006.jpeg', 'host-a101_cam3_1241893239700000006.jpeg', 'host-a101_cam3_1241893245300000006.jpeg', 'host-a101_cam4_1241893245216660006.jpeg', 'host-a011_cam0_1232841333851142006.jpeg', 'host-a101_cam3_1241893241700000006.jpeg', 'host-a101_cam0_1241886984750000006.jpeg', 'host-a006_cam0_1236037887650935006.jpeg', 'host-a102_cam3_1241468924300000006.jpeg', 'host-a101_cam3_1241886986500000006.jpeg', 'host-a101_cam3_1241893244400000006.jpeg', 'host-a004_cam6_1232817648050948006.jpeg', 'host-a004_cam0_1232817652051064006.jpeg', 'host-a011_cam0_1232817045251142006.jpeg', 'host-a011_cam0_1232841333451142006.jpeg', 'host-a102_cam3_1241468930100000006.jpeg', 'host-a102_cam0_1241468927850000006.jpeg', 'host-a101_cam3_1241893243900000006.jpeg', 'host-a004_cam3_1232817654200897006.jpeg', 'host-a102_cam3_1241468924400000006.jpeg', 'host-a101_cam4_1241893246216660006.jpeg', 'host-a011_cam3_1234553378900995006.jpeg', 'host-a004_cam6_1232817649250948006.jpeg', 'host-a102_cam0_1241468926850000006.jpeg', 'host-a101_cam3_1241893243300000006.jpeg', 'host-a101_cam0_1241886985550000006.jpeg', 'host-a101_cam3_1241893242100000006.jpeg', 'host-a011_cam0_1232841333251142006.jpeg', 'host-a102_cam3_1241468929100000006.jpeg', 'host-a012_cam3_1237329870000913006.jpeg', 'host-a101_cam3_1241893243600000006.jpeg', 'host-a102_cam0_1241468926650000006.jpeg', 'host-a102_cam0_1241468922450000006.jpeg', 'host-a101_cam4_1241893245416660006.jpeg', 'host-a101_cam3_1241893245500000006.jpeg', 'host-a004_cam0_1233014363651064006.jpeg', 'host-a004_cam0_1232825405251064006.jpeg', 'host-a007_cam0_1234551931950897006.jpeg', 'host-a101_cam4_1241893246016660006.jpeg', 'host-a006_cam3_1236037885200777006.jpeg', 'host-a006_cam3_1236037885000777006.jpeg', 'host-a102_cam0_1241468922250000006.jpeg', 'host-a004_cam0_1233961184051064006.jpeg', 'host-a004_cam6_1232817648450948006.jpeg', 'host-a101_cam0_1243102889649349006.jpeg', 'host-a102_cam0_1241468928050000006.jpeg', 'host-a102_cam0_1241468921850000006.jpeg', 'host-a011_cam0_1232817045451142006.jpeg', 'host-a101_cam3_1241893241500000006.jpeg', 'host-a101_cam5_1243095635132708006.jpeg', 'host-a102_cam3_1241468924600000006.jpeg', 'host-a004_cam6_1232817648850948006.jpeg', 'host-a101_cam3_1241893244100000006.jpeg', 'host-a101_cam3_1241893240300000006.jpeg', 'host-a101_cam0_1241886984550000006.jpeg', 'host-a101_cam3_1241893239500000006.jpeg', 'host-a004_cam3_1233961185600897006.jpeg', 'host-a101_cam4_1241893247216660006.jpeg', 'host-a101_cam3_1241893240500000006.jpeg', 'host-a004_cam0_1232817652851064006.jpeg', 'host-a011_cam6_1236119846551145006.jpeg', 'host-a004_cam3_1232905214500897006.jpeg', 'host-a011_cam0_1233688950151142006.jpeg', 'host-a102_cam3_1241548696900000006.jpeg', 'host-a102_cam3_1242754977599260006.jpeg', 'host-a011_cam3_1233688952100995006.jpeg', 'host-a011_cam0_1235866718551142006.jpeg', 'host-a011_cam3_1235950316000995006.jpeg', 'host-a011_cam3_1233522434400995006.jpeg', 'host-a011_cam0_1234639319051142006.jpeg', 'host-a101_cam6_1242753250144000006.jpeg', 'host-a101_cam6_1242753250744000006.jpeg', 'host-a011_cam0_1235866717351142006.jpeg', 'host-a011_cam0_1235866718351142006.jpeg', 'host-a007_cam1_1233524854034286006.jpeg', 'host-a011_cam0_1233688941951142006.jpeg', 'host-a011_cam3_1236104051500995006.jpeg', 'host-a011_cam6_1236122361351145006.jpeg', 'host-a007_cam6_1233079626050905006.jpeg', 'host-a011_cam0_1236122364751142006.jpeg', 'host-a007_cam6_1233079625850905006.jpeg', 'host-a101_cam6_1242753249944000006.jpeg', 'host-a101_cam6_1242753252144000006.jpeg', 'host-a102_cam3_1241548696100000006.jpeg', 'host-a011_cam0_1236122365151142006.jpeg', 'host-a011_cam6_1236119846751145006.jpeg', 'host-a011_cam0_1233688942151142006.jpeg', 'host-a011_cam0_1234639318651142006.jpeg', 'host-a102_cam4_1241548695616660006.jpeg', 'host-a102_cam3_1241548695600000006.jpeg', 'host-a007_cam2_1233524861217643006.jpeg', 'host-a007_cam2_1233524861617643006.jpeg', 'host-a007_cam1_1233524859034286006.jpeg', 'host-a011_cam3_1236104051700995006.jpeg', 'host-a007_cam1_1233524858834286006.jpeg', 'host-a011_cam0_1235866717951142006.jpeg', 'host-a102_cam3_1242754976899289006.jpeg', 'host-a007_cam1_1233524855234286006.jpeg', 'host-a007_cam1_1233524857634286006.jpeg', 'host-a011_cam3_1233081028800995006.jpeg', 'host-a007_cam0_1233524856850897006.jpeg', 'host-a007_cam1_1233524856834286006.jpeg', 'host-a004_cam1_1232905197734300006.jpeg', 'host-a011_cam0_1233688941151142006.jpeg', 'host-a004_cam3_1232905202700897006.jpeg', 'host-a004_cam0_1232905220151064006.jpeg', 'host-a007_cam2_1233524860817643006.jpeg', 'host-a011_cam3_1235866721500995006.jpeg', 'host-a101_cam5_1242749009732649006.jpeg', 'host-a007_cam1_1233524858434286006.jpeg', 'host-a102_cam3_1241548696500000006.jpeg', 'host-a011_cam3_1235866720900995006.jpeg', 'host-a007_cam1_1233079630034286006.jpeg', 'host-a101_cam6_1242753254344000006.jpeg', 'host-a007_cam2_1233524861417643006.jpeg', 'host-a007_cam1_1233524858234286006.jpeg', 'host-a101_cam6_1242753250344000006.jpeg', 'host-a007_cam2_1233524863417643006.jpeg', 'host-a011_cam0_1236122364951142006.jpeg', 'host-a007_cam2_1233524861017643006.jpeg', 'host-a011_cam3_1233081029000995006.jpeg', 'host-a007_cam2_1233524863217643006.jpeg', 'host-a102_cam3_1242754976499304006.jpeg', 'host-a007_cam1_1233524853234286006.jpeg', 'host-a011_cam3_1233522434200995006.jpeg', 'host-a007_cam1_1233524856634286006.jpeg', 'host-a007_cam0_1233524856650897006.jpeg', 'host-a102_cam4_1241548695216660006.jpeg', 'host-a102_cam3_1241548695300000006.jpeg', 'host-a007_cam1_1233524857434286006.jpeg', 'host-a102_cam3_1241548695900000006.jpeg', 'host-a101_cam6_1242753249544000006.jpeg', 'host-a102_cam3_1241548694900000006.jpeg', 'host-a007_cam1_1233524855434286006.jpeg', 'host-a007_cam1_1233524856234286006.jpeg', 'host-a007_cam0_1233524856250897006.jpeg', 'host-a011_cam3_1235866720700995006.jpeg', 'host-a011_cam0_1235866718151142006.jpeg', 'host-a011_cam3_1233688952300995006.jpeg', 'host-a004_cam2_1232905201517652006.jpeg', 'host-a011_cam3_1233688952700995006.jpeg', 'host-a011_cam0_1233688941751142006.jpeg', 'host-a011_cam0_1234639318451142006.jpeg', 'host-a102_cam3_1241548694500000006.jpeg', 'host-a011_cam3_1235866721300995006.jpeg', 'host-a004_cam1_1232905197934300006.jpeg', 'host-a011_cam6_1236122360151145006.jpeg', 'host-a011_cam3_1235950315600995006.jpeg', 'host-a004_cam3_1232905202900897006.jpeg', 'host-a004_cam1_1232905198734300006.jpeg', 'host-a101_cam6_1242753250944000006.jpeg', 'host-a011_cam3_1233081028600995006.jpeg', 'host-a007_cam2_1233524860617643006.jpeg', 'host-a007_cam1_1233524857834286006.jpeg', 'host-a102_cam3_1242754976699304006.jpeg', 'host-a102_cam3_1241548695500000006.jpeg', 'host-a102_cam4_1241548695416660006.jpeg', 'host-a007_cam3_1230672872799360006.jpeg', 'host-a007_cam1_1233524853834286006.jpeg', 'host-a004_cam1_1232905198334300006.jpeg', 'host-a011_cam0_1233688949951142006.jpeg', 'host-a102_cam3_1241548696300000006.jpeg', 'host-a007_cam3_1230672872999360006.jpeg', 'host-a011_cam3_1235866721100995006.jpeg', 'host-a007_cam0_1233079629250897006.jpeg', 'host-a007_cam1_1233524856034286006.jpeg', 'host-a007_cam0_1233524856050897006.jpeg', 'host-a004_cam1_1232905197334300006.jpeg', 'host-a101_cam6_1242753251744000006.jpeg', 'host-a007_cam1_1233524855034286006.jpeg', 'host-a011_cam0_1235866717551142006.jpeg', 'host-a011_cam0_1235866717751142006.jpeg', 'host-a011_cam0_1233688949551142006.jpeg', 'host-a007_cam1_1233524855834286006.jpeg', 'host-a007_cam1_1233524859434286006.jpeg', 'host-a011_cam2_1233688946717605006.jpeg', 'host-a007_cam0_1233529712750897006.jpeg', 'host-a101_cam6_1242753252344000006.jpeg', 'host-a007_cam0_1233524855650897006.jpeg', 'host-a007_cam1_1233524855634286006.jpeg', 'host-a007_cam1_1233524852634286006.jpeg', 'host-a101_cam6_1242753249144000006.jpeg', 'host-a007_cam1_1233079630434286006.jpeg', 'host-a011_cam6_1236122360351145006.jpeg', 'host-a004_cam0_1232905219951064006.jpeg', 'host-a004_cam1_1232905198534300006.jpeg', 'host-a011_cam3_1233688952500995006.jpeg', 'host-a007_cam1_1233079630234286006.jpeg', 'host-a011_cam0_1233688949351142006.jpeg', 'host-a007_cam2_1233524860217643006.jpeg', 'host-a102_cam3_1241548696700000006.jpeg', 'host-a011_cam0_1233688949751142006.jpeg', 'host-a007_cam1_1233524854234286006.jpeg', 'host-a004_cam2_1232905200117652006.jpeg', 'host-a004_cam0_1232905220551064006.jpeg', 'host-a101_cam6_1242753251544000006.jpeg', 'host-a011_cam0_1233688941351142006.jpeg', 'host-a004_cam1_1232905197534300006.jpeg', 'host-a007_cam1_1233524857034286006.jpeg', 'host-a007_cam0_1233524857050897006.jpeg', 'host-a011_cam0_1236104047351142006.jpeg', 'host-a004_cam3_1232905214700897006.jpeg', 'host-a011_cam0_1234639318851142006.jpeg', 'host-a101_cam6_1242753249344000006.jpeg', 'host-a102_cam3_1241548694700000006.jpeg', 'host-a011_cam3_1232905787300995006.jpeg', 'host-a011_cam0_1233688941551142006.jpeg', 'host-a007_cam1_1233524853034286006.jpeg', 'host-a007_cam1_1233524858034286006.jpeg', 'host-a007_cam6_1233529710950905006.jpeg', 'host-a101_cam6_1242753254144000006.jpeg', 'host-a007_cam1_1233524854434286006.jpeg', 'host-a007_cam1_1233524859234286006.jpeg', 'host-a007_cam0_1233079629450897006.jpeg', 'host-a007_cam1_1233524856434286006.jpeg', 'host-a007_cam0_1233524856450897006.jpeg', 'host-a004_cam2_1232905199917652006.jpeg', 'host-a101_cam6_1242753252544000006.jpeg', 'host-a007_cam1_1233524853434286006.jpeg', 'host-a102_cam3_1242754977199275006.jpeg', 'host-a102_cam3_1242754977299275006.jpeg', 'host-a004_cam3_1232905203100897006.jpeg', 'host-a101_cam6_1242753251344000006.jpeg', 'host-a007_cam1_1233524853634286006.jpeg', 'host-a101_cam6_1242753249744000006.jpeg', 'host-a011_cam2_1233688946517605006.jpeg', 'host-a004_cam3_1232905214300897006.jpeg', 'host-a011_cam0_1233688942351142006.jpeg', 'host-a007_cam2_1233524860417643006.jpeg', 'host-a102_cam3_1241548695100000006.jpeg', 'host-a011_cam2_1233688946917605006.jpeg', 'host-a004_cam1_1232905198134300006.jpeg', 'host-a101_cam6_1242753250544000006.jpeg', 'host-a011_cam0_1236104047151142006.jpeg', 'host-a007_cam1_1233524858634286006.jpeg', 'host-a007_cam1_1233524854834286006.jpeg', 'host-a007_cam1_1233524857234286006.jpeg', 'host-a101_cam6_1242753248944000006.jpeg', 'host-a007_cam1_1233524854634286006.jpeg', 'host-a007_cam2_1233524860017643006.jpeg', 'host-a004_cam0_1232905220351064006.jpeg', 'host-a007_cam1_1233079629834286006.jpeg', 'host-a011_cam0_1234639318251142006.jpeg', 'host-a011_cam3_1235950315800995006.jpeg', 'host-a012_cam0_1237329884851020006.jpeg', 'host-a009_cam2_1236015622717752006.jpeg', 'host-a011_cam2_1232755945017605006.jpeg', 'host-a004_cam2_1233422545417652006.jpeg', 'host-a102_cam2_1241468928883330006.jpeg', 'host-a009_cam2_1236015630517752006.jpeg', 'host-a009_cam0_1236015630551162006.jpeg', 'host-a009_cam1_1236015630534319006.jpeg', 'host-a011_cam1_1233964304734517006.jpeg', 'host-a004_cam2_1233011752417652006.jpeg', 'host-a102_cam3_1241904558000000006.jpeg', 'host-a102_cam2_1241904557983330006.jpeg', 'host-a102_cam6_1241904543950000006.jpeg', 'host-a101_cam1_1240877592666660006.jpeg', 'host-a009_cam1_1236015621534319006.jpeg', 'host-a101_cam1_1240877590466660006.jpeg', 'host-a102_cam1_1241878225266660006.jpeg', 'host-a007_cam4_1230936242516094006.jpeg', 'host-a011_cam0_1234553377151142006.jpeg', 'host-a004_cam1_1233421995234300006.jpeg', 'host-a004_cam0_1233421995251064006.jpeg', 'host-a009_cam2_1236015617117752006.jpeg', 'host-a004_cam1_1232833320234300006.jpeg', 'host-a101_cam1_1243102890265668006.jpeg', 'host-a007_cam0_1233955141650897006.jpeg', 'host-a011_cam4_1232492195084485006.jpeg', 'host-a004_cam0_1233616005551064006.jpeg', 'host-a004_cam0_1233014363851064006.jpeg', 'host-a101_cam0_1240877600650000006.jpeg', 'host-a004_cam6_1233422009050948006.jpeg', 'host-a101_cam1_1240877608066660006.jpeg', 'host-a101_cam2_1240877608083330006.jpeg', 'host-a101_cam3_1240877608000000006.jpeg', 'host-a101_cam4_1240877608016660006.jpeg', 'host-a102_cam1_1241878224666660006.jpeg', 'host-a004_cam2_1233421998017652006.jpeg', 'host-a012_cam1_1237329868234261006.jpeg', 'host-a008_cam5_1235776286967733006.jpeg', 'host-a007_cam2_1233960464217643006.jpeg', 'host-a007_cam3_1233960464200869006.jpeg', 'host-a006_cam1_1236038154834412006.jpeg', 'host-a102_cam6_1242684262844000006.jpeg', 'host-a102_cam2_1242684262882827006.jpeg', 'host-a102_cam0_1242684262849512006.jpeg', 'host-a102_cam1_1242684262866142006.jpeg', 'host-a011_cam1_1232817034234517006.jpeg', 'host-a007_cam4_1230936222316094006.jpeg', 'host-a012_cam0_1237329867851020006.jpeg', 'host-a102_cam6_1242510611044000006.jpeg', 'host-a006_cam1_1236037888234412006.jpeg', 'host-a004_cam1_1233422555234300006.jpeg', 'host-a007_cam1_1233955133034286006.jpeg', 'host-a004_cam1_1233422555634300006.jpeg', 'host-a008_cam0_1236016353651171006.jpeg', 'host-a101_cam5_1241462214333330006.jpeg', 'host-a101_cam2_1241886986783330006.jpeg', 'host-a006_cam3_1236038140800777006.jpeg', 'host-a101_cam4_1241462216316660006.jpeg', 'host-a011_cam2_1232817047417605006.jpeg', 'host-a006_cam1_1236037895034412006.jpeg', 'host-a007_cam5_1232490785667475006.jpeg', 'host-a009_cam0_1236015620151162006.jpeg', 'host-a004_cam3_1233963864000897006.jpeg', 'host-a004_cam2_1233963864017652006.jpeg', 'host-a004_cam6_1233963859250948006.jpeg', 'host-a009_cam4_1231200864015930006.jpeg', 'host-a009_cam4_1231200863215930006.jpeg', 'host-a009_cam5_1231200863232771006.jpeg', 'host-a009_cam5_1236014673067552006.jpeg', 'host-a004_cam2_1233616000717652006.jpeg', 'host-a004_cam1_1233421995434300006.jpeg', 'host-a011_cam2_1232755935017605006.jpeg', 'host-a004_cam3_1233616007900897006.jpeg', 'host-a006_cam4_1236038144284380006.jpeg', 'host-a008_cam5_1235776293167733006.jpeg', 'host-a102_cam6_1242510609444000006.jpeg', 'host-a102_cam3_1242510609499393006.jpeg', 'host-a102_cam4_1242510609415609006.jpeg', 'host-a004_cam3_1233011753200897006.jpeg', 'host-a011_cam1_1232817042634517006.jpeg', 'host-a008_cam0_1235776286151171006.jpeg', 'host-a008_cam5_1235776286167733006.jpeg', 'host-a007_cam6_1233955150450905006.jpeg', 'host-a011_cam2_1233963427217605006.jpeg', 'host-a009_cam2_1236014662217752006.jpeg', 'host-a102_cam6_1241904551750000006.jpeg', 'host-a007_cam1_1232470061234286006.jpeg', 'host-a007_cam0_1232470061250897006.jpeg', 'host-a007_cam2_1233955143817643006.jpeg', 'host-a007_cam3_1233955143800869006.jpeg', 'host-a007_cam4_1230936226316094006.jpeg', 'host-a009_cam0_1236013305851162006.jpeg', 'host-a008_cam2_1235776301717906006.jpeg', 'host-a008_cam3_1235776301701057006.jpeg', 'host-a008_cam6_1235776301751058006.jpeg', 'host-a011_cam1_1232755943234517006.jpeg', 'host-a009_cam6_1231200859449231006.jpeg', 'host-a102_cam2_1241904547983330006.jpeg', 'host-a008_cam6_1236016350251058006.jpeg', 'host-a011_cam1_1232755938834517006.jpeg', 'host-a004_cam2_1232833321617652006.jpeg', 'host-a102_cam4_1242510608015623006.jpeg', 'host-a008_cam6_1235776306951058006.jpeg', 'host-a007_cam5_1230936241132827006.jpeg', 'host-a101_cam4_1241893239216660006.jpeg', 'host-a101_cam1_1241893239266660006.jpeg', 'host-a007_cam5_1230936221932827006.jpeg', 'host-a011_cam2_1232841335617605006.jpeg', 'host-a011_cam3_1232841335600995006.jpeg', 'host-a102_cam4_1242510607415638006.jpeg', 'host-a011_cam1_1232817038634517006.jpeg', 'host-a008_cam3_1236016356601057006.jpeg', 'host-a101_cam4_1240877610216660006.jpeg', 'host-a101_cam3_1240877610200000006.jpeg', 'host-a102_cam6_1242684258444000006.jpeg', 'host-a007_cam2_1233955143017643006.jpeg', 'host-a101_cam4_1241893254016660006.jpeg', 'host-a101_cam3_1241893254000000006.jpeg', 'host-a101_cam2_1241893254083330006.jpeg', 'host-a009_cam4_1236014669284403006.jpeg', 'host-a101_cam1_1241893244666660006.jpeg', 'host-a101_cam4_1241893244616660006.jpeg', 'host-a102_cam3_1241904559300000006.jpeg', 'host-a102_cam1_1241904556966660006.jpeg', 'host-a011_cam4_1232492217084485006.jpeg', 'host-a006_cam1_1237322905834412006.jpeg', 'host-a102_cam4_1242662283516038006.jpeg', 'host-a011_cam2_1233963422417605006.jpeg', 'host-a011_cam1_1233964304934517006.jpeg', 'host-a005_cam5_1231201458732576006.jpeg', 'host-a007_cam0_1230485649449429006.jpeg', 'host-a008_cam6_1235776305551058006.jpeg', 'host-a008_cam1_1235776305534433006.jpeg', 'host-a004_cam2_1233616010917652006.jpeg', 'host-a004_cam2_1233014365417652006.jpeg', 'host-a008_cam0_1236016353451171006.jpeg', 'host-a004_cam2_1233602030817652006.jpeg', 'host-a011_cam1_1232755940034517006.jpeg', 'host-a008_cam6_1235776306751058006.jpeg', 'host-a011_cam2_1233964306517605006.jpeg', 'host-a011_cam4_1232492194284485006.jpeg', 'host-a006_cam1_1236038148434412006.jpeg', 'host-a006_cam3_1236037884800777006.jpeg', 'host-a011_cam4_1232839950484485006.jpeg', 'host-a011_cam1_1232817040034517006.jpeg', 'host-a011_cam1_1234553377334517006.jpeg', 'host-a011_cam0_1234553377351142006.jpeg', 'host-a011_cam2_1233963424817605006.jpeg', 'host-a007_cam6_1233955150850905006.jpeg', 'host-a009_cam1_1236015628934319006.jpeg', 'host-a102_cam1_1241878200666660006.jpeg', 'host-a102_cam5_1242510605832279006.jpeg', 'host-a102_cam0_1242510605849215006.jpeg', 'host-a007_cam4_1230936241916094006.jpeg', 'host-a011_cam1_1232835309034517006.jpeg', 'host-a011_cam4_1232492207084485006.jpeg', 'host-a004_cam3_1233535974900897006.jpeg', 'host-a101_cam1_1241889725466660006.jpeg', 'host-a101_cam0_1241889725450000006.jpeg', 'host-a101_cam5_1241889725433330006.jpeg', 'host-a007_cam2_1234551933517643006.jpeg', 'host-a101_cam1_1241893252066660006.jpeg', 'host-a101_cam2_1241893252083330006.jpeg', 'host-a101_cam4_1241893252016660006.jpeg', 'host-a102_cam6_1241468918050000006.jpeg', 'host-a006_cam2_1237322886017711006.jpeg', 'host-a008_cam6_1235776300751058006.jpeg', 'host-a008_cam2_1235776298517906006.jpeg', 'host-a009_cam1_1236013297834319006.jpeg', 'host-a006_cam2_1236037896417711006.jpeg', 'host-a011_cam2_1232841335417605006.jpeg', 'host-a006_cam1_1237322907634412006.jpeg', 'host-a009_cam6_1236013301651075006.jpeg', 'host-a011_cam2_1233963426817605006.jpeg', 'host-a004_cam1_1232815268834300006.jpeg', 'host-a004_cam2_1232815268817652006.jpeg', 'host-a101_cam1_1243102890065683006.jpeg', 'host-a004_cam1_1233421997234300006.jpeg', 'host-a011_cam3_1232755958800995006.jpeg', 'host-a008_cam1_1235776293734433006.jpeg', 'host-a011_cam3_1232817048200995006.jpeg', 'host-a012_cam2_1237329869217630006.jpeg', 'host-a007_cam2_1233955135217643006.jpeg', 'host-a007_cam0_1233955135250897006.jpeg', 'host-a007_cam1_1233955135234286006.jpeg', 'host-a005_cam5_1231201459732576006.jpeg', 'host-a101_cam2_1241889726683330006.jpeg', 'host-a101_cam5_1241889726633330006.jpeg', 'host-a011_cam2_1232839956817605006.jpeg', 'host-a011_cam2_1233963424017605006.jpeg', 'host-a101_cam1_1243102890665742006.jpeg', 'host-a007_cam2_1233955134817643006.jpeg', 'host-a102_cam6_1241904543550000006.jpeg', 'host-a004_cam1_1233961190234300006.jpeg', 'host-a101_cam0_1241472428550000006.jpeg', 'host-a009_cam5_1236014668267552006.jpeg', 'host-a009_cam4_1231200864215930006.jpeg', 'host-a011_cam3_1232841336400995006.jpeg', 'host-a011_cam3_1232755958600995006.jpeg', 'host-a011_cam2_1232755958617605006.jpeg', 'host-a102_cam5_1242510615632249006.jpeg', 'host-a102_cam0_1242510615649319006.jpeg', 'host-a004_cam3_1233011752800897006.jpeg', 'host-a004_cam2_1233011752817652006.jpeg', 'host-a006_cam2_1236037899017711006.jpeg', 'host-a101_cam0_1240877606650000006.jpeg', 'host-a101_cam2_1240877606683330006.jpeg', 'host-a004_cam0_1233421994251064006.jpeg', 'host-a101_cam4_1241893248616660006.jpeg', 'host-a101_cam1_1241893248666660006.jpeg', 'host-a011_cam2_1233963426617605006.jpeg', 'host-a011_cam5_1232839949467719006.jpeg', 'host-a101_cam5_1240877603033330006.jpeg', 'host-a101_cam1_1240877603066660006.jpeg', 'host-a006_cam1_1236038132634412006.jpeg', 'host-a006_cam2_1236037899217711006.jpeg', 'host-a102_cam3_1242684268899586006.jpeg', 'host-a009_cam3_1236014670000980006.jpeg', 'host-a009_cam4_1236014670084403006.jpeg', 'host-a004_cam1_1233535972534300006.jpeg', 'host-a011_cam2_1233963425417605006.jpeg', 'host-a007_cam5_1233955154067475006.jpeg', 'host-a007_cam1_1234551932734286006.jpeg', 'host-a004_cam6_1233011748850948006.jpeg', 'host-a011_cam1_1232755936634517006.jpeg', 'host-a011_cam1_1232817041234517006.jpeg', 'host-a102_cam4_1242510617815623006.jpeg', 'host-a011_cam0_1232839940651142006.jpeg', 'host-a007_cam4_1230936223916094006.jpeg', 'host-a101_cam1_1241472429766660006.jpeg', 'host-a004_cam1_1233422540434300006.jpeg', 'host-a101_cam1_1240877606066660006.jpeg', 'host-a011_cam6_1232839945451145006.jpeg', 'host-a101_cam1_1240877605266660006.jpeg', 'host-a012_cam0_1237329866851020006.jpeg', 'host-a007_cam1_1233955136634286006.jpeg', 'host-a007_cam1_1232470062234286006.jpeg', 'host-a004_cam1_1233602023834300006.jpeg', 'host-a102_cam1_1242684267066112006.jpeg', 'host-a007_cam0_1233955153650897006.jpeg', 'host-a007_cam5_1233955153667475006.jpeg', 'host-a004_cam2_1233535974717652006.jpeg', 'host-a101_cam2_1240877607483330006.jpeg', 'host-a101_cam4_1240877607416660006.jpeg', 'host-a102_cam1_1242684262066172006.jpeg', 'host-a102_cam6_1242684262044000006.jpeg', 'host-a102_cam0_1242684262049497006.jpeg', 'host-a006_cam5_1236038136867650006.jpeg', 'host-a006_cam2_1237322902617711006.jpeg', 'host-a007_cam2_1233960453217643006.jpeg', 'host-a007_cam1_1233960453234286006.jpeg', 'host-a011_cam1_1232817044834517006.jpeg', 'host-a007_cam5_1230485650832827006.jpeg', 'host-a007_cam4_1230485650816094006.jpeg', 'host-a007_cam4_1230936224316094006.jpeg', 'host-a006_cam2_1236038150417711006.jpeg', 'host-a006_cam3_1236038150400777006.jpeg', 'host-a011_cam1_1232839942234517006.jpeg', 'host-a011_cam3_1232839942200995006.jpeg', 'host-a101_cam4_1241462215516660006.jpeg', 'host-a004_cam2_1233421998217652006.jpeg', 'host-a007_cam4_1230485651216094006.jpeg', 'host-a101_cam1_1242493648565935006.jpeg', 'host-a008_cam6_1235776300351058006.jpeg', 'host-a008_cam3_1235776300301057006.jpeg', 'host-a008_cam1_1235776300334433006.jpeg', 'host-a101_cam5_1241889725233330006.jpeg', 'host-a101_cam0_1241889725250000006.jpeg', 'host-a009_cam0_1236015615351162006.jpeg', 'host-a101_cam1_1241889726066660006.jpeg', 'host-a101_cam5_1241889726033330006.jpeg', 'host-a008_cam3_1235777222701057006.jpeg', 'host-a008_cam4_1235777222784403006.jpeg', 'host-a101_cam3_1241893253100000006.jpeg', 'host-a101_cam4_1241893253016660006.jpeg', 'host-a101_cam2_1241893253083330006.jpeg', 'host-a007_cam2_1233955143617643006.jpeg', 'host-a004_cam2_1233616007717652006.jpeg', 'host-a004_cam3_1233616007700897006.jpeg', 'host-a007_cam1_1233960459834286006.jpeg', 'host-a007_cam0_1233960459850897006.jpeg', 'host-a102_cam6_1242510615844000006.jpeg', 'host-a102_cam5_1242510615832249006.jpeg', 'host-a011_cam2_1233964306717605006.jpeg', 'host-a102_cam0_1242684261249482006.jpeg', 'host-a007_cam5_1230485638232827006.jpeg', 'host-a007_cam0_1230485638249429006.jpeg', 'host-a004_cam2_1233602031617652006.jpeg', 'host-a006_cam2_1236038149617711006.jpeg', 'host-a102_cam2_1241468923883330006.jpeg', 'host-a101_cam5_1241462213733330006.jpeg', 'host-a007_cam4_1232490786084150006.jpeg', 'host-a011_cam4_1232492193884485006.jpeg', 'host-a004_cam6_1233535976950948006.jpeg', 'host-a011_cam1_1232755942634517006.jpeg', 'host-a006_cam2_1237322900217711006.jpeg', 'host-a008_cam4_1235777223984403006.jpeg', 'host-a102_cam1_1241468922066660006.jpeg', 'host-a011_cam5_1232492214067719006.jpeg', 'host-a006_cam1_1236038132434412006.jpeg', 'host-a007_cam3_1234551934300869006.jpeg', 'host-a101_cam1_1240877590666660006.jpeg', 'host-a101_cam5_1241887001133330006.jpeg', 'host-a004_cam1_1233535977934300006.jpeg', 'host-a004_cam6_1233535977950948006.jpeg', 'host-a102_cam4_1242510620015623006.jpeg', 'host-a004_cam2_1233422558417652006.jpeg', 'host-a006_cam2_1237322898617711006.jpeg', 'host-a007_cam3_1232470063800869006.jpeg', 'host-a006_cam1_1237322907434412006.jpeg', 'host-a004_cam1_1232815268234300006.jpeg', 'host-a004_cam0_1232815268251064006.jpeg', 'host-a102_cam1_1241904556166660006.jpeg', 'host-a102_cam0_1241904556150000006.jpeg', 'host-a004_cam1_1233602022834300006.jpeg', 'host-a102_cam1_1242684266466142006.jpeg', 'host-a102_cam0_1242684266449556006.jpeg', 'host-a007_cam1_1233955142834286006.jpeg', 'host-a101_cam0_1241462212950000006.jpeg', 'host-a101_cam5_1241462212933330006.jpeg', 'host-a009_cam1_1236015628334319006.jpeg', 'host-a004_cam3_1233011753000897006.jpeg', 'host-a101_cam4_1241893239816660006.jpeg', 'host-a101_cam1_1241893239866660006.jpeg', 'host-a009_cam1_1236013297634319006.jpeg', 'host-a004_cam1_1232815266834300006.jpeg', 'host-a004_cam1_1232815267434300006.jpeg', 'host-a006_cam5_1236038143667650006.jpeg', 'host-a006_cam4_1236038143684380006.jpeg', 'host-a012_cam0_1237329867651020006.jpeg', 'host-a101_cam4_1241889710416660006.jpeg', 'host-a101_cam3_1241889710500000006.jpeg', 'host-a004_cam6_1233535978150948006.jpeg', 'host-a004_cam1_1233535978134300006.jpeg', 'host-a004_cam2_1233947109317652006.jpeg', 'host-a102_cam1_1242684263066127006.jpeg', 'host-a102_cam2_1242684263082827006.jpeg', 'host-a102_cam6_1242684263044000006.jpeg', 'host-a004_cam6_1233947132950948006.jpeg', 'host-a011_cam2_1233963425817605006.jpeg', 'host-a008_cam2_1236016356017906006.jpeg', 'host-a011_cam1_1232755939434517006.jpeg', 'host-a009_cam6_1236013302051075006.jpeg', 'host-a011_cam2_1233963416617605006.jpeg', 'host-a102_cam4_1242662282716038006.jpeg', 'host-a102_cam5_1242662282732530006.jpeg', 'host-a101_cam0_1240877606850000006.jpeg', 'host-a101_cam4_1240877606816660006.jpeg', 'host-a101_cam2_1240877606883330006.jpeg', 'host-a008_cam4_1235777239984403006.jpeg', 'host-a011_cam2_1233963424217605006.jpeg', 'host-a009_cam1_1236013306434319006.jpeg', 'host-a011_cam1_1232817036634517006.jpeg', 'host-a004_cam2_1232833322017652006.jpeg', 'host-a102_cam3_1242662284299497006.jpeg', 'host-a102_cam4_1242662284316068006.jpeg', 'host-a004_cam2_1233535974317652006.jpeg', 'host-a011_cam2_1233963423817605006.jpeg', 'host-a011_cam2_1233963421817605006.jpeg', 'host-a102_cam1_1241878200866660006.jpeg', 'host-a011_cam5_1232492206067719006.jpeg', 'host-a009_cam2_1236015622117752006.jpeg', 'host-a007_cam2_1233955143217643006.jpeg', 'host-a004_cam1_1233422541034300006.jpeg', 'host-a007_cam2_1233955137817643006.jpeg', 'host-a007_cam6_1233955137850905006.jpeg', 'host-a006_cam1_1237322904834412006.jpeg', 'host-a011_cam2_1232835310217605006.jpeg', 'host-a102_cam4_1242510610015623006.jpeg', 'host-a102_cam3_1242510610099393006.jpeg', 'host-a102_cam6_1242510610044000006.jpeg', 'host-a101_cam5_1240877602433330006.jpeg', 'host-a101_cam0_1240877602450000006.jpeg', 'host-a009_cam1_1236015616134319006.jpeg', 'host-a011_cam1_1232817044234517006.jpeg', 'host-a101_cam4_1241893244216660006.jpeg', 'host-a101_cam1_1241893244266660006.jpeg', 'host-a008_cam3_1235777221301057006.jpeg', 'host-a008_cam4_1235777221384403006.jpeg', 'host-a101_cam3_1241889728900000006.jpeg', 'host-a101_cam4_1241889728816660006.jpeg', 'host-a011_cam5_1232492192867719006.jpeg', 'host-a004_cam6_1233947132550948006.jpeg', 'host-a011_cam2_1233963418617605006.jpeg', 'host-a011_cam2_1232755944617605006.jpeg', 'host-a006_cam2_1237322885217711006.jpeg', 'host-a012_cam2_1237329869017630006.jpeg', 'host-a006_cam2_1237322902817711006.jpeg', 'host-a011_cam2_1232755935217605006.jpeg', 'host-a006_cam2_1236037889217711006.jpeg', 'host-a007_cam5_1233955154867475006.jpeg', 'host-a006_cam1_1237322897434412006.jpeg', 'host-a009_cam2_1236015630317752006.jpeg', 'host-a009_cam1_1236015630334319006.jpeg', 'host-a009_cam0_1236015630351162006.jpeg', 'host-a004_cam1_1233617939334300006.jpeg', 'host-a005_cam4_1231201459916091006.jpeg', 'host-a011_cam2_1232839957217605006.jpeg', 'host-a006_cam1_1237322909034412006.jpeg', 'host-a007_cam5_1233955154467475006.jpeg', 'host-a009_cam0_1236013306051162006.jpeg', 'host-a011_cam4_1232839949884485006.jpeg', 'host-a006_cam5_1236038142867650006.jpeg', 'host-a011_cam6_1233964378151145006.jpeg', 'host-a007_cam1_1233960463634286006.jpeg', 'host-a007_cam3_1233960463600869006.jpeg', 'host-a007_cam2_1233960463617643006.jpeg', 'host-a007_cam5_1230485638432827006.jpeg', 'host-a007_cam0_1230485638449429006.jpeg', 'host-a011_cam2_1232755945217605006.jpeg', 'host-a101_cam4_1241889710216660006.jpeg', 'host-a101_cam3_1241889710200000006.jpeg', 'host-a004_cam6_1232815263050948006.jpeg', 'host-a011_cam6_1233964377951145006.jpeg', 'host-a102_cam1_1241904555766660006.jpeg', 'host-a102_cam0_1241904555750000006.jpeg', 'host-a007_cam6_1233955148050905006.jpeg', 'host-a101_cam4_1241893239616660006.jpeg', 'host-a101_cam1_1241893239666660006.jpeg', 'host-a004_cam6_1233011748050948006.jpeg', 'host-a011_cam6_1232839951451145006.jpeg', 'host-a101_cam4_1240877609416660006.jpeg', 'host-a101_cam2_1240877609483330006.jpeg', 'host-a101_cam3_1240877609400000006.jpeg', 'host-a101_cam0_1240877609450000006.jpeg', 'host-a101_cam1_1240877609466660006.jpeg', 'host-a102_cam0_1242510605049215006.jpeg', 'host-a102_cam5_1242510605032219006.jpeg', 'host-a006_cam1_1237322909834412006.jpeg', 'host-a006_cam2_1237322909817711006.jpeg', 'host-a007_cam1_1233960461034286006.jpeg', 'host-a009_cam1_1236015627734319006.jpeg', 'host-a006_cam3_1236037899600777006.jpeg', 'host-a006_cam5_1236038143067650006.jpeg', 'host-a011_cam4_1232492194484485006.jpeg', 'host-a004_cam0_1232833319651064006.jpeg', 'host-a009_cam5_1231200862632771006.jpeg', 'host-a007_cam3_1233960465400869006.jpeg', 'host-a007_cam2_1233960465417643006.jpeg', 'host-a011_cam1_1232755937834517006.jpeg', 'host-a011_cam1_1232755957434517006.jpeg', 'host-a006_cam4_1236038139884380006.jpeg', 'host-a102_cam2_1241468924283330006.jpeg', 'host-a101_cam2_1241886986583330006.jpeg', 'host-a101_cam4_1241893244416660006.jpeg', 'host-a101_cam1_1241893244466660006.jpeg', 'host-a011_cam3_1232841346200995006.jpeg', 'host-a006_cam1_1236038132034412006.jpeg', 'host-a006_cam2_1236038155817711006.jpeg', 'host-a102_cam5_1242510615032249006.jpeg', 'host-a102_cam0_1242510615049319006.jpeg', 'host-a011_cam2_1233964307217605006.jpeg', 'host-a011_cam3_1232841335800995006.jpeg', 'host-a011_cam2_1232841335817605006.jpeg', 'host-a007_cam4_1230485641216094006.jpeg', 'host-a009_cam1_1236015627334319006.jpeg', 'host-a011_cam2_1233963422817605006.jpeg', 'host-a011_cam2_1233963418017605006.jpeg', 'host-a009_cam1_1236013298234319006.jpeg', 'host-a009_cam0_1236013298251162006.jpeg', 'host-a011_cam1_1232817037034517006.jpeg', 'host-a012_cam1_1237329868434261006.jpeg', 'host-a101_cam5_1241889725833330006.jpeg', 'host-a101_cam0_1241889725850000006.jpeg', 'host-a101_cam1_1241889725866660006.jpeg', 'host-a006_cam2_1237322903417711006.jpeg', 'host-a004_cam1_1233947108734300006.jpeg', 'host-a101_cam0_1242493648149512006.jpeg', 'host-a101_cam1_1242493648165979006.jpeg', 'host-a011_cam2_1232817046817605006.jpeg', 'host-a011_cam1_1232817046834517006.jpeg', 'host-a101_cam1_1241893250266660006.jpeg', 'host-a101_cam4_1241893250216660006.jpeg', 'host-a004_cam0_1233421994051064006.jpeg', 'host-a006_cam1_1236038148834412006.jpeg', 'host-a011_cam1_1232755957034517006.jpeg', 'host-a004_cam2_1232815269617652006.jpeg', 'host-a011_cam2_1233963427417605006.jpeg', 'host-a011_cam1_1232817036234517006.jpeg', 'host-a007_cam6_1233955149850905006.jpeg', 'host-a101_cam1_1240877589866660006.jpeg', 'host-a004_cam2_1233535973917652006.jpeg', 'host-a008_cam4_1235777217784403006.jpeg', 'host-a004_cam1_1233615998934300006.jpeg', 'host-a008_cam4_1235777217984403006.jpeg', 'host-a004_cam2_1233602025217652006.jpeg', 'host-a004_cam2_1233616011317652006.jpeg', 'host-a011_cam5_1236037942067719006.jpeg', 'host-a008_cam6_1235776305351058006.jpeg', 'host-a008_cam1_1235776305334433006.jpeg', 'host-a009_cam2_1236015621917752006.jpeg', 'host-a012_cam0_1237329867451020006.jpeg', 'host-a102_cam2_1241904558583330006.jpeg', 'host-a102_cam3_1241904558600000006.jpeg', 'host-a004_cam1_1233421996434300006.jpeg', 'host-a101_cam1_1243102890465683006.jpeg', 'host-a004_cam2_1232815269417652006.jpeg', 'host-a004_cam3_1232815269400897006.jpeg', 'host-a102_cam6_1241468919250000006.jpeg', 'host-a101_cam2_1241893255283330006.jpeg', 'host-a101_cam3_1241893255300000006.jpeg', 'host-a101_cam0_1242493647749512006.jpeg', 'host-a101_cam1_1242493647765979006.jpeg', 'host-a007_cam1_1233955142234286006.jpeg', 'host-a101_cam3_1241472432200000006.jpeg', 'host-a007_cam1_1234551932934286006.jpeg', 'host-a007_cam4_1233955156184150006.jpeg', 'host-a007_cam5_1233955156167475006.jpeg', 'host-a008_cam3_1235776302501057006.jpeg', 'host-a011_cam5_1232839948667719006.jpeg', 'host-a102_cam4_1242510618015623006.jpeg', 'host-a009_cam6_1231200859649231006.jpeg', 'host-a006_cam2_1237322886217711006.jpeg', 'host-a006_cam1_1237322886234412006.jpeg', 'host-a101_cam1_1240877609066660006.jpeg', 'host-a101_cam0_1240877609050000006.jpeg', 'host-a101_cam2_1240877609083330006.jpeg', 'host-a101_cam3_1240877609000000006.jpeg', 'host-a101_cam4_1240877609016660006.jpeg', 'host-a101_cam1_1240877605866660006.jpeg', 'host-a006_cam2_1236038150017711006.jpeg', 'host-a011_cam2_1232817046417605006.jpeg', 'host-a011_cam1_1232817046434517006.jpeg', 'host-a007_cam5_1232490785467475006.jpeg', 'host-a004_cam1_1233421996234300006.jpeg', 'host-a009_cam5_1236014668667552006.jpeg', 'host-a004_cam1_1232833321034300006.jpeg', 'host-a005_cam4_1231201461316091006.jpeg', 'host-a009_cam4_1236014669484403006.jpeg', 'host-a011_cam2_1233963421217605006.jpeg', 'host-a004_cam1_1233422541434300006.jpeg', 'host-a011_cam2_1232835310617605006.jpeg', 'host-a101_cam5_1241462214533330006.jpeg', 'host-a007_cam4_1230936223716094006.jpeg', 'host-a101_cam4_1241462215316660006.jpeg', 'host-a006_cam2_1237322886617711006.jpeg', 'host-a101_cam2_1241886986383330006.jpeg', 'host-a011_cam1_1232817035834517006.jpeg', 'host-a009_cam1_1236015629534319006.jpeg', 'host-a004_cam3_1233947110100897006.jpeg', 'host-a011_cam2_1232835310017605006.jpeg', 'host-a008_cam4_1235777224384403006.jpeg', 'host-a102_cam1_1241468922466660006.jpeg', 'host-a011_cam0_1232839954651142006.jpeg', 'host-a102_cam4_1242662282916038006.jpeg', 'host-a009_cam2_1236013300017752006.jpeg', 'host-a009_cam3_1236013300000980006.jpeg', 'host-a102_cam4_1242662284116068006.jpeg', 'host-a102_cam3_1242662284099497006.jpeg', 'host-a007_cam3_1233955144000869006.jpeg', 'host-a006_cam1_1236038154434412006.jpeg', 'host-a008_cam3_1235776299701057006.jpeg', 'host-a008_cam1_1235776299734433006.jpeg', 'host-a004_cam0_1233422553851064006.jpeg', 'host-a009_cam2_1236013298417752006.jpeg', 'host-a009_cam1_1236013298434319006.jpeg', 'host-a011_cam4_1232839950284485006.jpeg', 'host-a004_cam1_1233961190434300006.jpeg', 'host-a011_cam6_1232835302251145006.jpeg', 'host-a011_cam2_1233963420817605006.jpeg', 'host-a007_cam1_1233960452834286006.jpeg', 'host-a004_cam1_1233535973334300006.jpeg', 'host-a006_cam2_1237322901017711006.jpeg', 'host-a102_cam0_1242510604649215006.jpeg', 'host-a004_cam1_1233422554434300006.jpeg', 'host-a004_cam1_1233602023634300006.jpeg', 'host-a011_cam2_1233963417217605006.jpeg', 'host-a102_cam6_1241904543150000006.jpeg', 'host-a007_cam5_1230936221532827006.jpeg', 'host-a007_cam5_1230485639032827006.jpeg', 'host-a008_cam4_1235777219184403006.jpeg', 'host-a008_cam3_1235777219101057006.jpeg', 'host-a011_cam2_1232835310417605006.jpeg', 'host-a008_cam0_1235777238151171006.jpeg', 'host-a008_cam5_1235777238167733006.jpeg', 'host-a009_cam5_1236014672467552006.jpeg', 'host-a007_cam1_1233955135634286006.jpeg', 'host-a008_cam4_1235777219584403006.jpeg', 'host-a008_cam3_1235777219501057006.jpeg', 'host-a006_cam2_1237322901417711006.jpeg', 'host-a007_cam3_1233955138600869006.jpeg', 'host-a012_cam2_1237329869417630006.jpeg', 'host-a102_cam1_1241878225366660006.jpeg', 'host-a102_cam0_1242684261049482006.jpeg', 'host-a007_cam5_1230485650632827006.jpeg', 'host-a004_cam3_1233421999000897006.jpeg', 'host-a004_cam2_1233421999017652006.jpeg', 'host-a008_cam1_1235776294534433006.jpeg', 'host-a102_cam4_1242662283116038006.jpeg', 'host-a004_cam0_1232815268051064006.jpeg', 'host-a004_cam1_1232815268034300006.jpeg', 'host-a004_cam2_1232815268017652006.jpeg', 'host-a102_cam3_1242684245099660006.jpeg', 'host-a102_cam1_1241904556566660006.jpeg', 'host-a011_cam1_1232839942434517006.jpeg', 'host-a004_cam1_1233602030634300006.jpeg', 'host-a011_cam1_1232755938234517006.jpeg', 'host-a011_cam2_1233963418417605006.jpeg', 'host-a009_cam4_1236014669084403006.jpeg', 'host-a012_cam0_1237329884651020006.jpeg', 'host-a012_cam0_1237329884451020006.jpeg', 'host-a004_cam6_1233535979750948006.jpeg', 'host-a004_cam2_1233535979717652006.jpeg', 'host-a011_cam2_1232755934817605006.jpeg', 'host-a004_cam2_1233422556817652006.jpeg', 'host-a101_cam4_1241889727616660006.jpeg', 'host-a101_cam3_1241889727700000006.jpeg', 'host-a004_cam6_1233535979350948006.jpeg', 'host-a004_cam2_1233535979317652006.jpeg', 'host-a006_cam5_1236038134867650006.jpeg', 'host-a006_cam3_1236038134800777006.jpeg', 'host-a101_cam4_1241893244016660006.jpeg', 'host-a101_cam1_1241893244066660006.jpeg', 'host-a004_cam2_1233961185417652006.jpeg', 'host-a004_cam1_1233947108334300006.jpeg', 'host-a101_cam4_1241893240216660006.jpeg', 'host-a101_cam1_1241893240266660006.jpeg', 'host-a011_cam3_1232839957600995006.jpeg', 'host-a101_cam0_1240877600850000006.jpeg', 'host-a011_cam2_1233963426417605006.jpeg', 'host-a008_cam1_1235776295534433006.jpeg', 'host-a011_cam5_1232839949267719006.jpeg', 'host-a004_cam2_1233535980117652006.jpeg', 'host-a011_cam0_1232841343851142006.jpeg', 'host-a102_cam2_1241468923283330006.jpeg', 'host-a007_cam2_1233960463017643006.jpeg', 'host-a007_cam1_1233960463034286006.jpeg', 'host-a004_cam2_1233421997617652006.jpeg', 'host-a101_cam1_1240877605466660006.jpeg', 'host-a006_cam5_1236038135867650006.jpeg', 'host-a011_cam6_1232492209651145006.jpeg', 'host-a004_cam3_1233422545800897006.jpeg', 'host-a009_cam3_1236015623500980006.jpeg', 'host-a008_cam3_1235777219301057006.jpeg', 'host-a008_cam4_1235777219384403006.jpeg', 'host-a007_cam2_1233960462617643006.jpeg', 'host-a007_cam1_1233960462634286006.jpeg', 'host-a008_cam5_1235776288367733006.jpeg', 'host-a004_cam3_1232815252600897006.jpeg', 'host-a008_cam3_1235776299501057006.jpeg', 'host-a008_cam4_1235777240184403006.jpeg', 'host-a011_cam2_1232755934417605006.jpeg', 'host-a007_cam1_1233955135834286006.jpeg', 'host-a006_cam2_1236038150217711006.jpeg', 'host-a102_cam5_1242510605232264006.jpeg', 'host-a102_cam0_1242510605249215006.jpeg', 'host-a011_cam1_1232817041434517006.jpeg', 'host-a012_cam1_1237329886034261006.jpeg', 'host-a012_cam0_1237329886051020006.jpeg', 'host-a102_cam1_1241904546766660006.jpeg', 'host-a102_cam0_1241904546750000006.jpeg', 'host-a006_cam2_1237322886817711006.jpeg', 'host-a006_cam3_1237322886800777006.jpeg', 'host-a008_cam3_1235776302101057006.jpeg', 'host-a007_cam2_1232470052417643006.jpeg', 'host-a101_cam1_1240877588266660006.jpeg', 'host-a008_cam1_1235776297734433006.jpeg', 'host-a004_cam6_1233422008050948006.jpeg', 'host-a004_cam1_1233011751434300006.jpeg', 'host-a007_cam2_1233960464617643006.jpeg', 'host-a004_cam6_1233422552650948006.jpeg', 'host-a006_cam2_1237322886417711006.jpeg', 'host-a006_cam0_1236038131650935006.jpeg', 'host-a011_cam2_1233963416417605006.jpeg', 'host-a007_cam4_1233955155484150006.jpeg', 'host-a008_cam5_1235776287767733006.jpeg', 'host-a004_cam2_1233616000917652006.jpeg', 'host-a009_cam2_1236015629917752006.jpeg', 'host-a009_cam1_1236015629934319006.jpeg', 'host-a012_cam0_1237329885451020006.jpeg', 'host-a012_cam1_1237329885434261006.jpeg', 'host-a008_cam0_1235776299351171006.jpeg', 'host-a008_cam2_1235776299317906006.jpeg', 'host-a009_cam3_1236014670200980006.jpeg', 'host-a007_cam0_1233007770050897006.jpeg', 'host-a008_cam5_1235776291967733006.jpeg', 'host-a009_cam0_1236015620551162006.jpeg', 'host-a011_cam5_1232492192467719006.jpeg', 'host-a102_cam2_1242662281182456006.jpeg', 'host-a102_cam0_1242662281149378006.jpeg', 'host-a006_cam1_1237322897834412006.jpeg', 'host-a007_cam5_1230485639432827006.jpeg', 'host-a101_cam4_1241893249616660006.jpeg', 'host-a101_cam1_1241893249666660006.jpeg', 'host-a007_cam1_1233007770834286006.jpeg', 'host-a007_cam4_1230485641816094006.jpeg', 'host-a011_cam2_1232841335017605006.jpeg', 'host-a101_cam4_1241889711616660006.jpeg', 'host-a011_cam2_1233963427617605006.jpeg', 'host-a007_cam5_1230936241732827006.jpeg', 'host-a004_cam2_1233422558817652006.jpeg', 'host-a007_cam1_1233955142634286006.jpeg', 'host-a005_cam5_1231201458932576006.jpeg', 'host-a102_cam5_1242510622232056006.jpeg', 'host-a102_cam0_1242510622249156006.jpeg', 'host-a008_cam4_1235777218984403006.jpeg', 'host-a008_cam3_1235777218901057006.jpeg', 'host-a101_cam4_1241893241016660006.jpeg', 'host-a101_cam1_1241893241066660006.jpeg', 'host-a009_cam2_1236013308017752006.jpeg', 'host-a007_cam2_1233960453017643006.jpeg', 'host-a004_cam2_1233422557617652006.jpeg', 'host-a011_cam5_1232492213667719006.jpeg', 'host-a011_cam4_1232492207284485006.jpeg', 'host-a011_cam4_1232492215884485006.jpeg', 'host-a009_cam1_1236015629734319006.jpeg', 'host-a007_cam3_1233955138400869006.jpeg', 'host-a101_cam4_1243095621916083006.jpeg', 'host-a011_cam1_1232841333634517006.jpeg', 'host-a101_cam3_1241889711200000006.jpeg', 'host-a101_cam4_1241889728216660006.jpeg', 'host-a101_cam3_1241889728300000006.jpeg', 'host-a102_cam5_1242510615232249006.jpeg', 'host-a102_cam0_1242510615249319006.jpeg', 'host-a101_cam1_1241889725666660006.jpeg', 'host-a101_cam0_1241889725650000006.jpeg', 'host-a101_cam5_1241889725633330006.jpeg', 'host-a101_cam1_1240877595266660006.jpeg', 'host-a007_cam6_1233955150250905006.jpeg', 'host-a005_cam4_1231201461116091006.jpeg', 'host-a011_cam1_1232835309234517006.jpeg', 'host-a007_cam5_1230936241532827006.jpeg', 'host-a006_cam3_1237322887600777006.jpeg', 'host-a004_cam2_1233422559017652006.jpeg', 'host-a008_cam4_1235777218184403006.jpeg', 'host-a004_cam2_1233014365217652006.jpeg', 'host-a009_cam2_1236013300217752006.jpeg', 'host-a009_cam3_1236013300200980006.jpeg', 'host-a011_cam1_1233964393734517006.jpeg', 'host-a004_cam1_1233535972734300006.jpeg', 'host-a006_cam2_1237322902017711006.jpeg', 'host-a101_cam2_1240877598883330006.jpeg', 'host-a101_cam4_1243095622116098006.jpeg', 'host-a011_cam4_1232492215484485006.jpeg', 'host-a011_cam5_1232492215467719006.jpeg', 'host-a101_cam3_1241472431400000006.jpeg', 'host-a101_cam2_1241472431383330006.jpeg', 'host-a004_cam1_1233421995634300006.jpeg', 'host-a011_cam1_1233964384734517006.jpeg', 'host-a006_cam5_1236038135467650006.jpeg', 'host-a008_cam1_1236016354234433006.jpeg', 'host-a012_cam6_1237329880650881006.jpeg', 'host-a011_cam4_1232839950684485006.jpeg', 'host-a011_cam2_1233963417817605006.jpeg', 'host-a009_cam3_1236013300400980006.jpeg', 'host-a101_cam1_1241472429366660006.jpeg', 'host-a101_cam0_1241472429350000006.jpeg', 'host-a007_cam0_1233955153050897006.jpeg', 'host-a101_cam1_1241472412766660006.jpeg', 'host-a004_cam0_1233421994651064006.jpeg', 'host-a011_cam6_1232492208851145006.jpeg', 'host-a011_cam4_1232492208884485006.jpeg', 'host-a011_cam3_1232492208800995006.jpeg', 'host-a008_cam4_1235777222984403006.jpeg', 'host-a008_cam3_1235777222901057006.jpeg', 'host-a006_cam2_1237322900617711006.jpeg', 'host-a102_cam3_1241904548400000006.jpeg', 'host-a101_cam3_1240877611600000006.jpeg', 'host-a101_cam4_1240877611616660006.jpeg', 'host-a007_cam4_1230936225116094006.jpeg', 'host-a011_cam0_1233964383951142006.jpeg', 'host-a011_cam2_1233963428217605006.jpeg', 'host-a101_cam1_1241893246866660006.jpeg', 'host-a006_cam1_1237322908234412006.jpeg', 'host-a009_cam2_1236015617317752006.jpeg', 'host-a011_cam0_1232835308251142006.jpeg', 'host-a011_cam2_1232835308217605006.jpeg', 'host-a004_cam2_1233422558017652006.jpeg', 'host-a101_cam3_1241893255500000006.jpeg', 'host-a101_cam2_1241893255483330006.jpeg', 'host-a101_cam5_1240877602633330006.jpeg', 'host-a011_cam2_1233963416817605006.jpeg', 'host-a101_cam4_1241893240616660006.jpeg', 'host-a101_cam1_1241893240666660006.jpeg', 'host-a101_cam1_1240877595066660006.jpeg', 'host-a008_cam4_1235777241184403006.jpeg', 'host-a004_cam1_1233014364234300006.jpeg', 'host-a101_cam1_1242493647965979006.jpeg', 'host-a101_cam0_1242493647949512006.jpeg', 'host-a011_cam3_1232492195600995006.jpeg', 'host-a011_cam4_1232492195684485006.jpeg', 'host-a101_cam2_1240877607883330006.jpeg', 'host-a101_cam3_1240877607900000006.jpeg', 'host-a101_cam1_1240877607866660006.jpeg', 'host-a101_cam4_1240877607816660006.jpeg', 'host-a102_cam0_1242684266249556006.jpeg', 'host-a102_cam1_1242684266266142006.jpeg', 'host-a004_cam1_1232815269034300006.jpeg', 'host-a004_cam2_1232815269017652006.jpeg', 'host-a101_cam5_1240877602233330006.jpeg', 'host-a101_cam0_1240877602250000006.jpeg', 'host-a006_cam5_1236038143267650006.jpeg', 'host-a011_cam1_1232755944034517006.jpeg', 'host-a102_cam1_1241468928466660006.jpeg', 'host-a102_cam0_1241904546150000006.jpeg', 'host-a007_cam3_1233960463800869006.jpeg', 'host-a007_cam2_1233960463817643006.jpeg', 'host-a007_cam1_1233960463834286006.jpeg', 'host-a101_cam4_1241893253616660006.jpeg', 'host-a101_cam3_1241893253700000006.jpeg', 'host-a101_cam2_1241893253683330006.jpeg', 'host-a004_cam6_1233947131950948006.jpeg', 'host-a009_cam0_1236015626551162006.jpeg', 'host-a011_cam2_1232835309817605006.jpeg', 'host-a004_cam2_1232825407017652006.jpeg', 'host-a004_cam0_1232833319851064006.jpeg', 'host-a102_cam1_1242662280365638006.jpeg', 'host-a004_cam6_1232815263850948006.jpeg', 'host-a009_cam3_1236015618100980006.jpeg', 'host-a011_cam2_1233963422617605006.jpeg', 'host-a007_cam0_1233955142050897006.jpeg', 'host-a007_cam1_1233955142034286006.jpeg', 'host-a101_cam4_1241893253816660006.jpeg', 'host-a101_cam3_1241893253800000006.jpeg', 'host-a101_cam2_1241893253883330006.jpeg', 'host-a102_cam1_1241878224066660006.jpeg', 'host-a101_cam1_1241472429566660006.jpeg', 'host-a008_cam1_1235776297334433006.jpeg', 'host-a012_cam0_1237329885851020006.jpeg', 'host-a012_cam1_1237329885834261006.jpeg', 'host-a004_cam0_1233963862251064006.jpeg', 'host-a102_cam0_1242510614449319006.jpeg', 'host-a102_cam5_1242510614432249006.jpeg', 'host-a006_cam1_1236038155234412006.jpeg', 'host-a011_cam1_1232755957634517006.jpeg', 'host-a101_cam4_1240877610616660006.jpeg', 'host-a101_cam3_1240877610600000006.jpeg', 'host-a011_cam5_1232492193067719006.jpeg', 'host-a004_cam2_1232825407417652006.jpeg', 'host-a011_cam2_1233963425617605006.jpeg', 'host-a008_cam5_1235776289367733006.jpeg', 'host-a011_cam2_1233963426017605006.jpeg', 'host-a004_cam1_1233602030234300006.jpeg', 'host-a101_cam1_1243102889065564006.jpeg', 'host-a006_cam1_1237322906234412006.jpeg', 'host-a102_cam1_1241904556766660006.jpeg', 'host-a011_cam1_1232817037234517006.jpeg', 'host-a102_cam1_1241904547166660006.jpeg', 'host-a101_cam4_1241893250616660006.jpeg', 'host-a101_cam1_1241893250666660006.jpeg', 'host-a011_cam4_1232492193684485006.jpeg', 'host-a011_cam5_1232492193667719006.jpeg', 'host-a006_cam1_1236037894634412006.jpeg', 'host-a011_cam1_1232817045034517006.jpeg', 'host-a101_cam0_1241472428350000006.jpeg', 'host-a004_cam1_1233602030034300006.jpeg', 'host-a102_cam6_1241904551150000006.jpeg', 'host-a007_cam1_1234551933134286006.jpeg', 'host-a004_cam2_1232817653417652006.jpeg', 'host-a101_cam4_1243095622516172006.jpeg', 'host-a102_cam6_1242510610244000006.jpeg', 'host-a008_cam5_1235777238967733006.jpeg', 'host-a009_cam3_1236015622900980006.jpeg', 'host-a005_cam4_1231201460916091006.jpeg', 'host-a009_cam3_1236013309200980006.jpeg', 'host-a004_cam2_1233421998617652006.jpeg', 'host-a007_cam2_1233007771817643006.jpeg', 'host-a101_cam3_1240877611800000006.jpeg', 'host-a101_cam4_1240877611816660006.jpeg', 'host-a006_cam1_1237322907034412006.jpeg', 'host-a007_cam5_1230936240932827006.jpeg', 'host-a102_cam6_1241468918250000006.jpeg', 'host-a101_cam3_1241889711000000006.jpeg', 'host-a011_cam1_1232839955634517006.jpeg', 'host-a012_cam0_1237329884251020006.jpeg', 'host-a011_cam1_1232817041634517006.jpeg', 'host-a004_cam6_1232815264050948006.jpeg', 'host-a102_cam3_1242684244799660006.jpeg', 'host-a102_cam5_1242510607032293006.jpeg', 'host-a102_cam5_1242510617432264006.jpeg', 'host-a102_cam4_1242510617415623006.jpeg', 'host-a102_cam6_1241904553550000006.jpeg', 'host-a101_cam4_1243095629115964006.jpeg', 'host-a011_cam2_1232755945417605006.jpeg', 'host-a101_cam1_1241893247866660006.jpeg', 'host-a101_cam4_1241893247816660006.jpeg', 'host-a101_cam4_1241893244816660006.jpeg', 'host-a101_cam1_1241893244866660006.jpeg', 'host-a011_cam1_1232817038434517006.jpeg', 'host-a009_cam5_1231200862232771006.jpeg', 'host-a009_cam0_1231200862249157006.jpeg', 'host-a006_cam4_1236038140084380006.jpeg', 'host-a006_cam3_1236038150800777006.jpeg', 'host-a101_cam0_1241472428150000006.jpeg', 'host-a011_cam2_1233963417617605006.jpeg', 'host-a102_cam4_1242510608415594006.jpeg', 'host-a102_cam0_1242662278949393006.jpeg', 'host-a102_cam1_1242662278965683006.jpeg', 'host-a101_cam5_1241462213133330006.jpeg', 'host-a101_cam0_1241462213150000006.jpeg', 'host-a102_cam5_1242510607232293006.jpeg', 'host-a102_cam4_1242510607215623006.jpeg', 'host-a004_cam3_1233616008100897006.jpeg', 'host-a101_cam3_1241893255000000006.jpeg', 'host-a101_cam2_1241893255083330006.jpeg', 'host-a101_cam1_1241893247066660006.jpeg', 'host-a004_cam2_1233422557217652006.jpeg', 'host-a101_cam4_1241893242816660006.jpeg', 'host-a101_cam1_1241893242866660006.jpeg', 'host-a011_cam2_1233963420017605006.jpeg', 'host-a006_cam5_1236038136067650006.jpeg', 'host-a012_cam0_1237329867251020006.jpeg', 'host-a009_cam3_1236015623100980006.jpeg', 'host-a101_cam4_1240877610816660006.jpeg', 'host-a101_cam3_1240877610800000006.jpeg', 'host-a004_cam1_1233616006334300006.jpeg', 'host-a101_cam4_1241462215916660006.jpeg', 'host-a101_cam2_1241472430583330006.jpeg', 'host-a007_cam3_1233955138200869006.jpeg', 'host-a101_cam4_1241893253216660006.jpeg', 'host-a101_cam3_1241893253200000006.jpeg', 'host-a101_cam2_1241893253283330006.jpeg', 'host-a101_cam4_1241889710616660006.jpeg', 'host-a101_cam3_1241889710600000006.jpeg', 'host-a011_cam1_1232817041834517006.jpeg', 'host-a009_cam0_1236015626351162006.jpeg', 'host-a011_cam4_1232492216884485006.jpeg', 'host-a101_cam2_1241472430983330006.jpeg', 'host-a008_cam4_1235777240984403006.jpeg', 'host-a006_cam1_1236037897834412006.jpeg', 'host-a011_cam1_1232841344434517006.jpeg', 'host-a008_cam5_1235776288967733006.jpeg', 'host-a102_cam2_1241904548183330006.jpeg', 'host-a102_cam3_1241904548200000006.jpeg', 'host-a011_cam4_1232492216084485006.jpeg', 'host-a004_cam1_1233422544834300006.jpeg', 'host-a004_cam2_1232815269817652006.jpeg', 'host-a008_cam4_1235777240784403006.jpeg', 'host-a102_cam3_1242510619499452006.jpeg', 'host-a102_cam4_1242510619415623006.jpeg', 'host-a102_cam1_1242662279165683006.jpeg', 'host-a102_cam0_1242662279149378006.jpeg', 'host-a008_cam1_1235776293934433006.jpeg', 'host-a102_cam2_1241468924083330006.jpeg', 'host-a009_cam1_1236015628734319006.jpeg', 'host-a101_cam6_1241472423150000006.jpeg', 'host-a101_cam5_1241889726833330006.jpeg', 'host-a101_cam4_1241889726816660006.jpeg', 'host-a101_cam2_1241889726883330006.jpeg', 'host-a011_cam2_1233964307117605006.jpeg', 'host-a004_cam2_1233947108917652006.jpeg', 'host-a011_cam2_1233963423017605006.jpeg', 'host-a101_cam2_1241893254283330006.jpeg', 'host-a101_cam3_1241893254300000006.jpeg', 'host-a101_cam4_1241893254216660006.jpeg', 'host-a011_cam1_1232755942834517006.jpeg', 'host-a101_cam4_1241893247616660006.jpeg', 'host-a101_cam1_1241893247666660006.jpeg', 'host-a101_cam0_1241472428750000006.jpeg', 'host-a101_cam6_1241472425350000006.jpeg', 'host-a101_cam5_1241462214133330006.jpeg', 'host-a007_cam1_1232470062034286006.jpeg', 'host-a004_cam3_1232815252400897006.jpeg', 'host-a101_cam0_1240877601850000006.jpeg', 'host-a101_cam5_1240877601833330006.jpeg', 'host-a008_cam1_1235776294334433006.jpeg', 'host-a102_cam0_1242662278749393006.jpeg', 'host-a102_cam1_1242662278765683006.jpeg', 'host-a004_cam6_1233422008250948006.jpeg', 'host-a004_cam1_1233616010134300006.jpeg', 'host-a009_cam5_1231200861832771006.jpeg', 'host-a009_cam0_1231200861849157006.jpeg', 'host-a004_cam1_1233616009934300006.jpeg', 'host-a006_cam1_1237322897034412006.jpeg', 'host-a007_cam4_1230485641416094006.jpeg', 'host-a011_cam1_1232817042834517006.jpeg', 'host-a004_cam1_1232833320434300006.jpeg', 'host-a011_cam4_1232492194884485006.jpeg', 'host-a102_cam5_1242510606032279006.jpeg', 'host-a004_cam6_1233535972950948006.jpeg', 'host-a004_cam1_1233535972934300006.jpeg', 'host-a004_cam6_1232815264650948006.jpeg', 'host-a011_cam2_1232755958417605006.jpeg', 'host-a101_cam1_1240877587666660006.jpeg', 'host-a101_cam1_1242493648765890006.jpeg', 'host-a009_cam0_1236015620351162006.jpeg', 'host-a009_cam3_1236013308600980006.jpeg', 'host-a011_cam1_1233964305134517006.jpeg', 'host-a006_cam2_1237322901217711006.jpeg', 'host-a007_cam1_1233955132834286006.jpeg', 'host-a004_cam3_1233963864600897006.jpeg', 'host-a004_cam2_1233963864617652006.jpeg', 'host-a006_cam2_1236037896017711006.jpeg', 'host-a011_cam2_1232839956217605006.jpeg', 'host-a011_cam1_1232839956234517006.jpeg', 'host-a009_cam2_1236015621717752006.jpeg', 'host-a009_cam3_1236013308800980006.jpeg', 'host-a011_cam1_1232755943434517006.jpeg', 'host-a012_cam0_1237329884051020006.jpeg', 'host-a101_cam0_1240877601250000006.jpeg', 'host-a007_cam4_1230936225916094006.jpeg', 'host-a102_cam0_1242684266049556006.jpeg', 'host-a006_cam1_1237322908834412006.jpeg', 'host-a004_cam2_1233602031217652006.jpeg', 'host-a008_cam6_1235776307551058006.jpeg', 'host-a102_cam1_1241878224866660006.jpeg', 'host-a101_cam3_1241893255900000006.jpeg', 'host-a102_cam0_1242684262449512006.jpeg', 'host-a102_cam1_1242684262466142006.jpeg', 'host-a102_cam6_1242684262444000006.jpeg', 'host-a004_cam6_1233535979950948006.jpeg', 'host-a004_cam2_1233535979917652006.jpeg', 'host-a004_cam1_1233963862834300006.jpeg', 'host-a004_cam0_1233963862851064006.jpeg', 'host-a102_cam3_1242662283899512006.jpeg', 'host-a102_cam4_1242662283916053006.jpeg', 'host-a101_cam2_1241889727083330006.jpeg', 'host-a101_cam4_1241889727016660006.jpeg', 'host-a009_cam4_1231200864415930006.jpeg', 'host-a009_cam3_1231200864399238006.jpeg', 'host-a009_cam3_1236013309000980006.jpeg', 'host-a008_cam5_1235776288767733006.jpeg', 'host-a007_cam1_1233960460834286006.jpeg', 'host-a102_cam2_1241904547583330006.jpeg', 'host-a011_cam5_1232492206467719006.jpeg', 'host-a009_cam5_1236014668067552006.jpeg', 'host-a102_cam4_1242510607615623006.jpeg', 'host-a004_cam6_1233011747850948006.jpeg', 'host-a007_cam3_1233960465600869006.jpeg', 'host-a101_cam4_1241462215716660006.jpeg', 'host-a007_cam5_1230485638832827006.jpeg', 'host-a008_cam2_1235776298717906006.jpeg', 'host-a008_cam0_1235776298751171006.jpeg', 'host-a101_cam5_1240877603433330006.jpeg', 'host-a101_cam1_1240877603466660006.jpeg', 'host-a101_cam0_1240877603450000006.jpeg', 'host-a004_cam6_1233011748250948006.jpeg', 'host-a006_cam2_1237322902217711006.jpeg', 'host-a004_cam3_1233947109900897006.jpeg', 'host-a102_cam0_1242684260849482006.jpeg', 'host-a011_cam2_1233963421417605006.jpeg', 'host-a011_cam1_1232755941634517006.jpeg', 'host-a011_cam2_1233963416217605006.jpeg', 'host-a006_cam5_1236038135667650006.jpeg', 'host-a004_cam1_1233615997334300006.jpeg', 'host-a007_cam5_1230485638632827006.jpeg', 'host-a009_cam2_1236013299017752006.jpeg', 'host-a009_cam1_1236013299034319006.jpeg', 'host-a011_cam2_1234553378717605006.jpeg', 'host-a102_cam2_1242684267682782006.jpeg', 'host-a007_cam2_1233955137417643006.jpeg', 'host-a012_cam0_1237329885251020006.jpeg', 'host-a012_cam1_1237329885234261006.jpeg', 'host-a102_cam3_1242662284499497006.jpeg', 'host-a102_cam1_1241878225066660006.jpeg', 'host-a006_cam1_1237322906634412006.jpeg', 'host-a007_cam5_1230485639232827006.jpeg', 'host-a008_cam4_1235777221984403006.jpeg', 'host-a008_cam3_1235777221901057006.jpeg', 'host-a004_cam2_1233535974117652006.jpeg', 'host-a006_cam2_1236037884417711006.jpeg', 'host-a101_cam1_1241472411166660006.jpeg', 'host-a009_cam1_1236013298634319006.jpeg', 'host-a009_cam2_1236013298617752006.jpeg', 'host-a004_cam2_1233616000517652006.jpeg', 'host-a008_cam4_1235777224584403006.jpeg', 'host-a004_cam1_1233961190634300006.jpeg', 'host-a004_cam0_1233963862651064006.jpeg', 'host-a008_cam1_1235776297534433006.jpeg', 'host-a102_cam1_1242662279965653006.jpeg', 'host-a101_cam2_1241472411383330006.jpeg', 'host-a009_cam2_1236013307817752006.jpeg', 'host-a004_cam0_1233963862451064006.jpeg', 'host-a008_cam5_1235776291567733006.jpeg', 'host-a006_cam2_1236037884217711006.jpeg', 'host-a009_cam0_1236014667651162006.jpeg', 'host-a009_cam5_1236014667667552006.jpeg', 'host-a012_cam6_1237329881050881006.jpeg', 'host-a008_cam5_1235776289767733006.jpeg', 'host-a011_cam2_1233963417417605006.jpeg', 'host-a008_cam0_1235776299151171006.jpeg', 'host-a008_cam2_1235776299117906006.jpeg', 'host-a011_cam4_1232492207484485006.jpeg', 'host-a101_cam1_1240877587466660006.jpeg', 'host-a101_cam4_1240877610416660006.jpeg', 'host-a101_cam3_1240877610400000006.jpeg', 'host-a008_cam5_1235777238767733006.jpeg', 'host-a008_cam1_1236016354434433006.jpeg', 'host-a011_cam4_1232492207684485006.jpeg', 'host-a102_cam5_1242510617032234006.jpeg', 'host-a011_cam1_1232755938634517006.jpeg', 'host-a004_cam2_1233421997817652006.jpeg', 'host-a011_cam5_1232492215267719006.jpeg', 'host-a101_cam4_1241893242216660006.jpeg', 'host-a101_cam1_1241893242266660006.jpeg', 'host-a011_cam1_1232755937634517006.jpeg', 'host-a101_cam3_1241893252700000006.jpeg', 'host-a101_cam4_1241893252616660006.jpeg', 'host-a101_cam2_1241893252683330006.jpeg', 'host-a101_cam1_1241893252666660006.jpeg', 'host-a004_cam1_1233615997134300006.jpeg', 'host-a007_cam4_1230936222716094006.jpeg', 'host-a006_cam1_1236038132834412006.jpeg', 'host-a102_cam3_1241904558400000006.jpeg', 'host-a102_cam2_1241904558383330006.jpeg', 'host-a007_cam2_1233960462217643006.jpeg', 'host-a007_cam1_1233960462234286006.jpeg', 'host-a009_cam0_1236015615151162006.jpeg', 'host-a008_cam4_1235777224184403006.jpeg', 'host-a011_cam1_1233964394234517006.jpeg', 'host-a011_cam1_1232755942434517006.jpeg', 'host-a011_cam4_1232492216684485006.jpeg', 'host-a009_cam4_1231200863415930006.jpeg', 'host-a008_cam2_1236016355417906006.jpeg', 'host-a011_cam1_1232817035234517006.jpeg', 'host-a102_cam4_1242510618415623006.jpeg', 'host-a004_cam1_1233602024034300006.jpeg', 'host-a008_cam2_1236016355617906006.jpeg', 'host-a006_cam2_1236038133217711006.jpeg', 'host-a006_cam1_1236037895234412006.jpeg', 'host-a007_cam4_1233955155284150006.jpeg', 'host-a007_cam5_1233955155267475006.jpeg', 'host-a006_cam5_1236038137067650006.jpeg', 'host-a011_cam1_1233964305534517006.jpeg', 'host-a007_cam3_1234551934500869006.jpeg', 'host-a011_cam2_1233964306317605006.jpeg', 'host-a009_cam1_1236013298834319006.jpeg', 'host-a009_cam2_1236013298817752006.jpeg', 'host-a102_cam1_1242684267266112006.jpeg', 'host-a004_cam2_1233616007117652006.jpeg', 'host-a102_cam6_1242684261844000006.jpeg', 'host-a102_cam0_1242684261849482006.jpeg', 'host-a102_cam1_1242684261866172006.jpeg', 'host-a011_cam3_1232817048400995006.jpeg', 'host-a009_cam2_1236015630717752006.jpeg', 'host-a009_cam1_1236015630734319006.jpeg', 'host-a101_cam3_1241472432300000006.jpeg', 'host-a101_cam1_1241893243866660006.jpeg', 'host-a101_cam4_1241893243816660006.jpeg', 'host-a004_cam6_1233535979150948006.jpeg', 'host-a004_cam1_1233422555834300006.jpeg', 'host-a011_cam1_1232755937034517006.jpeg', 'host-a006_cam1_1237322908634412006.jpeg', 'host-a008_cam6_1235776304551058006.jpeg', 'host-a008_cam1_1235776304534433006.jpeg', 'host-a101_cam1_1241893246266660006.jpeg', 'host-a102_cam1_1241468928666660006.jpeg', 'host-a008_cam3_1236016356401057006.jpeg', 'host-a011_cam2_1234553378917605006.jpeg', 'host-a101_cam6_1241472422750000006.jpeg', 'host-a004_cam1_1233602024234300006.jpeg', 'host-a004_cam2_1233602024217652006.jpeg', 'host-a008_cam5_1235777230367733006.jpeg', 'host-a101_cam4_1241893243216660006.jpeg', 'host-a101_cam1_1241893243266660006.jpeg', 'host-a007_cam4_1230936224516094006.jpeg', 'host-a101_cam0_1241889724450000006.jpeg', 'host-a009_cam1_1236015621334319006.jpeg', 'host-a102_cam1_1241904547366660006.jpeg', 'host-a007_cam4_1230936242316094006.jpeg', 'host-a101_cam1_1241886985566660006.jpeg', 'host-a011_cam5_1232492205867719006.jpeg', 'host-a004_cam0_1233422554051064006.jpeg', 'host-a006_cam5_1236038135267650006.jpeg', 'host-a009_cam5_1231200862032771006.jpeg', 'host-a102_cam1_1242662279765668006.jpeg', 'host-a102_cam0_1242662279749363006.jpeg', 'host-a102_cam1_1242662280565683006.jpeg', 'host-a009_cam2_1236015617517752006.jpeg', 'host-a102_cam6_1241904543750000006.jpeg', 'host-a009_cam5_1231200863032771006.jpeg', 'host-a009_cam4_1231200863015930006.jpeg', 'host-a008_cam5_1235776289167733006.jpeg', 'host-a007_cam6_1234740261250905006.jpeg', 'host-a007_cam3_1232470052800869006.jpeg', 'host-a007_cam1_1233960461834286006.jpeg', 'host-a007_cam2_1233960461817643006.jpeg', 'host-a004_cam2_1233011752017652006.jpeg', 'host-a102_cam0_1242510621649156006.jpeg', 'host-a102_cam5_1242510621632234006.jpeg', 'host-a007_cam2_1232470052217643006.jpeg', 'host-a011_cam2_1233963421017605006.jpeg', 'host-a101_cam0_1240877601050000006.jpeg', 'host-a008_cam4_1235777220984403006.jpeg', 'host-a008_cam3_1235777220901057006.jpeg', 'host-a101_cam1_1241472410766660006.jpeg', 'host-a006_cam1_1236038131834412006.jpeg', 'host-a006_cam0_1236038131850935006.jpeg', 'host-a011_cam1_1232755941434517006.jpeg', 'host-a012_cam6_1237329880850881006.jpeg', 'host-a006_cam1_1237322908434412006.jpeg', 'host-a102_cam1_1241468922866660006.jpeg', 'host-a101_cam1_1240877594666660006.jpeg', 'host-a102_cam6_1242510609644000006.jpeg', 'host-a007_cam0_1232470061050897006.jpeg', 'host-a011_cam3_1232755959000995006.jpeg', 'host-a101_cam1_1240877590066660006.jpeg', 'host-a004_cam6_1233422008650948006.jpeg', 'host-a011_cam4_1236037943084485006.jpeg', 'host-a101_cam6_1241472424350000006.jpeg', 'host-a011_cam6_1232492208251145006.jpeg', 'host-a011_cam4_1232492208284485006.jpeg', 'host-a008_cam4_1235777240584403006.jpeg', 'host-a101_cam2_1241472430783330006.jpeg', 'host-a004_cam2_1233422545217652006.jpeg', 'host-a009_cam1_1236015621134319006.jpeg', 'host-a008_cam4_1235777220584403006.jpeg', 'host-a008_cam3_1235777220501057006.jpeg', 'host-a009_cam1_1236013307034319006.jpeg', 'host-a004_cam2_1233014365017652006.jpeg', 'host-a007_cam4_1230936225716094006.jpeg', 'host-a011_cam2_1234553378517605006.jpeg', 'host-a007_cam0_1233960460650897006.jpeg', 'host-a007_cam1_1233960460634286006.jpeg', 'host-a102_cam1_1241468922266660006.jpeg', 'host-a008_cam6_1235776306551058006.jpeg', 'host-a011_cam0_1232841344251142006.jpeg', 'host-a102_cam6_1241904552350000006.jpeg', 'host-a004_cam6_1233535976150948006.jpeg', 'host-a102_cam3_1241904548800000006.jpeg', 'host-a011_cam1_1232817037834517006.jpeg', 'host-a008_cam5_1235776290567733006.jpeg', 'host-a102_cam5_1242510622332042006.jpeg', 'host-a011_cam2_1233963420217605006.jpeg', 'host-a011_cam2_1233963424417605006.jpeg', 'host-a004_cam1_1233963863434300006.jpeg', 'host-a004_cam2_1233963863417652006.jpeg', 'host-a007_cam4_1230936223516094006.jpeg', 'host-a009_cam0_1236015615751162006.jpeg', 'host-a007_cam4_1230936228316094006.jpeg', 'host-a011_cam1_1232839955234517006.jpeg', 'host-a101_cam1_1243102889665475006.jpeg', 'host-a102_cam6_1242510610644000006.jpeg', 'host-a007_cam4_1230936226116094006.jpeg', 'host-a008_cam4_1235776294984403006.jpeg', 'host-a008_cam1_1235776294934433006.jpeg', 'host-a006_cam2_1237322885617711006.jpeg', 'host-a012_cam1_1237329868034261006.jpeg', 'host-a011_cam1_1232841334234517006.jpeg', 'host-a006_cam2_1236038156117711006.jpeg', 'host-a004_cam1_1233421996034300006.jpeg', 'host-a101_cam1_1241472410966660006.jpeg', 'host-a008_cam6_1235776306351058006.jpeg', 'host-a102_cam1_1241468921866660006.jpeg', 'host-a101_cam3_1240877609600000006.jpeg', 'host-a101_cam1_1240877609666660006.jpeg', 'host-a101_cam4_1240877609616660006.jpeg', 'host-a011_cam4_1236037942684485006.jpeg', 'host-a011_cam5_1236037942667719006.jpeg', 'host-a009_cam4_1236014669684403006.jpeg', 'host-a102_cam6_1242684258844000006.jpeg', 'host-a009_cam2_1236013299817752006.jpeg', 'host-a006_cam4_1236038138684380006.jpeg', 'host-a102_cam4_1242510607815623006.jpeg', 'host-a102_cam6_1241904551350000006.jpeg', 'host-a007_cam2_1233960464017643006.jpeg', 'host-a007_cam3_1233960464000869006.jpeg', 'host-a007_cam6_1232490780850905006.jpeg', 'host-a101_cam0_1241889725050000006.jpeg', 'host-a101_cam5_1241889725033330006.jpeg', 'host-a011_cam3_1232841346000995006.jpeg', 'host-a004_cam1_1233014364434300006.jpeg', 'host-a101_cam0_1240877604050000006.jpeg', 'host-a101_cam1_1240877604066660006.jpeg', 'host-a101_cam5_1240877604033330006.jpeg', 'host-a007_cam4_1232490786284150006.jpeg', 'host-a005_cam0_1231201458349279006.jpeg', 'host-a005_cam0_1231201458149279006.jpeg', 'host-a004_cam1_1233615998334300006.jpeg', 'host-a004_cam0_1233615998351064006.jpeg', 'host-a008_cam3_1235777222501057006.jpeg', 'host-a008_cam4_1235777222584403006.jpeg', 'host-a011_cam0_1232755956451142006.jpeg', 'host-a008_cam6_1236016357651058006.jpeg', 'host-a006_cam1_1236037894834412006.jpeg', 'host-a011_cam1_1233964305734517006.jpeg', 'host-a004_cam3_1233421998800897006.jpeg', 'host-a004_cam2_1233421998817652006.jpeg', 'host-a004_cam1_1232833320834300006.jpeg', 'host-a007_cam4_1230485640416094006.jpeg', 'host-a004_cam1_1233961184834300006.jpeg', 'host-a102_cam6_1242510610444000006.jpeg', 'host-a004_cam1_1233422540634300006.jpeg', 'host-a007_cam2_1233007771617643006.jpeg', 'host-a009_cam6_1236014665051075006.jpeg', 'host-a008_cam6_1235776306151058006.jpeg', 'host-a011_cam2_1233963420617605006.jpeg', 'host-a101_cam1_1241893239466660006.jpeg', 'host-a101_cam4_1241893239416660006.jpeg', 'host-a004_cam3_1233963864200897006.jpeg', 'host-a004_cam2_1233963864217652006.jpeg', 'host-a004_cam2_1233961185217652006.jpeg', 'host-a008_cam5_1235776291167733006.jpeg', 'host-a102_cam6_1242684257844000006.jpeg', 'host-a007_cam5_1230485650432827006.jpeg', 'host-a102_cam1_1241904555966660006.jpeg', 'host-a102_cam0_1241904555950000006.jpeg', 'host-a102_cam0_1241904545950000006.jpeg', 'host-a008_cam5_1235776293367733006.jpeg', 'host-a008_cam1_1235776293334433006.jpeg', 'host-a101_cam2_1241893254883330006.jpeg', 'host-a101_cam3_1241893254900000006.jpeg', 'host-a009_cam1_1236015626934319006.jpeg', 'host-a011_cam2_1232485958317605006.jpeg', 'host-a004_cam2_1233535973717652006.jpeg', 'host-a009_cam0_1231200861649157006.jpeg', 'host-a009_cam5_1231200861632771006.jpeg', 'host-a102_cam1_1242684266666112006.jpeg', 'host-a102_cam0_1242684266649556006.jpeg', 'host-a006_cam1_1237322906834412006.jpeg', 'host-a009_cam6_1236015620751075006.jpeg', 'host-a009_cam1_1236015620734319006.jpeg', 'host-a004_cam3_1233963864800897006.jpeg', 'host-a008_cam6_1235777239551058006.jpeg', 'host-a008_cam5_1235777239567733006.jpeg', 'host-a007_cam4_1230485651016094006.jpeg', 'host-a102_cam2_1242684264282797006.jpeg', 'host-a102_cam3_1242684264299571006.jpeg', 'host-a102_cam6_1242684264244000006.jpeg', 'host-a004_cam1_1232817652834300006.jpeg', 'host-a011_cam0_1232835308451142006.jpeg', 'host-a011_cam2_1232835308417605006.jpeg', 'host-a102_cam2_1241468923683330006.jpeg', 'host-a011_cam3_1232841345800995006.jpeg', 'host-a004_cam1_1233422540834300006.jpeg', 'host-a004_cam1_1233422555034300006.jpeg', 'host-a007_cam3_1233960465800869006.jpeg', 'host-a101_cam1_1240877591466660006.jpeg', 'host-a101_cam3_1241472432000000006.jpeg', 'host-a004_cam1_1232833320634300006.jpeg', 'host-a004_cam1_1233422541234300006.jpeg', 'host-a012_cam1_1237329886234261006.jpeg', 'host-a012_cam2_1237329886217630006.jpeg', 'host-a005_cam5_1231201459132576006.jpeg', 'host-a008_cam2_1236016355817906006.jpeg', 'host-a011_cam2_1233963418217605006.jpeg', 'host-a011_cam1_1232817037634517006.jpeg', 'host-a009_cam0_1236015615551162006.jpeg', 'host-a007_cam2_1233960464417643006.jpeg', 'host-a006_cam1_1236037895434412006.jpeg', 'host-a101_cam1_1240877590266660006.jpeg', 'host-a012_cam1_1237329868634261006.jpeg', 'host-a004_cam1_1233961190034300006.jpeg', 'host-a004_cam2_1233602031017652006.jpeg', 'host-a101_cam3_1241889728400000006.jpeg', 'host-a101_cam4_1241889728416660006.jpeg', 'host-a011_cam2_1233963418817605006.jpeg', 'host-a004_cam0_1233535977151064006.jpeg', 'host-a004_cam6_1233535977150948006.jpeg', 'host-a102_cam2_1241878201483330006.jpeg', 'host-a004_cam2_1233011752617652006.jpeg', 'host-a009_cam4_1231200863815930006.jpeg', 'host-a008_cam4_1235777223184403006.jpeg', 'host-a008_cam3_1235777223101057006.jpeg', 'host-a102_cam3_1242684245299660006.jpeg', 'host-a102_cam1_1241468923066660006.jpeg', 'host-a012_cam2_1237329868817630006.jpeg', 'host-a102_cam3_1242684244699660006.jpeg', 'host-a006_cam6_1236037891850930006.jpeg', 'host-a102_cam5_1242510606432293006.jpeg', 'host-a009_cam0_1236015625951162006.jpeg', 'host-a007_cam2_1233955137017643006.jpeg', 'host-a004_cam6_1233422552850948006.jpeg', 'host-a009_cam6_1236015619751075006.jpeg', 'host-a102_cam2_1241468923483330006.jpeg', 'host-a008_cam3_1235777241501057006.jpeg', 'host-a008_cam4_1235777241584403006.jpeg', 'host-a011_cam2_1232841345617605006.jpeg', 'host-a101_cam3_1241472431200000006.jpeg', 'host-a101_cam2_1241472431183330006.jpeg', 'host-a005_cam4_1231201460316091006.jpeg', 'host-a006_cam1_1237322897634412006.jpeg', 'host-a006_cam3_1237322887000777006.jpeg', 'host-a102_cam1_1241878224466660006.jpeg', 'host-a101_cam4_1241893240016660006.jpeg', 'host-a101_cam1_1241893240066660006.jpeg', 'host-a011_cam3_1232492217100995006.jpeg', 'host-a011_cam4_1232492217184485006.jpeg', 'host-a011_cam1_1232755938034517006.jpeg', 'host-a011_cam5_1232492206267719006.jpeg', 'host-a007_cam4_1230936224916094006.jpeg', 'host-a004_cam0_1233535971951064006.jpeg', 'host-a006_cam4_1236038139284380006.jpeg', 'host-a102_cam0_1242684265649556006.jpeg', 'host-a007_cam4_1230936234716094006.jpeg', 'host-a101_cam1_1243102891065875006.jpeg', 'host-a102_cam2_1241904547783330006.jpeg', 'host-a101_cam2_1241886992783330006.jpeg', 'host-a102_cam4_1242510619015623006.jpeg', 'host-a102_cam3_1242510619099452006.jpeg', 'host-a102_cam4_1242510617615623006.jpeg', 'host-a101_cam2_1242493649182812006.jpeg', 'host-a101_cam1_1242493649165890006.jpeg', 'host-a007_cam4_1230936222916094006.jpeg', 'host-a008_cam5_1235777239767733006.jpeg', 'host-a008_cam6_1235777239751058006.jpeg', 'host-a101_cam1_1240877595666660006.jpeg', 'host-a007_cam2_1233007771217643006.jpeg', 'host-a007_cam4_1230936243116094006.jpeg', 'host-a007_cam3_1230936243099360006.jpeg', 'host-a009_cam5_1236014672867552006.jpeg', 'host-a006_cam2_1237322899817711006.jpeg', 'host-a011_cam1_1232817036034517006.jpeg', 'host-a102_cam6_1242684264844000006.jpeg', 'host-a102_cam3_1242684264799571006.jpeg', 'host-a102_cam2_1242684264882797006.jpeg', 'host-a006_cam2_1236038149417711006.jpeg', 'host-a101_cam1_1240877592466660006.jpeg', 'host-a007_cam2_1233007772017643006.jpeg', 'host-a007_cam3_1233007772000869006.jpeg', 'host-a006_cam1_1236037888634412006.jpeg', 'host-a011_cam2_1232839957417605006.jpeg', 'host-a011_cam3_1232839957400995006.jpeg', 'host-a004_cam3_1233535975100897006.jpeg', 'host-a102_cam6_1242510610844000006.jpeg', 'host-a009_cam1_1236015628134319006.jpeg', 'host-a102_cam5_1242510615432249006.jpeg', 'host-a102_cam0_1242510615449319006.jpeg', 'host-a007_cam4_1230936227916094006.jpeg', 'host-a011_cam1_1232755940234517006.jpeg', 'host-a102_cam6_1241904552950000006.jpeg', 'host-a011_cam2_1233963419017605006.jpeg', 'host-a011_cam2_1233963422217605006.jpeg', 'host-a011_cam2_1232841335217605006.jpeg', 'host-a101_cam4_1240877608416660006.jpeg', 'host-a101_cam1_1240877608466660006.jpeg', 'host-a101_cam3_1240877608400000006.jpeg', 'host-a008_cam4_1235777223584403006.jpeg', 'host-a011_cam1_1232817044434517006.jpeg', 'host-a011_cam2_1233963428817605006.jpeg', 'host-a011_cam3_1233963428800995006.jpeg', 'host-a008_cam5_1235777230567733006.jpeg', 'host-a102_cam6_1241468919050000006.jpeg', 'host-a006_cam2_1236038133617711006.jpeg', 'host-a101_cam2_1241893252883330006.jpeg', 'host-a101_cam4_1241893252816660006.jpeg', 'host-a101_cam3_1241893252900000006.jpeg', 'host-a006_cam1_1237322904234412006.jpeg', 'host-a004_cam2_1233014364817652006.jpeg', 'host-a004_cam2_1233617939917652006.jpeg', 'host-a006_cam4_1236038143884380006.jpeg', 'host-a004_cam3_1232815270200897006.jpeg', 'host-a009_cam1_1236015627934319006.jpeg', 'host-a006_cam5_1236038136667650006.jpeg', 'host-a008_cam5_1235777237967733006.jpeg', 'host-a011_cam5_1232492215067719006.jpeg', 'host-a101_cam1_1243102889865609006.jpeg', 'host-a102_cam4_1242510619815623006.jpeg', 'host-a004_cam0_1233535977551064006.jpeg', 'host-a004_cam6_1233535977550948006.jpeg', 'host-a102_cam6_1241468917650000006.jpeg', 'host-a004_cam1_1233615997534300006.jpeg', 'host-a007_cam5_1230485649832827006.jpeg', 'host-a101_cam1_1241893245066660006.jpeg', 'host-a007_cam1_1232470061434286006.jpeg', 'host-a008_cam5_1235776290967733006.jpeg', 'host-a006_cam5_1236038137267650006.jpeg', 'host-a006_cam5_1236038137467650006.jpeg', 'host-a101_cam3_1241893255700000006.jpeg', 'host-a102_cam6_1241904552750000006.jpeg', 'host-a011_cam2_1232755957817605006.jpeg', 'host-a011_cam2_1233963428017605006.jpeg', 'host-a006_cam3_1236038134400777006.jpeg', 'host-a006_cam2_1236038134417711006.jpeg', 'host-a006_cam0_1236038134450935006.jpeg', 'host-a006_cam5_1236038134467650006.jpeg', 'host-a102_cam1_1242662278565683006.jpeg', 'host-a008_cam1_1235776294734433006.jpeg', 'host-a008_cam4_1235776294784403006.jpeg', 'host-a009_cam1_1236015626734319006.jpeg', 'host-a102_cam5_1242510605432293006.jpeg', 'host-a102_cam0_1242510605449215006.jpeg', 'host-a102_cam0_1241878200450000006.jpeg', 'host-a102_cam1_1241878200466660006.jpeg', 'host-a007_cam0_1232470060850897006.jpeg', 'host-a008_cam6_1235776305951058006.jpeg', 'host-a008_cam1_1235776305934433006.jpeg', 'host-a101_cam5_1241462214933330006.jpeg', 'host-a101_cam4_1241462214916660006.jpeg', 'host-a101_cam1_1240877593466660006.jpeg', 'host-a008_cam5_1235776288567733006.jpeg', 'host-a011_cam1_1232835309434517006.jpeg', 'host-a007_cam2_1233960453417643006.jpeg', 'host-a007_cam1_1233960453434286006.jpeg', 'host-a009_cam2_1236013307617752006.jpeg', 'host-a008_cam4_1235777219984403006.jpeg', 'host-a008_cam3_1235777219901057006.jpeg', 'host-a011_cam2_1232839956617605006.jpeg', 'host-a008_cam5_1235776290767733006.jpeg', 'host-a007_cam6_1233955150050905006.jpeg', 'host-a102_cam1_1242662280765727006.jpeg', 'host-a102_cam2_1242662280782353006.jpeg', 'host-a007_cam3_1232470052600869006.jpeg', 'host-a008_cam0_1235777238351171006.jpeg', 'host-a008_cam5_1235777238367733006.jpeg', 'host-a011_cam1_1233964394134517006.jpeg', 'host-a006_cam2_1237322902417711006.jpeg', 'host-a101_cam6_1241472423950000006.jpeg', 'host-a004_cam3_1233014366000897006.jpeg', 'host-a006_cam1_1236038148234412006.jpeg', 'host-a102_cam3_1241904559200000006.jpeg', 'host-a004_cam2_1233616007317652006.jpeg', 'host-a011_cam4_1232492216484485006.jpeg', 'host-a006_cam1_1237322907234412006.jpeg', 'host-a007_cam3_1233955144200869006.jpeg', 'host-a102_cam1_1242684262266172006.jpeg', 'host-a102_cam6_1242684262244000006.jpeg', 'host-a102_cam0_1242684262249497006.jpeg', 'host-a011_cam1_1232817041034517006.jpeg', 'host-a011_cam1_1232839956034517006.jpeg', 'host-a008_cam3_1235777220701057006.jpeg', 'host-a008_cam4_1235777220784403006.jpeg', 'host-a012_cam0_1237329885651020006.jpeg', 'host-a012_cam1_1237329885634261006.jpeg', 'host-a011_cam6_1232839945651145006.jpeg', 'host-a004_cam6_1233963859450948006.jpeg', 'host-a008_cam5_1235777238567733006.jpeg', 'host-a011_cam1_1234553378134517006.jpeg', 'host-a011_cam1_1232817039434517006.jpeg', 'host-a012_cam0_1237329867051020006.jpeg', 'host-a102_cam5_1242510606232279006.jpeg', 'host-a006_cam4_1236038144884380006.jpeg', 'host-a011_cam1_1232835308034517006.jpeg', 'host-a011_cam1_1232755936834517006.jpeg', 'host-a101_cam1_1240877606466660006.jpeg', 'host-a101_cam2_1240877606483330006.jpeg', 'host-a102_cam3_1242684268299586006.jpeg', 'host-a102_cam2_1242684268282782006.jpeg', 'host-a101_cam4_1241889727816660006.jpeg', 'host-a101_cam3_1241889727800000006.jpeg', 'host-a101_cam4_1241893253416660006.jpeg', 'host-a101_cam3_1241893253500000006.jpeg', 'host-a101_cam2_1241893253483330006.jpeg', 'host-a004_cam1_1233535978934300006.jpeg', 'host-a004_cam6_1233535978950948006.jpeg', 'host-a011_cam1_1234553377534517006.jpeg', 'host-a008_cam4_1235777240384403006.jpeg', 'host-a011_cam2_1233963419617605006.jpeg', 'host-a011_cam5_1232492205267719006.jpeg', 'host-a011_cam0_1232492205251142006.jpeg', 'host-a004_cam0_1233422553651064006.jpeg', 'host-a101_cam1_1240877591266660006.jpeg', 'host-a008_cam4_1235777223384403006.jpeg', 'host-a101_cam4_1241893251016660006.jpeg', 'host-a101_cam1_1241893251066660006.jpeg', 'host-a004_cam6_1233947132350948006.jpeg', 'host-a004_cam0_1233421994451064006.jpeg', 'host-a011_cam5_1232839948867719006.jpeg', 'host-a011_cam3_1232485959300995006.jpeg', 'host-a004_cam1_1233602023034300006.jpeg', 'host-a009_cam6_1231200859249231006.jpeg', 'host-a008_cam4_1235777218584403006.jpeg', 'host-a101_cam6_1241472423750000006.jpeg', 'host-a102_cam6_1242684258644000006.jpeg', 'host-a007_cam1_1233960452034286006.jpeg', 'host-a011_cam2_1233963423217605006.jpeg', 'host-a011_cam2_1232755945817605006.jpeg', 'host-a101_cam4_1241893241816660006.jpeg', 'host-a101_cam1_1241893241866660006.jpeg', 'host-a011_cam3_1232817048000995006.jpeg', 'host-a009_cam1_1236015628534319006.jpeg', 'host-a009_cam6_1231200859049231006.jpeg', 'host-a101_cam1_1240877593666660006.jpeg', 'host-a009_cam1_1236015620934319006.jpeg', 'host-a011_cam1_1232817039634517006.jpeg', 'host-a101_cam0_1240877604250000006.jpeg', 'host-a101_cam1_1240877604266660006.jpeg', 'host-a101_cam5_1240877604233330006.jpeg', 'host-a101_cam1_1241893245866660006.jpeg', 'host-a102_cam2_1242684263682797006.jpeg', 'host-a102_cam6_1242684263644000006.jpeg', 'host-a102_cam1_1242684263666127006.jpeg', 'host-a102_cam3_1242684263699571006.jpeg', 'host-a004_cam1_1233602023434300006.jpeg', 'host-a007_cam1_1233960465034286006.jpeg', 'host-a007_cam2_1233960465017643006.jpeg', 'host-a007_cam3_1233960465000869006.jpeg', 'host-a005_cam5_1231201459532576006.jpeg', 'host-a004_cam1_1233616006734300006.jpeg', 'host-a007_cam0_1233955153850897006.jpeg', 'host-a007_cam5_1233955153867475006.jpeg', 'host-a101_cam1_1240877608266660006.jpeg', 'host-a101_cam4_1240877608216660006.jpeg', 'host-a101_cam3_1240877608200000006.jpeg', 'host-a101_cam2_1240877608283330006.jpeg', 'host-a004_cam1_1233422554834300006.jpeg', 'host-a101_cam1_1241893250466660006.jpeg', 'host-a101_cam4_1241893250416660006.jpeg', 'host-a011_cam2_1232755958217605006.jpeg', 'host-a008_cam5_1235776291367733006.jpeg', 'host-a006_cam1_1236038148634412006.jpeg', 'host-a011_cam3_1232841346400995006.jpeg', 'host-a101_cam1_1240877588666660006.jpeg', 'host-a004_cam1_1233617939134300006.jpeg', 'host-a007_cam4_1230936228516094006.jpeg', 'host-a009_cam1_1236015616534319006.jpeg', 'host-a004_cam3_1232833322400897006.jpeg', 'host-a008_cam4_1235777221584403006.jpeg', 'host-a008_cam3_1235777221501057006.jpeg', 'host-a004_cam3_1232833322200897006.jpeg', 'host-a004_cam2_1232833322217652006.jpeg', 'host-a007_cam6_1233955149650905006.jpeg', 'host-a101_cam1_1241889726266660006.jpeg', 'host-a101_cam5_1241889726233330006.jpeg', 'host-a004_cam2_1233602024817652006.jpeg', 'host-a008_cam5_1235776291767733006.jpeg', 'host-a102_cam6_1241904542750000006.jpeg', 'host-a102_cam6_1242684260444000006.jpeg', 'host-a009_cam5_1236014668867552006.jpeg', 'host-a101_cam3_1241889727200000006.jpeg', 'host-a101_cam2_1241889727283330006.jpeg', 'host-a101_cam4_1241889727216660006.jpeg', 'host-a004_cam2_1233422559217652006.jpeg', 'host-a007_cam5_1230485640032827006.jpeg', 'host-a102_cam5_1242510616232234006.jpeg', 'host-a102_cam3_1242662281899482006.jpeg', 'host-a102_cam5_1242662281932530006.jpeg', 'host-a006_cam1_1236038149034412006.jpeg', 'host-a006_cam1_1237322907834412006.jpeg', 'host-a008_cam6_1235777239351058006.jpeg', 'host-a008_cam5_1235777239367733006.jpeg', 'host-a008_cam3_1235777217101057006.jpeg', 'host-a008_cam4_1235777217184403006.jpeg', 'host-a011_cam2_1233963423417605006.jpeg', 'host-a101_cam1_1240877588866660006.jpeg', 'host-a006_cam5_1236038137667650006.jpeg', 'host-a004_cam2_1233947109517652006.jpeg', 'host-a004_cam6_1232815264850948006.jpeg', 'host-a011_cam1_1232817042434517006.jpeg', 'host-a007_cam4_1230936242116094006.jpeg', 'host-a008_cam2_1236016355017906006.jpeg', 'host-a009_cam5_1236014668467552006.jpeg', 'host-a101_cam1_1241893249866660006.jpeg', 'host-a101_cam4_1241893249816660006.jpeg', 'host-a004_cam1_1233421994834300006.jpeg', 'host-a004_cam0_1233421994851064006.jpeg', 'host-a101_cam2_1241472430383330006.jpeg', 'host-a004_cam3_1233616001900897006.jpeg', 'host-a101_cam1_1241472412566660006.jpeg', 'host-a101_cam1_1240877591066660006.jpeg', 'host-a102_cam6_1242684263444000006.jpeg', 'host-a102_cam2_1242684263482812006.jpeg', 'host-a102_cam1_1242684263466127006.jpeg', 'host-a011_cam2_1233963425217605006.jpeg', 'host-a102_cam0_1241904546550000006.jpeg', 'host-a102_cam0_1241904555350000006.jpeg', 'host-a009_cam0_1236013305651162006.jpeg', 'host-a004_cam1_1233011751234300006.jpeg', 'host-a011_cam5_1232492193467719006.jpeg', 'host-a102_cam2_1241904557383330006.jpeg', 'host-a101_cam1_1240877606266660006.jpeg', 'host-a008_cam5_1235776287567733006.jpeg', 'host-a008_cam5_1235776292767733006.jpeg', 'host-a004_cam1_1233616006534300006.jpeg', 'host-a011_cam6_1232492209051145006.jpeg', 'host-a011_cam4_1232492209084485006.jpeg', 'host-a011_cam3_1232492209000995006.jpeg', 'host-a011_cam2_1232817045817605006.jpeg', 'host-a011_cam1_1232817045834517006.jpeg', 'host-a004_cam6_1233947132750948006.jpeg', 'host-a004_cam3_1233014365800897006.jpeg', 'host-a101_cam6_1240877604650000006.jpeg', 'host-a101_cam5_1240877604633330006.jpeg', 'host-a101_cam1_1240877604666660006.jpeg', 'host-a101_cam0_1240877604650000006.jpeg', 'host-a011_cam1_1232755941034517006.jpeg', 'host-a011_cam2_1232841345417605006.jpeg', 'host-a101_cam4_1240877607016660006.jpeg', 'host-a101_cam2_1240877607083330006.jpeg', 'host-a101_cam1_1240877594266660006.jpeg', 'host-a101_cam0_1240877608650000006.jpeg', 'host-a101_cam2_1240877608683330006.jpeg', 'host-a101_cam1_1240877608666660006.jpeg', 'host-a101_cam3_1240877608600000006.jpeg', 'host-a101_cam4_1240877608616660006.jpeg', 'host-a006_cam2_1237322898417711006.jpeg', 'host-a011_cam2_1233963428417605006.jpeg', 'host-a102_cam6_1242684259644000006.jpeg', 'host-a102_cam6_1241904542150000006.jpeg', 'host-a007_cam0_1233955141850897006.jpeg', 'host-a006_cam1_1236038133034412006.jpeg', 'host-a101_cam1_1240877596066660006.jpeg', 'host-a102_cam3_1241904559000000006.jpeg', 'host-a006_cam4_1236038144084380006.jpeg', 'host-a006_cam2_1236038133417711006.jpeg', 'host-a008_cam1_1235776300134433006.jpeg', 'host-a008_cam6_1235776300151058006.jpeg', 'host-a008_cam3_1235776300101057006.jpeg', 'host-a102_cam3_1242684265299571006.jpeg', 'host-a102_cam6_1242684265244000006.jpeg', 'host-a101_cam1_1241886985366660006.jpeg', 'host-a007_cam1_1233955135434286006.jpeg', 'host-a007_cam2_1233955135417643006.jpeg', 'host-a101_cam1_1243102889465475006.jpeg', 'host-a004_cam6_1233963859650948006.jpeg', 'host-a011_cam2_1232755935417605006.jpeg', 'host-a102_cam3_1242684269199586006.jpeg', 'host-a011_cam1_1232817040434517006.jpeg', 'host-a101_cam1_1240877595866660006.jpeg', 'host-a101_cam1_1241893242466660006.jpeg', 'host-a101_cam4_1241893242416660006.jpeg', 'host-a009_cam0_1236014667451162006.jpeg', 'host-a004_cam2_1233615997917652006.jpeg', 'host-a011_cam2_1233963427817605006.jpeg', 'host-a101_cam5_1241462213333330006.jpeg', 'host-a101_cam0_1241462213350000006.jpeg', 'host-a009_cam6_1231200858649231006.jpeg', 'host-a008_cam1_1236016354834433006.jpeg', 'host-a101_cam6_1241472422950000006.jpeg', 'host-a102_cam4_1242510618815623006.jpeg', 'host-a102_cam3_1242510618899452006.jpeg', 'host-a006_cam2_1236038155617711006.jpeg', 'host-a011_cam1_1232755937434517006.jpeg', 'host-a008_cam5_1235777231167733006.jpeg', 'host-a007_cam6_1232470055050905006.jpeg', 'host-a101_cam4_1240877607216660006.jpeg', 'host-a101_cam2_1240877607283330006.jpeg', 'host-a101_cam4_1241893240816660006.jpeg', 'host-a101_cam1_1241893240866660006.jpeg', 'host-a004_cam2_1233422557817652006.jpeg', 'host-a011_cam0_1232841343651142006.jpeg', 'host-a009_cam4_1231200863615930006.jpeg', 'host-a007_cam0_1233955132250897006.jpeg', 'host-a008_cam4_1235777225384403006.jpeg', 'host-a008_cam3_1235777225301057006.jpeg', 'host-a006_cam4_1236038139084380006.jpeg', 'host-a102_cam6_1241904543350000006.jpeg', 'host-a102_cam6_1241468918450000006.jpeg', 'host-a009_cam1_1236015630934319006.jpeg', 'host-a009_cam2_1236015630917752006.jpeg', 'host-a011_cam4_1232492194684485006.jpeg', 'host-a007_cam4_1230485641016094006.jpeg', 'host-a011_cam1_1232817036434517006.jpeg', 'host-a102_cam5_1242510606632293006.jpeg', 'host-a012_cam1_1237329886834261006.jpeg', 'host-a012_cam2_1237329886817630006.jpeg', 'host-a102_cam2_1241904557183330006.jpeg', 'host-a102_cam1_1241904557166660006.jpeg', 'host-a008_cam6_1235777239151058006.jpeg', 'host-a008_cam5_1235777239167733006.jpeg', 'host-a004_cam0_1233014364051064006.jpeg', 'host-a011_cam1_1232841334034517006.jpeg', 'host-a009_cam2_1236013299617752006.jpeg', 'host-a006_cam1_1236038149234412006.jpeg', 'host-a008_cam3_1236016356201057006.jpeg', 'host-a011_cam3_1232835311200995006.jpeg', 'host-a011_cam6_1232839945251145006.jpeg', 'host-a008_cam2_1235776301517906006.jpeg', 'host-a004_cam3_1233963865000897006.jpeg', 'host-a102_cam0_1242662280949363006.jpeg', 'host-a102_cam2_1242662280982382006.jpeg', 'host-a007_cam2_1233955143417643006.jpeg', 'host-a102_cam3_1242662282299512006.jpeg', 'host-a102_cam5_1242662282332530006.jpeg', 'host-a007_cam3_1232470053000869006.jpeg', 'host-a004_cam1_1233422544434300006.jpeg', 'host-a006_cam1_1236038132234412006.jpeg', 'host-a011_cam1_1232817034634517006.jpeg', 'host-a007_cam1_1233960452634286006.jpeg', 'host-a102_cam1_1242684261466172006.jpeg', 'host-a102_cam0_1242684261449482006.jpeg', 'host-a102_cam6_1242684261444000006.jpeg', 'host-a004_cam0_1233616005751064006.jpeg', 'host-a101_cam4_1243095621716083006.jpeg', 'host-a011_cam1_1233964393934517006.jpeg', 'host-a102_cam6_1242684264044000006.jpeg', 'host-a102_cam2_1242684264082797006.jpeg', 'host-a102_cam3_1242684263999571006.jpeg', 'host-a102_cam6_1241904551950000006.jpeg', 'host-a011_cam2_1232817046017605006.jpeg', 'host-a011_cam1_1232817046034517006.jpeg', 'host-a006_cam5_1236038136267650006.jpeg', 'host-a007_cam1_1233955133234286006.jpeg', 'host-a011_cam1_1232817039034517006.jpeg', 'host-a011_cam2_1233963425017605006.jpeg', 'host-a007_cam5_1230936240532827006.jpeg', 'host-a007_cam0_1230936240549429006.jpeg', 'host-a007_cam4_1230936242716094006.jpeg', 'host-a007_cam1_1233960461234286006.jpeg', 'host-a102_cam6_1242684261644000006.jpeg', 'host-a102_cam0_1242684261649482006.jpeg', 'host-a102_cam1_1242684261666172006.jpeg', 'host-a007_cam5_1230485650232827006.jpeg', 'host-a011_cam0_1232835308651142006.jpeg', 'host-a011_cam2_1232835308617605006.jpeg', 'host-a006_cam4_1236038139484380006.jpeg', 'host-a011_cam0_1232492204851142006.jpeg', 'host-a006_cam1_1236037888434412006.jpeg', 'host-a004_cam2_1233615998117652006.jpeg', 'host-a101_cam5_1243095623732649006.jpeg', 'host-a101_cam3_1241472431800000006.jpeg', 'host-a101_cam4_1241889727416660006.jpeg', 'host-a101_cam3_1241889727400000006.jpeg', 'host-a101_cam2_1241889727483330006.jpeg', 'host-a101_cam1_1241893241666660006.jpeg', 'host-a101_cam4_1241893241616660006.jpeg', 'host-a102_cam5_1242510616832234006.jpeg', 'host-a011_cam5_1232492205667719006.jpeg', 'host-a012_cam6_1237329863050881006.jpeg', 'host-a004_cam1_1233421996634300006.jpeg', 'host-a004_cam1_1232833321234300006.jpeg', 'host-a006_cam3_1237322887400777006.jpeg', 'host-a004_cam1_1233602029634300006.jpeg', 'host-a011_cam2_1233963417017605006.jpeg', 'host-a011_cam2_1232817047817605006.jpeg', 'host-a007_cam1_1233955136034286006.jpeg', 'host-a101_cam4_1241893248816660006.jpeg', 'host-a101_cam1_1241893248866660006.jpeg', 'host-a007_cam1_1232470061634286006.jpeg', 'host-a007_cam2_1233960453617643006.jpeg', 'host-a101_cam5_1241462214733330006.jpeg', 'host-a007_cam2_1233955138017643006.jpeg', 'host-a004_cam6_1233535973550948006.jpeg', 'host-a004_cam1_1233535973534300006.jpeg', 'host-a101_cam1_1240877603666660006.jpeg', 'host-a101_cam0_1240877603650000006.jpeg', 'host-a101_cam5_1240877603633330006.jpeg', 'host-a102_cam6_1242684264444000006.jpeg', 'host-a102_cam3_1242684264499571006.jpeg', 'host-a102_cam2_1242684264482797006.jpeg', 'host-a004_cam1_1233422556234300006.jpeg', 'host-a004_cam6_1233422556250948006.jpeg', 'host-a008_cam6_1235776303751058006.jpeg', 'host-a007_cam0_1233960460450897006.jpeg', 'host-a007_cam1_1233960460434286006.jpeg', 'host-a006_cam2_1236038156017711006.jpeg', 'host-a008_cam4_1235777241384403006.jpeg', 'host-a101_cam1_1240877587266660006.jpeg', 'host-a004_cam1_1233617939534300006.jpeg', 'host-a006_cam5_1236038142667650006.jpeg', 'host-a004_cam2_1233422559417652006.jpeg', 'host-a007_cam1_1233955136434286006.jpeg', 'host-a102_cam3_1242684269099586006.jpeg', 'host-a102_cam0_1242510621449156006.jpeg', 'host-a102_cam5_1242510621432279006.jpeg', 'host-a008_cam5_1235776289567733006.jpeg', 'host-a006_cam3_1236038140200777006.jpeg', 'host-a006_cam4_1236038140284380006.jpeg', 'host-a007_cam5_1230485640232827006.jpeg', 'host-a008_cam4_1235777218784403006.jpeg', 'host-a007_cam4_1233955155884150006.jpeg', 'host-a007_cam5_1233955155867475006.jpeg', 'host-a011_cam2_1233963428617605006.jpeg', 'host-a011_cam3_1233963428600995006.jpeg', 'host-a011_cam5_1232492213867719006.jpeg', 'host-a008_cam3_1235777222101057006.jpeg', 'host-a008_cam4_1235777222184403006.jpeg', 'host-a007_cam1_1233960463434286006.jpeg', 'host-a007_cam3_1233960463400869006.jpeg', 'host-a007_cam2_1233960463417643006.jpeg', 'host-a011_cam1_1232817035634517006.jpeg', 'host-a101_cam4_1241893247416660006.jpeg', 'host-a101_cam1_1241893247466660006.jpeg', 'host-a004_cam6_1233011748450948006.jpeg', 'host-a012_cam1_1237329886434261006.jpeg', 'host-a012_cam2_1237329886417630006.jpeg', 'host-a102_cam3_1241904549000000006.jpeg', 'host-a101_cam5_1241462213933330006.jpeg', 'host-a102_cam6_1241468919650000006.jpeg', 'host-a101_cam4_1243095629315964006.jpeg', 'host-a006_cam2_1236037888817711006.jpeg', 'host-a007_cam1_1233960461634286006.jpeg', 'host-a007_cam2_1233960461617643006.jpeg', 'host-a006_cam2_1236037898817711006.jpeg', 'host-a011_cam2_1232839957017605006.jpeg', 'host-a006_cam6_1236037891050930006.jpeg', 'host-a102_cam2_1242684267482782006.jpeg', 'host-a101_cam4_1241889729016660006.jpeg', 'host-a101_cam3_1241889729100000006.jpeg', 'host-a011_cam1_1232835309634517006.jpeg', 'host-a101_cam1_1241893243666660006.jpeg', 'host-a101_cam4_1241893243616660006.jpeg', 'host-a101_cam1_1240877602866660006.jpeg', 'host-a101_cam5_1240877602833330006.jpeg', 'host-a102_cam0_1241904556350000006.jpeg', 'host-a102_cam1_1241904556366660006.jpeg', 'host-a101_cam1_1241886985966660006.jpeg', 'host-a101_cam2_1241886985983330006.jpeg', 'host-a101_cam2_1241893254483330006.jpeg', 'host-a101_cam4_1241893254416660006.jpeg', 'host-a101_cam3_1241893254500000006.jpeg', 'host-a008_cam5_1235777230967733006.jpeg', 'host-a004_cam2_1233602025417652006.jpeg', 'host-a011_cam1_1232755940634517006.jpeg', 'host-a102_cam2_1241878201283330006.jpeg', 'host-a004_cam6_1233535977750948006.jpeg', 'host-a004_cam1_1233535977734300006.jpeg', 'host-a004_cam0_1233535977751064006.jpeg', 'host-a011_cam1_1232839955834517006.jpeg', 'host-a004_cam3_1233014365600897006.jpeg', 'host-a004_cam1_1232815267634300006.jpeg', 'host-a004_cam0_1232815267651064006.jpeg', 'host-a102_cam2_1241878201683330006.jpeg', 'host-a004_cam2_1232833321417652006.jpeg', 'host-a102_cam6_1241468917850000006.jpeg', 'host-a102_cam6_1241904542350000006.jpeg', 'host-a102_cam3_1242684268699586006.jpeg', 'host-a011_cam1_1232817043034517006.jpeg', 'host-a006_cam1_1237322906034412006.jpeg', 'host-a102_cam4_1242510618215623006.jpeg', 'host-a102_cam6_1242510618244000006.jpeg', 'host-a008_cam4_1235777220184403006.jpeg', 'host-a008_cam3_1235777220101057006.jpeg', 'host-a011_cam2_1232755946217605006.jpeg', 'host-a101_cam1_1240877605666660006.jpeg', 'host-a007_cam4_1230485640816094006.jpeg', 'host-a008_cam5_1235776288167733006.jpeg', 'host-a101_cam4_1241893249016660006.jpeg', 'host-a101_cam1_1241893249066660006.jpeg', 'host-a005_cam4_1231201460716091006.jpeg', 'host-a004_cam2_1233602031417652006.jpeg', 'host-a101_cam4_1241893251616660006.jpeg', 'host-a101_cam1_1241893251666660006.jpeg', 'host-a011_cam1_1232841334434517006.jpeg', 'host-a006_cam1_1237322906434412006.jpeg', 'host-a006_cam2_1237322903017711006.jpeg', 'host-a004_cam1_1232825405234300006.jpeg', 'host-a007_cam2_1233955135017643006.jpeg', 'host-a007_cam0_1233955135050897006.jpeg', 'host-a007_cam1_1233955135034286006.jpeg', 'host-a008_cam5_1235777230767733006.jpeg', 'host-a004_cam3_1232817655000897006.jpeg', 'host-a101_cam1_1240877591666660006.jpeg', 'host-a101_cam1_1241893246066660006.jpeg', 'host-a004_cam6_1233011748650948006.jpeg', 'host-a011_cam1_1232817040634517006.jpeg', 'host-a004_cam1_1233602029834300006.jpeg', 'host-a004_cam1_1233963863634300006.jpeg', 'host-a004_cam2_1233963863617652006.jpeg', 'host-a011_cam2_1233963420417605006.jpeg', 'host-a008_cam2_1236016355217906006.jpeg', 'host-a009_cam6_1236014665251075006.jpeg', 'host-a007_cam2_1234551933917643006.jpeg', 'host-a007_cam5_1230485639832827006.jpeg', 'host-a101_cam3_1241889729200000006.jpeg', 'host-a101_cam4_1241889729216660006.jpeg', 'host-a004_cam6_1233947133150948006.jpeg', 'host-a101_cam4_1240877611216660006.jpeg', 'host-a101_cam3_1240877611200000006.jpeg', 'host-a101_cam2_1240877611283330006.jpeg', 'host-a102_cam5_1242510621832145006.jpeg', 'host-a102_cam0_1242510621849156006.jpeg', 'host-a007_cam2_1233007771417643006.jpeg', 'host-a101_cam5_1241462212733330006.jpeg', 'host-a004_cam1_1233963863234300006.jpeg', 'host-a007_cam5_1230936221332827006.jpeg', 'host-a102_cam4_1242662283316038006.jpeg', 'host-a011_cam1_1232817040834517006.jpeg', 'host-a004_cam2_1233422545617652006.jpeg', 'host-a006_cam1_1237322905034412006.jpeg', 'host-a004_cam3_1233616001700897006.jpeg', 'host-a009_cam5_1231200862432771006.jpeg', 'host-a004_cam1_1233014364634300006.jpeg', 'host-a004_cam2_1233616007517652006.jpeg', 'host-a009_cam2_1236015622517752006.jpeg', 'host-a007_cam6_1233955151450905006.jpeg', 'host-a101_cam1_1240877594466660006.jpeg', 'host-a004_cam2_1233616000317652006.jpeg', 'host-a011_cam4_1236037942884485006.jpeg', 'host-a101_cam1_1241472429966660006.jpeg', 'host-a008_cam1_1235776295334433006.jpeg', 'host-a009_cam0_1236013298051162006.jpeg', 'host-a009_cam1_1236013298034319006.jpeg', 'host-a102_cam6_1241904544550000006.jpeg', 'host-a102_cam1_1242684266866112006.jpeg', 'host-a004_cam1_1233961184434300006.jpeg', 'host-a011_cam1_1232817045434517006.jpeg', 'host-a007_cam5_1232490785867475006.jpeg', 'host-a007_cam4_1232490785884150006.jpeg', 'host-a101_cam1_1240877594866660006.jpeg', 'host-a007_cam1_1233955136234286006.jpeg', 'host-a012_cam1_1237329885034261006.jpeg', 'host-a012_cam0_1237329885051020006.jpeg', 'host-a101_cam1_1240877587866660006.jpeg', 'host-a004_cam6_1233535979550948006.jpeg', 'host-a004_cam2_1233535979517652006.jpeg', 'host-a101_cam4_1241893241416660006.jpeg', 'host-a101_cam1_1241893241466660006.jpeg', 'host-a011_cam4_1232492208684485006.jpeg', 'host-a011_cam6_1232492208651145006.jpeg', 'host-a006_cam1_1236038155034412006.jpeg', 'host-a007_cam4_1230936225316094006.jpeg', 'host-a011_cam1_1232841344634517006.jpeg', 'host-a101_cam2_1241889726483330006.jpeg', 'host-a101_cam1_1241889726466660006.jpeg', 'host-a101_cam5_1241889726433330006.jpeg', 'host-a011_cam2_1233964306117605006.jpeg', 'host-a006_cam2_1237322898217711006.jpeg', 'host-a011_cam5_1232839949067719006.jpeg', 'host-a011_cam1_1232817042234517006.jpeg', 'host-a004_cam1_1233615998734300006.jpeg', 'host-a008_cam1_1235776300534433006.jpeg', 'host-a008_cam6_1235776300551058006.jpeg', 'host-a011_cam2_1232755934617605006.jpeg', 'host-a006_cam2_1236037896617711006.jpeg', 'host-a006_cam2_1237322885817711006.jpeg', 'host-a011_cam1_1232755939634517006.jpeg', 'host-a004_cam0_1232815267251064006.jpeg', 'host-a101_cam3_1241893254600000006.jpeg', 'host-a101_cam4_1241893254616660006.jpeg', 'host-a101_cam2_1241893254683330006.jpeg', 'host-a006_cam1_1237322896834412006.jpeg', 'host-a101_cam1_1241886985766660006.jpeg', 'host-a011_cam0_1232841344051142006.jpeg', 'host-a101_cam4_1240877609216660006.jpeg', 'host-a101_cam1_1240877609266660006.jpeg', 'host-a101_cam0_1240877609250000006.jpeg', 'host-a101_cam3_1240877609200000006.jpeg', 'host-a101_cam2_1240877609283330006.jpeg', 'host-a004_cam6_1233422008850948006.jpeg', 'host-a005_cam4_1231201460116091006.jpeg', 'host-a004_cam2_1233947109117652006.jpeg', 'host-a008_cam5_1235776292367733006.jpeg', 'host-a011_cam2_1232817047017605006.jpeg', 'host-a008_cam5_1235776287367733006.jpeg', 'host-a101_cam1_1240877605066660006.jpeg', 'host-a101_cam3_1240877611400000006.jpeg', 'host-a101_cam4_1240877611416660006.jpeg', 'host-a008_cam3_1235777225101057006.jpeg', 'host-a008_cam4_1235777225184403006.jpeg', 'host-a101_cam1_1241893247266660006.jpeg', 'host-a008_cam1_1235776295134433006.jpeg', 'host-a008_cam4_1235776295184403006.jpeg', 'host-a004_cam1_1233963863034300006.jpeg', 'host-a004_cam0_1233963863051064006.jpeg', 'host-a008_cam4_1235777223784403006.jpeg', 'host-a101_cam4_1241889728016660006.jpeg', 'host-a101_cam3_1241889728000000006.jpeg', 'host-a007_cam5_1230936241332827006.jpeg', 'host-a101_cam0_1241889724850000006.jpeg', 'host-a006_cam1_1237322908034412006.jpeg', 'host-a004_cam0_1232815265851064006.jpeg', 'host-a004_cam2_1233602024417652006.jpeg', 'host-a011_cam5_1232492192267719006.jpeg', 'host-a008_cam4_1235777222384403006.jpeg', 'host-a008_cam3_1235777222301057006.jpeg', 'host-a006_cam0_1236038133850935006.jpeg', 'host-a006_cam2_1236038133817711006.jpeg', 'host-a006_cam6_1236038133850930006.jpeg', 'host-a005_cam6_1231201453949392006.jpeg', 'host-a006_cam2_1237322885417711006.jpeg', 'host-a102_cam0_1241904555550000006.jpeg', 'host-a006_cam6_1236037891650930006.jpeg', 'host-a004_cam2_1232833321817652006.jpeg', 'host-a101_cam4_1241893241216660006.jpeg', 'host-a101_cam1_1241893241266660006.jpeg', 'host-a011_cam1_1233964305334517006.jpeg', 'host-a011_cam1_1233964304534517006.jpeg', 'host-a004_cam2_1232815268417652006.jpeg', 'host-a004_cam0_1232815268451064006.jpeg', 'host-a102_cam6_1241904552150000006.jpeg', 'host-a008_cam1_1235776293534433006.jpeg', 'host-a008_cam5_1235776293567733006.jpeg', 'host-a008_cam1_1235776297934433006.jpeg', 'host-a009_cam3_1236015623300980006.jpeg', 'host-a101_cam6_1241472424750000006.jpeg', 'host-a007_cam2_1233960463217643006.jpeg', 'host-a007_cam3_1233960463200869006.jpeg', 'host-a007_cam1_1233960463234286006.jpeg', 'host-a011_cam2_1232817047217605006.jpeg', 'host-a006_cam4_1236038138884380006.jpeg', 'host-a008_cam4_1235777219784403006.jpeg', 'host-a008_cam3_1235777219701057006.jpeg', 'host-a102_cam2_1241904557783330006.jpeg', 'host-a012_cam3_1237329869600913006.jpeg', 'host-a006_cam5_1236038136467650006.jpeg', 'host-a102_cam0_1242662281349378006.jpeg', 'host-a102_cam5_1242662281332516006.jpeg', 'host-a102_cam2_1242662281382501006.jpeg', 'host-a011_cam4_1232492194084485006.jpeg', 'host-a004_cam2_1233535980217652006.jpeg', 'host-a007_cam1_1233955142434286006.jpeg', 'host-a102_cam2_1242684268082782006.jpeg', 'host-a102_cam3_1242684268099586006.jpeg', 'host-a011_cam2_1232755935617605006.jpeg', 'host-a007_cam4_1230936228716094006.jpeg', 'host-a004_cam6_1233947132150948006.jpeg', 'host-a009_cam6_1231200858849231006.jpeg', 'host-a101_cam0_1240877603250000006.jpeg', 'host-a101_cam1_1240877603266660006.jpeg', 'host-a101_cam5_1240877603233330006.jpeg', 'host-a101_cam6_1240877603250000006.jpeg', 'host-a007_cam2_1233960465217643006.jpeg', 'host-a007_cam3_1233960465200869006.jpeg', 'host-a007_cam1_1233960465234286006.jpeg', 'host-a004_cam1_1233615999134300006.jpeg', 'host-a011_cam0_1232839955051142006.jpeg', 'host-a101_cam4_1240877607616660006.jpeg', 'host-a101_cam2_1240877607683330006.jpeg', 'host-a007_cam0_1233955153450897006.jpeg', 'host-a101_cam6_1241472424150000006.jpeg', 'host-a011_cam5_1232492214467719006.jpeg', 'host-a007_cam5_1230485650032827006.jpeg', 'host-a011_cam1_1232755939834517006.jpeg', 'host-a004_cam1_1233011751834300006.jpeg', 'host-a007_cam2_1233960464817643006.jpeg', 'host-a007_cam3_1233960464800869006.jpeg', 'host-a007_cam1_1233960464834286006.jpeg', 'host-a011_cam1_1232755957234517006.jpeg', 'host-a009_cam6_1231200858049231006.jpeg', 'host-a006_cam1_1236037898234412006.jpeg', 'host-a006_cam4_1236038138084380006.jpeg', 'host-a101_cam1_1241893246466660006.jpeg', 'host-a102_cam1_1242662279565668006.jpeg', 'host-a102_cam0_1242662279549363006.jpeg', 'host-a011_cam5_1232492214667719006.jpeg', 'host-a011_cam2_1232485958517605006.jpeg', 'host-a006_cam3_1236038140600777006.jpeg', 'host-a011_cam1_1232755940434517006.jpeg', 'host-a011_cam1_1233964393534517006.jpeg', 'host-a011_cam0_1233964393551142006.jpeg', 'host-a011_cam2_1232817045617605006.jpeg', 'host-a011_cam1_1232755939034517006.jpeg', 'host-a008_cam5_1235776292167733006.jpeg', 'host-a006_cam1_1236037898034412006.jpeg', 'host-a102_cam6_1241904544350000006.jpeg', 'host-a102_cam3_1241904558800000006.jpeg', 'host-a004_cam3_1232815252200897006.jpeg', 'host-a101_cam4_1241462216116660006.jpeg', 'host-a007_cam3_1232470064200869006.jpeg', 'host-a004_cam1_1233535978734300006.jpeg', 'host-a004_cam6_1233535978750948006.jpeg', 'host-a004_cam2_1233422541817652006.jpeg', 'host-a004_cam1_1233422541834300006.jpeg', 'host-a004_cam2_1233422557417652006.jpeg', 'host-a009_cam1_1236015627134319006.jpeg', 'host-a008_cam6_1235776307151058006.jpeg', 'host-a007_cam2_1233960462417643006.jpeg', 'host-a007_cam1_1233960462434286006.jpeg', 'host-a101_cam3_1240877609800000006.jpeg', 'host-a101_cam1_1240877609866660006.jpeg', 'host-a101_cam4_1240877609816660006.jpeg', 'host-a007_cam4_1230936242916094006.jpeg', 'host-a011_cam2_1233963421617605006.jpeg', 'host-a007_cam1_1233007770234286006.jpeg', 'host-a007_cam0_1233007770250897006.jpeg', 'host-a006_cam4_1236038137884380006.jpeg', 'host-a102_cam6_1242684265044000006.jpeg', 'host-a102_cam3_1242684265099571006.jpeg', 'host-a102_cam2_1242684265082797006.jpeg', 'host-a006_cam1_1236038154634412006.jpeg', 'host-a102_cam0_1242510614649319006.jpeg', 'host-a102_cam5_1242510614632249006.jpeg', 'host-a011_cam1_1232841344834517006.jpeg', 'host-a007_cam4_1230936225516094006.jpeg', 'host-a102_cam2_1241904557583330006.jpeg', 'host-a102_cam2_1242684267882782006.jpeg', 'host-a004_cam2_1232817653217652006.jpeg', 'host-a005_cam5_1231201459332576006.jpeg', 'host-a008_cam3_1235776302301057006.jpeg', 'host-a011_cam5_1232492206867719006.jpeg', 'host-a011_cam4_1232492206884485006.jpeg', 'host-a008_cam6_1235776304151058006.jpeg', 'host-a102_cam4_1242510617215623006.jpeg', 'host-a102_cam5_1242510617232249006.jpeg', 'host-a007_cam0_1232470060650897006.jpeg', 'host-a008_cam5_1235776289967733006.jpeg', 'host-a101_cam1_1241886985166660006.jpeg', 'host-a007_cam2_1232470063417643006.jpeg', 'host-a004_cam1_1232825406234300006.jpeg', 'host-a008_cam1_1236016354034433006.jpeg', 'host-a007_cam0_1233960460050897006.jpeg', 'host-a007_cam1_1233960460034286006.jpeg', 'host-a101_cam1_1243102890865816006.jpeg', 'host-a011_cam2_1233964306917605006.jpeg', 'host-a011_cam5_1236037942467719006.jpeg', 'host-a004_cam1_1233602030434300006.jpeg', 'host-a006_cam2_1237322899217711006.jpeg', 'host-a004_cam2_1233616006917652006.jpeg', 'host-a101_cam1_1241893248066660006.jpeg', 'host-a101_cam4_1241893248016660006.jpeg', 'host-a101_cam2_1241472411983330006.jpeg', 'host-a009_cam6_1231200858249231006.jpeg', 'host-a007_cam2_1232470063217643006.jpeg', 'host-a007_cam5_1230936221732827006.jpeg', 'host-a101_cam4_1241887000916660006.jpeg', 'host-a102_cam5_1242510616432234006.jpeg', 'host-a102_cam6_1242510616444000006.jpeg', 'host-a101_cam1_1241893246666660006.jpeg', 'host-a008_cam2_1235776301317906006.jpeg', 'host-a011_cam2_1232839956417605006.jpeg', 'host-a004_cam0_1232815265651064006.jpeg', 'host-a004_cam0_1232815267851064006.jpeg', 'host-a004_cam1_1232815267834300006.jpeg', 'host-a008_cam6_1235776303951058006.jpeg', 'host-a008_cam0_1235776303951171006.jpeg', 'host-a007_cam3_1234551934100869006.jpeg', 'host-a009_cam1_1236013306634319006.jpeg', 'host-a011_cam2_1233963419417605006.jpeg', 'host-a007_cam1_1233007771034286006.jpeg', 'host-a007_cam1_1233960462034286006.jpeg', 'host-a007_cam2_1233960462017643006.jpeg', 'host-a008_cam1_1235776297134433006.jpeg', 'host-a102_cam6_1242684259844000006.jpeg', 'host-a101_cam1_1240877592866660006.jpeg', 'host-a011_cam0_1232755956651142006.jpeg', 'host-a009_cam6_1236015610551075006.jpeg', 'host-a102_cam6_1242510608844000006.jpeg', 'host-a102_cam4_1242510608815594006.jpeg', 'host-a102_cam3_1242510608899393006.jpeg', 'host-a102_cam1_1242662279365668006.jpeg', 'host-a102_cam0_1242662279349378006.jpeg', 'host-a006_cam3_1236038145200777006.jpeg', 'host-a011_cam3_1232485959100995006.jpeg', 'host-a006_cam0_1236038134250935006.jpeg', 'host-a006_cam5_1236038134267650006.jpeg', 'host-a006_cam2_1236038134217711006.jpeg', 'host-a011_cam1_1232817040234517006.jpeg', 'host-a006_cam2_1237322903817711006.jpeg', 'host-a011_cam3_1232841336200995006.jpeg', 'host-a102_cam6_1241904544150000006.jpeg', 'host-a102_cam1_1242684262666142006.jpeg', 'host-a102_cam0_1242684262649512006.jpeg', 'host-a102_cam2_1242684262682827006.jpeg', 'host-a102_cam6_1242684262644000006.jpeg', 'host-a101_cam2_1242493649282812006.jpeg', 'host-a006_cam2_1237322900017711006.jpeg', 'host-a101_cam5_1243095623532649006.jpeg', 'host-a011_cam5_1232492206667719006.jpeg', 'host-a011_cam4_1232492206684485006.jpeg', 'host-a009_cam3_1236014670400980006.jpeg', 'host-a102_cam6_1242684259044000006.jpeg', 'host-a004_cam6_1233535975950948006.jpeg', 'host-a004_cam2_1233535974517652006.jpeg', 'host-a102_cam3_1242510608699393006.jpeg', 'host-a102_cam4_1242510608615594006.jpeg', 'host-a011_cam1_1232817043634517006.jpeg', 'host-a004_cam3_1233422546000897006.jpeg', 'host-a101_cam1_1241893245666660006.jpeg', 'host-a102_cam0_1242684265849556006.jpeg', 'host-a006_cam4_1236038144684380006.jpeg', 'host-a009_cam1_1236013306834319006.jpeg', 'host-a011_cam5_1232492205467719006.jpeg', 'host-a004_cam1_1233602023234300006.jpeg', 'host-a011_cam1_1232755943634517006.jpeg', 'host-a102_cam2_1241878201883330006.jpeg', 'host-a004_cam2_1233963863817652006.jpeg', 'host-a004_cam1_1233963863834300006.jpeg', 'host-a011_cam1_1234553377934517006.jpeg', 'host-a101_cam5_1241462213533330006.jpeg', 'host-a004_cam2_1233422558217652006.jpeg', 'host-a006_cam3_1236038150600777006.jpeg', 'host-a101_cam4_1241893249416660006.jpeg', 'host-a101_cam1_1241893249466660006.jpeg', 'host-a102_cam3_1242684244399660006.jpeg', 'host-a101_cam3_1241893256100000006.jpeg', 'host-a011_cam5_1232492213467719006.jpeg', 'host-a004_cam1_1233947108534300006.jpeg', 'host-a007_cam2_1233960461417643006.jpeg', 'host-a007_cam1_1233960461434286006.jpeg', 'host-a004_cam1_1233961189834300006.jpeg', 'host-a006_cam2_1236037898617711006.jpeg', 'host-a101_cam2_1240877599083330006.jpeg', 'host-a101_cam2_1241472411583330006.jpeg', 'host-a007_cam1_1233007770634286006.jpeg', 'host-a102_cam6_1241904542550000006.jpeg', 'host-a004_cam1_1233011751634300006.jpeg', 'host-a005_cam0_1231201457949279006.jpeg', 'host-a102_cam6_1242510609244000006.jpeg', 'host-a102_cam4_1242510609215609006.jpeg', 'host-a102_cam3_1242510609299393006.jpeg', 'host-a006_cam2_1237322903217711006.jpeg', 'host-a101_cam0_1240877602050000006.jpeg', 'host-a101_cam5_1240877602033330006.jpeg', 'host-a011_cam1_1232817043234517006.jpeg', 'host-a008_cam0_1235776298951171006.jpeg', 'host-a008_cam2_1235776298917906006.jpeg', 'host-a006_cam0_1236038134050935006.jpeg', 'host-a006_cam2_1236038134017711006.jpeg', 'host-a006_cam4_1236038144484380006.jpeg', 'host-a011_cam2_1233963422017605006.jpeg', 'host-a102_cam0_1242510614249319006.jpeg', 'host-a102_cam5_1242510614232249006.jpeg', 'host-a101_cam4_1241893242616660006.jpeg', 'host-a101_cam1_1241893242666660006.jpeg', 'host-a004_cam2_1233602025017652006.jpeg', 'host-a004_cam2_1233422545017652006.jpeg', 'host-a009_cam3_1236015617900980006.jpeg', 'host-a011_cam1_1232755941234517006.jpeg', 'host-a012_cam2_1237329887017630006.jpeg', 'host-a012_cam3_1237329887000913006.jpeg', 'host-a008_cam3_1235777225701057006.jpeg', 'host-a011_cam3_1232841336000995006.jpeg', 'host-a006_cam2_1237322910117711006.jpeg', 'host-a006_cam1_1237322910134412006.jpeg', 'host-a011_cam1_1232817039234517006.jpeg', 'host-a007_cam4_1230485652016094006.jpeg', 'host-a101_cam1_1240877593866660006.jpeg', 'host-a008_cam0_1236016353251171006.jpeg', 'host-a004_cam0_1232833319251064006.jpeg', 'host-a008_cam1_1236016354634433006.jpeg', 'host-a011_cam0_1233964393151142006.jpeg', 'host-a101_cam4_1243095622316127006.jpeg', 'host-a011_cam2_1233963426217605006.jpeg', 'host-a011_cam1_1232817038234517006.jpeg', 'host-a006_cam2_1236037896817711006.jpeg', 'host-a102_cam6_1241904552550000006.jpeg', 'host-a102_cam5_1242662282132530006.jpeg', 'host-a102_cam3_1242662282199512006.jpeg', 'host-a102_cam6_1241468919450000006.jpeg', 'host-a008_cam5_1235776290167733006.jpeg', 'host-a101_cam4_1241893252216660006.jpeg', 'host-a101_cam2_1241893252283330006.jpeg', 'host-a101_cam1_1241893252266660006.jpeg', 'host-a012_cam2_1237329887117630006.jpeg', 'host-a012_cam3_1237329887100913006.jpeg', 'host-a007_cam0_1233955153250897006.jpeg', 'host-a011_cam1_1233964384934517006.jpeg', 'host-a008_cam4_1235777217384403006.jpeg', 'host-a008_cam3_1235777217301057006.jpeg', 'host-a101_cam2_1241472411783330006.jpeg', 'host-a008_cam4_1235777217584403006.jpeg', 'host-a008_cam3_1235777217501057006.jpeg', 'host-a101_cam3_1241889710800000006.jpeg', 'host-a101_cam4_1241889710816660006.jpeg', 'host-a004_cam1_1232825407834300006.jpeg', 'host-a011_cam6_1232492210251145006.jpeg', 'host-a101_cam1_1240877593066660006.jpeg', 'host-a004_cam0_1232833319451064006.jpeg', 'host-a011_cam4_1232492216284485006.jpeg', 'host-a009_cam1_1236015616334319006.jpeg', 'host-a102_cam3_1242684268499586006.jpeg', 'host-a102_cam2_1242684268482782006.jpeg', 'host-a102_cam6_1242684258044000006.jpeg', 'host-a004_cam1_1233422555434300006.jpeg', 'host-a004_cam0_1232833320051064006.jpeg', 'host-a004_cam1_1232833320034300006.jpeg', 'host-a006_cam1_1237322898034412006.jpeg', 'host-a011_cam5_1236037942267719006.jpeg', 'host-a008_cam3_1235777221701057006.jpeg', 'host-a008_cam4_1235777221784403006.jpeg', 'host-a008_cam5_1235776286767733006.jpeg', 'host-a004_cam6_1232815264250948006.jpeg', 'host-a011_cam1_1232755936434517006.jpeg', 'host-a009_cam3_1236015617700980006.jpeg', 'host-a009_cam2_1236015617717752006.jpeg', 'host-a009_cam4_1236014669884403006.jpeg', 'host-a101_cam1_1240877589466660006.jpeg', 'host-a101_cam0_1240877601650000006.jpeg', 'host-a101_cam5_1240877601633330006.jpeg', 'host-a007_cam1_1232470061834286006.jpeg', 'host-a101_cam3_1240877608800000006.jpeg', 'host-a101_cam4_1240877608816660006.jpeg', 'host-a101_cam2_1240877608883330006.jpeg', 'host-a101_cam1_1240877608866660006.jpeg', 'host-a101_cam0_1240877608850000006.jpeg', 'host-a004_cam1_1233422544634300006.jpeg', 'host-a102_cam3_1242510619699452006.jpeg', 'host-a102_cam4_1242510619615623006.jpeg', 'host-a102_cam5_1242510613632249006.jpeg', 'host-a004_cam2_1232825407217652006.jpeg', 'host-a004_cam3_1232825407200897006.jpeg', 'host-a006_cam4_1236038138284380006.jpeg', 'host-a011_cam2_1232755936017605006.jpeg', 'host-a102_cam3_1242684264699571006.jpeg', 'host-a102_cam2_1242684264682797006.jpeg', 'host-a102_cam6_1242684264644000006.jpeg', 'host-a011_cam1_1232841334634517006.jpeg', 'host-a004_cam6_1233535978550948006.jpeg', 'host-a004_cam1_1233535978534300006.jpeg', 'host-a006_cam0_1236037897650935006.jpeg', 'host-a102_cam5_1242510621232279006.jpeg', 'host-a008_cam4_1235777218384403006.jpeg', 'host-a011_cam1_1232817042034517006.jpeg', 'host-a101_cam1_1243102889265535006.jpeg', 'host-a011_cam2_1232755945617605006.jpeg', 'host-a008_cam3_1235777221101057006.jpeg', 'host-a008_cam4_1235777221184403006.jpeg', 'host-a102_cam1_1241878224266660006.jpeg', 'host-a007_cam4_1230485640616094006.jpeg', 'host-a004_cam3_1232833322600897006.jpeg', 'host-a004_cam1_1233422544234300006.jpeg', 'host-a008_cam2_1235776301117906006.jpeg', 'host-a008_cam6_1235776301151058006.jpeg', 'host-a011_cam1_1232817037434517006.jpeg', 'host-a005_cam4_1231201460516091006.jpeg', 'host-a011_cam2_1232755946017605006.jpeg', 'host-a102_cam6_1241904542950000006.jpeg', 'host-a004_cam1_1232815268634300006.jpeg', 'host-a004_cam2_1232815268617652006.jpeg', 'host-a008_cam1_1235776295734433006.jpeg', 'host-a101_cam1_1241893243066660006.jpeg', 'host-a101_cam4_1241893243016660006.jpeg', 'host-a101_cam1_1240877591866660006.jpeg', 'host-a007_cam2_1233955137217643006.jpeg', 'host-a008_cam1_1235776294134433006.jpeg', 'host-a011_cam1_1232839955434517006.jpeg', 'host-a011_cam4_1232492195284485006.jpeg', 'host-a102_cam6_1241468919850000006.jpeg', 'host-a006_cam5_1236038143467650006.jpeg', 'host-a006_cam4_1236038143484380006.jpeg', 'host-a004_cam0_1233535977351064006.jpeg', 'host-a004_cam6_1233535977350948006.jpeg', 'host-a006_cam2_1237322899417711006.jpeg', 'host-a004_cam3_1233947109700897006.jpeg', 'host-a101_cam4_1241893250816660006.jpeg', 'host-a101_cam1_1241893250866660006.jpeg', 'host-a011_cam6_1233964390751145006.jpeg', 'host-a006_cam1_1237322910034412006.jpeg', 'host-a006_cam2_1237322910017711006.jpeg', 'host-a102_cam3_1242684244299660006.jpeg', 'host-a009_cam6_1231200858449231006.jpeg', 'host-a004_cam2_1233011752217652006.jpeg', 'host-a006_cam2_1237322909417711006.jpeg', 'host-a011_cam0_1232839954851142006.jpeg', 'host-a011_cam2_1233963424617605006.jpeg', 'host-a006_cam2_1236037896217711006.jpeg', 'host-a101_cam1_1240877588066660006.jpeg', 'host-a011_cam1_1232755938434517006.jpeg', 'host-a006_cam4_1236038139684380006.jpeg', 'host-a009_cam1_1236015627534319006.jpeg', 'host-a101_cam4_1241893248216660006.jpeg', 'host-a101_cam1_1241893248266660006.jpeg', 'host-a101_cam3_1241472431600000006.jpeg', 'host-a101_cam2_1241472431583330006.jpeg', 'host-a007_cam4_1230936224716094006.jpeg', 'host-a011_cam1_1232817035034517006.jpeg', 'host-a009_cam1_1236013297234319006.jpeg', 'host-a101_cam1_1241893243466660006.jpeg', 'host-a101_cam4_1241893243416660006.jpeg', 'host-a007_cam4_1230485652216094006.jpeg', 'host-a007_cam3_1230485652199360006.jpeg', 'host-a011_cam0_1232492213251142006.jpeg', 'host-a008_cam2_1235776298317906006.jpeg', 'host-a006_cam3_1236038145000777006.jpeg', 'host-a006_cam4_1236038145084380006.jpeg', 'host-a009_cam4_1231200864615930006.jpeg', 'host-a009_cam3_1231200864599238006.jpeg', 'host-a004_cam1_1233422554634300006.jpeg', 'host-a101_cam4_1241893248416660006.jpeg', 'host-a101_cam1_1241893248466660006.jpeg', 'host-a006_cam1_1237322897234412006.jpeg', 'host-a004_cam2_1233422556617652006.jpeg', 'host-a102_cam4_1242510619215623006.jpeg', 'host-a102_cam3_1242510619199452006.jpeg', 'host-a008_cam5_1235776285967733006.jpeg', 'host-a102_cam4_1242662283716053006.jpeg', 'host-a102_cam3_1242662283799512006.jpeg', 'host-a004_cam2_1233602024617652006.jpeg', 'host-a011_cam2_1233963427017605006.jpeg', 'host-a102_cam5_1242510622032116006.jpeg', 'host-a102_cam0_1242510622049156006.jpeg', 'host-a007_cam0_1233960459650897006.jpeg', 'host-a102_cam1_1242662280165638006.jpeg', 'host-a011_cam2_1232755958017605006.jpeg', 'host-a102_cam5_1242662281732530006.jpeg', 'host-a102_cam0_1242662281749378006.jpeg', 'host-a102_cam2_1242662281782545006.jpeg', 'host-a102_cam3_1242662281799482006.jpeg', 'host-a101_cam1_1241893251466660006.jpeg', 'host-a101_cam4_1241893251416660006.jpeg', 'host-a011_cam1_1232817043434517006.jpeg', 'host-a007_cam5_1230936240732827006.jpeg', 'host-a011_cam4_1232492195484485006.jpeg', 'host-a102_cam0_1242510604849215006.jpeg', 'host-a102_cam5_1242510604832190006.jpeg', 'host-a006_cam2_1237322909617711006.jpeg', 'host-a102_cam4_1242510608215609006.jpeg', 'host-a011_cam2_1232817047617605006.jpeg', 'host-a009_cam6_1231200857649231006.jpeg', 'host-a009_cam1_1236013297434319006.jpeg', 'host-a004_cam1_1233615998534300006.jpeg', 'host-a102_cam5_1242510616032234006.jpeg', 'host-a011_cam2_1233963423617605006.jpeg', 'host-a006_cam2_1237322903617711006.jpeg', 'host-a101_cam4_1241893250016660006.jpeg', 'host-a101_cam1_1241893250066660006.jpeg', 'host-a007_cam0_1233960460250897006.jpeg', 'host-a007_cam1_1233960460234286006.jpeg', 'host-a101_cam1_1240877604866660006.jpeg', 'host-a101_cam5_1240877604833330006.jpeg', 'host-a011_cam1_1232755940834517006.jpeg', 'host-a011_cam3_1232835310800995006.jpeg', 'host-a011_cam2_1232835310817605006.jpeg', 'host-a101_cam0_1240877604450000006.jpeg', 'host-a101_cam1_1240877604466660006.jpeg', 'host-a101_cam5_1240877604433330006.jpeg', 'host-a102_cam6_1241904550950000006.jpeg', 'host-a101_cam1_1240877592266660006.jpeg', 'host-a101_cam0_1240877592250000006.jpeg', 'host-a004_cam2_1233616010717652006.jpeg', 'host-a101_cam1_1240877594066660006.jpeg', 'host-a101_cam2_1241886986183330006.jpeg', 'host-a007_cam5_1230485639632827006.jpeg', 'host-a008_cam5_1235776292967733006.jpeg', 'host-a004_cam1_1233535973134300006.jpeg', 'host-a102_cam6_1242684263844000006.jpeg', 'host-a102_cam3_1242684263899571006.jpeg', 'host-a102_cam2_1242684263882797006.jpeg', 'host-a102_cam0_1242510614049304006.jpeg', 'host-a102_cam5_1242510614032249006.jpeg', 'host-a011_cam1_1232817046234517006.jpeg', 'host-a011_cam2_1232817046217605006.jpeg', 'host-a004_cam1_1232815266634300006.jpeg', 'host-a008_cam3_1235776301901057006.jpeg', 'host-a007_cam4_1230936228116094006.jpeg', 'host-a007_cam3_1234551934700869006.jpeg', 'host-a007_cam6_1233955151250905006.jpeg', 'host-a007_cam2_1233955137617643006.jpeg', 'host-a007_cam6_1233955137650905006.jpeg', 'host-a008_cam5_1235776292567733006.jpeg', 'host-a007_cam4_1230936222516094006.jpeg', 'host-a006_cam2_1237322901817711006.jpeg', 'host-a102_cam3_1241904548600000006.jpeg', 'host-a101_cam1_1240877592066660006.jpeg', 'host-a011_cam1_1232755943034517006.jpeg', 'host-a007_cam4_1230485651816094006.jpeg', 'host-a006_cam5_1236038135067650006.jpeg', 'host-a006_cam3_1236038135000777006.jpeg', 'host-a007_cam3_1233955138800869006.jpeg', 'host-a007_cam5_1230485649632827006.jpeg', 'host-a009_cam0_1236015626151162006.jpeg', 'host-a004_cam1_1233616006134300006.jpeg', 'host-a007_cam2_1232470063017643006.jpeg', 'host-a011_cam1_1232755942234517006.jpeg', 'host-a011_cam1_1232755941834517006.jpeg', 'host-a007_cam2_1234551933717643006.jpeg', 'host-a011_cam1_1232755939234517006.jpeg', 'host-a009_cam2_1236015622317752006.jpeg', 'host-a101_cam1_1241893245266660006.jpeg', 'host-a011_cam2_1232841334817605006.jpeg', 'host-a011_cam1_1232841333834517006.jpeg', 'host-a011_cam1_1232817038834517006.jpeg', 'host-a101_cam4_1241893249216660006.jpeg', 'host-a101_cam1_1241893249266660006.jpeg', 'host-a004_cam2_1233422541617652006.jpeg', 'host-a011_cam1_1232817044634517006.jpeg', 'host-a011_cam5_1232492214867719006.jpeg', 'host-a011_cam6_1232492202651145006.jpeg', 'host-a008_cam5_1235776290367733006.jpeg', 'host-a008_cam6_1235776307351058006.jpeg', 'host-a011_cam1_1232817036834517006.jpeg', 'host-a011_cam3_1232839957800995006.jpeg', 'host-a011_cam0_1234553376951142006.jpeg', 'host-a007_cam3_1232470063600869006.jpeg', 'host-a007_cam2_1232470063617643006.jpeg', 'host-a101_cam2_1243102891282664006.jpeg', 'host-a101_cam1_1243102891265890006.jpeg', 'host-a007_cam2_1233960462817643006.jpeg', 'host-a007_cam1_1233960462834286006.jpeg', 'host-a011_cam1_1232817039834517006.jpeg', 'host-a006_cam2_1236037884017711006.jpeg', 'host-a102_cam6_1242684263244000006.jpeg', 'host-a102_cam1_1242684263266127006.jpeg', 'host-a102_cam2_1242684263282827006.jpeg', 'host-a009_cam5_1236014672667552006.jpeg', 'host-a011_cam1_1232817045234517006.jpeg', 'host-a007_cam1_1233955133434286006.jpeg', 'host-a102_cam0_1242510614849319006.jpeg', 'host-a102_cam5_1242510614832249006.jpeg', 'host-a004_cam3_1232815270000897006.jpeg', 'host-a004_cam0_1233616005951064006.jpeg', 'host-a004_cam1_1233616005934300006.jpeg', 'host-a006_cam4_1236038138484380006.jpeg', 'host-a101_cam4_1240877612016660006.jpeg', 'host-a101_cam3_1240877612000000006.jpeg', 'host-a101_cam5_1241462215133330006.jpeg', 'host-a101_cam4_1241462215116660006.jpeg', 'host-a007_cam5_1233955154267475006.jpeg', 'host-a011_cam0_1233964383751142006.jpeg', 'host-a102_cam0_1242510605649215006.jpeg', 'host-a102_cam5_1242510605632293006.jpeg', 'host-a101_cam3_1240877610000000006.jpeg', 'host-a101_cam4_1240877610016660006.jpeg', 'host-a008_cam1_1235776304334433006.jpeg', 'host-a008_cam6_1235776304351058006.jpeg', 'host-a007_cam4_1233955155684150006.jpeg', 'host-a101_cam2_1240877611083330006.jpeg', 'host-a101_cam4_1240877611016660006.jpeg', 'host-a101_cam3_1240877611000000006.jpeg', 'host-a006_cam1_1236037898434412006.jpeg', 'host-a009_cam4_1236014673184403006.jpeg', 'host-a009_cam1_1236013299234319006.jpeg', 'host-a009_cam2_1236013299217752006.jpeg', 'host-a008_cam6_1235776305151058006.jpeg', 'host-a008_cam1_1235776305134433006.jpeg', 'host-a006_cam2_1237322899617711006.jpeg', 'host-a009_cam1_1236015631034319006.jpeg', 'host-a009_cam2_1236015631017752006.jpeg', 'host-a004_cam6_1232815263250948006.jpeg', 'host-a007_cam4_1230936224116094006.jpeg', 'host-a101_cam4_1241893252416660006.jpeg', 'host-a101_cam3_1241893252400000006.jpeg', 'host-a101_cam1_1241893252466660006.jpeg', 'host-a101_cam2_1241893252483330006.jpeg', 'host-a008_cam3_1235776299901057006.jpeg', 'host-a008_cam1_1235776299934433006.jpeg', 'host-a008_cam6_1235776299951058006.jpeg', 'host-a004_cam2_1233616011117652006.jpeg', 'host-a101_cam5_1243095623332634006.jpeg', 'host-a004_cam1_1233421996834300006.jpeg', 'host-a009_cam0_1236013306251162006.jpeg', 'host-a101_cam0_1240877601450000006.jpeg', 'host-a004_cam2_1233617939717652006.jpeg', 'host-a011_cam0_1233964393351142006.jpeg', 'host-a009_cam1_1236015629334319006.jpeg', 'host-a004_cam6_1233422009150948006.jpeg', 'host-a101_cam4_1241893242016660006.jpeg', 'host-a101_cam1_1241893242066660006.jpeg', 'host-a007_cam2_1232470062817643006.jpeg', 'host-a006_cam2_1236037884617711006.jpeg', 'host-a008_cam3_1235777225501057006.jpeg', 'host-a008_cam4_1235777225584403006.jpeg', 'host-a101_cam0_1241472429150000006.jpeg', 'host-a101_cam1_1241472429166660006.jpeg', 'host-a006_cam1_1237322905634412006.jpeg', 'host-a011_cam1_1232755937234517006.jpeg', 'host-a008_cam4_1235777224984403006.jpeg', 'host-a008_cam3_1235777224901057006.jpeg', 'host-a102_cam6_1241904553150000006.jpeg', 'host-a011_cam3_1232835311000995006.jpeg', 'host-a102_cam5_1242510606832293006.jpeg', 'host-a011_cam1_1232755943834517006.jpeg', 'host-a007_cam5_1233955154667475006.jpeg', 'host-a008_cam6_1235776300951058006.jpeg', 'host-a008_cam2_1235776300917906006.jpeg', 'host-a006_cam3_1236038140400777006.jpeg', 'host-a006_cam4_1236038140484380006.jpeg', 'host-a011_cam2_1232841345217605006.jpeg', 'host-a011_cam3_1232492209200995006.jpeg', 'host-a102_cam1_1241878201066660006.jpeg', 'host-a006_cam5_1236038142467650006.jpeg', 'host-a102_cam3_1242662282499512006.jpeg', 'host-a102_cam5_1242662282532530006.jpeg', 'host-a007_cam4_1230485651416094006.jpeg', 'host-a004_cam1_1233961184634300006.jpeg', 'host-a009_cam1_1236015615934319006.jpeg', 'host-a007_cam4_1230485641616094006.jpeg', 'host-a004_cam1_1233421995834300006.jpeg', 'host-a006_cam2_1237322900417711006.jpeg', 'host-a101_cam1_1241472430166660006.jpeg', 'host-a101_cam2_1241472430183330006.jpeg', 'host-a004_cam2_1233961185017652006.jpeg', 'host-a004_cam2_1233421998417652006.jpeg', 'host-a007_cam5_1230936234932827006.jpeg', 'host-a009_cam6_1236013301851075006.jpeg', 'host-a011_cam1_1232817034434517006.jpeg', 'host-a011_cam3_1232755946800995006.jpeg', 'host-a011_cam1_1234553377734517006.jpeg', 'host-a004_cam1_1233421997034300006.jpeg', 'host-a006_cam0_1236038147850935006.jpeg', 'host-a102_cam1_1241468922666660006.jpeg', 'host-a004_cam6_1232815264450948006.jpeg', 'host-a011_cam2_1233963419817605006.jpeg', 'host-a011_cam1_1232817044034517006.jpeg', 'host-a101_cam1_1240877590866660006.jpeg', 'host-a101_cam1_1240877589066660006.jpeg', 'host-a008_cam5_1235776287167733006.jpeg', 'host-a006_cam1_1237322904434412006.jpeg', 'host-a004_cam1_1233616010334300006.jpeg', 'host-a011_cam5_1232492192667719006.jpeg', 'host-a101_cam1_1242493648365979006.jpeg', 'host-a101_cam0_1242493648349512006.jpeg', 'host-a008_cam3_1236016356801057006.jpeg', 'host-a011_cam4_1232492208084485006.jpeg', 'host-a011_cam5_1232492193267719006.jpeg', 'host-a011_cam4_1232839950084485006.jpeg', 'host-a004_cam2_1233615997717652006.jpeg', 'host-a101_cam1_1241893251266660006.jpeg', 'host-a101_cam4_1241893251216660006.jpeg', 'host-a009_cam0_1236014667851162006.jpeg', 'host-a009_cam5_1236014667867552006.jpeg', 'host-a007_cam6_1233955151050905006.jpeg', 'host-a102_cam5_1242510613832249006.jpeg', 'host-a012_cam2_1237329886617630006.jpeg', 'host-a012_cam1_1237329886634261006.jpeg', 'host-a011_cam1_1232755944234517006.jpeg', 'host-a101_cam1_1241893245466660006.jpeg', 'host-a101_cam4_1240877612116660006.jpeg', 'host-a101_cam3_1240877612100000006.jpeg', 'host-a101_cam1_1240877589666660006.jpeg', 'host-a011_cam2_1232755944417605006.jpeg', 'host-a006_cam1_1237322905434412006.jpeg', 'host-a101_cam0_1241889724650000006.jpeg', 'host-a007_cam5_1233955155067475006.jpeg', 'host-a007_cam4_1233955155084150006.jpeg', 'host-a006_cam1_1237322905234412006.jpeg', 'host-a004_cam2_1233422557017652006.jpeg', 'host-a006_cam1_1237322904634412006.jpeg', 'host-a102_cam0_1241904546350000006.jpeg', 'host-a006_cam3_1237322887200777006.jpeg', 'host-a004_cam1_1233422554234300006.jpeg', 'host-a004_cam0_1233422554251064006.jpeg', 'host-a004_cam6_1233422554250948006.jpeg', 'host-a102_cam2_1242662281582545006.jpeg', 'host-a102_cam3_1242662281599467006.jpeg', 'host-a102_cam0_1242662281549378006.jpeg', 'host-a102_cam5_1242662281532516006.jpeg', 'host-a007_cam1_1233007770434286006.jpeg', 'host-a011_cam2_1234553378317605006.jpeg', 'host-a004_cam2_1233616010517652006.jpeg', 'host-a011_cam1_1232835308834517006.jpeg', 'host-a011_cam2_1232817046617605006.jpeg', 'host-a011_cam1_1232817046634517006.jpeg', 'host-a011_cam2_1232755934217605006.jpeg', 'host-a008_cam5_1235776287967733006.jpeg', 'host-a102_cam4_1242510618615623006.jpeg', 'host-a102_cam3_1242510618699452006.jpeg', 'host-a009_cam1_1236015629134319006.jpeg', 'host-a009_cam3_1236013308400980006.jpeg', 'host-a005_cam5_1231201458532576006.jpeg', 'host-a101_cam6_1241472424550000006.jpeg', 'host-a006_cam2_1236038149817711006.jpeg', 'host-a101_cam1_1242493648965890006.jpeg', 'host-a007_cam2_1232470062617643006.jpeg', 'host-a011_cam1_1232817035434517006.jpeg', 'host-a009_cam1_1236015616734319006.jpeg', 'host-a102_cam6_1242510609844000006.jpeg', 'host-a011_cam2_1233964305917605006.jpeg', 'host-a006_cam3_1236038134600777006.jpeg', 'host-a006_cam0_1236038134650935006.jpeg', 'host-a006_cam5_1236038134667650006.jpeg', 'host-a011_cam1_1232817034834517006.jpeg', 'host-a008_cam6_1235776304751058006.jpeg', 'host-a008_cam1_1235776304734433006.jpeg', 'host-a004_cam1_1233535978334300006.jpeg', 'host-a004_cam6_1233535978350948006.jpeg', 'host-a101_cam1_1241893251866660006.jpeg', 'host-a101_cam4_1241893251816660006.jpeg', 'host-a011_cam5_1232492214267719006.jpeg', 'host-a007_cam4_1233955156084150006.jpeg', 'host-a007_cam5_1233955156067475006.jpeg', 'host-a011_cam2_1232755944817605006.jpeg', 'host-a004_cam2_1232815269217652006.jpeg', 'host-a102_cam6_1241904551550000006.jpeg', 'host-a008_cam4_1235777220384403006.jpeg', 'host-a008_cam3_1235777220301057006.jpeg', 'host-a008_cam0_1236016353851171006.jpeg', 'host-a008_cam1_1236016353834433006.jpeg', 'host-a102_cam3_1242510609099393006.jpeg', 'host-a102_cam4_1242510609015594006.jpeg', 'host-a102_cam6_1242510609044000006.jpeg', 'host-a011_cam6_1232492208451145006.jpeg', 'host-a011_cam4_1232492208484485006.jpeg', 'host-a009_cam0_1236014667251162006.jpeg', 'host-a004_cam1_1233421995034300006.jpeg', 'host-a004_cam0_1233421995051064006.jpeg', 'host-a009_cam1_1236015630134319006.jpeg', 'host-a009_cam2_1236015630117752006.jpeg', 'host-a008_cam6_1235776304951058006.jpeg', 'host-a008_cam1_1235776304934433006.jpeg', 'host-a004_cam2_1233422558617652006.jpeg', 'host-a004_cam6_1233422556050948006.jpeg', 'host-a004_cam1_1233422556034300006.jpeg', 'host-a006_cam2_1237322900817711006.jpeg', 'host-a011_cam1_1232755942034517006.jpeg', 'host-a007_cam4_1230936226516094006.jpeg', 'host-a006_cam1_1236037895634412006.jpeg', 'host-a011_cam4_1232492207884485006.jpeg', 'host-a004_cam6_1233947133250948006.jpeg', 'host-a006_cam3_1236037899400777006.jpeg', 'host-a008_cam4_1235777224784403006.jpeg', 'host-a004_cam6_1232815265050948006.jpeg', 'host-a011_cam0_1232755956851142006.jpeg', 'host-a009_cam2_1236013299417752006.jpeg', 'host-a004_cam3_1233421999200897006.jpeg', 'host-a004_cam3_1232815270400897006.jpeg', 'host-a004_cam3_1233535975300897006.jpeg', 'host-a011_cam2_1233963419217605006.jpeg', 'host-a007_cam6_1233955149450905006.jpeg', 'host-a007_cam4_1230485651616094006.jpeg', 'host-a007_cam4_1230936223316094006.jpeg', 'host-a006_cam2_1237322904017711006.jpeg', 'host-a102_cam3_1241904558200000006.jpeg', 'host-a102_cam2_1241904558183330006.jpeg', 'host-a009_cam5_1231200862832771006.jpeg', 'host-a011_cam4_1232839949684485006.jpeg', 'host-a011_cam2_1232755935817605006.jpeg', 'host-a101_cam2_1243102891382664006.jpeg', 'host-a011_cam5_1232492205067719006.jpeg', 'host-a011_cam0_1232492205051142006.jpeg', 'host-a006_cam2_1237322901617711006.jpeg', 'host-a011_cam1_1232817038034517006.jpeg', 'host-a102_cam5_1242510616632234006.jpeg', 'host-a101_cam1_1240877593266660006.jpeg', 'host-a101_cam2_1241886993383330006.jpeg', 'host-a007_cam4_1230936223116094006.jpeg', 'host-a008_cam1_1235776305734433006.jpeg', 'host-a008_cam6_1235776305751058006.jpeg', 'host-a101_cam1_1240877589266660006.jpeg', 'host-a101_cam1_1241472428966660006.jpeg', 'host-a101_cam0_1241472428950000006.jpeg', 'host-a007_cam3_1232470064000869006.jpeg', 'host-a004_cam3_1233963864400897006.jpeg', 'host-a004_cam2_1233963864417652006.jpeg', 'host-a011_cam4_1232492215684485006.jpeg', 'host-a008_cam1_1235776298134433006.jpeg', 'host-a102_cam0_1241904546950000006.jpeg', 'host-a102_cam1_1241904546966660006.jpeg', 'host-a006_cam2_1237322898817711006.jpeg', 'host-a006_cam2_1236037895817711006.jpeg', 'host-a011_cam1_1232817043834517006.jpeg', 'host-a004_cam1_1233422540234300006.jpeg', 'host-a004_cam0_1233422540251064006.jpeg', 'host-a101_cam5_1240877603833330006.jpeg', 'host-a101_cam1_1240877603866660006.jpeg', 'host-a101_cam0_1240877603850000006.jpeg', 'host-a101_cam4_1241893240416660006.jpeg', 'host-a101_cam1_1241893240466660006.jpeg', 'host-a011_cam1_1232835307834517006.jpeg', 'host-a007_cam4_1230936222116094006.jpeg', 'host-a101_cam1_1240877588466660006.jpeg', 'host-a006_cam2_1237322899017711006.jpeg', 'host-a004_cam3_1232905200300897006.jpeg', 'host-a004_cam1_1233014852434300006.jpeg', 'host-a101_cam1_1242748991566335006.jpeg', 'host-a101_cam3_1242748991599482006.jpeg', 'host-a101_cam4_1242580010815935006.jpeg', 'host-a011_cam1_1236123642334517006.jpeg', 'host-a011_cam2_1235950315417605006.jpeg', 'host-a009_cam1_1237581216034345006.jpeg', 'host-a009_cam2_1237581216017740006.jpeg', 'host-a011_cam1_1232752557834517006.jpeg', 'host-a011_cam0_1232909944551142006.jpeg', 'host-a011_cam1_1232909944534517006.jpeg', 'host-a011_cam3_1236093962900995006.jpeg', 'host-a011_cam3_1232752480200995006.jpeg', 'host-a011_cam4_1232752480284485006.jpeg', 'host-a011_cam1_1232752796434517006.jpeg', 'host-a015_cam5_1236112604167453006.jpeg', 'host-a011_cam2_1233090578417605006.jpeg', 'host-a011_cam2_1233965317317605006.jpeg', 'host-a101_cam1_1242748995566349006.jpeg', 'host-a101_cam3_1242748995499482006.jpeg', 'host-a011_cam0_1234639320651142006.jpeg', 'host-a011_cam1_1232752550434517006.jpeg', 'host-a007_cam2_1233079636017643006.jpeg', 'host-a101_cam5_1242580012632353006.jpeg', 'host-a101_cam0_1242580012649215006.jpeg', 'host-a004_cam0_1232923274651064006.jpeg', 'host-a011_cam2_1235950315017605006.jpeg', 'host-a011_cam1_1232905797734517006.jpeg', 'host-a011_cam2_1233512850817605006.jpeg', 'host-a011_cam6_1234466278551145006.jpeg', 'host-a011_cam5_1232752465667719006.jpeg', 'host-a011_cam1_1233090573434517006.jpeg', 'host-a011_cam2_1233090573417605006.jpeg', 'host-a004_cam0_1232923270851064006.jpeg', 'host-a011_cam6_1232752563651145006.jpeg', 'host-a101_cam2_1242583753082308006.jpeg', 'host-a011_cam0_1232752779051142006.jpeg', 'host-a101_cam6_1242748830944000006.jpeg', 'host-a011_cam6_1235933802551145006.jpeg', 'host-a101_cam0_1242583749048875006.jpeg', 'host-a101_cam1_1242583749063209006.jpeg', 'host-a101_cam0_1242583749248875006.jpeg', 'host-a101_cam1_1242583749263431006.jpeg', 'host-a101_cam2_1242748842182768006.jpeg', 'host-a101_cam3_1241561166500000006.jpeg', 'host-a011_cam2_1232909946517605006.jpeg', 'host-a011_cam2_1233090577617605006.jpeg', 'host-a011_cam1_1236038920834517006.jpeg', 'host-a011_cam0_1236038920851142006.jpeg', 'host-a011_cam6_1236119846351145006.jpeg', 'host-a011_cam1_1236122357334517006.jpeg', 'host-a011_cam0_1236122357351142006.jpeg', 'host-a011_cam1_1233688950134517006.jpeg', 'host-a011_cam2_1236122354717605006.jpeg', 'host-a011_cam6_1236122354751145006.jpeg', 'host-a011_cam3_1236122359300995006.jpeg', 'host-a011_cam2_1236122359317605006.jpeg', 'host-a011_cam1_1236122359334517006.jpeg', 'host-a004_cam2_1233014863817652006.jpeg', 'host-a011_cam2_1233688952117605006.jpeg', 'host-a004_cam3_1234047754100897006.jpeg', 'host-a015_cam5_1236112603967453006.jpeg', 'host-a004_cam0_1232905211951064006.jpeg', 'host-a101_cam1_1242748987566335006.jpeg', 'host-a011_cam6_1235931130551145006.jpeg', 'host-a004_cam2_1232842191117652006.jpeg', 'host-a007_cam2_1233510602517643006.jpeg', 'host-a011_cam2_1233090572417605006.jpeg', 'host-a011_cam1_1233090572434517006.jpeg', 'host-a101_cam2_1242583752682308006.jpeg', 'host-a101_cam4_1242583752616216006.jpeg', 'host-a011_cam2_1234466285117605006.jpeg', 'host-a011_cam1_1233965435934517006.jpeg', 'host-a017_cam1_1236119800634294006.jpeg', 'host-a015_cam5_1236112602767453006.jpeg', 'host-a011_cam6_1232905800151145006.jpeg', 'host-a011_cam2_1235950298817605006.jpeg', 'host-a007_cam0_1233689804750897006.jpeg', 'host-a011_cam2_1235866729517605006.jpeg', 'host-a011_cam2_1236104049917605006.jpeg', 'host-a011_cam1_1232752556234517006.jpeg', 'host-a102_cam6_1242754971144000006.jpeg', 'host-a011_cam2_1232752791817605006.jpeg', 'host-a011_cam2_1233965316117605006.jpeg', 'host-a011_cam3_1233688945100995006.jpeg', 'host-a011_cam2_1233688945117605006.jpeg', 'host-a011_cam1_1233688945134517006.jpeg', 'host-a004_cam6_1233014865050948006.jpeg', 'host-a007_cam0_1233079642150897006.jpeg', 'host-a015_cam5_1236112602567453006.jpeg', 'host-a004_cam0_1232923275051064006.jpeg', 'host-a011_cam2_1233965316517605006.jpeg', 'host-a101_cam6_1242753251144000006.jpeg', 'host-a004_cam6_1233014864450948006.jpeg', 'host-a004_cam2_1233014864417652006.jpeg', 'host-a007_cam2_1233524854017643006.jpeg', 'host-a011_cam1_1234466282134517006.jpeg', 'host-a004_cam2_1233620273117652006.jpeg', 'host-a012_cam0_1235937149251020006.jpeg', 'host-a012_cam1_1235937149234261006.jpeg', 'host-a011_cam1_1233688941934517006.jpeg', 'host-a015_cam4_1235423698084076006.jpeg', 'host-a011_cam1_1233965315534517006.jpeg', 'host-a004_cam2_1235947081917652006.jpeg', 'host-a101_cam2_1242583752882293006.jpeg', 'host-a004_cam1_1232842186034300006.jpeg', 'host-a011_cam1_1235931134934517006.jpeg', 'host-a004_cam0_1232923271451064006.jpeg', 'host-a004_cam1_1232905222234300006.jpeg', 'host-a011_cam2_1236122361317605006.jpeg', 'host-a011_cam2_1233090579017605006.jpeg', 'host-a011_cam3_1233090579000995006.jpeg', 'host-a011_cam3_1233688945700995006.jpeg', 'host-a011_cam2_1233688945717605006.jpeg', 'host-a011_cam6_1233965427551145006.jpeg', 'host-a004_cam0_1232923269251064006.jpeg', 'host-a011_cam1_1233512850034517006.jpeg', 'host-a011_cam1_1234466281934517006.jpeg', 'host-a101_cam6_1240875149850000006.jpeg', 'host-a004_cam3_1232842187200897006.jpeg', 'host-a011_cam1_1234466282534517006.jpeg', 'host-a011_cam1_1236122357934517006.jpeg', 'host-a102_cam6_1242754969544000006.jpeg', 'host-a004_cam2_1232905199117652006.jpeg', 'host-a011_cam5_1232752484267719006.jpeg', 'host-a004_cam1_1233620264334300006.jpeg', 'host-a101_cam6_1240875149250000006.jpeg', 'host-a011_cam2_1233090573017605006.jpeg', 'host-a011_cam1_1233090573034517006.jpeg', 'host-a011_cam1_1234466282934517006.jpeg', 'host-a011_cam0_1232752779251142006.jpeg', 'host-a101_cam5_1242580010032323006.jpeg', 'host-a101_cam4_1242580010015964006.jpeg', 'host-a007_cam6_1231093045249446006.jpeg', 'host-a011_cam2_1234466283917605006.jpeg', 'host-a102_cam1_1241548687866660006.jpeg', 'host-a102_cam0_1241548687850000006.jpeg', 'host-a101_cam3_1242748988799482006.jpeg', 'host-a101_cam1_1242748988766335006.jpeg', 'host-a011_cam0_1232752782251142006.jpeg', 'host-a101_cam1_1242748838166260006.jpeg', 'host-a011_cam6_1236119846151145006.jpeg', 'host-a101_cam3_1242580011199571006.jpeg', 'host-a101_cam4_1242580011215935006.jpeg', 'host-a011_cam2_1233688946117605006.jpeg', 'host-a011_cam3_1233688946100995006.jpeg', 'host-a011_cam0_1232752795451142006.jpeg', 'host-a007_cam2_1233079635817643006.jpeg', 'host-a011_cam1_1234466281134517006.jpeg', 'host-a102_cam5_1241548696033330006.jpeg', 'host-a102_cam6_1242754970144000006.jpeg', 'host-a011_cam5_1232752566667719006.jpeg', 'host-a011_cam4_1233965313184485006.jpeg', 'host-a102_cam1_1242754975164986006.jpeg', 'host-a004_cam1_1233685323934300006.jpeg', 'host-a009_cam1_1237581211634345006.jpeg', 'host-a004_cam6_1233685316750948006.jpeg', 'host-a101_cam3_1241216099400000006.jpeg', 'host-a011_cam2_1232909947317605006.jpeg', 'host-a101_cam1_1242748992966335006.jpeg', 'host-a101_cam3_1242748992999482006.jpeg', 'host-a011_cam1_1235950314234517006.jpeg', 'host-a011_cam2_1232752559617605006.jpeg', 'host-a011_cam1_1232752550034517006.jpeg', 'host-a004_cam2_1233685325517652006.jpeg', 'host-a004_cam3_1233685325500897006.jpeg', 'host-a101_cam3_1241561167000000006.jpeg', 'host-a017_cam2_1236119803017560006.jpeg', 'host-a101_cam3_1242580016199556006.jpeg', 'host-a101_cam4_1242580016215964006.jpeg', 'host-a009_cam1_1237581211034345006.jpeg', 'host-a004_cam3_1233620273900897006.jpeg', 'host-a004_cam0_1232923274851064006.jpeg', 'host-a007_cam1_1231093049066021006.jpeg', 'host-a004_cam1_1235947105534300006.jpeg', 'host-a011_cam1_1236122365134517006.jpeg', 'host-a101_cam1_1242748992166335006.jpeg', 'host-a101_cam3_1242748992199482006.jpeg', 'host-a011_cam1_1232752555834517006.jpeg', 'host-a011_cam1_1233965436334517006.jpeg', 'host-a102_cam6_1242754970744000006.jpeg', 'host-a011_cam1_1236122358134517006.jpeg', 'host-a011_cam1_1232752550834517006.jpeg', 'host-a004_cam6_1234047747550948006.jpeg', 'host-a011_cam1_1235866728134517006.jpeg', 'host-a007_cam1_1233689805534286006.jpeg', 'host-a011_cam2_1236122366717605006.jpeg', 'host-a017_cam3_1236118889400918006.jpeg', 'host-a017_cam6_1236118889450938006.jpeg', 'host-a011_cam1_1232752796634517006.jpeg', 'host-a101_cam2_1242144911283330006.jpeg', 'host-a101_cam3_1242144911300000006.jpeg', 'host-a004_cam2_1232905214117652006.jpeg', 'host-a015_cam5_1236112604567453006.jpeg', 'host-a011_cam6_1232745791451145006.jpeg', 'host-a004_cam0_1232923272851064006.jpeg', 'host-a007_cam2_1231093060482654006.jpeg', 'host-a011_cam6_1232905806751145006.jpeg', 'host-a004_cam0_1232842378451064006.jpeg', 'host-a004_cam2_1232923277617652006.jpeg', 'host-a011_cam1_1236122357534517006.jpeg', 'host-a011_cam0_1236122357551142006.jpeg', 'host-a011_cam0_1233965434751142006.jpeg', 'host-a011_cam6_1235933802151145006.jpeg', 'host-a011_cam1_1232752789434517006.jpeg', 'host-a011_cam3_1233087929200995006.jpeg', 'host-a011_cam2_1233087929217605006.jpeg', 'host-a004_cam0_1232923267451064006.jpeg', 'host-a011_cam2_1236123641517605006.jpeg', 'host-a011_cam2_1233090577217605006.jpeg', 'host-a011_cam1_1233090577234517006.jpeg', 'host-a011_cam0_1233965314151142006.jpeg', 'host-a011_cam1_1233965314134517006.jpeg', 'host-a011_cam1_1233965436134517006.jpeg', 'host-a011_cam1_1233081027834517006.jpeg', 'host-a007_cam2_1233689807117643006.jpeg', 'host-a011_cam3_1232752544600995006.jpeg', 'host-a011_cam1_1233688942134517006.jpeg', 'host-a011_cam1_1233090571634517006.jpeg', 'host-a011_cam2_1233090571617605006.jpeg', 'host-a011_cam1_1236119842934517006.jpeg', 'host-a007_cam1_1231093056866021006.jpeg', 'host-a004_cam3_1232923279400897006.jpeg', 'host-a011_cam1_1233512844034517006.jpeg', 'host-a011_cam0_1232752788451142006.jpeg', 'host-a101_cam1_1242748840566275006.jpeg', 'host-a101_cam2_1242748840582708006.jpeg', 'host-a101_cam4_1241561162216660006.jpeg', 'host-a101_cam3_1241561162200000006.jpeg', 'host-a011_cam1_1233090570634517006.jpeg', 'host-a011_cam2_1235866711717605006.jpeg', 'host-a011_cam1_1232752795834517006.jpeg', 'host-a101_cam0_1242748837549526006.jpeg', 'host-a101_cam1_1242748837566275006.jpeg', 'host-a011_cam2_1235931135917605006.jpeg', 'host-a015_cam4_1236112616784076006.jpeg', 'host-a101_cam6_1241561157450000006.jpeg', 'host-a011_cam0_1233512848851142006.jpeg', 'host-a011_cam6_1236123637351145006.jpeg', 'host-a004_cam1_1232905221734300006.jpeg', 'host-a101_cam2_1242748999382827006.jpeg', 'host-a011_cam6_1232905805551145006.jpeg', 'host-a011_cam2_1232905805517605006.jpeg', 'host-a011_cam6_1233688945551145006.jpeg', 'host-a011_cam3_1233688945500995006.jpeg', 'host-a011_cam2_1233688945517605006.jpeg', 'host-a011_cam1_1233688945534517006.jpeg', 'host-a004_cam1_1233014852834300006.jpeg', 'host-a011_cam2_1233965317517605006.jpeg', 'host-a004_cam6_1234047744750948006.jpeg', 'host-a011_cam2_1232752552217605006.jpeg', 'host-a011_cam4_1232752552284485006.jpeg', 'host-a017_cam2_1236118888417560006.jpeg', 'host-a011_cam1_1235931134734517006.jpeg', 'host-a011_cam3_1232909947900995006.jpeg', 'host-a101_cam0_1240875151050000006.jpeg', 'host-a101_cam2_1241561165683330006.jpeg', 'host-a011_cam6_1232905799951145006.jpeg', 'host-a004_cam6_1234047744950948006.jpeg', 'host-a011_cam2_1233688951517605006.jpeg', 'host-a011_cam1_1236122365734517006.jpeg', 'host-a101_cam4_1241561161416660006.jpeg', 'host-a004_cam6_1232842189850948006.jpeg', 'host-a004_cam1_1232842185634300006.jpeg', 'host-a011_cam2_1232752791217605006.jpeg', 'host-a101_cam1_1242748839366275006.jpeg', 'host-a004_cam1_1232923276234300006.jpeg', 'host-a015_cam5_1236112614967453006.jpeg', 'host-a011_cam2_1233090575817605006.jpeg', 'host-a011_cam1_1233090575834517006.jpeg', 'host-a011_cam3_1233965318700995006.jpeg', 'host-a017_cam1_1236118887634294006.jpeg', 'host-a011_cam1_1235866709334517006.jpeg', 'host-a101_cam1_1242583750464809006.jpeg', 'host-a101_cam0_1242583750448949006.jpeg', 'host-a009_cam1_1237581214834345006.jpeg', 'host-a011_cam3_1232752797800995006.jpeg', 'host-a011_cam2_1232752797817605006.jpeg', 'host-a101_cam0_1242580008649200006.jpeg', 'host-a101_cam5_1242580008632323006.jpeg', 'host-a011_cam3_1233087923800995006.jpeg', 'host-a011_cam1_1236122366134517006.jpeg', 'host-a004_cam1_1233014863234300006.jpeg', 'host-a015_cam4_1235423696684076006.jpeg', 'host-a011_cam2_1236104050517605006.jpeg', 'host-a011_cam2_1236122349317605006.jpeg', 'host-a004_cam1_1232905221334300006.jpeg', 'host-a101_cam0_1240875151850000006.jpeg', 'host-a011_cam3_1236119843900995006.jpeg', 'host-a011_cam2_1236119843917605006.jpeg', 'host-a017_cam1_1236118892834294006.jpeg', 'host-a017_cam0_1236118892850894006.jpeg', 'host-a011_cam1_1232752543234517006.jpeg', 'host-a007_cam1_1233689806134286006.jpeg', 'host-a101_cam2_1242748841982753006.jpeg', 'host-a101_cam3_1242748991399482006.jpeg', 'host-a101_cam1_1242748991366335006.jpeg', 'host-a101_cam2_1241561166283330006.jpeg', 'host-a101_cam3_1241561166300000006.jpeg', 'host-a004_cam1_1233620266534300006.jpeg', 'host-a011_cam2_1235866712317605006.jpeg', 'host-a011_cam1_1235866719134517006.jpeg', 'host-a009_cam0_1236123739451174006.jpeg', 'host-a017_cam0_1236118887050894006.jpeg', 'host-a011_cam1_1235950322134517006.jpeg', 'host-a011_cam1_1233087926434517006.jpeg', 'host-a102_cam2_1241548695683330006.jpeg', 'host-a007_cam2_1233689807317643006.jpeg', 'host-a011_cam2_1232752797217605006.jpeg', 'host-a011_cam4_1232752485684485006.jpeg', 'host-a011_cam0_1232752485651142006.jpeg', 'host-a011_cam5_1232752485667719006.jpeg', 'host-a011_cam3_1236093962300995006.jpeg', 'host-a011_cam0_1236122372751142006.jpeg', 'host-a011_cam1_1236122372734517006.jpeg', 'host-a007_cam2_1233079627217643006.jpeg', 'host-a101_cam1_1242748990366335006.jpeg', 'host-a101_cam3_1242748990399482006.jpeg', 'host-a011_cam1_1233688942734517006.jpeg', 'host-a011_cam2_1233688942717605006.jpeg', 'host-a101_cam1_1242748839166275006.jpeg', 'host-a011_cam2_1232905804917605006.jpeg', 'host-a011_cam1_1236038921434517006.jpeg', 'host-a011_cam0_1232752549251142006.jpeg', 'host-a004_cam2_1232842191017652006.jpeg', 'host-a011_cam2_1233965437517605006.jpeg', 'host-a004_cam0_1232905212551064006.jpeg', 'host-a011_cam3_1233087923400995006.jpeg', 'host-a011_cam2_1233087923417605006.jpeg', 'host-a011_cam1_1233512849834517006.jpeg', 'host-a007_cam3_1233524861600869006.jpeg', 'host-a011_cam1_1234466281534517006.jpeg', 'host-a011_cam1_1233087921034517006.jpeg', 'host-a004_cam1_1233620267134300006.jpeg', 'host-a011_cam2_1233090572217605006.jpeg', 'host-a011_cam1_1233090572234517006.jpeg', 'host-a101_cam0_1240875153650000006.jpeg', 'host-a101_cam2_1240875153683330006.jpeg', 'host-a011_cam1_1232909950534517006.jpeg', 'host-a011_cam6_1236122367151145006.jpeg', 'host-a011_cam2_1236122367117605006.jpeg', 'host-a011_cam2_1236104049517605006.jpeg', 'host-a011_cam1_1233090570234517006.jpeg', 'host-a101_cam6_1241561156650000006.jpeg', 'host-a017_cam0_1236119800250894006.jpeg', 'host-a017_cam1_1236119800234294006.jpeg', 'host-a011_cam2_1236119843317605006.jpeg', 'host-a004_cam1_1233620271534300006.jpeg', 'host-a004_cam2_1233620271517652006.jpeg', 'host-a011_cam6_1235933801351145006.jpeg', 'host-a011_cam1_1236123642934517006.jpeg', 'host-a011_cam1_1232909946134517006.jpeg', 'host-a011_cam6_1233965427351145006.jpeg', 'host-a101_cam0_1242749000749349006.jpeg', 'host-a007_cam2_1233524859017643006.jpeg', 'host-a011_cam6_1232905806351145006.jpeg', 'host-a101_cam1_1242749002166112006.jpeg', 'host-a004_cam1_1232923277434300006.jpeg', 'host-a009_cam2_1237581212417740006.jpeg', 'host-a007_cam6_1233529710550905006.jpeg', 'host-a011_cam1_1233090575434517006.jpeg', 'host-a011_cam2_1233090575417605006.jpeg', 'host-a011_cam1_1233090574634517006.jpeg', 'host-a011_cam2_1233090574617605006.jpeg', 'host-a101_cam6_1242748830544000006.jpeg', 'host-a011_cam2_1233965317917605006.jpeg', 'host-a011_cam5_1232752483867719006.jpeg', 'host-a007_cam0_1233079641650897006.jpeg', 'host-a101_cam5_1242748997132708006.jpeg', 'host-a101_cam0_1242753257549067006.jpeg', 'host-a017_cam2_1236118888817560006.jpeg', 'host-a101_cam1_1242748987366335006.jpeg', 'host-a011_cam2_1236123643117605006.jpeg', 'host-a011_cam2_1232909951517605006.jpeg', 'host-a004_cam1_1233620267534300006.jpeg', 'host-a011_cam3_1232752480400995006.jpeg', 'host-a004_cam6_1233685319550948006.jpeg', 'host-a004_cam1_1233685319534300006.jpeg', 'host-a101_cam5_1242748997732708006.jpeg', 'host-a101_cam0_1241561172650000006.jpeg', 'host-a011_cam1_1232905797334517006.jpeg', 'host-a011_cam6_1236123637551145006.jpeg', 'host-a011_cam6_1233965426551145006.jpeg', 'host-a007_cam1_1231093056666021006.jpeg', 'host-a015_cam3_1235423698400936006.jpeg', 'host-a015_cam4_1235423698484076006.jpeg', 'host-a007_cam1_1230672871666021006.jpeg', 'host-a011_cam4_1232752568184485006.jpeg', 'host-a101_cam5_1241561159033330006.jpeg', 'host-a101_cam0_1241561159050000006.jpeg', 'host-a102_cam1_1241548693666660006.jpeg', 'host-a102_cam2_1241548693683330006.jpeg', 'host-a012_cam2_1235937151017630006.jpeg', 'host-a011_cam2_1235866730317605006.jpeg', 'host-a007_cam2_1233524858817643006.jpeg', 'host-a011_cam1_1236119842134517006.jpeg', 'host-a011_cam3_1232909948100995006.jpeg', 'host-a101_cam0_1242753257949112006.jpeg', 'host-a101_cam1_1242753257965120006.jpeg', 'host-a011_cam1_1233090569434517006.jpeg', 'host-a011_cam2_1233688951717605006.jpeg', 'host-a101_cam2_1241216098983330006.jpeg', 'host-a011_cam0_1232752778651142006.jpeg', 'host-a101_cam6_1241561156450000006.jpeg', 'host-a009_cam2_1237581212817740006.jpeg', 'host-a101_cam6_1242748829944000006.jpeg', 'host-a004_cam1_1233620269734300006.jpeg', 'host-a011_cam2_1232752792017605006.jpeg', 'host-a101_cam0_1242580008449200006.jpeg', 'host-a101_cam5_1242580008432323006.jpeg', 'host-a101_cam3_1242753261298978006.jpeg', 'host-a011_cam1_1236104048334517006.jpeg', 'host-a004_cam0_1232923271251064006.jpeg', 'host-a101_cam4_1242580016015964006.jpeg', 'host-a101_cam3_1242580015999556006.jpeg', 'host-a009_cam6_1236123735851064006.jpeg', 'host-a004_cam3_1232842187000897006.jpeg', 'host-a102_cam2_1242754976982042006.jpeg', 'host-a017_cam2_1236119802417560006.jpeg', 'host-a011_cam1_1232752551834517006.jpeg', 'host-a011_cam4_1232752551884485006.jpeg', 'host-a011_cam3_1233090579600995006.jpeg', 'host-a101_cam0_1240875152450000006.jpeg', 'host-a009_cam6_1236123735051064006.jpeg', 'host-a007_cam3_1233510603300869006.jpeg', 'host-a007_cam2_1233524855217643006.jpeg', 'host-a007_cam2_1233524857617643006.jpeg', 'host-a011_cam0_1232752779451142006.jpeg', 'host-a011_cam0_1234639316851142006.jpeg', 'host-a011_cam0_1233087926051142006.jpeg', 'host-a011_cam1_1233087926034517006.jpeg', 'host-a011_cam1_1234466283134517006.jpeg', 'host-a101_cam1_1242748835766246006.jpeg', 'host-a011_cam1_1236104047934517006.jpeg', 'host-a011_cam0_1234639317451142006.jpeg', 'host-a004_cam1_1233620263734300006.jpeg', 'host-a101_cam3_1242748995299482006.jpeg', 'host-a101_cam1_1242748995366349006.jpeg', 'host-a011_cam5_1232752566067719006.jpeg', 'host-a102_cam1_1241548693466660006.jpeg', 'host-a102_cam2_1241548693483330006.jpeg', 'host-a004_cam1_1232923287634300006.jpeg', 'host-a011_cam6_1236122367751145006.jpeg', 'host-a011_cam3_1236122367700995006.jpeg', 'host-a011_cam2_1236122367717605006.jpeg', 'host-a004_cam0_1232842185451064006.jpeg', 'host-a101_cam4_1242580012015949006.jpeg', 'host-a101_cam3_1242580011999571006.jpeg', 'host-a011_cam2_1236038922417605006.jpeg', 'host-a015_cam5_1236112602367453006.jpeg', 'host-a101_cam1_1242748839566275006.jpeg', 'host-a101_cam5_1242748996932708006.jpeg', 'host-a101_cam0_1240875152250000006.jpeg', 'host-a011_cam0_1234639317651142006.jpeg', 'host-a101_cam5_1242580009432323006.jpeg', 'host-a101_cam0_1242580013449215006.jpeg', 'host-a101_cam5_1242580013432353006.jpeg', 'host-a011_cam2_1233087935817605006.jpeg', 'host-a004_cam1_1233620267334300006.jpeg', 'host-a011_cam3_1232909952300995006.jpeg', 'host-a012_cam6_1235937146250881006.jpeg', 'host-a011_cam2_1236122358717605006.jpeg', 'host-a011_cam1_1236122358734517006.jpeg', 'host-a011_cam1_1233087918234517006.jpeg', 'host-a011_cam3_1232909952700995006.jpeg', 'host-a011_cam3_1232752559800995006.jpeg', 'host-a011_cam2_1232752559817605006.jpeg', 'host-a007_cam1_1233529712934286006.jpeg', 'host-a101_cam0_1240875151250000006.jpeg', 'host-a007_cam1_1233079634234286006.jpeg', 'host-a011_cam1_1235866709734517006.jpeg', 'host-a007_cam0_1231093048849429006.jpeg', 'host-a011_cam1_1234466281334517006.jpeg', 'host-a007_cam2_1233510602317643006.jpeg', 'host-a011_cam6_1236123637151145006.jpeg', 'host-a101_cam1_1242583749663875006.jpeg', 'host-a101_cam0_1242583749648963006.jpeg', 'host-a102_cam1_1241548692866660006.jpeg', 'host-a102_cam0_1241548692850000006.jpeg', 'host-a011_cam3_1232905799100995006.jpeg', 'host-a012_cam2_1235937152617630006.jpeg', 'host-a011_cam1_1233688944934517006.jpeg', 'host-a011_cam2_1233688944917605006.jpeg', 'host-a015_cam5_1236112602967453006.jpeg', 'host-a101_cam6_1242753253544000006.jpeg', 'host-a011_cam1_1232752550234517006.jpeg', 'host-a007_cam2_1233524856817643006.jpeg', 'host-a011_cam2_1236122355117605006.jpeg', 'host-a004_cam1_1232905222134300006.jpeg', 'host-a004_cam1_1233620264934300006.jpeg', 'host-a004_cam1_1233620269334300006.jpeg', 'host-a011_cam3_1233965438500995006.jpeg', 'host-a011_cam2_1233965317117605006.jpeg', 'host-a011_cam0_1236122358551142006.jpeg', 'host-a011_cam1_1236122358534517006.jpeg', 'host-a011_cam2_1236122358517605006.jpeg', 'host-a007_cam0_1230672870849429006.jpeg', 'host-a011_cam2_1232752552617605006.jpeg', 'host-a011_cam4_1232752552684485006.jpeg', 'host-a011_cam5_1232752566867719006.jpeg', 'host-a011_cam2_1232752556617605006.jpeg', 'host-a004_cam1_1233620263334300006.jpeg', 'host-a101_cam0_1242583749448889006.jpeg', 'host-a101_cam1_1242583749463727006.jpeg', 'host-a011_cam6_1235933801551145006.jpeg', 'host-a011_cam0_1234639319251142006.jpeg', 'host-a102_cam1_1241548692466660006.jpeg', 'host-a102_cam0_1241548692450000006.jpeg', 'host-a004_cam1_1233620263534300006.jpeg', 'host-a101_cam1_1242748995966349006.jpeg', 'host-a004_cam1_1232905220734300006.jpeg', 'host-a004_cam0_1232905220751064006.jpeg', 'host-a011_cam0_1236119841751142006.jpeg', 'host-a011_cam1_1232752796234517006.jpeg', 'host-a011_cam4_1232752567884485006.jpeg', 'host-a004_cam1_1232842185834300006.jpeg', 'host-a101_cam1_1242748839766260006.jpeg', 'host-a011_cam0_1236122356751142006.jpeg', 'host-a011_cam2_1235950298417605006.jpeg', 'host-a007_cam1_1231093058466021006.jpeg', 'host-a012_cam0_1235937149451020006.jpeg', 'host-a012_cam1_1235937149434261006.jpeg', 'host-a011_cam6_1234466278751145006.jpeg', 'host-a011_cam2_1235866712517605006.jpeg', 'host-a011_cam1_1232909945734517006.jpeg', 'host-a101_cam0_1242753258149126006.jpeg', 'host-a101_cam1_1242753258165209006.jpeg', 'host-a007_cam0_1233079642050897006.jpeg', 'host-a011_cam3_1233087929600995006.jpeg', 'host-a004_cam1_1235947106134300006.jpeg', 'host-a011_cam3_1233087922600995006.jpeg', 'host-a007_cam1_1231093057066021006.jpeg', 'host-a102_cam0_1241548688450000006.jpeg', 'host-a102_cam1_1241548688466660006.jpeg', 'host-a101_cam4_1242580015215964006.jpeg', 'host-a101_cam3_1242748993299482006.jpeg', 'host-a101_cam1_1242748993366335006.jpeg', 'host-a007_cam1_1233079634434286006.jpeg', 'host-a011_cam3_1232752798200995006.jpeg', 'host-a011_cam2_1232909951117605006.jpeg', 'host-a012_cam2_1235937152417630006.jpeg', 'host-a004_cam1_1233620263934300006.jpeg', 'host-a011_cam6_1233965427751145006.jpeg', 'host-a007_cam3_1233510603500869006.jpeg', 'host-a101_cam3_1242753260598978006.jpeg', 'host-a101_cam2_1242753260580975006.jpeg', 'host-a011_cam1_1233090569034517006.jpeg', 'host-a011_cam3_1236122361500995006.jpeg', 'host-a011_cam2_1236123643317605006.jpeg', 'host-a007_cam6_1233689814950905006.jpeg', 'host-a007_cam1_1233621270134286006.jpeg', 'host-a011_cam2_1236119843717605006.jpeg', 'host-a011_cam3_1234466285900995006.jpeg', 'host-a011_cam2_1236038922217605006.jpeg', 'host-a101_cam2_1242753260181597006.jpeg', 'host-a011_cam5_1232752483667719006.jpeg', 'host-a011_cam6_1236123637751145006.jpeg', 'host-a007_cam2_1233079635617643006.jpeg', 'host-a004_cam0_1232923273451064006.jpeg', 'host-a004_cam6_1232905209150948006.jpeg', 'host-a011_cam1_1233688944734517006.jpeg', 'host-a011_cam2_1233688944717605006.jpeg', 'host-a011_cam3_1236038923400995006.jpeg', 'host-a004_cam2_1233014854617652006.jpeg', 'host-a004_cam1_1233014854634300006.jpeg', 'host-a017_cam0_1236118892650894006.jpeg', 'host-a017_cam1_1236118892634294006.jpeg', 'host-a101_cam0_1241561164850000006.jpeg', 'host-a101_cam1_1241561164866660006.jpeg', 'host-a101_cam2_1242583752482293006.jpeg', 'host-a004_cam0_1232923268251064006.jpeg', 'host-a011_cam1_1236119842734517006.jpeg', 'host-a011_cam2_1232752544217605006.jpeg', 'host-a011_cam3_1232752560000995006.jpeg', 'host-a101_cam6_1242748829544000006.jpeg', 'host-a011_cam3_1233087923200995006.jpeg', 'host-a011_cam2_1233087923217605006.jpeg', 'host-a011_cam0_1232752778451142006.jpeg', 'host-a011_cam1_1232905797934517006.jpeg', 'host-a004_cam3_1234047754300897006.jpeg', 'host-a101_cam4_1241561160616660006.jpeg', 'host-a101_cam5_1241561160633330006.jpeg', 'host-a011_cam1_1232905804534517006.jpeg', 'host-a007_cam0_1233689804950897006.jpeg', 'host-a011_cam2_1235866729917605006.jpeg', 'host-a011_cam4_1232752484884485006.jpeg', 'host-a017_cam1_1236118893034294006.jpeg', 'host-a101_cam2_1240875154883330006.jpeg', 'host-a011_cam6_1232752564851145006.jpeg', 'host-a007_cam2_1231093050482654006.jpeg', 'host-a004_cam3_1232923279000897006.jpeg', 'host-a102_cam6_1242754969944000006.jpeg', 'host-a017_cam3_1236118889000918006.jpeg', 'host-a017_cam2_1236118889017560006.jpeg', 'host-a007_cam0_1231093048449429006.jpeg', 'host-a011_cam0_1233087925051142006.jpeg', 'host-a011_cam1_1233087925034517006.jpeg', 'host-a011_cam3_1233087925000995006.jpeg', 'host-a007_cam6_1233529710750905006.jpeg', 'host-a004_cam0_1234047751951064006.jpeg', 'host-a004_cam1_1234047751934300006.jpeg', 'host-a011_cam1_1233087934634517006.jpeg', 'host-a011_cam1_1233087925634517006.jpeg', 'host-a007_cam0_1231093048249429006.jpeg', 'host-a101_cam3_1242583753899304006.jpeg', 'host-a101_cam2_1242583753882427006.jpeg', 'host-a101_cam2_1242144910483330006.jpeg', 'host-a007_cam2_1233524858417643006.jpeg', 'host-a011_cam2_1233688946317605006.jpeg', 'host-a011_cam1_1233090567634517006.jpeg', 'host-a004_cam3_1232905198900897006.jpeg', 'host-a004_cam2_1232905198917652006.jpeg', 'host-a007_cam6_1233529710350905006.jpeg', 'host-a011_cam2_1232909952117605006.jpeg', 'host-a011_cam3_1232909952100995006.jpeg', 'host-a011_cam2_1233090578217605006.jpeg', 'host-a007_cam2_1233529714517643006.jpeg', 'host-a004_cam6_1234047743750948006.jpeg', 'host-a101_cam2_1242753259781612006.jpeg', 'host-a011_cam2_1232905805317605006.jpeg', 'host-a101_cam0_1240875151450000006.jpeg', 'host-a011_cam1_1232752558234517006.jpeg', 'host-a102_cam1_1241548689666660006.jpeg', 'host-a102_cam0_1241548689650000006.jpeg', 'host-a011_cam3_1236122359900995006.jpeg', 'host-a011_cam2_1236122359917605006.jpeg', 'host-a004_cam1_1232923276034300006.jpeg', 'host-a004_cam0_1232923270451064006.jpeg', 'host-a004_cam1_1232923276834300006.jpeg', 'host-a004_cam2_1232923278217652006.jpeg', 'host-a101_cam6_1242748831544000006.jpeg', 'host-a011_cam6_1236038917851145006.jpeg', 'host-a011_cam5_1232752479467719006.jpeg', 'host-a004_cam1_1232842190834300006.jpeg', 'host-a011_cam2_1235950298217605006.jpeg', 'host-a011_cam0_1233965435551142006.jpeg', 'host-a004_cam1_1233014854434300006.jpeg', 'host-a004_cam2_1233014854417652006.jpeg', 'host-a101_cam0_1241561159650000006.jpeg', 'host-a101_cam5_1241561159633330006.jpeg', 'host-a011_cam2_1233090578017605006.jpeg', 'host-a011_cam2_1235950298617605006.jpeg', 'host-a007_cam2_1233079631217643006.jpeg', 'host-a004_cam1_1233620260334300006.jpeg', 'host-a011_cam1_1232752551234517006.jpeg', 'host-a011_cam5_1232752551267719006.jpeg', 'host-a004_cam2_1233620271917652006.jpeg', 'host-a004_cam6_1234047748950948006.jpeg', 'host-a011_cam6_1233965428151145006.jpeg', 'host-a011_cam1_1236122353934517006.jpeg', 'host-a011_cam6_1236122353951145006.jpeg', 'host-a011_cam1_1236122371734517006.jpeg', 'host-a015_cam4_1235423697684076006.jpeg', 'host-a009_cam1_1236123740634345006.jpeg', 'host-a011_cam3_1232752792400995006.jpeg', 'host-a011_cam2_1232752792417605006.jpeg', 'host-a011_cam6_1236038916451145006.jpeg', 'host-a101_cam1_1242748994766349006.jpeg', 'host-a101_cam3_1242748994799482006.jpeg', 'host-a011_cam2_1236122374117605006.jpeg', 'host-a009_cam1_1237581229434345006.jpeg', 'host-a101_cam3_1242748991999482006.jpeg', 'host-a101_cam1_1242748991966335006.jpeg', 'host-a015_cam4_1235423697484076006.jpeg', 'host-a101_cam6_1241561159850000006.jpeg', 'host-a101_cam5_1241561159833330006.jpeg', 'host-a011_cam6_1233512841451145006.jpeg', 'host-a004_cam0_1232923274451064006.jpeg', 'host-a011_cam1_1232752558434517006.jpeg', 'host-a011_cam2_1236122366517605006.jpeg', 'host-a011_cam1_1233090576434517006.jpeg', 'host-a011_cam2_1233090576417605006.jpeg', 'host-a011_cam5_1232752566267719006.jpeg', 'host-a011_cam6_1236122355351145006.jpeg', 'host-a011_cam2_1236122355317605006.jpeg', 'host-a011_cam3_1236122355300995006.jpeg', 'host-a011_cam2_1236123641317605006.jpeg', 'host-a101_cam1_1242748988166335006.jpeg', 'host-a101_cam3_1242748994899482006.jpeg', 'host-a101_cam1_1242748994966349006.jpeg', 'host-a101_cam2_1242583754082442006.jpeg', 'host-a101_cam3_1242583754099349006.jpeg', 'host-a101_cam1_1242748986166335006.jpeg', 'host-a007_cam6_1231093045449446006.jpeg', 'host-a102_cam0_1242754973748919006.jpeg', 'host-a011_cam6_1236119845951145006.jpeg', 'host-a011_cam2_1233090575217605006.jpeg', 'host-a011_cam1_1233090575234517006.jpeg', 'host-a011_cam1_1232752796034517006.jpeg', 'host-a007_cam1_1233689805934286006.jpeg', 'host-a011_cam6_1233965430751145006.jpeg', 'host-a011_cam0_1234639320251142006.jpeg', 'host-a011_cam2_1233965317717605006.jpeg', 'host-a011_cam0_1232752781451142006.jpeg', 'host-a007_cam1_1233524852434286006.jpeg', 'host-a007_cam0_1233524852450897006.jpeg', 'host-a004_cam6_1234047747150948006.jpeg', 'host-a004_cam6_1233014865850948006.jpeg', 'host-a007_cam2_1231093049882654006.jpeg', 'host-a102_cam0_1241548691650000006.jpeg', 'host-a102_cam1_1241548691666660006.jpeg', 'host-a101_cam1_1241561165066660006.jpeg', 'host-a101_cam0_1241561172250000006.jpeg', 'host-a011_cam6_1236122354351145006.jpeg', 'host-a011_cam1_1236122354334517006.jpeg', 'host-a011_cam2_1236122354317605006.jpeg', 'host-a004_cam2_1232842186817652006.jpeg', 'host-a011_cam2_1233087935217605006.jpeg', 'host-a101_cam1_1242748996566349006.jpeg', 'host-a011_cam2_1236122360917605006.jpeg', 'host-a011_cam0_1233965434951142006.jpeg', 'host-a004_cam0_1232923271851064006.jpeg', 'host-a011_cam0_1232752781051142006.jpeg', 'host-a004_cam6_1233685316950948006.jpeg', 'host-a011_cam1_1233688950334517006.jpeg', 'host-a011_cam1_1232909945534517006.jpeg', 'host-a011_cam1_1233688950534517006.jpeg', 'host-a011_cam1_1235866709534517006.jpeg', 'host-a011_cam2_1236038923017605006.jpeg', 'host-a101_cam6_1242748831144000006.jpeg', 'host-a017_cam1_1236118887434294006.jpeg', 'host-a011_cam3_1232752787200995006.jpeg', 'host-a011_cam6_1232752564051145006.jpeg', 'host-a004_cam1_1233014853034300006.jpeg', 'host-a015_cam5_1236112605167453006.jpeg', 'host-a007_cam2_1233079627817643006.jpeg', 'host-a011_cam6_1232905806151145006.jpeg', 'host-a011_cam3_1232905806100995006.jpeg', 'host-a004_cam0_1232923269651064006.jpeg', 'host-a101_cam0_1241561172050000006.jpeg', 'host-a101_cam2_1242748841182723006.jpeg', 'host-a004_cam6_1233685315550948006.jpeg', 'host-a015_cam5_1236112613367453006.jpeg', 'host-a101_cam3_1242753260399038006.jpeg', 'host-a101_cam2_1242753260381360006.jpeg', 'host-a101_cam0_1240875152850000006.jpeg', 'host-a101_cam1_1242583750064394006.jpeg', 'host-a101_cam0_1242583750048934006.jpeg', 'host-a004_cam0_1232923274051064006.jpeg', 'host-a004_cam0_1232923269051064006.jpeg', 'host-a004_cam0_1232923275651064006.jpeg', 'host-a101_cam3_1241216100000000006.jpeg', 'host-a004_cam1_1232905212934300006.jpeg', 'host-a011_cam1_1233688943934517006.jpeg', 'host-a011_cam2_1233688943917605006.jpeg', 'host-a012_cam0_1235937149051020006.jpeg', 'host-a004_cam6_1234047745150948006.jpeg', 'host-a011_cam0_1236123639751142006.jpeg', 'host-a101_cam1_1242748835366260006.jpeg', 'host-a011_cam2_1235866730117605006.jpeg', 'host-a011_cam1_1233087921234517006.jpeg', 'host-a011_cam3_1233087921200995006.jpeg', 'host-a004_cam1_1235947105334300006.jpeg', 'host-a004_cam2_1233516153017652006.jpeg', 'host-a101_cam5_1242580009232323006.jpeg', 'host-a007_cam2_1233524858217643006.jpeg', 'host-a011_cam2_1232752543817605006.jpeg', 'host-a004_cam2_1234047753717652006.jpeg', 'host-a004_cam2_1233014854217652006.jpeg', 'host-a004_cam1_1233685319334300006.jpeg', 'host-a004_cam6_1233685319350948006.jpeg', 'host-a004_cam1_1234047752734300006.jpeg', 'host-a015_cam4_1235423697884076006.jpeg', 'host-a101_cam0_1241216097750000006.jpeg', 'host-a101_cam1_1241216097766660006.jpeg', 'host-a011_cam6_1235931131351145006.jpeg', 'host-a004_cam2_1232905213917652006.jpeg', 'host-a011_cam2_1232752559217605006.jpeg', 'host-a004_cam1_1233516152434300006.jpeg', 'host-a101_cam4_1242580010615935006.jpeg', 'host-a007_cam2_1231093057482654006.jpeg', 'host-a009_cam1_1237581215834345006.jpeg', 'host-a009_cam2_1237581215817740006.jpeg', 'host-a011_cam1_1235950314634517006.jpeg', 'host-a011_cam2_1233090578817605006.jpeg', 'host-a004_cam2_1233685325317652006.jpeg', 'host-a004_cam3_1233685325300897006.jpeg', 'host-a011_cam2_1233965437717605006.jpeg', 'host-a011_cam1_1233090571434517006.jpeg', 'host-a011_cam2_1233090571417605006.jpeg', 'host-a011_cam0_1233512849051142006.jpeg', 'host-a004_cam2_1233685320717652006.jpeg', 'host-a007_cam1_1233621270534286006.jpeg', 'host-a101_cam4_1242583754816260006.jpeg', 'host-a101_cam1_1242583750264601006.jpeg', 'host-a101_cam0_1242583750248934006.jpeg', 'host-a101_cam6_1242753253744000006.jpeg', 'host-a011_cam6_1232905794551145006.jpeg', 'host-a011_cam1_1232905785734517006.jpeg', 'host-a011_cam6_1235931131951145006.jpeg', 'host-a102_cam1_1241548689266660006.jpeg', 'host-a102_cam0_1241548689250000006.jpeg', 'host-a011_cam1_1236038922034517006.jpeg', 'host-a101_cam1_1242748835566246006.jpeg', 'host-a011_cam0_1232905796551142006.jpeg', 'host-a102_cam0_1241548690250000006.jpeg', 'host-a102_cam1_1241548690266660006.jpeg', 'host-a011_cam1_1234466281734517006.jpeg', 'host-a007_cam0_1230672871249429006.jpeg', 'host-a012_cam6_1235937146650881006.jpeg', 'host-a012_cam1_1235937149834261006.jpeg', 'host-a011_cam1_1233087920234517006.jpeg', 'host-a101_cam6_1242748831744000006.jpeg', 'host-a011_cam2_1233688944517605006.jpeg', 'host-a011_cam2_1233081028217605006.jpeg', 'host-a017_cam1_1236118887234294006.jpeg', 'host-a017_cam0_1236118887250894006.jpeg', 'host-a011_cam2_1233965437317605006.jpeg', 'host-a011_cam2_1235866711917605006.jpeg', 'host-a004_cam1_1233620267934300006.jpeg', 'host-a011_cam2_1233965316717605006.jpeg', 'host-a004_cam2_1232923278017652006.jpeg', 'host-a009_cam1_1237581230634345006.jpeg', 'host-a007_cam2_1233079636217643006.jpeg', 'host-a004_cam6_1233685318950948006.jpeg', 'host-a011_cam5_1233965312367719006.jpeg', 'host-a004_cam2_1233516152817652006.jpeg', 'host-a004_cam2_1233685320917652006.jpeg', 'host-a101_cam1_1242748996766349006.jpeg', 'host-a011_cam6_1232745792051145006.jpeg', 'host-a101_cam6_1241561156250000006.jpeg', 'host-a011_cam1_1233087926234517006.jpeg', 'host-a011_cam0_1233087926251142006.jpeg', 'host-a011_cam0_1236119841951142006.jpeg', 'host-a101_cam1_1242583750865090006.jpeg', 'host-a015_cam5_1236112603767453006.jpeg', 'host-a011_cam0_1236038920651142006.jpeg', 'host-a101_cam0_1241561164450000006.jpeg', 'host-a011_cam1_1232909945134517006.jpeg', 'host-a011_cam1_1236122373534517006.jpeg', 'host-a011_cam2_1236122373517605006.jpeg', 'host-a007_cam0_1233689805150897006.jpeg', 'host-a007_cam1_1233689805134286006.jpeg', 'host-a102_cam1_1242754975365001006.jpeg', 'host-a101_cam6_1241561156050000006.jpeg', 'host-a007_cam1_1233510601534286006.jpeg', 'host-a012_cam2_1235937152017630006.jpeg', 'host-a011_cam1_1232752790034517006.jpeg', 'host-a007_cam0_1230672871449429006.jpeg', 'host-a007_cam1_1230672871466021006.jpeg', 'host-a011_cam2_1235950299217605006.jpeg', 'host-a009_cam3_1236123741800965006.jpeg', 'host-a009_cam6_1236123741851064006.jpeg', 'host-a101_cam2_1242748840782708006.jpeg', 'host-a101_cam2_1242748818182131006.jpeg', 'host-a011_cam6_1232752563451145006.jpeg', 'host-a004_cam1_1233685323534300006.jpeg', 'host-a011_cam1_1233087920434517006.jpeg', 'host-a011_cam2_1236119843117605006.jpeg', 'host-a101_cam3_1242144910900000006.jpeg', 'host-a101_cam2_1242144910883330006.jpeg', 'host-a011_cam5_1232752479667719006.jpeg', 'host-a102_cam2_1242754976581805006.jpeg', 'host-a101_cam6_1241561155650000006.jpeg', 'host-a015_cam4_1236112616584076006.jpeg', 'host-a011_cam2_1236038922617605006.jpeg', 'host-a011_cam5_1232752483467719006.jpeg', 'host-a101_cam1_1242753258965179006.jpeg', 'host-a011_cam1_1233965314334517006.jpeg', 'host-a011_cam1_1236122358334517006.jpeg', 'host-a011_cam2_1236122358317605006.jpeg', 'host-a011_cam0_1236122358351142006.jpeg', 'host-a011_cam6_1233512841051145006.jpeg', 'host-a011_cam2_1232752552417605006.jpeg', 'host-a011_cam4_1232752552484485006.jpeg', 'host-a017_cam1_1236118893434294006.jpeg', 'host-a004_cam0_1234047751551064006.jpeg', 'host-a011_cam2_1233090576017605006.jpeg', 'host-a011_cam1_1233090576034517006.jpeg', 'host-a009_cam1_1237581230434345006.jpeg', 'host-a101_cam0_1241216097350000006.jpeg', 'host-a011_cam1_1232752556034517006.jpeg', 'host-a102_cam0_1241548689050000006.jpeg', 'host-a102_cam1_1241548689066660006.jpeg', 'host-a101_cam1_1242748836566275006.jpeg', 'host-a101_cam0_1242748836549526006.jpeg', 'host-a007_cam0_1233524853250897006.jpeg', 'host-a009_cam1_1237581210834345006.jpeg', 'host-a009_cam1_1237581211434345006.jpeg', 'host-a101_cam2_1242748999582856006.jpeg', 'host-a011_cam3_1233087929800995006.jpeg', 'host-a011_cam1_1233090568634517006.jpeg', 'host-a011_cam1_1235950314434517006.jpeg', 'host-a101_cam0_1242748998149586006.jpeg', 'host-a101_cam1_1242748987166335006.jpeg', 'host-a004_cam0_1232905212151064006.jpeg', 'host-a009_cam1_1237581210634345006.jpeg', 'host-a017_cam3_1236118894400918006.jpeg', 'host-a017_cam2_1236118894417560006.jpeg', 'host-a011_cam3_1233965437900995006.jpeg', 'host-a011_cam0_1232752779851142006.jpeg', 'host-a007_cam3_1233524856600869006.jpeg', 'host-a007_cam3_1233524861800869006.jpeg', 'host-a101_cam1_1242748837966260006.jpeg', 'host-a101_cam0_1242748837949526006.jpeg', 'host-a011_cam1_1232752555634517006.jpeg', 'host-a011_cam1_1235866710934517006.jpeg', 'host-a011_cam4_1232752568084485006.jpeg', 'host-a011_cam4_1232752567484485006.jpeg', 'host-a011_cam6_1232752567451145006.jpeg', 'host-a102_cam2_1241548695283330006.jpeg', 'host-a101_cam1_1242748835966246006.jpeg', 'host-a007_cam1_1231093049666021006.jpeg', 'host-a011_cam5_1232752486167719006.jpeg', 'host-a011_cam4_1232752486184485006.jpeg', 'host-a011_cam1_1233090570434517006.jpeg', 'host-a011_cam2_1235866712117605006.jpeg', 'host-a011_cam0_1234639317051142006.jpeg', 'host-a011_cam1_1235866728934517006.jpeg', 'host-a011_cam2_1233965316317605006.jpeg', 'host-a011_cam1_1232905804134517006.jpeg', 'host-a011_cam2_1233688951117605006.jpeg', 'host-a004_cam2_1234047753117652006.jpeg', 'host-a009_cam1_1237581210434345006.jpeg', 'host-a011_cam3_1233087922000995006.jpeg', 'host-a011_cam1_1233087922034517006.jpeg', 'host-a011_cam1_1236122365934517006.jpeg', 'host-a011_cam1_1232752790834517006.jpeg', 'host-a011_cam1_1236122373334517006.jpeg', 'host-a011_cam2_1236122373317605006.jpeg', 'host-a011_cam2_1234466283717605006.jpeg', 'host-a011_cam1_1233087919034517006.jpeg', 'host-a011_cam1_1233090574234517006.jpeg', 'host-a011_cam2_1233090574217605006.jpeg', 'host-a007_cam2_1233524857417643006.jpeg', 'host-a011_cam2_1232905798517605006.jpeg', 'host-a011_cam1_1232752551634517006.jpeg', 'host-a102_cam5_1241548695833330006.jpeg', 'host-a102_cam2_1241548695883330006.jpeg', 'host-a011_cam2_1236104049717605006.jpeg', 'host-a011_cam1_1235866709134517006.jpeg', 'host-a011_cam6_1235933803351145006.jpeg', 'host-a011_cam1_1236038921634517006.jpeg', 'host-a101_cam2_1242583753482338006.jpeg', 'host-a101_cam3_1242583753499289006.jpeg', 'host-a011_cam3_1232752792600995006.jpeg', 'host-a004_cam1_1234047752534300006.jpeg', 'host-a017_cam6_1236118883850938006.jpeg', 'host-a011_cam1_1235950321634517006.jpeg', 'host-a011_cam0_1235950321651142006.jpeg', 'host-a011_cam1_1232752558634517006.jpeg', 'host-a004_cam6_1232905209350948006.jpeg', 'host-a012_cam1_1235937150234261006.jpeg', 'host-a012_cam2_1235937150217630006.jpeg', 'host-a004_cam0_1232923269851064006.jpeg', 'host-a015_cam5_1236112604767453006.jpeg', 'host-a011_cam2_1233087923017605006.jpeg', 'host-a011_cam3_1233087923000995006.jpeg', 'host-a004_cam6_1232842189050948006.jpeg', 'host-a101_cam0_1241216096950000006.jpeg', 'host-a011_cam1_1235866727534517006.jpeg', 'host-a004_cam1_1233620270934300006.jpeg', 'host-a101_cam5_1242580014032338006.jpeg', 'host-a011_cam6_1236038918051145006.jpeg', 'host-a004_cam1_1235947105134300006.jpeg', 'host-a102_cam1_1242754974764972006.jpeg', 'host-a102_cam0_1242754974748934006.jpeg', 'host-a011_cam3_1232909948300995006.jpeg', 'host-a007_cam2_1231093050082654006.jpeg', 'host-a004_cam1_1233620266934300006.jpeg', 'host-a004_cam1_1233620261934300006.jpeg', 'host-a101_cam1_1242748838566275006.jpeg', 'host-a101_cam0_1240875152050000006.jpeg', 'host-a011_cam1_1233090568234517006.jpeg', 'host-a004_cam6_1234047744350948006.jpeg', 'host-a011_cam2_1232752557217605006.jpeg', 'host-a011_cam0_1232752557251142006.jpeg', 'host-a004_cam1_1233620262134300006.jpeg', 'host-a004_cam1_1234047752134300006.jpeg', 'host-a004_cam1_1233014863434300006.jpeg', 'host-a011_cam6_1233965426951145006.jpeg', 'host-a015_cam4_1236112615784076006.jpeg', 'host-a004_cam1_1233620268534300006.jpeg', 'host-a101_cam4_1242580010215949006.jpeg', 'host-a102_cam6_1242754970944000006.jpeg', 'host-a007_cam6_1230672867649446006.jpeg', 'host-a011_cam1_1236122371934517006.jpeg', 'host-a101_cam1_1242748985366335006.jpeg', 'host-a017_cam2_1236119802017560006.jpeg', 'host-a011_cam4_1232752466084485006.jpeg', 'host-a102_cam2_1241548694883330006.jpeg', 'host-a011_cam6_1235933801951145006.jpeg', 'host-a101_cam2_1240875155483330006.jpeg', 'host-a011_cam1_1232752549634517006.jpeg', 'host-a102_cam6_1242754970544000006.jpeg', 'host-a011_cam6_1234466279151145006.jpeg', 'host-a011_cam3_1232752554000995006.jpeg', 'host-a004_cam6_1234047748750948006.jpeg', 'host-a011_cam3_1235931136500995006.jpeg', 'host-a007_cam2_1233524855417643006.jpeg', 'host-a007_cam3_1233524856200869006.jpeg', 'host-a011_cam1_1233090568434517006.jpeg', 'host-a004_cam0_1232923266651064006.jpeg', 'host-a004_cam0_1232923272451064006.jpeg', 'host-a101_cam3_1241216099100000006.jpeg', 'host-a007_cam1_1233079626634286006.jpeg', 'host-a011_cam2_1236122354517605006.jpeg', 'host-a011_cam6_1236122354551145006.jpeg', 'host-a011_cam1_1235950297234517006.jpeg', 'host-a011_cam6_1236122350151145006.jpeg', 'host-a101_cam5_1242748997332708006.jpeg', 'host-a011_cam1_1236122372334517006.jpeg', 'host-a011_cam0_1236122372351142006.jpeg', 'host-a102_cam0_1241548690850000006.jpeg', 'host-a102_cam1_1241548690866660006.jpeg', 'host-a011_cam6_1234466278351145006.jpeg', 'host-a101_cam0_1240875151650000006.jpeg', 'host-a011_cam6_1235933802751145006.jpeg', 'host-a011_cam0_1232752780851142006.jpeg', 'host-a011_cam0_1232752778851142006.jpeg', 'host-a011_cam1_1233090569234517006.jpeg', 'host-a015_cam4_1236112615984076006.jpeg', 'host-a009_cam2_1236123741017740006.jpeg', 'host-a011_cam1_1233090575634517006.jpeg', 'host-a011_cam2_1233090575617605006.jpeg', 'host-a015_cam5_1236112614767453006.jpeg', 'host-a004_cam3_1233620273500897006.jpeg', 'host-a004_cam2_1233620273517652006.jpeg', 'host-a011_cam0_1234639318051142006.jpeg', 'host-a101_cam0_1242748836749526006.jpeg', 'host-a101_cam1_1242748836766275006.jpeg', 'host-a011_cam2_1232752544017605006.jpeg', 'host-a011_cam3_1236038923600995006.jpeg', 'host-a017_cam2_1236118893617560006.jpeg', 'host-a101_cam1_1242748995166349006.jpeg', 'host-a101_cam3_1242748995199482006.jpeg', 'host-a101_cam0_1241216096550000006.jpeg', 'host-a007_cam1_1233079632634286006.jpeg', 'host-a101_cam3_1242748994399482006.jpeg', 'host-a101_cam2_1242748994382545006.jpeg', 'host-a101_cam2_1240875155283330006.jpeg', 'host-a007_cam2_1231093060282654006.jpeg', 'host-a011_cam6_1233512840651145006.jpeg', 'host-a011_cam2_1233512850417605006.jpeg', 'host-a011_cam4_1233965313384485006.jpeg', 'host-a011_cam3_1232752553400995006.jpeg', 'host-a011_cam2_1232752553417605006.jpeg', 'host-a011_cam0_1236122371351142006.jpeg', 'host-a011_cam1_1236122371334517006.jpeg', 'host-a011_cam1_1233512849634517006.jpeg', 'host-a011_cam1_1233090567834517006.jpeg', 'host-a015_cam4_1235423697284076006.jpeg', 'host-a004_cam1_1233620270134300006.jpeg', 'host-a102_cam1_1241548686466660006.jpeg', 'host-a102_cam0_1241548686450000006.jpeg', 'host-a011_cam2_1232752558817605006.jpeg', 'host-a004_cam1_1232842186234300006.jpeg', 'host-a017_cam0_1236118892450894006.jpeg', 'host-a101_cam6_1242748831944000006.jpeg', 'host-a004_cam1_1232905213134300006.jpeg', 'host-a011_cam1_1232909945934517006.jpeg', 'host-a101_cam2_1240875154683330006.jpeg', 'host-a011_cam0_1232752782451142006.jpeg', 'host-a101_cam5_1241561159233330006.jpeg', 'host-a101_cam0_1241561159250000006.jpeg', 'host-a011_cam6_1233965427951145006.jpeg', 'host-a101_cam2_1242583753282323006.jpeg', 'host-a101_cam5_1242583753232649006.jpeg', 'host-a011_cam1_1233087919834517006.jpeg', 'host-a011_cam1_1236122353734517006.jpeg', 'host-a011_cam6_1236122353751145006.jpeg', 'host-a011_cam3_1233087921600995006.jpeg', 'host-a011_cam1_1233087921634517006.jpeg', 'host-a004_cam1_1233620261334300006.jpeg', 'host-a004_cam0_1232923275451064006.jpeg', 'host-a007_cam1_1230672872066021006.jpeg', 'host-a004_cam2_1232923288017652006.jpeg', 'host-a101_cam6_1242748831344000006.jpeg', 'host-a011_cam1_1233087934234517006.jpeg', 'host-a011_cam3_1232752787000995006.jpeg', 'host-a011_cam0_1234639319851142006.jpeg', 'host-a011_cam1_1232909944734517006.jpeg', 'host-a011_cam0_1232909944751142006.jpeg', 'host-a004_cam3_1233685321100897006.jpeg', 'host-a004_cam2_1233685321117652006.jpeg', 'host-a011_cam1_1235950297834517006.jpeg', 'host-a101_cam1_1242748989166335006.jpeg', 'host-a101_cam3_1242748989199482006.jpeg', 'host-a011_cam1_1232752550634517006.jpeg', 'host-a011_cam1_1232752795634517006.jpeg', 'host-a011_cam0_1232752795651142006.jpeg', 'host-a011_cam2_1234466285317605006.jpeg', 'host-a004_cam2_1232905199517652006.jpeg', 'host-a102_cam2_1241548694483330006.jpeg', 'host-a102_cam1_1241548694466660006.jpeg', 'host-a101_cam0_1241561159450000006.jpeg', 'host-a101_cam5_1241561159433330006.jpeg', 'host-a004_cam1_1233685323734300006.jpeg', 'host-a009_cam2_1237581212017740006.jpeg', 'host-a011_cam2_1236104050117605006.jpeg', 'host-a101_cam2_1241561166083330006.jpeg', 'host-a101_cam3_1241561166100000006.jpeg', 'host-a101_cam2_1242748817782116006.jpeg', 'host-a011_cam2_1232752552017605006.jpeg', 'host-a011_cam4_1232752552084485006.jpeg', 'host-a011_cam2_1235866712717605006.jpeg', 'host-a011_cam1_1232752790434517006.jpeg', 'host-a004_cam3_1233685321300897006.jpeg', 'host-a011_cam1_1233087919634517006.jpeg', 'host-a011_cam0_1233965435151142006.jpeg', 'host-a015_cam5_1236112601567453006.jpeg', 'host-a101_cam1_1242748987966335006.jpeg', 'host-a101_cam5_1242580007832323006.jpeg', 'host-a101_cam0_1242580007849200006.jpeg', 'host-a011_cam0_1232752782851142006.jpeg', 'host-a007_cam1_1233689805734286006.jpeg', 'host-a011_cam0_1232752780251142006.jpeg', 'host-a011_cam3_1233087923600995006.jpeg', 'host-a011_cam2_1233087923617605006.jpeg', 'host-a004_cam2_1232905197917652006.jpeg', 'host-a011_cam6_1233965426751145006.jpeg', 'host-a007_cam2_1233079631617643006.jpeg', 'host-a011_cam0_1234639320451142006.jpeg', 'host-a011_cam3_1236122360100995006.jpeg', 'host-a011_cam2_1236122360117605006.jpeg', 'host-a015_cam5_1236112601767453006.jpeg', 'host-a101_cam2_1241561165883330006.jpeg', 'host-a011_cam1_1236038921034517006.jpeg', 'host-a004_cam1_1233620265534300006.jpeg', 'host-a101_cam3_1242580011399571006.jpeg', 'host-a101_cam4_1242580011415935006.jpeg', 'host-a017_cam2_1236119802217560006.jpeg', 'host-a101_cam5_1241561160433330006.jpeg', 'host-a101_cam6_1241561160450000006.jpeg', 'host-a011_cam3_1233087922200995006.jpeg', 'host-a011_cam1_1233087922234517006.jpeg', 'host-a009_cam3_1236123741600965006.jpeg', 'host-a004_cam1_1233620262734300006.jpeg', 'host-a011_cam5_1232752565667719006.jpeg', 'host-a011_cam3_1232752798000995006.jpeg', 'host-a101_cam1_1242748991166335006.jpeg', 'host-a101_cam3_1242748991199482006.jpeg', 'host-a101_cam0_1242748837149526006.jpeg', 'host-a101_cam1_1242748837166290006.jpeg', 'host-a011_cam2_1233087929417605006.jpeg', 'host-a011_cam3_1233087929400995006.jpeg', 'host-a101_cam1_1242748838366260006.jpeg', 'host-a012_cam1_1235937149634261006.jpeg', 'host-a011_cam1_1232905804334517006.jpeg', 'host-a004_cam3_1232905198700897006.jpeg', 'host-a102_cam0_1241548689450000006.jpeg', 'host-a102_cam1_1241548689466660006.jpeg', 'host-a011_cam1_1234466282334517006.jpeg', 'host-a011_cam1_1236119842534517006.jpeg', 'host-a011_cam0_1232752788651142006.jpeg', 'host-a004_cam6_1233685318350948006.jpeg', 'host-a011_cam1_1233087934434517006.jpeg', 'host-a101_cam2_1242144909683330006.jpeg', 'host-a101_cam2_1242753259581597006.jpeg', 'host-a011_cam1_1233090573634517006.jpeg', 'host-a011_cam2_1233090573617605006.jpeg', 'host-a101_cam2_1242748999782871006.jpeg', 'host-a011_cam0_1234639320051142006.jpeg', 'host-a009_cam0_1237581210051174006.jpeg', 'host-a007_cam2_1233524857817643006.jpeg', 'host-a004_cam0_1232923268051064006.jpeg', 'host-a101_cam3_1241216100100000006.jpeg', 'host-a011_cam1_1235866710334517006.jpeg', 'host-a011_cam1_1235866710534517006.jpeg', 'host-a011_cam1_1236123640134517006.jpeg', 'host-a004_cam1_1233620265934300006.jpeg', 'host-a011_cam6_1233965428951145006.jpeg', 'host-a011_cam1_1236123642734517006.jpeg', 'host-a101_cam4_1242580016415964006.jpeg', 'host-a101_cam3_1242580016399556006.jpeg', 'host-a011_cam2_1232909947117605006.jpeg', 'host-a004_cam6_1232842190050948006.jpeg', 'host-a009_cam2_1237581231117740006.jpeg', 'host-a102_cam2_1242754976781908006.jpeg', 'host-a102_cam2_1241548695483330006.jpeg', 'host-a004_cam1_1232923277234300006.jpeg', 'host-a011_cam1_1235950297434517006.jpeg', 'host-a101_cam1_1241216098166660006.jpeg', 'host-a009_cam1_1236123740234345006.jpeg', 'host-a015_cam4_1235423696484076006.jpeg', 'host-a101_cam0_1241216096750000006.jpeg', 'host-a004_cam6_1234047745350948006.jpeg', 'host-a012_cam6_1235937146050881006.jpeg', 'host-a004_cam0_1233516151451064006.jpeg', 'host-a011_cam2_1232752797017605006.jpeg', 'host-a011_cam6_1236122350351145006.jpeg', 'host-a101_cam6_1240875147650000006.jpeg', 'host-a101_cam0_1241561164650000006.jpeg', 'host-a101_cam1_1241561164666660006.jpeg', 'host-a007_cam1_1233510600734286006.jpeg', 'host-a007_cam0_1233510600750897006.jpeg', 'host-a011_cam1_1233090576834517006.jpeg', 'host-a011_cam2_1233090576817605006.jpeg', 'host-a004_cam0_1232923273651064006.jpeg', 'host-a015_cam5_1236112601967453006.jpeg', 'host-a004_cam3_1232923279600897006.jpeg', 'host-a004_cam6_1233685319950948006.jpeg', 'host-a004_cam1_1233685319934300006.jpeg', 'host-a011_cam1_1235866728734517006.jpeg', 'host-a017_cam2_1236119803217560006.jpeg', 'host-a007_cam0_1231093048649429006.jpeg', 'host-a004_cam2_1232905198317652006.jpeg', 'host-a011_cam5_1232752465467719006.jpeg', 'host-a011_cam6_1235933803151145006.jpeg', 'host-a015_cam4_1235423696884076006.jpeg', 'host-a004_cam6_1234047743350948006.jpeg', 'host-a101_cam0_1241561164050000006.jpeg', 'host-a101_cam1_1242748987766335006.jpeg', 'host-a011_cam2_1232909946917605006.jpeg', 'host-a011_cam2_1236038923217605006.jpeg', 'host-a011_cam3_1236038923200995006.jpeg', 'host-a101_cam4_1241561162016660006.jpeg', 'host-a101_cam3_1241561162100000006.jpeg', 'host-a009_cam1_1237581215634345006.jpeg', 'host-a009_cam2_1237581215617740006.jpeg', 'host-a101_cam3_1242748990999482006.jpeg', 'host-a101_cam1_1242748990966335006.jpeg', 'host-a102_cam1_1242754975565031006.jpeg', 'host-a004_cam1_1233014863034300006.jpeg', 'host-a011_cam1_1233087920834517006.jpeg', 'host-a101_cam3_1242753260798949006.jpeg', 'host-a101_cam2_1242753260780708006.jpeg', 'host-a011_cam6_1233965426351145006.jpeg', 'host-a011_cam6_1233965428751145006.jpeg', 'host-a004_cam2_1232905213717652006.jpeg', 'host-a011_cam1_1234466280934517006.jpeg', 'host-a011_cam2_1236123641717605006.jpeg', 'host-a011_cam1_1234466280534517006.jpeg', 'host-a102_cam0_1241548692250000006.jpeg', 'host-a102_cam1_1241548692266660006.jpeg', 'host-a011_cam0_1232909944151142006.jpeg', 'host-a101_cam1_1242748985566335006.jpeg', 'host-a101_cam0_1242583748848860006.jpeg', 'host-a101_cam1_1242583748862957006.jpeg', 'host-a101_cam4_1242580011015935006.jpeg', 'host-a011_cam1_1233090568034517006.jpeg', 'host-a101_cam2_1242583752282279006.jpeg', 'host-a011_cam6_1233965428551145006.jpeg', 'host-a015_cam5_1236112613767453006.jpeg', 'host-a011_cam2_1236122361117605006.jpeg', 'host-a009_cam2_1236123741417740006.jpeg', 'host-a102_cam1_1241548694266660006.jpeg', 'host-a102_cam2_1241548694283330006.jpeg', 'host-a101_cam3_1242748992699482006.jpeg', 'host-a101_cam1_1242748992766335006.jpeg', 'host-a101_cam2_1241216098583330006.jpeg', 'host-a011_cam0_1232752788851142006.jpeg', 'host-a004_cam6_1233685316350948006.jpeg', 'host-a011_cam1_1232905797534517006.jpeg', 'host-a004_cam1_1233620269934300006.jpeg', 'host-a017_cam6_1236118889850938006.jpeg', 'host-a015_cam4_1236112615384076006.jpeg', 'host-a101_cam2_1242144911083330006.jpeg', 'host-a101_cam3_1242144911100000006.jpeg', 'host-a011_cam1_1232909950934517006.jpeg', 'host-a101_cam0_1240875153050000006.jpeg', 'host-a004_cam2_1233685320517652006.jpeg', 'host-a004_cam0_1232842378651064006.jpeg', 'host-a007_cam3_1233524856000869006.jpeg', 'host-a011_cam5_1232752565867719006.jpeg', 'host-a101_cam2_1242748841382738006.jpeg', 'host-a015_cam5_1236112614167453006.jpeg', 'host-a011_cam2_1236038922817605006.jpeg', 'host-a011_cam1_1233688943134517006.jpeg', 'host-a011_cam2_1235931136117605006.jpeg', 'host-a011_cam2_1233688944117605006.jpeg', 'host-a011_cam1_1233688944134517006.jpeg', 'host-a101_cam1_1242748837366290006.jpeg', 'host-a101_cam0_1242748837349526006.jpeg', 'host-a011_cam6_1233965427151145006.jpeg', 'host-a009_cam6_1236123734451064006.jpeg', 'host-a101_cam5_1242580013632353006.jpeg', 'host-a101_cam3_1242748993199482006.jpeg', 'host-a101_cam1_1242748993166335006.jpeg', 'host-a101_cam3_1242748991699482006.jpeg', 'host-a101_cam1_1242748991766335006.jpeg', 'host-a011_cam2_1233087935417605006.jpeg', 'host-a004_cam1_1233620265734300006.jpeg', 'host-a011_cam3_1232752792800995006.jpeg', 'host-a011_cam5_1233965312767719006.jpeg', 'host-a004_cam2_1232842186417652006.jpeg', 'host-a011_cam1_1233965314734517006.jpeg', 'host-a101_cam6_1241561155850000006.jpeg', 'host-a009_cam6_1236123736051064006.jpeg', 'host-a011_cam0_1236122357751142006.jpeg', 'host-a011_cam1_1236122357734517006.jpeg', 'host-a011_cam1_1235931134534517006.jpeg', 'host-a102_cam2_1241548693283330006.jpeg', 'host-a102_cam1_1241548693266660006.jpeg', 'host-a102_cam0_1241548693250000006.jpeg', 'host-a101_cam2_1240875155083330006.jpeg', 'host-a004_cam2_1233620271717652006.jpeg', 'host-a004_cam1_1233620271734300006.jpeg', 'host-a004_cam6_1233685317350948006.jpeg', 'host-a011_cam4_1232752553084485006.jpeg', 'host-a011_cam2_1232752553017605006.jpeg', 'host-a004_cam1_1233620263134300006.jpeg', 'host-a004_cam1_1232923276634300006.jpeg', 'host-a011_cam1_1232752543434517006.jpeg', 'host-a101_cam0_1242580007449230006.jpeg', 'host-a011_cam5_1232752566467719006.jpeg', 'host-a011_cam2_1236122354917605006.jpeg', 'host-a011_cam6_1236123638151145006.jpeg', 'host-a101_cam2_1242144911383330006.jpeg', 'host-a101_cam3_1242144911400000006.jpeg', 'host-a011_cam0_1235931133751142006.jpeg', 'host-a101_cam0_1242749000549378006.jpeg', 'host-a011_cam6_1232905806551145006.jpeg', 'host-a011_cam0_1234639317851142006.jpeg', 'host-a009_cam0_1237581209451174006.jpeg', 'host-a101_cam0_1242749000949319006.jpeg', 'host-a011_cam5_1232752465067719006.jpeg', 'host-a004_cam0_1232923267251064006.jpeg', 'host-a004_cam1_1235947105734300006.jpeg', 'host-a004_cam6_1234047747350948006.jpeg', 'host-a011_cam6_1236122354151145006.jpeg', 'host-a011_cam1_1236122354134517006.jpeg', 'host-a017_cam2_1236118888217560006.jpeg', 'host-a007_cam0_1233510600550897006.jpeg', 'host-a007_cam1_1233510600534286006.jpeg', 'host-a101_cam2_1240875153883330006.jpeg', 'host-a011_cam1_1233090567234517006.jpeg', 'host-a011_cam0_1232909949551142006.jpeg', 'host-a101_cam1_1242748988966335006.jpeg', 'host-a101_cam3_1242748988999482006.jpeg', 'host-a004_cam1_1233620268734300006.jpeg', 'host-a007_cam2_1233524855017643006.jpeg', 'host-a004_cam2_1233620272917652006.jpeg', 'host-a015_cam5_1236112603167453006.jpeg', 'host-a011_cam0_1232752795251142006.jpeg', 'host-a004_cam6_1233685319150948006.jpeg', 'host-a004_cam1_1233685319134300006.jpeg', 'host-a004_cam1_1232923276434300006.jpeg', 'host-a011_cam6_1232745791651145006.jpeg', 'host-a004_cam2_1233014854017652006.jpeg', 'host-a101_cam0_1241561163850000006.jpeg', 'host-a004_cam2_1233685325117652006.jpeg', 'host-a011_cam0_1233512848651142006.jpeg', 'host-a011_cam2_1232909947517605006.jpeg', 'host-a004_cam0_1232923267651064006.jpeg', 'host-a007_cam2_1231093057282654006.jpeg', 'host-a011_cam1_1235866718734517006.jpeg', 'host-a011_cam2_1233090577817605006.jpeg', 'host-a009_cam2_1237581211817740006.jpeg', 'host-a011_cam1_1236104048534517006.jpeg', 'host-a004_cam2_1234047752917652006.jpeg', 'host-a102_cam0_1241548687450000006.jpeg', 'host-a102_cam1_1241548687466660006.jpeg', 'host-a101_cam6_1241561161650000006.jpeg', 'host-a101_cam4_1241561161616660006.jpeg', 'host-a101_cam3_1241561161600000006.jpeg', 'host-a007_cam2_1233524855817643006.jpeg', 'host-a007_cam3_1233524855800869006.jpeg', 'host-a012_cam3_1235937151200913006.jpeg', 'host-a012_cam2_1235937151217630006.jpeg', 'host-a004_cam1_1233620261534300006.jpeg', 'host-a004_cam3_1233516153600897006.jpeg', 'host-a011_cam3_1232752786800995006.jpeg', 'host-a011_cam3_1233090579800995006.jpeg', 'host-a011_cam2_1235931135717605006.jpeg', 'host-a011_cam1_1235931135134517006.jpeg', 'host-a102_cam6_1242754970344000006.jpeg', 'host-a015_cam5_1236112602167453006.jpeg', 'host-a011_cam1_1235866728534517006.jpeg', 'host-a007_cam2_1233524859417643006.jpeg', 'host-a004_cam6_1233685315750948006.jpeg', 'host-a017_cam2_1236118893817560006.jpeg', 'host-a011_cam1_1233087919234517006.jpeg', 'host-a101_cam4_1241561160816660006.jpeg', 'host-a004_cam1_1233620260534300006.jpeg', 'host-a004_cam2_1233685324317652006.jpeg', 'host-a101_cam1_1241561165266660006.jpeg', 'host-a004_cam3_1232842381600897006.jpeg', 'host-a101_cam2_1242748842282768006.jpeg', 'host-a004_cam2_1232923277817652006.jpeg', 'host-a011_cam1_1233090571034517006.jpeg', 'host-a007_cam1_1233621269934286006.jpeg', 'host-a101_cam0_1242753256949008006.jpeg', 'host-a012_cam3_1235937151400913006.jpeg', 'host-a011_cam0_1232752780051142006.jpeg', 'host-a004_cam1_1233516151634300006.jpeg', 'host-a101_cam0_1242580013049215006.jpeg', 'host-a101_cam5_1242580013032353006.jpeg', 'host-a011_cam1_1236123640734517006.jpeg', 'host-a012_cam2_1235937150417630006.jpeg', 'host-a004_cam6_1234047746550948006.jpeg', 'host-a011_cam6_1236122352751145006.jpeg', 'host-a004_cam1_1233620268134300006.jpeg', 'host-a015_cam5_1236112613567453006.jpeg', 'host-a011_cam1_1232752790634517006.jpeg', 'host-a007_cam6_1231093044649446006.jpeg', 'host-a101_cam6_1241561161050000006.jpeg', 'host-a101_cam4_1241561161016660006.jpeg', 'host-a009_cam1_1237581215234345006.jpeg', 'host-a007_cam3_1233689807500869006.jpeg', 'host-a004_cam0_1232923268451064006.jpeg', 'host-a011_cam2_1233965315917605006.jpeg', 'host-a007_cam2_1233689806717643006.jpeg', 'host-a011_cam2_1232909951917605006.jpeg', 'host-a011_cam2_1233965318317605006.jpeg', 'host-a004_cam2_1233620272117652006.jpeg', 'host-a011_cam2_1235866712917605006.jpeg', 'host-a007_cam2_1233621270717643006.jpeg', 'host-a004_cam2_1233516153417652006.jpeg', 'host-a004_cam3_1233516153400897006.jpeg', 'host-a004_cam2_1233014853817652006.jpeg', 'host-a011_cam1_1235866710134517006.jpeg', 'host-a004_cam6_1233014865650948006.jpeg', 'host-a011_cam3_1235931136700995006.jpeg', 'host-a011_cam3_1236119844100995006.jpeg', 'host-a004_cam1_1233620268934300006.jpeg', 'host-a011_cam1_1236123642534517006.jpeg', 'host-a007_cam3_1233524855600869006.jpeg', 'host-a007_cam2_1233524855617643006.jpeg', 'host-a004_cam6_1232842189450948006.jpeg', 'host-a004_cam2_1233685324917652006.jpeg', 'host-a004_cam0_1232923269451064006.jpeg', 'host-a101_cam1_1242583751665579006.jpeg', 'host-a101_cam2_1242583753682382006.jpeg', 'host-a101_cam3_1242583753699289006.jpeg', 'host-a017_cam2_1236118894017560006.jpeg', 'host-a102_cam1_1241548688666660006.jpeg', 'host-a102_cam0_1241548688650000006.jpeg', 'host-a004_cam1_1233620262534300006.jpeg', 'host-a011_cam6_1235950318651145006.jpeg', 'host-a102_cam0_1241548687650000006.jpeg', 'host-a102_cam1_1241548687666660006.jpeg', 'host-a011_cam6_1232752563251145006.jpeg', 'host-a101_cam5_1242580009632323006.jpeg', 'host-a004_cam0_1232923267051064006.jpeg', 'host-a101_cam4_1242580011615935006.jpeg', 'host-a101_cam3_1242580011599571006.jpeg', 'host-a101_cam5_1242580014432338006.jpeg', 'host-a004_cam2_1233685320317652006.jpeg', 'host-a101_cam6_1240875148850000006.jpeg', 'host-a101_cam3_1242583754299438006.jpeg', 'host-a101_cam2_1242583754282501006.jpeg', 'host-a011_cam2_1232905787117605006.jpeg', 'host-a011_cam1_1233688943534517006.jpeg', 'host-a101_cam2_1242144910683330006.jpeg', 'host-a011_cam0_1235950313851142006.jpeg', 'host-a004_cam1_1233516152034300006.jpeg', 'host-a101_cam3_1242748993699482006.jpeg', 'host-a101_cam1_1242748993766335006.jpeg', 'host-a011_cam3_1233087922800995006.jpeg', 'host-a011_cam2_1233087922817605006.jpeg', 'host-a004_cam0_1232923273251064006.jpeg', 'host-a101_cam1_1242748985766335006.jpeg', 'host-a011_cam1_1232909945334517006.jpeg', 'host-a011_cam1_1233087920034517006.jpeg', 'host-a011_cam1_1232752543634517006.jpeg', 'host-a102_cam0_1241548688050000006.jpeg', 'host-a102_cam1_1241548688066660006.jpeg', 'host-a011_cam6_1235933801751145006.jpeg', 'host-a011_cam2_1233512844817605006.jpeg', 'host-a102_cam0_1241548691050000006.jpeg', 'host-a102_cam1_1241548691066660006.jpeg', 'host-a011_cam6_1235933802351145006.jpeg', 'host-a004_cam1_1233685319734300006.jpeg', 'host-a004_cam6_1233685319750948006.jpeg', 'host-a011_cam2_1236122360517605006.jpeg', 'host-a011_cam5_1232752465267719006.jpeg', 'host-a011_cam1_1233090569834517006.jpeg', 'host-a011_cam2_1233090576217605006.jpeg', 'host-a011_cam1_1233090576234517006.jpeg', 'host-a101_cam2_1242144910283330006.jpeg', 'host-a101_cam1_1242748986966335006.jpeg', 'host-a011_cam2_1233087935017605006.jpeg', 'host-a101_cam4_1242580014815964006.jpeg', 'host-a102_cam1_1241548686666660006.jpeg', 'host-a102_cam0_1241548686650000006.jpeg', 'host-a101_cam6_1242753253144000006.jpeg', 'host-a011_cam4_1232752485484485006.jpeg', 'host-a011_cam2_1232752553217605006.jpeg', 'host-a011_cam4_1232752553284485006.jpeg', 'host-a011_cam4_1232752486084485006.jpeg', 'host-a011_cam5_1232752486067719006.jpeg', 'host-a011_cam2_1232909951317605006.jpeg', 'host-a101_cam5_1241561160233330006.jpeg', 'host-a101_cam6_1241561160250000006.jpeg', 'host-a011_cam2_1236122360317605006.jpeg', 'host-a101_cam1_1242748838966275006.jpeg', 'host-a101_cam1_1242753258565283006.jpeg', 'host-a101_cam0_1242753258549141006.jpeg', 'host-a101_cam6_1242748830744000006.jpeg', 'host-a011_cam2_1233965436917605006.jpeg', 'host-a011_cam1_1235866718934517006.jpeg', 'host-a011_cam1_1233090572834517006.jpeg', 'host-a011_cam2_1233090572817605006.jpeg', 'host-a102_cam6_1242754971344000006.jpeg', 'host-a004_cam1_1233620264134300006.jpeg', 'host-a004_cam2_1233516153217652006.jpeg', 'host-a009_cam2_1237581216217740006.jpeg', 'host-a009_cam1_1237581216234345006.jpeg', 'host-a102_cam1_1242754974564972006.jpeg', 'host-a102_cam0_1242754974548934006.jpeg', 'host-a011_cam1_1232752558034517006.jpeg', 'host-a011_cam6_1232905805151145006.jpeg', 'host-a011_cam2_1232905805117605006.jpeg', 'host-a015_cam5_1236112613167453006.jpeg', 'host-a011_cam3_1232752787400995006.jpeg', 'host-a007_cam1_1230672871866021006.jpeg', 'host-a011_cam4_1232752485884485006.jpeg', 'host-a011_cam5_1232752485867719006.jpeg', 'host-a011_cam4_1232752567684485006.jpeg', 'host-a011_cam5_1232752479267719006.jpeg', 'host-a004_cam1_1233620262334300006.jpeg', 'host-a011_cam0_1232752789251142006.jpeg', 'host-a011_cam1_1232752789234517006.jpeg', 'host-a015_cam5_1236112605367453006.jpeg', 'host-a004_cam0_1232923267851064006.jpeg', 'host-a011_cam1_1232752789634517006.jpeg', 'host-a011_cam2_1236122360717605006.jpeg', 'host-a015_cam4_1236112616184076006.jpeg', 'host-a004_cam2_1232923278417652006.jpeg', 'host-a004_cam1_1233620264534300006.jpeg', 'host-a101_cam3_1242748992599482006.jpeg', 'host-a101_cam1_1242748992566335006.jpeg', 'host-a011_cam0_1235931133951142006.jpeg', 'host-a004_cam6_1234047744550948006.jpeg', 'host-a101_cam4_1242580010415949006.jpeg', 'host-a004_cam6_1234047745550948006.jpeg', 'host-a011_cam1_1233090575034517006.jpeg', 'host-a011_cam2_1233090575017605006.jpeg', 'host-a101_cam3_1242748818499186006.jpeg', 'host-a101_cam2_1242748818582160006.jpeg', 'host-a101_cam3_1241561166800000006.jpeg', 'host-a102_cam0_1241548690050000006.jpeg', 'host-a102_cam1_1241548690066660006.jpeg', 'host-a009_cam3_1237581213200965006.jpeg', 'host-a004_cam0_1233516151251064006.jpeg', 'host-a101_cam6_1240875148650000006.jpeg', 'host-a011_cam6_1235933803551145006.jpeg', 'host-a011_cam6_1233965430551145006.jpeg', 'host-a004_cam2_1232905198517652006.jpeg', 'host-a007_cam1_1233510601734286006.jpeg', 'host-a101_cam3_1241561167200000006.jpeg', 'host-a011_cam0_1232752549051142006.jpeg', 'host-a011_cam2_1233081028417605006.jpeg', 'host-a017_cam1_1236118887834294006.jpeg', 'host-a011_cam1_1235866709934517006.jpeg', 'host-a011_cam0_1234639319651142006.jpeg', 'host-a015_cam4_1236112616384076006.jpeg', 'host-a101_cam1_1242748986766335006.jpeg', 'host-a015_cam5_1236112603367453006.jpeg', 'host-a007_cam2_1233510602717643006.jpeg', 'host-a011_cam1_1233965315134517006.jpeg', 'host-a004_cam0_1232923268651064006.jpeg', 'host-a011_cam2_1233512850617605006.jpeg', 'host-a011_cam3_1232752560200995006.jpeg', 'host-a101_cam2_1242144910083330006.jpeg', 'host-a004_cam6_1233685318750948006.jpeg', 'host-a011_cam1_1232752789834517006.jpeg', 'host-a102_cam6_1242754971544000006.jpeg', 'host-a007_cam2_1233689806917643006.jpeg', 'host-a012_cam6_1235937145450881006.jpeg', 'host-a004_cam6_1233014864650948006.jpeg', 'host-a011_cam0_1232905796951142006.jpeg', 'host-a011_cam1_1232905796934517006.jpeg', 'host-a101_cam3_1242580015799541006.jpeg', 'host-a101_cam4_1242580015815964006.jpeg', 'host-a017_cam2_1236118888617560006.jpeg', 'host-a011_cam2_1235950315217605006.jpeg', 'host-a101_cam2_1240875154483330006.jpeg', 'host-a004_cam0_1232923273851064006.jpeg', 'host-a011_cam5_1233965312567719006.jpeg', 'host-a011_cam2_1235866720317605006.jpeg', 'host-a011_cam2_1232752792217605006.jpeg', 'host-a004_cam2_1232905199717652006.jpeg', 'host-a011_cam1_1233090574034517006.jpeg', 'host-a011_cam2_1233090574017605006.jpeg', 'host-a009_cam1_1237581230034345006.jpeg', 'host-a007_cam1_1233524852834286006.jpeg', 'host-a011_cam1_1233965314934517006.jpeg', 'host-a011_cam2_1232752559417605006.jpeg', 'host-a011_cam1_1235866728334517006.jpeg', 'host-a004_cam1_1233620269134300006.jpeg', 'host-a011_cam2_1232752544417605006.jpeg', 'host-a004_cam1_1233685323334300006.jpeg', 'host-a011_cam6_1235933800551145006.jpeg', 'host-a004_cam6_1234047747750948006.jpeg', 'host-a015_cam5_1236112613967453006.jpeg', 'host-a011_cam2_1236122366917605006.jpeg', 'host-a011_cam1_1234466280734517006.jpeg', 'host-a004_cam6_1232842189650948006.jpeg', 'host-a101_cam2_1242748841582738006.jpeg', 'host-a011_cam3_1233965318900995006.jpeg', 'host-a011_cam1_1236122365534517006.jpeg', 'host-a011_cam2_1234466284917605006.jpeg', 'host-a011_cam3_1233965438700995006.jpeg', 'host-a012_cam6_1235937146850881006.jpeg', 'host-a011_cam1_1232909950734517006.jpeg', 'host-a004_cam0_1232842185251064006.jpeg', 'host-a011_cam0_1236122357151142006.jpeg', 'host-a011_cam1_1236122357134517006.jpeg', 'host-a004_cam0_1232923266851064006.jpeg', 'host-a007_cam2_1233524854217643006.jpeg', 'host-a011_cam1_1232752557634517006.jpeg', 'host-a011_cam0_1232752557651142006.jpeg', 'host-a011_cam3_1232752557600995006.jpeg', 'host-a011_cam0_1234639317251142006.jpeg', 'host-a007_cam1_1233510601134286006.jpeg', 'host-a004_cam0_1234047751751064006.jpeg', 'host-a004_cam1_1234047751734300006.jpeg', 'host-a011_cam2_1233688944317605006.jpeg', 'host-a011_cam1_1233688944334517006.jpeg', 'host-a009_cam6_1236123734851064006.jpeg', 'host-a102_cam1_1241548689866660006.jpeg', 'host-a102_cam0_1241548689850000006.jpeg', 'host-a007_cam2_1231093057682654006.jpeg', 'host-a015_cam5_1236112614367453006.jpeg', 'host-a012_cam6_1235937146450881006.jpeg', 'host-a004_cam0_1232923272251064006.jpeg', 'host-a011_cam0_1236122356551142006.jpeg', 'host-a101_cam6_1241561156850000006.jpeg', 'host-a011_cam0_1235931134351142006.jpeg', 'host-a011_cam1_1235931134334517006.jpeg', 'host-a011_cam6_1236123636151145006.jpeg', 'host-a004_cam6_1234047746750948006.jpeg', 'host-a011_cam1_1232752790234517006.jpeg', 'host-a011_cam1_1233087925834517006.jpeg', 'host-a011_cam0_1233087925851142006.jpeg', 'host-a101_cam0_1242753257349023006.jpeg', 'host-a011_cam0_1236123639551142006.jpeg', 'host-a011_cam2_1232905798717605006.jpeg', 'host-a101_cam5_1242580007632323006.jpeg', 'host-a101_cam0_1242580007649215006.jpeg', 'host-a004_cam0_1232923272651064006.jpeg', 'host-a011_cam0_1232752782051142006.jpeg', 'host-a011_cam0_1232752780651142006.jpeg', 'host-a011_cam1_1236038921234517006.jpeg', 'host-a012_cam2_1235937152217630006.jpeg', 'host-a101_cam1_1242583751865549006.jpeg', 'host-a011_cam2_1234466284717605006.jpeg', 'host-a007_cam6_1233079637850905006.jpeg', 'host-a011_cam4_1232752480084485006.jpeg', 'host-a011_cam0_1232752781851142006.jpeg', 'host-a101_cam1_1242748837766260006.jpeg', 'host-a101_cam0_1242748837749526006.jpeg', 'host-a011_cam3_1233087929000995006.jpeg', 'host-a004_cam1_1233516152234300006.jpeg', 'host-a101_cam0_1242753257749097006.jpeg', 'host-a101_cam1_1242753257764942006.jpeg', 'host-a101_cam0_1241561172850000006.jpeg', 'host-a101_cam1_1242583752065638006.jpeg', 'host-a101_cam2_1242583752082338006.jpeg', 'host-a011_cam4_1232752485084485006.jpeg', 'host-a011_cam3_1232905798900995006.jpeg', 'host-a011_cam2_1232905798917605006.jpeg', 'host-a004_cam3_1232905200100897006.jpeg', 'host-a004_cam1_1232905220534300006.jpeg', 'host-a011_cam1_1233688950734517006.jpeg', 'host-a011_cam1_1236122359534517006.jpeg', 'host-a011_cam3_1236122359500995006.jpeg', 'host-a011_cam2_1236122359517605006.jpeg', 'host-a101_cam0_1242748998349571006.jpeg', 'host-a011_cam1_1233688950934517006.jpeg', 'host-a011_cam1_1233090573834517006.jpeg', 'host-a011_cam2_1233090573817605006.jpeg', 'host-a011_cam2_1235931136317605006.jpeg', 'host-a101_cam1_1242753258365268006.jpeg', 'host-a101_cam0_1242753258349126006.jpeg', 'host-a101_cam1_1242583749864172006.jpeg', 'host-a101_cam0_1242583749848949006.jpeg', 'host-a004_cam0_1232923266251064006.jpeg', 'host-a011_cam3_1232752560400995006.jpeg', 'host-a011_cam3_1233512851400995006.jpeg', 'host-a101_cam2_1242753259981642006.jpeg', 'host-a007_cam1_1233079629634286006.jpeg', 'host-a004_cam1_1233014855034300006.jpeg', 'host-a004_cam2_1233014855017652006.jpeg', 'host-a101_cam3_1242748818299141006.jpeg', 'host-a101_cam2_1242748818382145006.jpeg', 'host-a011_cam3_1232905799300995006.jpeg', 'host-a011_cam0_1232752783051142006.jpeg', 'host-a011_cam1_1233965314534517006.jpeg', 'host-a004_cam2_1233516152617652006.jpeg', 'host-a009_cam1_1236123739834345006.jpeg', 'host-a007_cam2_1233510602917643006.jpeg', 'host-a101_cam3_1242748993599482006.jpeg', 'host-a101_cam1_1242748993566335006.jpeg', 'host-a101_cam3_1242748994199482006.jpeg', 'host-a101_cam2_1242748994182545006.jpeg', 'host-a101_cam1_1242748994166335006.jpeg', 'host-a009_cam0_1236123739251174006.jpeg', 'host-a011_cam6_1233087942251145006.jpeg', 'host-a011_cam6_1232752562651145006.jpeg', 'host-a101_cam1_1242748836966290006.jpeg', 'host-a101_cam0_1242748836949526006.jpeg', 'host-a011_cam3_1236122368100995006.jpeg', 'host-a011_cam6_1236122368151145006.jpeg', 'host-a011_cam1_1233090570034517006.jpeg', 'host-a011_cam0_1234639319451142006.jpeg', 'host-a004_cam2_1232905213517652006.jpeg', 'host-a007_cam1_1233689806334286006.jpeg', 'host-a011_cam3_1232752553600995006.jpeg', 'host-a011_cam2_1232752553617605006.jpeg', 'host-a101_cam5_1242580012832353006.jpeg', 'host-a101_cam0_1242580012849215006.jpeg', 'host-a007_cam6_1233079626450905006.jpeg', 'host-a007_cam1_1233079626434286006.jpeg', 'host-a004_cam1_1232905221934300006.jpeg', 'host-a011_cam0_1232905803551142006.jpeg', 'host-a004_cam1_1233685324134300006.jpeg', 'host-a011_cam2_1233090573217605006.jpeg', 'host-a011_cam1_1233090573234517006.jpeg', 'host-a102_cam6_1242754969344000006.jpeg', 'host-a011_cam1_1233965315334517006.jpeg', 'host-a011_cam2_1232752797417605006.jpeg', 'host-a011_cam6_1235866723551145006.jpeg', 'host-a011_cam0_1233087924651142006.jpeg', 'host-a011_cam3_1233087924600995006.jpeg', 'host-a017_cam6_1236118890050938006.jpeg', 'host-a007_cam2_1231093060682654006.jpeg', 'host-a004_cam6_1234047746950948006.jpeg', 'host-a007_cam2_1230672872482654006.jpeg', 'host-a009_cam2_1236123741217740006.jpeg', 'host-a011_cam1_1232752791034517006.jpeg', 'host-a101_cam4_1241561161216660006.jpeg', 'host-a101_cam6_1241561161250000006.jpeg', 'host-a011_cam2_1234466283517605006.jpeg', 'host-a101_cam1_1242748986566335006.jpeg', 'host-a101_cam5_1242580009832323006.jpeg', 'host-a007_cam3_1233689807700869006.jpeg', 'host-a101_cam4_1242580015415964006.jpeg', 'host-a011_cam3_1236122359700995006.jpeg', 'host-a011_cam1_1236122359734517006.jpeg', 'host-a011_cam1_1232752551034517006.jpeg', 'host-a011_cam2_1232752791417605006.jpeg', 'host-a004_cam6_1233685318550948006.jpeg', 'host-a004_cam1_1233620270534300006.jpeg', 'host-a011_cam2_1233965437117605006.jpeg', 'host-a101_cam3_1241561161800000006.jpeg', 'host-a101_cam4_1241561161816660006.jpeg', 'host-a101_cam3_1242748990799482006.jpeg', 'host-a101_cam1_1242748990766335006.jpeg', 'host-a011_cam2_1235866729117605006.jpeg', 'host-a101_cam5_1242748997532708006.jpeg', 'host-a011_cam1_1236038921834517006.jpeg', 'host-a011_cam0_1232752557051142006.jpeg', 'host-a011_cam2_1232752557017605006.jpeg', 'host-a009_cam0_1236123739051174006.jpeg', 'host-a004_cam6_1234047748150948006.jpeg', 'host-a011_cam1_1232905803934517006.jpeg', 'host-a011_cam1_1233688942534517006.jpeg', 'host-a011_cam2_1233688942517605006.jpeg', 'host-a011_cam6_1236122367351145006.jpeg', 'host-a011_cam2_1236122367317605006.jpeg', 'host-a004_cam2_1234047753517652006.jpeg', 'host-a011_cam0_1233087925251142006.jpeg', 'host-a011_cam1_1233087925234517006.jpeg', 'host-a101_cam1_1242748840166246006.jpeg', 'host-a017_cam2_1236119802617560006.jpeg', 'host-a101_cam1_1242753259365090006.jpeg', 'host-a101_cam2_1242753259381582006.jpeg', 'host-a011_cam1_1233090569634517006.jpeg', 'host-a012_cam1_1235937150034261006.jpeg', 'host-a004_cam1_1233620268334300006.jpeg', 'host-a007_cam2_1233524857017643006.jpeg', 'host-a011_cam0_1232752781251142006.jpeg', 'host-a101_cam4_1242580014615964006.jpeg', 'host-a011_cam1_1233081027434517006.jpeg', 'host-a101_cam5_1242580014232338006.jpeg', 'host-a011_cam5_1232752551467719006.jpeg', 'host-a011_cam1_1232752551434517006.jpeg', 'host-a004_cam3_1232923279200897006.jpeg', 'host-a101_cam6_1241561157250000006.jpeg', 'host-a011_cam3_1233688947300995006.jpeg', 'host-a004_cam0_1232905212351064006.jpeg', 'host-a011_cam2_1232905798317605006.jpeg', 'host-a011_cam2_1232752559017605006.jpeg', 'host-a004_cam6_1233685316150948006.jpeg', 'host-a011_cam1_1236104047334517006.jpeg', 'host-a004_cam2_1235947082117652006.jpeg', 'host-a009_cam2_1236123740817740006.jpeg', 'host-a011_cam1_1233090570834517006.jpeg', 'host-a101_cam0_1241216097550000006.jpeg', 'host-a101_cam1_1241216097566660006.jpeg', 'host-a007_cam1_1233510601934286006.jpeg', 'host-a011_cam1_1233090568834517006.jpeg', 'host-a011_cam3_1233090579400995006.jpeg', 'host-a011_cam2_1233090579417605006.jpeg', 'host-a011_cam2_1234466283317605006.jpeg', 'host-a004_cam6_1233685318150948006.jpeg', 'host-a011_cam0_1232905803351142006.jpeg', 'host-a007_cam2_1233524859817643006.jpeg', 'host-a011_cam2_1232909951717605006.jpeg', 'host-a102_cam1_1241548692066660006.jpeg', 'host-a102_cam0_1241548692050000006.jpeg', 'host-a011_cam1_1233081027634517006.jpeg', 'host-a011_cam1_1236122371534517006.jpeg', 'host-a102_cam2_1242754976381760006.jpeg', 'host-a011_cam6_1232752567251145006.jpeg', 'host-a011_cam4_1232752567284485006.jpeg', 'host-a004_cam2_1233685324517652006.jpeg', 'host-a007_cam3_1233079636400869006.jpeg', 'host-a007_cam2_1233079636417643006.jpeg', 'host-a101_cam1_1242748836366275006.jpeg', 'host-a101_cam0_1242748836349526006.jpeg', 'host-a011_cam6_1236122355751145006.jpeg', 'host-a004_cam6_1234047743950948006.jpeg', 'host-a011_cam2_1233512844617605006.jpeg', 'host-a004_cam6_1233014865450948006.jpeg', 'host-a102_cam2_1241548694683330006.jpeg', 'host-a011_cam0_1235931134151142006.jpeg', 'host-a011_cam1_1236123640534517006.jpeg', 'host-a011_cam1_1234466280334517006.jpeg', 'host-a011_cam1_1233090571834517006.jpeg', 'host-a011_cam2_1233090571817605006.jpeg', 'host-a101_cam1_1242583751465520006.jpeg', 'host-a011_cam2_1232752552817605006.jpeg', 'host-a011_cam4_1232752552884485006.jpeg', 'host-a011_cam1_1236122373134517006.jpeg', 'host-a011_cam2_1236122373117605006.jpeg', 'host-a101_cam6_1241561155250000006.jpeg', 'host-a009_cam0_1236123739651174006.jpeg', 'host-a007_cam6_1233529710150905006.jpeg', 'host-a011_cam3_1233087921800995006.jpeg', 'host-a011_cam1_1233087921834517006.jpeg', 'host-a101_cam3_1242753260998949006.jpeg', 'host-a101_cam2_1242748818782175006.jpeg', 'host-a004_cam1_1233620266734300006.jpeg', 'host-a102_cam1_1241548691866660006.jpeg', 'host-a102_cam0_1241548691850000006.jpeg', 'host-a101_cam3_1242753261198963006.jpeg', 'host-a009_cam6_1236123742151064006.jpeg', 'host-a009_cam3_1236123742100965006.jpeg', 'host-a011_cam6_1233965430351145006.jpeg', 'host-a101_cam6_1240875147850000006.jpeg', 'host-a004_cam2_1233620272517652006.jpeg', 'host-a011_cam0_1232752789051142006.jpeg', 'host-a101_cam1_1242583750665016006.jpeg', 'host-a101_cam0_1242583750648949006.jpeg', 'host-a004_cam1_1232905213334300006.jpeg', 'host-a015_cam5_1236112604967453006.jpeg', 'host-a101_cam3_1241216099500000006.jpeg', 'host-a101_cam6_1242753251944000006.jpeg', 'host-a011_cam2_1232905787317605006.jpeg', 'host-a004_cam1_1233014852634300006.jpeg', 'host-a011_cam1_1233090572034517006.jpeg', 'host-a011_cam2_1233090572017605006.jpeg', 'host-a101_cam1_1242583751265342006.jpeg', 'host-a011_cam1_1235931135334517006.jpeg', 'host-a011_cam3_1232752553800995006.jpeg', 'host-a004_cam1_1232923287434300006.jpeg', 'host-a007_cam0_1233524853050897006.jpeg', 'host-a101_cam3_1242748989299482006.jpeg', 'host-a101_cam1_1242748989366335006.jpeg', 'host-a101_cam1_1242748996166349006.jpeg', 'host-a011_cam6_1235933802951145006.jpeg', 'host-a102_cam0_1241548690450000006.jpeg', 'host-a102_cam1_1241548690466660006.jpeg', 'host-a011_cam2_1235866720517605006.jpeg', 'host-a004_cam1_1235947105934300006.jpeg', 'host-a011_cam0_1233087924451142006.jpeg', 'host-a011_cam3_1233087924400995006.jpeg', 'host-a101_cam3_1242748993999482006.jpeg', 'host-a101_cam1_1242748993966335006.jpeg', 'host-a004_cam6_1233685315350948006.jpeg', 'host-a015_cam5_1236112615167453006.jpeg', 'host-a015_cam4_1236112615184076006.jpeg', 'host-a017_cam1_1236119800434294006.jpeg', 'host-a011_cam3_1236122361900995006.jpeg', 'host-a011_cam0_1232752782651142006.jpeg', 'host-a007_cam2_1233079630617643006.jpeg', 'host-a101_cam1_1242748836166260006.jpeg', 'host-a011_cam1_1235950298034517006.jpeg', 'host-a101_cam0_1240875152650000006.jpeg', 'host-a007_cam6_1233689814750905006.jpeg', 'host-a102_cam2_1242754975981745006.jpeg', 'host-a101_cam6_1242753253944000006.jpeg', 'host-a004_cam6_1233014864850948006.jpeg', 'host-a007_cam2_1233524858017643006.jpeg', 'host-a101_cam0_1241561172450000006.jpeg', 'host-a004_cam0_1232923271051064006.jpeg', 'host-a011_cam2_1233965316917605006.jpeg', 'host-a011_cam2_1236123640917605006.jpeg', 'host-a011_cam2_1236122355517605006.jpeg', 'host-a011_cam3_1236122355500995006.jpeg', 'host-a009_cam6_1236123734251064006.jpeg', 'host-a101_cam0_1241216097150000006.jpeg', 'host-a004_cam1_1233620260934300006.jpeg', 'host-a011_cam2_1233090577417605006.jpeg', 'host-a011_cam1_1233090577434517006.jpeg', 'host-a011_cam1_1232909950134517006.jpeg', 'host-a004_cam0_1233014862451064006.jpeg', 'host-a004_cam0_1232842378851064006.jpeg', 'host-a007_cam2_1231093050282654006.jpeg', 'host-a011_cam2_1233965318117605006.jpeg', 'host-a011_cam0_1232752780451142006.jpeg', 'host-a102_cam2_1242754975781730006.jpeg', 'host-a007_cam1_1233529713334286006.jpeg', 'host-a101_cam1_1241216097966660006.jpeg', 'host-a011_cam1_1236122353534517006.jpeg', 'host-a011_cam0_1236122353551142006.jpeg', 'host-a011_cam6_1236122353551145006.jpeg', 'host-a011_cam6_1233512840851145006.jpeg', 'host-a009_cam0_1237581209851174006.jpeg', 'host-a011_cam3_1233965318500995006.jpeg', 'host-a011_cam2_1233965318517605006.jpeg', 'host-a011_cam1_1234466282734517006.jpeg', 'host-a007_cam2_1233524854417643006.jpeg', 'host-a101_cam1_1242748817565801006.jpeg', 'host-a004_cam0_1232923273051064006.jpeg', 'host-a101_cam2_1242748817982101006.jpeg', 'host-a011_cam2_1236093963717605006.jpeg', 'host-a012_cam1_1235937151834261006.jpeg', 'host-a004_cam2_1232923288217652006.jpeg', 'host-a101_cam4_1242580015015964006.jpeg', 'host-a011_cam2_1233512844417605006.jpeg', 'host-a004_cam1_1233620270334300006.jpeg', 'host-a011_cam2_1233090578617605006.jpeg', 'host-a012_cam2_1235937150617630006.jpeg', 'host-a101_cam5_1242580009032323006.jpeg', 'host-a007_cam1_1233510601334286006.jpeg', 'host-a004_cam1_1233014853234300006.jpeg', 'host-a011_cam1_1236104048134517006.jpeg', 'host-a017_cam2_1236118894217560006.jpeg', 'host-a011_cam1_1233512843834517006.jpeg', 'host-a102_cam0_1242754973948934006.jpeg', 'host-a101_cam3_1242583754699541006.jpeg', 'host-a011_cam2_1235931135517605006.jpeg', 'host-a011_cam3_1232752544800995006.jpeg', 'host-a009_cam6_1236123735251064006.jpeg', 'host-a101_cam3_1242748989499482006.jpeg', 'host-a101_cam1_1242748989566335006.jpeg', 'host-a007_cam2_1233529714717643006.jpeg', 'host-a017_cam3_1236118894600918006.jpeg', 'host-a011_cam0_1232752483051142006.jpeg', 'host-a011_cam5_1232752483067719006.jpeg', 'host-a011_cam1_1236122372134517006.jpeg', 'host-a011_cam0_1236122372151142006.jpeg', 'host-a101_cam6_1242753252944000006.jpeg', 'host-a004_cam2_1232842186617652006.jpeg', 'host-a011_cam3_1233087924000995006.jpeg', 'host-a011_cam1_1233090576634517006.jpeg', 'host-a011_cam2_1233090576617605006.jpeg', 'host-a007_cam2_1233689806517643006.jpeg', 'host-a004_cam1_1233620265134300006.jpeg', 'host-a009_cam1_1237581229634345006.jpeg', 'host-a009_cam0_1237581229651174006.jpeg', 'host-a011_cam1_1236122365334517006.jpeg', 'host-a004_cam0_1232923272051064006.jpeg', 'host-a011_cam0_1232752479051142006.jpeg', 'host-a011_cam0_1233087924251142006.jpeg', 'host-a011_cam3_1233087924200995006.jpeg', 'host-a011_cam2_1233087935617605006.jpeg', 'host-a004_cam1_1234047752334300006.jpeg', 'host-a011_cam6_1235931130751145006.jpeg', 'host-a004_cam2_1233014864017652006.jpeg', 'host-a004_cam6_1233014864050948006.jpeg', 'host-a101_cam2_1242748840982723006.jpeg', 'host-a011_cam2_1233081028017605006.jpeg', 'host-a004_cam2_1233620273717652006.jpeg', 'host-a004_cam3_1233620273700897006.jpeg', 'host-a101_cam1_1242748986366335006.jpeg', 'host-a011_cam2_1236122359117605006.jpeg', 'host-a011_cam3_1236122359100995006.jpeg', 'host-a011_cam1_1236122359134517006.jpeg', 'host-a007_cam3_1233510603100869006.jpeg', 'host-a007_cam2_1233510603117643006.jpeg', 'host-a011_cam3_1233087922400995006.jpeg', 'host-a011_cam1_1233087922434517006.jpeg', 'host-a011_cam6_1232752567051145006.jpeg', 'host-a011_cam5_1232752567067719006.jpeg', 'host-a011_cam4_1232752567084485006.jpeg', 'host-a017_cam1_1236118888034294006.jpeg', 'host-a011_cam2_1233512845017605006.jpeg', 'host-a011_cam6_1236122367951145006.jpeg', 'host-a011_cam3_1236122367900995006.jpeg', 'host-a004_cam1_1232905212734300006.jpeg', 'host-a004_cam2_1233620271317652006.jpeg', 'host-a004_cam1_1233620271334300006.jpeg', 'host-a102_cam6_1242754969144000006.jpeg', 'host-a101_cam1_1241561165466660006.jpeg', 'host-a101_cam2_1241561165483330006.jpeg', 'host-a101_cam1_1242748989766335006.jpeg', 'host-a101_cam3_1242748989799482006.jpeg', 'host-a011_cam6_1236038916251145006.jpeg', 'host-a101_cam0_1241561164250000006.jpeg', 'host-a011_cam2_1233688951317605006.jpeg', 'host-a101_cam1_1242748988366335006.jpeg', 'host-a011_cam6_1232905806951145006.jpeg', 'host-a007_cam2_1233524859217643006.jpeg', 'host-a101_cam6_1242748830344000006.jpeg', 'host-a011_cam1_1235866727734517006.jpeg', 'host-a011_cam1_1233688943734517006.jpeg', 'host-a009_cam1_1237581215034345006.jpeg', 'host-a004_cam1_1232923277034300006.jpeg', 'host-a011_cam3_1232909952500995006.jpeg', 'host-a007_cam6_1233079638250905006.jpeg', 'host-a101_cam6_1241561155450000006.jpeg', 'host-a009_cam3_1237581213000965006.jpeg', 'host-a011_cam2_1232752796817605006.jpeg', 'host-a101_cam3_1242748992299482006.jpeg', 'host-a101_cam1_1242748992366335006.jpeg', 'host-a011_cam2_1236122373917605006.jpeg', 'host-a004_cam1_1233620264734300006.jpeg', 'host-a012_cam2_1235937150817630006.jpeg', 'host-a007_cam3_1233524856400869006.jpeg', 'host-a011_cam5_1232752465867719006.jpeg', 'host-a011_cam4_1232752465884485006.jpeg', 'host-a011_cam3_1235950299400995006.jpeg', 'host-a011_cam2_1235950299417605006.jpeg', 'host-a011_cam4_1232752479884485006.jpeg', 'host-a011_cam1_1232752549434517006.jpeg', 'host-a011_cam3_1233090580000995006.jpeg', 'host-a004_cam2_1233014856017652006.jpeg', 'host-a017_cam3_1236118889200918006.jpeg', 'host-a011_cam0_1233087924851142006.jpeg', 'host-a011_cam3_1233087924800995006.jpeg', 'host-a011_cam0_1236122372551142006.jpeg', 'host-a011_cam1_1236122372534517006.jpeg', 'host-a011_cam6_1233965429351145006.jpeg', 'host-a015_cam5_1236112614567453006.jpeg', 'host-a011_cam6_1233965430151145006.jpeg', 'host-a101_cam1_1242748817365846006.jpeg', 'host-a011_cam1_1233087920634517006.jpeg', 'host-a011_cam1_1236104047534517006.jpeg', 'host-a101_cam0_1242753257149008006.jpeg', 'host-a101_cam3_1241216099700000006.jpeg', 'host-a007_cam0_1233079641850897006.jpeg', 'host-a102_cam0_1241548688250000006.jpeg', 'host-a102_cam1_1241548688266660006.jpeg', 'host-a009_cam2_1237581216617740006.jpeg', 'host-a007_cam0_1233524853450897006.jpeg', 'host-a007_cam1_1233689805334286006.jpeg', 'host-a011_cam1_1232752555434517006.jpeg', 'host-a011_cam6_1236123637951145006.jpeg', 'host-a004_cam6_1233685315950948006.jpeg', 'host-a011_cam6_1233965429151145006.jpeg', 'host-a007_cam2_1233079630817643006.jpeg', 'host-a011_cam2_1234466284317605006.jpeg', 'host-a009_cam0_1237581209651174006.jpeg', 'host-a015_cam5_1236112603567453006.jpeg', 'host-a004_cam3_1234047753900897006.jpeg', 'host-a011_cam6_1236122352951145006.jpeg', 'host-a007_cam2_1231093061082654006.jpeg', 'host-a011_cam2_1232752791617605006.jpeg', 'host-a004_cam0_1232923266451064006.jpeg', 'host-a011_cam0_1234639321151142006.jpeg', 'host-a007_cam1_1233621270334286006.jpeg', 'host-a101_cam6_1242748830144000006.jpeg', 'host-a007_cam0_1230672871049429006.jpeg', 'host-a101_cam1_1242748985966335006.jpeg', 'host-a007_cam1_1233079627034286006.jpeg', 'host-a007_cam2_1233079627017643006.jpeg', 'host-a101_cam2_1240875154283330006.jpeg', 'host-a101_cam2_1240875153483330006.jpeg', 'host-a101_cam0_1240875153450000006.jpeg', 'host-a011_cam0_1232752783251142006.jpeg', 'host-a004_cam6_1234047743550948006.jpeg', 'host-a011_cam2_1235866729317605006.jpeg', 'host-a011_cam0_1236122372951142006.jpeg', 'host-a011_cam2_1236122372917605006.jpeg', 'host-a011_cam3_1233965438300995006.jpeg', 'host-a004_cam1_1233620266334300006.jpeg', 'host-a011_cam4_1232752466284485006.jpeg', 'host-a007_cam2_1233524859617643006.jpeg', 'host-a004_cam2_1233685324717652006.jpeg', 'host-a101_cam0_1241561172950000006.jpeg', 'host-a009_cam2_1237581230817740006.jpeg', 'host-a011_cam3_1232909948500995006.jpeg', 'host-a004_cam2_1232923287817652006.jpeg', 'host-a011_cam3_1236122362100995006.jpeg', 'host-a007_cam1_1233529713134286006.jpeg', 'host-a004_cam1_1233620270734300006.jpeg', 'host-a101_cam6_1242753253344000006.jpeg', 'host-a004_cam1_1233620260734300006.jpeg', 'host-a011_cam3_1233512851200995006.jpeg', 'host-a011_cam1_1232752549834517006.jpeg', 'host-a011_cam1_1232909950334517006.jpeg', 'host-a007_cam0_1233510600350897006.jpeg', 'host-a004_cam1_1233620261734300006.jpeg', 'host-a007_cam2_1230672872282654006.jpeg', 'host-a004_cam0_1232923270651064006.jpeg', 'host-a101_cam5_1242580008032323006.jpeg', 'host-a101_cam0_1242580008049200006.jpeg', 'host-a102_cam1_1241548691266660006.jpeg', 'host-a102_cam0_1241548691250000006.jpeg', 'host-a011_cam0_1235950314051142006.jpeg', 'host-a101_cam2_1242748840382708006.jpeg', 'host-a101_cam1_1242748840366260006.jpeg', 'host-a007_cam3_1230672873199360006.jpeg', 'host-a102_cam6_1242754969744000006.jpeg', 'host-a011_cam5_1233965312967719006.jpeg', 'host-a011_cam1_1236122366334517006.jpeg', 'host-a011_cam1_1233087918634517006.jpeg', 'host-a011_cam1_1233090567434517006.jpeg', 'host-a101_cam3_1242580011799571006.jpeg', 'host-a101_cam4_1242580011815935006.jpeg', 'host-a004_cam1_1233620261134300006.jpeg', 'host-a101_cam0_1242580008249200006.jpeg', 'host-a101_cam5_1242580008232323006.jpeg', 'host-a011_cam1_1232909949734517006.jpeg', 'host-a011_cam0_1232909949751142006.jpeg', 'host-a009_cam6_1236123736251064006.jpeg', 'host-a009_cam1_1237581211234345006.jpeg', 'host-a004_cam2_1232905199317652006.jpeg', 'host-a011_cam0_1232752781651142006.jpeg', 'host-a011_cam0_1232905796751142006.jpeg', 'host-a011_cam6_1233965428351145006.jpeg', 'host-a004_cam2_1234047753317652006.jpeg', 'host-a004_cam2_1232905214317652006.jpeg', 'host-a011_cam1_1233965315734517006.jpeg', 'host-a011_cam0_1234639320851142006.jpeg', 'host-a007_cam2_1230672872682654006.jpeg', 'host-a102_cam1_1242754974964972006.jpeg', 'host-a011_cam1_1235950314834517006.jpeg', 'host-a015_cam4_1235423698284076006.jpeg', 'host-a015_cam3_1235423698200936006.jpeg', 'host-a011_cam2_1233090572617605006.jpeg', 'host-a011_cam1_1233090572634517006.jpeg', 'host-a101_cam3_1242580015599541006.jpeg', 'host-a101_cam4_1242580015615964006.jpeg', 'host-a102_cam6_1242754968944000006.jpeg', 'host-a004_cam1_1233014853634300006.jpeg', 'host-a011_cam2_1236119843517605006.jpeg', 'host-a009_cam1_1237581215434345006.jpeg', 'host-a004_cam6_1234047745750948006.jpeg', 'host-a011_cam1_1232905803734517006.jpeg', 'host-a004_cam6_1232905208550948006.jpeg', 'host-a011_cam0_1232752778251142006.jpeg', 'host-a011_cam0_1233965435351142006.jpeg', 'host-a101_cam3_1242583754499497006.jpeg', 'host-a101_cam2_1242583754482590006.jpeg', 'host-a011_cam3_1236093962700995006.jpeg', 'host-a004_cam6_1234047745950948006.jpeg', 'host-a102_cam1_1241548687266660006.jpeg', 'host-a102_cam0_1241548687250000006.jpeg', 'host-a101_cam2_1242144909883330006.jpeg', 'host-a102_cam0_1242754974148934006.jpeg', 'host-a011_cam1_1235950322034517006.jpeg', 'host-a102_cam2_1241548695083330006.jpeg', 'host-a011_cam0_1232752548851142006.jpeg', 'host-a102_cam2_1242754976181745006.jpeg', 'host-a011_cam1_1232909944934517006.jpeg', 'host-a011_cam2_1232905798117605006.jpeg', 'host-a011_cam1_1233965436534517006.jpeg', 'host-a007_cam1_1233079626834286006.jpeg', 'host-a004_cam0_1232923274251064006.jpeg', 'host-a011_cam2_1234466284117605006.jpeg', 'host-a011_cam2_1236123643517605006.jpeg', 'host-a004_cam6_1232905209550948006.jpeg', 'host-a004_cam6_1233014866050948006.jpeg', 'host-a004_cam6_1233014864250948006.jpeg', 'host-a004_cam2_1233014864217652006.jpeg', 'host-a011_cam1_1233090574834517006.jpeg', 'host-a011_cam2_1233090574817605006.jpeg', 'host-a101_cam1_1242748838766275006.jpeg', 'host-a011_cam0_1232752779651142006.jpeg', 'host-a011_cam1_1233688943334517006.jpeg', 'host-a009_cam2_1237581212217740006.jpeg', 'host-a102_cam0_1241548687050000006.jpeg', 'host-a102_cam1_1241548687066660006.jpeg', 'host-a011_cam0_1233512849251142006.jpeg', 'host-a101_cam1_1242753259165149006.jpeg', 'host-a004_cam2_1232905198117652006.jpeg', 'host-a007_cam0_1233524852250897006.jpeg', 'host-a004_cam6_1234047747950948006.jpeg', 'host-a101_cam6_1240875149450000006.jpeg', 'host-a015_cam4_1236112615584076006.jpeg', 'host-a011_cam2_1232752557417605006.jpeg', 'host-a011_cam3_1232752557400995006.jpeg', 'host-a011_cam0_1232752557451142006.jpeg', 'host-a011_cam2_1232909946717605006.jpeg', 'host-a004_cam1_1233620271134300006.jpeg', 'host-a011_cam4_1233965313784485006.jpeg', 'host-a007_cam2_1233079631417643006.jpeg', 'host-a011_cam1_1233087918834517006.jpeg', 'host-a011_cam1_1236123640334517006.jpeg', 'host-a011_cam5_1232752483267719006.jpeg', 'host-a004_cam0_1232923271651064006.jpeg', 'host-a004_cam0_1233014862651064006.jpeg', 'host-a004_cam1_1232905221534300006.jpeg', 'host-a004_cam6_1234047746350948006.jpeg', 'host-a011_cam1_1233087934834517006.jpeg', 'host-a011_cam2_1233090579217605006.jpeg', 'host-a011_cam3_1233090579200995006.jpeg', 'host-a102_cam2_1241548693883330006.jpeg', 'host-a102_cam1_1241548693866660006.jpeg', 'host-a011_cam2_1233688945917605006.jpeg', 'host-a011_cam3_1233688945900995006.jpeg', 'host-a004_cam1_1232842379234300006.jpeg', 'host-a009_cam1_1236123740434345006.jpeg', 'host-a017_cam2_1236119802817560006.jpeg', 'host-a004_cam1_1233516151834300006.jpeg', 'host-a012_cam1_1235937151634261006.jpeg', 'host-a101_cam2_1242748841782753006.jpeg', 'host-a007_cam6_1231093044849446006.jpeg', 'host-a011_cam3_1233965438100995006.jpeg', 'host-a004_cam1_1233620265334300006.jpeg', 'host-a007_cam2_1233510602117643006.jpeg', 'host-a004_cam1_1233620262934300006.jpeg', 'host-a007_cam1_1231093049466021006.jpeg', 'host-a009_cam0_1237581210251174006.jpeg', 'host-a011_cam2_1233688951917605006.jpeg', 'host-a009_cam3_1237581213400965006.jpeg', 'host-a011_cam0_1232909944351142006.jpeg', 'host-a011_cam0_1232752788251142006.jpeg', 'host-a004_cam2_1233620273317652006.jpeg', 'host-a004_cam3_1233620273300897006.jpeg', 'host-a102_cam1_1241548693066660006.jpeg', 'host-a102_cam0_1241548693050000006.jpeg', 'host-a009_cam1_1237581229834345006.jpeg', 'host-a007_cam2_1233524858617643006.jpeg', 'host-a007_cam2_1233524854817643006.jpeg', 'host-a009_cam2_1237581231017740006.jpeg', 'host-a009_cam2_1237581212617740006.jpeg', 'host-a004_cam1_1232905220934300006.jpeg', 'host-a011_cam5_1232752482867719006.jpeg', 'host-a011_cam0_1232752482851142006.jpeg', 'host-a011_cam3_1232752560600995006.jpeg', 'host-a011_cam1_1233087918434517006.jpeg', 'host-a011_cam1_1235866710734517006.jpeg', 'host-a007_cam1_1233510600934286006.jpeg', 'host-a101_cam3_1242748989999482006.jpeg', 'host-a101_cam1_1242748989966335006.jpeg', 'host-a011_cam1_1232752556434517006.jpeg', 'host-a102_cam1_1241548692666660006.jpeg', 'host-a102_cam0_1241548692650000006.jpeg', 'host-a015_cam4_1235423697084076006.jpeg', 'host-a011_cam1_1235866727934517006.jpeg', 'host-a011_cam1_1233087925434517006.jpeg', 'host-a101_cam1_1242748839966246006.jpeg', 'host-a011_cam3_1232905805700995006.jpeg', 'host-a011_cam2_1232905805717605006.jpeg', 'host-a011_cam6_1232905805751145006.jpeg', 'host-a011_cam0_1236122356951142006.jpeg', 'host-a004_cam6_1232905208750948006.jpeg', 'host-a011_cam2_1236123641117605006.jpeg', 'host-a101_cam0_1242749000349408006.jpeg', 'host-a011_cam1_1236119842334517006.jpeg', 'host-a007_cam1_1231093049266021006.jpeg', 'host-a102_cam0_1241548686850000006.jpeg', 'host-a102_cam1_1241548686866660006.jpeg', 'host-a011_cam5_1232752484067719006.jpeg', 'host-a102_cam0_1241548691450000006.jpeg', 'host-a102_cam1_1241548691466660006.jpeg', 'host-a007_cam2_1231093060882654006.jpeg', 'host-a101_cam6_1240875149050000006.jpeg', 'host-a011_cam1_1233688942934517006.jpeg', 'host-a011_cam2_1233688942917605006.jpeg', 'host-a017_cam1_1236118893234294006.jpeg', 'host-a011_cam5_1232752484667719006.jpeg', 'host-a101_cam3_1242748995699482006.jpeg', 'host-a101_cam1_1242748995766349006.jpeg', 'host-a004_cam1_1232905221134300006.jpeg', 'host-a011_cam6_1236038917451145006.jpeg', 'host-a004_cam6_1232905208950948006.jpeg', 'host-a011_cam1_1232905797134517006.jpeg', 'host-a011_cam1_1233090571234517006.jpeg', 'host-a004_cam3_1233685325900897006.jpeg', 'host-a011_cam4_1232752466484485006.jpeg', 'host-a101_cam3_1241216100400000006.jpeg', 'host-a011_cam2_1232752556817605006.jpeg', 'host-a011_cam0_1232752556851142006.jpeg', 'host-a101_cam5_1242580013832338006.jpeg', 'host-a011_cam3_1236093962500995006.jpeg', 'host-a011_cam1_1235950321834517006.jpeg', 'host-a011_cam4_1233965313584485006.jpeg', 'host-a009_cam3_1236123742000965006.jpeg', 'host-a009_cam6_1236123742051064006.jpeg', 'host-a004_cam0_1232923270051064006.jpeg', 'host-a011_cam0_1232752788051142006.jpeg', 'host-a011_cam5_1232752484467719006.jpeg', 'host-a101_cam1_1242753258765283006.jpeg', 'host-a004_cam2_1233620272717652006.jpeg', 'host-a101_cam1_1242748996366349006.jpeg', 'host-a011_cam1_1233090577034517006.jpeg', 'host-a011_cam2_1233090577017605006.jpeg', 'host-a011_cam6_1236122353151145006.jpeg', 'host-a011_cam1_1236122353134517006.jpeg', 'host-a004_cam1_1233685323134300006.jpeg', 'host-a011_cam4_1232752485284485006.jpeg', 'host-a007_cam2_1233524857217643006.jpeg', 'host-a017_cam0_1236118886850894006.jpeg', 'host-a004_cam0_1232923270251064006.jpeg', 'host-a004_cam3_1233685325700897006.jpeg', 'host-a101_cam4_1241561162416660006.jpeg', 'host-a101_cam2_1241216098783330006.jpeg', 'host-a009_cam1_1237581230234345006.jpeg', 'host-a011_cam3_1233087921400995006.jpeg', 'host-a011_cam1_1233087921434517006.jpeg', 'host-a007_cam2_1233079631017643006.jpeg', 'host-a102_cam1_1242754974365016006.jpeg', 'host-a102_cam0_1242754974348934006.jpeg', 'host-a101_cam3_1241561166600000006.jpeg', 'host-a004_cam1_1233014862834300006.jpeg', 'host-a101_cam2_1240875154083330006.jpeg', 'host-a015_cam5_1235423696267453006.jpeg', 'host-a101_cam5_1242580008832323006.jpeg', 'host-a101_cam1_1242583751065164006.jpeg', 'host-a004_cam6_1234047746150948006.jpeg', 'host-a004_cam2_1233620272317652006.jpeg', 'host-a011_cam3_1232905805900995006.jpeg', 'host-a011_cam6_1232905805951145006.jpeg', 'host-a011_cam1_1233087934034517006.jpeg', 'host-a101_cam1_1242748990566335006.jpeg', 'host-a101_cam3_1242748990499482006.jpeg', 'host-a011_cam1_1236122353334517006.jpeg', 'host-a011_cam6_1236122353351145006.jpeg', 'host-a011_cam0_1236122353351142006.jpeg', 'host-a011_cam1_1235950297634517006.jpeg', 'host-a009_cam3_1237581213600965006.jpeg', 'host-a102_cam1_1241548688866660006.jpeg', 'host-a102_cam0_1241548688850000006.jpeg', 'host-a011_cam0_1236123639951142006.jpeg', 'host-a004_cam1_1233620266134300006.jpeg', 'host-a007_cam6_1233079638050905006.jpeg', 'host-a004_cam3_1233685321500897006.jpeg', 'host-a101_cam6_1241561157050000006.jpeg', 'host-a011_cam6_1232752564651145006.jpeg', 'host-a011_cam0_1234639321051142006.jpeg', 'host-a101_cam1_1242748994566349006.jpeg', 'host-a101_cam2_1242748994582545006.jpeg', 'host-a101_cam3_1242748994599482006.jpeg', 'host-a004_cam0_1232842379051064006.jpeg', 'host-a101_cam6_1242753252744000006.jpeg', 'host-a011_cam6_1232745790251145006.jpeg', 'host-a011_cam2_1236104050317605006.jpeg', 'host-a011_cam2_1232752797617605006.jpeg', 'host-a007_cam1_1233621269734286006.jpeg', 'host-a011_cam1_1233087926634517006.jpeg', 'host-a011_cam2_1236122373717605006.jpeg', 'host-a011_cam6_1236038916051145006.jpeg', 'host-a004_cam1_1233620267734300006.jpeg', 'host-a011_cam1_1233688945334517006.jpeg', 'host-a011_cam3_1233688945300995006.jpeg', 'host-a011_cam6_1233688945351145006.jpeg', 'host-a004_cam1_1233014853434300006.jpeg', 'host-a004_cam3_1233620274100897006.jpeg', 'host-a004_cam6_1233685317150948006.jpeg', 'host-a007_cam3_1233079631800869006.jpeg', 'host-a007_cam2_1233079631817643006.jpeg', 'host-a101_cam3_1242748988499482006.jpeg', 'host-a101_cam1_1242748988566335006.jpeg', 'host-a004_cam6_1234047744150948006.jpeg', 'host-a009_cam1_1236123740034345006.jpeg', 'host-a009_cam2_1237581216417740006.jpeg', 'host-a011_cam1_1233090574434517006.jpeg', 'host-a011_cam2_1233090574417605006.jpeg', 'host-a011_cam2_1235866729717605006.jpeg', 'host-a011_cam1_1235866711134517006.jpeg', 'host-a004_cam1_1233014854834300006.jpeg', 'host-a011_cam0_1232909949951142006.jpeg', 'host-a011_cam1_1232909949934517006.jpeg', 'host-a011_cam2_1232905804717605006.jpeg', 'host-a011_cam6_1232905804751145006.jpeg', 'host-a011_cam2_1236122358917605006.jpeg', 'host-a011_cam1_1236122358934517006.jpeg', 'host-a011_cam1_1233965435734517006.jpeg', 'host-a101_cam6_1240875149650000006.jpeg', 'host-a011_cam6_1235933803751145006.jpeg', 'host-a011_cam0_1232909949351142006.jpeg', 'host-a007_cam2_1233524854617643006.jpeg', 'host-a102_cam1_1241548690666660006.jpeg', 'host-a102_cam0_1241548690650000006.jpeg', 'host-a011_cam3_1236122361700995006.jpeg', 'host-a102_cam2_1241548694083330006.jpeg', 'host-a102_cam1_1241548694066660006.jpeg', 'host-a011_cam2_1234466284517605006.jpeg', 'host-a015_cam5_1236112608967453006.jpeg', 'host-a004_cam0_1232923275251064006.jpeg', 'host-a004_cam0_1232923268851064006.jpeg', 'host-a011_cam1_1233087919434517006.jpeg', 'host-a011_cam2_1233512844217605006.jpeg', 'host-a011_cam6_1236038917651145006.jpeg', 'host-a011_cam2_1236122367517605006.jpeg', 'host-a011_cam6_1236122367551145006.jpeg', 'host-a017_cam6_1236118889650938006.jpeg', 'host-a004_cam3_1232842381400897006.jpeg', 'host-a101_cam5_1242580013232353006.jpeg', 'host-a101_cam0_1242580013249215006.jpeg', 'host-a015_cam5_1236112604367453006.jpeg', 'host-a101_cam3_1242748990199482006.jpeg', 'host-a101_cam1_1242748990166335006.jpeg', 'host-a101_cam0_1242749001149289006.jpeg', 'host-a101_cam6_1241561160050000006.jpeg', 'host-a101_cam5_1241561160033330006.jpeg', 'host-a101_cam0_1240875153250000006.jpeg', 'host-a101_cam2_1240875153283330006.jpeg', 'host-a101_cam4_1242580016615964006.jpeg', 'host-a101_cam3_1242580016599571006.jpeg', 'host-a101_cam0_1242753256748978006.jpeg', 'host-a004_cam1_1233620269534300006.jpeg'])\n"
     ]
    }
   ],
   "source": [
    "images_base_path = os.path.join(user_path_prefix, r\"3d-object-detection-for-autonomous-vehicles\\Train\\images\")\n",
    "\n",
    "#Training Dataset and DataLoader\n",
    "train_image_box_lookup_path = os.path.join(user_path_prefix, r\"3d-object-detection-for-autonomous-vehicles\\Train\\img_bx_lookup\\train_merged.json\")\n",
    "with open(train_image_box_lookup_path, \"r\") as file:\n",
    "    train_image_box_lookup = json.load(file)\n",
    "dataset_training_detection = Lyft_binary_object_detection_CustomDataset(train_image_box_lookup, images_base_path=images_base_path, transform=None, random_sample=None, positive_imgs_only=True)\n",
    "# Use the custom collate function in the DataLoader\n",
    "batch_size=10\n",
    "dataloader_training_detection = DataLoader(dataset_training_detection, batch_size=batch_size, collate_fn=collate_fn, shuffle=True)\n",
    "print(\"total number of training batches to anticipate: \", len(dataset_training_detection)/batch_size, \"Dataset total length: \", len(dataset_training_detection))\n",
    "\n",
    "\n",
    "#Validation Dataset and DataLoader\n",
    "validation_image_box_lookup_path = os.path.join(user_path_prefix, r\"3d-object-detection-for-autonomous-vehicles\\Train\\img_bx_lookup\\validation_merged.json\")\n",
    "with open(validation_image_box_lookup_path, \"r\") as file:\n",
    "    validation_image_box_lookup = json.load(file)\n",
    "dataset_validation_detection = Lyft_binary_object_detection_CustomDataset(validation_image_box_lookup, images_base_path=images_base_path, transform=None, random_sample=None, positive_imgs_only=True)\n",
    "# Use the custom collate function in the DataLoader\n",
    "batch_size=10\n",
    "dataloader_validation_detection = DataLoader(dataset_validation_detection, batch_size=batch_size, collate_fn=collate_fn, shuffle=True)\n",
    "print(\"total number of validation batches to anticipate: \", len(dataset_validation_detection)/batch_size, \"Dataset total length: \", len(dataset_validation_detection))"
   ]
  },
  {
   "cell_type": "markdown",
   "metadata": {},
   "source": [
    "## Train"
   ]
  },
  {
   "cell_type": "markdown",
   "metadata": {},
   "source": [
    "### If you find yourself unsure of how to interpret the loop below, while it is incomplete, you can defer to the \"train_resnet50_classification\" function under the Image Classification section. This approach is different, but similar in nature and has clearer code and explanations."
   ]
  },
  {
   "cell_type": "code",
   "execution_count": 14,
   "metadata": {},
   "outputs": [
    {
     "name": "stdout",
     "output_type": "stream",
     "text": [
      "On batch:  0\n",
      "Batch Duration: 29.34 seconds\n",
      "On batch:  1\n",
      "Batch Duration: 34.47 seconds\n",
      "On batch:  2\n",
      "Batch Duration: 37.97 seconds\n",
      "On batch:  3\n",
      "Batch Duration: 3.11 seconds\n",
      "On inference batch:  0\n",
      "predicted boxex:  []\n",
      "predicted labels:  []\n",
      "predicted boxex:  []\n",
      "predicted labels:  []\n",
      "predicted boxex:  []\n",
      "predicted labels:  []\n",
      "predicted boxex:  []\n",
      "predicted labels:  []\n",
      "predicted boxex:  []\n",
      "predicted labels:  []\n",
      "predicted boxex:  []\n",
      "predicted labels:  []\n",
      "predicted boxex:  []\n",
      "predicted labels:  []\n",
      "predicted boxex:  []\n",
      "predicted labels:  []\n",
      "predicted boxex:  []\n",
      "predicted labels:  []\n",
      "predicted boxex:  []\n",
      "predicted labels:  []\n",
      "Inference Batch Duration: 9.31 seconds\n",
      "On inference batch:  1\n",
      "predicted boxex:  []\n",
      "predicted labels:  []\n",
      "predicted boxex:  []\n",
      "predicted labels:  []\n",
      "predicted boxex:  []\n",
      "predicted labels:  []\n",
      "predicted boxex:  []\n",
      "predicted labels:  []\n",
      "predicted boxex:  []\n",
      "predicted labels:  []\n",
      "predicted boxex:  []\n",
      "predicted labels:  []\n",
      "predicted boxex:  []\n",
      "predicted labels:  []\n",
      "predicted boxex:  []\n",
      "predicted labels:  []\n",
      "predicted boxex:  []\n",
      "predicted labels:  []\n",
      "predicted boxex:  []\n",
      "predicted labels:  []\n",
      "Inference Batch Duration: 18.53 seconds\n",
      "On inference batch:  2\n",
      "predicted boxex:  []\n",
      "predicted labels:  []\n",
      "predicted boxex:  []\n",
      "predicted labels:  []\n",
      "predicted boxex:  []\n",
      "predicted labels:  []\n",
      "predicted boxex:  []\n",
      "predicted labels:  []\n",
      "predicted boxex:  []\n",
      "predicted labels:  []\n",
      "predicted boxex:  []\n",
      "predicted labels:  []\n",
      "predicted boxex:  []\n",
      "predicted labels:  []\n",
      "predicted boxex:  []\n",
      "predicted labels:  []\n",
      "predicted boxex:  []\n",
      "predicted labels:  []\n",
      "predicted boxex:  []\n",
      "predicted labels:  []\n",
      "Inference Batch Duration: 15.44 seconds\n",
      "On inference batch:  3\n",
      "predicted boxex:  [[423.9119873046875, 799.9227294921875, 447.414306640625, 799.999267578125]]\n",
      "predicted labels:  [1]\n",
      "predicted boxex:  [[463.26141357421875, 799.9118041992188, 487.2890625, 799.9992065429688]]\n",
      "predicted labels:  [1]\n",
      "predicted boxex:  []\n",
      "predicted labels:  []\n",
      "predicted boxex:  [[271.45953369140625, 799.8796997070312, 276.9703369140625, 799.9988403320312]]\n",
      "predicted labels:  [1]\n",
      "predicted boxex:  []\n",
      "predicted labels:  []\n",
      "predicted boxex:  []\n",
      "predicted labels:  []\n",
      "predicted boxex:  []\n",
      "predicted labels:  []\n",
      "predicted boxex:  []\n",
      "predicted labels:  []\n",
      "predicted boxex:  [[672.7700805664062, 799.9776000976562, 696.8572387695312, 799.9998168945312]]\n",
      "predicted labels:  [1]\n",
      "predicted boxex:  []\n",
      "predicted labels:  []\n",
      "Inference Batch Duration: 13.93 seconds\n",
      "On inference batch:  4\n",
      "predicted boxex:  []\n",
      "predicted labels:  []\n",
      "predicted boxex:  []\n",
      "predicted labels:  []\n",
      "predicted boxex:  []\n",
      "predicted labels:  []\n",
      "predicted boxex:  []\n",
      "predicted labels:  []\n",
      "predicted boxex:  []\n",
      "predicted labels:  []\n",
      "predicted boxex:  []\n",
      "predicted labels:  []\n",
      "predicted boxex:  []\n",
      "predicted labels:  []\n",
      "predicted boxex:  []\n",
      "predicted labels:  []\n",
      "predicted boxex:  []\n",
      "predicted labels:  []\n",
      "predicted boxex:  []\n",
      "predicted labels:  []\n",
      "Inference Batch Duration: 13.99 seconds\n",
      "On inference batch:  5\n",
      "predicted boxex:  []\n",
      "predicted labels:  []\n",
      "predicted boxex:  []\n",
      "predicted labels:  []\n",
      "predicted boxex:  []\n",
      "predicted labels:  []\n",
      "predicted boxex:  []\n",
      "predicted labels:  []\n",
      "predicted boxex:  []\n",
      "predicted labels:  []\n",
      "predicted boxex:  []\n",
      "predicted labels:  []\n",
      "predicted boxex:  []\n",
      "predicted labels:  []\n",
      "predicted boxex:  [[883.03759765625, 799.9520263671875, 883.783447265625, 799.99951171875]]\n",
      "predicted labels:  [1]\n",
      "predicted boxex:  []\n",
      "predicted labels:  []\n",
      "predicted boxex:  []\n",
      "predicted labels:  []\n",
      "Inference Batch Duration: 15.59 seconds\n",
      "On inference batch:  6\n",
      "predicted boxex:  []\n",
      "predicted labels:  []\n",
      "predicted boxex:  [[274.7659606933594, 799.9271850585938, 307.7090148925781, 799.9993286132812]]\n",
      "predicted labels:  [1]\n",
      "Inference Batch Duration: 3.10 seconds\n",
      "Epoch [1/5], Loss: 0.6016, Precision: 0.0000, Recall: 0.0000, F1: 0.0000, Duration: 196.92 seconds\n",
      "On batch:  0\n",
      "Batch Duration: 55.42 seconds\n",
      "On batch:  1\n",
      "Batch Duration: 93.74 seconds\n",
      "On batch:  2\n",
      "Batch Duration: 73.28 seconds\n",
      "On batch:  3\n",
      "Batch Duration: 8.00 seconds\n",
      "On inference batch:  0\n",
      "predicted boxex:  []\n",
      "predicted labels:  []\n",
      "predicted boxex:  []\n",
      "predicted labels:  []\n",
      "predicted boxex:  []\n",
      "predicted labels:  []\n",
      "predicted boxex:  []\n",
      "predicted labels:  []\n",
      "predicted boxex:  []\n",
      "predicted labels:  []\n",
      "predicted boxex:  []\n",
      "predicted labels:  []\n",
      "predicted boxex:  []\n",
      "predicted labels:  []\n",
      "predicted boxex:  []\n",
      "predicted labels:  []\n",
      "predicted boxex:  []\n",
      "predicted labels:  []\n",
      "predicted boxex:  []\n",
      "predicted labels:  []\n",
      "Inference Batch Duration: 21.06 seconds\n",
      "On inference batch:  1\n"
     ]
    },
    {
     "ename": "KeyboardInterrupt",
     "evalue": "",
     "output_type": "error",
     "traceback": [
      "\u001b[1;31m---------------------------------------------------------------------------\u001b[0m",
      "\u001b[1;31mKeyboardInterrupt\u001b[0m                         Traceback (most recent call last)",
      "\u001b[1;32ms:\\MADS\\Capstone\\3d-object-detection-for-autonomous-vehicles\\Notebooks\\lyft_training_inference.ipynb Cell 46\u001b[0m line \u001b[0;36m5\n\u001b[0;32m     <a href='vscode-notebook-cell:/s%3A/MADS/Capstone/3d-object-detection-for-autonomous-vehicles/Notebooks/lyft_training_inference.ipynb#X63sZmlsZQ%3D%3D?line=54'>55</a>\u001b[0m inference_batch_i \u001b[39m+\u001b[39m\u001b[39m=\u001b[39m \u001b[39m1\u001b[39m\n\u001b[0;32m     <a href='vscode-notebook-cell:/s%3A/MADS/Capstone/3d-object-detection-for-autonomous-vehicles/Notebooks/lyft_training_inference.ipynb#X63sZmlsZQ%3D%3D?line=56'>57</a>\u001b[0m images \u001b[39m=\u001b[39m images\u001b[39m.\u001b[39mto(device)\n\u001b[1;32m---> <a href='vscode-notebook-cell:/s%3A/MADS/Capstone/3d-object-detection-for-autonomous-vehicles/Notebooks/lyft_training_inference.ipynb#X63sZmlsZQ%3D%3D?line=57'>58</a>\u001b[0m predictions \u001b[39m=\u001b[39m model_fastercnn(images)\n\u001b[0;32m     <a href='vscode-notebook-cell:/s%3A/MADS/Capstone/3d-object-detection-for-autonomous-vehicles/Notebooks/lyft_training_inference.ipynb#X63sZmlsZQ%3D%3D?line=58'>59</a>\u001b[0m filenames \u001b[39m=\u001b[39m dataloader_validation_detection\u001b[39m.\u001b[39mdataset\u001b[39m.\u001b[39mfile_names\n\u001b[0;32m     <a href='vscode-notebook-cell:/s%3A/MADS/Capstone/3d-object-detection-for-autonomous-vehicles/Notebooks/lyft_training_inference.ipynb#X63sZmlsZQ%3D%3D?line=59'>60</a>\u001b[0m \u001b[39mtry\u001b[39;00m:\n\u001b[0;32m     <a href='vscode-notebook-cell:/s%3A/MADS/Capstone/3d-object-detection-for-autonomous-vehicles/Notebooks/lyft_training_inference.ipynb#X63sZmlsZQ%3D%3D?line=60'>61</a>\u001b[0m     \u001b[39m# Update the dictionary with predictions\u001b[39;00m\n",
      "File \u001b[1;32mc:\\Users\\stern\\ytorch_env\\lib\\site-packages\\torch\\nn\\modules\\module.py:1519\u001b[0m, in \u001b[0;36mModule._wrapped_call_impl\u001b[1;34m(self, *args, **kwargs)\u001b[0m\n\u001b[0;32m   1517\u001b[0m     \u001b[39mreturn\u001b[39;00m \u001b[39mself\u001b[39m\u001b[39m.\u001b[39m_compiled_call_impl(\u001b[39m*\u001b[39margs, \u001b[39m*\u001b[39m\u001b[39m*\u001b[39mkwargs)  \u001b[39m# type: ignore[misc]\u001b[39;00m\n\u001b[0;32m   1518\u001b[0m \u001b[39melse\u001b[39;00m:\n\u001b[1;32m-> 1519\u001b[0m     \u001b[39mreturn\u001b[39;00m \u001b[39mself\u001b[39m\u001b[39m.\u001b[39m_call_impl(\u001b[39m*\u001b[39margs, \u001b[39m*\u001b[39m\u001b[39m*\u001b[39mkwargs)\n",
      "File \u001b[1;32mc:\\Users\\stern\\ytorch_env\\lib\\site-packages\\torch\\nn\\modules\\module.py:1528\u001b[0m, in \u001b[0;36mModule._call_impl\u001b[1;34m(self, *args, **kwargs)\u001b[0m\n\u001b[0;32m   1523\u001b[0m \u001b[39m# If we don't have any hooks, we want to skip the rest of the logic in\u001b[39;00m\n\u001b[0;32m   1524\u001b[0m \u001b[39m# this function, and just call forward.\u001b[39;00m\n\u001b[0;32m   1525\u001b[0m \u001b[39mif\u001b[39;00m \u001b[39mnot\u001b[39;00m (\u001b[39mself\u001b[39m\u001b[39m.\u001b[39m_backward_hooks \u001b[39mor\u001b[39;00m \u001b[39mself\u001b[39m\u001b[39m.\u001b[39m_backward_pre_hooks \u001b[39mor\u001b[39;00m \u001b[39mself\u001b[39m\u001b[39m.\u001b[39m_forward_hooks \u001b[39mor\u001b[39;00m \u001b[39mself\u001b[39m\u001b[39m.\u001b[39m_forward_pre_hooks\n\u001b[0;32m   1526\u001b[0m         \u001b[39mor\u001b[39;00m _global_backward_pre_hooks \u001b[39mor\u001b[39;00m _global_backward_hooks\n\u001b[0;32m   1527\u001b[0m         \u001b[39mor\u001b[39;00m _global_forward_hooks \u001b[39mor\u001b[39;00m _global_forward_pre_hooks):\n\u001b[1;32m-> 1528\u001b[0m     \u001b[39mreturn\u001b[39;00m forward_call(\u001b[39m*\u001b[39margs, \u001b[39m*\u001b[39m\u001b[39m*\u001b[39mkwargs)\n\u001b[0;32m   1530\u001b[0m \u001b[39mtry\u001b[39;00m:\n\u001b[0;32m   1531\u001b[0m     result \u001b[39m=\u001b[39m \u001b[39mNone\u001b[39;00m\n",
      "File \u001b[1;32mc:\\Users\\stern\\ytorch_env\\lib\\site-packages\\torchvision\\models\\detection\\generalized_rcnn.py:104\u001b[0m, in \u001b[0;36mGeneralizedRCNN.forward\u001b[1;34m(self, images, targets)\u001b[0m\n\u001b[0;32m    102\u001b[0m \u001b[39mif\u001b[39;00m \u001b[39misinstance\u001b[39m(features, torch\u001b[39m.\u001b[39mTensor):\n\u001b[0;32m    103\u001b[0m     features \u001b[39m=\u001b[39m OrderedDict([(\u001b[39m\"\u001b[39m\u001b[39m0\u001b[39m\u001b[39m\"\u001b[39m, features)])\n\u001b[1;32m--> 104\u001b[0m proposals, proposal_losses \u001b[39m=\u001b[39m \u001b[39mself\u001b[39;49m\u001b[39m.\u001b[39;49mrpn(images, features, targets)\n\u001b[0;32m    105\u001b[0m detections, detector_losses \u001b[39m=\u001b[39m \u001b[39mself\u001b[39m\u001b[39m.\u001b[39mroi_heads(features, proposals, images\u001b[39m.\u001b[39mimage_sizes, targets)\n\u001b[0;32m    106\u001b[0m detections \u001b[39m=\u001b[39m \u001b[39mself\u001b[39m\u001b[39m.\u001b[39mtransform\u001b[39m.\u001b[39mpostprocess(detections, images\u001b[39m.\u001b[39mimage_sizes, original_image_sizes)  \u001b[39m# type: ignore[operator]\u001b[39;00m\n",
      "File \u001b[1;32mc:\\Users\\stern\\ytorch_env\\lib\\site-packages\\torch\\nn\\modules\\module.py:1519\u001b[0m, in \u001b[0;36mModule._wrapped_call_impl\u001b[1;34m(self, *args, **kwargs)\u001b[0m\n\u001b[0;32m   1517\u001b[0m     \u001b[39mreturn\u001b[39;00m \u001b[39mself\u001b[39m\u001b[39m.\u001b[39m_compiled_call_impl(\u001b[39m*\u001b[39margs, \u001b[39m*\u001b[39m\u001b[39m*\u001b[39mkwargs)  \u001b[39m# type: ignore[misc]\u001b[39;00m\n\u001b[0;32m   1518\u001b[0m \u001b[39melse\u001b[39;00m:\n\u001b[1;32m-> 1519\u001b[0m     \u001b[39mreturn\u001b[39;00m \u001b[39mself\u001b[39m\u001b[39m.\u001b[39m_call_impl(\u001b[39m*\u001b[39margs, \u001b[39m*\u001b[39m\u001b[39m*\u001b[39mkwargs)\n",
      "File \u001b[1;32mc:\\Users\\stern\\ytorch_env\\lib\\site-packages\\torch\\nn\\modules\\module.py:1528\u001b[0m, in \u001b[0;36mModule._call_impl\u001b[1;34m(self, *args, **kwargs)\u001b[0m\n\u001b[0;32m   1523\u001b[0m \u001b[39m# If we don't have any hooks, we want to skip the rest of the logic in\u001b[39;00m\n\u001b[0;32m   1524\u001b[0m \u001b[39m# this function, and just call forward.\u001b[39;00m\n\u001b[0;32m   1525\u001b[0m \u001b[39mif\u001b[39;00m \u001b[39mnot\u001b[39;00m (\u001b[39mself\u001b[39m\u001b[39m.\u001b[39m_backward_hooks \u001b[39mor\u001b[39;00m \u001b[39mself\u001b[39m\u001b[39m.\u001b[39m_backward_pre_hooks \u001b[39mor\u001b[39;00m \u001b[39mself\u001b[39m\u001b[39m.\u001b[39m_forward_hooks \u001b[39mor\u001b[39;00m \u001b[39mself\u001b[39m\u001b[39m.\u001b[39m_forward_pre_hooks\n\u001b[0;32m   1526\u001b[0m         \u001b[39mor\u001b[39;00m _global_backward_pre_hooks \u001b[39mor\u001b[39;00m _global_backward_hooks\n\u001b[0;32m   1527\u001b[0m         \u001b[39mor\u001b[39;00m _global_forward_hooks \u001b[39mor\u001b[39;00m _global_forward_pre_hooks):\n\u001b[1;32m-> 1528\u001b[0m     \u001b[39mreturn\u001b[39;00m forward_call(\u001b[39m*\u001b[39margs, \u001b[39m*\u001b[39m\u001b[39m*\u001b[39mkwargs)\n\u001b[0;32m   1530\u001b[0m \u001b[39mtry\u001b[39;00m:\n\u001b[0;32m   1531\u001b[0m     result \u001b[39m=\u001b[39m \u001b[39mNone\u001b[39;00m\n",
      "File \u001b[1;32mc:\\Users\\stern\\ytorch_env\\lib\\site-packages\\torchvision\\models\\detection\\rpn.py:370\u001b[0m, in \u001b[0;36mRegionProposalNetwork.forward\u001b[1;34m(self, images, features, targets)\u001b[0m\n\u001b[0;32m    366\u001b[0m objectness, pred_bbox_deltas \u001b[39m=\u001b[39m concat_box_prediction_layers(objectness, pred_bbox_deltas)\n\u001b[0;32m    367\u001b[0m \u001b[39m# apply pred_bbox_deltas to anchors to obtain the decoded proposals\u001b[39;00m\n\u001b[0;32m    368\u001b[0m \u001b[39m# note that we detach the deltas because Faster R-CNN do not backprop through\u001b[39;00m\n\u001b[0;32m    369\u001b[0m \u001b[39m# the proposals\u001b[39;00m\n\u001b[1;32m--> 370\u001b[0m proposals \u001b[39m=\u001b[39m \u001b[39mself\u001b[39;49m\u001b[39m.\u001b[39;49mbox_coder\u001b[39m.\u001b[39;49mdecode(pred_bbox_deltas\u001b[39m.\u001b[39;49mdetach(), anchors)\n\u001b[0;32m    371\u001b[0m proposals \u001b[39m=\u001b[39m proposals\u001b[39m.\u001b[39mview(num_images, \u001b[39m-\u001b[39m\u001b[39m1\u001b[39m, \u001b[39m4\u001b[39m)\n\u001b[0;32m    372\u001b[0m boxes, scores \u001b[39m=\u001b[39m \u001b[39mself\u001b[39m\u001b[39m.\u001b[39mfilter_proposals(proposals, objectness, images\u001b[39m.\u001b[39mimage_sizes, num_anchors_per_level)\n",
      "File \u001b[1;32mc:\\Users\\stern\\ytorch_env\\lib\\site-packages\\torchvision\\models\\detection\\_utils.py:178\u001b[0m, in \u001b[0;36mBoxCoder.decode\u001b[1;34m(self, rel_codes, boxes)\u001b[0m\n\u001b[0;32m    176\u001b[0m \u001b[39mif\u001b[39;00m box_sum \u001b[39m>\u001b[39m \u001b[39m0\u001b[39m:\n\u001b[0;32m    177\u001b[0m     rel_codes \u001b[39m=\u001b[39m rel_codes\u001b[39m.\u001b[39mreshape(box_sum, \u001b[39m-\u001b[39m\u001b[39m1\u001b[39m)\n\u001b[1;32m--> 178\u001b[0m pred_boxes \u001b[39m=\u001b[39m \u001b[39mself\u001b[39;49m\u001b[39m.\u001b[39;49mdecode_single(rel_codes, concat_boxes)\n\u001b[0;32m    179\u001b[0m \u001b[39mif\u001b[39;00m box_sum \u001b[39m>\u001b[39m \u001b[39m0\u001b[39m:\n\u001b[0;32m    180\u001b[0m     pred_boxes \u001b[39m=\u001b[39m pred_boxes\u001b[39m.\u001b[39mreshape(box_sum, \u001b[39m-\u001b[39m\u001b[39m1\u001b[39m, \u001b[39m4\u001b[39m)\n",
      "File \u001b[1;32mc:\\Users\\stern\\ytorch_env\\lib\\site-packages\\torchvision\\models\\detection\\_utils.py:216\u001b[0m, in \u001b[0;36mBoxCoder.decode_single\u001b[1;34m(self, rel_codes, boxes)\u001b[0m\n\u001b[0;32m    213\u001b[0m pred_h \u001b[39m=\u001b[39m torch\u001b[39m.\u001b[39mexp(dh) \u001b[39m*\u001b[39m heights[:, \u001b[39mNone\u001b[39;00m]\n\u001b[0;32m    215\u001b[0m \u001b[39m# Distance from center to box's corner.\u001b[39;00m\n\u001b[1;32m--> 216\u001b[0m c_to_c_h \u001b[39m=\u001b[39m torch\u001b[39m.\u001b[39;49mtensor(\u001b[39m0.5\u001b[39;49m, dtype\u001b[39m=\u001b[39;49mpred_ctr_y\u001b[39m.\u001b[39;49mdtype, device\u001b[39m=\u001b[39;49mpred_h\u001b[39m.\u001b[39;49mdevice) \u001b[39m*\u001b[39m pred_h\n\u001b[0;32m    217\u001b[0m c_to_c_w \u001b[39m=\u001b[39m torch\u001b[39m.\u001b[39mtensor(\u001b[39m0.5\u001b[39m, dtype\u001b[39m=\u001b[39mpred_ctr_x\u001b[39m.\u001b[39mdtype, device\u001b[39m=\u001b[39mpred_w\u001b[39m.\u001b[39mdevice) \u001b[39m*\u001b[39m pred_w\n\u001b[0;32m    219\u001b[0m pred_boxes1 \u001b[39m=\u001b[39m pred_ctr_x \u001b[39m-\u001b[39m c_to_c_w\n",
      "\u001b[1;31mKeyboardInterrupt\u001b[0m: "
     ]
    }
   ],
   "source": [
    "# Before starting your training loop\n",
    "torch.cuda.empty_cache()  # Clear cache if any\n",
    "\n",
    "# Training loop\n",
    "num_epochs = 5\n",
    "iou_threshold = 0.5\n",
    "optimizer = torch.optim.Adam(model_fastercnn.parameters(), lr=0.001)\n",
    "\n",
    "for epoch in range(num_epochs):\n",
    "    epoch_start_time = time.time()  # Start time for the epoch\n",
    "    model_fastercnn.train()  # Set model to training mode\n",
    "    running_loss = 0.0\n",
    "    total_true_positives = 0\n",
    "    total_false_positives = 0\n",
    "    total_false_negatives = 0\n",
    "    batch_i = 0\n",
    "\n",
    "    for images, targets in dataloader_training_detection:\n",
    "        batch_start_time = time.time()\n",
    "        print(\"On batch: \", batch_i)\n",
    "        batch_i += 1\n",
    "        \n",
    "        images = images.to(device)\n",
    "        targets_on_device = []\n",
    "        for target in targets:\n",
    "            target_on_device = {key: value.to(device) if isinstance(value, torch.Tensor) else value for key, value in target.items()}\n",
    "            targets_on_device.append(target_on_device)\n",
    "\n",
    "\n",
    "        # Forward pass\n",
    "        optimizer.zero_grad()  # Clear existing gradients\n",
    "        loss_dict = model_fastercnn(images, targets_on_device)  # Forward pass\n",
    "        losses = sum(loss for loss in loss_dict.values())  # Sum up all losses\n",
    "\n",
    "        # Backward pass and optimize\n",
    "        losses.backward()  # Compute gradients\n",
    "        optimizer.step()  # Update model parameters\n",
    "        running_loss += losses.item()\n",
    "        batch_duration = time.time() - batch_start_time  # Calculate duration for the batch\n",
    "        print(f'Batch Duration: {batch_duration:.2f} seconds')\n",
    "\n",
    "    # Evaluation mode for inference\n",
    "    model_fastercnn.eval()\n",
    "    inference_batch_i = 0\n",
    "    with torch.no_grad():\n",
    "        for images, targets in dataloader_validation_detection:\n",
    "            inference_batch_start_time = time.time()\n",
    "            print(\"On inference batch: \", inference_batch_i)\n",
    "            inference_batch_i += 1\n",
    "            \n",
    "            images = images.to(device)\n",
    "            predictions = model_fastercnn(images)\n",
    "            filenames = dataloader_validation_detection.dataset.file_names\n",
    "            try:\n",
    "                # Update the dictionary with predictions\n",
    "                for filename, target, prediction in zip(filenames, targets, predictions):\n",
    "                    predicted_boxes = prediction['boxes'].cpu().numpy().tolist()\n",
    "                    predicted_labels = prediction['labels'].cpu().numpy().tolist()\n",
    "                    print(\"predicted boxex: \", predicted_boxes)\n",
    "                    print(\"predicted labels: \", predicted_labels)\n",
    "\n",
    "                    if \"predicted_boxes\" in validation_image_box_lookup.keys():\n",
    "                        validation_image_box_lookup[filename]['predicted_boxes'].extend(predicted_boxes)\n",
    "                    else:\n",
    "                        validation_image_box_lookup[filename]['predicted_boxes'] = predicted_boxes\n",
    "                    if \"predicted_labels\" in validation_image_box_lookup.keys():\n",
    "                        validation_image_box_lookup[filename]['predicted_labels'].extend(predicted_labels)\n",
    "                    else:\n",
    "                        validation_image_box_lookup[filename]['predicted_labels'] = predicted_labels\n",
    "            except Exception as e:\n",
    "                print(f\"An error occurred: {e}\")\n",
    "\n",
    "            \n",
    "            #Calculate IoU\n",
    "            for target, prediction in zip(targets, predictions):\n",
    "                ground_truth_boxes = target[\"boxes\"]\n",
    "                predicted_boxes = prediction[\"boxes\"]\n",
    "\n",
    "                if len(predicted_boxes) > 0:\n",
    "                    iou = calculate_iou(predicted_boxes[0], ground_truth_boxes[0])\n",
    "\n",
    "                    if iou >= iou_threshold:\n",
    "                        total_true_positives += 1\n",
    "                    else:\n",
    "                        total_false_positives += 1\n",
    "                else:\n",
    "                    total_false_negatives += 1\n",
    "            \n",
    "            inference_batch_duration = time.time() - inference_batch_start_time  # Calculate duration for the batch\n",
    "            print(f'Inference Batch Duration: {inference_batch_duration:.2f} seconds')\n",
    "\n",
    "    # Calculate metrics after each epoch\n",
    "    precision = total_true_positives / (total_true_positives + total_false_positives) if (total_true_positives + total_false_positives) > 0 else 0\n",
    "    recall = total_true_positives / (total_true_positives + total_false_negatives) if (total_true_positives + total_false_negatives) > 0 else 0\n",
    "    f1_score = 2 * (precision * recall) / (precision + recall) if (precision + recall) > 0 else 0\n",
    "\n",
    "    model_fastercnn.train()  # Set back to training mode\n",
    "\n",
    "    epoch_loss = running_loss / len(dataloader_training_detection.dataset)\n",
    "    epoch_duration = time.time() - epoch_start_time  # Calculate duration for the epoch\n",
    "    print(f\"Epoch [{epoch+1}/{num_epochs}], Loss: {epoch_loss:.4f}, Precision: {precision:.4f}, Recall: {recall:.4f}, F1: {f1_score:.4f}, Duration: {epoch_duration:.2f} seconds\")\n",
    "\n",
    "    #Save after each epoch.\n",
    "    model_fastercnn_dict = model_fastercnn.state_dict()\n",
    "    # torch.save(model_fastercnn_dict, r\"S:\\MADS\\Capstone\\3d-object-detection-for-autonomous-vehicles\\Train\\models\\model_fastercnn_12_2_23_00_00\")\n",
    "\n",
    "    # It is Pytorch convention to save checkpoints of model states as '.pth' which is short of 'Pytorch'. This uses Python pickle module to serialize the data.\n",
    "    # For now, we simply append the time the model was saved to the end of its name to distinguish it. \n",
    "    current_time = time.localtime()\n",
    "    # Format the time in the desired format: \"day_month_year_hour_minute_second\"\n",
    "    time_str = time.strftime(\"%d_%m_%Y_%H_%M_%S\", current_time)\n",
    "\n",
    "    base_name = \"model_res50_batchsize\"\n",
    "    model_checkpoint_name = f\"{base_name}_{time_str}.pth\"\n",
    "    model_outpath = os.path.join(out_results_path, model_checkpoint_name)\n",
    "    torch.save(checkpoint, model_outpath)\n",
    "\n",
    "    #Output our resulting validation data dict with the predictions appended to it. Recall that this is the initial data dict that is read in in our dataset_training_detection.\n",
    "    predictions_filename = r\"validation_merged_w_predictions.json\"\n",
    "    predictions_output_path = os.path.join(validation_image_box_lookup_path, predictions_filename)\n",
    "    with open(predictions_output_path, \"w\") as outfile:\n",
    "        json.dump(validation_image_box_lookup, outfile)"
   ]
  }
 ],
 "metadata": {
  "kernelspec": {
   "display_name": "ytorch_env",
   "language": "python",
   "name": "python3"
  },
  "language_info": {
   "codemirror_mode": {
    "name": "ipython",
    "version": 3
   },
   "file_extension": ".py",
   "mimetype": "text/x-python",
   "name": "python",
   "nbconvert_exporter": "python",
   "pygments_lexer": "ipython3",
   "version": "3.9.18"
  }
 },
 "nbformat": 4,
 "nbformat_minor": 2
}
