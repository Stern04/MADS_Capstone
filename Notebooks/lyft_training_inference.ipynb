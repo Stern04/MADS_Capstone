{
 "cells": [
  {
   "cell_type": "markdown",
   "metadata": {},
   "source": [
    "# In this Notebook, we assume either lyft_preprocessing.ipynb has been run to produced the processed images or you have directly downloaded the processed images. The whole notebook outline is provided below. I decided to leave all function defenitions defined in this Notebook rather than keeping them in a utils.py file and importing them. I may change this in the future, but I wanted to make access as easy and transparent as possible at the expense of increasing the Notebook length.\n",
    "# The main steps this Notebook walks you through are: \n",
    "* Importing a plug and play Pytorch Resnet50 model for binary Image Classification where the positive category is Pedestrian\n",
    "* Training a model on CPU or GPU if available\n",
    "* Load the various trained models and apply them to a Validation set to experiment with model Inference\n",
    "* Analyze results\n",
    "* Get a start on Object Detection"
   ]
  },
  {
   "cell_type": "markdown",
   "metadata": {},
   "source": [
    "- Imports and inital data read.\n",
    "- With our Data Processing finished, we now shift to create and train our models.\n",
    "- Define our custom Dataset classes for image classification and object detection.\n",
    "- Read in our data with an instance of our Lyft_image_classification_CustomDataset class.\n",
    "    - Each Dataset instance will instantiated with the model it will be given to in mind. For example, our ResNet model is designed for image classification where the full object is centered in the image.\n",
    "      - Remind ourselves what dataloader actually is. It is a grouping of binary labels indicating target category and the corresponding images as tensors.\n",
    "      - Print out the first 5 batches and observe the amount of positive and negative labels. With 9 categories, it is not surprising that the positive labels are outnumbered. Still, our basic Resnet50 model below does well.\n",
    "- Image Classificaiton\n",
    "  - Import a ResNet50 model and train it on our images with the category object centered.\n",
    "    - First, check if GPU is available and move the model to GPU if it is\n",
    "  - Train\n",
    "  - Train Results\n",
    "    - Load all of the trained models back in and stich their results together into a summary df.\n",
    "      - WARNING: The cell below will overwrite \"all_model_results.csv\" if you have alreayd created it.\n",
    "- Validation/Inference\n",
    "  - Visualize the performance metrics either for training or validation\n",
    "    - F1 Score heatmap\n",
    "    - Visualize the output of the first layer which is a convolution layer with kernel 7x7. This is just to remind us what we are dealing with.\n",
    "    - Validation/Inference Results\n",
    "- Object Detection\n",
    "    - Heatmap. Note: We use both training and validation data to aggregate a heat map. The heat map itelf isn't involved as a parameter in the model. This is simply just using a greater sample size to determine the places within the full sized images that are most and least likely for pedestrians to occur. This way, we can decrease the image space that our model will scan for each image.\n",
    "  - Import FasterRCNN model.\n",
    "  - Create our Dataset and Dataloader objects for object detection\n",
    "  - Train"
   ]
  },
  {
   "cell_type": "markdown",
   "metadata": {},
   "source": [
    "# Imports and inital data read."
   ]
  },
  {
   "cell_type": "code",
   "execution_count": 8,
   "metadata": {},
   "outputs": [],
   "source": [
    "import ast\n",
    "from collections import Counter\n",
    "import json\n",
    "import os\n",
    "from pathlib import Path\n",
    "import pandas as pd\n",
    "from PIL import Image\n",
    "import numpy as np\n",
    "import random\n",
    "import re\n",
    "import time\n",
    "\n",
    "#Data visualization libraries\n",
    "import plotly.express as px\n",
    "import matplotlib.pyplot as plt\n",
    "\n",
    "#Pytorch\n",
    "import torch\n",
    "from torch import nn\n",
    "from torch.optim import Adam\n",
    "from torch.utils.data import DataLoader\n",
    "from torch.utils.data import Dataset\n",
    "from torch.utils.data.dataloader import default_collate\n",
    "from torchvision import models\n",
    "from torchvision.models.resnet import ResNet50_Weights\n",
    "from torchvision.models.detection import fasterrcnn_resnet50_fpn\n",
    "from torchvision.models.detection.faster_rcnn import FastRCNNPredictor, FasterRCNN_ResNet50_FPN_Weights\n",
    "import torchvision.transforms as transforms\n",
    "\n",
    "# Load the SDK\n",
    "from lyft_dataset_sdk.lyftdataset import LyftDataset"
   ]
  },
  {
   "cell_type": "code",
   "execution_count": 9,
   "metadata": {},
   "outputs": [],
   "source": [
    "# Set the option to display all rows\n",
    "pd.set_option('display.max_rows', None)"
   ]
  },
  {
   "cell_type": "markdown",
   "metadata": {},
   "source": [
    "# Set user_path_prefix variable. This variable must be set in order to make all filepaths relative!"
   ]
  },
  {
   "cell_type": "code",
   "execution_count": 10,
   "metadata": {},
   "outputs": [],
   "source": [
    "user_path_prefix = r\"S:\\MADS\\Capstone\""
   ]
  },
  {
   "cell_type": "markdown",
   "metadata": {},
   "source": [
    "# With our Data Processing finished, we now shift to create and train our models."
   ]
  },
  {
   "cell_type": "code",
   "execution_count": 11,
   "metadata": {},
   "outputs": [
    {
     "name": "stdout",
     "output_type": "stream",
     "text": [
      "9 category,\n",
      "18 attribute,\n",
      "4 visibility,\n",
      "18421 instance,\n",
      "10 sensor,\n",
      "148 calibrated_sensor,\n",
      "177789 ego_pose,\n",
      "180 log,\n",
      "180 scene,\n",
      "22680 sample,\n",
      "189504 sample_data,\n",
      "638179 sample_annotation,\n",
      "1 map,\n",
      "Done loading in 8.4 seconds.\n",
      "======\n",
      "Reverse indexing ...\n",
      "Done reverse indexing in 2.6 seconds.\n",
      "======\n"
     ]
    }
   ],
   "source": [
    "data_path = os.path.join(user_path_prefix, r\"3d-object-detection-for-autonomous-vehicles\\Train\")\n",
    "json_path = os.path.join(user_path_prefix, \"3d-object-detection-for-autonomous-vehicles\\Train\\data\")\n",
    "lyftdata = LyftDataset(data_path=data_path, json_path=json_path, verbose=True)"
   ]
  },
  {
   "cell_type": "markdown",
   "metadata": {},
   "source": [
    "# Define our custom Dataset classes for image classification and object detection."
   ]
  },
  {
   "cell_type": "code",
   "execution_count": 10,
   "metadata": {},
   "outputs": [],
   "source": [
    "class Lyft_image_classification_CustomDataset(Dataset):\n",
    "    \"\"\"\n",
    "    A custom dataset class for image classification, specifically designed to handle\n",
    "    cropped images for a binary classification task.\n",
    "\n",
    "    This class is a subclass of `torch.utils.data.Dataset` and is meant to be used\n",
    "    with PyTorch's DataLoader to facilitate batch processing and data shuffling.\n",
    "\n",
    "    Parameters:\n",
    "    -----------\n",
    "    cropped_images_dir (str): The directory path where cropped images are stored.\n",
    "    target_category_name (str): The name of the target category for classification.\n",
    "    required_size (int, optional): The size to which images should be sized. Default is 224.\n",
    "\n",
    "    Notes:\n",
    "    ------\n",
    "    The dataset assumes that images are stored in subdirectories within `cropped_images_dir`,\n",
    "    where each subdirectory name begins with the category name of the images it contains.\n",
    "    The class uses this naming convention to assign labels to images.\n",
    "    \"\"\"\n",
    "    \n",
    "    def __init__(self, cropped_images_dir, target_category_name, required_size=224):\n",
    "        self.cropped_images_dir = cropped_images_dir\n",
    "        self.required_size = required_size\n",
    "        self.image_filenames = os.listdir(cropped_images_dir)\n",
    "        self.data = []\n",
    "        for category_folder in os.listdir(cropped_images_dir):\n",
    "            category_dir = os.path.join(cropped_images_dir, category_folder)\n",
    "            if os.path.isdir(category_dir):  # Check if it's a directory\n",
    "                category_name = category_folder.split(\"_\")[0]\n",
    "                is_target_category = category_name == target_category_name\n",
    "                label = 1 if is_target_category else 0\n",
    "\n",
    "                for filename in os.listdir(category_dir):\n",
    "                    file_path = os.path.join(category_dir, filename)\n",
    "                    if os.path.isfile(file_path):  # Check if it's a file\n",
    "                        self.data.append((file_path, label))\n",
    "\n",
    "    def __len__(self):\n",
    "        return len(self.data)\n",
    "\n",
    "    def __getitem__(self, idx):\n",
    "        img_path, label = self.data[idx]\n",
    "        image = Image.open(img_path).convert(\"RGB\")\n",
    "        image_name = re.search(r'([^\\\\]+)(?=\\.\\w+$)', img_path).group(1)\n",
    "\n",
    "        # Convert the image to tensor and normalize\n",
    "        image = transforms.ToTensor()(image)\n",
    "        image = transforms.Normalize(mean=[0.485, 0.456, 0.406], std=[0.229, 0.224, 0.225])(image)\n",
    "\n",
    "        return image, label, image_name"
   ]
  },
  {
   "cell_type": "code",
   "execution_count": 11,
   "metadata": {},
   "outputs": [],
   "source": [
    "# Define a function for default transformations. It is convention to not define transforms within the Dataset class.\n",
    "def default_transform():\n",
    "    return transforms.Compose([\n",
    "        transforms.ToTensor(),\n",
    "        transforms.Normalize(mean=[0.485, 0.456, 0.406], std=[0.229, 0.224, 0.225])\n",
    "    ])\n",
    "\n",
    "class Lyft_binary_object_detection_CustomDataset(Dataset):\n",
    "    \"\"\"\n",
    "    A custom dataset class for binary object detection tasks.\n",
    "\n",
    "    This class works with PyTorch's DataLoader to efficiently handle data during model training. It is tailored for a data format where each image is associated with bounding box coordinates and binary labels, \n",
    "    along with placeholders for predicted data.\n",
    "\n",
    "    Parameters:\n",
    "    -----------\n",
    "    image_box_lookup (dict): A dictionary containing image file paths and corresponding bounding box, label, and placeholder data for predictions. Labels should be binary (1 or 0).\n",
    "    images_base_path (str): Base directory path where image files are stored.\n",
    "    transform (callable, optional): A transform to be applied on each image. If None, default_transform is used.\n",
    "    random_sample (float, optional): A fraction (between 0 and 1) of the dataset to randomly sample. If None, the entire dataset is used.\n",
    "    positive_imgs_only (bool, optional): If True, only includes images with at least one instance of the positive class (label==1).\n",
    "\n",
    "    Notes:\n",
    "    ------\n",
    "    - The transform function is expected to handle the conversion of images to tensors and their normalization.\n",
    "    - 'image_box_lookup' format: Keys are image filenames and values are dictionaries with 'boxes' (list of coordinates), \n",
    "      'labels' (list of int, 0 or 1), and placeholders for 'predicted_boxes' and 'predicted_labels' (initially empty lists).\n",
    "    - If 'positive_imgs_only' is True, the dataset is filtered to include only images with at least one positive instance. This can reduce total training time.\n",
    "    - If 'random_sample' is provided, the dataset is subsampled to the specified fraction. This can reduce total training time, and is good for experimentation.\n",
    "    - This class assumes binary classification within object detection, with labels 0 or 1.\n",
    "\n",
    "    Example of 'image_box_lookup' structure:\n",
    "    {\n",
    "        \"image1.jpg\": {\n",
    "            \"boxes\": [[x1, y1, x2, y2], ...], \n",
    "            \"labels\": [1, 0, ...],\n",
    "            \"predicted_boxes\": [],\n",
    "            \"predicted_labels\": []\n",
    "        },\n",
    "        \"image2.jpg\": {\n",
    "            \"boxes\": [[x1, y1, x2, y2], ...], \n",
    "            \"labels\": [0, 1, ...],\n",
    "            \"predicted_boxes\": [],\n",
    "            \"predicted_labels\": []\n",
    "        },\n",
    "        ...\n",
    "    }\n",
    "    \"\"\"\n",
    "\n",
    "    def __init__(self, image_box_lookup, images_base_path, transform=None, random_sample = None, positive_imgs_only = False):\n",
    "        self.images_base_path = images_base_path\n",
    "        self.transform = transform if transform else default_transform()\n",
    "        self.image_box_lookup = image_box_lookup\n",
    "        if positive_imgs_only:\n",
    "            positive_images = []\n",
    "            for k, v in self.image_box_lookup.items():\n",
    "                labels = v[\"labels\"]\n",
    "                if any(labels):\n",
    "                    positive_images.append(k)\n",
    "            self.image_box_lookup = {k: self.image_box_lookup[k] for k in positive_images}\n",
    "\n",
    "        if random_sample:\n",
    "            # Ensure random_sample is a valid fraction\n",
    "            if not (0 < random_sample <= 1):\n",
    "                raise ValueError(\"random_sample must be a decimal between 0 and 1.\")\n",
    "\n",
    "            # Randomly sample the specified fraction of data\n",
    "            total_items = len(self.image_box_lookup)\n",
    "            sample_size = int(total_items * random_sample)\n",
    "            sampled_items = random.sample(list(self.image_box_lookup.items()), sample_size)\n",
    "            self.image_box_lookup = dict(sampled_items)\n",
    "\n",
    "        self.file_names = self.image_box_lookup.keys()\n",
    "\n",
    "\n",
    "\n",
    "    def __len__(self):\n",
    "        return len(self.image_box_lookup)\n",
    "\n",
    "    def __getitem__(self, idx):\n",
    "        image_name = list(self.image_box_lookup.keys())[idx]\n",
    "        image_path = os.path.join(self.images_base_path, image_name)\n",
    "        image = Image.open(image_path).convert(\"RGB\")  # Convert image to RGB just in case.\n",
    "        # Convert the image to tensor and normalize (if transform is given)\n",
    "        image = self.transform(image)\n",
    "\n",
    "\n",
    "        # Retrieve boxes and labels for the image\n",
    "        boxes = torch.as_tensor(self.image_box_lookup[image_name]['boxes'], dtype=torch.float32)\n",
    "        labels = torch.as_tensor(self.image_box_lookup[image_name]['labels'], dtype=torch.int64)\n",
    "\n",
    "        # Ensure labels tensor is always 1D\n",
    "        if len(labels.shape) == 0:\n",
    "            labels = labels.unsqueeze(0)\n",
    "\n",
    "\n",
    "        # Create a dictionary for the targets\n",
    "        target = {}\n",
    "        target[\"boxes\"] = boxes\n",
    "        target[\"labels\"] = labels\n",
    "\n",
    "        return image, target\n"
   ]
  },
  {
   "cell_type": "markdown",
   "metadata": {},
   "source": [
    "# Read in our data with an instance of our Lyft_image_classification_CustomDataset class."
   ]
  },
  {
   "cell_type": "markdown",
   "metadata": {},
   "source": [
    "### Each Dataset instance will be instantiated with the model it will be given to in mind. For example, our ResNet50 model is designed for image classification where the full object is centered in the image.This is why we load in the cropped images and not the full images."
   ]
  },
  {
   "cell_type": "code",
   "execution_count": 12,
   "metadata": {},
   "outputs": [
    {
     "name": "stdout",
     "output_type": "stream",
     "text": [
      "total number of batches to anticipate:  756.53125\n"
     ]
    }
   ],
   "source": [
    "cropped_images_dir = os.path.join(user_path_prefix, r\"3d-object-detection-for-autonomous-vehicles\\Train\\images\\Image_Classification\\train_cropped_images\\224\")\n",
    "dataset = Lyft_image_classification_CustomDataset(cropped_images_dir, target_category_name = \"pedestrian\", required_size=224)\n",
    "batch_size = 32\n",
    "dataloader = DataLoader(dataset, batch_size=batch_size, shuffle=True)\n",
    "print(\"total number of batches to anticipate: \", len(dataset)/batch_size)"
   ]
  },
  {
   "cell_type": "markdown",
   "metadata": {},
   "source": [
    "#### Remind ourselves what dataloader actually is. It is a grouping of binary labels indicating target category and the corresponding images as tensors."
   ]
  },
  {
   "cell_type": "code",
   "execution_count": 9,
   "metadata": {},
   "outputs": [],
   "source": [
    "# for data in dataloader:\n",
    "#     data_batch_tensor = data[0]\n",
    "#     data_batch_label = data[1]\n",
    "#     break\n",
    "\n",
    "# print(len(data_batch_tensor), len(data_batch_label))\n",
    "# print(data_batch_label[0])\n",
    "# print(data_batch_tensor[0])"
   ]
  },
  {
   "cell_type": "markdown",
   "metadata": {},
   "source": [
    "#### Print out the first 5 batches and observe the amount of positive and negative labels. With 9 categories, it is not surprising that the positive labels are outnumbered. Still, our basic Resnet50 model does well."
   ]
  },
  {
   "cell_type": "code",
   "execution_count": 13,
   "metadata": {},
   "outputs": [
    {
     "data": {
      "image/png": "[encoded data removed]",
      "text/plain": [
       "<Figure size 640x480 with 1 Axes>"
      ]
     },
     "metadata": {},
     "output_type": "display_data"
    }
   ],
   "source": [
    "sample_labels = []\n",
    "for i, data in enumerate(dataloader):\n",
    "    # print(f\"Batch {i}: Labels - {data[1]}\")\n",
    "    sample_labels.append(data[1])\n",
    "    if i == 5:  # Check first 5 batches\n",
    "        break\n",
    "\n",
    "positives = [torch.sum(tensor == 1).item() for tensor in sample_labels]\n",
    "negatives = [torch.sum(tensor == 0).item() for tensor in sample_labels]\n",
    "\n",
    "n_tensors = len(sample_labels)\n",
    "index = np.arange(n_tensors)\n",
    "bar_width = 0.35\n",
    "\n",
    "fig, ax = plt.subplots()\n",
    "bar1 = ax.bar(index, negatives, bar_width, label='0 (Negative)')\n",
    "bar2 = ax.bar(index + bar_width, positives, bar_width, label='1 (Positive)')\n",
    "\n",
    "ax.set_xlabel('Tensor Index')\n",
    "ax.set_ylabel('Frequency')\n",
    "ax.set_title('Frequency of Positive and Negative Labels per Tensor')\n",
    "ax.set_xticks(index + bar_width / 2)\n",
    "ax.set_xticklabels([f'Tensor {i+1}' for i in range(n_tensors)])\n",
    "ax.legend()\n",
    "\n",
    "plt.show()"
   ]
  },
  {
   "cell_type": "markdown",
   "metadata": {},
   "source": [
    "# Image Classificaiton "
   ]
  },
  {
   "cell_type": "markdown",
   "metadata": {},
   "source": [
    "## Import a ResNet50 model and train it on our images with the category object centered."
   ]
  },
  {
   "cell_type": "markdown",
   "metadata": {},
   "source": [
    "### First, check if GPU is available and move the model to GPU if it is"
   ]
  },
  {
   "cell_type": "code",
   "execution_count": 14,
   "metadata": {},
   "outputs": [
    {
     "name": "stdout",
     "output_type": "stream",
     "text": [
      "2048\n",
      "cuda:0\n"
     ]
    }
   ],
   "source": [
    "model_res50 = models.resnet50(weights=ResNet50_Weights.IMAGENET1K_V1)\n",
    "num_ftrs = model_res50.fc.in_features\n",
    "print(num_ftrs)\n",
    "model_res50.fc = nn.Linear(num_ftrs, 2) # Modify the last layer for binary classification\n",
    "\n",
    "device = torch.device(\"cuda:0\" if torch.cuda.is_available() else \"cpu\")\n",
    "print(device)\n",
    "model_res50 = model_res50.to(device)"
   ]
  },
  {
   "cell_type": "markdown",
   "metadata": {},
   "source": [
    "## Train"
   ]
  },
  {
   "cell_type": "code",
   "execution_count": 53,
   "metadata": {},
   "outputs": [],
   "source": [
    "def train_resnet50_classification(model_instance, num_epochs, batch_size, input_images_path, out_results_path, required_imgage_size=224, target_category_name=\"pedestrian\",\n",
    "                                  criterion=nn.CrossEntropyLoss(), learning_rate = 0.001, save_per_epoch=False):\n",
    "    \"\"\"\n",
    "    Trains a ResNet50 model for image classification tasks with specified parameters.\n",
    "\n",
    "    This function handles the training process including data loading, batch processing, loss computation, and optimization. It supports saving the model state and key metrics at the end of each epoch or after all epochs.\n",
    "\n",
    "    Parameters:\n",
    "    -----------\n",
    "    model_instance: The ResNet50 model instance to be trained.\n",
    "    num_epochs (int): The number of epochs to train the model.\n",
    "    batch_size (int): The batch size used for training.\n",
    "    input_images_path (str): Path to the directory containing training images.\n",
    "    out_results_path (str): Path where the trained model and metrics will be saved.\n",
    "    required_imgage_size (int, optional): Size that input images are expected to be in. Default is 224.\n",
    "    target_category_name (str, optional): The target category for classification. Default is \"pedestrian\".\n",
    "    criterion: Loss function used for training. Default is `nn.CrossEntropyLoss()`.\n",
    "    learning_rate (float, optional): Learning rate for the optimizer. Default is 0.001.\n",
    "    save_per_epoch (bool, optional): If True, saves the model and metrics after each epoch. Otherwise, saves once after all epochs. Default is False.\n",
    "\n",
    "    Notes:\n",
    "    ------\n",
    "    - The optimizer used is Adam, and currently, there is no flexibility for choosing a different optimizer. This may be updated in future releases.\n",
    "    - The function computes and prints loss, accuracy, precision, recall, and F1 score for each epoch if save_per_epoch == True. If it is False, it only computes values for final epoch.\n",
    "    - The model and metrics are saved as a checkpoint in '.pth' format, which uses Python's pickle module for serialization.\n",
    "    - It is assumed that the input images are organized in a way that is compatible with the `Lyft_image_classification_CustomDataset` class.\n",
    "    \"\"\"\n",
    "\n",
    "    optimizer = Adam(model_instance.parameters(), lr=learning_rate)\n",
    "\n",
    "    for epoch in range(num_epochs):\n",
    "        #Set training mode at beginning of each epoch in case we train on validation data within epoch with requires model.eval()\n",
    "        model_instance.train()\n",
    "\n",
    "        #Creat instances of our custom Dataset and subsequent default Dataloader\n",
    "        dataset = Lyft_image_classification_CustomDataset(input_images_path, target_category_name, required_imgage_size)\n",
    "        batch_size = batch_size\n",
    "        dataloader = DataLoader(dataset, batch_size=batch_size, shuffle=True)\n",
    "        print(f\"total number of batches to anticipate for epoch {epoch}: \", len(dataset)/batch_size)\n",
    "\n",
    "        running_loss = 0.0\n",
    "        running_corrects = 0\n",
    "        running_true_positives = 0\n",
    "        running_false_positives = 0\n",
    "        running_false_negatives = 0\n",
    "\n",
    "        # Iterate over data by batch\n",
    "        # We only need inputs and labels for training. The third placeholder is for filepaths to go back and address the images that created incorrect predictions during validation/inference. We dont need it in training.\n",
    "        for inputs, labels, _ in dataloader:\n",
    "            #Make sure input data and labels are on the GPU device.\n",
    "            inputs = inputs.to(device)\n",
    "            labels = labels.to(device)\n",
    "\n",
    "            # Zero the parameter gradients\n",
    "            optimizer.zero_grad()\n",
    "\n",
    "            # Forward pass\n",
    "            outputs = model_res50(inputs)\n",
    "            loss = criterion(outputs, labels)\n",
    "\n",
    "            # Backward pass and optimize\n",
    "            loss.backward()\n",
    "            optimizer.step()\n",
    "\n",
    "            # Statistics\n",
    "            # Assuming that loss.item() is the average loss of the predictions in the batch. Multiply by batch size to get the total loss (mean(loss)*batch_size).\n",
    "            running_loss += loss.item() * inputs.size(0)\n",
    "            _, preds = torch.max(outputs, 1)\n",
    "            running_corrects += torch.sum(preds == labels.data)\n",
    "            # Calculate True Positives, False Positives, False Negatives\n",
    "            for i in range(len(labels)):\n",
    "                if preds[i] == labels[i] == 1:  # True Positive\n",
    "                    running_true_positives += 1\n",
    "                elif preds[i] == 1 and labels[i] == 0:  # False Positive\n",
    "                    running_false_positives += 1\n",
    "                elif preds[i] == 0 and labels[i] == 1:  # False Negative\n",
    "                    running_false_negatives += 1\n",
    "\n",
    "        epoch_loss = running_loss / len(dataset)\n",
    "        epoch_acc = running_corrects.double() / len(dataset)\n",
    "        # Calculate Precision, Recall, and F1 Score after the loop\n",
    "        precision = running_true_positives / (running_true_positives + running_false_positives) if (running_true_positives + running_false_positives) > 0 else 0\n",
    "        recall = running_true_positives / (running_true_positives + running_false_negatives) if (running_true_positives + running_false_negatives) > 0 else 0\n",
    "        f1_score = 2 * (precision * recall) / (precision + recall) if (precision + recall) > 0 else 0\n",
    "\n",
    "        print(f'Epoch {epoch}/{num_epochs - 1} Loss: {epoch_loss:.4f} Precision: {precision:.4f} Recall: {recall:.4f} F1 Score: {f1_score:.4f} Acc: {epoch_acc:.4f}')\n",
    "\n",
    "        if save_per_epoch:\n",
    "            # We save out the model within each epoch. This is to retain completed work if the training loop fails at some point during execution.\n",
    "            # Note: We refer to our metrics as \"final\" in case we don't finish all epochs, but they can be interpreted as \"running\" until the last epoch is complete.\n",
    "            # Save the model state and metrics in a dictionary\n",
    "            checkpoint = {\n",
    "                'model_state_dict': model_instance.state_dict(),\n",
    "                'final_loss': epoch_loss,\n",
    "                'final_accuracy': epoch_acc,\n",
    "                'final_precision': precision,\n",
    "                'final_recall': recall,\n",
    "                'final_F1': f1_score\n",
    "            }\n",
    "\n",
    "            # Save the checkpoint\n",
    "            # It is Pytorch convention to save checkpoints of model states as '.pth' which is short of 'Pytorch'. This uses Python pickle module to serialize the data.\n",
    "            model_checkpoint_name = f'model_res50_epoch_{epoch}_batchsize_{batch_size}_lr_{learning_rate}.pth'\n",
    "            model_outpath = os.path.join(out_results_path, model_checkpoint_name)\n",
    "            torch.save(checkpoint, model_outpath)\n",
    "    \n",
    "    if not save_per_epoch :\n",
    "        # All epochs have been completed. Save the model state and metrics in a dictionary\n",
    "        checkpoint = {\n",
    "            'model_state_dict': model_instance.state_dict(),\n",
    "            'final_loss': epoch_loss,\n",
    "            'final_accuracy': epoch_acc,\n",
    "            'final_precision': precision,\n",
    "            'final_recall': recall,\n",
    "            'final_F1': f1_score\n",
    "        }\n",
    "\n",
    "        # Save the checkpoint\n",
    "        # It is Pytorch convention to save checkpoints of model states as '.pth' which is short of 'Pytorch'. This uses Python pickle module to serialize the data.\n",
    "        model_checkpoint_name = f'model_res50_batchsize_{batch_size}_lr_{learning_rate}.pth'\n",
    "        model_outpath = os.path.join(out_results_path, model_checkpoint_name)\n",
    "        torch.save(checkpoint, model_outpath)\n"
   ]
  },
  {
   "cell_type": "markdown",
   "metadata": {},
   "source": [
    "### Train 9 Resnet50 models each with a different combination of 3 batch sizes and 3 learning rates"
   ]
  },
  {
   "cell_type": "markdown",
   "metadata": {},
   "source": [
    "### Note: If you do not want to perform training and want to skip to the trained models that come with the repository, you may skip down to \"Train Results\"."
   ]
  },
  {
   "cell_type": "code",
   "execution_count": 15,
   "metadata": {},
   "outputs": [
    {
     "name": "stdout",
     "output_type": "stream",
     "text": [
      "total number of batches to anticipate for epoch 0:  484.18\n",
      "Epoch 0/9 Loss: 0.1270 Precision: 0.8549 Recall: 0.8534 F1 Score: 0.8541 Acc: 0.9508\n",
      "total number of batches to anticipate for epoch 1:  484.18\n",
      "Epoch 1/9 Loss: 0.0930 Precision: 0.8954 Recall: 0.9004 F1 Score: 0.8979 Acc: 0.9654\n",
      "total number of batches to anticipate for epoch 2:  484.18\n",
      "Epoch 2/9 Loss: 0.0743 Precision: 0.9179 Recall: 0.9190 F1 Score: 0.9184 Acc: 0.9724\n",
      "total number of batches to anticipate for epoch 3:  484.18\n",
      "Epoch 3/9 Loss: 0.0609 Precision: 0.9304 Recall: 0.9418 F1 Score: 0.9360 Acc: 0.9783\n",
      "total number of batches to anticipate for epoch 4:  484.18\n",
      "Epoch 4/9 Loss: 0.0545 Precision: 0.9367 Recall: 0.9484 F1 Score: 0.9425 Acc: 0.9805\n",
      "total number of batches to anticipate for epoch 5:  484.18\n",
      "Epoch 5/9 Loss: 0.0488 Precision: 0.9435 Recall: 0.9518 F1 Score: 0.9476 Acc: 0.9822\n",
      "total number of batches to anticipate for epoch 6:  484.18\n",
      "Epoch 6/9 Loss: 0.0427 Precision: 0.9489 Recall: 0.9584 F1 Score: 0.9536 Acc: 0.9843\n",
      "total number of batches to anticipate for epoch 7:  484.18\n",
      "Epoch 7/9 Loss: 0.0420 Precision: 0.9497 Recall: 0.9567 F1 Score: 0.9532 Acc: 0.9841\n",
      "total number of batches to anticipate for epoch 8:  484.18\n",
      "Epoch 8/9 Loss: 0.0321 Precision: 0.9626 Recall: 0.9699 F1 Score: 0.9662 Acc: 0.9886\n",
      "total number of batches to anticipate for epoch 9:  484.18\n",
      "Epoch 9/9 Loss: 0.0293 Precision: 0.9648 Recall: 0.9716 F1 Score: 0.9682 Acc: 0.9892\n",
      "total number of batches to anticipate for epoch 0:  484.18\n",
      "Epoch 0/9 Loss: 0.1873 Precision: 0.7980 Recall: 0.7785 F1 Score: 0.7882 Acc: 0.9294\n",
      "total number of batches to anticipate for epoch 1:  484.18\n",
      "Epoch 1/9 Loss: 0.1335 Precision: 0.8407 Recall: 0.8566 F1 Score: 0.8486 Acc: 0.9484\n",
      "total number of batches to anticipate for epoch 2:  484.18\n",
      "Epoch 2/9 Loss: 0.1159 Precision: 0.8613 Recall: 0.8796 F1 Score: 0.8703 Acc: 0.9558\n",
      "total number of batches to anticipate for epoch 3:  484.18\n",
      "Epoch 3/9 Loss: 0.1005 Precision: 0.8779 Recall: 0.9011 F1 Score: 0.8894 Acc: 0.9622\n",
      "total number of batches to anticipate for epoch 4:  484.18\n",
      "Epoch 4/9 Loss: 0.0992 Precision: 0.8731 Recall: 0.8994 F1 Score: 0.8861 Acc: 0.9610\n",
      "total number of batches to anticipate for epoch 5:  484.18\n",
      "Epoch 5/9 Loss: 0.0875 Precision: 0.8911 Recall: 0.9153 F1 Score: 0.9031 Acc: 0.9668\n",
      "total number of batches to anticipate for epoch 6:  484.18\n",
      "Epoch 6/9 Loss: 0.0880 Precision: 0.8953 Recall: 0.9168 F1 Score: 0.9059 Acc: 0.9679\n",
      "total number of batches to anticipate for epoch 7:  484.18\n",
      "Epoch 7/9 Loss: 0.0773 Precision: 0.9016 Recall: 0.9266 F1 Score: 0.9139 Acc: 0.9705\n",
      "total number of batches to anticipate for epoch 8:  484.18\n",
      "Epoch 8/9 Loss: 0.0738 Precision: 0.9102 Recall: 0.9283 F1 Score: 0.9192 Acc: 0.9724\n",
      "total number of batches to anticipate for epoch 9:  484.18\n",
      "Epoch 9/9 Loss: 0.0690 Precision: 0.9156 Recall: 0.9351 F1 Score: 0.9253 Acc: 0.9745\n",
      "total number of batches to anticipate for epoch 0:  484.18\n",
      "Epoch 0/9 Loss: 0.0523 Precision: 0.9188 Recall: 0.9665 F1 Score: 0.9420 Acc: 0.9799\n",
      "total number of batches to anticipate for epoch 1:  484.18\n",
      "Epoch 1/9 Loss: 0.0441 Precision: 0.9423 Recall: 0.9594 F1 Score: 0.9508 Acc: 0.9832\n",
      "total number of batches to anticipate for epoch 2:  484.18\n",
      "Epoch 2/9 Loss: 0.0431 Precision: 0.9457 Recall: 0.9630 F1 Score: 0.9543 Acc: 0.9844\n",
      "total number of batches to anticipate for epoch 3:  484.18\n",
      "Epoch 3/9 Loss: 0.0420 Precision: 0.9457 Recall: 0.9633 F1 Score: 0.9544 Acc: 0.9845\n",
      "total number of batches to anticipate for epoch 4:  484.18\n",
      "Epoch 4/9 Loss: 0.0407 Precision: 0.9498 Recall: 0.9640 F1 Score: 0.9569 Acc: 0.9853\n",
      "total number of batches to anticipate for epoch 5:  484.18\n",
      "Epoch 5/9 Loss: 0.0400 Precision: 0.9526 Recall: 0.9643 F1 Score: 0.9584 Acc: 0.9859\n",
      "total number of batches to anticipate for epoch 6:  484.18\n",
      "Epoch 6/9 Loss: 0.0381 Precision: 0.9518 Recall: 0.9667 F1 Score: 0.9592 Acc: 0.9861\n",
      "total number of batches to anticipate for epoch 7:  484.18\n",
      "Epoch 7/9 Loss: 0.0368 Precision: 0.9542 Recall: 0.9635 F1 Score: 0.9588 Acc: 0.9860\n",
      "total number of batches to anticipate for epoch 8:  484.18\n",
      "Epoch 8/9 Loss: 0.0360 Precision: 0.9563 Recall: 0.9684 F1 Score: 0.9623 Acc: 0.9872\n",
      "total number of batches to anticipate for epoch 9:  484.18\n",
      "Epoch 9/9 Loss: 0.0359 Precision: 0.9532 Recall: 0.9679 F1 Score: 0.9605 Acc: 0.9866\n",
      "total number of batches to anticipate for epoch 0:  756.53125\n",
      "Epoch 0/9 Loss: 0.0412 Precision: 0.9508 Recall: 0.9611 F1 Score: 0.9559 Acc: 0.9850\n",
      "total number of batches to anticipate for epoch 1:  756.53125\n",
      "Epoch 1/9 Loss: 0.0348 Precision: 0.9562 Recall: 0.9682 F1 Score: 0.9622 Acc: 0.9872\n",
      "total number of batches to anticipate for epoch 2:  756.53125\n",
      "Epoch 2/9 Loss: 0.0309 Precision: 0.9618 Recall: 0.9723 F1 Score: 0.9670 Acc: 0.9888\n",
      "total number of batches to anticipate for epoch 3:  756.53125\n",
      "Epoch 3/9 Loss: 0.0269 Precision: 0.9663 Recall: 0.9755 F1 Score: 0.9709 Acc: 0.9901\n",
      "total number of batches to anticipate for epoch 4:  756.53125\n",
      "Epoch 4/9 Loss: 0.0247 Precision: 0.9695 Recall: 0.9787 F1 Score: 0.9741 Acc: 0.9912\n",
      "total number of batches to anticipate for epoch 5:  756.53125\n",
      "Epoch 5/9 Loss: 0.0209 Precision: 0.9754 Recall: 0.9809 F1 Score: 0.9782 Acc: 0.9926\n",
      "total number of batches to anticipate for epoch 6:  756.53125\n",
      "Epoch 6/9 Loss: 0.0183 Precision: 0.9786 Recall: 0.9826 F1 Score: 0.9806 Acc: 0.9934\n",
      "total number of batches to anticipate for epoch 7:  756.53125\n",
      "Epoch 7/9 Loss: 0.0180 Precision: 0.9790 Recall: 0.9834 F1 Score: 0.9812 Acc: 0.9936\n",
      "total number of batches to anticipate for epoch 8:  756.53125\n",
      "Epoch 8/9 Loss: 0.0157 Precision: 0.9820 Recall: 0.9853 F1 Score: 0.9836 Acc: 0.9945\n",
      "total number of batches to anticipate for epoch 9:  756.53125\n",
      "Epoch 9/9 Loss: 0.0122 Precision: 0.9868 Recall: 0.9860 F1 Score: 0.9864 Acc: 0.9954\n",
      "total number of batches to anticipate for epoch 0:  756.53125\n",
      "Epoch 0/9 Loss: 0.0740 Precision: 0.9154 Recall: 0.9298 F1 Score: 0.9225 Acc: 0.9736\n",
      "total number of batches to anticipate for epoch 1:  756.53125\n",
      "Epoch 1/9 Loss: 0.0644 Precision: 0.9219 Recall: 0.9354 F1 Score: 0.9286 Acc: 0.9757\n",
      "total number of batches to anticipate for epoch 2:  756.53125\n",
      "Epoch 2/9 Loss: 0.0590 Precision: 0.9278 Recall: 0.9432 F1 Score: 0.9354 Acc: 0.9780\n",
      "total number of batches to anticipate for epoch 3:  756.53125\n",
      "Epoch 3/9 Loss: 0.0579 Precision: 0.9286 Recall: 0.9425 F1 Score: 0.9355 Acc: 0.9781\n",
      "total number of batches to anticipate for epoch 4:  756.53125\n",
      "Epoch 4/9 Loss: 0.0544 Precision: 0.9326 Recall: 0.9486 F1 Score: 0.9405 Acc: 0.9798\n",
      "total number of batches to anticipate for epoch 5:  756.53125\n",
      "Epoch 5/9 Loss: 0.0538 Precision: 0.9359 Recall: 0.9462 F1 Score: 0.9410 Acc: 0.9800\n",
      "total number of batches to anticipate for epoch 6:  756.53125\n",
      "Epoch 6/9 Loss: 0.0497 Precision: 0.9407 Recall: 0.9506 F1 Score: 0.9456 Acc: 0.9815\n",
      "total number of batches to anticipate for epoch 7:  756.53125\n",
      "Epoch 7/9 Loss: 0.0448 Precision: 0.9446 Recall: 0.9557 F1 Score: 0.9501 Acc: 0.9831\n",
      "total number of batches to anticipate for epoch 8:  756.53125\n",
      "Epoch 8/9 Loss: 0.0410 Precision: 0.9497 Recall: 0.9604 F1 Score: 0.9550 Acc: 0.9847\n",
      "total number of batches to anticipate for epoch 9:  756.53125\n",
      "Epoch 9/9 Loss: 0.0435 Precision: 0.9478 Recall: 0.9604 F1 Score: 0.9540 Acc: 0.9844\n",
      "total number of batches to anticipate for epoch 0:  756.53125\n",
      "Epoch 0/9 Loss: 0.0307 Precision: 0.9663 Recall: 0.9672 F1 Score: 0.9667 Acc: 0.9888\n",
      "total number of batches to anticipate for epoch 1:  756.53125\n",
      "Epoch 1/9 Loss: 0.0268 Precision: 0.9659 Recall: 0.9770 F1 Score: 0.9714 Acc: 0.9903\n",
      "total number of batches to anticipate for epoch 2:  756.53125\n",
      "Epoch 2/9 Loss: 0.0237 Precision: 0.9727 Recall: 0.9785 F1 Score: 0.9756 Acc: 0.9917\n",
      "total number of batches to anticipate for epoch 3:  756.53125\n",
      "Epoch 3/9 Loss: 0.0229 Precision: 0.9733 Recall: 0.9804 F1 Score: 0.9768 Acc: 0.9922\n",
      "total number of batches to anticipate for epoch 4:  756.53125\n",
      "Epoch 4/9 Loss: 0.0208 Precision: 0.9776 Recall: 0.9829 F1 Score: 0.9802 Acc: 0.9933\n",
      "total number of batches to anticipate for epoch 5:  756.53125\n",
      "Epoch 5/9 Loss: 0.0199 Precision: 0.9769 Recall: 0.9826 F1 Score: 0.9797 Acc: 0.9931\n",
      "total number of batches to anticipate for epoch 6:  756.53125\n",
      "Epoch 6/9 Loss: 0.0185 Precision: 0.9783 Recall: 0.9831 F1 Score: 0.9807 Acc: 0.9935\n",
      "total number of batches to anticipate for epoch 7:  756.53125\n",
      "Epoch 7/9 Loss: 0.0176 Precision: 0.9812 Recall: 0.9848 F1 Score: 0.9830 Acc: 0.9943\n",
      "total number of batches to anticipate for epoch 8:  756.53125\n",
      "Epoch 8/9 Loss: 0.0172 Precision: 0.9815 Recall: 0.9868 F1 Score: 0.9841 Acc: 0.9946\n",
      "total number of batches to anticipate for epoch 9:  756.53125\n",
      "Epoch 9/9 Loss: 0.0169 Precision: 0.9810 Recall: 0.9848 F1 Score: 0.9829 Acc: 0.9942\n",
      "total number of batches to anticipate for epoch 0:  2420.9\n",
      "Epoch 0/9 Loss: 0.0285 Precision: 0.9700 Recall: 0.9733 F1 Score: 0.9717 Acc: 0.9904\n",
      "total number of batches to anticipate for epoch 1:  2420.9\n",
      "Epoch 1/9 Loss: 0.0213 Precision: 0.9751 Recall: 0.9775 F1 Score: 0.9763 Acc: 0.9920\n",
      "total number of batches to anticipate for epoch 2:  2420.9\n",
      "Epoch 2/9 Loss: 0.0167 Precision: 0.9817 Recall: 0.9834 F1 Score: 0.9825 Acc: 0.9941\n",
      "total number of batches to anticipate for epoch 3:  2420.9\n",
      "Epoch 3/9 Loss: 0.0140 Precision: 0.9846 Recall: 0.9873 F1 Score: 0.9859 Acc: 0.9952\n",
      "total number of batches to anticipate for epoch 4:  2420.9\n",
      "Epoch 4/9 Loss: 0.0134 Precision: 0.9853 Recall: 0.9860 F1 Score: 0.9857 Acc: 0.9952\n",
      "total number of batches to anticipate for epoch 5:  2420.9\n",
      "Epoch 5/9 Loss: 0.0108 Precision: 0.9873 Recall: 0.9897 F1 Score: 0.9885 Acc: 0.9961\n",
      "total number of batches to anticipate for epoch 6:  2420.9\n",
      "Epoch 6/9 Loss: 0.0101 Precision: 0.9900 Recall: 0.9909 F1 Score: 0.9905 Acc: 0.9968\n",
      "total number of batches to anticipate for epoch 7:  2420.9\n",
      "Epoch 7/9 Loss: 0.0087 Precision: 0.9907 Recall: 0.9917 F1 Score: 0.9912 Acc: 0.9970\n",
      "total number of batches to anticipate for epoch 8:  2420.9\n",
      "Epoch 8/9 Loss: 0.0104 Precision: 0.9885 Recall: 0.9895 F1 Score: 0.9890 Acc: 0.9963\n",
      "total number of batches to anticipate for epoch 9:  2420.9\n",
      "Epoch 9/9 Loss: 0.0057 Precision: 0.9951 Recall: 0.9944 F1 Score: 0.9947 Acc: 0.9982\n",
      "total number of batches to anticipate for epoch 0:  2420.9\n",
      "Epoch 0/9 Loss: 0.0674 Precision: 0.9242 Recall: 0.9312 F1 Score: 0.9277 Acc: 0.9755\n",
      "total number of batches to anticipate for epoch 1:  2420.9\n",
      "Epoch 1/9 Loss: 0.0635 Precision: 0.9213 Recall: 0.9398 F1 Score: 0.9305 Acc: 0.9763\n",
      "total number of batches to anticipate for epoch 2:  2420.9\n",
      "Epoch 2/9 Loss: 0.0582 Precision: 0.9307 Recall: 0.9427 F1 Score: 0.9367 Acc: 0.9785\n",
      "total number of batches to anticipate for epoch 3:  2420.9\n",
      "Epoch 3/9 Loss: 0.0553 Precision: 0.9346 Recall: 0.9476 F1 Score: 0.9411 Acc: 0.9800\n",
      "total number of batches to anticipate for epoch 4:  2420.9\n",
      "Epoch 4/9 Loss: 0.0515 Precision: 0.9388 Recall: 0.9506 F1 Score: 0.9447 Acc: 0.9812\n",
      "total number of batches to anticipate for epoch 5:  2420.9\n",
      "Epoch 5/9 Loss: 0.0517 Precision: 0.9345 Recall: 0.9469 F1 Score: 0.9407 Acc: 0.9798\n",
      "total number of batches to anticipate for epoch 6:  2420.9\n",
      "Epoch 6/9 Loss: 0.0488 Precision: 0.9459 Recall: 0.9540 F1 Score: 0.9499 Acc: 0.9830\n",
      "total number of batches to anticipate for epoch 7:  2420.9\n",
      "Epoch 7/9 Loss: 0.0395 Precision: 0.9531 Recall: 0.9591 F1 Score: 0.9561 Acc: 0.9851\n",
      "total number of batches to anticipate for epoch 8:  2420.9\n",
      "Epoch 8/9 Loss: 0.0484 Precision: 0.9405 Recall: 0.9515 F1 Score: 0.9460 Acc: 0.9817\n",
      "total number of batches to anticipate for epoch 9:  2420.9\n",
      "Epoch 9/9 Loss: 0.0336 Precision: 0.9589 Recall: 0.9657 F1 Score: 0.9623 Acc: 0.9872\n",
      "total number of batches to anticipate for epoch 0:  2420.9\n",
      "Epoch 0/9 Loss: 0.0211 Precision: 0.9779 Recall: 0.9741 F1 Score: 0.9760 Acc: 0.9919\n",
      "total number of batches to anticipate for epoch 1:  2420.9\n",
      "Epoch 1/9 Loss: 0.0178 Precision: 0.9810 Recall: 0.9831 F1 Score: 0.9820 Acc: 0.9939\n",
      "total number of batches to anticipate for epoch 2:  2420.9\n",
      "Epoch 2/9 Loss: 0.0143 Precision: 0.9830 Recall: 0.9883 F1 Score: 0.9856 Acc: 0.9951\n",
      "total number of batches to anticipate for epoch 3:  2420.9\n",
      "Epoch 3/9 Loss: 0.0134 Precision: 0.9844 Recall: 0.9890 F1 Score: 0.9867 Acc: 0.9955\n",
      "total number of batches to anticipate for epoch 4:  2420.9\n",
      "Epoch 4/9 Loss: 0.0118 Precision: 0.9871 Recall: 0.9907 F1 Score: 0.9889 Acc: 0.9962\n",
      "total number of batches to anticipate for epoch 5:  2420.9\n",
      "Epoch 5/9 Loss: 0.0106 Precision: 0.9902 Recall: 0.9917 F1 Score: 0.9910 Acc: 0.9969\n",
      "total number of batches to anticipate for epoch 6:  2420.9\n",
      "Epoch 6/9 Loss: 0.0107 Precision: 0.9885 Recall: 0.9887 F1 Score: 0.9886 Acc: 0.9962\n",
      "total number of batches to anticipate for epoch 7:  2420.9\n",
      "Epoch 7/9 Loss: 0.0092 Precision: 0.9907 Recall: 0.9924 F1 Score: 0.9916 Acc: 0.9971\n",
      "total number of batches to anticipate for epoch 8:  2420.9\n",
      "Epoch 8/9 Loss: 0.0103 Precision: 0.9900 Recall: 0.9895 F1 Score: 0.9897 Acc: 0.9965\n",
      "total number of batches to anticipate for epoch 9:  2420.9\n",
      "Epoch 9/9 Loss: 0.0090 Precision: 0.9910 Recall: 0.9931 F1 Score: 0.9921 Acc: 0.9973\n"
     ]
    }
   ],
   "source": [
    "batch_sizes = [50, 32, 10]\n",
    "learning_rates = [0.001, 0.01, 0.0001]\n",
    "input_images_path = os.path.join(user_path_prefix, r\"3d-object-detection-for-autonomous-vehicles\\Train\\images\\Image_Classification\\train_cropped_images\\224\")\n",
    "\n",
    "#This is where the trained models will be output to\n",
    "out_results_path = os.path.join(user_path_prefix, r\"3d-object-detection-for-autonomous-vehicles\\Train\\models\")\n",
    "\n",
    "#At this point, we should already have images sized to required_image_size from the preprocessing phase. This is just to navigate to the correct image dir.\n",
    "#It should also, therefore, correspond to the sized depicted by 'input_images_path'.\n",
    "required_image_size = 224\n",
    "target_category_name = \"pedestrian\"\n",
    "\n",
    "for batch_size in batch_sizes:\n",
    "    for learning_rate in learning_rates:\n",
    "        train_resnet50_classification(model_instance=model_res50, num_epochs=10, batch_size=batch_size, input_images_path=input_images_path, out_results_path=out_results_path,\n",
    "                                       required_imgage_size=required_image_size, target_category_name=target_category_name, learning_rate=learning_rate, save_per_epoch=True)"
   ]
  },
  {
   "cell_type": "markdown",
   "metadata": {},
   "source": [
    "## Train Results"
   ]
  },
  {
   "cell_type": "markdown",
   "metadata": {},
   "source": [
    "### Load all of the trained models back in and stich their results together into a summary \"all_model_results_df\"."
   ]
  },
  {
   "cell_type": "markdown",
   "metadata": {},
   "source": [
    "#### WARNING: The cell below will overwrite \"all_model_results.csv\" if you have alreayd created it."
   ]
  },
  {
   "cell_type": "code",
   "execution_count": 10,
   "metadata": {},
   "outputs": [
    {
     "data": {
      "text/html": [
       "<div>\n",
       "<style scoped>\n",
       "    .dataframe tbody tr th:only-of-type {\n",
       "        vertical-align: middle;\n",
       "    }\n",
       "\n",
       "    .dataframe tbody tr th {\n",
       "        vertical-align: top;\n",
       "    }\n",
       "\n",
       "    .dataframe thead th {\n",
       "        text-align: right;\n",
       "    }\n",
       "</style>\n",
       "<table border=\"1\" class=\"dataframe\">\n",
       "  <thead>\n",
       "    <tr style=\"text-align: right;\">\n",
       "      <th></th>\n",
       "      <th>model_id_path</th>\n",
       "      <th>epoch</th>\n",
       "      <th>batch_size</th>\n",
       "      <th>learning_rate</th>\n",
       "      <th>final_loss</th>\n",
       "      <th>final_accuracy</th>\n",
       "      <th>final_precision</th>\n",
       "      <th>final_recall</th>\n",
       "      <th>final_F1</th>\n",
       "      <th>validation_loss</th>\n",
       "      <th>validation_accuracy</th>\n",
       "      <th>validation_precision</th>\n",
       "      <th>validation_recall</th>\n",
       "      <th>validation_F1</th>\n",
       "      <th>false_positive_images</th>\n",
       "      <th>false_negative_images</th>\n",
       "    </tr>\n",
       "  </thead>\n",
       "  <tbody>\n",
       "    <tr>\n",
       "      <th>81</th>\n",
       "      <td>model_res50_epoch_9_batchsize_10_lr_0.0001.pth</td>\n",
       "      <td>9</td>\n",
       "      <td>10</td>\n",
       "      <td>0.0001.</td>\n",
       "      <td>0.008955</td>\n",
       "      <td>0.997315</td>\n",
       "      <td>0.990965</td>\n",
       "      <td>0.993147</td>\n",
       "      <td>0.992055</td>\n",
       "      <td>None</td>\n",
       "      <td>None</td>\n",
       "      <td>None</td>\n",
       "      <td>None</td>\n",
       "      <td>None</td>\n",
       "      <td>None</td>\n",
       "      <td>None</td>\n",
       "    </tr>\n",
       "    <tr>\n",
       "      <th>82</th>\n",
       "      <td>model_res50_epoch_9_batchsize_10_lr_0.001.pth</td>\n",
       "      <td>9</td>\n",
       "      <td>10</td>\n",
       "      <td>0.001.</td>\n",
       "      <td>0.005681</td>\n",
       "      <td>0.998224</td>\n",
       "      <td>0.995102</td>\n",
       "      <td>0.994371</td>\n",
       "      <td>0.994736</td>\n",
       "      <td>None</td>\n",
       "      <td>None</td>\n",
       "      <td>None</td>\n",
       "      <td>None</td>\n",
       "      <td>None</td>\n",
       "      <td>None</td>\n",
       "      <td>None</td>\n",
       "    </tr>\n",
       "    <tr>\n",
       "      <th>83</th>\n",
       "      <td>model_res50_epoch_9_batchsize_10_lr_0.01.pth</td>\n",
       "      <td>9</td>\n",
       "      <td>10</td>\n",
       "      <td>0.01.</td>\n",
       "      <td>0.033554</td>\n",
       "      <td>0.987236</td>\n",
       "      <td>0.958931</td>\n",
       "      <td>0.965737</td>\n",
       "      <td>0.962322</td>\n",
       "      <td>None</td>\n",
       "      <td>None</td>\n",
       "      <td>None</td>\n",
       "      <td>None</td>\n",
       "      <td>None</td>\n",
       "      <td>None</td>\n",
       "      <td>None</td>\n",
       "    </tr>\n",
       "    <tr>\n",
       "      <th>84</th>\n",
       "      <td>model_res50_epoch_9_batchsize_32_lr_0.0001.pth</td>\n",
       "      <td>9</td>\n",
       "      <td>32</td>\n",
       "      <td>0.0001.</td>\n",
       "      <td>0.016930</td>\n",
       "      <td>0.994217</td>\n",
       "      <td>0.980985</td>\n",
       "      <td>0.984826</td>\n",
       "      <td>0.982902</td>\n",
       "      <td>None</td>\n",
       "      <td>None</td>\n",
       "      <td>None</td>\n",
       "      <td>None</td>\n",
       "      <td>None</td>\n",
       "      <td>None</td>\n",
       "      <td>None</td>\n",
       "    </tr>\n",
       "    <tr>\n",
       "      <th>85</th>\n",
       "      <td>model_res50_epoch_9_batchsize_32_lr_0.001.pth</td>\n",
       "      <td>9</td>\n",
       "      <td>32</td>\n",
       "      <td>0.001.</td>\n",
       "      <td>0.012222</td>\n",
       "      <td>0.995415</td>\n",
       "      <td>0.986774</td>\n",
       "      <td>0.986050</td>\n",
       "      <td>0.986412</td>\n",
       "      <td>None</td>\n",
       "      <td>None</td>\n",
       "      <td>None</td>\n",
       "      <td>None</td>\n",
       "      <td>None</td>\n",
       "      <td>None</td>\n",
       "      <td>None</td>\n",
       "    </tr>\n",
       "    <tr>\n",
       "      <th>86</th>\n",
       "      <td>model_res50_epoch_9_batchsize_32_lr_0.01.pth</td>\n",
       "      <td>9</td>\n",
       "      <td>32</td>\n",
       "      <td>0.01.</td>\n",
       "      <td>0.043471</td>\n",
       "      <td>0.984386</td>\n",
       "      <td>0.947826</td>\n",
       "      <td>0.960352</td>\n",
       "      <td>0.954048</td>\n",
       "      <td>None</td>\n",
       "      <td>None</td>\n",
       "      <td>None</td>\n",
       "      <td>None</td>\n",
       "      <td>None</td>\n",
       "      <td>None</td>\n",
       "      <td>None</td>\n",
       "    </tr>\n",
       "    <tr>\n",
       "      <th>87</th>\n",
       "      <td>model_res50_epoch_9_batchsize_50_lr_0.0001.pth</td>\n",
       "      <td>9</td>\n",
       "      <td>50</td>\n",
       "      <td>0.0001.</td>\n",
       "      <td>0.035888</td>\n",
       "      <td>0.986575</td>\n",
       "      <td>0.953242</td>\n",
       "      <td>0.967939</td>\n",
       "      <td>0.960534</td>\n",
       "      <td>None</td>\n",
       "      <td>None</td>\n",
       "      <td>None</td>\n",
       "      <td>None</td>\n",
       "      <td>None</td>\n",
       "      <td>None</td>\n",
       "      <td>None</td>\n",
       "    </tr>\n",
       "    <tr>\n",
       "      <th>88</th>\n",
       "      <td>model_res50_epoch_9_batchsize_50_lr_0.001.pth</td>\n",
       "      <td>9</td>\n",
       "      <td>50</td>\n",
       "      <td>0.001.</td>\n",
       "      <td>0.029320</td>\n",
       "      <td>0.989219</td>\n",
       "      <td>0.964763</td>\n",
       "      <td>0.971610</td>\n",
       "      <td>0.968175</td>\n",
       "      <td>None</td>\n",
       "      <td>None</td>\n",
       "      <td>None</td>\n",
       "      <td>None</td>\n",
       "      <td>None</td>\n",
       "      <td>None</td>\n",
       "      <td>None</td>\n",
       "    </tr>\n",
       "    <tr>\n",
       "      <th>89</th>\n",
       "      <td>model_res50_epoch_9_batchsize_50_lr_0.01.pth</td>\n",
       "      <td>9</td>\n",
       "      <td>50</td>\n",
       "      <td>0.01.</td>\n",
       "      <td>0.068964</td>\n",
       "      <td>0.974514</td>\n",
       "      <td>0.915648</td>\n",
       "      <td>0.935144</td>\n",
       "      <td>0.925294</td>\n",
       "      <td>None</td>\n",
       "      <td>None</td>\n",
       "      <td>None</td>\n",
       "      <td>None</td>\n",
       "      <td>None</td>\n",
       "      <td>None</td>\n",
       "      <td>None</td>\n",
       "    </tr>\n",
       "  </tbody>\n",
       "</table>\n",
       "</div>"
      ],
      "text/plain": [
       "                                     model_id_path epoch batch_size  \\\n",
       "81  model_res50_epoch_9_batchsize_10_lr_0.0001.pth     9         10   \n",
       "82   model_res50_epoch_9_batchsize_10_lr_0.001.pth     9         10   \n",
       "83    model_res50_epoch_9_batchsize_10_lr_0.01.pth     9         10   \n",
       "84  model_res50_epoch_9_batchsize_32_lr_0.0001.pth     9         32   \n",
       "85   model_res50_epoch_9_batchsize_32_lr_0.001.pth     9         32   \n",
       "86    model_res50_epoch_9_batchsize_32_lr_0.01.pth     9         32   \n",
       "87  model_res50_epoch_9_batchsize_50_lr_0.0001.pth     9         50   \n",
       "88   model_res50_epoch_9_batchsize_50_lr_0.001.pth     9         50   \n",
       "89    model_res50_epoch_9_batchsize_50_lr_0.01.pth     9         50   \n",
       "\n",
       "   learning_rate  final_loss  final_accuracy  final_precision  final_recall  \\\n",
       "81       0.0001.    0.008955        0.997315         0.990965      0.993147   \n",
       "82        0.001.    0.005681        0.998224         0.995102      0.994371   \n",
       "83         0.01.    0.033554        0.987236         0.958931      0.965737   \n",
       "84       0.0001.    0.016930        0.994217         0.980985      0.984826   \n",
       "85        0.001.    0.012222        0.995415         0.986774      0.986050   \n",
       "86         0.01.    0.043471        0.984386         0.947826      0.960352   \n",
       "87       0.0001.    0.035888        0.986575         0.953242      0.967939   \n",
       "88        0.001.    0.029320        0.989219         0.964763      0.971610   \n",
       "89         0.01.    0.068964        0.974514         0.915648      0.935144   \n",
       "\n",
       "    final_F1 validation_loss validation_accuracy validation_precision  \\\n",
       "81  0.992055            None                None                 None   \n",
       "82  0.994736            None                None                 None   \n",
       "83  0.962322            None                None                 None   \n",
       "84  0.982902            None                None                 None   \n",
       "85  0.986412            None                None                 None   \n",
       "86  0.954048            None                None                 None   \n",
       "87  0.960534            None                None                 None   \n",
       "88  0.968175            None                None                 None   \n",
       "89  0.925294            None                None                 None   \n",
       "\n",
       "   validation_recall validation_F1 false_positive_images false_negative_images  \n",
       "81              None          None                  None                  None  \n",
       "82              None          None                  None                  None  \n",
       "83              None          None                  None                  None  \n",
       "84              None          None                  None                  None  \n",
       "85              None          None                  None                  None  \n",
       "86              None          None                  None                  None  \n",
       "87              None          None                  None                  None  \n",
       "88              None          None                  None                  None  \n",
       "89              None          None                  None                  None  "
      ]
     },
     "execution_count": 10,
     "metadata": {},
     "output_type": "execute_result"
    }
   ],
   "source": [
    "# To load the model and metrics later\n",
    "model_metrics = ['final_loss', 'final_accuracy', 'final_precision', 'final_recall', 'final_F1']\n",
    "model_dir = os.path.join(user_path_prefix, r\"3d-object-detection-for-autonomous-vehicles\\Train\\models\")\n",
    "\n",
    "all_model_results = []\n",
    "for path in os.listdir(model_dir):\n",
    "        model_results = {}\n",
    "        model_path = os.path.join(model_dir, path)\n",
    "        if model_path.endswith(\"pth\"):\n",
    "            checkpoint = torch.load(model_path)\n",
    "            matches = re.search(r'epoch_(\\d+)_batchsize_(\\d+)_lr_([\\d.]+)', model_path)\n",
    "            if matches:\n",
    "                model_results[\"model_id_name\"] = path\n",
    "                epoch = matches.group(1)\n",
    "                model_results[\"epoch\"] = epoch\n",
    "                batch_size = matches.group(2)\n",
    "                model_results[\"batch_size\"] = batch_size\n",
    "                lr = matches.group(3)\n",
    "                model_results[\"learning_rate\"] = lr\n",
    "\n",
    "            for metric in model_metrics:\n",
    "                model_results[metric] = checkpoint[metric]\n",
    "            \n",
    "            all_model_results.append(model_results)\n",
    "\n",
    "all_model_results_df = pd.DataFrame(all_model_results)\n",
    "all_model_results_df = all_model_results_df.sort_values([\"batch_size\", \"learning_rate\", \"epoch\"])\n",
    "\n",
    "#we only need to fix final_accuracy for now until we run training again. Fix this before running training again. \n",
    "all_model_results_df[\"final_accuracy\"] = all_model_results_df[\"final_accuracy\"].apply(lambda x: x.item())\n",
    "\n",
    "#Create empty columns for the validation loop to populate\n",
    "all_model_results_df[\"validation_loss\"] = None\n",
    "all_model_results_df[\"validation_accuracy\"] = None\n",
    "all_model_results_df[\"validation_precision\"] = None\n",
    "all_model_results_df[\"validation_recall\"] = None\n",
    "all_model_results_df[\"validation_F1\"] = None\n",
    "all_model_results_df[\"false_positive_images\"] = None\n",
    "all_model_results_df[\"false_negative_images\"] = None\n",
    "\n",
    "#Set these to 'object' type so we can assign a list of strings converted into one, large string.\n",
    "all_model_results_df['false_positive_images'] = all_model_results_df['false_positive_images'].astype('object')\n",
    "all_model_results_df['false_positive_images'] = all_model_results_df['false_positive_images'].astype('object')\n",
    "\n",
    "\n",
    "#Write all_model_results_df to disk\n",
    "all_model_results_df.to_csv(os.path.join(model_dir, \"all_model_results.csv\"))\n",
    "\n",
    "final_epoch_results = all_model_results_df[all_model_results_df[\"epoch\"] == 9]\n",
    "final_epoch_results"
   ]
  },
  {
   "cell_type": "code",
   "execution_count": 17,
   "metadata": {},
   "outputs": [
    {
     "data": {
      "text/html": [
       "<div>\n",
       "<style scoped>\n",
       "    .dataframe tbody tr th:only-of-type {\n",
       "        vertical-align: middle;\n",
       "    }\n",
       "\n",
       "    .dataframe tbody tr th {\n",
       "        vertical-align: top;\n",
       "    }\n",
       "\n",
       "    .dataframe thead th {\n",
       "        text-align: right;\n",
       "    }\n",
       "</style>\n",
       "<table border=\"1\" class=\"dataframe\">\n",
       "  <thead>\n",
       "    <tr style=\"text-align: right;\">\n",
       "      <th></th>\n",
       "      <th>model_id_path</th>\n",
       "      <th>epoch</th>\n",
       "      <th>batch_size</th>\n",
       "      <th>learning_rate</th>\n",
       "      <th>final_loss</th>\n",
       "      <th>final_accuracy</th>\n",
       "      <th>final_precision</th>\n",
       "      <th>final_recall</th>\n",
       "      <th>final_F1</th>\n",
       "      <th>validation_loss</th>\n",
       "      <th>validation_accuracy</th>\n",
       "      <th>validation_precision</th>\n",
       "      <th>validation_recall</th>\n",
       "      <th>validation_F1</th>\n",
       "      <th>false_positive_images</th>\n",
       "      <th>false_negative_images</th>\n",
       "    </tr>\n",
       "  </thead>\n",
       "  <tbody>\n",
       "    <tr>\n",
       "      <th>9</th>\n",
       "      <td>model_res50_epoch_9_batchsize_10_lr_0.0001.pth</td>\n",
       "      <td>9</td>\n",
       "      <td>10</td>\n",
       "      <td>0.0001.</td>\n",
       "      <td>0.008955</td>\n",
       "      <td>0.997315</td>\n",
       "      <td>0.990965</td>\n",
       "      <td>0.993147</td>\n",
       "      <td>0.992055</td>\n",
       "      <td>0.091312</td>\n",
       "      <td>0.972572</td>\n",
       "      <td>0.866940</td>\n",
       "      <td>0.930258</td>\n",
       "      <td>0.897483</td>\n",
       "      <td>['cropped_host-a102_cam5_1242754969332234006_1...</td>\n",
       "      <td>['cropped_host-a011_cam2_1233688946717605006_b...</td>\n",
       "    </tr>\n",
       "    <tr>\n",
       "      <th>19</th>\n",
       "      <td>model_res50_epoch_9_batchsize_10_lr_0.001.pth</td>\n",
       "      <td>9</td>\n",
       "      <td>10</td>\n",
       "      <td>0.001.</td>\n",
       "      <td>0.005681</td>\n",
       "      <td>0.998224</td>\n",
       "      <td>0.995102</td>\n",
       "      <td>0.994371</td>\n",
       "      <td>0.994736</td>\n",
       "      <td>0.159119</td>\n",
       "      <td>0.962968</td>\n",
       "      <td>0.800370</td>\n",
       "      <td>0.950027</td>\n",
       "      <td>0.868801</td>\n",
       "      <td>['cropped_host-a007_cam3_1231093059199360006_5...</td>\n",
       "      <td>['cropped_host-a011_cam0_1232752780051142006_d...</td>\n",
       "    </tr>\n",
       "    <tr>\n",
       "      <th>29</th>\n",
       "      <td>model_res50_epoch_9_batchsize_10_lr_0.01.pth</td>\n",
       "      <td>9</td>\n",
       "      <td>10</td>\n",
       "      <td>0.01.</td>\n",
       "      <td>0.033554</td>\n",
       "      <td>0.987236</td>\n",
       "      <td>0.958931</td>\n",
       "      <td>0.965737</td>\n",
       "      <td>0.962322</td>\n",
       "      <td>0.089225</td>\n",
       "      <td>0.970375</td>\n",
       "      <td>0.863472</td>\n",
       "      <td>0.915157</td>\n",
       "      <td>0.888563</td>\n",
       "      <td>['cropped_host-a101_cam1_1242748999766305006_6...</td>\n",
       "      <td>['cropped_host-a011_cam0_1232752781651142006_a...</td>\n",
       "    </tr>\n",
       "    <tr>\n",
       "      <th>39</th>\n",
       "      <td>model_res50_epoch_9_batchsize_32_lr_0.0001.pth</td>\n",
       "      <td>9</td>\n",
       "      <td>32</td>\n",
       "      <td>0.0001.</td>\n",
       "      <td>0.016930</td>\n",
       "      <td>0.994217</td>\n",
       "      <td>0.980985</td>\n",
       "      <td>0.984826</td>\n",
       "      <td>0.982902</td>\n",
       "      <td>0.091628</td>\n",
       "      <td>0.969630</td>\n",
       "      <td>0.841383</td>\n",
       "      <td>0.942339</td>\n",
       "      <td>0.889004</td>\n",
       "      <td>['cropped_host-a101_cam6_1240875137450000006_9...</td>\n",
       "      <td>['cropped_host-a101_cam6_1240875138650000006_7...</td>\n",
       "    </tr>\n",
       "    <tr>\n",
       "      <th>49</th>\n",
       "      <td>model_res50_epoch_9_batchsize_32_lr_0.001.pth</td>\n",
       "      <td>9</td>\n",
       "      <td>32</td>\n",
       "      <td>0.001.</td>\n",
       "      <td>0.012222</td>\n",
       "      <td>0.995415</td>\n",
       "      <td>0.986774</td>\n",
       "      <td>0.986050</td>\n",
       "      <td>0.986412</td>\n",
       "      <td>0.162003</td>\n",
       "      <td>0.961196</td>\n",
       "      <td>0.795407</td>\n",
       "      <td>0.941516</td>\n",
       "      <td>0.862316</td>\n",
       "      <td>['cropped_host-a101_cam6_1240875147050000006_2...</td>\n",
       "      <td>['cropped_host-a004_cam0_1232923267651064006_d...</td>\n",
       "    </tr>\n",
       "    <tr>\n",
       "      <th>59</th>\n",
       "      <td>model_res50_epoch_9_batchsize_32_lr_0.01.pth</td>\n",
       "      <td>9</td>\n",
       "      <td>32</td>\n",
       "      <td>0.01.</td>\n",
       "      <td>0.043471</td>\n",
       "      <td>0.984386</td>\n",
       "      <td>0.947826</td>\n",
       "      <td>0.960352</td>\n",
       "      <td>0.954048</td>\n",
       "      <td>0.074976</td>\n",
       "      <td>0.971012</td>\n",
       "      <td>0.862423</td>\n",
       "      <td>0.922570</td>\n",
       "      <td>0.891483</td>\n",
       "      <td>['cropped_host-a101_cam4_1240875154416660006_b...</td>\n",
       "      <td>['cropped_host-a004_cam1_1235947105534300006_e...</td>\n",
       "    </tr>\n",
       "    <tr>\n",
       "      <th>69</th>\n",
       "      <td>model_res50_epoch_9_batchsize_50_lr_0.0001.pth</td>\n",
       "      <td>9</td>\n",
       "      <td>50</td>\n",
       "      <td>0.0001.</td>\n",
       "      <td>0.035888</td>\n",
       "      <td>0.986575</td>\n",
       "      <td>0.953242</td>\n",
       "      <td>0.967939</td>\n",
       "      <td>0.960534</td>\n",
       "      <td>0.080530</td>\n",
       "      <td>0.971615</td>\n",
       "      <td>0.861175</td>\n",
       "      <td>0.929984</td>\n",
       "      <td>0.894257</td>\n",
       "      <td>['cropped_host-a101_cam6_1240875137450000006_9...</td>\n",
       "      <td>['cropped_host-a011_cam3_1236104051500995006_1...</td>\n",
       "    </tr>\n",
       "    <tr>\n",
       "      <th>79</th>\n",
       "      <td>model_res50_epoch_9_batchsize_50_lr_0.001.pth</td>\n",
       "      <td>9</td>\n",
       "      <td>50</td>\n",
       "      <td>0.001.</td>\n",
       "      <td>0.029320</td>\n",
       "      <td>0.989219</td>\n",
       "      <td>0.964763</td>\n",
       "      <td>0.971610</td>\n",
       "      <td>0.968175</td>\n",
       "      <td>0.089566</td>\n",
       "      <td>0.971119</td>\n",
       "      <td>0.847212</td>\n",
       "      <td>0.947007</td>\n",
       "      <td>0.894334</td>\n",
       "      <td>['cropped_host-a102_cam3_1242754977999260006_d...</td>\n",
       "      <td>['cropped_host-a011_cam5_1232752550067719006_7...</td>\n",
       "    </tr>\n",
       "    <tr>\n",
       "      <th>89</th>\n",
       "      <td>model_res50_epoch_9_batchsize_50_lr_0.01.pth</td>\n",
       "      <td>9</td>\n",
       "      <td>50</td>\n",
       "      <td>0.01.</td>\n",
       "      <td>0.068964</td>\n",
       "      <td>0.974514</td>\n",
       "      <td>0.915648</td>\n",
       "      <td>0.935144</td>\n",
       "      <td>0.925294</td>\n",
       "      <td>0.114841</td>\n",
       "      <td>0.956058</td>\n",
       "      <td>0.759732</td>\n",
       "      <td>0.964580</td>\n",
       "      <td>0.849988</td>\n",
       "      <td>['cropped_host-a101_cam2_1242749002782945006_6...</td>\n",
       "      <td>['cropped_host-a101_cam0_1242748836349526006_2...</td>\n",
       "    </tr>\n",
       "  </tbody>\n",
       "</table>\n",
       "</div>"
      ],
      "text/plain": [
       "                                     model_id_path  epoch  batch_size  \\\n",
       "9   model_res50_epoch_9_batchsize_10_lr_0.0001.pth      9          10   \n",
       "19   model_res50_epoch_9_batchsize_10_lr_0.001.pth      9          10   \n",
       "29    model_res50_epoch_9_batchsize_10_lr_0.01.pth      9          10   \n",
       "39  model_res50_epoch_9_batchsize_32_lr_0.0001.pth      9          32   \n",
       "49   model_res50_epoch_9_batchsize_32_lr_0.001.pth      9          32   \n",
       "59    model_res50_epoch_9_batchsize_32_lr_0.01.pth      9          32   \n",
       "69  model_res50_epoch_9_batchsize_50_lr_0.0001.pth      9          50   \n",
       "79   model_res50_epoch_9_batchsize_50_lr_0.001.pth      9          50   \n",
       "89    model_res50_epoch_9_batchsize_50_lr_0.01.pth      9          50   \n",
       "\n",
       "   learning_rate  final_loss  final_accuracy  final_precision  final_recall  \\\n",
       "9        0.0001.    0.008955        0.997315         0.990965      0.993147   \n",
       "19        0.001.    0.005681        0.998224         0.995102      0.994371   \n",
       "29         0.01.    0.033554        0.987236         0.958931      0.965737   \n",
       "39       0.0001.    0.016930        0.994217         0.980985      0.984826   \n",
       "49        0.001.    0.012222        0.995415         0.986774      0.986050   \n",
       "59         0.01.    0.043471        0.984386         0.947826      0.960352   \n",
       "69       0.0001.    0.035888        0.986575         0.953242      0.967939   \n",
       "79        0.001.    0.029320        0.989219         0.964763      0.971610   \n",
       "89         0.01.    0.068964        0.974514         0.915648      0.935144   \n",
       "\n",
       "    final_F1  validation_loss  validation_accuracy  validation_precision  \\\n",
       "9   0.992055         0.091312             0.972572              0.866940   \n",
       "19  0.994736         0.159119             0.962968              0.800370   \n",
       "29  0.962322         0.089225             0.970375              0.863472   \n",
       "39  0.982902         0.091628             0.969630              0.841383   \n",
       "49  0.986412         0.162003             0.961196              0.795407   \n",
       "59  0.954048         0.074976             0.971012              0.862423   \n",
       "69  0.960534         0.080530             0.971615              0.861175   \n",
       "79  0.968175         0.089566             0.971119              0.847212   \n",
       "89  0.925294         0.114841             0.956058              0.759732   \n",
       "\n",
       "    validation_recall  validation_F1  \\\n",
       "9            0.930258       0.897483   \n",
       "19           0.950027       0.868801   \n",
       "29           0.915157       0.888563   \n",
       "39           0.942339       0.889004   \n",
       "49           0.941516       0.862316   \n",
       "59           0.922570       0.891483   \n",
       "69           0.929984       0.894257   \n",
       "79           0.947007       0.894334   \n",
       "89           0.964580       0.849988   \n",
       "\n",
       "                                false_positive_images  \\\n",
       "9   ['cropped_host-a102_cam5_1242754969332234006_1...   \n",
       "19  ['cropped_host-a007_cam3_1231093059199360006_5...   \n",
       "29  ['cropped_host-a101_cam1_1242748999766305006_6...   \n",
       "39  ['cropped_host-a101_cam6_1240875137450000006_9...   \n",
       "49  ['cropped_host-a101_cam6_1240875147050000006_2...   \n",
       "59  ['cropped_host-a101_cam4_1240875154416660006_b...   \n",
       "69  ['cropped_host-a101_cam6_1240875137450000006_9...   \n",
       "79  ['cropped_host-a102_cam3_1242754977999260006_d...   \n",
       "89  ['cropped_host-a101_cam2_1242749002782945006_6...   \n",
       "\n",
       "                                false_negative_images  \n",
       "9   ['cropped_host-a011_cam2_1233688946717605006_b...  \n",
       "19  ['cropped_host-a011_cam0_1232752780051142006_d...  \n",
       "29  ['cropped_host-a011_cam0_1232752781651142006_a...  \n",
       "39  ['cropped_host-a101_cam6_1240875138650000006_7...  \n",
       "49  ['cropped_host-a004_cam0_1232923267651064006_d...  \n",
       "59  ['cropped_host-a004_cam1_1235947105534300006_e...  \n",
       "69  ['cropped_host-a011_cam3_1236104051500995006_1...  \n",
       "79  ['cropped_host-a011_cam5_1232752550067719006_7...  \n",
       "89  ['cropped_host-a101_cam0_1242748836349526006_2...  "
      ]
     },
     "execution_count": 17,
     "metadata": {},
     "output_type": "execute_result"
    }
   ],
   "source": [
    "model_dir = os.path.join(user_path_prefix, r\"3d-object-detection-for-autonomous-vehicles\\Train\\models\")\n",
    "all_model_results_df = pd.read_csv(os.path.join(model_dir, \"all_model_results.csv\"))\n",
    "all_model_results_df\n",
    "final_epoch_results = all_model_results_df[all_model_results_df[\"epoch\"] == 9]\n",
    "final_epoch_results"
   ]
  },
  {
   "cell_type": "markdown",
   "metadata": {},
   "source": [
    "### If the model training went as expected, you should hopefully end up with output looking similar to the text below:"
   ]
  },
  {
   "cell_type": "code",
   "execution_count": 15,
   "metadata": {},
   "outputs": [
    {
     "data": {
      "text/plain": [
       "'\\nmodel_id_path\\tepoch\\tbatch_size\\tlearning_rate\\tfinal_loss\\tfinal_accuracy\\tfinal_precision\\tfinal_recall\\tfinal_F1\\tvalidation_loss\\tvalidation_accuracy\\tvalidation_precision\\tvalidation_recall\\tvalidation_F1\\tfalse_positive_images\\tfalse_negative_images\\n81\\tmodel_res50_epoch_9_batchsize_10_lr_0.0001.pth\\t9\\t10\\t0.0001.\\t0.008955\\t0.997315\\t0.990965\\t0.993147\\t0.992055\\tNone\\tNone\\tNone\\tNone\\tNone\\tNone\\tNone\\n82\\tmodel_res50_epoch_9_batchsize_10_lr_0.001.pth\\t9\\t10\\t0.001.\\t0.005681\\t0.998224\\t0.995102\\t0.994371\\t0.994736\\tNone\\tNone\\tNone\\tNone\\tNone\\tNone\\tNone\\n83\\tmodel_res50_epoch_9_batchsize_10_lr_0.01.pth\\t9\\t10\\t0.01.\\t0.033554\\t0.987236\\t0.958931\\t0.965737\\t0.962322\\tNone\\tNone\\tNone\\tNone\\tNone\\tNone\\tNone\\n84\\tmodel_res50_epoch_9_batchsize_32_lr_0.0001.pth\\t9\\t32\\t0.0001.\\t0.016930\\t0.994217\\t0.980985\\t0.984826\\t0.982902\\tNone\\tNone\\tNone\\tNone\\tNone\\tNone\\tNone\\n85\\tmodel_res50_epoch_9_batchsize_32_lr_0.001.pth\\t9\\t32\\t0.001.\\t0.012222\\t0.995415\\t0.986774\\t0.986050\\t0.986412\\tNone\\tNone\\tNone\\tNone\\tNone\\tNone\\tNone\\n86\\tmodel_res50_epoch_9_batchsize_32_lr_0.01.pth\\t9\\t32\\t0.01.\\t0.043471\\t0.984386\\t0.947826\\t0.960352\\t0.954048\\tNone\\tNone\\tNone\\tNone\\tNone\\tNone\\tNone\\n87\\tmodel_res50_epoch_9_batchsize_50_lr_0.0001.pth\\t9\\t50\\t0.0001.\\t0.035888\\t0.986575\\t0.953242\\t0.967939\\t0.960534\\tNone\\tNone\\tNone\\tNone\\tNone\\tNone\\tNone\\n88\\tmodel_res50_epoch_9_batchsize_50_lr_0.001.pth\\t9\\t50\\t0.001.\\t0.029320\\t0.989219\\t0.964763\\t0.971610\\t0.968175\\tNone\\tNone\\tNone\\tNone\\tNone\\tNone\\tNone\\n89\\tmodel_res50_epoch_9_batchsize_50_lr_0.01.pth\\t9\\t50\\t0.01.\\t0.068964\\t0.974514\\t0.915648\\t0.935144\\t0.925294\\tNone\\tNone\\tNone\\tNone\\tNone\\tNone\\tNone\\n'"
      ]
     },
     "execution_count": 15,
     "metadata": {},
     "output_type": "execute_result"
    }
   ],
   "source": [
    "\"\"\"\n",
    "model_id_name\tepoch\tbatch_size\tlearning_rate\tfinal_loss\tfinal_accuracy\tfinal_precision\tfinal_recall\tfinal_F1\tvalidation_loss\tvalidation_accuracy\tvalidation_precision\tvalidation_recall\tvalidation_F1\tfalse_positive_images\tfalse_negative_images\n",
    "81\tmodel_res50_epoch_9_batchsize_10_lr_0.0001.pth\t9\t10\t0.0001.\t0.008955\t0.997315\t0.990965\t0.993147\t0.992055\tNone\tNone\tNone\tNone\tNone\tNone\tNone\n",
    "82\tmodel_res50_epoch_9_batchsize_10_lr_0.001.pth\t9\t10\t0.001.\t0.005681\t0.998224\t0.995102\t0.994371\t0.994736\tNone\tNone\tNone\tNone\tNone\tNone\tNone\n",
    "83\tmodel_res50_epoch_9_batchsize_10_lr_0.01.pth\t9\t10\t0.01.\t0.033554\t0.987236\t0.958931\t0.965737\t0.962322\tNone\tNone\tNone\tNone\tNone\tNone\tNone\n",
    "84\tmodel_res50_epoch_9_batchsize_32_lr_0.0001.pth\t9\t32\t0.0001.\t0.016930\t0.994217\t0.980985\t0.984826\t0.982902\tNone\tNone\tNone\tNone\tNone\tNone\tNone\n",
    "85\tmodel_res50_epoch_9_batchsize_32_lr_0.001.pth\t9\t32\t0.001.\t0.012222\t0.995415\t0.986774\t0.986050\t0.986412\tNone\tNone\tNone\tNone\tNone\tNone\tNone\n",
    "86\tmodel_res50_epoch_9_batchsize_32_lr_0.01.pth\t9\t32\t0.01.\t0.043471\t0.984386\t0.947826\t0.960352\t0.954048\tNone\tNone\tNone\tNone\tNone\tNone\tNone\n",
    "87\tmodel_res50_epoch_9_batchsize_50_lr_0.0001.pth\t9\t50\t0.0001.\t0.035888\t0.986575\t0.953242\t0.967939\t0.960534\tNone\tNone\tNone\tNone\tNone\tNone\tNone\n",
    "88\tmodel_res50_epoch_9_batchsize_50_lr_0.001.pth\t9\t50\t0.001.\t0.029320\t0.989219\t0.964763\t0.971610\t0.968175\tNone\tNone\tNone\tNone\tNone\tNone\tNone\n",
    "89\tmodel_res50_epoch_9_batchsize_50_lr_0.01.pth\t9\t50\t0.01.\t0.068964\t0.974514\t0.915648\t0.935144\t0.925294\tNone\tNone\tNone\tNone\tNone\tNone\tNone\n",
    "\"\"\""
   ]
  },
  {
   "cell_type": "markdown",
   "metadata": {},
   "source": [
    "## Validation/Inference"
   ]
  },
  {
   "cell_type": "code",
   "execution_count": 6,
   "metadata": {},
   "outputs": [],
   "source": [
    "def validate_resnet50_classification(model_checkpoint, model_name_id, validation_images_dir, training_records_df_path, required_imgage_size=224, target_category_name=\"pedestrian\",\n",
    "                                  criterion=nn.CrossEntropyLoss()):\n",
    "    \"\"\"\n",
    "    Performs validation of a ResNet50 model on a specified dataset and records the metrics.\n",
    "\n",
    "    This function takes a trained model checkpoint, performs validation on a given dataset, and records various metrics like loss, accuracy, precision, recall, and F1 score. \n",
    "    It also identifies false positive and false negative images and records them.\n",
    "\n",
    "    Parameters:\n",
    "    -----------\n",
    "    model_checkpoint: The saved model checkpoint containing the state dictionary of the trained ResNet50 model.\n",
    "    model_name_id (str): Identifier for the model, used to match and record results in the training records DataFrame.\n",
    "    validation_images_dir (str): Path to the directory containing validation images.\n",
    "    training_records_df_path (str): Path to the CSV file where training records are stored and where validation results will be appended.\n",
    "    required_imgage_size (int, optional): Size that input images are expected to be in. Default is 224.\n",
    "    target_category_name (str, optional): The target category for classification. Default is \"pedestrian\".\n",
    "    criterion: Loss function used for validation. Default is `nn.CrossEntropyLoss()`.\n",
    "\n",
    "    Notes:\n",
    "    ------\n",
    "    - The function assumes the presence of a pre-trained model and a DataFrame (in CSV format) containing training records.\n",
    "    - Validation involves processing images through the model, calculating loss and other metrics.\n",
    "    - The function records the validation results (loss, accuracy, precision, recall, F1 score) in the training records DataFrame.\n",
    "    - Additionally, it identifies and records the paths of false positive and false negative images.\n",
    "    - The updated DataFrame with training and validation records is saved back to the specified path.\n",
    "    - This function is designed to work with a binary classification setting.\n",
    "    - It assumes that the input images are organized in a way that is compatible with the `Lyft_image_classification_CustomDataset` class.\n",
    "    \"\"\"\n",
    "\n",
    "    training_records_df = pd.read_csv(training_records_df_path).drop(columns=['Unnamed: 0'], errors='ignore')\n",
    "    #Create a fresh model instance and then import its state from the model_checkpoint.\n",
    "    model_res50 = models.resnet50(weights=ResNet50_Weights.IMAGENET1K_V1)\n",
    "    num_ftrs = model_res50.fc.in_features\n",
    "    # Modify the last layer for binary classification. This is because this was the architecture which was used for the training model.\n",
    "    model_res50.fc = nn.Linear(num_ftrs, 2)\n",
    "\n",
    "    #Load the state into the model instance.\n",
    "    model_res50.load_state_dict(model_checkpoint['model_state_dict'])\n",
    "    # Move model to device and set the model to evaluation mode\n",
    "    device = torch.device(\"cuda:0\" if torch.cuda.is_available() else \"cpu\")\n",
    "    model_res50.to(device)\n",
    "    model_res50.eval()\n",
    "\n",
    "    #Creat instances of our custom Dataset and subsequent default Dataloader\n",
    "    dataset = Lyft_image_classification_CustomDataset(validation_images_dir, target_category_name, required_imgage_size)\n",
    "    row_index = training_records_df[training_records_df[\"model_id_path\"] == model_name_id].index\n",
    "    batch_size = int(training_records_df.loc[row_index, \"batch_size\"].iloc[0])\n",
    "    dataloader = DataLoader(dataset, batch_size=batch_size, shuffle=True)\n",
    "\n",
    "    #Initialize metrics\n",
    "    running_loss = 0.0\n",
    "    running_corrects = 0\n",
    "    total_samples = 0\n",
    "    running_true_positives = 0\n",
    "    running_false_positives = 0\n",
    "    running_false_negatives = 0\n",
    "\n",
    "    #Holders for the incorrect prediction image paths.\n",
    "    false_positive_images = []\n",
    "    false_negative_images = []\n",
    "\n",
    "    # Disable gradient calculations as they are not needed for validation\n",
    "    with torch.no_grad():\n",
    "        for inputs, labels, image_names in dataloader:\n",
    "            inputs = inputs.to(device)\n",
    "            labels = labels.to(device)\n",
    "\n",
    "            # Forward pass\n",
    "            outputs = model_res50(inputs)\n",
    "            loss = criterion(outputs, labels)\n",
    "\n",
    "            # Statistics\n",
    "            running_loss += loss.item() * inputs.size(0)\n",
    "            _, preds = torch.max(outputs, 1)\n",
    "            running_corrects += torch.sum(preds == labels.data)\n",
    "            total_samples += labels.size(0)\n",
    "            # Calculate True Positives, False Positives, False Negatives\n",
    "            for i in range(len(labels)):\n",
    "                if preds[i] == labels[i] == 1:  # True Positive\n",
    "                    running_true_positives += 1\n",
    "                elif preds[i] == 1 and labels[i] == 0:  # False Positive\n",
    "                    running_false_positives += 1\n",
    "                    false_positive_images.append(image_names[i])\n",
    "                elif preds[i] == 0 and labels[i] == 1:  # False Negative\n",
    "                    running_false_negatives += 1\n",
    "                    false_negative_images.append(image_names[i])\n",
    "\n",
    "\n",
    "    # Calculate the average loss and accuracy over the validation set\n",
    "    val_loss = running_loss / total_samples\n",
    "    val_acc = running_corrects.double() / total_samples\n",
    "    val_acc = val_acc.item()\n",
    "    # Calculate Precision, Recall, and F1 Score after the loop\n",
    "    precision = running_true_positives / (running_true_positives + running_false_positives) if (running_true_positives + running_false_positives) > 0 else 0\n",
    "    recall = running_true_positives / (running_true_positives + running_false_negatives) if (running_true_positives + running_false_negatives) > 0 else 0\n",
    "    f1_score = 2 * (precision * recall) / (precision + recall) if (precision + recall) > 0 else 0\n",
    "\n",
    "    print(f'Validation Loss: {val_loss:.4f} Precision: {precision:.4f} Recall: {recall:.4f} F1 Score: {f1_score:.4f} Acc: {val_acc:.4f}')\n",
    "\n",
    "    #Write the validation output to the corresponding row/col of training_records_df\n",
    "    # Reminder: training_records_df[condition][\"column\"] = value can lead to a SettingWithCopyWarning in pandas.\n",
    "    # Find the row index, and use .loc[] instead.\n",
    "    row_index = training_records_df[training_records_df[\"model_id_path\"] == model_name_id].index\n",
    "    training_records_df.loc[row_index, \"validation_loss\"] = val_loss\n",
    "    training_records_df.loc[row_index, \"validation_accuracy\"] = val_acc\n",
    "    training_records_df.loc[row_index, \"validation_precision\"] = precision\n",
    "    training_records_df.loc[row_index, \"validation_recall\"] = recall\n",
    "    training_records_df.loc[row_index, \"validation_F1\"] = f1_score\n",
    "    \n",
    "    false_positive_images_str = str(false_positive_images)\n",
    "    false_negative_images_str = str(false_negative_images)\n",
    "    training_records_df.loc[row_index, \"false_positive_images\"] = false_positive_images_str\n",
    "    training_records_df.loc[row_index, \"false_negative_images\"] = false_negative_images_str\n",
    "\n",
    "    training_records_df.to_csv(training_records_df_path, index=False)\n"
   ]
  },
  {
   "cell_type": "code",
   "execution_count": 18,
   "metadata": {},
   "outputs": [],
   "source": [
    "models_to_validate = list(final_epoch_results[\"model_id_path\"].values)\n",
    "model_dir = os.path.join(user_path_prefix, r\"3d-object-detection-for-autonomous-vehicles\\Train\\models\")\n",
    "validation_images_dir = os.path.join(user_path_prefix, r\"3d-object-detection-for-autonomous-vehicles\\Train\\images\\Image_Classification\\validation_cropped_images\\224\")\n",
    "training_records_df_path = os.path.join(model_dir, \"all_model_results.csv\")\n",
    "required_imgage_size = 224\n",
    "target_category_name = \"pedestrian\""
   ]
  },
  {
   "cell_type": "markdown",
   "metadata": {},
   "source": [
    "### If you do not want to perform Validation and want to skip to the validation results that come with the reporistory, you may skip the next cell."
   ]
  },
  {
   "cell_type": "code",
   "execution_count": 1,
   "metadata": {},
   "outputs": [],
   "source": [
    "for model_name in models_to_validate:\n",
    "    print(model_name)\n",
    "    checkpoint = torch.load(os.path.join(model_dir, model_name))\n",
    "    validate_resnet50_classification(checkpoint, model_name, validation_images_dir, training_records_df_path, required_imgage_size, target_category_name)"
   ]
  },
  {
   "cell_type": "markdown",
   "metadata": {},
   "source": [
    "## Validation/Inference Results"
   ]
  },
  {
   "cell_type": "code",
   "execution_count": 16,
   "metadata": {},
   "outputs": [],
   "source": [
    "validation_results_df = pd.read_csv(training_records_df_path).drop(columns=['Unnamed: 0'], errors='ignore')\n",
    "validation_results_df = validation_results_df[validation_results_df[\"epoch\"] == 9]\n",
    "# Convert string representations to actual lists\n",
    "validation_results_df['false_positive_images'] = validation_results_df['false_positive_images'].apply(ast.literal_eval)\n",
    "validation_results_df['false_negative_images'] = validation_results_df['false_negative_images'].apply(ast.literal_eval)\n",
    "validation_results_df"
   ]
  },
  {
   "cell_type": "markdown",
   "metadata": {},
   "source": [
    "### F1 Score heatmap. Each box in our heatmap corresponds to the F1 Score of model that was trained with the ith-jth hyper parameter."
   ]
  },
  {
   "cell_type": "code",
   "execution_count": 23,
   "metadata": {},
   "outputs": [
    {
     "data": {
      "image/png": "[encoded data removed]",
      "text/plain": [
       "<Figure size 800x600 with 2 Axes>"
      ]
     },
     "metadata": {},
     "output_type": "display_data"
    }
   ],
   "source": [
    "#Code below generated with ChatGPT 4\n",
    "# Pivot the DataFrame to create a grid\n",
    "pivot_df = validation_results_df.pivot(index='batch_size', columns='learning_rate', values='validation_F1')\n",
    "\n",
    "# Creating the heatmap\n",
    "plt.figure(figsize=(8, 6))\n",
    "# Using numpy to create an array of the pivot data\n",
    "data_array = pivot_df.to_numpy()\n",
    "\n",
    "# The columns and rows to display\n",
    "col_labels = pivot_df.columns.values\n",
    "row_labels = pivot_df.index.values\n",
    "\n",
    "# Creating the plot\n",
    "c = plt.pcolormesh(data_array, cmap='RdPu', shading='auto')\n",
    "\n",
    "# Adding color bar\n",
    "plt.colorbar(c)\n",
    "\n",
    "# Adding titles and labels\n",
    "plt.title('F1 Score Heatmap by Batch Size and Learning Rate')\n",
    "plt.xlabel('Learning Rate')\n",
    "plt.ylabel('Batch Size')\n",
    "\n",
    "# Adjusting the ticks to be at the center of each cell\n",
    "plt.xticks(np.arange(0.5, len(col_labels), 1), col_labels, rotation=45)\n",
    "plt.yticks(np.arange(0.5, len(row_labels), 1), row_labels)\n",
    "\n",
    "# Add text annotations\n",
    "for (i, j), val in np.ndenumerate(data_array):\n",
    "    plt.text(j + 0.5, i + 0.5, f\"{val:.4f}\", ha='center', va='center', color='black')\n",
    "\n",
    "# Show plot\n",
    "plt.show()"
   ]
  },
  {
   "cell_type": "markdown",
   "metadata": {},
   "source": [
    "### Next, let's explore which images our model wrongly classified as Pedestrian and which images it wrongly classified as non-pedestrian."
   ]
  },
  {
   "cell_type": "code",
   "execution_count": 5,
   "metadata": {},
   "outputs": [],
   "source": [
    "def false_positive_negative_finder(images_path, false_positive_negative_counts, print_sample_images=True):\n",
    "    \"\"\"\n",
    "    Analyzes and aggregates the count of false positives or false negatives by category,\n",
    "    and optionally displays the first three images of each category using the PIL Image class.\n",
    "\n",
    "    This function traverses through a directory structure to find specific image files \n",
    "    and counts the occurrence of each category based on the provided false positive or \n",
    "    false negative counts. If 'print_sample_images' is set to True, it also displays the \n",
    "    first three images in each category.\n",
    "\n",
    "    Parameters:\n",
    "    -----------\n",
    "    images_path (str): The base path where images are stored in categorized subdirectories.\n",
    "    false_positive_negative_counts (dict): A dictionary where keys are image names and values are \n",
    "                                  counts of false positives or false negatives for those images.\n",
    "    print_sample_images (bool, optional): If True, displays the first three images for each category. Default is True.\n",
    "\n",
    "    Returns:\n",
    "    --------\n",
    "    pandas.DataFrame: A DataFrame with two columns - 'Category' and 'Count'. Each row represents \n",
    "                      a category and the number of times it was incorrectly classified \n",
    "                      (either as a false positive or false negative).\n",
    "\n",
    "    Notes:\n",
    "    ------\n",
    "    - The function expects images to be stored in a specific directory structure: \n",
    "      'images_path' should contain subdirectories for each category, and each subdirectory \n",
    "      should contain the respective images.\n",
    "    - The image names in 'false_positive_negative_counts' should correspond to the actual image files, \n",
    "      minus the file extension.\n",
    "    - The function uses regex to extract the category name from the file path. It is designed \n",
    "      to work with a specific path format and may need adjustments for different directory structures.\n",
    "    - If a file is not found in the expected subdirectories, a message is printed to indicate this.\n",
    "    - When 'print_sample_images' is True, the first three images of each category are displayed using \n",
    "      the PIL Image class and matplotlib.\n",
    "    \"\"\"\n",
    "    \n",
    "    category_counts = {}\n",
    "    sample_images = {category: [] for category in category_counts}\n",
    "\n",
    "    for image_name, image_count in false_positive_negative_counts.items():\n",
    "        # Iterate over the subdirectories in the base path\n",
    "        for subdir in os.listdir(images_path):\n",
    "            subdir_path = os.path.join(images_path, subdir)\n",
    "            \n",
    "            # Check if the path is a directory\n",
    "            if os.path.isdir(subdir_path):\n",
    "                # Construct the potential full path of the file\n",
    "                potential_file_path = os.path.join(subdir_path, image_name + \".jpeg\")\n",
    "                # Check if the file exists at this path\n",
    "                if os.path.isfile(potential_file_path):\n",
    "                    match = re.search(r'validation_cropped_images\\\\(\\d+)\\\\([^\\\\]+)\\\\', potential_file_path)\n",
    "                    if match:\n",
    "                        category_name = match.group(2)\n",
    "                        if category_name in category_counts:\n",
    "                            category_counts[category_name] += 1\n",
    "                            if len(sample_images[category_name]) < 3:\n",
    "                                sample_images[category_name].append(potential_file_path)\n",
    "                        else:\n",
    "                            category_counts[category_name] = 1\n",
    "                            sample_images[category_name] = [potential_file_path]\n",
    "            else:\n",
    "                print(f\"File {image_name} not found in the immediate subdirectories of {subdir_path}.\")\n",
    "\n",
    "    # Sorting and optionally displaying sample images\n",
    "    category_counts_df = pd.DataFrame.from_dict(category_counts, orient=\"index\", columns=['Count'])\n",
    "    category_counts_df = category_counts_df.reset_index().rename(columns={'index': 'Category'}).sort_values(\"Count\", ascending=False)\n",
    "\n",
    "    if print_sample_images:\n",
    "        for category, images in sample_images.items():\n",
    "            print(f\"\\nCategory: {category}\")\n",
    "            for img_path in images:\n",
    "                print(f\"Displaying Image: {img_path}\")\n",
    "                img = Image.open(img_path)\n",
    "                plt.imshow(img)\n",
    "                plt.show()\n",
    "\n",
    "    return category_counts_df"
   ]
  },
  {
   "cell_type": "code",
   "execution_count": 13,
   "metadata": {},
   "outputs": [
    {
     "ename": "NameError",
     "evalue": "name 'validation_results_df' is not defined",
     "output_type": "error",
     "traceback": [
      "\u001b[1;31m---------------------------------------------------------------------------\u001b[0m",
      "\u001b[1;31mNameError\u001b[0m                                 Traceback (most recent call last)",
      "Cell \u001b[1;32mIn[13], line 1\u001b[0m\n\u001b[1;32m----> 1\u001b[0m false_positive_images \u001b[38;5;241m=\u001b[39m [img \u001b[38;5;28;01mfor\u001b[39;00m sublist \u001b[38;5;129;01min\u001b[39;00m \u001b[43mvalidation_results_df\u001b[49m[\u001b[38;5;124m\"\u001b[39m\u001b[38;5;124mfalse_positive_images\u001b[39m\u001b[38;5;124m\"\u001b[39m] \u001b[38;5;28;01mfor\u001b[39;00m img \u001b[38;5;129;01min\u001b[39;00m sublist]\n\u001b[0;32m      2\u001b[0m false_positive_counts \u001b[38;5;241m=\u001b[39m Counter(false_positive_images)\n\u001b[0;32m      4\u001b[0m false_negative_images \u001b[38;5;241m=\u001b[39m [img \u001b[38;5;28;01mfor\u001b[39;00m sublist \u001b[38;5;129;01min\u001b[39;00m validation_results_df[\u001b[38;5;124m\"\u001b[39m\u001b[38;5;124mfalse_negative_images\u001b[39m\u001b[38;5;124m\"\u001b[39m] \u001b[38;5;28;01mfor\u001b[39;00m img \u001b[38;5;129;01min\u001b[39;00m sublist]\n",
      "\u001b[1;31mNameError\u001b[0m: name 'validation_results_df' is not defined"
     ]
    }
   ],
   "source": [
    "false_positive_images = [img for sublist in validation_results_df[\"false_positive_images\"] for img in sublist]\n",
    "false_positive_counts = Counter(false_positive_images)\n",
    "\n",
    "false_negative_images = [img for sublist in validation_results_df[\"false_negative_images\"] for img in sublist]\n",
    "false_negative_counts = Counter(false_negative_images)\n",
    "\n",
    "images_path = os.path.join(user_path_prefix, r\"3d-object-detection-for-autonomous-vehicles\\Train\\images\\Image_Classification\\validation_cropped_images\\224\")\n",
    "\n",
    "#Set print_sample_images to True if you want to see some examples of incorrectly classified images.\n",
    "test_false_pos_classes = false_positive_negative_finder(images_path, false_positive_counts, print_sample_images=False)"
   ]
  },
  {
   "cell_type": "code",
   "execution_count": 27,
   "metadata": {},
   "outputs": [
    {
     "data": {
      "text/html": [
       "<div>\n",
       "<style scoped>\n",
       "    .dataframe tbody tr th:only-of-type {\n",
       "        vertical-align: middle;\n",
       "    }\n",
       "\n",
       "    .dataframe tbody tr th {\n",
       "        vertical-align: top;\n",
       "    }\n",
       "\n",
       "    .dataframe thead th {\n",
       "        text-align: right;\n",
       "    }\n",
       "</style>\n",
       "<table border=\"1\" class=\"dataframe\">\n",
       "  <thead>\n",
       "    <tr style=\"text-align: right;\">\n",
       "      <th></th>\n",
       "      <th>Category</th>\n",
       "      <th>Count</th>\n",
       "    </tr>\n",
       "  </thead>\n",
       "  <tbody>\n",
       "    <tr>\n",
       "      <th>3</th>\n",
       "      <td>bicycle</td>\n",
       "      <td>882</td>\n",
       "    </tr>\n",
       "    <tr>\n",
       "      <th>1</th>\n",
       "      <td>truck</td>\n",
       "      <td>342</td>\n",
       "    </tr>\n",
       "    <tr>\n",
       "      <th>0</th>\n",
       "      <td>other_vehicle</td>\n",
       "      <td>249</td>\n",
       "    </tr>\n",
       "    <tr>\n",
       "      <th>2</th>\n",
       "      <td>bus</td>\n",
       "      <td>155</td>\n",
       "    </tr>\n",
       "    <tr>\n",
       "      <th>5</th>\n",
       "      <td>emergency</td>\n",
       "      <td>16</td>\n",
       "    </tr>\n",
       "    <tr>\n",
       "      <th>4</th>\n",
       "      <td>motorcycle</td>\n",
       "      <td>10</td>\n",
       "    </tr>\n",
       "  </tbody>\n",
       "</table>\n",
       "</div>"
      ],
      "text/plain": [
       "        Category  Count\n",
       "3        bicycle    882\n",
       "1          truck    342\n",
       "0  other_vehicle    249\n",
       "2            bus    155\n",
       "5      emergency     16\n",
       "4     motorcycle     10"
      ]
     },
     "execution_count": 27,
     "metadata": {},
     "output_type": "execute_result"
    }
   ],
   "source": [
    "test_false_pos_classes"
   ]
  },
  {
   "cell_type": "markdown",
   "metadata": {},
   "source": [
    "#### Visualize our model's incorrect predictions by object category."
   ]
  },
  {
   "cell_type": "code",
   "execution_count": 20,
   "metadata": {},
   "outputs": [
    {
     "data": {
      "application/vnd.plotly.v1+json": {
       "config": {
        "plotlyServerURL": "https://plot.ly"
       },
       "data": [
        {
         "domain": {
          "x": [
           0,
           1
          ],
          "y": [
           0,
           1
          ]
         },
         "hole": 0.3,
         "hovertemplate": "Category=%{label}<br>Count=%{value}<extra></extra>",
         "labels": [
          "bicycle",
          "truck",
          "other_vehicle",
          "bus",
          "emergency",
          "motorcycle"
         ],
         "legendgroup": "",
         "name": "",
         "showlegend": true,
         "type": "pie",
         "values": [
          882,
          342,
          249,
          155,
          16,
          10
         ]
        }
       ],
       "layout": {
        "height": 600,
        "legend": {
         "tracegroupgap": 0
        },
        "template": {
         "data": {
          "bar": [
           {
            "error_x": {
             "color": "#2a3f5f"
            },
            "error_y": {
             "color": "#2a3f5f"
            },
            "marker": {
             "line": {
              "color": "#E5ECF6",
              "width": 0.5
             },
             "pattern": {
              "fillmode": "overlay",
              "size": 10,
              "solidity": 0.2
             }
            },
            "type": "bar"
           }
          ],
          "barpolar": [
           {
            "marker": {
             "line": {
              "color": "#E5ECF6",
              "width": 0.5
             },
             "pattern": {
              "fillmode": "overlay",
              "size": 10,
              "solidity": 0.2
             }
            },
            "type": "barpolar"
           }
          ],
          "carpet": [
           {
            "aaxis": {
             "endlinecolor": "#2a3f5f",
             "gridcolor": "white",
             "linecolor": "white",
             "minorgridcolor": "white",
             "startlinecolor": "#2a3f5f"
            },
            "baxis": {
             "endlinecolor": "#2a3f5f",
             "gridcolor": "white",
             "linecolor": "white",
             "minorgridcolor": "white",
             "startlinecolor": "#2a3f5f"
            },
            "type": "carpet"
           }
          ],
          "choropleth": [
           {
            "colorbar": {
             "outlinewidth": 0,
             "ticks": ""
            },
            "type": "choropleth"
           }
          ],
          "contour": [
           {
            "colorbar": {
             "outlinewidth": 0,
             "ticks": ""
            },
            "colorscale": [
             [
              0,
              "#0d0887"
             ],
             [
              0.1111111111111111,
              "#46039f"
             ],
             [
              0.2222222222222222,
              "#7201a8"
             ],
             [
              0.3333333333333333,
              "#9c179e"
             ],
             [
              0.4444444444444444,
              "#bd3786"
             ],
             [
              0.5555555555555556,
              "#d8576b"
             ],
             [
              0.6666666666666666,
              "#ed7953"
             ],
             [
              0.7777777777777778,
              "#fb9f3a"
             ],
             [
              0.8888888888888888,
              "#fdca26"
             ],
             [
              1,
              "#f0f921"
             ]
            ],
            "type": "contour"
           }
          ],
          "contourcarpet": [
           {
            "colorbar": {
             "outlinewidth": 0,
             "ticks": ""
            },
            "type": "contourcarpet"
           }
          ],
          "heatmap": [
           {
            "colorbar": {
             "outlinewidth": 0,
             "ticks": ""
            },
            "colorscale": [
             [
              0,
              "#0d0887"
             ],
             [
              0.1111111111111111,
              "#46039f"
             ],
             [
              0.2222222222222222,
              "#7201a8"
             ],
             [
              0.3333333333333333,
              "#9c179e"
             ],
             [
              0.4444444444444444,
              "#bd3786"
             ],
             [
              0.5555555555555556,
              "#d8576b"
             ],
             [
              0.6666666666666666,
              "#ed7953"
             ],
             [
              0.7777777777777778,
              "#fb9f3a"
             ],
             [
              0.8888888888888888,
              "#fdca26"
             ],
             [
              1,
              "#f0f921"
             ]
            ],
            "type": "heatmap"
           }
          ],
          "heatmapgl": [
           {
            "colorbar": {
             "outlinewidth": 0,
             "ticks": ""
            },
            "colorscale": [
             [
              0,
              "#0d0887"
             ],
             [
              0.1111111111111111,
              "#46039f"
             ],
             [
              0.2222222222222222,
              "#7201a8"
             ],
             [
              0.3333333333333333,
              "#9c179e"
             ],
             [
              0.4444444444444444,
              "#bd3786"
             ],
             [
              0.5555555555555556,
              "#d8576b"
             ],
             [
              0.6666666666666666,
              "#ed7953"
             ],
             [
              0.7777777777777778,
              "#fb9f3a"
             ],
             [
              0.8888888888888888,
              "#fdca26"
             ],
             [
              1,
              "#f0f921"
             ]
            ],
            "type": "heatmapgl"
           }
          ],
          "histogram": [
           {
            "marker": {
             "pattern": {
              "fillmode": "overlay",
              "size": 10,
              "solidity": 0.2
             }
            },
            "type": "histogram"
           }
          ],
          "histogram2d": [
           {
            "colorbar": {
             "outlinewidth": 0,
             "ticks": ""
            },
            "colorscale": [
             [
              0,
              "#0d0887"
             ],
             [
              0.1111111111111111,
              "#46039f"
             ],
             [
              0.2222222222222222,
              "#7201a8"
             ],
             [
              0.3333333333333333,
              "#9c179e"
             ],
             [
              0.4444444444444444,
              "#bd3786"
             ],
             [
              0.5555555555555556,
              "#d8576b"
             ],
             [
              0.6666666666666666,
              "#ed7953"
             ],
             [
              0.7777777777777778,
              "#fb9f3a"
             ],
             [
              0.8888888888888888,
              "#fdca26"
             ],
             [
              1,
              "#f0f921"
             ]
            ],
            "type": "histogram2d"
           }
          ],
          "histogram2dcontour": [
           {
            "colorbar": {
             "outlinewidth": 0,
             "ticks": ""
            },
            "colorscale": [
             [
              0,
              "#0d0887"
             ],
             [
              0.1111111111111111,
              "#46039f"
             ],
             [
              0.2222222222222222,
              "#7201a8"
             ],
             [
              0.3333333333333333,
              "#9c179e"
             ],
             [
              0.4444444444444444,
              "#bd3786"
             ],
             [
              0.5555555555555556,
              "#d8576b"
             ],
             [
              0.6666666666666666,
              "#ed7953"
             ],
             [
              0.7777777777777778,
              "#fb9f3a"
             ],
             [
              0.8888888888888888,
              "#fdca26"
             ],
             [
              1,
              "#f0f921"
             ]
            ],
            "type": "histogram2dcontour"
           }
          ],
          "mesh3d": [
           {
            "colorbar": {
             "outlinewidth": 0,
             "ticks": ""
            },
            "type": "mesh3d"
           }
          ],
          "parcoords": [
           {
            "line": {
             "colorbar": {
              "outlinewidth": 0,
              "ticks": ""
             }
            },
            "type": "parcoords"
           }
          ],
          "pie": [
           {
            "automargin": true,
            "type": "pie"
           }
          ],
          "scatter": [
           {
            "fillpattern": {
             "fillmode": "overlay",
             "size": 10,
             "solidity": 0.2
            },
            "type": "scatter"
           }
          ],
          "scatter3d": [
           {
            "line": {
             "colorbar": {
              "outlinewidth": 0,
              "ticks": ""
             }
            },
            "marker": {
             "colorbar": {
              "outlinewidth": 0,
              "ticks": ""
             }
            },
            "type": "scatter3d"
           }
          ],
          "scattercarpet": [
           {
            "marker": {
             "colorbar": {
              "outlinewidth": 0,
              "ticks": ""
             }
            },
            "type": "scattercarpet"
           }
          ],
          "scattergeo": [
           {
            "marker": {
             "colorbar": {
              "outlinewidth": 0,
              "ticks": ""
             }
            },
            "type": "scattergeo"
           }
          ],
          "scattergl": [
           {
            "marker": {
             "colorbar": {
              "outlinewidth": 0,
              "ticks": ""
             }
            },
            "type": "scattergl"
           }
          ],
          "scattermapbox": [
           {
            "marker": {
             "colorbar": {
              "outlinewidth": 0,
              "ticks": ""
             }
            },
            "type": "scattermapbox"
           }
          ],
          "scatterpolar": [
           {
            "marker": {
             "colorbar": {
              "outlinewidth": 0,
              "ticks": ""
             }
            },
            "type": "scatterpolar"
           }
          ],
          "scatterpolargl": [
           {
            "marker": {
             "colorbar": {
              "outlinewidth": 0,
              "ticks": ""
             }
            },
            "type": "scatterpolargl"
           }
          ],
          "scatterternary": [
           {
            "marker": {
             "colorbar": {
              "outlinewidth": 0,
              "ticks": ""
             }
            },
            "type": "scatterternary"
           }
          ],
          "surface": [
           {
            "colorbar": {
             "outlinewidth": 0,
             "ticks": ""
            },
            "colorscale": [
             [
              0,
              "#0d0887"
             ],
             [
              0.1111111111111111,
              "#46039f"
             ],
             [
              0.2222222222222222,
              "#7201a8"
             ],
             [
              0.3333333333333333,
              "#9c179e"
             ],
             [
              0.4444444444444444,
              "#bd3786"
             ],
             [
              0.5555555555555556,
              "#d8576b"
             ],
             [
              0.6666666666666666,
              "#ed7953"
             ],
             [
              0.7777777777777778,
              "#fb9f3a"
             ],
             [
              0.8888888888888888,
              "#fdca26"
             ],
             [
              1,
              "#f0f921"
             ]
            ],
            "type": "surface"
           }
          ],
          "table": [
           {
            "cells": {
             "fill": {
              "color": "#EBF0F8"
             },
             "line": {
              "color": "white"
             }
            },
            "header": {
             "fill": {
              "color": "#C8D4E3"
             },
             "line": {
              "color": "white"
             }
            },
            "type": "table"
           }
          ]
         },
         "layout": {
          "annotationdefaults": {
           "arrowcolor": "#2a3f5f",
           "arrowhead": 0,
           "arrowwidth": 1
          },
          "autotypenumbers": "strict",
          "coloraxis": {
           "colorbar": {
            "outlinewidth": 0,
            "ticks": ""
           }
          },
          "colorscale": {
           "diverging": [
            [
             0,
             "#8e0152"
            ],
            [
             0.1,
             "#c51b7d"
            ],
            [
             0.2,
             "#de77ae"
            ],
            [
             0.3,
             "#f1b6da"
            ],
            [
             0.4,
             "#fde0ef"
            ],
            [
             0.5,
             "#f7f7f7"
            ],
            [
             0.6,
             "#e6f5d0"
            ],
            [
             0.7,
             "#b8e186"
            ],
            [
             0.8,
             "#7fbc41"
            ],
            [
             0.9,
             "#4d9221"
            ],
            [
             1,
             "#276419"
            ]
           ],
           "sequential": [
            [
             0,
             "#0d0887"
            ],
            [
             0.1111111111111111,
             "#46039f"
            ],
            [
             0.2222222222222222,
             "#7201a8"
            ],
            [
             0.3333333333333333,
             "#9c179e"
            ],
            [
             0.4444444444444444,
             "#bd3786"
            ],
            [
             0.5555555555555556,
             "#d8576b"
            ],
            [
             0.6666666666666666,
             "#ed7953"
            ],
            [
             0.7777777777777778,
             "#fb9f3a"
            ],
            [
             0.8888888888888888,
             "#fdca26"
            ],
            [
             1,
             "#f0f921"
            ]
           ],
           "sequentialminus": [
            [
             0,
             "#0d0887"
            ],
            [
             0.1111111111111111,
             "#46039f"
            ],
            [
             0.2222222222222222,
             "#7201a8"
            ],
            [
             0.3333333333333333,
             "#9c179e"
            ],
            [
             0.4444444444444444,
             "#bd3786"
            ],
            [
             0.5555555555555556,
             "#d8576b"
            ],
            [
             0.6666666666666666,
             "#ed7953"
            ],
            [
             0.7777777777777778,
             "#fb9f3a"
            ],
            [
             0.8888888888888888,
             "#fdca26"
            ],
            [
             1,
             "#f0f921"
            ]
           ]
          },
          "colorway": [
           "#636efa",
           "#EF553B",
           "#00cc96",
           "#ab63fa",
           "#FFA15A",
           "#19d3f3",
           "#FF6692",
           "#B6E880",
           "#FF97FF",
           "#FECB52"
          ],
          "font": {
           "color": "#2a3f5f"
          },
          "geo": {
           "bgcolor": "white",
           "lakecolor": "white",
           "landcolor": "#E5ECF6",
           "showlakes": true,
           "showland": true,
           "subunitcolor": "white"
          },
          "hoverlabel": {
           "align": "left"
          },
          "hovermode": "closest",
          "mapbox": {
           "style": "light"
          },
          "paper_bgcolor": "white",
          "plot_bgcolor": "#E5ECF6",
          "polar": {
           "angularaxis": {
            "gridcolor": "white",
            "linecolor": "white",
            "ticks": ""
           },
           "bgcolor": "#E5ECF6",
           "radialaxis": {
            "gridcolor": "white",
            "linecolor": "white",
            "ticks": ""
           }
          },
          "scene": {
           "xaxis": {
            "backgroundcolor": "#E5ECF6",
            "gridcolor": "white",
            "gridwidth": 2,
            "linecolor": "white",
            "showbackground": true,
            "ticks": "",
            "zerolinecolor": "white"
           },
           "yaxis": {
            "backgroundcolor": "#E5ECF6",
            "gridcolor": "white",
            "gridwidth": 2,
            "linecolor": "white",
            "showbackground": true,
            "ticks": "",
            "zerolinecolor": "white"
           },
           "zaxis": {
            "backgroundcolor": "#E5ECF6",
            "gridcolor": "white",
            "gridwidth": 2,
            "linecolor": "white",
            "showbackground": true,
            "ticks": "",
            "zerolinecolor": "white"
           }
          },
          "shapedefaults": {
           "line": {
            "color": "#2a3f5f"
           }
          },
          "ternary": {
           "aaxis": {
            "gridcolor": "white",
            "linecolor": "white",
            "ticks": ""
           },
           "baxis": {
            "gridcolor": "white",
            "linecolor": "white",
            "ticks": ""
           },
           "bgcolor": "#E5ECF6",
           "caxis": {
            "gridcolor": "white",
            "linecolor": "white",
            "ticks": ""
           }
          },
          "title": {
           "x": 0.05
          },
          "xaxis": {
           "automargin": true,
           "gridcolor": "white",
           "linecolor": "white",
           "ticks": "",
           "title": {
            "standoff": 15
           },
           "zerolinecolor": "white",
           "zerolinewidth": 2
          },
          "yaxis": {
           "automargin": true,
           "gridcolor": "white",
           "linecolor": "white",
           "ticks": "",
           "title": {
            "standoff": 15
           },
           "zerolinecolor": "white",
           "zerolinewidth": 2
          }
         }
        },
        "title": {
         "text": "False positive categories incorrectly classified as Pedestrian"
        },
        "width": 600
       }
      }
     },
     "metadata": {},
     "output_type": "display_data"
    }
   ],
   "source": [
    "# Create the pie chart\n",
    "fig_false_positives = px.pie(test_false_pos_classes, names='Category', values='Count', \n",
    "             title=\"False positive categories incorrectly classified as Pedestrian\",\n",
    "             hole=0.3)  # Optional: creates a donut-like pie chart\n",
    "\n",
    "# Adjust the aspect ratio to make the plot more square\n",
    "fig_false_positives.update_layout(width=600, height=600)"
   ]
  },
  {
   "cell_type": "markdown",
   "metadata": {},
   "source": [
    "### Lastly, before switching over to Object Detection, lets visualize the first Convolutional layer of one of our trained models. There is no particular reason for doing this, but I wanted to add it to the workflow for educational purposes."
   ]
  },
  {
   "cell_type": "markdown",
   "metadata": {},
   "source": [
    "#### We will have to create a model instance and load our checkpoint into it. Let's just choose the model with the highest F1 score, but you could pick any model."
   ]
  },
  {
   "cell_type": "code",
   "execution_count": 4,
   "metadata": {},
   "outputs": [],
   "source": [
    "#Create a fresh model instance and then import its state from the model_checkpoint.\n",
    "model_res50 = models.resnet50(weights=ResNet50_Weights.IMAGENET1K_V1)\n",
    "num_ftrs = model_res50.fc.in_features\n",
    "# Modify the last layer for binary classification. This is because this was the architecture which was used for the training model.\n",
    "model_res50.fc = nn.Linear(num_ftrs, 2)\n",
    "\n",
    "training_records_df = pd.read_csv(training_records_df_path).drop(columns=['Unnamed: 0'], errors='ignore')\n",
    "max_f1_model = training_records_df[\"validation_F1\"].idxmax()\n",
    "model_choice = training_records_df.loc[max_f1_model][\"model_id_path\"]\n",
    "\n",
    "#Load the state into the model instance.\n",
    "model_dir = os.path.join(user_path_prefix, r\"3d-object-detection-for-autonomous-vehicles\\Train\\models\")\n",
    "model_checkpoint = torch.load(os.path.join(model_dir, model_choice))\n",
    "model_res50.load_state_dict(model_checkpoint['model_state_dict'])\n",
    "#print out the contents of the model. We will display the very first layer below.\n",
    "model_res50"
   ]
  },
  {
   "cell_type": "markdown",
   "metadata": {},
   "source": [
    "#### Visualize the output of the first layer which is a convolution layer with kernel 7x7."
   ]
  },
  {
   "cell_type": "code",
   "execution_count": 32,
   "metadata": {},
   "outputs": [
    {
     "name": "stdout",
     "output_type": "stream",
     "text": [
      "tensor([[[0.6077, 0.5518, 0.5796, 0.5976, 0.6440, 0.6634, 0.6656],\n",
      "         [0.6394, 0.5745, 0.5799, 0.5696, 0.6486, 0.7045, 0.6843],\n",
      "         [0.6711, 0.6032, 0.5895, 0.5740, 0.6657, 0.7130, 0.6840],\n",
      "         [0.6164, 0.5533, 0.5666, 0.5544, 0.6394, 0.6668, 0.6448],\n",
      "         [0.5606, 0.4905, 0.5030, 0.4661, 0.5461, 0.5912, 0.5932],\n",
      "         [0.5787, 0.5157, 0.5690, 0.5412, 0.5792, 0.6103, 0.6136],\n",
      "         [0.5293, 0.4745, 0.5165, 0.5084, 0.5494, 0.5956, 0.6252]],\n",
      "\n",
      "        [[0.4596, 0.3862, 0.4135, 0.4489, 0.5084, 0.5719, 0.5956],\n",
      "         [0.4798, 0.3699, 0.3779, 0.3844, 0.4921, 0.6220, 0.6263],\n",
      "         [0.4980, 0.3552, 0.3509, 0.3715, 0.5282, 0.6406, 0.6344],\n",
      "         [0.4294, 0.3078, 0.3258, 0.3501, 0.5065, 0.5995, 0.5997],\n",
      "         [0.4090, 0.2759, 0.2969, 0.2764, 0.4154, 0.5212, 0.5397],\n",
      "         [0.4783, 0.3881, 0.4482, 0.4430, 0.5032, 0.5740, 0.5782],\n",
      "         [0.4497, 0.3879, 0.4508, 0.4627, 0.5128, 0.5905, 0.6141]],\n",
      "\n",
      "        [[0.5628, 0.5297, 0.5561, 0.5796, 0.6286, 0.6583, 0.6659],\n",
      "         [0.5725, 0.5509, 0.5656, 0.5647, 0.6275, 0.6994, 0.6898],\n",
      "         [0.5790, 0.5483, 0.5499, 0.5661, 0.6515, 0.7206, 0.7013],\n",
      "         [0.5447, 0.5266, 0.5372, 0.5509, 0.6362, 0.6889, 0.6667],\n",
      "         [0.5212, 0.5022, 0.5249, 0.5272, 0.5849, 0.6268, 0.6100],\n",
      "         [0.5625, 0.5443, 0.6040, 0.6034, 0.6327, 0.6523, 0.6345],\n",
      "         [0.5365, 0.5194, 0.5861, 0.5940, 0.6385, 0.6653, 0.6665]]])\n",
      "tensor([[[0.6077, 0.4596, 0.5628],\n",
      "         [0.5518, 0.3862, 0.5297],\n",
      "         [0.5796, 0.4135, 0.5561],\n",
      "         [0.5976, 0.4489, 0.5796],\n",
      "         [0.6440, 0.5084, 0.6286],\n",
      "         [0.6634, 0.5719, 0.6583],\n",
      "         [0.6656, 0.5956, 0.6659]],\n",
      "\n",
      "        [[0.6394, 0.4798, 0.5725],\n",
      "         [0.5745, 0.3699, 0.5509],\n",
      "         [0.5799, 0.3779, 0.5656],\n",
      "         [0.5696, 0.3844, 0.5647],\n",
      "         [0.6486, 0.4921, 0.6275],\n",
      "         [0.7045, 0.6220, 0.6994],\n",
      "         [0.6843, 0.6263, 0.6898]],\n",
      "\n",
      "        [[0.6711, 0.4980, 0.5790],\n",
      "         [0.6032, 0.3552, 0.5483],\n",
      "         [0.5895, 0.3509, 0.5499],\n",
      "         [0.5740, 0.3715, 0.5661],\n",
      "         [0.6657, 0.5282, 0.6515],\n",
      "         [0.7130, 0.6406, 0.7206],\n",
      "         [0.6840, 0.6344, 0.7013]],\n",
      "\n",
      "        [[0.6164, 0.4294, 0.5447],\n",
      "         [0.5533, 0.3078, 0.5266],\n",
      "         [0.5666, 0.3258, 0.5372],\n",
      "         [0.5544, 0.3501, 0.5509],\n",
      "         [0.6394, 0.5065, 0.6362],\n",
      "         [0.6668, 0.5995, 0.6889],\n",
      "         [0.6448, 0.5997, 0.6667]],\n",
      "\n",
      "        [[0.5606, 0.4090, 0.5212],\n",
      "         [0.4905, 0.2759, 0.5022],\n",
      "         [0.5030, 0.2969, 0.5249],\n",
      "         [0.4661, 0.2764, 0.5272],\n",
      "         [0.5461, 0.4154, 0.5849],\n",
      "         [0.5912, 0.5212, 0.6268],\n",
      "         [0.5932, 0.5397, 0.6100]],\n",
      "\n",
      "        [[0.5787, 0.4783, 0.5625],\n",
      "         [0.5157, 0.3881, 0.5443],\n",
      "         [0.5690, 0.4482, 0.6040],\n",
      "         [0.5412, 0.4430, 0.6034],\n",
      "         [0.5792, 0.5032, 0.6327],\n",
      "         [0.6103, 0.5740, 0.6523],\n",
      "         [0.6136, 0.5782, 0.6345]],\n",
      "\n",
      "        [[0.5293, 0.4497, 0.5365],\n",
      "         [0.4745, 0.3879, 0.5194],\n",
      "         [0.5165, 0.4508, 0.5861],\n",
      "         [0.5084, 0.4627, 0.5940],\n",
      "         [0.5494, 0.5128, 0.6385],\n",
      "         [0.5956, 0.5905, 0.6653],\n",
      "         [0.6252, 0.6141, 0.6665]]])\n"
     ]
    },
    {
     "data": {
      "image/png": "[encoded data removed]",
      "text/plain": [
       "<Figure size 2000x1700 with 64 Axes>"
      ]
     },
     "metadata": {},
     "output_type": "display_data"
    }
   ],
   "source": [
    "# Ensure it's in evaluation mode for visualization\n",
    "model_res50.eval()  # This changes the model to evaluation mode\n",
    "\n",
    "# Get the weights of the first convolutional layer\n",
    "weights = model_res50.conv1.weight.data.cpu()\n",
    "\n",
    "# Normalize the weights for better visualization\n",
    "weights = (weights - weights.min()) / (weights.max() - weights.min())\n",
    "print(weights[0])\n",
    "print(weights[0].permute(1, 2, 0))\n",
    "# Plot the first few filters\n",
    "plt.figure(figsize=(20, 17))\n",
    "for i in range(64):  # Let's visualize 64 filters\n",
    "    plt.subplot(8, 8, i + 1)\n",
    "    plt.imshow(weights[i].permute(1, 2, 0))  # Rearrange the dimensions\n",
    "    plt.axis('off')\n",
    "plt.show()"
   ]
  },
  {
   "cell_type": "markdown",
   "metadata": {},
   "source": [
    "# Object Detection"
   ]
  },
  {
   "cell_type": "markdown",
   "metadata": {},
   "source": [
    "## WARNING: Object Detection is not yet fully built out. Certain operations packaged into their own functions for Image Classification have not yet been done for Object Detection. The Object Detection training loop is functional, but it currently operates on very large images. More work is needed before this portion of the code base will function properly."
   ]
  },
  {
   "cell_type": "markdown",
   "metadata": {},
   "source": [
    "## Import FasterRCNN model."
   ]
  },
  {
   "cell_type": "code",
   "execution_count": 33,
   "metadata": {},
   "outputs": [
    {
     "name": "stdout",
     "output_type": "stream",
     "text": [
      "cuda:0\n"
     ]
    }
   ],
   "source": [
    "# Load a pre-trained fasterrcnn_mobilenet_v3_large_fpn model\n",
    "model_fastercnn = fasterrcnn_resnet50_fpn(weights=FasterRCNN_ResNet50_FPN_Weights.DEFAULT)\n",
    "\n",
    "# Replace the classifier with a new one for binary classification (background + pedestrian)\n",
    "num_classes = 2  # 1 class (pedestrian) + background\n",
    "# Get the number of input features for the classifier\n",
    "in_features = model_fastercnn.roi_heads.box_predictor.cls_score.in_features\n",
    "# Replace the pre-trained head with a new one (note: this automatically changes the anchor generator to match the backbone)\n",
    "model_fastercnn.roi_heads.box_predictor = FastRCNNPredictor(in_features, num_classes)\n",
    "\n",
    "device = torch.device(\"cuda:0\" if torch.cuda.is_available() else \"cpu\")\n",
    "print(device)\n",
    "model_fastercnn = model_fastercnn.to(device)"
   ]
  },
  {
   "cell_type": "markdown",
   "metadata": {},
   "source": [
    "## Create our Dataset and Dataloader objects for object detection"
   ]
  },
  {
   "cell_type": "markdown",
   "metadata": {},
   "source": [
    "### Define Custom Collate function and IoU function. IoU is used in Object Detection in order to determine if a proposed bounding box deliniates the object well enough wrt the ground truth box."
   ]
  },
  {
   "cell_type": "code",
   "execution_count": 34,
   "metadata": {},
   "outputs": [],
   "source": [
    "#Generated by ChatGPT 4\n",
    "def collate_fn(batch):\n",
    "    \"\"\"\n",
    "    Custom collate function for handling varying sizes of bounding boxes and labels.\n",
    "    \"\"\"\n",
    "    batch = list(filter(lambda x: x is not None, batch))\n",
    "    if not batch:\n",
    "        return torch.tensor([]), {}\n",
    "\n",
    "    images = [item[0] for item in batch]\n",
    "    targets = [item[1] for item in batch]\n",
    "\n",
    "    images = default_collate(images)  # Stack images as they should have the same size\n",
    "    # Do not stack targets as they can have varying sizes\n",
    "    return images, targets\n",
    "\n",
    "#Code below created with ChatGPT 4\n",
    "def calculate_iou(box1, box2):\n",
    "    \"\"\"\n",
    "    Calculate the Intersection over Union (IoU) of two bounding boxes.\n",
    "\n",
    "    Parameters:\n",
    "    box1 (list of floats): bounding box in format [x_min, y_min, x_max, y_max].\n",
    "    box2 (list of floats): bounding box in format [x_min, y_min, x_max, y_max].\n",
    "\n",
    "    Returns:\n",
    "    float: IoU of box1 and box2.\n",
    "    \"\"\"\n",
    "\n",
    "    # Determine the coordinates of the intersection rectangle\n",
    "    x_left = max(box1[0], box2[0])\n",
    "    y_top = max(box1[1], box2[1])\n",
    "    x_right = min(box1[2], box2[2])\n",
    "    y_bottom = min(box1[3], box2[3])\n",
    "\n",
    "    # Check if there is no overlap\n",
    "    if x_right < x_left or y_bottom < y_top:\n",
    "        return 0.0\n",
    "\n",
    "    # Calculate area of intersection rectangle\n",
    "    intersection_area = (x_right - x_left) * (y_bottom - y_top)\n",
    "\n",
    "    # Calculate area of both bounding boxes\n",
    "    box1_area = (box1[2] - box1[0]) * (box1[3] - box1[1])\n",
    "    box2_area = (box2[2] - box2[0]) * (box2[3] - box2[1])\n",
    "\n",
    "    # Calculate combined area\n",
    "    total_area = box1_area + box2_area - intersection_area\n",
    "\n",
    "    # Compute IoU\n",
    "    iou = intersection_area / total_area\n",
    "\n",
    "    return iou"
   ]
  },
  {
   "cell_type": "markdown",
   "metadata": {},
   "source": [
    "### Below we create our Dataset and DataLoaders for both our training loop and validation loop. Currently, both training and validation are in the same loop, and it's implementation is not yet sufficient for proper usage. Updates to come."
   ]
  },
  {
   "cell_type": "code",
   "execution_count": 18,
   "metadata": {},
   "outputs": [],
   "source": [
    "images_base_path = os.path.join(user_path_prefix, r\"3d-object-detection-for-autonomous-vehicles\\Train\\images\")\n",
    "\n",
    "#Training Dataset and DataLoader\n",
    "train_image_box_lookup_path = os.path.join(user_path_prefix, r\"3d-object-detection-for-autonomous-vehicles\\Train\\img_bx_lookup\\train_merged.json\")\n",
    "with open(train_image_box_lookup_path, \"r\") as file:\n",
    "    train_image_box_lookup = json.load(file)\n",
    "dataset_training_detection = Lyft_binary_object_detection_CustomDataset(train_image_box_lookup, images_base_path=images_base_path, transform=None, random_sample=None, positive_imgs_only=True)\n",
    "# Use the custom collate function in the DataLoader\n",
    "batch_size=10\n",
    "dataloader_training_detection = DataLoader(dataset_training_detection, batch_size=batch_size, collate_fn=collate_fn, shuffle=True)\n",
    "print(\"total number of training batches to anticipate: \", len(dataset_training_detection)/batch_size, \"Dataset total length: \", len(dataset_training_detection))\n",
    "\n",
    "\n",
    "#Validation Dataset and DataLoader\n",
    "validation_image_box_lookup_path = os.path.join(user_path_prefix, r\"3d-object-detection-for-autonomous-vehicles\\Train\\img_bx_lookup\\validation_merged.json\")\n",
    "with open(validation_image_box_lookup_path, \"r\") as file:\n",
    "    validation_image_box_lookup = json.load(file)\n",
    "dataset_validation_detection = Lyft_binary_object_detection_CustomDataset(validation_image_box_lookup, images_base_path=images_base_path, transform=None, random_sample=None, positive_imgs_only=True)\n",
    "# Use the custom collate function in the DataLoader\n",
    "batch_size=10\n",
    "dataloader_validation_detection = DataLoader(dataset_validation_detection, batch_size=batch_size, collate_fn=collate_fn, shuffle=True)\n",
    "print(\"total number of validation batches to anticipate: \", len(dataset_validation_detection)/batch_size, \"Dataset total length: \", len(dataset_validation_detection))"
   ]
  },
  {
   "cell_type": "markdown",
   "metadata": {},
   "source": [
    "## Train"
   ]
  },
  {
   "cell_type": "markdown",
   "metadata": {},
   "source": [
    "### If you find yourself unsure of how to interpret the loop below, while it is incomplete, you can defer to the \"train_resnet50_classification\" function under the Image Classification section. This approach is different, but similar in nature and has clearer code and explanations."
   ]
  },
  {
   "cell_type": "code",
   "execution_count": 19,
   "metadata": {},
   "outputs": [],
   "source": [
    "# Before starting your training loop\n",
    "torch.cuda.empty_cache()  # Clear cache if any\n",
    "\n",
    "# Training loop\n",
    "num_epochs = 5\n",
    "iou_threshold = 0.5\n",
    "optimizer = torch.optim.Adam(model_fastercnn.parameters(), lr=0.001)\n",
    "\n",
    "for epoch in range(num_epochs):\n",
    "    epoch_start_time = time.time()  # Start time for the epoch\n",
    "    model_fastercnn.train()  # Set model to training mode\n",
    "    running_loss = 0.0\n",
    "    total_true_positives = 0\n",
    "    total_false_positives = 0\n",
    "    total_false_negatives = 0\n",
    "    batch_i = 0\n",
    "\n",
    "    for images, targets in dataloader_training_detection:\n",
    "        batch_start_time = time.time()\n",
    "        print(\"On batch: \", batch_i)\n",
    "        batch_i += 1\n",
    "        \n",
    "        images = images.to(device)\n",
    "        targets_on_device = []\n",
    "        for target in targets:\n",
    "            target_on_device = {key: value.to(device) if isinstance(value, torch.Tensor) else value for key, value in target.items()}\n",
    "            targets_on_device.append(target_on_device)\n",
    "\n",
    "\n",
    "        # Forward pass\n",
    "        optimizer.zero_grad()  # Clear existing gradients\n",
    "        loss_dict = model_fastercnn(images, targets_on_device)  # Forward pass\n",
    "        losses = sum(loss for loss in loss_dict.values())  # Sum up all losses\n",
    "\n",
    "        # Backward pass and optimize\n",
    "        losses.backward()  # Compute gradients\n",
    "        optimizer.step()  # Update model parameters\n",
    "        running_loss += losses.item()\n",
    "        batch_duration = time.time() - batch_start_time  # Calculate duration for the batch\n",
    "        print(f'Batch Duration: {batch_duration:.2f} seconds')\n",
    "\n",
    "    # Evaluation mode for inference\n",
    "    model_fastercnn.eval()\n",
    "    inference_batch_i = 0\n",
    "    with torch.no_grad():\n",
    "        for images, targets in dataloader_validation_detection:\n",
    "            inference_batch_start_time = time.time()\n",
    "            print(\"On inference batch: \", inference_batch_i)\n",
    "            inference_batch_i += 1\n",
    "            \n",
    "            images = images.to(device)\n",
    "            predictions = model_fastercnn(images)\n",
    "            filenames = dataloader_validation_detection.dataset.file_names\n",
    "            try:\n",
    "                # Update the dictionary with predictions\n",
    "                for filename, target, prediction in zip(filenames, targets, predictions):\n",
    "                    predicted_boxes = prediction['boxes'].cpu().numpy().tolist()\n",
    "                    predicted_labels = prediction['labels'].cpu().numpy().tolist()\n",
    "                    print(\"predicted boxex: \", predicted_boxes)\n",
    "                    print(\"predicted labels: \", predicted_labels)\n",
    "\n",
    "                    if \"predicted_boxes\" in validation_image_box_lookup.keys():\n",
    "                        validation_image_box_lookup[filename]['predicted_boxes'].extend(predicted_boxes)\n",
    "                    else:\n",
    "                        validation_image_box_lookup[filename]['predicted_boxes'] = predicted_boxes\n",
    "                    if \"predicted_labels\" in validation_image_box_lookup.keys():\n",
    "                        validation_image_box_lookup[filename]['predicted_labels'].extend(predicted_labels)\n",
    "                    else:\n",
    "                        validation_image_box_lookup[filename]['predicted_labels'] = predicted_labels\n",
    "            except Exception as e:\n",
    "                print(f\"An error occurred: {e}\")\n",
    "\n",
    "            \n",
    "            #Calculate IoU\n",
    "            for target, prediction in zip(targets, predictions):\n",
    "                ground_truth_boxes = target[\"boxes\"]\n",
    "                predicted_boxes = prediction[\"boxes\"]\n",
    "\n",
    "                if len(predicted_boxes) > 0:\n",
    "                    iou = calculate_iou(predicted_boxes[0], ground_truth_boxes[0])\n",
    "\n",
    "                    if iou >= iou_threshold:\n",
    "                        total_true_positives += 1\n",
    "                    else:\n",
    "                        total_false_positives += 1\n",
    "                else:\n",
    "                    total_false_negatives += 1\n",
    "            \n",
    "            inference_batch_duration = time.time() - inference_batch_start_time  # Calculate duration for the batch\n",
    "            print(f'Inference Batch Duration: {inference_batch_duration:.2f} seconds')\n",
    "\n",
    "    # Calculate metrics after each epoch\n",
    "    precision = total_true_positives / (total_true_positives + total_false_positives) if (total_true_positives + total_false_positives) > 0 else 0\n",
    "    recall = total_true_positives / (total_true_positives + total_false_negatives) if (total_true_positives + total_false_negatives) > 0 else 0\n",
    "    f1_score = 2 * (precision * recall) / (precision + recall) if (precision + recall) > 0 else 0\n",
    "\n",
    "    model_fastercnn.train()  # Set back to training mode\n",
    "\n",
    "    epoch_loss = running_loss / len(dataloader_training_detection.dataset)\n",
    "    epoch_duration = time.time() - epoch_start_time  # Calculate duration for the epoch\n",
    "    print(f\"Epoch [{epoch+1}/{num_epochs}], Loss: {epoch_loss:.4f}, Precision: {precision:.4f}, Recall: {recall:.4f}, F1: {f1_score:.4f}, Duration: {epoch_duration:.2f} seconds\")\n",
    "\n",
    "    #Save after each epoch.\n",
    "    model_fastercnn_dict = model_fastercnn.state_dict()\n",
    "    # torch.save(model_fastercnn_dict, r\"S:\\MADS\\Capstone\\3d-object-detection-for-autonomous-vehicles\\Train\\models\\model_fastercnn_12_2_23_00_00\")\n",
    "\n",
    "    # It is Pytorch convention to save checkpoints of model states as '.pth' which is short of 'Pytorch'. This uses Python pickle module to serialize the data.\n",
    "    # For now, we simply append the time the model was saved to the end of its name to distinguish it. \n",
    "    current_time = time.localtime()\n",
    "    # Format the time in the desired format: \"day_month_year_hour_minute_second\"\n",
    "    time_str = time.strftime(\"%d_%m_%Y_%H_%M_%S\", current_time)\n",
    "\n",
    "    base_name = \"model_res50_batchsize\"\n",
    "    model_checkpoint_name = f\"{base_name}_{time_str}.pth\"\n",
    "    model_outpath = os.path.join(out_results_path, model_checkpoint_name)\n",
    "    torch.save(checkpoint, model_outpath)\n",
    "\n",
    "    #Output our resulting validation data dict with the predictions appended to it. Recall that this is the initial data dict that is read in in our dataset_training_detection.\n",
    "    predictions_filename = r\"validation_merged_w_predictions.json\"\n",
    "    predictions_output_path = os.path.join(validation_image_box_lookup_path, predictions_filename)\n",
    "    with open(predictions_output_path, \"w\") as outfile:\n",
    "        json.dump(validation_image_box_lookup, outfile)"
   ]
  },
  {
   "cell_type": "code",
   "execution_count": null,
   "metadata": {},
   "outputs": [],
   "source": []
  }
 ],
 "metadata": {
  "kernelspec": {
   "display_name": "ytorch_env",
   "language": "python",
   "name": "python3"
  },
  "language_info": {
   "codemirror_mode": {
    "name": "ipython",
    "version": 3
   },
   "file_extension": ".py",
   "mimetype": "text/x-python",
   "name": "python",
   "nbconvert_exporter": "python",
   "pygments_lexer": "ipython3",
   "version": "3.9.18"
  }
 },
 "nbformat": 4,
 "nbformat_minor": 2
}
